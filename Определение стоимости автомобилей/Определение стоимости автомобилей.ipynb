{
 "cells": [
  {
   "cell_type": "markdown",
   "metadata": {},
   "source": [
    "# Определение стоимости автомобилей"
   ]
  },
  {
   "cell_type": "markdown",
   "metadata": {},
   "source": [
    "Сервис по продаже автомобилей с пробегом «Не бит, не крашен» разрабатывает приложение для привлечения новых клиентов. В нём можно быстро узнать рыночную стоимость своего автомобиля. В вашем распоряжении исторические данные: технические характеристики, комплектации и цены автомобилей. Вам нужно построить модель для определения стоимости. \n",
    "\n",
    "Заказчику важны:\n",
    "\n",
    "- качество предсказания;\n",
    "- скорость предсказания;\n",
    "- время обучения."
   ]
  },
  {
   "cell_type": "markdown",
   "metadata": {},
   "source": [
    "## Подготовка данных"
   ]
  },
  {
   "cell_type": "markdown",
   "metadata": {},
   "source": [
    "Импортируем основные модули"
   ]
  },
  {
   "cell_type": "code",
   "execution_count": 1,
   "metadata": {},
   "outputs": [],
   "source": [
    "import pandas as pd\n",
    "import numpy as np\n",
    "import time\n",
    "\n",
    "from sklearn.preprocessing import OneHotEncoder, StandardScaler, LabelEncoder\n",
    "from sklearn.model_selection import train_test_split\n",
    "from sklearn.metrics import mean_squared_error as mse\n",
    "from sklearn.preprocessing import OrdinalEncoder\n",
    "from sklearn import preprocessing\n"
   ]
  },
  {
   "cell_type": "markdown",
   "metadata": {},
   "source": [
    "Импортируем дополнительные модули "
   ]
  },
  {
   "cell_type": "code",
   "execution_count": 2,
   "metadata": {},
   "outputs": [],
   "source": [
    "\n",
    "from tqdm.notebook import tqdm #Некоторые ячейки выполняются довольно долго, так что добавим полосу прогресса"
   ]
  },
  {
   "cell_type": "markdown",
   "metadata": {},
   "source": [
    "Импортируем модели, не являющиеся бустингом"
   ]
  },
  {
   "cell_type": "code",
   "execution_count": 3,
   "metadata": {},
   "outputs": [],
   "source": [
    "from sklearn.linear_model import LinearRegression\n",
    "from sklearn.tree import DecisionTreeRegressor\n",
    "from sklearn.ensemble import RandomForestRegressor"
   ]
  },
  {
   "cell_type": "markdown",
   "metadata": {},
   "source": [
    "Импортируем бустинги"
   ]
  },
  {
   "cell_type": "code",
   "execution_count": 4,
   "metadata": {},
   "outputs": [],
   "source": [
    "from lightgbm import LGBMRegressor\n",
    "from catboost import CatBoostRegressor"
   ]
  },
  {
   "cell_type": "markdown",
   "metadata": {},
   "source": [
    "Загружаем данные"
   ]
  },
  {
   "cell_type": "code",
   "execution_count": 5,
   "metadata": {},
   "outputs": [],
   "source": [
    "try:\n",
    "    df = pd.read_csv('/datasets/autos.csv')\n",
    "except:\n",
    "    df = pd.read_csv('https://code.s3.yandex.net/datasets/autos.csv')"
   ]
  },
  {
   "cell_type": "markdown",
   "metadata": {},
   "source": [
    "Смотрим info"
   ]
  },
  {
   "cell_type": "code",
   "execution_count": 6,
   "metadata": {},
   "outputs": [
    {
     "name": "stdout",
     "output_type": "stream",
     "text": [
      "<class 'pandas.core.frame.DataFrame'>\n",
      "RangeIndex: 354369 entries, 0 to 354368\n",
      "Data columns (total 16 columns):\n",
      " #   Column             Non-Null Count   Dtype \n",
      "---  ------             --------------   ----- \n",
      " 0   DateCrawled        354369 non-null  object\n",
      " 1   Price              354369 non-null  int64 \n",
      " 2   VehicleType        316879 non-null  object\n",
      " 3   RegistrationYear   354369 non-null  int64 \n",
      " 4   Gearbox            334536 non-null  object\n",
      " 5   Power              354369 non-null  int64 \n",
      " 6   Model              334664 non-null  object\n",
      " 7   Kilometer          354369 non-null  int64 \n",
      " 8   RegistrationMonth  354369 non-null  int64 \n",
      " 9   FuelType           321474 non-null  object\n",
      " 10  Brand              354369 non-null  object\n",
      " 11  Repaired           283215 non-null  object\n",
      " 12  DateCreated        354369 non-null  object\n",
      " 13  NumberOfPictures   354369 non-null  int64 \n",
      " 14  PostalCode         354369 non-null  int64 \n",
      " 15  LastSeen           354369 non-null  object\n",
      "dtypes: int64(7), object(9)\n",
      "memory usage: 43.3+ MB\n"
     ]
    }
   ],
   "source": [
    "df.info()"
   ]
  },
  {
   "cell_type": "markdown",
   "metadata": {},
   "source": [
    "<b>Признаки</b>\n",
    " - DateCrawled — дата скачивания анкеты из базы\n",
    " - VehicleType — тип автомобильного кузова\n",
    " - RegistrationYear — год регистрации автомобиля\n",
    " - Gearbox — тип коробки передач\n",
    " - Power — мощность (л. с.)\n",
    " - Model — модель автомобиля\n",
    " - Kilometer — пробег (км)\n",
    " - RegistrationMonth — месяц регистрации автомобиля\n",
    " - FuelType — тип топлива\n",
    " - Brand — марка автомобиля\n",
    " - Repaired — была машина в ремонте или нет\n",
    " - DateCreated — дата создания анкеты\n",
    " - NumberOfPictures — количество фотографий автомобиля\n",
    " - PostalCode — почтовый индекс владельца анкеты (пользователя)\n",
    " - LastSeen — дата последней активности пользователя\n",
    " \n",
    "<b>Целевой признак</b>\n",
    " - Price — цена (евро)"
   ]
  },
  {
   "cell_type": "markdown",
   "metadata": {},
   "source": [
    "<b>DateCrawled, LastSeen</b> и<b> DateCreated</b> имеет тип <i>object</i>. Это дата скачивания анкеты из базы, дата последней активности пользователя и дата создания анкеты. Очевидно, эти признаки не влияют на потенциальную стоимость автомобиля или же влияют незначительно. Так же не влияет <b>PostalCode</b>. Их можно удалить."
   ]
  },
  {
   "cell_type": "code",
   "execution_count": 7,
   "metadata": {},
   "outputs": [],
   "source": [
    "df.drop(columns = ['DateCrawled', 'DateCreated', 'LastSeen', 'PostalCode'], inplace=True)\n"
   ]
  },
  {
   "cell_type": "code",
   "execution_count": 8,
   "metadata": {},
   "outputs": [
    {
     "data": {
      "text/plain": [
       "0"
      ]
     },
     "execution_count": 8,
     "metadata": {},
     "output_type": "execute_result"
    }
   ],
   "source": [
    "df['NumberOfPictures'].sum()"
   ]
  },
  {
   "cell_type": "markdown",
   "metadata": {},
   "source": [
    "Мы видим, что <b>NumberOfPictures</b> имеет ноль во всех строчках, т.к. суммарное количество ноль, так что тоже убираем."
   ]
  },
  {
   "cell_type": "code",
   "execution_count": 9,
   "metadata": {},
   "outputs": [
    {
     "name": "stdout",
     "output_type": "stream",
     "text": [
      "<class 'pandas.core.frame.DataFrame'>\n",
      "RangeIndex: 354369 entries, 0 to 354368\n",
      "Data columns (total 11 columns):\n",
      " #   Column             Non-Null Count   Dtype \n",
      "---  ------             --------------   ----- \n",
      " 0   Price              354369 non-null  int64 \n",
      " 1   VehicleType        316879 non-null  object\n",
      " 2   RegistrationYear   354369 non-null  int64 \n",
      " 3   Gearbox            334536 non-null  object\n",
      " 4   Power              354369 non-null  int64 \n",
      " 5   Model              334664 non-null  object\n",
      " 6   Kilometer          354369 non-null  int64 \n",
      " 7   RegistrationMonth  354369 non-null  int64 \n",
      " 8   FuelType           321474 non-null  object\n",
      " 9   Brand              354369 non-null  object\n",
      " 10  Repaired           283215 non-null  object\n",
      "dtypes: int64(5), object(6)\n",
      "memory usage: 29.7+ MB\n"
     ]
    }
   ],
   "source": [
    "df.drop(columns = ['NumberOfPictures'], inplace=True)\n",
    "df.info()\n"
   ]
  },
  {
   "cell_type": "markdown",
   "metadata": {},
   "source": [
    "Проверка на дубликаты"
   ]
  },
  {
   "cell_type": "code",
   "execution_count": 10,
   "metadata": {
    "scrolled": true
   },
   "outputs": [
    {
     "data": {
      "text/plain": [
       "27543"
      ]
     },
     "execution_count": 10,
     "metadata": {},
     "output_type": "execute_result"
    }
   ],
   "source": [
    "df.duplicated().sum()"
   ]
  },
  {
   "cell_type": "markdown",
   "metadata": {},
   "source": [
    "Удаляем явные дубликаты"
   ]
  },
  {
   "cell_type": "code",
   "execution_count": 11,
   "metadata": {},
   "outputs": [],
   "source": [
    "df.drop_duplicates(inplace=True)"
   ]
  },
  {
   "cell_type": "markdown",
   "metadata": {},
   "source": [
    "Смотрим пропуски"
   ]
  },
  {
   "cell_type": "code",
   "execution_count": 12,
   "metadata": {},
   "outputs": [
    {
     "data": {
      "text/plain": [
       "Price                    0\n",
       "VehicleType          35249\n",
       "RegistrationYear         0\n",
       "Gearbox              17578\n",
       "Power                    0\n",
       "Model                18532\n",
       "Kilometer                0\n",
       "RegistrationMonth        0\n",
       "FuelType             31122\n",
       "Brand                    0\n",
       "Repaired             66427\n",
       "dtype: int64"
      ]
     },
     "execution_count": 12,
     "metadata": {},
     "output_type": "execute_result"
    }
   ],
   "source": [
    "df.isna().sum()"
   ]
  },
  {
   "cell_type": "markdown",
   "metadata": {},
   "source": [
    "Мы можем видеть, что пропуски только в категориальных переменных. Запишем их как <i>unknown</i>. Для начала выделим категориальные переменные и затем заполним пропуски."
   ]
  },
  {
   "cell_type": "code",
   "execution_count": 13,
   "metadata": {},
   "outputs": [
    {
     "data": {
      "text/plain": [
       "Price                0\n",
       "VehicleType          0\n",
       "RegistrationYear     0\n",
       "Gearbox              0\n",
       "Power                0\n",
       "Model                0\n",
       "Kilometer            0\n",
       "RegistrationMonth    0\n",
       "FuelType             0\n",
       "Brand                0\n",
       "Repaired             0\n",
       "dtype: int64"
      ]
     },
     "execution_count": 13,
     "metadata": {},
     "output_type": "execute_result"
    }
   ],
   "source": [
    "cat_columns = ['VehicleType', 'Gearbox', 'Model', 'FuelType', 'Brand', 'Repaired']\n",
    "df[cat_columns] = df[cat_columns].fillna('unknown')\n",
    "df.isna().sum()"
   ]
  },
  {
   "cell_type": "markdown",
   "metadata": {},
   "source": [
    "### Работа с выбросами\n",
    "Рассмотрим количественные признаки"
   ]
  },
  {
   "cell_type": "code",
   "execution_count": 14,
   "metadata": {},
   "outputs": [
    {
     "data": {
      "image/png": "[encoded data removed]",
      "text/plain": [
       "<Figure size 864x720 with 6 Axes>"
      ]
     },
     "metadata": {
      "needs_background": "light"
     },
     "output_type": "display_data"
    }
   ],
   "source": [
    "numeric = ['Price', 'RegistrationYear', 'Power', 'Kilometer', 'RegistrationMonth']\n",
    "df[numeric].hist(bins = 50, figsize = (12, 10));"
   ]
  },
  {
   "cell_type": "markdown",
   "metadata": {},
   "source": [
    "Мы видим проблемы в переменных Power и Price. В переменной Price есть автомобили с нулевой и близкой стоимости, в переменной Power есть очень большие и очень маленькие значения. "
   ]
  },
  {
   "cell_type": "code",
   "execution_count": 15,
   "metadata": {},
   "outputs": [
    {
     "data": {
      "image/png": "[encoded data removed]",
      "text/plain": [
       "<Figure size 432x288 with 1 Axes>"
      ]
     },
     "metadata": {
      "needs_background": "light"
     },
     "output_type": "display_data"
    }
   ],
   "source": [
    "df.boxplot(column = 'Power');"
   ]
  },
  {
   "cell_type": "code",
   "execution_count": 16,
   "metadata": {},
   "outputs": [
    {
     "data": {
      "text/plain": [
       "count    326826.000000\n",
       "mean        110.244705\n",
       "std         195.886373\n",
       "min           0.000000\n",
       "25%          69.000000\n",
       "50%         105.000000\n",
       "75%         141.000000\n",
       "max       20000.000000\n",
       "Name: Power, dtype: float64"
      ]
     },
     "execution_count": 16,
     "metadata": {},
     "output_type": "execute_result"
    }
   ],
   "source": [
    "df['Power'].describe()"
   ]
  },
  {
   "cell_type": "markdown",
   "metadata": {},
   "source": [
    "Малое количество автомобилей имеют мощность меньше 50 л.с., максимальное значение в районе 2500. Заменим выбивающиеся значения медианой."
   ]
  },
  {
   "cell_type": "code",
   "execution_count": 17,
   "metadata": {},
   "outputs": [
    {
     "data": {
      "text/plain": [
       "count    326826.000000\n",
       "mean        120.444799\n",
       "std          62.442105\n",
       "min          50.000000\n",
       "25%          88.000000\n",
       "50%         105.000000\n",
       "75%         141.000000\n",
       "max        2461.000000\n",
       "Name: Power, dtype: float64"
      ]
     },
     "execution_count": 17,
     "metadata": {},
     "output_type": "execute_result"
    },
    {
     "data": {
      "image/png": "[encoded data removed]",
      "text/plain": [
       "<Figure size 432x288 with 1 Axes>"
      ]
     },
     "metadata": {
      "needs_background": "light"
     },
     "output_type": "display_data"
    }
   ],
   "source": [
    "df.loc[ (df['Power'] < 50)|(df['Power'] > 2500), 'Power'] = df['Power'].median()\n",
    "df.boxplot(column = 'Power');\n",
    "df['Power'].describe()"
   ]
  },
  {
   "cell_type": "markdown",
   "metadata": {},
   "source": [
    "<font color='blue'><b>Комментарий ревьюера 2: </b></font> ✔️\\\n",
    "<font color='green'>👍</font>"
   ]
  },
  {
   "cell_type": "markdown",
   "metadata": {},
   "source": [
    "Цена - целевой признак. Мы не можем делать замену, потому придётся удалить нереалистичные значения."
   ]
  },
  {
   "cell_type": "code",
   "execution_count": 18,
   "metadata": {},
   "outputs": [
    {
     "data": {
      "text/plain": [
       "(count    326826.000000\n",
       " mean       4403.747330\n",
       " std        4518.209808\n",
       " min           0.000000\n",
       " 25%        1000.000000\n",
       " 50%        2700.000000\n",
       " 75%        6350.000000\n",
       " max       20000.000000\n",
       " Name: Price, dtype: float64,\n",
       " 326826)"
      ]
     },
     "execution_count": 18,
     "metadata": {},
     "output_type": "execute_result"
    }
   ],
   "source": [
    "df['Price'].describe(), len(df)"
   ]
  },
  {
   "cell_type": "code",
   "execution_count": 19,
   "metadata": {
    "scrolled": true
   },
   "outputs": [
    {
     "data": {
      "text/plain": [
       "(count    293333.000000\n",
       " mean       4883.967672\n",
       " std        4526.767511\n",
       " min         500.000000\n",
       " 25%        1490.000000\n",
       " 50%        3200.000000\n",
       " 75%        6950.000000\n",
       " max       20000.000000\n",
       " Name: Price, dtype: float64,\n",
       " 293333)"
      ]
     },
     "execution_count": 19,
     "metadata": {},
     "output_type": "execute_result"
    }
   ],
   "source": [
    "df = df.query('Price >= 500')\n",
    "df['Price'].describe(), len(df)"
   ]
  },
  {
   "cell_type": "markdown",
   "metadata": {},
   "source": [
    "Проверяем на всякий случай год"
   ]
  },
  {
   "cell_type": "code",
   "execution_count": 20,
   "metadata": {},
   "outputs": [
    {
     "data": {
      "text/plain": [
       "count    293333.000000\n",
       "mean       2004.167012\n",
       "std          67.295587\n",
       "min        1000.000000\n",
       "25%        1999.000000\n",
       "50%        2004.000000\n",
       "75%        2008.000000\n",
       "max        9999.000000\n",
       "Name: RegistrationYear, dtype: float64"
      ]
     },
     "execution_count": 20,
     "metadata": {},
     "output_type": "execute_result"
    }
   ],
   "source": [
    "df['RegistrationYear'].describe()"
   ]
  },
  {
   "cell_type": "markdown",
   "metadata": {},
   "source": [
    "Здесь также есть нереалистичные значения. Скорее всего эта переменная не так важна, мы можем заменить на значени 2004 те, что выбиваются за рамки."
   ]
  },
  {
   "cell_type": "code",
   "execution_count": 21,
   "metadata": {},
   "outputs": [
    {
     "data": {
      "text/plain": [
       "count    293333.00000\n",
       "mean       2003.79059\n",
       "std           6.42583\n",
       "min        1980.00000\n",
       "25%        2000.00000\n",
       "50%        2004.00000\n",
       "75%        2008.00000\n",
       "max        2019.00000\n",
       "Name: RegistrationYear, dtype: float64"
      ]
     },
     "execution_count": 21,
     "metadata": {},
     "output_type": "execute_result"
    }
   ],
   "source": [
    "df.loc[ (df['RegistrationYear'] < 1980)|(df['RegistrationYear'] > 2020), 'RegistrationYear'] = 2004\n",
    "df['RegistrationYear'].describe()"
   ]
  },
  {
   "cell_type": "markdown",
   "metadata": {},
   "source": [
    "### Кодируем категориальные переменные"
   ]
  },
  {
   "cell_type": "code",
   "execution_count": 22,
   "metadata": {},
   "outputs": [
    {
     "name": "stdout",
     "output_type": "stream",
     "text": [
      "58667\n"
     ]
    }
   ],
   "source": [
    "df_enc = df.copy()\n",
    "enc_all, enc_valid, enc_test = np.split(df_enc.sample(frac=1, random_state=42),\n",
    "                       [int(.6*len(df)), int(.8*len(df))])\n",
    "\n",
    "print(len(enc_valid))"
   ]
  },
  {
   "cell_type": "code",
   "execution_count": 23,
   "metadata": {},
   "outputs": [
    {
     "data": {
      "text/html": [
       "<div>\n",
       "<style scoped>\n",
       "    .dataframe tbody tr th:only-of-type {\n",
       "        vertical-align: middle;\n",
       "    }\n",
       "\n",
       "    .dataframe tbody tr th {\n",
       "        vertical-align: top;\n",
       "    }\n",
       "\n",
       "    .dataframe thead th {\n",
       "        text-align: right;\n",
       "    }\n",
       "</style>\n",
       "<table border=\"1\" class=\"dataframe\">\n",
       "  <thead>\n",
       "    <tr style=\"text-align: right;\">\n",
       "      <th></th>\n",
       "      <th>Price</th>\n",
       "      <th>VehicleType</th>\n",
       "      <th>RegistrationYear</th>\n",
       "      <th>Gearbox</th>\n",
       "      <th>Power</th>\n",
       "      <th>Model</th>\n",
       "      <th>Kilometer</th>\n",
       "      <th>RegistrationMonth</th>\n",
       "      <th>FuelType</th>\n",
       "      <th>Brand</th>\n",
       "      <th>Repaired</th>\n",
       "    </tr>\n",
       "  </thead>\n",
       "  <tbody>\n",
       "    <tr>\n",
       "      <th>42970</th>\n",
       "      <td>11990</td>\n",
       "      <td>0.0</td>\n",
       "      <td>2009</td>\n",
       "      <td>1.0</td>\n",
       "      <td>241.0</td>\n",
       "      <td>249.0</td>\n",
       "      <td>125000</td>\n",
       "      <td>4</td>\n",
       "      <td>6.0</td>\n",
       "      <td>24.0</td>\n",
       "      <td>0.0</td>\n",
       "    </tr>\n",
       "    <tr>\n",
       "      <th>108774</th>\n",
       "      <td>4850</td>\n",
       "      <td>4.0</td>\n",
       "      <td>2001</td>\n",
       "      <td>1.0</td>\n",
       "      <td>192.0</td>\n",
       "      <td>11.0</td>\n",
       "      <td>150000</td>\n",
       "      <td>9</td>\n",
       "      <td>6.0</td>\n",
       "      <td>2.0</td>\n",
       "      <td>0.0</td>\n",
       "    </tr>\n",
       "  </tbody>\n",
       "</table>\n",
       "</div>"
      ],
      "text/plain": [
       "        Price  VehicleType  RegistrationYear  Gearbox  Power  Model  \\\n",
       "42970   11990          0.0              2009      1.0  241.0  249.0   \n",
       "108774   4850          4.0              2001      1.0  192.0   11.0   \n",
       "\n",
       "        Kilometer  RegistrationMonth  FuelType  Brand  Repaired  \n",
       "42970      125000                  4       6.0   24.0       0.0  \n",
       "108774     150000                  9       6.0    2.0       0.0  "
      ]
     },
     "execution_count": 23,
     "metadata": {},
     "output_type": "execute_result"
    }
   ],
   "source": [
    "enc = OrdinalEncoder(handle_unknown='use_encoded_value', unknown_value=-1)\n",
    "enc.fit(enc_all[cat_columns])\n",
    "\n",
    "enc_all[cat_columns] = enc.transform(enc_all[cat_columns])\n",
    "enc_valid[cat_columns] = enc.transform(enc_valid[cat_columns])\n",
    "enc_test[cat_columns] = enc.transform(enc_test[cat_columns])\n",
    "\n",
    "enc_all.head(2)"
   ]
  },
  {
   "cell_type": "markdown",
   "metadata": {},
   "source": [
    "Разбиваем датасект на обучующую и тестовую выборки # На фичи и таргеты."
   ]
  },
  {
   "cell_type": "code",
   "execution_count": 24,
   "metadata": {},
   "outputs": [
    {
     "name": "stdout",
     "output_type": "stream",
     "text": [
      "175999 58667 58667\n",
      "175999 58667 58667\n"
     ]
    }
   ],
   "source": [
    "X = df_enc.drop(columns=['Price'])\n",
    "y = df_enc.Price\n",
    "\n",
    "X_train = enc_all.drop(columns=['Price'])\n",
    "y_train = enc_all.Price\n",
    "\n",
    "X_valid = enc_valid.drop(columns=['Price'])\n",
    "y_valid = enc_valid.Price\n",
    "\n",
    "X_test = enc_test.drop(columns=['Price'])\n",
    "y_test = enc_test.Price\n",
    "\n",
    "print(len(X_train),len(X_valid),len(X_test))\n",
    "print(len(y_train),len(y_valid),len(y_test))\n"
   ]
  },
  {
   "cell_type": "markdown",
   "metadata": {},
   "source": [
    "Нормализуем выборку"
   ]
  },
  {
   "cell_type": "code",
   "execution_count": 25,
   "metadata": {},
   "outputs": [],
   "source": [
    "numeric = ['RegistrationYear', 'Power', 'Kilometer', 'RegistrationMonth']\n",
    "scaler = StandardScaler()\n",
    "scaler.fit(X_train[numeric])\n",
    "X_train[numeric] = scaler.transform(X_train[numeric])\n",
    "X_valid[numeric] = scaler.transform(X_valid[numeric])\n",
    "X_test[numeric] = scaler.transform(X_test[numeric])"
   ]
  },
  {
   "cell_type": "markdown",
   "metadata": {},
   "source": [
    "## Обучение моделей"
   ]
  },
  {
   "cell_type": "markdown",
   "metadata": {},
   "source": [
    "### Модели, не являющиеся бустингом"
   ]
  },
  {
   "cell_type": "markdown",
   "metadata": {},
   "source": [
    "Сначала проверим модели, которые НЕ являются градиентным бустингом"
   ]
  },
  {
   "cell_type": "markdown",
   "metadata": {},
   "source": [
    "#### Linear Regressian"
   ]
  },
  {
   "cell_type": "code",
   "execution_count": 26,
   "metadata": {},
   "outputs": [
    {
     "data": {
      "text/html": [
       "<div>\n",
       "<style scoped>\n",
       "    .dataframe tbody tr th:only-of-type {\n",
       "        vertical-align: middle;\n",
       "    }\n",
       "\n",
       "    .dataframe tbody tr th {\n",
       "        vertical-align: top;\n",
       "    }\n",
       "\n",
       "    .dataframe thead th {\n",
       "        text-align: right;\n",
       "    }\n",
       "</style>\n",
       "<table border=\"1\" class=\"dataframe\">\n",
       "  <thead>\n",
       "    <tr style=\"text-align: right;\">\n",
       "      <th></th>\n",
       "      <th>Price</th>\n",
       "      <th>RegistrationYear</th>\n",
       "      <th>Power</th>\n",
       "      <th>Kilometer</th>\n",
       "      <th>RegistrationMonth</th>\n",
       "      <th>VehicleType_convertible</th>\n",
       "      <th>VehicleType_coupe</th>\n",
       "      <th>VehicleType_other</th>\n",
       "      <th>VehicleType_sedan</th>\n",
       "      <th>VehicleType_small</th>\n",
       "      <th>...</th>\n",
       "      <th>Brand_smart</th>\n",
       "      <th>Brand_sonstige_autos</th>\n",
       "      <th>Brand_subaru</th>\n",
       "      <th>Brand_suzuki</th>\n",
       "      <th>Brand_toyota</th>\n",
       "      <th>Brand_trabant</th>\n",
       "      <th>Brand_volkswagen</th>\n",
       "      <th>Brand_volvo</th>\n",
       "      <th>Repaired_unknown</th>\n",
       "      <th>Repaired_yes</th>\n",
       "    </tr>\n",
       "  </thead>\n",
       "  <tbody>\n",
       "    <tr>\n",
       "      <th>1</th>\n",
       "      <td>18300</td>\n",
       "      <td>2011</td>\n",
       "      <td>190.0</td>\n",
       "      <td>125000</td>\n",
       "      <td>5</td>\n",
       "      <td>0</td>\n",
       "      <td>1</td>\n",
       "      <td>0</td>\n",
       "      <td>0</td>\n",
       "      <td>0</td>\n",
       "      <td>...</td>\n",
       "      <td>0</td>\n",
       "      <td>0</td>\n",
       "      <td>0</td>\n",
       "      <td>0</td>\n",
       "      <td>0</td>\n",
       "      <td>0</td>\n",
       "      <td>0</td>\n",
       "      <td>0</td>\n",
       "      <td>0</td>\n",
       "      <td>1</td>\n",
       "    </tr>\n",
       "    <tr>\n",
       "      <th>2</th>\n",
       "      <td>9800</td>\n",
       "      <td>2004</td>\n",
       "      <td>163.0</td>\n",
       "      <td>125000</td>\n",
       "      <td>8</td>\n",
       "      <td>0</td>\n",
       "      <td>0</td>\n",
       "      <td>0</td>\n",
       "      <td>0</td>\n",
       "      <td>0</td>\n",
       "      <td>...</td>\n",
       "      <td>0</td>\n",
       "      <td>0</td>\n",
       "      <td>0</td>\n",
       "      <td>0</td>\n",
       "      <td>0</td>\n",
       "      <td>0</td>\n",
       "      <td>0</td>\n",
       "      <td>0</td>\n",
       "      <td>1</td>\n",
       "      <td>0</td>\n",
       "    </tr>\n",
       "  </tbody>\n",
       "</table>\n",
       "<p>2 rows × 313 columns</p>\n",
       "</div>"
      ],
      "text/plain": [
       "   Price  RegistrationYear  Power  Kilometer  RegistrationMonth  \\\n",
       "1  18300              2011  190.0     125000                  5   \n",
       "2   9800              2004  163.0     125000                  8   \n",
       "\n",
       "   VehicleType_convertible  VehicleType_coupe  VehicleType_other  \\\n",
       "1                        0                  1                  0   \n",
       "2                        0                  0                  0   \n",
       "\n",
       "   VehicleType_sedan  VehicleType_small  ...  Brand_smart  \\\n",
       "1                  0                  0  ...            0   \n",
       "2                  0                  0  ...            0   \n",
       "\n",
       "   Brand_sonstige_autos  Brand_subaru  Brand_suzuki  Brand_toyota  \\\n",
       "1                     0             0             0             0   \n",
       "2                     0             0             0             0   \n",
       "\n",
       "   Brand_trabant  Brand_volkswagen  Brand_volvo  Repaired_unknown  \\\n",
       "1              0                 0            0                 0   \n",
       "2              0                 0            0                 1   \n",
       "\n",
       "   Repaired_yes  \n",
       "1             1  \n",
       "2             0  \n",
       "\n",
       "[2 rows x 313 columns]"
      ]
     },
     "execution_count": 26,
     "metadata": {},
     "output_type": "execute_result"
    }
   ],
   "source": [
    "df_lin = df.copy()\n",
    "\n",
    "df_lin = pd.get_dummies(df_lin, drop_first=True)\n",
    "df_lin.head(2)"
   ]
  },
  {
   "cell_type": "code",
   "execution_count": 27,
   "metadata": {},
   "outputs": [
    {
     "name": "stdout",
     "output_type": "stream",
     "text": [
      "175999 58667 58667\n",
      "175999 58667 58667\n"
     ]
    }
   ],
   "source": [
    "Xlin = df_lin.drop(columns=['Price'])\n",
    "ylin = df_lin.Price\n",
    "Xlin_train, Xlin_valid, Xlin_test = \\\n",
    "              np.split(Xlin.sample(frac=1, random_state=42),\n",
    "                       [int(.6*len(df)), int(.8*len(df))])\n",
    "print(len(Xlin_train),len(Xlin_valid),len(Xlin_test))\n",
    "\n",
    "ylin_train, ylin_valid, ylin_test = \\\n",
    "              np.split(ylin.sample(frac=1, random_state=42),\n",
    "                       [int(.6*len(df)), int(.8*len(df))])\n",
    "print(len(ylin_train),len(ylin_valid),len(ylin_test))"
   ]
  },
  {
   "cell_type": "code",
   "execution_count": 28,
   "metadata": {},
   "outputs": [],
   "source": [
    "numeric = ['RegistrationYear', 'Power', 'Kilometer', 'RegistrationMonth']\n",
    "scaler = StandardScaler()\n",
    "scaler.fit(Xlin_train[numeric])\n",
    "Xlin_train[numeric] = scaler.transform(Xlin_train[numeric])\n",
    "Xlin_valid[numeric] = scaler.transform(Xlin_valid[numeric])\n",
    "Xlin_test[numeric] = scaler.transform(Xlin_test[numeric])"
   ]
  },
  {
   "cell_type": "code",
   "execution_count": 29,
   "metadata": {},
   "outputs": [
    {
     "name": "stdout",
     "output_type": "stream",
     "text": [
      "CPU times: user 12.1 s, sys: 4.31 s, total: 16.5 s\n",
      "Wall time: 16.5 s\n"
     ]
    },
    {
     "data": {
      "text/plain": [
       "2620.256115988209"
      ]
     },
     "execution_count": 29,
     "metadata": {},
     "output_type": "execute_result"
    }
   ],
   "source": [
    "%%time\n",
    "\n",
    "\n",
    "linear = LinearRegression()\n",
    "\n",
    "now = time.time()\n",
    "linear.fit(Xlin_train, ylin_train)\n",
    "linear_train_time = time.time() - now\n",
    "\n",
    "now = time.time()\n",
    "pred = linear.predict(Xlin_valid)\n",
    "linear_pred_time = time.time() - now\n",
    "\n",
    "rmse_linear = mse(ylin_valid, pred)**0.5\n",
    "rmse_linear"
   ]
  },
  {
   "cell_type": "markdown",
   "metadata": {},
   "source": [
    "#### DecisionTreeRegressor"
   ]
  },
  {
   "cell_type": "code",
   "execution_count": 30,
   "metadata": {
    "scrolled": true
   },
   "outputs": [
    {
     "data": {
      "application/vnd.jupyter.widget-view+json": {
       "model_id": "159df1d8eaa44f2ebcbc9b57a0d297a8",
       "version_major": 2,
       "version_minor": 0
      },
      "text/plain": [
       "  0%|          | 0/3 [00:00<?, ?it/s]"
      ]
     },
     "metadata": {},
     "output_type": "display_data"
    },
    {
     "data": {
      "application/vnd.jupyter.widget-view+json": {
       "model_id": "e75aaef1c96042a9b895db154a5ef5c1",
       "version_major": 2,
       "version_minor": 0
      },
      "text/plain": [
       "  0%|          | 0/2 [00:00<?, ?it/s]"
      ]
     },
     "metadata": {},
     "output_type": "display_data"
    },
    {
     "data": {
      "application/vnd.jupyter.widget-view+json": {
       "model_id": "5806099484ab47e59529dd5c0f033802",
       "version_major": 2,
       "version_minor": 0
      },
      "text/plain": [
       "  0%|          | 0/2 [00:00<?, ?it/s]"
      ]
     },
     "metadata": {},
     "output_type": "display_data"
    },
    {
     "data": {
      "application/vnd.jupyter.widget-view+json": {
       "model_id": "1c66e43d30d040d3aa7f0c950dfa0e9c",
       "version_major": 2,
       "version_minor": 0
      },
      "text/plain": [
       "  0%|          | 0/2 [00:00<?, ?it/s]"
      ]
     },
     "metadata": {},
     "output_type": "display_data"
    },
    {
     "name": "stdout",
     "output_type": "stream",
     "text": [
      "DecisionTreeRegressor(max_depth=15, min_samples_leaf=10, random_state=42) 1964.0230615523215\n",
      "CPU times: user 2.21 s, sys: 101 ms, total: 2.32 s\n",
      "Wall time: 2.49 s\n"
     ]
    }
   ],
   "source": [
    "%%time\n",
    "\n",
    "\n",
    "rmse_tree = 0\n",
    "tree = None\n",
    "for depth in tqdm(range(5, 16 ,5)):\n",
    "    for leaf in tqdm(range(5, 11, 5)):\n",
    "        model = DecisionTreeRegressor(max_depth=depth, min_samples_leaf = leaf, random_state=42)\n",
    "        \n",
    "        now = time.time() #Запоминаем время начала обучения\n",
    "        model.fit(X_train, y_train)\n",
    "        model_train_time = time.time() - now #Записываем время обучения модели в отдельную переменную\n",
    "        \n",
    "        now = time.time() #Запоминаем время начала предсказания\n",
    "        pred = model.predict(X_valid)\n",
    "        model_pred_time = time.time() - now #Записываем время предсказания модели в отдельную переменную\n",
    "        \n",
    "        rmse = mse(y_valid, pred)**0.5\n",
    "        \n",
    "        if rmse <= rmse_tree or rmse_tree == 0: #Подбираем лучшую модель: если RMSE < RMSE первой модели, то запоминаем\n",
    "            tree = model\n",
    "            rmse_tree = rmse\n",
    "            tree_train_time = model_train_time #Записываем в переменную время для ЛУЧШЕЙ модели\n",
    "            tree_pred_time = model_pred_time #Записываем в переменную время для ЛУЧШЕЙ модели\n",
    "            \n",
    "print(tree, rmse_tree)\n",
    "\n"
   ]
  },
  {
   "cell_type": "markdown",
   "metadata": {},
   "source": [
    "#### RandomForestRegressor"
   ]
  },
  {
   "cell_type": "code",
   "execution_count": 31,
   "metadata": {},
   "outputs": [
    {
     "data": {
      "application/vnd.jupyter.widget-view+json": {
       "model_id": "6bd547d84e0a4faeab37ec712468f744",
       "version_major": 2,
       "version_minor": 0
      },
      "text/plain": [
       "  0%|          | 0/2 [00:00<?, ?it/s]"
      ]
     },
     "metadata": {},
     "output_type": "display_data"
    },
    {
     "data": {
      "application/vnd.jupyter.widget-view+json": {
       "model_id": "7d9f94a6dc8b47e49670a910b3192f6f",
       "version_major": 2,
       "version_minor": 0
      },
      "text/plain": [
       "  0%|          | 0/2 [00:00<?, ?it/s]"
      ]
     },
     "metadata": {},
     "output_type": "display_data"
    },
    {
     "data": {
      "application/vnd.jupyter.widget-view+json": {
       "model_id": "03c76223d07e4f4d8f1cbdd1f0fe0135",
       "version_major": 2,
       "version_minor": 0
      },
      "text/plain": [
       "  0%|          | 0/2 [00:00<?, ?it/s]"
      ]
     },
     "metadata": {},
     "output_type": "display_data"
    },
    {
     "name": "stdout",
     "output_type": "stream",
     "text": [
      "RandomForestRegressor(max_depth=15, n_estimators=15, random_state=42) 1796.5562779995953\n",
      "CPU times: user 15.3 s, sys: 147 ms, total: 15.4 s\n",
      "Wall time: 15.5 s\n"
     ]
    }
   ],
   "source": [
    "%%time\n",
    "\n",
    "\n",
    "rmse_forest = 0\n",
    "forest = None\n",
    "\n",
    "for depth in tqdm(range(10,16,5)):\n",
    "    for est in tqdm(range(10,16,5)):\n",
    "        model = RandomForestRegressor(max_depth=depth, n_estimators=est, random_state=42)\n",
    "        \n",
    "        now = time.time() #Запоминаем время начала обучения\n",
    "        model.fit(X_train, y_train)\n",
    "        model_train_time = time.time() - now #Записываем время обучения модели в отдельную переменную\n",
    "        \n",
    "        now = time.time() #Запоминаем время начала предсказания\n",
    "        pred = model.predict(X_valid)\n",
    "        model_pred_time = time.time() - now #Записываем время предсказания в отдельную переменную\n",
    "        \n",
    "        rmse = mse(y_valid, pred)**0.5\n",
    "        \n",
    "        if rmse <= rmse_forest or rmse_forest == 0: #Подбираем лучшую модель: если RMSE < RMSE первой модели, то запоминаем\n",
    "            forest = model\n",
    "            rmse_forest = rmse\n",
    "            forest_train_time = model_train_time #Записываем в переменную время для ЛУЧШЕЙ модели\n",
    "            forest_pred_time = model_pred_time #Записываем в переменную время для ЛУЧШЕЙ модели\n",
    "            \n",
    "print(forest, rmse_forest)\n"
   ]
  },
  {
   "cell_type": "markdown",
   "metadata": {},
   "source": [
    "### Бустинги"
   ]
  },
  {
   "cell_type": "markdown",
   "metadata": {},
   "source": [
    "Мы будем использовать LGBMRegressor и CatBoost. Эти два бустинга работают с категориальными переменными, потому нам не нужно кодировать категориальные признаки, так что разобьём выборку заново."
   ]
  },
  {
   "cell_type": "code",
   "execution_count": 32,
   "metadata": {},
   "outputs": [
    {
     "name": "stdout",
     "output_type": "stream",
     "text": [
      "175999 58667 58667\n",
      "175999 58667 58667\n",
      "<class 'pandas.core.frame.DataFrame'>\n",
      "Int64Index: 293333 entries, 1 to 354368\n",
      "Data columns (total 11 columns):\n",
      " #   Column             Non-Null Count   Dtype   \n",
      "---  ------             --------------   -----   \n",
      " 0   Price              293333 non-null  int64   \n",
      " 1   VehicleType        293333 non-null  category\n",
      " 2   RegistrationYear   293333 non-null  int64   \n",
      " 3   Gearbox            293333 non-null  category\n",
      " 4   Power              293333 non-null  float64 \n",
      " 5   Model              293333 non-null  category\n",
      " 6   Kilometer          293333 non-null  int64   \n",
      " 7   RegistrationMonth  293333 non-null  int64   \n",
      " 8   FuelType           293333 non-null  category\n",
      " 9   Brand              293333 non-null  category\n",
      " 10  Repaired           293333 non-null  category\n",
      "dtypes: category(6), float64(1), int64(4)\n",
      "memory usage: 15.4 MB\n"
     ]
    }
   ],
   "source": [
    "df_cat = df.copy()\n",
    "\n",
    "df_cat['VehicleType'] = df_cat['VehicleType'].astype('category')\n",
    "df_cat['Gearbox'] = df_cat['Gearbox'].astype('category')\n",
    "df_cat['Model'] = df_cat['Model'].astype('category')\n",
    "df_cat['FuelType'] = df_cat['FuelType'].astype('category')\n",
    "df_cat['Brand'] = df_cat['Brand'].astype('category')\n",
    "df_cat['Repaired'] = df_cat['Repaired'].astype('category')\n",
    "\n",
    "\n",
    "Xcat = df_cat.drop(columns=['Price'])\n",
    "ycat = df_cat.Price\n",
    "Xcat_train, Xcat_valid, Xcat_test = \\\n",
    "              np.split(Xcat.sample(frac=1, random_state=42),\n",
    "                       [int(.6*len(df)), int(.8*len(df))])\n",
    "print(len(Xcat_train),len(Xcat_valid),len(Xcat_test))\n",
    "\n",
    "ycat_train, ycat_valid, ycat_test = \\\n",
    "              np.split(ycat.sample(frac=1, random_state=42),\n",
    "                       [int(.6*len(df)), int(.8*len(df))])\n",
    "print(len(ycat_train),len(ycat_valid),len(ycat_test))\n",
    "\n",
    "df_cat.info()"
   ]
  },
  {
   "cell_type": "markdown",
   "metadata": {},
   "source": [
    "#### LGBMRegressor"
   ]
  },
  {
   "cell_type": "code",
   "execution_count": 33,
   "metadata": {},
   "outputs": [
    {
     "data": {
      "application/vnd.jupyter.widget-view+json": {
       "model_id": "38f3fcd1a79c424c9c39ff075dc267cc",
       "version_major": 2,
       "version_minor": 0
      },
      "text/plain": [
       "  0%|          | 0/2 [00:00<?, ?it/s]"
      ]
     },
     "metadata": {},
     "output_type": "display_data"
    },
    {
     "data": {
      "application/vnd.jupyter.widget-view+json": {
       "model_id": "74dc1ab5a275419fb1a05985ac37c776",
       "version_major": 2,
       "version_minor": 0
      },
      "text/plain": [
       "  0%|          | 0/1 [00:00<?, ?it/s]"
      ]
     },
     "metadata": {},
     "output_type": "display_data"
    },
    {
     "data": {
      "application/vnd.jupyter.widget-view+json": {
       "model_id": "ee4e3e0d67b945c9aec3d78034ffa729",
       "version_major": 2,
       "version_minor": 0
      },
      "text/plain": [
       "  0%|          | 0/1 [00:00<?, ?it/s]"
      ]
     },
     "metadata": {},
     "output_type": "display_data"
    },
    {
     "name": "stdout",
     "output_type": "stream",
     "text": [
      "LGBMRegressor(learning_rate=0.17, max_depth=44, n_estimators=44,\n",
      "              random_state=42) 1836.3657030173745\n",
      "CPU times: user 4.88 s, sys: 0 ns, total: 4.88 s\n",
      "Wall time: 4.92 s\n"
     ]
    }
   ],
   "source": [
    "%%time\n",
    "\n",
    "\n",
    "rmse_LightGBM = 0\n",
    "LightGBM = None\n",
    "\n",
    "\n",
    "for depth in tqdm(range(39,45,5)):\n",
    "    for est in tqdm(range(44,45,1)):\n",
    "        model = LGBMRegressor(boosting_type='gbdt',learning_rate=0.17, max_depth=depth, \n",
    "                              n_estimators=est, random_state=42)\n",
    "        \n",
    "        now = time.time()\n",
    "        model.fit(X_train, y_train)\n",
    "        model_train_time = time.time() - now\n",
    "        \n",
    "        now = time.time()\n",
    "        pred = model.predict(X_valid)\n",
    "        model_pred_time = time.time() - now\n",
    "         \n",
    "        rmse = mse(y_valid, pred)**0.5\n",
    "        \n",
    "        if rmse <= rmse_LightGBM or rmse_LightGBM == 0:\n",
    "            LightGBM = model\n",
    "            rmse_LightGBM = rmse\n",
    "            LightGBM_train_time = model_train_time\n",
    "            LightGBM_pred_time = model_pred_time\n",
    "            \n",
    "print(LightGBM, rmse_LightGBM)\n"
   ]
  },
  {
   "cell_type": "markdown",
   "metadata": {},
   "source": [
    "#### CatBoost"
   ]
  },
  {
   "cell_type": "code",
   "execution_count": 34,
   "metadata": {},
   "outputs": [
    {
     "data": {
      "application/vnd.jupyter.widget-view+json": {
       "model_id": "4725ebaa38bb4363952b923a7056bbf6",
       "version_major": 2,
       "version_minor": 0
      },
      "text/plain": [
       "  0%|          | 0/3 [00:00<?, ?it/s]"
      ]
     },
     "metadata": {},
     "output_type": "display_data"
    },
    {
     "data": {
      "application/vnd.jupyter.widget-view+json": {
       "model_id": "957fa543486f4e3e91d94d4c9dcbe0a7",
       "version_major": 2,
       "version_minor": 0
      },
      "text/plain": [
       "  0%|          | 0/3 [00:00<?, ?it/s]"
      ]
     },
     "metadata": {},
     "output_type": "display_data"
    },
    {
     "data": {
      "application/vnd.jupyter.widget-view+json": {
       "model_id": "d60bd3730c1541e1b19a0127be03a60d",
       "version_major": 2,
       "version_minor": 0
      },
      "text/plain": [
       "  0%|          | 0/3 [00:00<?, ?it/s]"
      ]
     },
     "metadata": {},
     "output_type": "display_data"
    },
    {
     "data": {
      "application/vnd.jupyter.widget-view+json": {
       "model_id": "e67cb8d1ce2e43fe815f09960c82a337",
       "version_major": 2,
       "version_minor": 0
      },
      "text/plain": [
       "  0%|          | 0/3 [00:00<?, ?it/s]"
      ]
     },
     "metadata": {},
     "output_type": "display_data"
    },
    {
     "name": "stdout",
     "output_type": "stream",
     "text": [
      "<catboost.core.CatBoostRegressor object at 0x7f20f55e8070> 1818.8314683973394\n",
      "CPU times: user 12.4 s, sys: 148 ms, total: 12.6 s\n",
      "Wall time: 22.2 s\n"
     ]
    }
   ],
   "source": [
    "%%time\n",
    "\n",
    "\n",
    "rmse_CatBoost = 0\n",
    "CatBoost = None\n",
    "\n",
    "\n",
    "for depth in tqdm(range(1,16,5)):\n",
    "    for iterations in tqdm(range(34,45,5)):\n",
    "        model = CatBoostRegressor(learning_rate=0.17, iterations=iterations, depth=depth, #cat_features = cat_columns,\n",
    "                                   silent=True, random_state=42)\n",
    "        \n",
    "        now = time.time()\n",
    "        model.fit(X_train, y_train) #cat_features = cat_columns)\n",
    "        model_train_time = time.time() - now\n",
    "        \n",
    "        now = time.time()\n",
    "        pred = model.predict(X_valid)\n",
    "        model_pred_time = time.time() - now\n",
    "         \n",
    "        rmse = mse(y_valid, pred)**0.5\n",
    "        \n",
    "        if rmse <= rmse_CatBoost or rmse_CatBoost == 0:\n",
    "            CatBoost = model\n",
    "            rmse_CatBoost = rmse\n",
    "            CatBoost_train_time = model_train_time\n",
    "            CatBoost_pred_time = model_pred_time\n",
    "            \n",
    "print(CatBoost, rmse_CatBoost)"
   ]
  },
  {
   "cell_type": "markdown",
   "metadata": {},
   "source": [
    "## Анализ моделей"
   ]
  },
  {
   "cell_type": "markdown",
   "metadata": {},
   "source": [
    "По задаче необходимо выбрать лучшую модель с учётом скорости, кроме того RMSE на тестовой выборке должно быть меньше 2500.\n",
    "Будем учитывать именно время обучения и предсказания модели с заданными параметрами, так как поиск лучших параметров может занять неограниченное время."
   ]
  },
  {
   "cell_type": "code",
   "execution_count": 35,
   "metadata": {},
   "outputs": [
    {
     "data": {
      "text/html": [
       "<div>\n",
       "<style scoped>\n",
       "    .dataframe tbody tr th:only-of-type {\n",
       "        vertical-align: middle;\n",
       "    }\n",
       "\n",
       "    .dataframe tbody tr th {\n",
       "        vertical-align: top;\n",
       "    }\n",
       "\n",
       "    .dataframe thead th {\n",
       "        text-align: right;\n",
       "    }\n",
       "</style>\n",
       "<table border=\"1\" class=\"dataframe\">\n",
       "  <thead>\n",
       "    <tr style=\"text-align: right;\">\n",
       "      <th></th>\n",
       "      <th>RMSE на валидационной выборке</th>\n",
       "      <th>Время обучения</th>\n",
       "      <th>Время предсказания</th>\n",
       "    </tr>\n",
       "  </thead>\n",
       "  <tbody>\n",
       "    <tr>\n",
       "      <th>Linear Regression</th>\n",
       "      <td>2620.256116</td>\n",
       "      <td>16.282280</td>\n",
       "      <td>0.197655</td>\n",
       "    </tr>\n",
       "    <tr>\n",
       "      <th>DecisionTreeRegressor</th>\n",
       "      <td>1964.023062</td>\n",
       "      <td>0.478157</td>\n",
       "      <td>0.011650</td>\n",
       "    </tr>\n",
       "    <tr>\n",
       "      <th>RandomForestRegressor</th>\n",
       "      <td>1796.556278</td>\n",
       "      <td>5.298105</td>\n",
       "      <td>0.162925</td>\n",
       "    </tr>\n",
       "    <tr>\n",
       "      <th>LGBMRegressor</th>\n",
       "      <td>1836.365703</td>\n",
       "      <td>2.079430</td>\n",
       "      <td>0.208637</td>\n",
       "    </tr>\n",
       "    <tr>\n",
       "      <th>CatBoost</th>\n",
       "      <td>1818.831468</td>\n",
       "      <td>3.392958</td>\n",
       "      <td>0.013955</td>\n",
       "    </tr>\n",
       "  </tbody>\n",
       "</table>\n",
       "</div>"
      ],
      "text/plain": [
       "                       RMSE на валидационной выборке  Время обучения  \\\n",
       "Linear Regression                        2620.256116       16.282280   \n",
       "DecisionTreeRegressor                    1964.023062        0.478157   \n",
       "RandomForestRegressor                    1796.556278        5.298105   \n",
       "LGBMRegressor                            1836.365703        2.079430   \n",
       "CatBoost                                 1818.831468        3.392958   \n",
       "\n",
       "                       Время предсказания  \n",
       "Linear Regression                0.197655  \n",
       "DecisionTreeRegressor            0.011650  \n",
       "RandomForestRegressor            0.162925  \n",
       "LGBMRegressor                    0.208637  \n",
       "CatBoost                         0.013955  "
      ]
     },
     "execution_count": 35,
     "metadata": {},
     "output_type": "execute_result"
    }
   ],
   "source": [
    "models = []\n",
    "models.append([rmse_linear, linear_train_time, linear_pred_time])\n",
    "models.append([rmse_tree, tree_train_time, tree_pred_time])\n",
    "models.append([rmse_forest, forest_train_time, forest_pred_time])\n",
    "models.append([rmse_LightGBM, LightGBM_train_time, LightGBM_pred_time])\n",
    "models.append([rmse_CatBoost, CatBoost_train_time, CatBoost_pred_time])\n",
    "\n",
    "final = pd.DataFrame(data=models, index=['Linear Regression', 'DecisionTreeRegressor', 'RandomForestRegressor',\n",
    "                                         'LGBMRegressor','CatBoost'], \n",
    "                     columns=['RMSE на валидационной выборке', 'Время обучения', 'Время предсказания'])\n",
    "final"
   ]
  },
  {
   "cell_type": "markdown",
   "metadata": {},
   "source": [
    "Мы видим, что время предсказаний для каждой модели небольшое, измеряемое в десятых и сотых долях секунды, так что важнее время обучения. \n",
    "Наименьшее время обучения у линейной регрессии, однако её показатель  RMSE слишком большой. Лучший результат RMSE у случайного леса, однако у LGBMRegressor близкий к нему результат и меньше время обучения.\n",
    "\n",
    "Лучшими моделями будут RandomForestRegressor и LGBMRegressor. У бустинга немного ниже время обучения, у леса - лучше показатели. Проверим эти модели на тестовой выборке."
   ]
  },
  {
   "cell_type": "markdown",
   "metadata": {},
   "source": [
    "<b>Для LGBMRegressor</b>"
   ]
  },
  {
   "cell_type": "code",
   "execution_count": 36,
   "metadata": {
    "scrolled": true
   },
   "outputs": [
    {
     "name": "stdout",
     "output_type": "stream",
     "text": [
      "CPU times: user 223 ms, sys: 0 ns, total: 223 ms\n",
      "Wall time: 207 ms\n"
     ]
    },
    {
     "data": {
      "text/plain": [
       "1806.618867146949"
      ]
     },
     "execution_count": 36,
     "metadata": {},
     "output_type": "execute_result"
    }
   ],
   "source": [
    "%%time\n",
    "\n",
    "pred = LightGBM.predict(X_test)\n",
    "rmse = mse(y_test, pred)**0.5\n",
    "rmse"
   ]
  },
  {
   "cell_type": "markdown",
   "metadata": {},
   "source": [
    "<b>Для случайного леса</b>"
   ]
  },
  {
   "cell_type": "code",
   "execution_count": 37,
   "metadata": {},
   "outputs": [
    {
     "name": "stdout",
     "output_type": "stream",
     "text": [
      "CPU times: user 176 ms, sys: 145 µs, total: 176 ms\n",
      "Wall time: 211 ms\n"
     ]
    },
    {
     "data": {
      "text/plain": [
       "1759.6859906879629"
      ]
     },
     "execution_count": 37,
     "metadata": {},
     "output_type": "execute_result"
    }
   ],
   "source": [
    "%%time\n",
    "\n",
    "pred = forest.predict(X_test)\n",
    "rmse = mse(y_test, pred)**0.5\n",
    "rmse"
   ]
  },
  {
   "cell_type": "markdown",
   "metadata": {},
   "source": [
    "Как видим, разница RMSE почти незначительна, но бустинг быстрее."
   ]
  },
  {
   "cell_type": "markdown",
   "metadata": {},
   "source": [
    "На тестовой выборке модель LGBMRegressor показала себя даже лучше, чем на валидационной."
   ]
  },
  {
   "cell_type": "markdown",
   "metadata": {},
   "source": [
    "## Вывод"
   ]
  },
  {
   "cell_type": "markdown",
   "metadata": {},
   "source": [
    "Мы протестировали несколько моделей, измеряя скорость их работы и точность предсказаний.\n",
    "\n",
    "На этапе предобработки данных мы избавились от дубликатов и пропусков, а также избавились от выбросов в числовых переменных, убрав нереалистичные значения.\n",
    "\n",
    "Мы использовали <b>Ordinar Encoder</b>, поскольку он не создаёт новые столбцы и благодаря нему модели работают быстрее. Этот вид кодировки данных подходит для моделей основанных на деревьях.\n",
    "\n",
    "<b>Результаты тестирования</b>\n",
    "По условию проекта, нужно было проверить не только бустинги, но и обычные модели.\n",
    "\n",
    "Линейная регрессия показала себя плохо что может свидетельствовать о нелинейности зависимости данных. Однако, в данном случае, Лес Решений показал себя немного хуже модели бустинга LGBMRegressor.\n",
    "\n"
   ]
  },
  {
   "cell_type": "markdown",
   "metadata": {},
   "source": [
    "В результате мы научились: использовать модели бустинга, замерять и учитывать время их выполнения, использовать адекватные для конкретных ситуаций методы кодирования категориальных данных.\n",
    "\n",
    "Была выполнена задача добиться RMSE <= 2500."
   ]
  }
 ],
 "metadata": {
  "ExecuteTimeLog": [
   {
    "duration": 423,
    "start_time": "2023-03-09T18:57:50.512Z"
   },
   {
    "duration": 1004,
    "start_time": "2023-03-09T18:57:50.949Z"
   },
   {
    "duration": 1360,
    "start_time": "2023-03-09T18:57:51.959Z"
   },
   {
    "duration": 160,
    "start_time": "2023-03-09T18:58:28.114Z"
   },
   {
    "duration": 409,
    "start_time": "2023-03-09T21:38:57.462Z"
   },
   {
    "duration": 890,
    "start_time": "2023-03-09T21:38:57.873Z"
   },
   {
    "duration": 1082,
    "start_time": "2023-03-09T21:38:58.767Z"
   },
   {
    "duration": 143,
    "start_time": "2023-03-09T21:38:59.857Z"
   },
   {
    "duration": 126,
    "start_time": "2023-03-09T21:39:00.003Z"
   },
   {
    "duration": 440,
    "start_time": "2023-03-09T21:39:20.479Z"
   },
   {
    "duration": 904,
    "start_time": "2023-03-09T21:39:20.922Z"
   },
   {
    "duration": 941,
    "start_time": "2023-03-09T21:39:21.830Z"
   },
   {
    "duration": 125,
    "start_time": "2023-03-09T21:39:22.773Z"
   },
   {
    "duration": 60,
    "start_time": "2023-03-09T21:39:22.902Z"
   },
   {
    "duration": 464,
    "start_time": "2023-03-09T21:40:49.933Z"
   },
   {
    "duration": 857,
    "start_time": "2023-03-09T21:40:50.399Z"
   },
   {
    "duration": 888,
    "start_time": "2023-03-09T21:40:51.258Z"
   },
   {
    "duration": 140,
    "start_time": "2023-03-09T21:40:52.148Z"
   },
   {
    "duration": 62,
    "start_time": "2023-03-09T21:40:52.290Z"
   },
   {
    "duration": 129,
    "start_time": "2023-03-09T21:41:03.022Z"
   },
   {
    "duration": 405,
    "start_time": "2023-03-09T21:41:21.702Z"
   },
   {
    "duration": 865,
    "start_time": "2023-03-09T21:41:22.109Z"
   },
   {
    "duration": 920,
    "start_time": "2023-03-09T21:41:22.976Z"
   },
   {
    "duration": 150,
    "start_time": "2023-03-09T21:41:23.897Z"
   },
   {
    "duration": 171,
    "start_time": "2023-03-09T21:41:24.049Z"
   },
   {
    "duration": 6,
    "start_time": "2023-03-09T21:42:43.098Z"
   },
   {
    "duration": 392,
    "start_time": "2023-03-09T21:44:13.913Z"
   },
   {
    "duration": 869,
    "start_time": "2023-03-09T21:44:14.307Z"
   },
   {
    "duration": 887,
    "start_time": "2023-03-09T21:44:15.177Z"
   },
   {
    "duration": 151,
    "start_time": "2023-03-09T21:44:16.067Z"
   },
   {
    "duration": 65,
    "start_time": "2023-03-09T21:44:16.221Z"
   },
   {
    "duration": 6,
    "start_time": "2023-03-09T21:44:16.287Z"
   },
   {
    "duration": 129,
    "start_time": "2023-03-09T21:44:16.295Z"
   },
   {
    "duration": 119,
    "start_time": "2023-03-09T21:47:29.359Z"
   },
   {
    "duration": 222,
    "start_time": "2023-03-09T21:47:51.053Z"
   },
   {
    "duration": 210,
    "start_time": "2023-03-09T21:51:20.063Z"
   },
   {
    "duration": 398,
    "start_time": "2023-03-09T21:52:28.107Z"
   },
   {
    "duration": 881,
    "start_time": "2023-03-09T21:52:28.507Z"
   },
   {
    "duration": 929,
    "start_time": "2023-03-09T21:52:29.390Z"
   },
   {
    "duration": 132,
    "start_time": "2023-03-09T21:52:30.321Z"
   },
   {
    "duration": 106,
    "start_time": "2023-03-09T21:52:30.461Z"
   },
   {
    "duration": 33,
    "start_time": "2023-03-09T21:52:30.568Z"
   },
   {
    "duration": 132,
    "start_time": "2023-03-09T21:52:30.602Z"
   },
   {
    "duration": 224,
    "start_time": "2023-03-09T21:52:30.736Z"
   },
   {
    "duration": 200,
    "start_time": "2023-03-09T21:52:30.961Z"
   },
   {
    "duration": 77,
    "start_time": "2023-03-09T21:53:04.982Z"
   },
   {
    "duration": 95,
    "start_time": "2023-03-09T22:15:58.617Z"
   },
   {
    "duration": 15,
    "start_time": "2023-03-09T22:16:18.244Z"
   },
   {
    "duration": 424,
    "start_time": "2023-03-09T22:16:34.091Z"
   },
   {
    "duration": 793,
    "start_time": "2023-03-09T22:16:34.517Z"
   },
   {
    "duration": 935,
    "start_time": "2023-03-09T22:16:35.312Z"
   },
   {
    "duration": 129,
    "start_time": "2023-03-09T22:16:36.249Z"
   },
   {
    "duration": 69,
    "start_time": "2023-03-09T22:16:36.380Z"
   },
   {
    "duration": 11,
    "start_time": "2023-03-09T22:16:36.450Z"
   },
   {
    "duration": 119,
    "start_time": "2023-03-09T22:16:36.462Z"
   },
   {
    "duration": 207,
    "start_time": "2023-03-09T22:16:36.583Z"
   },
   {
    "duration": 201,
    "start_time": "2023-03-09T22:16:36.792Z"
   },
   {
    "duration": 65,
    "start_time": "2023-03-09T22:16:36.995Z"
   },
   {
    "duration": 113,
    "start_time": "2023-03-09T22:16:37.062Z"
   },
   {
    "duration": 417,
    "start_time": "2023-03-09T22:17:08.049Z"
   },
   {
    "duration": 817,
    "start_time": "2023-03-09T22:17:08.468Z"
   },
   {
    "duration": 900,
    "start_time": "2023-03-09T22:17:09.286Z"
   },
   {
    "duration": 121,
    "start_time": "2023-03-09T22:17:10.188Z"
   },
   {
    "duration": 65,
    "start_time": "2023-03-09T22:17:10.311Z"
   },
   {
    "duration": 7,
    "start_time": "2023-03-09T22:17:10.378Z"
   },
   {
    "duration": 123,
    "start_time": "2023-03-09T22:17:10.387Z"
   },
   {
    "duration": 202,
    "start_time": "2023-03-09T22:17:10.512Z"
   },
   {
    "duration": 229,
    "start_time": "2023-03-09T22:17:10.716Z"
   },
   {
    "duration": 63,
    "start_time": "2023-03-09T22:17:10.949Z"
   },
   {
    "duration": 182,
    "start_time": "2023-03-09T22:17:11.014Z"
   },
   {
    "duration": 1076,
    "start_time": "2023-03-09T22:21:50.065Z"
   },
   {
    "duration": 323,
    "start_time": "2023-03-09T22:21:51.144Z"
   },
   {
    "duration": 790,
    "start_time": "2023-03-09T22:21:51.469Z"
   },
   {
    "duration": 126,
    "start_time": "2023-03-09T22:21:52.261Z"
   },
   {
    "duration": 64,
    "start_time": "2023-03-09T22:21:52.389Z"
   },
   {
    "duration": 17,
    "start_time": "2023-03-09T22:21:52.455Z"
   },
   {
    "duration": 112,
    "start_time": "2023-03-09T22:21:52.473Z"
   },
   {
    "duration": 207,
    "start_time": "2023-03-09T22:21:52.586Z"
   },
   {
    "duration": 231,
    "start_time": "2023-03-09T22:21:52.794Z"
   },
   {
    "duration": 67,
    "start_time": "2023-03-09T22:21:53.027Z"
   },
   {
    "duration": 175,
    "start_time": "2023-03-09T22:21:53.096Z"
   },
   {
    "duration": 123,
    "start_time": "2023-03-09T22:21:53.273Z"
   },
   {
    "duration": 1065,
    "start_time": "2023-03-10T19:30:52.470Z"
   },
   {
    "duration": 483,
    "start_time": "2023-03-10T19:30:53.537Z"
   },
   {
    "duration": 3207,
    "start_time": "2023-03-10T19:30:54.022Z"
   },
   {
    "duration": 113,
    "start_time": "2023-03-10T19:30:57.231Z"
   },
   {
    "duration": 40,
    "start_time": "2023-03-10T19:30:57.352Z"
   },
   {
    "duration": 10,
    "start_time": "2023-03-10T19:30:57.394Z"
   },
   {
    "duration": 115,
    "start_time": "2023-03-10T19:30:57.405Z"
   },
   {
    "duration": 169,
    "start_time": "2023-03-10T19:30:57.522Z"
   },
   {
    "duration": 170,
    "start_time": "2023-03-10T19:30:57.693Z"
   },
   {
    "duration": 70,
    "start_time": "2023-03-10T19:30:57.865Z"
   },
   {
    "duration": 181,
    "start_time": "2023-03-10T19:30:57.937Z"
   },
   {
    "duration": 127,
    "start_time": "2023-03-10T19:30:58.120Z"
   },
   {
    "duration": 1140,
    "start_time": "2023-03-10T19:32:20.213Z"
   },
   {
    "duration": 326,
    "start_time": "2023-03-10T19:32:21.355Z"
   },
   {
    "duration": 920,
    "start_time": "2023-03-10T19:32:21.683Z"
   },
   {
    "duration": 113,
    "start_time": "2023-03-10T19:32:22.604Z"
   },
   {
    "duration": 61,
    "start_time": "2023-03-10T19:32:22.720Z"
   },
   {
    "duration": 6,
    "start_time": "2023-03-10T19:32:22.783Z"
   },
   {
    "duration": 118,
    "start_time": "2023-03-10T19:32:22.790Z"
   },
   {
    "duration": 216,
    "start_time": "2023-03-10T19:32:22.910Z"
   },
   {
    "duration": 177,
    "start_time": "2023-03-10T19:32:23.127Z"
   },
   {
    "duration": 62,
    "start_time": "2023-03-10T19:32:23.306Z"
   },
   {
    "duration": 193,
    "start_time": "2023-03-10T19:32:23.370Z"
   },
   {
    "duration": 103,
    "start_time": "2023-03-10T19:32:23.565Z"
   },
   {
    "duration": 1101,
    "start_time": "2023-03-10T19:48:27.719Z"
   },
   {
    "duration": 323,
    "start_time": "2023-03-10T19:48:28.822Z"
   },
   {
    "duration": 959,
    "start_time": "2023-03-10T19:48:29.147Z"
   },
   {
    "duration": 185,
    "start_time": "2023-03-10T19:48:30.108Z"
   },
   {
    "duration": 70,
    "start_time": "2023-03-10T19:48:30.297Z"
   },
   {
    "duration": 8,
    "start_time": "2023-03-10T19:48:30.370Z"
   },
   {
    "duration": 149,
    "start_time": "2023-03-10T19:48:30.381Z"
   },
   {
    "duration": 222,
    "start_time": "2023-03-10T19:48:30.532Z"
   },
   {
    "duration": 250,
    "start_time": "2023-03-10T19:48:30.756Z"
   },
   {
    "duration": 70,
    "start_time": "2023-03-10T19:48:31.008Z"
   },
   {
    "duration": 217,
    "start_time": "2023-03-10T19:48:31.080Z"
   },
   {
    "duration": 1166,
    "start_time": "2023-03-10T19:48:31.298Z"
   },
   {
    "duration": 561,
    "start_time": "2023-03-10T19:48:32.466Z"
   },
   {
    "duration": 1142,
    "start_time": "2023-03-10T19:51:20.917Z"
   },
   {
    "duration": 338,
    "start_time": "2023-03-10T19:51:22.063Z"
   },
   {
    "duration": 893,
    "start_time": "2023-03-10T19:51:22.402Z"
   },
   {
    "duration": 143,
    "start_time": "2023-03-10T19:51:23.297Z"
   },
   {
    "duration": 54,
    "start_time": "2023-03-10T19:51:23.443Z"
   },
   {
    "duration": 7,
    "start_time": "2023-03-10T19:51:23.499Z"
   },
   {
    "duration": 125,
    "start_time": "2023-03-10T19:51:23.508Z"
   },
   {
    "duration": 189,
    "start_time": "2023-03-10T19:51:23.635Z"
   },
   {
    "duration": 235,
    "start_time": "2023-03-10T19:51:23.825Z"
   },
   {
    "duration": 79,
    "start_time": "2023-03-10T19:51:24.062Z"
   },
   {
    "duration": 204,
    "start_time": "2023-03-10T19:51:24.143Z"
   },
   {
    "duration": 1003,
    "start_time": "2023-03-10T19:51:24.348Z"
   },
   {
    "duration": 133,
    "start_time": "2023-03-10T19:51:25.354Z"
   },
   {
    "duration": 0,
    "start_time": "2023-03-10T19:51:25.488Z"
   },
   {
    "duration": 1286,
    "start_time": "2023-03-10T19:53:18.706Z"
   },
   {
    "duration": 385,
    "start_time": "2023-03-10T19:53:19.994Z"
   },
   {
    "duration": 970,
    "start_time": "2023-03-10T19:53:20.384Z"
   },
   {
    "duration": 161,
    "start_time": "2023-03-10T19:53:21.356Z"
   },
   {
    "duration": 65,
    "start_time": "2023-03-10T19:53:21.520Z"
   },
   {
    "duration": 47,
    "start_time": "2023-03-10T19:53:21.587Z"
   },
   {
    "duration": 131,
    "start_time": "2023-03-10T19:53:21.637Z"
   },
   {
    "duration": 285,
    "start_time": "2023-03-10T19:53:21.770Z"
   },
   {
    "duration": 251,
    "start_time": "2023-03-10T19:53:22.057Z"
   },
   {
    "duration": 104,
    "start_time": "2023-03-10T19:53:22.311Z"
   },
   {
    "duration": 243,
    "start_time": "2023-03-10T19:53:22.417Z"
   },
   {
    "duration": 1173,
    "start_time": "2023-03-10T19:53:22.664Z"
   },
   {
    "duration": 676,
    "start_time": "2023-03-10T19:53:23.840Z"
   },
   {
    "duration": 309,
    "start_time": "2023-03-10T19:53:24.519Z"
   },
   {
    "duration": 1061,
    "start_time": "2023-03-10T20:02:08.639Z"
   },
   {
    "duration": 305,
    "start_time": "2023-03-10T20:02:09.702Z"
   },
   {
    "duration": 949,
    "start_time": "2023-03-10T20:02:10.009Z"
   },
   {
    "duration": 140,
    "start_time": "2023-03-10T20:02:10.960Z"
   },
   {
    "duration": 69,
    "start_time": "2023-03-10T20:02:11.102Z"
   },
   {
    "duration": 8,
    "start_time": "2023-03-10T20:02:11.173Z"
   },
   {
    "duration": 126,
    "start_time": "2023-03-10T20:02:11.183Z"
   },
   {
    "duration": 193,
    "start_time": "2023-03-10T20:02:11.311Z"
   },
   {
    "duration": 231,
    "start_time": "2023-03-10T20:02:11.506Z"
   },
   {
    "duration": 79,
    "start_time": "2023-03-10T20:02:11.739Z"
   },
   {
    "duration": 203,
    "start_time": "2023-03-10T20:02:11.820Z"
   },
   {
    "duration": 1025,
    "start_time": "2023-03-10T20:02:12.025Z"
   },
   {
    "duration": 583,
    "start_time": "2023-03-10T20:02:13.053Z"
   },
   {
    "duration": 157,
    "start_time": "2023-03-10T20:02:13.638Z"
   },
   {
    "duration": 504,
    "start_time": "2023-03-10T20:03:02.872Z"
   },
   {
    "duration": 1084,
    "start_time": "2023-03-10T20:03:41.453Z"
   },
   {
    "duration": 290,
    "start_time": "2023-03-10T20:03:42.539Z"
   },
   {
    "duration": 862,
    "start_time": "2023-03-10T20:03:42.831Z"
   },
   {
    "duration": 138,
    "start_time": "2023-03-10T20:03:43.695Z"
   },
   {
    "duration": 60,
    "start_time": "2023-03-10T20:03:43.836Z"
   },
   {
    "duration": 8,
    "start_time": "2023-03-10T20:03:43.898Z"
   },
   {
    "duration": 143,
    "start_time": "2023-03-10T20:03:43.908Z"
   },
   {
    "duration": 228,
    "start_time": "2023-03-10T20:03:44.054Z"
   },
   {
    "duration": 226,
    "start_time": "2023-03-10T20:03:44.283Z"
   },
   {
    "duration": 67,
    "start_time": "2023-03-10T20:03:44.510Z"
   },
   {
    "duration": 198,
    "start_time": "2023-03-10T20:03:44.579Z"
   },
   {
    "duration": 1063,
    "start_time": "2023-03-10T20:03:44.779Z"
   },
   {
    "duration": 594,
    "start_time": "2023-03-10T20:03:45.844Z"
   },
   {
    "duration": 218,
    "start_time": "2023-03-10T20:03:46.440Z"
   },
   {
    "duration": 1048,
    "start_time": "2023-03-10T20:08:41.471Z"
   },
   {
    "duration": 295,
    "start_time": "2023-03-10T20:08:42.521Z"
   },
   {
    "duration": 22,
    "start_time": "2023-03-10T20:08:42.818Z"
   },
   {
    "duration": 958,
    "start_time": "2023-03-10T20:08:42.842Z"
   },
   {
    "duration": 145,
    "start_time": "2023-03-10T20:08:43.803Z"
   },
   {
    "duration": 57,
    "start_time": "2023-03-10T20:08:43.953Z"
   },
   {
    "duration": 9,
    "start_time": "2023-03-10T20:08:44.012Z"
   },
   {
    "duration": 149,
    "start_time": "2023-03-10T20:08:44.023Z"
   },
   {
    "duration": 248,
    "start_time": "2023-03-10T20:08:44.174Z"
   },
   {
    "duration": 242,
    "start_time": "2023-03-10T20:08:44.424Z"
   },
   {
    "duration": 68,
    "start_time": "2023-03-10T20:08:44.668Z"
   },
   {
    "duration": 178,
    "start_time": "2023-03-10T20:08:44.740Z"
   },
   {
    "duration": 1047,
    "start_time": "2023-03-10T20:08:44.920Z"
   },
   {
    "duration": 589,
    "start_time": "2023-03-10T20:08:45.969Z"
   },
   {
    "duration": 205,
    "start_time": "2023-03-10T20:08:46.560Z"
   },
   {
    "duration": 1075,
    "start_time": "2023-03-10T20:09:39.751Z"
   },
   {
    "duration": 305,
    "start_time": "2023-03-10T20:09:40.828Z"
   },
   {
    "duration": 31,
    "start_time": "2023-03-10T20:09:41.134Z"
   },
   {
    "duration": 858,
    "start_time": "2023-03-10T20:09:41.167Z"
   },
   {
    "duration": 121,
    "start_time": "2023-03-10T20:09:42.028Z"
   },
   {
    "duration": 53,
    "start_time": "2023-03-10T20:09:42.153Z"
   },
   {
    "duration": 8,
    "start_time": "2023-03-10T20:09:42.208Z"
   },
   {
    "duration": 128,
    "start_time": "2023-03-10T20:09:42.218Z"
   },
   {
    "duration": 226,
    "start_time": "2023-03-10T20:09:42.352Z"
   },
   {
    "duration": 234,
    "start_time": "2023-03-10T20:09:42.580Z"
   },
   {
    "duration": 74,
    "start_time": "2023-03-10T20:09:42.816Z"
   },
   {
    "duration": 193,
    "start_time": "2023-03-10T20:09:42.892Z"
   },
   {
    "duration": 1082,
    "start_time": "2023-03-10T20:09:43.088Z"
   },
   {
    "duration": 588,
    "start_time": "2023-03-10T20:09:44.174Z"
   },
   {
    "duration": 199,
    "start_time": "2023-03-10T20:09:44.764Z"
   },
   {
    "duration": 1131,
    "start_time": "2023-03-10T20:30:27.419Z"
   },
   {
    "duration": 305,
    "start_time": "2023-03-10T20:30:28.552Z"
   },
   {
    "duration": 20,
    "start_time": "2023-03-10T20:30:28.859Z"
   },
   {
    "duration": 901,
    "start_time": "2023-03-10T20:30:28.881Z"
   },
   {
    "duration": 149,
    "start_time": "2023-03-10T20:30:29.785Z"
   },
   {
    "duration": 60,
    "start_time": "2023-03-10T20:30:29.936Z"
   },
   {
    "duration": 18,
    "start_time": "2023-03-10T20:30:29.998Z"
   },
   {
    "duration": 139,
    "start_time": "2023-03-10T20:30:30.018Z"
   },
   {
    "duration": 239,
    "start_time": "2023-03-10T20:30:30.159Z"
   },
   {
    "duration": 259,
    "start_time": "2023-03-10T20:30:30.400Z"
   },
   {
    "duration": 71,
    "start_time": "2023-03-10T20:30:30.661Z"
   },
   {
    "duration": 203,
    "start_time": "2023-03-10T20:30:30.734Z"
   },
   {
    "duration": 1137,
    "start_time": "2023-03-10T20:30:30.939Z"
   },
   {
    "duration": 622,
    "start_time": "2023-03-10T20:30:32.079Z"
   },
   {
    "duration": 252,
    "start_time": "2023-03-10T20:30:32.703Z"
   },
   {
    "duration": 24100,
    "start_time": "2023-03-10T20:30:32.957Z"
   },
   {
    "duration": 1180,
    "start_time": "2023-03-10T20:31:50.674Z"
   },
   {
    "duration": 343,
    "start_time": "2023-03-10T20:31:51.857Z"
   },
   {
    "duration": 21,
    "start_time": "2023-03-10T20:31:52.201Z"
   },
   {
    "duration": 878,
    "start_time": "2023-03-10T20:31:52.224Z"
   },
   {
    "duration": 127,
    "start_time": "2023-03-10T20:31:53.105Z"
   },
   {
    "duration": 58,
    "start_time": "2023-03-10T20:31:53.234Z"
   },
   {
    "duration": 6,
    "start_time": "2023-03-10T20:31:53.294Z"
   },
   {
    "duration": 174,
    "start_time": "2023-03-10T20:31:53.301Z"
   },
   {
    "duration": 214,
    "start_time": "2023-03-10T20:31:53.477Z"
   },
   {
    "duration": 228,
    "start_time": "2023-03-10T20:31:53.692Z"
   },
   {
    "duration": 100,
    "start_time": "2023-03-10T20:31:53.922Z"
   },
   {
    "duration": 245,
    "start_time": "2023-03-10T20:31:54.024Z"
   },
   {
    "duration": 1058,
    "start_time": "2023-03-10T20:31:54.271Z"
   },
   {
    "duration": 609,
    "start_time": "2023-03-10T20:31:55.331Z"
   },
   {
    "duration": 199,
    "start_time": "2023-03-10T20:31:55.942Z"
   },
   {
    "duration": 38720,
    "start_time": "2023-03-10T20:31:56.142Z"
   },
   {
    "duration": 22,
    "start_time": "2023-03-10T20:34:30.048Z"
   },
   {
    "duration": 8,
    "start_time": "2023-03-10T20:42:32.146Z"
   },
   {
    "duration": 166,
    "start_time": "2023-03-10T20:43:44.715Z"
   },
   {
    "duration": 79,
    "start_time": "2023-03-10T20:45:05.884Z"
   },
   {
    "duration": 24,
    "start_time": "2023-03-10T20:45:37.240Z"
   },
   {
    "duration": 6442,
    "start_time": "2023-03-10T20:45:51.477Z"
   },
   {
    "duration": 13042,
    "start_time": "2023-03-10T20:46:05.220Z"
   },
   {
    "duration": 24219,
    "start_time": "2023-03-10T20:47:11.051Z"
   },
   {
    "duration": 1064,
    "start_time": "2023-03-10T20:49:37.244Z"
   },
   {
    "duration": 292,
    "start_time": "2023-03-10T20:49:38.310Z"
   },
   {
    "duration": 37,
    "start_time": "2023-03-10T20:49:38.603Z"
   },
   {
    "duration": 839,
    "start_time": "2023-03-10T20:49:38.642Z"
   },
   {
    "duration": 119,
    "start_time": "2023-03-10T20:49:39.482Z"
   },
   {
    "duration": 54,
    "start_time": "2023-03-10T20:49:39.603Z"
   },
   {
    "duration": 7,
    "start_time": "2023-03-10T20:49:39.659Z"
   },
   {
    "duration": 125,
    "start_time": "2023-03-10T20:49:39.668Z"
   },
   {
    "duration": 191,
    "start_time": "2023-03-10T20:49:39.795Z"
   },
   {
    "duration": 256,
    "start_time": "2023-03-10T20:49:39.989Z"
   },
   {
    "duration": 68,
    "start_time": "2023-03-10T20:49:40.246Z"
   },
   {
    "duration": 165,
    "start_time": "2023-03-10T20:49:40.315Z"
   },
   {
    "duration": 974,
    "start_time": "2023-03-10T20:49:40.482Z"
   },
   {
    "duration": 584,
    "start_time": "2023-03-10T20:49:41.458Z"
   },
   {
    "duration": 197,
    "start_time": "2023-03-10T20:49:42.044Z"
   },
   {
    "duration": 16814,
    "start_time": "2023-03-10T20:49:42.242Z"
   },
   {
    "duration": 24033,
    "start_time": "2023-03-10T20:49:59.057Z"
   },
   {
    "duration": 11,
    "start_time": "2023-03-10T20:52:20.690Z"
   },
   {
    "duration": 1019,
    "start_time": "2023-03-10T21:00:56.079Z"
   },
   {
    "duration": 310,
    "start_time": "2023-03-10T21:00:57.100Z"
   },
   {
    "duration": 53,
    "start_time": "2023-03-10T21:00:57.412Z"
   },
   {
    "duration": 871,
    "start_time": "2023-03-10T21:00:57.467Z"
   },
   {
    "duration": 127,
    "start_time": "2023-03-10T21:00:58.340Z"
   },
   {
    "duration": 50,
    "start_time": "2023-03-10T21:00:58.469Z"
   },
   {
    "duration": 13,
    "start_time": "2023-03-10T21:00:58.521Z"
   },
   {
    "duration": 121,
    "start_time": "2023-03-10T21:00:58.536Z"
   },
   {
    "duration": 197,
    "start_time": "2023-03-10T21:00:58.659Z"
   },
   {
    "duration": 231,
    "start_time": "2023-03-10T21:00:58.860Z"
   },
   {
    "duration": 69,
    "start_time": "2023-03-10T21:00:59.093Z"
   },
   {
    "duration": 158,
    "start_time": "2023-03-10T21:00:59.164Z"
   },
   {
    "duration": 968,
    "start_time": "2023-03-10T21:00:59.323Z"
   },
   {
    "duration": 615,
    "start_time": "2023-03-10T21:01:00.292Z"
   },
   {
    "duration": 210,
    "start_time": "2023-03-10T21:01:00.909Z"
   },
   {
    "duration": 16633,
    "start_time": "2023-03-10T21:01:01.121Z"
   },
   {
    "duration": 24180,
    "start_time": "2023-03-10T21:01:17.756Z"
   },
   {
    "duration": 225372,
    "start_time": "2023-03-10T21:01:41.937Z"
   },
   {
    "duration": 1122,
    "start_time": "2023-03-10T21:08:32.742Z"
   },
   {
    "duration": 353,
    "start_time": "2023-03-10T21:08:33.866Z"
   },
   {
    "duration": 53,
    "start_time": "2023-03-10T21:08:34.220Z"
   },
   {
    "duration": 824,
    "start_time": "2023-03-10T21:08:34.275Z"
   },
   {
    "duration": 124,
    "start_time": "2023-03-10T21:08:35.101Z"
   },
   {
    "duration": 54,
    "start_time": "2023-03-10T21:08:35.226Z"
   },
   {
    "duration": 8,
    "start_time": "2023-03-10T21:08:35.281Z"
   },
   {
    "duration": 116,
    "start_time": "2023-03-10T21:08:35.290Z"
   },
   {
    "duration": 186,
    "start_time": "2023-03-10T21:08:35.408Z"
   },
   {
    "duration": 227,
    "start_time": "2023-03-10T21:08:35.597Z"
   },
   {
    "duration": 66,
    "start_time": "2023-03-10T21:08:35.825Z"
   },
   {
    "duration": 175,
    "start_time": "2023-03-10T21:08:35.892Z"
   },
   {
    "duration": 994,
    "start_time": "2023-03-10T21:08:36.068Z"
   },
   {
    "duration": 595,
    "start_time": "2023-03-10T21:08:37.064Z"
   },
   {
    "duration": 195,
    "start_time": "2023-03-10T21:08:37.660Z"
   },
   {
    "duration": 18602,
    "start_time": "2023-03-10T21:08:37.857Z"
   },
   {
    "duration": 23867,
    "start_time": "2023-03-10T21:08:56.555Z"
   },
   {
    "duration": 180783,
    "start_time": "2023-03-10T21:09:20.424Z"
   },
   {
    "duration": 28,
    "start_time": "2023-03-10T21:16:31.060Z"
   },
   {
    "duration": 18986,
    "start_time": "2023-03-10T21:22:05.974Z"
   },
   {
    "duration": 10,
    "start_time": "2023-03-10T21:24:05.198Z"
   },
   {
    "duration": 6,
    "start_time": "2023-03-10T21:24:45.292Z"
   },
   {
    "duration": 6,
    "start_time": "2023-03-10T21:24:57.556Z"
   },
   {
    "duration": 749,
    "start_time": "2023-03-10T21:25:26.463Z"
   },
   {
    "duration": 18814,
    "start_time": "2023-03-10T21:25:41.852Z"
   },
   {
    "duration": 231123,
    "start_time": "2023-03-10T21:26:17.741Z"
   },
   {
    "duration": 12236,
    "start_time": "2023-03-10T21:31:32.084Z"
   },
   {
    "duration": 34064,
    "start_time": "2023-03-10T21:31:54.004Z"
   },
   {
    "duration": 35480,
    "start_time": "2023-03-10T21:32:52.688Z"
   },
   {
    "duration": 32479,
    "start_time": "2023-03-10T21:36:06.286Z"
   },
   {
    "duration": 3326,
    "start_time": "2023-03-10T21:37:10.893Z"
   },
   {
    "duration": 26466,
    "start_time": "2023-03-10T21:37:47.523Z"
   },
   {
    "duration": 86412,
    "start_time": "2023-03-10T21:39:34.961Z"
   },
   {
    "duration": 151440,
    "start_time": "2023-03-10T21:43:04.164Z"
   },
   {
    "duration": 141,
    "start_time": "2023-03-10T21:47:51.912Z"
   },
   {
    "duration": 108,
    "start_time": "2023-03-10T21:48:09.352Z"
   },
   {
    "duration": 135,
    "start_time": "2023-03-10T21:50:30.608Z"
   },
   {
    "duration": 33172,
    "start_time": "2023-03-10T21:57:34.702Z"
   },
   {
    "duration": 50690,
    "start_time": "2023-03-10T21:59:26.463Z"
   },
   {
    "duration": 682,
    "start_time": "2023-03-10T22:06:17.243Z"
   },
   {
    "duration": 225,
    "start_time": "2023-03-10T22:06:51.574Z"
   },
   {
    "duration": 24180,
    "start_time": "2023-03-10T22:07:40.783Z"
   },
   {
    "duration": 28,
    "start_time": "2023-03-10T22:16:09.380Z"
   },
   {
    "duration": 91,
    "start_time": "2023-03-10T22:20:52.826Z"
   },
   {
    "duration": 766,
    "start_time": "2023-03-10T22:21:42.794Z"
   },
   {
    "duration": 99,
    "start_time": "2023-03-10T22:25:06.994Z"
   },
   {
    "duration": 10963,
    "start_time": "2023-03-10T22:25:35.290Z"
   },
   {
    "duration": 495,
    "start_time": "2023-03-10T22:26:16.489Z"
   },
   {
    "duration": 34843,
    "start_time": "2023-03-10T22:26:35.290Z"
   },
   {
    "duration": 34511,
    "start_time": "2023-03-10T22:27:28.745Z"
   },
   {
    "duration": 24955,
    "start_time": "2023-03-10T22:28:34.520Z"
   },
   {
    "duration": 13,
    "start_time": "2023-03-10T22:34:54.510Z"
   },
   {
    "duration": 10,
    "start_time": "2023-03-10T22:35:18.166Z"
   },
   {
    "duration": 3,
    "start_time": "2023-03-10T22:35:28.934Z"
   },
   {
    "duration": 16,
    "start_time": "2023-03-10T22:37:53.830Z"
   },
   {
    "duration": 12,
    "start_time": "2023-03-10T22:38:29.390Z"
   },
   {
    "duration": 16924,
    "start_time": "2023-03-10T22:39:04.629Z"
   },
   {
    "duration": 1004,
    "start_time": "2023-03-10T22:39:33.894Z"
   },
   {
    "duration": 288,
    "start_time": "2023-03-10T22:39:34.900Z"
   },
   {
    "duration": 44,
    "start_time": "2023-03-10T22:39:35.189Z"
   },
   {
    "duration": 53,
    "start_time": "2023-03-10T22:39:35.235Z"
   },
   {
    "duration": 821,
    "start_time": "2023-03-10T22:39:35.290Z"
   },
   {
    "duration": 110,
    "start_time": "2023-03-10T22:39:36.112Z"
   },
   {
    "duration": 54,
    "start_time": "2023-03-10T22:39:36.224Z"
   },
   {
    "duration": 6,
    "start_time": "2023-03-10T22:39:36.280Z"
   },
   {
    "duration": 119,
    "start_time": "2023-03-10T22:39:36.288Z"
   },
   {
    "duration": 183,
    "start_time": "2023-03-10T22:39:36.409Z"
   },
   {
    "duration": 172,
    "start_time": "2023-03-10T22:39:36.593Z"
   },
   {
    "duration": 58,
    "start_time": "2023-03-10T22:39:36.767Z"
   },
   {
    "duration": 159,
    "start_time": "2023-03-10T22:39:36.827Z"
   },
   {
    "duration": 948,
    "start_time": "2023-03-10T22:39:36.988Z"
   },
   {
    "duration": 577,
    "start_time": "2023-03-10T22:39:37.938Z"
   },
   {
    "duration": 197,
    "start_time": "2023-03-10T22:39:38.517Z"
   },
   {
    "duration": 16645,
    "start_time": "2023-03-10T22:39:38.716Z"
   },
   {
    "duration": 23528,
    "start_time": "2023-03-10T22:39:55.363Z"
   },
   {
    "duration": 146794,
    "start_time": "2023-03-10T22:40:18.893Z"
   },
   {
    "duration": 218,
    "start_time": "2023-03-10T22:42:45.688Z"
   },
   {
    "duration": 24264,
    "start_time": "2023-03-10T22:42:45.908Z"
   },
   {
    "duration": 34126,
    "start_time": "2023-03-10T22:43:10.174Z"
   },
   {
    "duration": 11,
    "start_time": "2023-03-10T22:43:44.302Z"
   },
   {
    "duration": 320,
    "start_time": "2023-03-10T22:46:18.436Z"
   },
   {
    "duration": 310,
    "start_time": "2023-03-10T22:49:02.052Z"
   },
   {
    "duration": 979,
    "start_time": "2023-03-10T22:49:33.704Z"
   },
   {
    "duration": 40,
    "start_time": "2023-03-10T22:49:34.684Z"
   },
   {
    "duration": 57,
    "start_time": "2023-03-10T22:49:34.726Z"
   },
   {
    "duration": 147,
    "start_time": "2023-03-10T22:49:34.785Z"
   },
   {
    "duration": 828,
    "start_time": "2023-03-10T22:49:34.935Z"
   },
   {
    "duration": 119,
    "start_time": "2023-03-10T22:49:35.764Z"
   },
   {
    "duration": 50,
    "start_time": "2023-03-10T22:49:35.884Z"
   },
   {
    "duration": 19,
    "start_time": "2023-03-10T22:49:35.936Z"
   },
   {
    "duration": 110,
    "start_time": "2023-03-10T22:49:35.957Z"
   },
   {
    "duration": 186,
    "start_time": "2023-03-10T22:49:36.069Z"
   },
   {
    "duration": 217,
    "start_time": "2023-03-10T22:49:36.257Z"
   },
   {
    "duration": 59,
    "start_time": "2023-03-10T22:49:36.476Z"
   },
   {
    "duration": 178,
    "start_time": "2023-03-10T22:49:36.537Z"
   },
   {
    "duration": 965,
    "start_time": "2023-03-10T22:49:36.718Z"
   },
   {
    "duration": 593,
    "start_time": "2023-03-10T22:49:37.684Z"
   },
   {
    "duration": 213,
    "start_time": "2023-03-10T22:49:38.278Z"
   },
   {
    "duration": 17161,
    "start_time": "2023-03-10T22:49:38.493Z"
   },
   {
    "duration": 23397,
    "start_time": "2023-03-10T22:49:55.656Z"
   },
   {
    "duration": 146448,
    "start_time": "2023-03-10T22:50:19.055Z"
   },
   {
    "duration": 206,
    "start_time": "2023-03-10T22:52:45.505Z"
   },
   {
    "duration": 24458,
    "start_time": "2023-03-10T22:52:45.712Z"
   },
   {
    "duration": 34073,
    "start_time": "2023-03-10T22:53:10.171Z"
   },
   {
    "duration": 14,
    "start_time": "2023-03-10T22:53:44.246Z"
   },
   {
    "duration": 301,
    "start_time": "2023-03-10T22:53:44.262Z"
   },
   {
    "duration": 2344,
    "start_time": "2023-03-13T11:34:02.827Z"
   },
   {
    "duration": 47,
    "start_time": "2023-03-13T11:34:05.174Z"
   },
   {
    "duration": 68,
    "start_time": "2023-03-13T11:34:05.223Z"
   },
   {
    "duration": 178,
    "start_time": "2023-03-13T11:34:05.295Z"
   },
   {
    "duration": 1510,
    "start_time": "2023-03-13T11:34:05.475Z"
   },
   {
    "duration": 165,
    "start_time": "2023-03-13T11:34:06.988Z"
   },
   {
    "duration": 53,
    "start_time": "2023-03-13T11:34:07.155Z"
   },
   {
    "duration": 11,
    "start_time": "2023-03-13T11:34:07.209Z"
   },
   {
    "duration": 219,
    "start_time": "2023-03-13T11:34:07.222Z"
   },
   {
    "duration": 224,
    "start_time": "2023-03-13T11:34:07.444Z"
   },
   {
    "duration": 266,
    "start_time": "2023-03-13T11:34:07.670Z"
   },
   {
    "duration": 151,
    "start_time": "2023-03-13T11:34:07.939Z"
   },
   {
    "duration": 276,
    "start_time": "2023-03-13T11:34:08.092Z"
   },
   {
    "duration": 1151,
    "start_time": "2023-03-13T11:34:08.370Z"
   },
   {
    "duration": 628,
    "start_time": "2023-03-13T11:34:09.524Z"
   },
   {
    "duration": 402,
    "start_time": "2023-03-13T11:34:10.154Z"
   },
   {
    "duration": 25,
    "start_time": "2023-03-13T11:34:10.559Z"
   },
   {
    "duration": 22276,
    "start_time": "2023-03-13T11:34:10.589Z"
   },
   {
    "duration": 25749,
    "start_time": "2023-03-13T11:41:03.937Z"
   },
   {
    "duration": 26345,
    "start_time": "2023-03-13T11:45:31.055Z"
   },
   {
    "duration": 1293,
    "start_time": "2023-03-13T13:19:23.339Z"
   },
   {
    "duration": 41,
    "start_time": "2023-03-13T13:19:24.634Z"
   },
   {
    "duration": 47,
    "start_time": "2023-03-13T13:19:24.677Z"
   },
   {
    "duration": 177,
    "start_time": "2023-03-13T13:19:24.725Z"
   },
   {
    "duration": 1235,
    "start_time": "2023-03-13T13:19:24.904Z"
   },
   {
    "duration": 143,
    "start_time": "2023-03-13T13:19:26.140Z"
   },
   {
    "duration": 46,
    "start_time": "2023-03-13T13:19:26.284Z"
   },
   {
    "duration": 27,
    "start_time": "2023-03-13T13:19:26.332Z"
   },
   {
    "duration": 211,
    "start_time": "2023-03-13T13:19:26.362Z"
   },
   {
    "duration": 250,
    "start_time": "2023-03-13T13:19:26.576Z"
   },
   {
    "duration": 235,
    "start_time": "2023-03-13T13:19:26.828Z"
   },
   {
    "duration": 79,
    "start_time": "2023-03-13T13:19:27.065Z"
   },
   {
    "duration": 202,
    "start_time": "2023-03-13T13:19:27.145Z"
   },
   {
    "duration": 994,
    "start_time": "2023-03-13T13:19:27.349Z"
   },
   {
    "duration": 700,
    "start_time": "2023-03-13T13:19:28.345Z"
   },
   {
    "duration": 579,
    "start_time": "2023-03-13T13:19:29.047Z"
   },
   {
    "duration": 210,
    "start_time": "2023-03-13T13:19:29.628Z"
   },
   {
    "duration": 23622,
    "start_time": "2023-03-13T13:19:29.840Z"
   },
   {
    "duration": 1050,
    "start_time": "2023-03-13T13:19:58.307Z"
   },
   {
    "duration": 37,
    "start_time": "2023-03-13T13:19:59.359Z"
   },
   {
    "duration": 42,
    "start_time": "2023-03-13T13:19:59.397Z"
   },
   {
    "duration": 170,
    "start_time": "2023-03-13T13:19:59.442Z"
   },
   {
    "duration": 820,
    "start_time": "2023-03-13T13:19:59.614Z"
   },
   {
    "duration": 161,
    "start_time": "2023-03-13T13:20:00.436Z"
   },
   {
    "duration": 47,
    "start_time": "2023-03-13T13:20:00.599Z"
   },
   {
    "duration": 58,
    "start_time": "2023-03-13T13:20:00.647Z"
   },
   {
    "duration": 151,
    "start_time": "2023-03-13T13:20:00.707Z"
   },
   {
    "duration": 205,
    "start_time": "2023-03-13T13:20:00.863Z"
   },
   {
    "duration": 253,
    "start_time": "2023-03-13T13:20:01.069Z"
   },
   {
    "duration": 92,
    "start_time": "2023-03-13T13:20:01.324Z"
   },
   {
    "duration": 240,
    "start_time": "2023-03-13T13:20:01.418Z"
   },
   {
    "duration": 705,
    "start_time": "2023-03-13T13:20:01.660Z"
   },
   {
    "duration": 0,
    "start_time": "2023-03-13T13:20:02.368Z"
   },
   {
    "duration": 0,
    "start_time": "2023-03-13T13:20:02.369Z"
   },
   {
    "duration": 0,
    "start_time": "2023-03-13T13:20:02.371Z"
   },
   {
    "duration": 0,
    "start_time": "2023-03-13T13:20:02.373Z"
   },
   {
    "duration": 0,
    "start_time": "2023-03-13T13:20:02.374Z"
   },
   {
    "duration": 0,
    "start_time": "2023-03-13T13:20:02.376Z"
   },
   {
    "duration": 0,
    "start_time": "2023-03-13T13:20:02.378Z"
   },
   {
    "duration": 0,
    "start_time": "2023-03-13T13:20:02.379Z"
   },
   {
    "duration": 0,
    "start_time": "2023-03-13T13:20:02.380Z"
   },
   {
    "duration": 0,
    "start_time": "2023-03-13T13:20:02.382Z"
   },
   {
    "duration": 0,
    "start_time": "2023-03-13T13:20:02.384Z"
   },
   {
    "duration": 1126,
    "start_time": "2023-03-13T13:20:44.930Z"
   },
   {
    "duration": 41,
    "start_time": "2023-03-13T13:20:46.058Z"
   },
   {
    "duration": 57,
    "start_time": "2023-03-13T13:20:46.101Z"
   },
   {
    "duration": 160,
    "start_time": "2023-03-13T13:20:46.160Z"
   },
   {
    "duration": 815,
    "start_time": "2023-03-13T13:20:46.322Z"
   },
   {
    "duration": 156,
    "start_time": "2023-03-13T13:20:47.139Z"
   },
   {
    "duration": 48,
    "start_time": "2023-03-13T13:20:47.297Z"
   },
   {
    "duration": 21,
    "start_time": "2023-03-13T13:20:47.347Z"
   },
   {
    "duration": 137,
    "start_time": "2023-03-13T13:20:47.370Z"
   },
   {
    "duration": 202,
    "start_time": "2023-03-13T13:20:47.509Z"
   },
   {
    "duration": 234,
    "start_time": "2023-03-13T13:20:47.712Z"
   },
   {
    "duration": 86,
    "start_time": "2023-03-13T13:20:47.947Z"
   },
   {
    "duration": 211,
    "start_time": "2023-03-13T13:20:48.035Z"
   },
   {
    "duration": 988,
    "start_time": "2023-03-13T13:20:48.248Z"
   },
   {
    "duration": 823,
    "start_time": "2023-03-13T13:20:49.238Z"
   },
   {
    "duration": 574,
    "start_time": "2023-03-13T13:20:50.063Z"
   },
   {
    "duration": 211,
    "start_time": "2023-03-13T13:20:50.639Z"
   },
   {
    "duration": 29405,
    "start_time": "2023-03-13T13:20:50.852Z"
   },
   {
    "duration": 1122,
    "start_time": "2023-03-13T13:21:26.204Z"
   },
   {
    "duration": 56,
    "start_time": "2023-03-13T13:21:27.328Z"
   },
   {
    "duration": 45,
    "start_time": "2023-03-13T13:21:27.386Z"
   },
   {
    "duration": 172,
    "start_time": "2023-03-13T13:21:27.433Z"
   },
   {
    "duration": 861,
    "start_time": "2023-03-13T13:21:27.607Z"
   },
   {
    "duration": 156,
    "start_time": "2023-03-13T13:21:28.470Z"
   },
   {
    "duration": 81,
    "start_time": "2023-03-13T13:21:28.629Z"
   },
   {
    "duration": 27,
    "start_time": "2023-03-13T13:21:28.712Z"
   },
   {
    "duration": 180,
    "start_time": "2023-03-13T13:21:28.741Z"
   },
   {
    "duration": 260,
    "start_time": "2023-03-13T13:21:28.924Z"
   },
   {
    "duration": 267,
    "start_time": "2023-03-13T13:21:29.186Z"
   },
   {
    "duration": 102,
    "start_time": "2023-03-13T13:21:29.456Z"
   },
   {
    "duration": 249,
    "start_time": "2023-03-13T13:21:29.560Z"
   },
   {
    "duration": 1057,
    "start_time": "2023-03-13T13:21:29.811Z"
   },
   {
    "duration": 853,
    "start_time": "2023-03-13T13:21:30.870Z"
   },
   {
    "duration": 597,
    "start_time": "2023-03-13T13:21:31.725Z"
   },
   {
    "duration": 219,
    "start_time": "2023-03-13T13:21:32.324Z"
   },
   {
    "duration": 23516,
    "start_time": "2023-03-13T13:21:32.544Z"
   },
   {
    "duration": 24135,
    "start_time": "2023-03-13T13:21:56.069Z"
   },
   {
    "duration": 154088,
    "start_time": "2023-03-13T13:22:20.206Z"
   },
   {
    "duration": 255,
    "start_time": "2023-03-13T13:24:54.296Z"
   },
   {
    "duration": 1214,
    "start_time": "2023-03-13T13:31:30.036Z"
   },
   {
    "duration": 57,
    "start_time": "2023-03-13T13:31:31.252Z"
   },
   {
    "duration": 75,
    "start_time": "2023-03-13T13:31:31.314Z"
   },
   {
    "duration": 184,
    "start_time": "2023-03-13T13:31:31.391Z"
   },
   {
    "duration": 904,
    "start_time": "2023-03-13T13:31:31.577Z"
   },
   {
    "duration": 145,
    "start_time": "2023-03-13T13:31:32.484Z"
   },
   {
    "duration": 75,
    "start_time": "2023-03-13T13:31:32.632Z"
   },
   {
    "duration": 16,
    "start_time": "2023-03-13T13:31:32.709Z"
   },
   {
    "duration": 154,
    "start_time": "2023-03-13T13:31:32.729Z"
   },
   {
    "duration": 235,
    "start_time": "2023-03-13T13:31:32.885Z"
   },
   {
    "duration": 267,
    "start_time": "2023-03-13T13:31:33.122Z"
   },
   {
    "duration": 85,
    "start_time": "2023-03-13T13:31:33.391Z"
   },
   {
    "duration": 202,
    "start_time": "2023-03-13T13:31:33.478Z"
   },
   {
    "duration": 1298,
    "start_time": "2023-03-13T13:31:33.683Z"
   },
   {
    "duration": 921,
    "start_time": "2023-03-13T13:31:34.983Z"
   },
   {
    "duration": 596,
    "start_time": "2023-03-13T13:31:35.907Z"
   },
   {
    "duration": 228,
    "start_time": "2023-03-13T13:31:36.505Z"
   },
   {
    "duration": 22227,
    "start_time": "2023-03-13T13:31:36.735Z"
   },
   {
    "duration": 24088,
    "start_time": "2023-03-13T13:31:58.964Z"
   },
   {
    "duration": 1195,
    "start_time": "2023-03-13T13:34:00.498Z"
   },
   {
    "duration": 73,
    "start_time": "2023-03-13T13:34:01.696Z"
   },
   {
    "duration": 54,
    "start_time": "2023-03-13T13:34:01.771Z"
   },
   {
    "duration": 194,
    "start_time": "2023-03-13T13:34:01.827Z"
   },
   {
    "duration": 954,
    "start_time": "2023-03-13T13:34:02.023Z"
   },
   {
    "duration": 165,
    "start_time": "2023-03-13T13:34:02.979Z"
   },
   {
    "duration": 93,
    "start_time": "2023-03-13T13:34:03.146Z"
   },
   {
    "duration": 38,
    "start_time": "2023-03-13T13:34:03.241Z"
   },
   {
    "duration": 139,
    "start_time": "2023-03-13T13:34:03.281Z"
   },
   {
    "duration": 238,
    "start_time": "2023-03-13T13:34:03.424Z"
   },
   {
    "duration": 228,
    "start_time": "2023-03-13T13:34:03.664Z"
   },
   {
    "duration": 92,
    "start_time": "2023-03-13T13:34:03.894Z"
   },
   {
    "duration": 240,
    "start_time": "2023-03-13T13:34:03.988Z"
   },
   {
    "duration": 1283,
    "start_time": "2023-03-13T13:34:04.230Z"
   },
   {
    "duration": 197,
    "start_time": "2023-03-13T13:34:05.515Z"
   },
   {
    "duration": 0,
    "start_time": "2023-03-13T13:34:05.714Z"
   },
   {
    "duration": 0,
    "start_time": "2023-03-13T13:34:05.715Z"
   },
   {
    "duration": 0,
    "start_time": "2023-03-13T13:34:05.717Z"
   },
   {
    "duration": 0,
    "start_time": "2023-03-13T13:34:05.718Z"
   },
   {
    "duration": 0,
    "start_time": "2023-03-13T13:34:05.720Z"
   },
   {
    "duration": 0,
    "start_time": "2023-03-13T13:34:05.722Z"
   },
   {
    "duration": 0,
    "start_time": "2023-03-13T13:34:05.723Z"
   },
   {
    "duration": 0,
    "start_time": "2023-03-13T13:34:05.725Z"
   },
   {
    "duration": 0,
    "start_time": "2023-03-13T13:34:05.726Z"
   },
   {
    "duration": 0,
    "start_time": "2023-03-13T13:34:05.728Z"
   },
   {
    "duration": 0,
    "start_time": "2023-03-13T13:34:05.730Z"
   },
   {
    "duration": 11,
    "start_time": "2023-03-13T13:34:44.162Z"
   },
   {
    "duration": 187,
    "start_time": "2023-03-13T13:35:13.947Z"
   },
   {
    "duration": 417,
    "start_time": "2023-03-13T13:35:25.168Z"
   },
   {
    "duration": 261,
    "start_time": "2023-03-13T13:38:17.586Z"
   },
   {
    "duration": 260,
    "start_time": "2023-03-13T13:38:33.795Z"
   },
   {
    "duration": 229,
    "start_time": "2023-03-13T13:39:52.251Z"
   },
   {
    "duration": 448,
    "start_time": "2023-03-13T13:39:59.796Z"
   },
   {
    "duration": 1331,
    "start_time": "2023-03-13T13:40:58.182Z"
   },
   {
    "duration": 29,
    "start_time": "2023-03-13T13:41:08.353Z"
   },
   {
    "duration": 122,
    "start_time": "2023-03-13T13:48:59.606Z"
   },
   {
    "duration": 22,
    "start_time": "2023-03-13T13:49:17.795Z"
   },
   {
    "duration": 431,
    "start_time": "2023-03-13T13:49:28.675Z"
   },
   {
    "duration": 531,
    "start_time": "2023-03-13T13:49:40.162Z"
   },
   {
    "duration": 634,
    "start_time": "2023-03-13T13:49:54.951Z"
   },
   {
    "duration": 17,
    "start_time": "2023-03-13T13:52:01.431Z"
   },
   {
    "duration": 21,
    "start_time": "2023-03-13T13:52:29.303Z"
   },
   {
    "duration": 38,
    "start_time": "2023-03-13T13:52:54.703Z"
   },
   {
    "duration": 15,
    "start_time": "2023-03-13T13:54:36.606Z"
   },
   {
    "duration": 21,
    "start_time": "2023-03-13T13:59:40.267Z"
   },
   {
    "duration": 87,
    "start_time": "2023-03-13T14:01:20.831Z"
   },
   {
    "duration": 10,
    "start_time": "2023-03-13T14:08:12.219Z"
   },
   {
    "duration": 4,
    "start_time": "2023-03-13T14:08:52.516Z"
   },
   {
    "duration": 1015,
    "start_time": "2023-03-13T14:08:57.494Z"
   },
   {
    "duration": 1091,
    "start_time": "2023-03-13T14:11:38.444Z"
   },
   {
    "duration": 45,
    "start_time": "2023-03-13T14:11:39.537Z"
   },
   {
    "duration": 45,
    "start_time": "2023-03-13T14:11:39.583Z"
   },
   {
    "duration": 166,
    "start_time": "2023-03-13T14:11:39.630Z"
   },
   {
    "duration": 875,
    "start_time": "2023-03-13T14:11:39.798Z"
   },
   {
    "duration": 147,
    "start_time": "2023-03-13T14:11:40.675Z"
   },
   {
    "duration": 60,
    "start_time": "2023-03-13T14:11:40.824Z"
   },
   {
    "duration": 12,
    "start_time": "2023-03-13T14:11:40.886Z"
   },
   {
    "duration": 140,
    "start_time": "2023-03-13T14:11:40.900Z"
   },
   {
    "duration": 228,
    "start_time": "2023-03-13T14:11:41.043Z"
   },
   {
    "duration": 210,
    "start_time": "2023-03-13T14:11:41.273Z"
   },
   {
    "duration": 83,
    "start_time": "2023-03-13T14:11:41.485Z"
   },
   {
    "duration": 197,
    "start_time": "2023-03-13T14:11:41.569Z"
   },
   {
    "duration": 1113,
    "start_time": "2023-03-13T14:11:41.770Z"
   },
   {
    "duration": 364,
    "start_time": "2023-03-13T14:11:42.884Z"
   },
   {
    "duration": 25,
    "start_time": "2023-03-13T14:11:43.250Z"
   },
   {
    "duration": 460,
    "start_time": "2023-03-13T14:11:43.277Z"
   },
   {
    "duration": 32,
    "start_time": "2023-03-13T14:11:43.738Z"
   },
   {
    "duration": 41,
    "start_time": "2023-03-13T14:11:43.771Z"
   },
   {
    "duration": 15,
    "start_time": "2023-03-13T14:11:43.814Z"
   },
   {
    "duration": 36,
    "start_time": "2023-03-13T14:11:43.830Z"
   },
   {
    "duration": 967,
    "start_time": "2023-03-13T14:11:43.868Z"
   },
   {
    "duration": 96,
    "start_time": "2023-03-13T14:11:44.836Z"
   },
   {
    "duration": 186,
    "start_time": "2023-03-13T14:11:44.934Z"
   },
   {
    "duration": 243,
    "start_time": "2023-03-13T14:11:45.122Z"
   },
   {
    "duration": 2803,
    "start_time": "2023-03-13T14:11:45.367Z"
   },
   {
    "duration": 17276,
    "start_time": "2023-03-13T14:11:48.172Z"
   },
   {
    "duration": 136,
    "start_time": "2023-03-13T14:12:05.453Z"
   },
   {
    "duration": 492263,
    "start_time": "2023-03-13T14:12:05.592Z"
   },
   {
    "duration": 2682,
    "start_time": "2023-03-13T14:20:17.857Z"
   },
   {
    "duration": 12,
    "start_time": "2023-03-13T14:20:20.541Z"
   },
   {
    "duration": 0,
    "start_time": "2023-03-13T14:20:20.555Z"
   },
   {
    "duration": 0,
    "start_time": "2023-03-13T14:20:20.556Z"
   },
   {
    "duration": 1197,
    "start_time": "2023-03-13T14:21:14.126Z"
   },
   {
    "duration": 53,
    "start_time": "2023-03-13T14:21:15.325Z"
   },
   {
    "duration": 53,
    "start_time": "2023-03-13T14:21:15.380Z"
   },
   {
    "duration": 215,
    "start_time": "2023-03-13T14:21:15.436Z"
   },
   {
    "duration": 958,
    "start_time": "2023-03-13T14:21:15.653Z"
   },
   {
    "duration": 169,
    "start_time": "2023-03-13T14:21:16.612Z"
   },
   {
    "duration": 49,
    "start_time": "2023-03-13T14:21:16.786Z"
   },
   {
    "duration": 33,
    "start_time": "2023-03-13T14:21:16.837Z"
   },
   {
    "duration": 150,
    "start_time": "2023-03-13T14:21:16.878Z"
   },
   {
    "duration": 259,
    "start_time": "2023-03-13T14:21:17.032Z"
   },
   {
    "duration": 286,
    "start_time": "2023-03-13T14:21:17.296Z"
   },
   {
    "duration": 82,
    "start_time": "2023-03-13T14:21:17.584Z"
   },
   {
    "duration": 240,
    "start_time": "2023-03-13T14:21:17.667Z"
   },
   {
    "duration": 1290,
    "start_time": "2023-03-13T14:21:17.909Z"
   },
   {
    "duration": 446,
    "start_time": "2023-03-13T14:21:19.201Z"
   },
   {
    "duration": 29,
    "start_time": "2023-03-13T14:21:19.649Z"
   },
   {
    "duration": 500,
    "start_time": "2023-03-13T14:21:19.680Z"
   },
   {
    "duration": 17,
    "start_time": "2023-03-13T14:21:20.190Z"
   },
   {
    "duration": 56,
    "start_time": "2023-03-13T14:21:20.209Z"
   },
   {
    "duration": 26,
    "start_time": "2023-03-13T14:21:20.268Z"
   },
   {
    "duration": 21,
    "start_time": "2023-03-13T14:21:20.296Z"
   },
   {
    "duration": 1030,
    "start_time": "2023-03-13T14:21:20.320Z"
   },
   {
    "duration": 108,
    "start_time": "2023-03-13T14:21:21.352Z"
   },
   {
    "duration": 184,
    "start_time": "2023-03-13T14:21:21.463Z"
   },
   {
    "duration": 131,
    "start_time": "2023-03-13T14:21:21.649Z"
   },
   {
    "duration": 2910,
    "start_time": "2023-03-13T14:21:21.782Z"
   },
   {
    "duration": 18329,
    "start_time": "2023-03-13T14:21:24.697Z"
   },
   {
    "duration": 119,
    "start_time": "2023-03-13T14:21:43.029Z"
   },
   {
    "duration": 675435,
    "start_time": "2023-03-13T14:21:43.150Z"
   },
   {
    "duration": 3022,
    "start_time": "2023-03-13T14:32:58.587Z"
   },
   {
    "duration": 13,
    "start_time": "2023-03-13T14:33:01.611Z"
   },
   {
    "duration": 0,
    "start_time": "2023-03-13T14:33:01.626Z"
   },
   {
    "duration": 672,
    "start_time": "2023-03-13T14:35:20.117Z"
   },
   {
    "duration": 830,
    "start_time": "2023-03-13T14:35:34.089Z"
   },
   {
    "duration": 1078,
    "start_time": "2023-03-13T14:35:39.708Z"
   },
   {
    "duration": 38,
    "start_time": "2023-03-13T14:35:40.789Z"
   },
   {
    "duration": 55,
    "start_time": "2023-03-13T14:35:40.829Z"
   },
   {
    "duration": 168,
    "start_time": "2023-03-13T14:35:40.887Z"
   },
   {
    "duration": 935,
    "start_time": "2023-03-13T14:35:41.056Z"
   },
   {
    "duration": 154,
    "start_time": "2023-03-13T14:35:41.993Z"
   },
   {
    "duration": 63,
    "start_time": "2023-03-13T14:35:42.149Z"
   },
   {
    "duration": 8,
    "start_time": "2023-03-13T14:35:42.215Z"
   },
   {
    "duration": 170,
    "start_time": "2023-03-13T14:35:42.225Z"
   },
   {
    "duration": 237,
    "start_time": "2023-03-13T14:35:42.398Z"
   },
   {
    "duration": 225,
    "start_time": "2023-03-13T14:35:42.636Z"
   },
   {
    "duration": 99,
    "start_time": "2023-03-13T14:35:42.865Z"
   },
   {
    "duration": 310,
    "start_time": "2023-03-13T14:35:42.966Z"
   },
   {
    "duration": 1370,
    "start_time": "2023-03-13T14:35:43.279Z"
   },
   {
    "duration": 443,
    "start_time": "2023-03-13T14:35:44.660Z"
   },
   {
    "duration": 19,
    "start_time": "2023-03-13T14:35:45.105Z"
   },
   {
    "duration": 548,
    "start_time": "2023-03-13T14:35:45.126Z"
   },
   {
    "duration": 28,
    "start_time": "2023-03-13T14:35:45.680Z"
   },
   {
    "duration": 100,
    "start_time": "2023-03-13T14:35:45.712Z"
   },
   {
    "duration": 18,
    "start_time": "2023-03-13T14:35:45.858Z"
   },
   {
    "duration": 102,
    "start_time": "2023-03-13T14:35:45.878Z"
   },
   {
    "duration": 2421,
    "start_time": "2023-03-13T14:35:45.982Z"
   },
   {
    "duration": 93,
    "start_time": "2023-03-13T14:35:48.405Z"
   },
   {
    "duration": 200,
    "start_time": "2023-03-13T14:35:48.500Z"
   },
   {
    "duration": 179,
    "start_time": "2023-03-13T14:35:48.702Z"
   },
   {
    "duration": 2843,
    "start_time": "2023-03-13T14:35:48.895Z"
   },
   {
    "duration": 18452,
    "start_time": "2023-03-13T14:35:51.739Z"
   },
   {
    "duration": 229,
    "start_time": "2023-03-13T14:36:10.194Z"
   },
   {
    "duration": 135731,
    "start_time": "2023-03-13T14:36:10.425Z"
   },
   {
    "duration": 35870,
    "start_time": "2023-03-13T14:38:26.158Z"
   },
   {
    "duration": 39,
    "start_time": "2023-03-13T14:39:02.030Z"
   },
   {
    "duration": 102,
    "start_time": "2023-03-13T14:39:02.073Z"
   },
   {
    "duration": 16519,
    "start_time": "2023-03-13T14:39:02.179Z"
   },
   {
    "duration": 36624,
    "start_time": "2023-03-13T14:39:33.196Z"
   },
   {
    "duration": 71,
    "start_time": "2023-03-13T14:40:29.739Z"
   },
   {
    "duration": 81,
    "start_time": "2023-03-13T14:40:40.507Z"
   },
   {
    "duration": 1081,
    "start_time": "2023-03-13T14:41:46.597Z"
   },
   {
    "duration": 37,
    "start_time": "2023-03-13T14:41:47.683Z"
   },
   {
    "duration": 53,
    "start_time": "2023-03-13T14:41:47.722Z"
   },
   {
    "duration": 163,
    "start_time": "2023-03-13T14:41:47.779Z"
   },
   {
    "duration": 968,
    "start_time": "2023-03-13T14:41:47.944Z"
   },
   {
    "duration": 263,
    "start_time": "2023-03-13T14:41:48.913Z"
   },
   {
    "duration": 113,
    "start_time": "2023-03-13T14:41:49.178Z"
   },
   {
    "duration": 101,
    "start_time": "2023-03-13T14:41:49.293Z"
   },
   {
    "duration": 307,
    "start_time": "2023-03-13T14:41:49.395Z"
   },
   {
    "duration": 591,
    "start_time": "2023-03-13T14:41:49.704Z"
   },
   {
    "duration": 679,
    "start_time": "2023-03-13T14:41:50.297Z"
   },
   {
    "duration": 216,
    "start_time": "2023-03-13T14:41:50.979Z"
   },
   {
    "duration": 248,
    "start_time": "2023-03-13T14:41:51.196Z"
   },
   {
    "duration": 1199,
    "start_time": "2023-03-13T14:41:51.447Z"
   },
   {
    "duration": 404,
    "start_time": "2023-03-13T14:41:52.648Z"
   },
   {
    "duration": 19,
    "start_time": "2023-03-13T14:41:53.058Z"
   },
   {
    "duration": 467,
    "start_time": "2023-03-13T14:41:53.079Z"
   },
   {
    "duration": 35,
    "start_time": "2023-03-13T14:41:53.548Z"
   },
   {
    "duration": 47,
    "start_time": "2023-03-13T14:41:53.587Z"
   },
   {
    "duration": 25,
    "start_time": "2023-03-13T14:41:53.636Z"
   },
   {
    "duration": 23,
    "start_time": "2023-03-13T14:41:53.662Z"
   },
   {
    "duration": 1195,
    "start_time": "2023-03-13T14:41:53.687Z"
   },
   {
    "duration": 98,
    "start_time": "2023-03-13T14:41:54.884Z"
   },
   {
    "duration": 196,
    "start_time": "2023-03-13T14:41:54.988Z"
   },
   {
    "duration": 75,
    "start_time": "2023-03-13T14:41:55.186Z"
   },
   {
    "duration": 2843,
    "start_time": "2023-03-13T14:41:55.263Z"
   },
   {
    "duration": 17672,
    "start_time": "2023-03-13T14:41:58.107Z"
   },
   {
    "duration": 220,
    "start_time": "2023-03-13T14:42:15.787Z"
   },
   {
    "duration": 12843,
    "start_time": "2023-03-13T14:42:16.009Z"
   },
   {
    "duration": 37744,
    "start_time": "2023-03-13T14:42:28.854Z"
   },
   {
    "duration": 12,
    "start_time": "2023-03-13T14:43:06.600Z"
   },
   {
    "duration": 0,
    "start_time": "2023-03-13T14:43:06.614Z"
   },
   {
    "duration": 0,
    "start_time": "2023-03-13T14:43:06.617Z"
   },
   {
    "duration": 99,
    "start_time": "2023-03-13T14:43:32.723Z"
   },
   {
    "duration": 87,
    "start_time": "2023-03-13T14:43:46.850Z"
   },
   {
    "duration": 1065,
    "start_time": "2023-03-13T14:44:10.406Z"
   },
   {
    "duration": 42,
    "start_time": "2023-03-13T14:44:11.473Z"
   },
   {
    "duration": 60,
    "start_time": "2023-03-13T14:44:11.516Z"
   },
   {
    "duration": 175,
    "start_time": "2023-03-13T14:44:11.581Z"
   },
   {
    "duration": 919,
    "start_time": "2023-03-13T14:44:11.759Z"
   },
   {
    "duration": 148,
    "start_time": "2023-03-13T14:44:12.684Z"
   },
   {
    "duration": 59,
    "start_time": "2023-03-13T14:44:12.834Z"
   },
   {
    "duration": 8,
    "start_time": "2023-03-13T14:44:12.895Z"
   },
   {
    "duration": 139,
    "start_time": "2023-03-13T14:44:12.905Z"
   },
   {
    "duration": 241,
    "start_time": "2023-03-13T14:44:13.047Z"
   },
   {
    "duration": 275,
    "start_time": "2023-03-13T14:44:13.290Z"
   },
   {
    "duration": 105,
    "start_time": "2023-03-13T14:44:13.567Z"
   },
   {
    "duration": 232,
    "start_time": "2023-03-13T14:44:13.674Z"
   },
   {
    "duration": 2538,
    "start_time": "2023-03-13T14:44:13.908Z"
   },
   {
    "duration": 405,
    "start_time": "2023-03-13T14:44:16.463Z"
   },
   {
    "duration": 19,
    "start_time": "2023-03-13T14:44:16.876Z"
   },
   {
    "duration": 453,
    "start_time": "2023-03-13T14:44:16.897Z"
   },
   {
    "duration": 33,
    "start_time": "2023-03-13T14:44:17.352Z"
   },
   {
    "duration": 44,
    "start_time": "2023-03-13T14:44:17.387Z"
   },
   {
    "duration": 15,
    "start_time": "2023-03-13T14:44:17.432Z"
   },
   {
    "duration": 24,
    "start_time": "2023-03-13T14:44:17.448Z"
   },
   {
    "duration": 1025,
    "start_time": "2023-03-13T14:44:17.479Z"
   },
   {
    "duration": 95,
    "start_time": "2023-03-13T14:44:18.505Z"
   },
   {
    "duration": 197,
    "start_time": "2023-03-13T14:44:18.601Z"
   },
   {
    "duration": 82,
    "start_time": "2023-03-13T14:44:18.799Z"
   },
   {
    "duration": 2806,
    "start_time": "2023-03-13T14:44:18.883Z"
   },
   {
    "duration": 12560,
    "start_time": "2023-03-13T14:44:21.690Z"
   },
   {
    "duration": 279,
    "start_time": "2023-03-13T14:44:34.253Z"
   },
   {
    "duration": 1216,
    "start_time": "2023-03-13T14:45:09.224Z"
   },
   {
    "duration": 53,
    "start_time": "2023-03-13T14:45:10.441Z"
   },
   {
    "duration": 44,
    "start_time": "2023-03-13T14:45:10.495Z"
   },
   {
    "duration": 235,
    "start_time": "2023-03-13T14:45:10.541Z"
   },
   {
    "duration": 962,
    "start_time": "2023-03-13T14:45:10.778Z"
   },
   {
    "duration": 187,
    "start_time": "2023-03-13T14:45:11.742Z"
   },
   {
    "duration": 67,
    "start_time": "2023-03-13T14:45:11.931Z"
   },
   {
    "duration": 9,
    "start_time": "2023-03-13T14:45:11.999Z"
   },
   {
    "duration": 161,
    "start_time": "2023-03-13T14:45:12.010Z"
   },
   {
    "duration": 237,
    "start_time": "2023-03-13T14:45:12.174Z"
   },
   {
    "duration": 228,
    "start_time": "2023-03-13T14:45:12.412Z"
   },
   {
    "duration": 96,
    "start_time": "2023-03-13T14:45:12.642Z"
   },
   {
    "duration": 234,
    "start_time": "2023-03-13T14:45:12.740Z"
   },
   {
    "duration": 1248,
    "start_time": "2023-03-13T14:45:12.980Z"
   },
   {
    "duration": 417,
    "start_time": "2023-03-13T14:45:14.230Z"
   },
   {
    "duration": 36,
    "start_time": "2023-03-13T14:45:14.649Z"
   },
   {
    "duration": 492,
    "start_time": "2023-03-13T14:45:14.689Z"
   },
   {
    "duration": 22,
    "start_time": "2023-03-13T14:45:15.187Z"
   },
   {
    "duration": 42,
    "start_time": "2023-03-13T14:45:15.211Z"
   },
   {
    "duration": 17,
    "start_time": "2023-03-13T14:45:15.258Z"
   },
   {
    "duration": 97,
    "start_time": "2023-03-13T14:45:15.277Z"
   },
   {
    "duration": 1132,
    "start_time": "2023-03-13T14:45:15.381Z"
   },
   {
    "duration": 98,
    "start_time": "2023-03-13T14:45:16.515Z"
   },
   {
    "duration": 206,
    "start_time": "2023-03-13T14:45:16.615Z"
   },
   {
    "duration": 239,
    "start_time": "2023-03-13T14:45:16.823Z"
   },
   {
    "duration": 2755,
    "start_time": "2023-03-13T14:45:17.074Z"
   },
   {
    "duration": 17536,
    "start_time": "2023-03-13T14:45:19.831Z"
   },
   {
    "duration": 259,
    "start_time": "2023-03-13T14:45:37.373Z"
   },
   {
    "duration": 36663,
    "start_time": "2023-03-13T14:45:37.633Z"
   },
   {
    "duration": 40445,
    "start_time": "2023-03-13T14:46:14.298Z"
   },
   {
    "duration": 33,
    "start_time": "2023-03-13T14:46:54.745Z"
   },
   {
    "duration": 0,
    "start_time": "2023-03-13T14:46:54.781Z"
   },
   {
    "duration": 2843,
    "start_time": "2023-03-13T14:47:00.434Z"
   },
   {
    "duration": 21090,
    "start_time": "2023-03-13T14:47:37.541Z"
   },
   {
    "duration": 1359,
    "start_time": "2023-03-13T14:48:05.425Z"
   },
   {
    "duration": 38,
    "start_time": "2023-03-13T14:48:06.789Z"
   },
   {
    "duration": 56,
    "start_time": "2023-03-13T14:48:06.828Z"
   },
   {
    "duration": 192,
    "start_time": "2023-03-13T14:48:06.890Z"
   },
   {
    "duration": 931,
    "start_time": "2023-03-13T14:48:07.084Z"
   },
   {
    "duration": 178,
    "start_time": "2023-03-13T14:48:08.017Z"
   },
   {
    "duration": 58,
    "start_time": "2023-03-13T14:48:08.200Z"
   },
   {
    "duration": 47,
    "start_time": "2023-03-13T14:48:08.259Z"
   },
   {
    "duration": 139,
    "start_time": "2023-03-13T14:48:08.308Z"
   },
   {
    "duration": 241,
    "start_time": "2023-03-13T14:48:08.450Z"
   },
   {
    "duration": 213,
    "start_time": "2023-03-13T14:48:08.692Z"
   },
   {
    "duration": 98,
    "start_time": "2023-03-13T14:48:08.907Z"
   },
   {
    "duration": 248,
    "start_time": "2023-03-13T14:48:09.007Z"
   },
   {
    "duration": 1235,
    "start_time": "2023-03-13T14:48:09.257Z"
   },
   {
    "duration": 381,
    "start_time": "2023-03-13T14:48:10.494Z"
   },
   {
    "duration": 20,
    "start_time": "2023-03-13T14:48:10.882Z"
   },
   {
    "duration": 471,
    "start_time": "2023-03-13T14:48:10.903Z"
   },
   {
    "duration": 25,
    "start_time": "2023-03-13T14:48:11.376Z"
   },
   {
    "duration": 71,
    "start_time": "2023-03-13T14:48:11.403Z"
   },
   {
    "duration": 20,
    "start_time": "2023-03-13T14:48:11.476Z"
   },
   {
    "duration": 25,
    "start_time": "2023-03-13T14:48:11.498Z"
   },
   {
    "duration": 1152,
    "start_time": "2023-03-13T14:48:11.524Z"
   },
   {
    "duration": 105,
    "start_time": "2023-03-13T14:48:12.682Z"
   },
   {
    "duration": 206,
    "start_time": "2023-03-13T14:48:12.792Z"
   },
   {
    "duration": 172,
    "start_time": "2023-03-13T14:48:13.000Z"
   },
   {
    "duration": 3143,
    "start_time": "2023-03-13T14:48:13.181Z"
   },
   {
    "duration": 18825,
    "start_time": "2023-03-13T14:48:16.327Z"
   },
   {
    "duration": 328,
    "start_time": "2023-03-13T14:48:35.162Z"
   },
   {
    "duration": 1344396,
    "start_time": "2023-03-13T14:48:35.498Z"
   },
   {
    "duration": 21399,
    "start_time": "2023-03-13T15:10:59.897Z"
   },
   {
    "duration": 12,
    "start_time": "2023-03-13T15:11:21.298Z"
   },
   {
    "duration": 273,
    "start_time": "2023-03-13T15:11:21.312Z"
   },
   {
    "duration": 210,
    "start_time": "2023-03-13T15:13:42.287Z"
   },
   {
    "duration": 22,
    "start_time": "2023-03-13T15:18:23.827Z"
   },
   {
    "duration": 83,
    "start_time": "2023-03-13T15:19:20.317Z"
   },
   {
    "duration": 221,
    "start_time": "2023-03-13T15:20:03.621Z"
   },
   {
    "duration": 1069,
    "start_time": "2023-03-13T15:29:47.062Z"
   },
   {
    "duration": 39,
    "start_time": "2023-03-13T15:29:48.134Z"
   },
   {
    "duration": 44,
    "start_time": "2023-03-13T15:29:48.175Z"
   },
   {
    "duration": 160,
    "start_time": "2023-03-13T15:29:48.221Z"
   },
   {
    "duration": 809,
    "start_time": "2023-03-13T15:29:48.382Z"
   },
   {
    "duration": 145,
    "start_time": "2023-03-13T15:29:49.193Z"
   },
   {
    "duration": 64,
    "start_time": "2023-03-13T15:29:49.340Z"
   },
   {
    "duration": 9,
    "start_time": "2023-03-13T15:29:49.406Z"
   },
   {
    "duration": 131,
    "start_time": "2023-03-13T15:29:49.417Z"
   },
   {
    "duration": 200,
    "start_time": "2023-03-13T15:29:49.551Z"
   },
   {
    "duration": 185,
    "start_time": "2023-03-13T15:29:49.757Z"
   },
   {
    "duration": 88,
    "start_time": "2023-03-13T15:29:49.944Z"
   },
   {
    "duration": 212,
    "start_time": "2023-03-13T15:29:50.034Z"
   },
   {
    "duration": 1125,
    "start_time": "2023-03-13T15:29:50.248Z"
   },
   {
    "duration": 335,
    "start_time": "2023-03-13T15:29:51.374Z"
   },
   {
    "duration": 17,
    "start_time": "2023-03-13T15:29:51.711Z"
   },
   {
    "duration": 403,
    "start_time": "2023-03-13T15:29:51.730Z"
   },
   {
    "duration": 34,
    "start_time": "2023-03-13T15:29:52.134Z"
   },
   {
    "duration": 41,
    "start_time": "2023-03-13T15:29:52.169Z"
   },
   {
    "duration": 15,
    "start_time": "2023-03-13T15:29:52.212Z"
   },
   {
    "duration": 32,
    "start_time": "2023-03-13T15:29:52.228Z"
   },
   {
    "duration": 922,
    "start_time": "2023-03-13T15:29:52.261Z"
   },
   {
    "duration": 91,
    "start_time": "2023-03-13T15:29:53.185Z"
   },
   {
    "duration": 184,
    "start_time": "2023-03-13T15:29:53.277Z"
   },
   {
    "duration": 105,
    "start_time": "2023-03-13T15:29:53.463Z"
   },
   {
    "duration": 2613,
    "start_time": "2023-03-13T15:29:53.569Z"
   },
   {
    "duration": 16294,
    "start_time": "2023-03-13T15:29:56.184Z"
   },
   {
    "duration": 290,
    "start_time": "2023-03-13T15:30:12.481Z"
   },
   {
    "duration": 9695,
    "start_time": "2023-03-13T15:30:12.773Z"
   },
   {
    "duration": 17278,
    "start_time": "2023-03-13T15:30:22.470Z"
   },
   {
    "duration": 10,
    "start_time": "2023-03-13T15:30:39.750Z"
   },
   {
    "duration": 25,
    "start_time": "2023-03-13T15:30:39.762Z"
   },
   {
    "duration": 181,
    "start_time": "2023-03-13T15:30:39.789Z"
   },
   {
    "duration": 196,
    "start_time": "2023-03-13T15:36:08.024Z"
   },
   {
    "duration": 78,
    "start_time": "2023-03-13T15:36:40.103Z"
   },
   {
    "duration": 196,
    "start_time": "2023-03-13T15:37:02.966Z"
   },
   {
    "duration": 1093,
    "start_time": "2023-03-13T15:39:11.222Z"
   },
   {
    "duration": 41,
    "start_time": "2023-03-13T15:39:12.320Z"
   },
   {
    "duration": 45,
    "start_time": "2023-03-13T15:39:12.362Z"
   },
   {
    "duration": 157,
    "start_time": "2023-03-13T15:39:12.409Z"
   },
   {
    "duration": 827,
    "start_time": "2023-03-13T15:39:12.568Z"
   },
   {
    "duration": 145,
    "start_time": "2023-03-13T15:39:13.397Z"
   },
   {
    "duration": 57,
    "start_time": "2023-03-13T15:39:13.544Z"
   },
   {
    "duration": 11,
    "start_time": "2023-03-13T15:39:13.603Z"
   },
   {
    "duration": 148,
    "start_time": "2023-03-13T15:39:13.616Z"
   },
   {
    "duration": 219,
    "start_time": "2023-03-13T15:39:13.765Z"
   },
   {
    "duration": 252,
    "start_time": "2023-03-13T15:39:13.986Z"
   },
   {
    "duration": 85,
    "start_time": "2023-03-13T15:39:14.240Z"
   },
   {
    "duration": 265,
    "start_time": "2023-03-13T15:39:14.328Z"
   },
   {
    "duration": 1231,
    "start_time": "2023-03-13T15:39:14.595Z"
   },
   {
    "duration": 323,
    "start_time": "2023-03-13T15:39:15.828Z"
   },
   {
    "duration": 16,
    "start_time": "2023-03-13T15:39:16.157Z"
   },
   {
    "duration": 413,
    "start_time": "2023-03-13T15:39:16.175Z"
   },
   {
    "duration": 17,
    "start_time": "2023-03-13T15:39:16.589Z"
   },
   {
    "duration": 58,
    "start_time": "2023-03-13T15:39:16.607Z"
   },
   {
    "duration": 15,
    "start_time": "2023-03-13T15:39:16.667Z"
   },
   {
    "duration": 17,
    "start_time": "2023-03-13T15:39:16.683Z"
   },
   {
    "duration": 946,
    "start_time": "2023-03-13T15:39:16.702Z"
   },
   {
    "duration": 90,
    "start_time": "2023-03-13T15:39:17.649Z"
   },
   {
    "duration": 184,
    "start_time": "2023-03-13T15:39:17.741Z"
   },
   {
    "duration": 131,
    "start_time": "2023-03-13T15:39:17.927Z"
   },
   {
    "duration": 2530,
    "start_time": "2023-03-13T15:39:18.063Z"
   },
   {
    "duration": 15873,
    "start_time": "2023-03-13T15:39:20.595Z"
   },
   {
    "duration": 241,
    "start_time": "2023-03-13T15:39:36.470Z"
   },
   {
    "duration": 11862,
    "start_time": "2023-03-13T15:39:36.712Z"
   },
   {
    "duration": 18484,
    "start_time": "2023-03-13T15:39:48.576Z"
   },
   {
    "duration": 11,
    "start_time": "2023-03-13T15:40:07.062Z"
   },
   {
    "duration": 286,
    "start_time": "2023-03-13T15:40:07.075Z"
   },
   {
    "duration": 181,
    "start_time": "2023-03-13T15:40:07.363Z"
   },
   {
    "duration": 1059,
    "start_time": "2023-03-14T13:52:23.311Z"
   },
   {
    "duration": 37,
    "start_time": "2023-03-14T13:52:24.372Z"
   },
   {
    "duration": 43,
    "start_time": "2023-03-14T13:52:24.410Z"
   },
   {
    "duration": 136,
    "start_time": "2023-03-14T13:52:24.454Z"
   },
   {
    "duration": 2431,
    "start_time": "2023-03-14T13:52:24.592Z"
   },
   {
    "duration": 111,
    "start_time": "2023-03-14T13:52:27.025Z"
   },
   {
    "duration": 45,
    "start_time": "2023-03-14T13:52:27.137Z"
   },
   {
    "duration": 22,
    "start_time": "2023-03-14T13:52:27.184Z"
   },
   {
    "duration": 116,
    "start_time": "2023-03-14T13:52:27.207Z"
   },
   {
    "duration": 184,
    "start_time": "2023-03-14T13:52:27.325Z"
   },
   {
    "duration": 195,
    "start_time": "2023-03-14T13:52:27.510Z"
   },
   {
    "duration": 68,
    "start_time": "2023-03-14T13:52:27.706Z"
   },
   {
    "duration": 181,
    "start_time": "2023-03-14T13:52:27.776Z"
   },
   {
    "duration": 1269,
    "start_time": "2023-03-14T13:52:27.960Z"
   },
   {
    "duration": 317,
    "start_time": "2023-03-14T13:52:29.231Z"
   },
   {
    "duration": 19,
    "start_time": "2023-03-14T13:52:29.550Z"
   },
   {
    "duration": 408,
    "start_time": "2023-03-14T13:52:29.572Z"
   },
   {
    "duration": 17,
    "start_time": "2023-03-14T13:52:29.981Z"
   },
   {
    "duration": 55,
    "start_time": "2023-03-14T13:52:29.999Z"
   },
   {
    "duration": 14,
    "start_time": "2023-03-14T13:52:30.056Z"
   },
   {
    "duration": 17,
    "start_time": "2023-03-14T13:52:30.072Z"
   },
   {
    "duration": 925,
    "start_time": "2023-03-14T13:52:30.091Z"
   },
   {
    "duration": 82,
    "start_time": "2023-03-14T13:52:31.022Z"
   },
   {
    "duration": 153,
    "start_time": "2023-03-14T13:52:31.120Z"
   },
   {
    "duration": 159,
    "start_time": "2023-03-14T13:52:31.275Z"
   },
   {
    "duration": 2443,
    "start_time": "2023-03-14T13:52:31.521Z"
   },
   {
    "duration": 16873,
    "start_time": "2023-03-14T13:52:33.966Z"
   },
   {
    "duration": 253,
    "start_time": "2023-03-14T13:52:50.841Z"
   },
   {
    "duration": 753438,
    "start_time": "2023-03-14T13:52:51.095Z"
   },
   {
    "duration": 17521,
    "start_time": "2023-03-14T14:05:24.535Z"
   },
   {
    "duration": 15,
    "start_time": "2023-03-14T14:05:42.058Z"
   },
   {
    "duration": 253,
    "start_time": "2023-03-14T14:05:42.075Z"
   },
   {
    "duration": 228,
    "start_time": "2023-03-14T14:05:42.330Z"
   },
   {
    "duration": 1150,
    "start_time": "2023-03-14T14:09:58.785Z"
   },
   {
    "duration": 53,
    "start_time": "2023-03-14T14:09:59.938Z"
   },
   {
    "duration": 63,
    "start_time": "2023-03-14T14:09:59.992Z"
   },
   {
    "duration": 188,
    "start_time": "2023-03-14T14:10:00.058Z"
   },
   {
    "duration": 942,
    "start_time": "2023-03-14T14:10:00.248Z"
   },
   {
    "duration": 117,
    "start_time": "2023-03-14T14:10:01.192Z"
   },
   {
    "duration": 86,
    "start_time": "2023-03-14T14:10:01.311Z"
   },
   {
    "duration": 42,
    "start_time": "2023-03-14T14:10:01.400Z"
   },
   {
    "duration": 180,
    "start_time": "2023-03-14T14:10:01.444Z"
   },
   {
    "duration": 306,
    "start_time": "2023-03-14T14:10:01.630Z"
   },
   {
    "duration": 282,
    "start_time": "2023-03-14T14:10:01.939Z"
   },
   {
    "duration": 114,
    "start_time": "2023-03-14T14:10:02.223Z"
   },
   {
    "duration": 196,
    "start_time": "2023-03-14T14:10:02.340Z"
   },
   {
    "duration": 1210,
    "start_time": "2023-03-14T14:10:02.538Z"
   },
   {
    "duration": 332,
    "start_time": "2023-03-14T14:10:03.749Z"
   },
   {
    "duration": 23,
    "start_time": "2023-03-14T14:10:04.083Z"
   },
   {
    "duration": 599,
    "start_time": "2023-03-14T14:10:04.108Z"
   },
   {
    "duration": 31,
    "start_time": "2023-03-14T14:10:04.708Z"
   },
   {
    "duration": 48,
    "start_time": "2023-03-14T14:10:04.741Z"
   },
   {
    "duration": 37,
    "start_time": "2023-03-14T14:10:04.791Z"
   },
   {
    "duration": 23,
    "start_time": "2023-03-14T14:10:04.830Z"
   },
   {
    "duration": 147,
    "start_time": "2023-03-14T14:10:04.855Z"
   },
   {
    "duration": 964,
    "start_time": "2023-03-14T14:10:05.004Z"
   },
   {
    "duration": 104,
    "start_time": "2023-03-14T14:10:05.971Z"
   },
   {
    "duration": 189,
    "start_time": "2023-03-14T14:10:06.077Z"
   },
   {
    "duration": 265,
    "start_time": "2023-03-14T14:10:06.268Z"
   },
   {
    "duration": 4235,
    "start_time": "2023-03-14T14:10:06.535Z"
   },
   {
    "duration": 16256,
    "start_time": "2023-03-14T14:10:10.775Z"
   },
   {
    "duration": 263,
    "start_time": "2023-03-14T14:10:27.033Z"
   },
   {
    "duration": 1115,
    "start_time": "2023-03-14T14:11:08.449Z"
   },
   {
    "duration": 62,
    "start_time": "2023-03-14T14:11:09.567Z"
   },
   {
    "duration": 68,
    "start_time": "2023-03-14T14:11:09.632Z"
   },
   {
    "duration": 163,
    "start_time": "2023-03-14T14:11:09.702Z"
   },
   {
    "duration": 771,
    "start_time": "2023-03-14T14:11:09.867Z"
   },
   {
    "duration": 114,
    "start_time": "2023-03-14T14:11:10.640Z"
   },
   {
    "duration": 64,
    "start_time": "2023-03-14T14:11:10.757Z"
   },
   {
    "duration": 9,
    "start_time": "2023-03-14T14:11:10.824Z"
   },
   {
    "duration": 323,
    "start_time": "2023-03-14T14:11:10.835Z"
   },
   {
    "duration": 596,
    "start_time": "2023-03-14T14:11:11.162Z"
   },
   {
    "duration": 587,
    "start_time": "2023-03-14T14:11:11.760Z"
   },
   {
    "duration": 215,
    "start_time": "2023-03-14T14:11:12.349Z"
   },
   {
    "duration": 353,
    "start_time": "2023-03-14T14:11:12.623Z"
   },
   {
    "duration": 1150,
    "start_time": "2023-03-14T14:11:12.978Z"
   },
   {
    "duration": 306,
    "start_time": "2023-03-14T14:11:14.130Z"
   },
   {
    "duration": 18,
    "start_time": "2023-03-14T14:11:14.438Z"
   },
   {
    "duration": 393,
    "start_time": "2023-03-14T14:11:14.458Z"
   },
   {
    "duration": 17,
    "start_time": "2023-03-14T14:11:14.853Z"
   },
   {
    "duration": 54,
    "start_time": "2023-03-14T14:11:14.872Z"
   },
   {
    "duration": 18,
    "start_time": "2023-03-14T14:11:14.928Z"
   },
   {
    "duration": 19,
    "start_time": "2023-03-14T14:11:14.948Z"
   },
   {
    "duration": 152,
    "start_time": "2023-03-14T14:11:14.969Z"
   },
   {
    "duration": 832,
    "start_time": "2023-03-14T14:11:15.123Z"
   },
   {
    "duration": 95,
    "start_time": "2023-03-14T14:11:15.957Z"
   },
   {
    "duration": 182,
    "start_time": "2023-03-14T14:11:16.054Z"
   },
   {
    "duration": 99,
    "start_time": "2023-03-14T14:11:16.238Z"
   },
   {
    "duration": 2633,
    "start_time": "2023-03-14T14:11:16.339Z"
   },
   {
    "duration": 9085,
    "start_time": "2023-03-14T14:11:18.976Z"
   },
   {
    "duration": 243,
    "start_time": "2023-03-14T14:11:28.063Z"
   },
   {
    "duration": 1323,
    "start_time": "2023-03-14T14:15:19.027Z"
   },
   {
    "duration": 99,
    "start_time": "2023-03-14T14:15:20.353Z"
   },
   {
    "duration": 109,
    "start_time": "2023-03-14T14:15:20.455Z"
   },
   {
    "duration": 238,
    "start_time": "2023-03-14T14:15:20.620Z"
   },
   {
    "duration": 1704,
    "start_time": "2023-03-14T14:15:20.860Z"
   },
   {
    "duration": 169,
    "start_time": "2023-03-14T14:15:22.566Z"
   },
   {
    "duration": 48,
    "start_time": "2023-03-14T14:15:22.736Z"
   },
   {
    "duration": 11,
    "start_time": "2023-03-14T14:15:22.786Z"
   },
   {
    "duration": 122,
    "start_time": "2023-03-14T14:15:22.800Z"
   },
   {
    "duration": 188,
    "start_time": "2023-03-14T14:15:22.926Z"
   },
   {
    "duration": 190,
    "start_time": "2023-03-14T14:15:23.116Z"
   },
   {
    "duration": 72,
    "start_time": "2023-03-14T14:15:23.309Z"
   },
   {
    "duration": 173,
    "start_time": "2023-03-14T14:15:23.383Z"
   },
   {
    "duration": 1167,
    "start_time": "2023-03-14T14:15:23.557Z"
   },
   {
    "duration": 302,
    "start_time": "2023-03-14T14:15:24.726Z"
   },
   {
    "duration": 17,
    "start_time": "2023-03-14T14:15:25.029Z"
   },
   {
    "duration": 402,
    "start_time": "2023-03-14T14:15:25.048Z"
   },
   {
    "duration": 20,
    "start_time": "2023-03-14T14:15:25.452Z"
   },
   {
    "duration": 51,
    "start_time": "2023-03-14T14:15:25.474Z"
   },
   {
    "duration": 16,
    "start_time": "2023-03-14T14:15:25.527Z"
   },
   {
    "duration": 22,
    "start_time": "2023-03-14T14:15:25.545Z"
   },
   {
    "duration": 136,
    "start_time": "2023-03-14T14:15:25.569Z"
   },
   {
    "duration": 135,
    "start_time": "2023-03-14T14:15:25.707Z"
   },
   {
    "duration": 0,
    "start_time": "2023-03-14T14:15:25.844Z"
   },
   {
    "duration": 0,
    "start_time": "2023-03-14T14:15:25.845Z"
   },
   {
    "duration": 0,
    "start_time": "2023-03-14T14:15:25.846Z"
   },
   {
    "duration": 0,
    "start_time": "2023-03-14T14:15:25.848Z"
   },
   {
    "duration": 0,
    "start_time": "2023-03-14T14:15:25.850Z"
   },
   {
    "duration": 1,
    "start_time": "2023-03-14T14:15:25.851Z"
   },
   {
    "duration": 0,
    "start_time": "2023-03-14T14:15:25.853Z"
   },
   {
    "duration": 0,
    "start_time": "2023-03-14T14:15:25.854Z"
   },
   {
    "duration": 0,
    "start_time": "2023-03-14T14:15:25.855Z"
   },
   {
    "duration": 0,
    "start_time": "2023-03-14T14:15:25.856Z"
   },
   {
    "duration": 0,
    "start_time": "2023-03-14T14:15:25.858Z"
   },
   {
    "duration": 30,
    "start_time": "2023-03-14T14:15:41.787Z"
   },
   {
    "duration": 12,
    "start_time": "2023-03-14T14:15:52.803Z"
   },
   {
    "duration": 16,
    "start_time": "2023-03-14T14:16:00.602Z"
   },
   {
    "duration": 12,
    "start_time": "2023-03-14T14:16:48.236Z"
   },
   {
    "duration": 3,
    "start_time": "2023-03-14T14:17:19.266Z"
   },
   {
    "duration": 12,
    "start_time": "2023-03-14T14:17:25.345Z"
   },
   {
    "duration": 1080,
    "start_time": "2023-03-14T14:17:55.813Z"
   },
   {
    "duration": 42,
    "start_time": "2023-03-14T14:17:56.895Z"
   },
   {
    "duration": 50,
    "start_time": "2023-03-14T14:17:56.942Z"
   },
   {
    "duration": 206,
    "start_time": "2023-03-14T14:17:56.993Z"
   },
   {
    "duration": 874,
    "start_time": "2023-03-14T14:17:57.202Z"
   },
   {
    "duration": 114,
    "start_time": "2023-03-14T14:17:58.078Z"
   },
   {
    "duration": 48,
    "start_time": "2023-03-14T14:17:58.194Z"
   },
   {
    "duration": 10,
    "start_time": "2023-03-14T14:17:58.244Z"
   },
   {
    "duration": 120,
    "start_time": "2023-03-14T14:17:58.257Z"
   },
   {
    "duration": 192,
    "start_time": "2023-03-14T14:17:58.379Z"
   },
   {
    "duration": 187,
    "start_time": "2023-03-14T14:17:58.573Z"
   },
   {
    "duration": 67,
    "start_time": "2023-03-14T14:17:58.762Z"
   },
   {
    "duration": 190,
    "start_time": "2023-03-14T14:17:58.831Z"
   },
   {
    "duration": 1180,
    "start_time": "2023-03-14T14:17:59.022Z"
   },
   {
    "duration": 385,
    "start_time": "2023-03-14T14:18:00.203Z"
   },
   {
    "duration": 19,
    "start_time": "2023-03-14T14:18:00.590Z"
   },
   {
    "duration": 426,
    "start_time": "2023-03-14T14:18:00.622Z"
   },
   {
    "duration": 18,
    "start_time": "2023-03-14T14:18:01.050Z"
   },
   {
    "duration": 68,
    "start_time": "2023-03-14T14:18:01.070Z"
   },
   {
    "duration": 20,
    "start_time": "2023-03-14T14:18:01.141Z"
   },
   {
    "duration": 39,
    "start_time": "2023-03-14T14:18:01.164Z"
   },
   {
    "duration": 131,
    "start_time": "2023-03-14T14:18:01.205Z"
   },
   {
    "duration": 126,
    "start_time": "2023-03-14T14:18:01.338Z"
   },
   {
    "duration": 0,
    "start_time": "2023-03-14T14:18:01.466Z"
   },
   {
    "duration": 0,
    "start_time": "2023-03-14T14:18:01.467Z"
   },
   {
    "duration": 0,
    "start_time": "2023-03-14T14:18:01.469Z"
   },
   {
    "duration": 0,
    "start_time": "2023-03-14T14:18:01.470Z"
   },
   {
    "duration": 0,
    "start_time": "2023-03-14T14:18:01.471Z"
   },
   {
    "duration": 0,
    "start_time": "2023-03-14T14:18:01.471Z"
   },
   {
    "duration": 0,
    "start_time": "2023-03-14T14:18:01.472Z"
   },
   {
    "duration": 0,
    "start_time": "2023-03-14T14:18:01.473Z"
   },
   {
    "duration": 0,
    "start_time": "2023-03-14T14:18:01.474Z"
   },
   {
    "duration": 0,
    "start_time": "2023-03-14T14:18:01.476Z"
   },
   {
    "duration": 0,
    "start_time": "2023-03-14T14:18:01.477Z"
   },
   {
    "duration": 44,
    "start_time": "2023-03-14T14:19:05.740Z"
   },
   {
    "duration": 50,
    "start_time": "2023-03-14T14:19:57.514Z"
   },
   {
    "duration": 39,
    "start_time": "2023-03-14T14:20:17.058Z"
   },
   {
    "duration": 40,
    "start_time": "2023-03-14T14:20:20.129Z"
   },
   {
    "duration": 73,
    "start_time": "2023-03-14T14:27:30.009Z"
   },
   {
    "duration": 50,
    "start_time": "2023-03-14T14:27:38.904Z"
   },
   {
    "duration": 968,
    "start_time": "2023-03-14T14:28:28.837Z"
   },
   {
    "duration": 1096,
    "start_time": "2023-03-14T14:28:40.983Z"
   },
   {
    "duration": 57,
    "start_time": "2023-03-14T14:28:42.081Z"
   },
   {
    "duration": 61,
    "start_time": "2023-03-14T14:28:42.140Z"
   },
   {
    "duration": 162,
    "start_time": "2023-03-14T14:28:42.203Z"
   },
   {
    "duration": 844,
    "start_time": "2023-03-14T14:28:42.366Z"
   },
   {
    "duration": 126,
    "start_time": "2023-03-14T14:28:43.212Z"
   },
   {
    "duration": 47,
    "start_time": "2023-03-14T14:28:43.340Z"
   },
   {
    "duration": 33,
    "start_time": "2023-03-14T14:28:43.389Z"
   },
   {
    "duration": 169,
    "start_time": "2023-03-14T14:28:43.424Z"
   },
   {
    "duration": 200,
    "start_time": "2023-03-14T14:28:43.597Z"
   },
   {
    "duration": 311,
    "start_time": "2023-03-14T14:28:43.799Z"
   },
   {
    "duration": 65,
    "start_time": "2023-03-14T14:28:44.112Z"
   },
   {
    "duration": 183,
    "start_time": "2023-03-14T14:28:44.179Z"
   },
   {
    "duration": 1167,
    "start_time": "2023-03-14T14:28:44.365Z"
   },
   {
    "duration": 338,
    "start_time": "2023-03-14T14:28:45.535Z"
   },
   {
    "duration": 22,
    "start_time": "2023-03-14T14:28:45.875Z"
   },
   {
    "duration": 622,
    "start_time": "2023-03-14T14:28:45.899Z"
   },
   {
    "duration": 18,
    "start_time": "2023-03-14T14:28:46.524Z"
   },
   {
    "duration": 96,
    "start_time": "2023-03-14T14:28:46.544Z"
   },
   {
    "duration": 17,
    "start_time": "2023-03-14T14:28:46.641Z"
   },
   {
    "duration": 68,
    "start_time": "2023-03-14T14:28:46.659Z"
   },
   {
    "duration": 215,
    "start_time": "2023-03-14T14:28:46.730Z"
   },
   {
    "duration": 2194,
    "start_time": "2023-03-14T14:28:46.948Z"
   },
   {
    "duration": 97,
    "start_time": "2023-03-14T14:28:49.145Z"
   },
   {
    "duration": 168,
    "start_time": "2023-03-14T14:28:49.244Z"
   },
   {
    "duration": 244,
    "start_time": "2023-03-14T14:28:49.414Z"
   },
   {
    "duration": 3018,
    "start_time": "2023-03-14T14:28:49.663Z"
   },
   {
    "duration": 16924,
    "start_time": "2023-03-14T14:28:52.685Z"
   },
   {
    "duration": 281,
    "start_time": "2023-03-14T14:29:09.611Z"
   },
   {
    "duration": 69436,
    "start_time": "2023-03-14T14:29:09.894Z"
   },
   {
    "duration": 17587,
    "start_time": "2023-03-14T14:30:19.332Z"
   },
   {
    "duration": 18,
    "start_time": "2023-03-14T14:30:36.921Z"
   },
   {
    "duration": 0,
    "start_time": "2023-03-14T14:30:36.941Z"
   },
   {
    "duration": 0,
    "start_time": "2023-03-14T14:30:36.943Z"
   },
   {
    "duration": 1046,
    "start_time": "2023-03-14T14:32:21.141Z"
   },
   {
    "duration": 41,
    "start_time": "2023-03-14T14:32:22.189Z"
   },
   {
    "duration": 71,
    "start_time": "2023-03-14T14:32:22.233Z"
   },
   {
    "duration": 188,
    "start_time": "2023-03-14T14:32:22.306Z"
   },
   {
    "duration": 933,
    "start_time": "2023-03-14T14:32:22.497Z"
   },
   {
    "duration": 132,
    "start_time": "2023-03-14T14:32:23.432Z"
   },
   {
    "duration": 67,
    "start_time": "2023-03-14T14:32:23.566Z"
   },
   {
    "duration": 19,
    "start_time": "2023-03-14T14:32:23.636Z"
   },
   {
    "duration": 131,
    "start_time": "2023-03-14T14:32:23.657Z"
   },
   {
    "duration": 278,
    "start_time": "2023-03-14T14:32:23.791Z"
   },
   {
    "duration": 236,
    "start_time": "2023-03-14T14:32:24.071Z"
   },
   {
    "duration": 64,
    "start_time": "2023-03-14T14:32:24.308Z"
   },
   {
    "duration": 174,
    "start_time": "2023-03-14T14:32:24.374Z"
   },
   {
    "duration": 1169,
    "start_time": "2023-03-14T14:32:24.550Z"
   },
   {
    "duration": 321,
    "start_time": "2023-03-14T14:32:25.721Z"
   },
   {
    "duration": 20,
    "start_time": "2023-03-14T14:32:26.043Z"
   },
   {
    "duration": 426,
    "start_time": "2023-03-14T14:32:26.065Z"
   },
   {
    "duration": 34,
    "start_time": "2023-03-14T14:32:26.493Z"
   },
   {
    "duration": 44,
    "start_time": "2023-03-14T14:32:26.529Z"
   },
   {
    "duration": 18,
    "start_time": "2023-03-14T14:32:26.575Z"
   },
   {
    "duration": 47,
    "start_time": "2023-03-14T14:32:26.595Z"
   },
   {
    "duration": 185,
    "start_time": "2023-03-14T14:32:26.644Z"
   },
   {
    "duration": 877,
    "start_time": "2023-03-14T14:32:26.831Z"
   },
   {
    "duration": 103,
    "start_time": "2023-03-14T14:32:27.710Z"
   },
   {
    "duration": 179,
    "start_time": "2023-03-14T14:32:27.821Z"
   },
   {
    "duration": 127,
    "start_time": "2023-03-14T14:32:28.002Z"
   },
   {
    "duration": 2778,
    "start_time": "2023-03-14T14:32:28.131Z"
   },
   {
    "duration": 16928,
    "start_time": "2023-03-14T14:32:30.922Z"
   },
   {
    "duration": 251,
    "start_time": "2023-03-14T14:32:47.852Z"
   },
   {
    "duration": 597739,
    "start_time": "2023-03-14T14:32:48.105Z"
   },
   {
    "duration": 19334,
    "start_time": "2023-03-14T14:42:45.847Z"
   },
   {
    "duration": 12,
    "start_time": "2023-03-14T14:43:05.183Z"
   },
   {
    "duration": 243,
    "start_time": "2023-03-14T14:43:05.197Z"
   },
   {
    "duration": 250,
    "start_time": "2023-03-14T14:43:05.442Z"
   },
   {
    "duration": 5785,
    "start_time": "2023-03-14T14:44:02.548Z"
   },
   {
    "duration": 184,
    "start_time": "2023-03-14T14:47:59.019Z"
   },
   {
    "duration": 19,
    "start_time": "2023-03-14T14:52:02.710Z"
   },
   {
    "duration": 953,
    "start_time": "2023-03-14T15:08:33.620Z"
   },
   {
    "duration": 136,
    "start_time": "2023-03-14T15:10:23.323Z"
   },
   {
    "duration": 241,
    "start_time": "2023-03-14T15:10:53.898Z"
   },
   {
    "duration": 125,
    "start_time": "2023-03-14T15:11:17.119Z"
   },
   {
    "duration": 1431,
    "start_time": "2023-03-14T15:12:29.580Z"
   },
   {
    "duration": 66,
    "start_time": "2023-03-14T15:12:31.016Z"
   },
   {
    "duration": 69,
    "start_time": "2023-03-14T15:12:31.085Z"
   },
   {
    "duration": 205,
    "start_time": "2023-03-14T15:12:31.160Z"
   },
   {
    "duration": 2649,
    "start_time": "2023-03-14T15:12:31.372Z"
   },
   {
    "duration": 226,
    "start_time": "2023-03-14T15:12:34.024Z"
   },
   {
    "duration": 77,
    "start_time": "2023-03-14T15:12:34.252Z"
   },
   {
    "duration": 17,
    "start_time": "2023-03-14T15:12:34.332Z"
   },
   {
    "duration": 191,
    "start_time": "2023-03-14T15:12:34.351Z"
   },
   {
    "duration": 315,
    "start_time": "2023-03-14T15:12:34.544Z"
   },
   {
    "duration": 384,
    "start_time": "2023-03-14T15:12:34.862Z"
   },
   {
    "duration": 117,
    "start_time": "2023-03-14T15:12:35.253Z"
   },
   {
    "duration": 289,
    "start_time": "2023-03-14T15:12:35.374Z"
   },
   {
    "duration": 1614,
    "start_time": "2023-03-14T15:12:35.668Z"
   },
   {
    "duration": 516,
    "start_time": "2023-03-14T15:12:37.284Z"
   },
   {
    "duration": 36,
    "start_time": "2023-03-14T15:12:37.802Z"
   },
   {
    "duration": 748,
    "start_time": "2023-03-14T15:12:37.843Z"
   },
   {
    "duration": 32,
    "start_time": "2023-03-14T15:12:38.594Z"
   },
   {
    "duration": 61,
    "start_time": "2023-03-14T15:12:38.630Z"
   },
   {
    "duration": 33,
    "start_time": "2023-03-14T15:12:38.693Z"
   },
   {
    "duration": 29,
    "start_time": "2023-03-14T15:12:38.728Z"
   },
   {
    "duration": 183,
    "start_time": "2023-03-14T15:12:38.759Z"
   },
   {
    "duration": 1460,
    "start_time": "2023-03-14T15:12:38.944Z"
   },
   {
    "duration": 117,
    "start_time": "2023-03-14T15:12:40.409Z"
   },
   {
    "duration": 262,
    "start_time": "2023-03-14T15:12:40.529Z"
   },
   {
    "duration": 890,
    "start_time": "2023-03-14T15:12:40.795Z"
   },
   {
    "duration": 174,
    "start_time": "2023-03-14T15:12:41.686Z"
   },
   {
    "duration": 245,
    "start_time": "2023-03-14T15:12:41.862Z"
   },
   {
    "duration": 226,
    "start_time": "2023-03-14T15:12:42.109Z"
   },
   {
    "duration": 3132,
    "start_time": "2023-03-14T15:12:42.340Z"
   },
   {
    "duration": 18363,
    "start_time": "2023-03-14T15:12:45.474Z"
   },
   {
    "duration": 290,
    "start_time": "2023-03-14T15:13:03.839Z"
   },
   {
    "duration": 1130,
    "start_time": "2023-03-14T15:13:57.763Z"
   },
   {
    "duration": 55,
    "start_time": "2023-03-14T15:13:58.896Z"
   },
   {
    "duration": 70,
    "start_time": "2023-03-14T15:13:58.957Z"
   },
   {
    "duration": 178,
    "start_time": "2023-03-14T15:13:59.036Z"
   },
   {
    "duration": 957,
    "start_time": "2023-03-14T15:13:59.216Z"
   },
   {
    "duration": 147,
    "start_time": "2023-03-14T15:14:00.175Z"
   },
   {
    "duration": 58,
    "start_time": "2023-03-14T15:14:00.325Z"
   },
   {
    "duration": 15,
    "start_time": "2023-03-14T15:14:00.386Z"
   },
   {
    "duration": 207,
    "start_time": "2023-03-14T15:14:00.406Z"
   },
   {
    "duration": 346,
    "start_time": "2023-03-14T15:14:00.615Z"
   },
   {
    "duration": 280,
    "start_time": "2023-03-14T15:14:00.964Z"
   },
   {
    "duration": 85,
    "start_time": "2023-03-14T15:14:01.246Z"
   },
   {
    "duration": 215,
    "start_time": "2023-03-14T15:14:01.333Z"
   },
   {
    "duration": 1436,
    "start_time": "2023-03-14T15:14:01.550Z"
   },
   {
    "duration": 444,
    "start_time": "2023-03-14T15:14:02.989Z"
   },
   {
    "duration": 25,
    "start_time": "2023-03-14T15:14:03.435Z"
   },
   {
    "duration": 450,
    "start_time": "2023-03-14T15:14:03.462Z"
   },
   {
    "duration": 30,
    "start_time": "2023-03-14T15:14:03.923Z"
   },
   {
    "duration": 51,
    "start_time": "2023-03-14T15:14:03.955Z"
   },
   {
    "duration": 30,
    "start_time": "2023-03-14T15:14:04.008Z"
   },
   {
    "duration": 27,
    "start_time": "2023-03-14T15:14:04.040Z"
   },
   {
    "duration": 169,
    "start_time": "2023-03-14T15:14:04.069Z"
   },
   {
    "duration": 1078,
    "start_time": "2023-03-14T15:14:04.245Z"
   },
   {
    "duration": 128,
    "start_time": "2023-03-14T15:14:05.328Z"
   },
   {
    "duration": 243,
    "start_time": "2023-03-14T15:14:05.460Z"
   },
   {
    "duration": 878,
    "start_time": "2023-03-14T15:14:05.705Z"
   },
   {
    "duration": 622,
    "start_time": "2023-03-14T15:14:06.587Z"
   },
   {
    "duration": 190,
    "start_time": "2023-03-14T15:14:07.212Z"
   },
   {
    "duration": 40125,
    "start_time": "2023-03-14T15:14:07.404Z"
   },
   {
    "duration": 3054,
    "start_time": "2023-03-14T15:14:47.531Z"
   },
   {
    "duration": 7742,
    "start_time": "2023-03-14T15:14:50.588Z"
   },
   {
    "duration": 267,
    "start_time": "2023-03-14T15:14:58.333Z"
   },
   {
    "duration": 1319,
    "start_time": "2023-03-14T15:16:59.167Z"
   },
   {
    "duration": 62,
    "start_time": "2023-03-14T15:17:00.489Z"
   },
   {
    "duration": 78,
    "start_time": "2023-03-14T15:17:00.558Z"
   },
   {
    "duration": 188,
    "start_time": "2023-03-14T15:17:00.648Z"
   },
   {
    "duration": 958,
    "start_time": "2023-03-14T15:17:00.839Z"
   },
   {
    "duration": 163,
    "start_time": "2023-03-14T15:17:01.799Z"
   },
   {
    "duration": 63,
    "start_time": "2023-03-14T15:17:01.964Z"
   },
   {
    "duration": 39,
    "start_time": "2023-03-14T15:17:02.031Z"
   },
   {
    "duration": 130,
    "start_time": "2023-03-14T15:17:02.073Z"
   },
   {
    "duration": 240,
    "start_time": "2023-03-14T15:17:02.206Z"
   },
   {
    "duration": 235,
    "start_time": "2023-03-14T15:17:02.448Z"
   },
   {
    "duration": 109,
    "start_time": "2023-03-14T15:17:02.685Z"
   },
   {
    "duration": 211,
    "start_time": "2023-03-14T15:17:02.795Z"
   },
   {
    "duration": 1428,
    "start_time": "2023-03-14T15:17:03.008Z"
   },
   {
    "duration": 380,
    "start_time": "2023-03-14T15:17:04.438Z"
   },
   {
    "duration": 30,
    "start_time": "2023-03-14T15:17:04.819Z"
   },
   {
    "duration": 577,
    "start_time": "2023-03-14T15:17:04.850Z"
   },
   {
    "duration": 26,
    "start_time": "2023-03-14T15:17:05.433Z"
   },
   {
    "duration": 41,
    "start_time": "2023-03-14T15:17:05.461Z"
   },
   {
    "duration": 39,
    "start_time": "2023-03-14T15:17:05.504Z"
   },
   {
    "duration": 24,
    "start_time": "2023-03-14T15:17:05.549Z"
   },
   {
    "duration": 168,
    "start_time": "2023-03-14T15:17:05.575Z"
   },
   {
    "duration": 1041,
    "start_time": "2023-03-14T15:17:05.748Z"
   },
   {
    "duration": 116,
    "start_time": "2023-03-14T15:17:06.791Z"
   },
   {
    "duration": 200,
    "start_time": "2023-03-14T15:17:06.909Z"
   },
   {
    "duration": 932,
    "start_time": "2023-03-14T15:17:07.111Z"
   },
   {
    "duration": 596,
    "start_time": "2023-03-14T15:17:08.049Z"
   },
   {
    "duration": 226,
    "start_time": "2023-03-14T15:17:08.650Z"
   },
   {
    "duration": 77563,
    "start_time": "2023-03-14T15:17:08.878Z"
   },
   {
    "duration": 3106,
    "start_time": "2023-03-14T15:18:26.442Z"
   },
   {
    "duration": 19646,
    "start_time": "2023-03-14T15:18:29.550Z"
   },
   {
    "duration": 293,
    "start_time": "2023-03-14T15:18:49.197Z"
   },
   {
    "duration": 413370,
    "start_time": "2023-03-14T15:18:49.491Z"
   },
   {
    "duration": 19715,
    "start_time": "2023-03-14T15:25:42.863Z"
   },
   {
    "duration": 12,
    "start_time": "2023-03-14T15:26:02.579Z"
   },
   {
    "duration": 254,
    "start_time": "2023-03-14T15:26:02.592Z"
   },
   {
    "duration": 248,
    "start_time": "2023-03-14T15:26:02.848Z"
   },
   {
    "duration": 1158,
    "start_time": "2023-03-14T15:29:41.502Z"
   },
   {
    "duration": 41,
    "start_time": "2023-03-14T15:29:42.662Z"
   },
   {
    "duration": 69,
    "start_time": "2023-03-14T15:29:42.705Z"
   },
   {
    "duration": 192,
    "start_time": "2023-03-14T15:29:42.777Z"
   },
   {
    "duration": 903,
    "start_time": "2023-03-14T15:29:42.971Z"
   },
   {
    "duration": 147,
    "start_time": "2023-03-14T15:29:43.877Z"
   },
   {
    "duration": 51,
    "start_time": "2023-03-14T15:29:44.028Z"
   },
   {
    "duration": 10,
    "start_time": "2023-03-14T15:29:44.081Z"
   },
   {
    "duration": 137,
    "start_time": "2023-03-14T15:29:44.093Z"
   },
   {
    "duration": 217,
    "start_time": "2023-03-14T15:29:44.235Z"
   },
   {
    "duration": 247,
    "start_time": "2023-03-14T15:29:44.453Z"
   },
   {
    "duration": 84,
    "start_time": "2023-03-14T15:29:44.702Z"
   },
   {
    "duration": 196,
    "start_time": "2023-03-14T15:29:44.788Z"
   },
   {
    "duration": 1355,
    "start_time": "2023-03-14T15:29:44.986Z"
   },
   {
    "duration": 358,
    "start_time": "2023-03-14T15:29:46.343Z"
   },
   {
    "duration": 40,
    "start_time": "2023-03-14T15:29:46.703Z"
   },
   {
    "duration": 478,
    "start_time": "2023-03-14T15:29:46.747Z"
   },
   {
    "duration": 27,
    "start_time": "2023-03-14T15:29:47.227Z"
   },
   {
    "duration": 44,
    "start_time": "2023-03-14T15:29:47.256Z"
   },
   {
    "duration": 53,
    "start_time": "2023-03-14T15:29:47.301Z"
   },
   {
    "duration": 24,
    "start_time": "2023-03-14T15:29:47.356Z"
   },
   {
    "duration": 170,
    "start_time": "2023-03-14T15:29:47.382Z"
   },
   {
    "duration": 895,
    "start_time": "2023-03-14T15:29:47.554Z"
   },
   {
    "duration": 100,
    "start_time": "2023-03-14T15:29:48.451Z"
   },
   {
    "duration": 162,
    "start_time": "2023-03-14T15:29:48.553Z"
   },
   {
    "duration": 697,
    "start_time": "2023-03-14T15:29:48.717Z"
   },
   {
    "duration": 521,
    "start_time": "2023-03-14T15:29:49.416Z"
   },
   {
    "duration": 180,
    "start_time": "2023-03-14T15:29:49.940Z"
   },
   {
    "duration": 24601,
    "start_time": "2023-03-14T15:29:50.122Z"
   },
   {
    "duration": 2756,
    "start_time": "2023-03-14T15:30:14.725Z"
   },
   {
    "duration": 17409,
    "start_time": "2023-03-14T15:30:17.482Z"
   },
   {
    "duration": 271,
    "start_time": "2023-03-14T15:30:34.893Z"
   },
   {
    "duration": 350775,
    "start_time": "2023-03-14T15:30:35.166Z"
   },
   {
    "duration": 18901,
    "start_time": "2023-03-14T15:36:25.943Z"
   },
   {
    "duration": 17,
    "start_time": "2023-03-14T15:36:44.846Z"
   },
   {
    "duration": 267,
    "start_time": "2023-03-14T15:36:44.865Z"
   },
   {
    "duration": 229,
    "start_time": "2023-03-14T15:36:45.134Z"
   },
   {
    "duration": 1035,
    "start_time": "2023-03-15T13:50:58.852Z"
   },
   {
    "duration": 40,
    "start_time": "2023-03-15T13:50:59.889Z"
   },
   {
    "duration": 46,
    "start_time": "2023-03-15T13:50:59.930Z"
   },
   {
    "duration": 202,
    "start_time": "2023-03-15T13:50:59.978Z"
   },
   {
    "duration": 1170,
    "start_time": "2023-03-15T13:51:00.181Z"
   },
   {
    "duration": 145,
    "start_time": "2023-03-15T13:51:01.353Z"
   },
   {
    "duration": 49,
    "start_time": "2023-03-15T13:51:01.499Z"
   },
   {
    "duration": 51,
    "start_time": "2023-03-15T13:51:01.550Z"
   },
   {
    "duration": 150,
    "start_time": "2023-03-15T13:51:01.603Z"
   },
   {
    "duration": 215,
    "start_time": "2023-03-15T13:51:01.757Z"
   },
   {
    "duration": 244,
    "start_time": "2023-03-15T13:51:01.974Z"
   },
   {
    "duration": 84,
    "start_time": "2023-03-15T13:51:02.220Z"
   },
   {
    "duration": 205,
    "start_time": "2023-03-15T13:51:02.306Z"
   },
   {
    "duration": 1310,
    "start_time": "2023-03-15T13:51:02.512Z"
   },
   {
    "duration": 335,
    "start_time": "2023-03-15T13:51:03.824Z"
   },
   {
    "duration": 17,
    "start_time": "2023-03-15T13:51:04.160Z"
   },
   {
    "duration": 433,
    "start_time": "2023-03-15T13:51:04.189Z"
   },
   {
    "duration": 18,
    "start_time": "2023-03-15T13:51:04.625Z"
   },
   {
    "duration": 65,
    "start_time": "2023-03-15T13:51:04.645Z"
   },
   {
    "duration": 16,
    "start_time": "2023-03-15T13:51:04.712Z"
   },
   {
    "duration": 19,
    "start_time": "2023-03-15T13:51:04.729Z"
   },
   {
    "duration": 146,
    "start_time": "2023-03-15T13:51:04.749Z"
   },
   {
    "duration": 832,
    "start_time": "2023-03-15T13:51:04.897Z"
   },
   {
    "duration": 132,
    "start_time": "2023-03-15T13:51:05.731Z"
   },
   {
    "duration": 178,
    "start_time": "2023-03-15T13:51:05.865Z"
   },
   {
    "duration": 705,
    "start_time": "2023-03-15T13:51:06.045Z"
   },
   {
    "duration": 519,
    "start_time": "2023-03-15T13:51:06.752Z"
   },
   {
    "duration": 171,
    "start_time": "2023-03-15T13:51:07.274Z"
   },
   {
    "duration": 16452,
    "start_time": "2023-03-15T13:51:07.447Z"
   },
   {
    "duration": 496,
    "start_time": "2023-03-15T13:51:23.901Z"
   },
   {
    "duration": 204,
    "start_time": "2023-03-15T13:51:24.399Z"
   },
   {
    "duration": 221,
    "start_time": "2023-03-15T13:51:24.605Z"
   },
   {
    "duration": 164,
    "start_time": "2023-03-15T13:51:24.828Z"
   },
   {
    "duration": 2977,
    "start_time": "2023-03-15T13:51:24.996Z"
   },
   {
    "duration": 12,
    "start_time": "2023-03-15T13:51:27.974Z"
   },
   {
    "duration": 0,
    "start_time": "2023-03-15T13:51:27.987Z"
   },
   {
    "duration": 0,
    "start_time": "2023-03-15T13:51:27.988Z"
   },
   {
    "duration": 1042,
    "start_time": "2023-03-15T13:53:52.329Z"
   },
   {
    "duration": 38,
    "start_time": "2023-03-15T13:53:53.373Z"
   },
   {
    "duration": 45,
    "start_time": "2023-03-15T13:53:53.413Z"
   },
   {
    "duration": 153,
    "start_time": "2023-03-15T13:53:53.460Z"
   },
   {
    "duration": 809,
    "start_time": "2023-03-15T13:53:53.615Z"
   },
   {
    "duration": 159,
    "start_time": "2023-03-15T13:53:54.426Z"
   },
   {
    "duration": 49,
    "start_time": "2023-03-15T13:53:54.590Z"
   },
   {
    "duration": 11,
    "start_time": "2023-03-15T13:53:54.641Z"
   },
   {
    "duration": 144,
    "start_time": "2023-03-15T13:53:54.654Z"
   },
   {
    "duration": 239,
    "start_time": "2023-03-15T13:53:54.801Z"
   },
   {
    "duration": 248,
    "start_time": "2023-03-15T13:53:55.042Z"
   },
   {
    "duration": 83,
    "start_time": "2023-03-15T13:53:55.291Z"
   },
   {
    "duration": 200,
    "start_time": "2023-03-15T13:53:55.376Z"
   },
   {
    "duration": 1247,
    "start_time": "2023-03-15T13:53:55.577Z"
   },
   {
    "duration": 375,
    "start_time": "2023-03-15T13:53:56.826Z"
   },
   {
    "duration": 17,
    "start_time": "2023-03-15T13:53:57.202Z"
   },
   {
    "duration": 406,
    "start_time": "2023-03-15T13:53:57.221Z"
   },
   {
    "duration": 17,
    "start_time": "2023-03-15T13:53:57.629Z"
   },
   {
    "duration": 55,
    "start_time": "2023-03-15T13:53:57.648Z"
   },
   {
    "duration": 15,
    "start_time": "2023-03-15T13:53:57.705Z"
   },
   {
    "duration": 17,
    "start_time": "2023-03-15T13:53:57.722Z"
   },
   {
    "duration": 137,
    "start_time": "2023-03-15T13:53:57.741Z"
   },
   {
    "duration": 835,
    "start_time": "2023-03-15T13:53:57.879Z"
   },
   {
    "duration": 31,
    "start_time": "2023-03-15T13:53:58.716Z"
   },
   {
    "duration": 187,
    "start_time": "2023-03-15T13:53:58.748Z"
   },
   {
    "duration": 693,
    "start_time": "2023-03-15T13:53:58.936Z"
   },
   {
    "duration": 528,
    "start_time": "2023-03-15T13:53:59.631Z"
   },
   {
    "duration": 187,
    "start_time": "2023-03-15T13:54:00.162Z"
   },
   {
    "duration": 15752,
    "start_time": "2023-03-15T13:54:00.351Z"
   },
   {
    "duration": 2724,
    "start_time": "2023-03-15T13:54:16.192Z"
   },
   {
    "duration": 5917,
    "start_time": "2023-03-15T13:54:18.917Z"
   },
   {
    "duration": 242,
    "start_time": "2023-03-15T13:54:24.836Z"
   },
   {
    "duration": 5417,
    "start_time": "2023-03-15T13:54:25.079Z"
   },
   {
    "duration": 18669,
    "start_time": "2023-03-15T13:54:30.497Z"
   },
   {
    "duration": 11,
    "start_time": "2023-03-15T13:54:49.168Z"
   },
   {
    "duration": 217,
    "start_time": "2023-03-15T13:54:49.181Z"
   },
   {
    "duration": 123,
    "start_time": "2023-03-15T13:54:49.400Z"
   },
   {
    "duration": 1287,
    "start_time": "2023-03-15T13:55:01.747Z"
   },
   {
    "duration": 39,
    "start_time": "2023-03-15T13:55:03.036Z"
   },
   {
    "duration": 47,
    "start_time": "2023-03-15T13:55:03.077Z"
   },
   {
    "duration": 191,
    "start_time": "2023-03-15T13:55:03.126Z"
   },
   {
    "duration": 874,
    "start_time": "2023-03-15T13:55:03.318Z"
   },
   {
    "duration": 156,
    "start_time": "2023-03-15T13:55:04.194Z"
   },
   {
    "duration": 74,
    "start_time": "2023-03-15T13:55:04.352Z"
   },
   {
    "duration": 18,
    "start_time": "2023-03-15T13:55:04.428Z"
   },
   {
    "duration": 145,
    "start_time": "2023-03-15T13:55:04.448Z"
   },
   {
    "duration": 203,
    "start_time": "2023-03-15T13:55:04.597Z"
   },
   {
    "duration": 224,
    "start_time": "2023-03-15T13:55:04.802Z"
   },
   {
    "duration": 87,
    "start_time": "2023-03-15T13:55:05.028Z"
   },
   {
    "duration": 200,
    "start_time": "2023-03-15T13:55:05.117Z"
   },
   {
    "duration": 1207,
    "start_time": "2023-03-15T13:55:05.319Z"
   },
   {
    "duration": 353,
    "start_time": "2023-03-15T13:55:06.527Z"
   },
   {
    "duration": 20,
    "start_time": "2023-03-15T13:55:06.882Z"
   },
   {
    "duration": 416,
    "start_time": "2023-03-15T13:55:06.904Z"
   },
   {
    "duration": 16,
    "start_time": "2023-03-15T13:55:07.322Z"
   },
   {
    "duration": 50,
    "start_time": "2023-03-15T13:55:07.340Z"
   },
   {
    "duration": 16,
    "start_time": "2023-03-15T13:55:07.391Z"
   },
   {
    "duration": 16,
    "start_time": "2023-03-15T13:55:07.409Z"
   },
   {
    "duration": 139,
    "start_time": "2023-03-15T13:55:07.427Z"
   },
   {
    "duration": 832,
    "start_time": "2023-03-15T13:55:07.568Z"
   },
   {
    "duration": 38,
    "start_time": "2023-03-15T13:55:08.402Z"
   },
   {
    "duration": 192,
    "start_time": "2023-03-15T13:55:08.443Z"
   },
   {
    "duration": 1294,
    "start_time": "2023-03-15T13:55:08.637Z"
   },
   {
    "duration": 899,
    "start_time": "2023-03-15T13:55:09.933Z"
   },
   {
    "duration": 186,
    "start_time": "2023-03-15T13:55:10.836Z"
   },
   {
    "duration": 16669,
    "start_time": "2023-03-15T13:55:11.024Z"
   },
   {
    "duration": 2729,
    "start_time": "2023-03-15T13:55:27.695Z"
   },
   {
    "duration": 17000,
    "start_time": "2023-03-15T13:55:30.426Z"
   },
   {
    "duration": 299,
    "start_time": "2023-03-15T13:55:47.428Z"
   },
   {
    "duration": 10078,
    "start_time": "2023-03-15T13:55:47.729Z"
   },
   {
    "duration": 18926,
    "start_time": "2023-03-15T13:55:57.809Z"
   },
   {
    "duration": 11,
    "start_time": "2023-03-15T13:56:16.736Z"
   },
   {
    "duration": 245,
    "start_time": "2023-03-15T13:56:16.748Z"
   },
   {
    "duration": 174,
    "start_time": "2023-03-15T13:56:16.995Z"
   },
   {
    "duration": 1220,
    "start_time": "2023-03-15T14:02:44.049Z"
   },
   {
    "duration": 41,
    "start_time": "2023-03-15T14:02:45.273Z"
   },
   {
    "duration": 50,
    "start_time": "2023-03-15T14:02:45.317Z"
   },
   {
    "duration": 202,
    "start_time": "2023-03-15T14:02:45.369Z"
   },
   {
    "duration": 881,
    "start_time": "2023-03-15T14:02:45.573Z"
   },
   {
    "duration": 179,
    "start_time": "2023-03-15T14:02:46.456Z"
   },
   {
    "duration": 54,
    "start_time": "2023-03-15T14:02:46.637Z"
   },
   {
    "duration": 12,
    "start_time": "2023-03-15T14:02:46.693Z"
   },
   {
    "duration": 136,
    "start_time": "2023-03-15T14:02:46.707Z"
   },
   {
    "duration": 206,
    "start_time": "2023-03-15T14:02:46.846Z"
   },
   {
    "duration": 213,
    "start_time": "2023-03-15T14:02:47.054Z"
   },
   {
    "duration": 85,
    "start_time": "2023-03-15T14:02:47.269Z"
   },
   {
    "duration": 201,
    "start_time": "2023-03-15T14:02:47.355Z"
   },
   {
    "duration": 1134,
    "start_time": "2023-03-15T14:02:47.558Z"
   },
   {
    "duration": 340,
    "start_time": "2023-03-15T14:02:48.694Z"
   },
   {
    "duration": 16,
    "start_time": "2023-03-15T14:02:49.036Z"
   },
   {
    "duration": 410,
    "start_time": "2023-03-15T14:02:49.054Z"
   },
   {
    "duration": 27,
    "start_time": "2023-03-15T14:02:49.466Z"
   },
   {
    "duration": 38,
    "start_time": "2023-03-15T14:02:49.494Z"
   },
   {
    "duration": 15,
    "start_time": "2023-03-15T14:02:49.534Z"
   },
   {
    "duration": 44,
    "start_time": "2023-03-15T14:02:49.550Z"
   },
   {
    "duration": 129,
    "start_time": "2023-03-15T14:02:49.596Z"
   },
   {
    "duration": 830,
    "start_time": "2023-03-15T14:02:49.727Z"
   },
   {
    "duration": 46,
    "start_time": "2023-03-15T14:02:50.558Z"
   },
   {
    "duration": 179,
    "start_time": "2023-03-15T14:02:50.606Z"
   },
   {
    "duration": 666,
    "start_time": "2023-03-15T14:02:50.789Z"
   },
   {
    "duration": 545,
    "start_time": "2023-03-15T14:02:51.456Z"
   },
   {
    "duration": 185,
    "start_time": "2023-03-15T14:02:52.005Z"
   },
   {
    "duration": 20701,
    "start_time": "2023-03-15T14:02:52.192Z"
   },
   {
    "duration": 2596,
    "start_time": "2023-03-15T14:03:12.895Z"
   },
   {
    "duration": 17532,
    "start_time": "2023-03-15T14:03:15.494Z"
   },
   {
    "duration": 282,
    "start_time": "2023-03-15T14:03:33.028Z"
   },
   {
    "duration": 1128,
    "start_time": "2023-03-15T14:04:26.044Z"
   },
   {
    "duration": 39,
    "start_time": "2023-03-15T14:04:27.174Z"
   },
   {
    "duration": 43,
    "start_time": "2023-03-15T14:04:27.215Z"
   },
   {
    "duration": 162,
    "start_time": "2023-03-15T14:04:27.261Z"
   },
   {
    "duration": 854,
    "start_time": "2023-03-15T14:04:27.425Z"
   },
   {
    "duration": 133,
    "start_time": "2023-03-15T14:04:28.281Z"
   },
   {
    "duration": 50,
    "start_time": "2023-03-15T14:04:28.416Z"
   },
   {
    "duration": 28,
    "start_time": "2023-03-15T14:04:28.468Z"
   },
   {
    "duration": 126,
    "start_time": "2023-03-15T14:04:28.498Z"
   },
   {
    "duration": 209,
    "start_time": "2023-03-15T14:04:28.628Z"
   },
   {
    "duration": 213,
    "start_time": "2023-03-15T14:04:28.839Z"
   },
   {
    "duration": 87,
    "start_time": "2023-03-15T14:04:29.054Z"
   },
   {
    "duration": 205,
    "start_time": "2023-03-15T14:04:29.142Z"
   },
   {
    "duration": 1145,
    "start_time": "2023-03-15T14:04:29.349Z"
   },
   {
    "duration": 349,
    "start_time": "2023-03-15T14:04:30.496Z"
   },
   {
    "duration": 19,
    "start_time": "2023-03-15T14:04:30.846Z"
   },
   {
    "duration": 435,
    "start_time": "2023-03-15T14:04:30.866Z"
   },
   {
    "duration": 18,
    "start_time": "2023-03-15T14:04:31.302Z"
   },
   {
    "duration": 47,
    "start_time": "2023-03-15T14:04:31.321Z"
   },
   {
    "duration": 28,
    "start_time": "2023-03-15T14:04:31.370Z"
   },
   {
    "duration": 18,
    "start_time": "2023-03-15T14:04:31.400Z"
   },
   {
    "duration": 130,
    "start_time": "2023-03-15T14:04:31.419Z"
   },
   {
    "duration": 840,
    "start_time": "2023-03-15T14:04:31.550Z"
   },
   {
    "duration": 43,
    "start_time": "2023-03-15T14:04:32.392Z"
   },
   {
    "duration": 184,
    "start_time": "2023-03-15T14:04:32.437Z"
   },
   {
    "duration": 651,
    "start_time": "2023-03-15T14:04:32.623Z"
   },
   {
    "duration": 515,
    "start_time": "2023-03-15T14:04:33.276Z"
   },
   {
    "duration": 185,
    "start_time": "2023-03-15T14:04:33.794Z"
   },
   {
    "duration": 16009,
    "start_time": "2023-03-15T14:04:33.981Z"
   },
   {
    "duration": 2597,
    "start_time": "2023-03-15T14:04:49.994Z"
   },
   {
    "duration": 16603,
    "start_time": "2023-03-15T14:04:52.593Z"
   },
   {
    "duration": 259,
    "start_time": "2023-03-15T14:05:09.197Z"
   },
   {
    "duration": 5433,
    "start_time": "2023-03-15T14:05:09.458Z"
   },
   {
    "duration": 18615,
    "start_time": "2023-03-15T14:05:14.893Z"
   },
   {
    "duration": 12,
    "start_time": "2023-03-15T14:05:33.510Z"
   },
   {
    "duration": 181,
    "start_time": "2023-03-15T14:05:33.523Z"
   },
   {
    "duration": 280,
    "start_time": "2023-03-15T14:05:33.705Z"
   },
   {
    "duration": 2098,
    "start_time": "2023-03-16T09:38:33.080Z"
   },
   {
    "duration": 68,
    "start_time": "2023-03-16T09:38:35.179Z"
   },
   {
    "duration": 59,
    "start_time": "2023-03-16T09:38:35.249Z"
   },
   {
    "duration": 330,
    "start_time": "2023-03-16T09:38:35.310Z"
   },
   {
    "duration": 1128,
    "start_time": "2023-03-16T09:38:35.652Z"
   },
   {
    "duration": 200,
    "start_time": "2023-03-16T09:38:36.782Z"
   },
   {
    "duration": 65,
    "start_time": "2023-03-16T09:38:36.985Z"
   },
   {
    "duration": 19,
    "start_time": "2023-03-16T09:38:37.058Z"
   },
   {
    "duration": 146,
    "start_time": "2023-03-16T09:38:37.078Z"
   },
   {
    "duration": 247,
    "start_time": "2023-03-16T09:38:37.225Z"
   },
   {
    "duration": 208,
    "start_time": "2023-03-16T09:38:37.473Z"
   },
   {
    "duration": 104,
    "start_time": "2023-03-16T09:38:37.683Z"
   },
   {
    "duration": 260,
    "start_time": "2023-03-16T09:38:37.789Z"
   },
   {
    "duration": 1235,
    "start_time": "2023-03-16T09:38:38.052Z"
   },
   {
    "duration": 411,
    "start_time": "2023-03-16T09:38:39.289Z"
   },
   {
    "duration": 23,
    "start_time": "2023-03-16T09:38:39.701Z"
   },
   {
    "duration": 459,
    "start_time": "2023-03-16T09:38:39.733Z"
   },
   {
    "duration": 17,
    "start_time": "2023-03-16T09:38:40.194Z"
   },
   {
    "duration": 64,
    "start_time": "2023-03-16T09:38:40.213Z"
   },
   {
    "duration": 16,
    "start_time": "2023-03-16T09:38:40.279Z"
   },
   {
    "duration": 16,
    "start_time": "2023-03-16T09:38:40.297Z"
   },
   {
    "duration": 139,
    "start_time": "2023-03-16T09:38:40.315Z"
   },
   {
    "duration": 14,
    "start_time": "2023-03-16T09:38:40.457Z"
   },
   {
    "duration": 8,
    "start_time": "2023-03-16T09:39:14.957Z"
   },
   {
    "duration": 1082,
    "start_time": "2023-03-16T09:42:25.151Z"
   },
   {
    "duration": 646,
    "start_time": "2023-03-16T09:42:49.031Z"
   },
   {
    "duration": 1036,
    "start_time": "2023-08-29T00:19:48.615Z"
   },
   {
    "duration": 36,
    "start_time": "2023-08-29T00:19:49.653Z"
   },
   {
    "duration": 44,
    "start_time": "2023-08-29T00:19:49.690Z"
   },
   {
    "duration": 200,
    "start_time": "2023-08-29T00:19:49.736Z"
   },
   {
    "duration": 2846,
    "start_time": "2023-08-29T00:19:49.938Z"
   },
   {
    "duration": 118,
    "start_time": "2023-08-29T00:19:52.786Z"
   },
   {
    "duration": 55,
    "start_time": "2023-08-29T00:19:52.906Z"
   },
   {
    "duration": 37,
    "start_time": "2023-08-29T00:19:52.967Z"
   },
   {
    "duration": 111,
    "start_time": "2023-08-29T00:19:53.006Z"
   },
   {
    "duration": 200,
    "start_time": "2023-08-29T00:19:53.119Z"
   },
   {
    "duration": 226,
    "start_time": "2023-08-29T00:19:53.321Z"
   },
   {
    "duration": 65,
    "start_time": "2023-08-29T00:19:53.548Z"
   },
   {
    "duration": 164,
    "start_time": "2023-08-29T00:19:53.615Z"
   },
   {
    "duration": 1094,
    "start_time": "2023-08-29T00:19:53.781Z"
   },
   {
    "duration": 292,
    "start_time": "2023-08-29T00:19:54.877Z"
   },
   {
    "duration": 18,
    "start_time": "2023-08-29T00:19:55.171Z"
   },
   {
    "duration": 367,
    "start_time": "2023-08-29T00:19:55.191Z"
   },
   {
    "duration": 23,
    "start_time": "2023-08-29T00:19:55.560Z"
   },
   {
    "duration": 47,
    "start_time": "2023-08-29T00:19:55.585Z"
   },
   {
    "duration": 43,
    "start_time": "2023-08-29T00:19:55.634Z"
   },
   {
    "duration": 19,
    "start_time": "2023-08-29T00:19:55.679Z"
   },
   {
    "duration": 145,
    "start_time": "2023-08-29T00:19:55.700Z"
   },
   {
    "duration": 782,
    "start_time": "2023-08-29T00:19:55.847Z"
   },
   {
    "duration": 49,
    "start_time": "2023-08-29T00:19:56.631Z"
   },
   {
    "duration": 179,
    "start_time": "2023-08-29T00:19:56.682Z"
   },
   {
    "duration": 715,
    "start_time": "2023-08-29T00:19:56.863Z"
   },
   {
    "duration": 536,
    "start_time": "2023-08-29T00:19:57.580Z"
   },
   {
    "duration": 167,
    "start_time": "2023-08-29T00:19:58.118Z"
   },
   {
    "duration": 16489,
    "start_time": "2023-08-29T00:19:58.286Z"
   },
   {
    "duration": 2495,
    "start_time": "2023-08-29T00:20:14.777Z"
   },
   {
    "duration": 15531,
    "start_time": "2023-08-29T00:20:17.274Z"
   },
   {
    "duration": 252,
    "start_time": "2023-08-29T00:20:32.806Z"
   },
   {
    "duration": 4925,
    "start_time": "2023-08-29T00:20:33.060Z"
   },
   {
    "duration": 22321,
    "start_time": "2023-08-29T00:20:37.987Z"
   },
   {
    "duration": 12,
    "start_time": "2023-08-29T00:21:00.309Z"
   },
   {
    "duration": 253,
    "start_time": "2023-08-29T00:21:00.322Z"
   },
   {
    "duration": 216,
    "start_time": "2023-08-29T00:21:00.576Z"
   }
  ],
  "kernelspec": {
   "display_name": "Python 3 (ipykernel)",
   "language": "python",
   "name": "python3"
  },
  "language_info": {
   "codemirror_mode": {
    "name": "ipython",
    "version": 3
   },
   "file_extension": ".py",
   "mimetype": "text/x-python",
   "name": "python",
   "nbconvert_exporter": "python",
   "pygments_lexer": "ipython3",
   "version": "3.9.5"
  },
  "toc": {
   "base_numbering": 1,
   "nav_menu": {},
   "number_sections": true,
   "sideBar": true,
   "skip_h1_title": true,
   "title_cell": "Table of Contents",
   "title_sidebar": "Contents",
   "toc_cell": false,
   "toc_position": {
    "height": "calc(100% - 180px)",
    "left": "10px",
    "top": "150px",
    "width": "286.225px"
   },
   "toc_section_display": true,
   "toc_window_display": true
  }
 },
 "nbformat": 4,
 "nbformat_minor": 2
}
