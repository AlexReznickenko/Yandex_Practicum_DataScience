{
 "cells": [
  {
   "cell_type": "markdown",
   "metadata": {
    "toc": true
   },
   "source": [
    "<h1>Содержание<span class=\"tocSkip\"></span></h1>\n",
    "<div class=\"toc\"><ul class=\"toc-item\"><li><span><a href=\"#Подготовка\" data-toc-modified-id=\"Подготовка-1\"><span class=\"toc-item-num\">1&nbsp;&nbsp;</span>Подготовка</a></span><ul class=\"toc-item\"><li><span><a href=\"#Загрузка-модулей-и-данных\" data-toc-modified-id=\"Загрузка-модулей-и-данных-1.1\"><span class=\"toc-item-num\">1.1&nbsp;&nbsp;</span>Загрузка модулей и данных</a></span></li><li><span><a href=\"#Подготовка-датасета-(лемматизация-и-т.п.)\" data-toc-modified-id=\"Подготовка-датасета-(лемматизация-и-т.п.)-1.2\"><span class=\"toc-item-num\">1.2&nbsp;&nbsp;</span>Подготовка датасета (лемматизация и т.п.)</a></span></li><li><span><a href=\"#Подготовка-датасета-(разбиение-на-выборки)\" data-toc-modified-id=\"Подготовка-датасета-(разбиение-на-выборки)-1.3\"><span class=\"toc-item-num\">1.3&nbsp;&nbsp;</span>Подготовка датасета (разбиение на выборки)</a></span></li><li><span><a href=\"#Подготовка-датасета-(-TF-IDF)\" data-toc-modified-id=\"Подготовка-датасета-(-TF-IDF)-1.4\"><span class=\"toc-item-num\">1.4&nbsp;&nbsp;</span>Подготовка датасета ( TF-IDF)</a></span></li><li><span><a href=\"#Вывод-по-подготовке-данных\" data-toc-modified-id=\"Вывод-по-подготовке-данных-1.5\"><span class=\"toc-item-num\">1.5&nbsp;&nbsp;</span>Вывод по подготовке данных</a></span></li></ul></li><li><span><a href=\"#Обучение\" data-toc-modified-id=\"Обучение-2\"><span class=\"toc-item-num\">2&nbsp;&nbsp;</span>Обучение</a></span><ul class=\"toc-item\"><li><span><a href=\"#Логистическая-регрессия\" data-toc-modified-id=\"Логистическая-регрессия-2.1\"><span class=\"toc-item-num\">2.1&nbsp;&nbsp;</span>Логистическая регрессия</a></span></li><li><span><a href=\"#DecisionTreeClassifier\" data-toc-modified-id=\"DecisionTreeClassifier-2.2\"><span class=\"toc-item-num\">2.2&nbsp;&nbsp;</span>DecisionTreeClassifier</a></span></li><li><span><a href=\"#RandomForestClassifier\" data-toc-modified-id=\"RandomForestClassifier-2.3\"><span class=\"toc-item-num\">2.3&nbsp;&nbsp;</span>RandomForestClassifier</a></span></li><li><span><a href=\"#Выводы-по-обучению\" data-toc-modified-id=\"Выводы-по-обучению-2.4\"><span class=\"toc-item-num\">2.4&nbsp;&nbsp;</span>Выводы по обучению</a></span></li></ul></li><li><span><a href=\"#Выводы\" data-toc-modified-id=\"Выводы-3\"><span class=\"toc-item-num\">3&nbsp;&nbsp;</span>Выводы</a></span><ul class=\"toc-item\"><li><span><a href=\"#Проверяем-на-тестовой-выборке\" data-toc-modified-id=\"Проверяем-на-тестовой-выборке-3.1\"><span class=\"toc-item-num\">3.1&nbsp;&nbsp;</span>Проверяем на тестовой выборке</a></span></li><li><span><a href=\"#Общий-вывод\" data-toc-modified-id=\"Общий-вывод-3.2\"><span class=\"toc-item-num\">3.2&nbsp;&nbsp;</span>Общий вывод</a></span></li></ul></li></ul></div>"
   ]
  },
  {
   "cell_type": "markdown",
   "metadata": {},
   "source": [
    "# Проект для «Викишоп»"
   ]
  },
  {
   "cell_type": "markdown",
   "metadata": {},
   "source": [
    "Интернет-магазин «Викишоп» запускает новый сервис. Теперь пользователи могут редактировать и дополнять описания товаров, как в вики-сообществах. То есть клиенты предлагают свои правки и комментируют изменения других. Магазину нужен инструмент, который будет искать токсичные комментарии и отправлять их на модерацию. \n",
    "\n",
    "Обучите модель классифицировать комментарии на позитивные и негативные. В вашем распоряжении набор данных с разметкой о токсичности правок.\n",
    "\n",
    "Постройте модель со значением метрики качества *F1* не меньше 0.75. \n",
    "\n",
    "**Инструкция по выполнению проекта**\n",
    "\n",
    "1. Загрузите и подготовьте данные.\n",
    "2. Обучите разные модели. \n",
    "3. Сделайте выводы.\n",
    "\n",
    "\n",
    "\n",
    "**Описание данных**\n",
    "\n",
    "Данные находятся в файле `toxic_comments.csv`. Столбец *text* в нём содержит текст комментария, а *toxic* — целевой признак."
   ]
  },
  {
   "cell_type": "markdown",
   "metadata": {},
   "source": [
    "## Подготовка"
   ]
  },
  {
   "cell_type": "markdown",
   "metadata": {},
   "source": [
    "### Загрузка модулей и данных"
   ]
  },
  {
   "cell_type": "markdown",
   "metadata": {},
   "source": [
    "Загрузка основных модулей"
   ]
  },
  {
   "cell_type": "code",
   "execution_count": 1,
   "metadata": {},
   "outputs": [
    {
     "name": "stdout",
     "output_type": "stream",
     "text": [
      "Collecting pandarallel\n",
      "  Downloading pandarallel-1.6.5.tar.gz (14 kB)\n",
      "Collecting dill>=0.3.1\n",
      "  Downloading dill-0.3.7-py3-none-any.whl (115 kB)\n",
      "\u001b[K     |████████████████████████████████| 115 kB 1.0 MB/s eta 0:00:01\n",
      "\u001b[?25hRequirement already satisfied: pandas>=1 in /opt/conda/lib/python3.9/site-packages (from pandarallel) (1.2.4)\n",
      "Collecting psutil\n",
      "  Downloading psutil-5.9.5-cp36-abi3-manylinux_2_12_x86_64.manylinux2010_x86_64.manylinux_2_17_x86_64.manylinux2014_x86_64.whl (282 kB)\n",
      "\u001b[K     |████████████████████████████████| 282 kB 6.7 MB/s eta 0:00:01\n",
      "\u001b[?25hRequirement already satisfied: python-dateutil>=2.7.3 in /opt/conda/lib/python3.9/site-packages (from pandas>=1->pandarallel) (2.8.1)\n",
      "Requirement already satisfied: pytz>=2017.3 in /opt/conda/lib/python3.9/site-packages (from pandas>=1->pandarallel) (2021.1)\n",
      "Requirement already satisfied: numpy>=1.16.5 in /opt/conda/lib/python3.9/site-packages (from pandas>=1->pandarallel) (1.21.1)\n",
      "Requirement already satisfied: six>=1.5 in /opt/conda/lib/python3.9/site-packages (from python-dateutil>=2.7.3->pandas>=1->pandarallel) (1.16.0)\n",
      "Building wheels for collected packages: pandarallel\n",
      "  Building wheel for pandarallel (setup.py) ... \u001b[?25ldone\n",
      "\u001b[?25h  Created wheel for pandarallel: filename=pandarallel-1.6.5-py3-none-any.whl size=16679 sha256=aa304fef9eaddb0de3d50a32803b1c0253ecb49cee6475430973c7024ea2db3b\n",
      "  Stored in directory: /home/jovyan/.cache/pip/wheels/39/fe/8d/f7912d85b21ea72c9a8a3fefa6141fab92e575a67ab17c4474\n",
      "Successfully built pandarallel\n",
      "Installing collected packages: psutil, dill, pandarallel\n",
      "Successfully installed dill-0.3.7 pandarallel-1.6.5 psutil-5.9.5\n"
     ]
    }
   ],
   "source": [
    "import pandas as pd\n",
    "\n",
    "!pip install pandarallel\n",
    "#from pandarallel import pandarallel   \n",
    "#import numpy as np\n",
    "\n",
    "from sklearn.model_selection import train_test_split\n",
    "#from sklearn.metrics import make_scorer\n",
    "from sklearn.utils import shuffle\n",
    "from sklearn.metrics import f1_score\n",
    "from sklearn.pipeline import Pipeline"
   ]
  },
  {
   "cell_type": "markdown",
   "metadata": {},
   "source": [
    "Дополнительные модули"
   ]
  },
  {
   "cell_type": "code",
   "execution_count": 2,
   "metadata": {},
   "outputs": [],
   "source": [
    "import warnings\n",
    "warnings.filterwarnings('ignore')\n",
    "from tqdm.notebook import tqdm"
   ]
  },
  {
   "cell_type": "markdown",
   "metadata": {},
   "source": [
    "Модули для обработки текста"
   ]
  },
  {
   "cell_type": "code",
   "execution_count": 3,
   "metadata": {},
   "outputs": [
    {
     "name": "stderr",
     "output_type": "stream",
     "text": [
      "[nltk_data] Downloading package wordnet to /home/jovyan/nltk_data...\n",
      "[nltk_data]   Package wordnet is already up-to-date!\n",
      "[nltk_data] Downloading package averaged_perceptron_tagger to\n",
      "[nltk_data]     /home/jovyan/nltk_data...\n",
      "[nltk_data]   Unzipping taggers/averaged_perceptron_tagger.zip.\n",
      "[nltk_data] Downloading package stopwords to /home/jovyan/nltk_data...\n",
      "[nltk_data]   Package stopwords is already up-to-date!\n"
     ]
    },
    {
     "data": {
      "text/plain": [
       "True"
      ]
     },
     "execution_count": 3,
     "metadata": {},
     "output_type": "execute_result"
    }
   ],
   "source": [
    "import nltk\n",
    "from nltk.corpus import stopwords as nltk_stopwords\n",
    "from nltk.stem import WordNetLemmatizer\n",
    "import re \n",
    "from nltk.corpus import wordnet\n",
    "from sklearn.feature_extraction.text import TfidfVectorizer \n",
    "from sklearn.feature_extraction.text import CountVectorizer \n",
    "from sklearn.feature_extraction.text import TfidfTransformer\n",
    "\n",
    "nltk.download('wordnet')\n",
    "nltk.download('averaged_perceptron_tagger')\n",
    "nltk.download('stopwords') \n",
    "\n"
   ]
  },
  {
   "cell_type": "markdown",
   "metadata": {},
   "source": [
    "Импортируем модели"
   ]
  },
  {
   "cell_type": "code",
   "execution_count": 4,
   "metadata": {},
   "outputs": [],
   "source": [
    "from sklearn.model_selection import GridSearchCV\n",
    "from sklearn.linear_model import LogisticRegression\n",
    "from sklearn.tree import DecisionTreeClassifier\n",
    "from sklearn.ensemble import RandomForestClassifier"
   ]
  },
  {
   "cell_type": "markdown",
   "metadata": {},
   "source": [
    "Загрузка датасета"
   ]
  },
  {
   "cell_type": "code",
   "execution_count": 5,
   "metadata": {},
   "outputs": [],
   "source": [
    "try:\n",
    "    df = pd.read_csv('/datasets/toxic_comments.csv', index_col=0)\n",
    "except:\n",
    "    df = pd.read_csv('https://code.s3.yandex.net/datasets/toxic_comments.csv', index_col=0)\n",
    "    \n",
    "#df = df.head(10000)"
   ]
  },
  {
   "cell_type": "code",
   "execution_count": 6,
   "metadata": {},
   "outputs": [
    {
     "name": "stdout",
     "output_type": "stream",
     "text": [
      "<class 'pandas.core.frame.DataFrame'>\n",
      "Int64Index: 159292 entries, 0 to 159450\n",
      "Data columns (total 2 columns):\n",
      " #   Column  Non-Null Count   Dtype \n",
      "---  ------  --------------   ----- \n",
      " 0   text    159292 non-null  object\n",
      " 1   toxic   159292 non-null  int64 \n",
      "dtypes: int64(1), object(1)\n",
      "memory usage: 3.6+ MB\n"
     ]
    }
   ],
   "source": [
    "df.info()"
   ]
  },
  {
   "cell_type": "markdown",
   "metadata": {},
   "source": [
    "Проверяем на пропуски и дубликаты"
   ]
  },
  {
   "cell_type": "code",
   "execution_count": 7,
   "metadata": {},
   "outputs": [
    {
     "data": {
      "text/plain": [
       "(text     0\n",
       " toxic    0\n",
       " dtype: int64,\n",
       " 0)"
      ]
     },
     "execution_count": 7,
     "metadata": {},
     "output_type": "execute_result"
    }
   ],
   "source": [
    "df.isna().sum(), df.duplicated().sum()"
   ]
  },
  {
   "cell_type": "code",
   "execution_count": 8,
   "metadata": {},
   "outputs": [
    {
     "data": {
      "text/html": [
       "<div>\n",
       "<style scoped>\n",
       "    .dataframe tbody tr th:only-of-type {\n",
       "        vertical-align: middle;\n",
       "    }\n",
       "\n",
       "    .dataframe tbody tr th {\n",
       "        vertical-align: top;\n",
       "    }\n",
       "\n",
       "    .dataframe thead th {\n",
       "        text-align: right;\n",
       "    }\n",
       "</style>\n",
       "<table border=\"1\" class=\"dataframe\">\n",
       "  <thead>\n",
       "    <tr style=\"text-align: right;\">\n",
       "      <th></th>\n",
       "      <th>text</th>\n",
       "      <th>toxic</th>\n",
       "    </tr>\n",
       "  </thead>\n",
       "  <tbody>\n",
       "    <tr>\n",
       "      <th>31055</th>\n",
       "      <td>Sometime back, I just happened to log on to ww...</td>\n",
       "      <td>0</td>\n",
       "    </tr>\n",
       "    <tr>\n",
       "      <th>102929</th>\n",
       "      <td>\"\\n\\nThe latest edit is much better, don't mak...</td>\n",
       "      <td>0</td>\n",
       "    </tr>\n",
       "    <tr>\n",
       "      <th>67385</th>\n",
       "      <td>\" October 2007 (UTC)\\n\\nI would think you'd be...</td>\n",
       "      <td>0</td>\n",
       "    </tr>\n",
       "    <tr>\n",
       "      <th>81167</th>\n",
       "      <td>Thanks for the tip on the currency translation...</td>\n",
       "      <td>0</td>\n",
       "    </tr>\n",
       "    <tr>\n",
       "      <th>90182</th>\n",
       "      <td>I would argue that if content on the Con in co...</td>\n",
       "      <td>0</td>\n",
       "    </tr>\n",
       "    <tr>\n",
       "      <th>1860</th>\n",
       "      <td>\"=Reliable sources===\\nCheating:\\n\"\"Barry Bond...</td>\n",
       "      <td>1</td>\n",
       "    </tr>\n",
       "    <tr>\n",
       "      <th>125422</th>\n",
       "      <td>WTF=\\n\\nHow The Fuck Does This Person Merit A ...</td>\n",
       "      <td>1</td>\n",
       "    </tr>\n",
       "    <tr>\n",
       "      <th>149142</th>\n",
       "      <td>cajuns, acadians\\nCajuns, acadians, louisianan...</td>\n",
       "      <td>0</td>\n",
       "    </tr>\n",
       "    <tr>\n",
       "      <th>89784</th>\n",
       "      <td>Hi - I dropped a pin in Google Maps at the cer...</td>\n",
       "      <td>0</td>\n",
       "    </tr>\n",
       "    <tr>\n",
       "      <th>64323</th>\n",
       "      <td>Re removal of accessdate= for urls books \\n\\nT...</td>\n",
       "      <td>0</td>\n",
       "    </tr>\n",
       "  </tbody>\n",
       "</table>\n",
       "</div>"
      ],
      "text/plain": [
       "                                                     text  toxic\n",
       "31055   Sometime back, I just happened to log on to ww...      0\n",
       "102929  \"\\n\\nThe latest edit is much better, don't mak...      0\n",
       "67385   \" October 2007 (UTC)\\n\\nI would think you'd be...      0\n",
       "81167   Thanks for the tip on the currency translation...      0\n",
       "90182   I would argue that if content on the Con in co...      0\n",
       "1860    \"=Reliable sources===\\nCheating:\\n\"\"Barry Bond...      1\n",
       "125422  WTF=\\n\\nHow The Fuck Does This Person Merit A ...      1\n",
       "149142  cajuns, acadians\\nCajuns, acadians, louisianan...      0\n",
       "89784   Hi - I dropped a pin in Google Maps at the cer...      0\n",
       "64323   Re removal of accessdate= for urls books \\n\\nT...      0"
      ]
     },
     "execution_count": 8,
     "metadata": {},
     "output_type": "execute_result"
    }
   ],
   "source": [
    "df.sample(n=10, random_state=42)"
   ]
  },
  {
   "cell_type": "markdown",
   "metadata": {},
   "source": [
    "Смотрим на соотношение целевой переменной"
   ]
  },
  {
   "cell_type": "code",
   "execution_count": 9,
   "metadata": {},
   "outputs": [
    {
     "data": {
      "text/plain": [
       "0.10161213369158527"
      ]
     },
     "execution_count": 9,
     "metadata": {},
     "output_type": "execute_result"
    }
   ],
   "source": [
    "df['toxic'].mean()"
   ]
  },
  {
   "cell_type": "markdown",
   "metadata": {},
   "source": [
    "### Подготовка датасета (лемматизация и т.п.)"
   ]
  },
  {
   "cell_type": "markdown",
   "metadata": {},
   "source": [
    "Функции обработки текста"
   ]
  },
  {
   "cell_type": "code",
   "execution_count": 10,
   "metadata": {},
   "outputs": [],
   "source": [
    "\n",
    "def get_wordnet_pos(word):\n",
    "    tag = nltk.pos_tag([word])[0][1][0].upper()\n",
    "    tag_dict = {\"J\": wordnet.ADJ,\n",
    "                \"N\": wordnet.NOUN,\n",
    "                \"V\": wordnet.VERB,\n",
    "                \"R\": wordnet.ADV}\n",
    "    return tag_dict.get(tag, wordnet.NOUN)"
   ]
  },
  {
   "cell_type": "markdown",
   "metadata": {},
   "source": [
    "Функция очистки текста"
   ]
  },
  {
   "cell_type": "code",
   "execution_count": 11,
   "metadata": {},
   "outputs": [],
   "source": [
    "def clear_text(text):\n",
    "    r = re.sub(r\"[^'a-zA-Z ]\", ' ', text)\n",
    "    r = r.split()\n",
    "    return ' '.join(r)   "
   ]
  },
  {
   "cell_type": "markdown",
   "metadata": {},
   "source": [
    "Функция, предназначенная для конечной обработки текста"
   ]
  },
  {
   "cell_type": "code",
   "execution_count": 12,
   "metadata": {},
   "outputs": [],
   "source": [
    "lemmatizer = WordNetLemmatizer()\n",
    "def prepare_text(text):\n",
    "    word_list = nltk.word_tokenize(text)\n",
    "    lemm_text = clear_text(' '.join([lemmatizer.lemmatize(w, get_wordnet_pos(w)) for w in word_list]))\n",
    "\n",
    "    return lemm_text"
   ]
  },
  {
   "cell_type": "markdown",
   "metadata": {},
   "source": [
    "Мы написали функцию, которая преобразует текст в нашей выборке: лемматизирует и убирает лишние слова. Проверим на примере: "
   ]
  },
  {
   "cell_type": "code",
   "execution_count": 13,
   "metadata": {},
   "outputs": [
    {
     "data": {
      "text/plain": [
       "'The strip bat be hang on their foot for best'"
      ]
     },
     "execution_count": 13,
     "metadata": {},
     "output_type": "execute_result"
    }
   ],
   "source": [
    "prepare_text(\"The striped bats are hanging on their feet for best\")\n"
   ]
  },
  {
   "cell_type": "markdown",
   "metadata": {},
   "source": [
    "Функция работает. Теперь применем ко всему датасету."
   ]
  },
  {
   "cell_type": "code",
   "execution_count": 14,
   "metadata": {},
   "outputs": [
    {
     "data": {
      "application/vnd.jupyter.widget-view+json": {
       "model_id": "6f6d6417b13a4ae3863e50a5524fb4be",
       "version_major": 2,
       "version_minor": 0
      },
      "text/plain": [
       "  0%|          | 0/159292 [00:00<?, ?it/s]"
      ]
     },
     "metadata": {},
     "output_type": "display_data"
    },
    {
     "name": "stdout",
     "output_type": "stream",
     "text": [
      "CPU times: user 18min 12s, sys: 1min 54s, total: 20min 6s\n",
      "Wall time: 20min 37s\n"
     ]
    }
   ],
   "source": [
    "%%time\n",
    "df['text'] = df['text'].str.lower()\n",
    "tqdm.pandas()\n",
    "df['lem_text'] = df['text'].progress_apply(prepare_text)\n"
   ]
  },
  {
   "cell_type": "code",
   "execution_count": 15,
   "metadata": {},
   "outputs": [
    {
     "data": {
      "text/html": [
       "<div>\n",
       "<style scoped>\n",
       "    .dataframe tbody tr th:only-of-type {\n",
       "        vertical-align: middle;\n",
       "    }\n",
       "\n",
       "    .dataframe tbody tr th {\n",
       "        vertical-align: top;\n",
       "    }\n",
       "\n",
       "    .dataframe thead th {\n",
       "        text-align: right;\n",
       "    }\n",
       "</style>\n",
       "<table border=\"1\" class=\"dataframe\">\n",
       "  <thead>\n",
       "    <tr style=\"text-align: right;\">\n",
       "      <th></th>\n",
       "      <th>text</th>\n",
       "      <th>toxic</th>\n",
       "      <th>lem_text</th>\n",
       "    </tr>\n",
       "  </thead>\n",
       "  <tbody>\n",
       "    <tr>\n",
       "      <th>0</th>\n",
       "      <td>explanation\\nwhy the edits made under my usern...</td>\n",
       "      <td>0</td>\n",
       "      <td>explanation why the edits make under my userna...</td>\n",
       "    </tr>\n",
       "    <tr>\n",
       "      <th>1</th>\n",
       "      <td>d'aww! he matches this background colour i'm s...</td>\n",
       "      <td>0</td>\n",
       "      <td>d'aww he match this background colour i 'm see...</td>\n",
       "    </tr>\n",
       "    <tr>\n",
       "      <th>2</th>\n",
       "      <td>hey man, i'm really not trying to edit war. it...</td>\n",
       "      <td>0</td>\n",
       "      <td>hey man i 'm really not try to edit war it 's ...</td>\n",
       "    </tr>\n",
       "    <tr>\n",
       "      <th>3</th>\n",
       "      <td>\"\\nmore\\ni can't make any real suggestions on ...</td>\n",
       "      <td>0</td>\n",
       "      <td>more i ca n't make any real suggestion on impr...</td>\n",
       "    </tr>\n",
       "    <tr>\n",
       "      <th>4</th>\n",
       "      <td>you, sir, are my hero. any chance you remember...</td>\n",
       "      <td>0</td>\n",
       "      <td>you sir be my hero any chance you remember wha...</td>\n",
       "    </tr>\n",
       "  </tbody>\n",
       "</table>\n",
       "</div>"
      ],
      "text/plain": [
       "                                                text  toxic  \\\n",
       "0  explanation\\nwhy the edits made under my usern...      0   \n",
       "1  d'aww! he matches this background colour i'm s...      0   \n",
       "2  hey man, i'm really not trying to edit war. it...      0   \n",
       "3  \"\\nmore\\ni can't make any real suggestions on ...      0   \n",
       "4  you, sir, are my hero. any chance you remember...      0   \n",
       "\n",
       "                                            lem_text  \n",
       "0  explanation why the edits make under my userna...  \n",
       "1  d'aww he match this background colour i 'm see...  \n",
       "2  hey man i 'm really not try to edit war it 's ...  \n",
       "3  more i ca n't make any real suggestion on impr...  \n",
       "4  you sir be my hero any chance you remember wha...  "
      ]
     },
     "execution_count": 15,
     "metadata": {},
     "output_type": "execute_result"
    }
   ],
   "source": [
    "\n",
    "df.head()"
   ]
  },
  {
   "cell_type": "markdown",
   "metadata": {},
   "source": [
    "### Подготовка датасета (разбиение на выборки) "
   ]
  },
  {
   "cell_type": "markdown",
   "metadata": {},
   "source": [
    "Разобьём выборку на обучающую и тестовую."
   ]
  },
  {
   "cell_type": "code",
   "execution_count": 16,
   "metadata": {},
   "outputs": [],
   "source": [
    "#X=df.drop('toxic',axis=1)\n",
    "X = df['lem_text']\n",
    "y=df['toxic']"
   ]
  },
  {
   "cell_type": "code",
   "execution_count": 17,
   "metadata": {},
   "outputs": [],
   "source": [
    "X_train, X_test, y_train, y_test = train_test_split(X, y, test_size=0.25, random_state=42, shuffle=True,stratify=y)"
   ]
  },
  {
   "cell_type": "markdown",
   "metadata": {},
   "source": [
    "### Подготовка датасета ( TF-IDF)"
   ]
  },
  {
   "cell_type": "markdown",
   "metadata": {},
   "source": [
    "\n"
   ]
  },
  {
   "cell_type": "markdown",
   "metadata": {},
   "source": [
    "Преобразуем в TF_IDF. Не забываем удалять лишние переменные, иначе ядро сбоит"
   ]
  },
  {
   "cell_type": "code",
   "execution_count": 18,
   "metadata": {},
   "outputs": [],
   "source": [
    "stop_words = set(nltk_stopwords.words('english')) \n"
   ]
  },
  {
   "cell_type": "markdown",
   "metadata": {},
   "source": [
    "### Вывод по подготовке данных"
   ]
  },
  {
   "cell_type": "markdown",
   "metadata": {},
   "source": [
    "Данные проверены на наличие пропусков и дубликатов. Данные лемматизированы, очищены и разбиты на обучающую и тестовую выборку."
   ]
  },
  {
   "cell_type": "markdown",
   "metadata": {},
   "source": [
    "## Обучение"
   ]
  },
  {
   "cell_type": "code",
   "execution_count": 19,
   "metadata": {},
   "outputs": [
    {
     "data": {
      "text/plain": [
       "((119469,), (119469,))"
      ]
     },
     "execution_count": 19,
     "metadata": {},
     "output_type": "execute_result"
    }
   ],
   "source": [
    "models = []\n",
    "X_train.shape, y_train.shape"
   ]
  },
  {
   "cell_type": "markdown",
   "metadata": {},
   "source": [
    "### Логистическая регрессия"
   ]
  },
  {
   "cell_type": "code",
   "execution_count": 20,
   "metadata": {},
   "outputs": [
    {
     "name": "stdout",
     "output_type": "stream",
     "text": [
      "Fitting 5 folds for each of 12 candidates, totalling 60 fits\n",
      "[CV] END .model__C=3, model__max_iter=8, model__solver=lbfgs; total time=   7.6s\n",
      "[CV] END .model__C=3, model__max_iter=8, model__solver=lbfgs; total time=   7.2s\n",
      "[CV] END .model__C=3, model__max_iter=8, model__solver=lbfgs; total time=   7.8s\n",
      "[CV] END .model__C=3, model__max_iter=8, model__solver=lbfgs; total time=   7.5s\n",
      "[CV] END .model__C=3, model__max_iter=8, model__solver=lbfgs; total time=   7.7s\n",
      "[CV] END model__C=3, model__max_iter=8, model__solver=liblinear; total time=  10.0s\n",
      "[CV] END model__C=3, model__max_iter=8, model__solver=liblinear; total time=  10.0s\n",
      "[CV] END model__C=3, model__max_iter=8, model__solver=liblinear; total time=  10.2s\n",
      "[CV] END model__C=3, model__max_iter=8, model__solver=liblinear; total time=  10.1s\n",
      "[CV] END model__C=3, model__max_iter=8, model__solver=liblinear; total time=  10.1s\n",
      "[CV] END model__C=3, model__max_iter=11, model__solver=lbfgs; total time=   8.7s\n",
      "[CV] END model__C=3, model__max_iter=11, model__solver=lbfgs; total time=   8.7s\n",
      "[CV] END model__C=3, model__max_iter=11, model__solver=lbfgs; total time=   9.0s\n",
      "[CV] END model__C=3, model__max_iter=11, model__solver=lbfgs; total time=   8.5s\n",
      "[CV] END model__C=3, model__max_iter=11, model__solver=lbfgs; total time=   8.9s\n",
      "[CV] END model__C=3, model__max_iter=11, model__solver=liblinear; total time=  13.8s\n",
      "[CV] END model__C=3, model__max_iter=11, model__solver=liblinear; total time=  13.7s\n",
      "[CV] END model__C=3, model__max_iter=11, model__solver=liblinear; total time=  13.6s\n",
      "[CV] END model__C=3, model__max_iter=11, model__solver=liblinear; total time=  13.8s\n",
      "[CV] END model__C=3, model__max_iter=11, model__solver=liblinear; total time=  13.9s\n",
      "[CV] END .model__C=7, model__max_iter=8, model__solver=lbfgs; total time=   7.2s\n",
      "[CV] END .model__C=7, model__max_iter=8, model__solver=lbfgs; total time=   7.9s\n",
      "[CV] END .model__C=7, model__max_iter=8, model__solver=lbfgs; total time=   7.8s\n",
      "[CV] END .model__C=7, model__max_iter=8, model__solver=lbfgs; total time=   7.6s\n",
      "[CV] END .model__C=7, model__max_iter=8, model__solver=lbfgs; total time=   7.5s\n",
      "[CV] END model__C=7, model__max_iter=8, model__solver=liblinear; total time=   9.8s\n",
      "[CV] END model__C=7, model__max_iter=8, model__solver=liblinear; total time=   9.8s\n",
      "[CV] END model__C=7, model__max_iter=8, model__solver=liblinear; total time=   9.7s\n",
      "[CV] END model__C=7, model__max_iter=8, model__solver=liblinear; total time=   9.8s\n",
      "[CV] END model__C=7, model__max_iter=8, model__solver=liblinear; total time=   9.9s\n",
      "[CV] END model__C=7, model__max_iter=11, model__solver=lbfgs; total time=   8.5s\n",
      "[CV] END model__C=7, model__max_iter=11, model__solver=lbfgs; total time=   8.6s\n",
      "[CV] END model__C=7, model__max_iter=11, model__solver=lbfgs; total time=   8.7s\n",
      "[CV] END model__C=7, model__max_iter=11, model__solver=lbfgs; total time=   8.5s\n",
      "[CV] END model__C=7, model__max_iter=11, model__solver=lbfgs; total time=   8.7s\n",
      "[CV] END model__C=7, model__max_iter=11, model__solver=liblinear; total time=  14.5s\n",
      "[CV] END model__C=7, model__max_iter=11, model__solver=liblinear; total time=  14.6s\n",
      "[CV] END model__C=7, model__max_iter=11, model__solver=liblinear; total time=  14.5s\n",
      "[CV] END model__C=7, model__max_iter=11, model__solver=liblinear; total time=  14.3s\n",
      "[CV] END model__C=7, model__max_iter=11, model__solver=liblinear; total time=  14.3s\n",
      "[CV] END model__C=11, model__max_iter=8, model__solver=lbfgs; total time=   7.5s\n",
      "[CV] END model__C=11, model__max_iter=8, model__solver=lbfgs; total time=   7.9s\n",
      "[CV] END model__C=11, model__max_iter=8, model__solver=lbfgs; total time=   7.7s\n",
      "[CV] END model__C=11, model__max_iter=8, model__solver=lbfgs; total time=   7.3s\n",
      "[CV] END model__C=11, model__max_iter=8, model__solver=lbfgs; total time=   7.5s\n",
      "[CV] END model__C=11, model__max_iter=8, model__solver=liblinear; total time=   9.8s\n",
      "[CV] END model__C=11, model__max_iter=8, model__solver=liblinear; total time=   9.7s\n",
      "[CV] END model__C=11, model__max_iter=8, model__solver=liblinear; total time=   9.8s\n",
      "[CV] END model__C=11, model__max_iter=8, model__solver=liblinear; total time=   9.7s\n",
      "[CV] END model__C=11, model__max_iter=8, model__solver=liblinear; total time=   9.7s\n",
      "[CV] END model__C=11, model__max_iter=11, model__solver=lbfgs; total time=   8.6s\n",
      "[CV] END model__C=11, model__max_iter=11, model__solver=lbfgs; total time=   8.3s\n",
      "[CV] END model__C=11, model__max_iter=11, model__solver=lbfgs; total time=   8.6s\n",
      "[CV] END model__C=11, model__max_iter=11, model__solver=lbfgs; total time=   8.2s\n",
      "[CV] END model__C=11, model__max_iter=11, model__solver=lbfgs; total time=   8.6s\n",
      "[CV] END model__C=11, model__max_iter=11, model__solver=liblinear; total time=  13.9s\n",
      "[CV] END model__C=11, model__max_iter=11, model__solver=liblinear; total time=  13.8s\n",
      "[CV] END model__C=11, model__max_iter=11, model__solver=liblinear; total time=  13.6s\n",
      "[CV] END model__C=11, model__max_iter=11, model__solver=liblinear; total time=  14.0s\n",
      "[CV] END model__C=11, model__max_iter=11, model__solver=liblinear; total time=  14.1s\n",
      "CPU times: user 6min 27s, sys: 3min 41s, total: 10min 9s\n",
      "Wall time: 10min 11s\n"
     ]
    },
    {
     "data": {
      "text/plain": [
       "0.7746542808715263"
      ]
     },
     "execution_count": 20,
     "metadata": {},
     "output_type": "execute_result"
    }
   ],
   "source": [
    "%%time\n",
    "params={ 'model__C': range (3, 13,4),\n",
    "              'model__max_iter': range (8,12,3),\n",
    "          'model__solver':['lbfgs', 'liblinear']\n",
    "              }\n",
    "\n",
    "\n",
    "pipeline = Pipeline([\n",
    "\n",
    "    ('tfidf', TfidfVectorizer(stop_words = 'english',analyzer='word')),\n",
    "    ('model',LogisticRegression())])\n",
    "\n",
    "grid = GridSearchCV(pipeline, cv=5, n_jobs=-1, param_grid=params ,scoring='f1', verbose = 2)\n",
    "best_model = grid.fit(X_train, y_train)\n",
    "f1_score = grid.best_score_\n",
    "models.append([f1_score, best_model])\n",
    "f1_score"
   ]
  },
  {
   "cell_type": "markdown",
   "metadata": {},
   "source": [
    "### DecisionTreeClassifier"
   ]
  },
  {
   "cell_type": "code",
   "execution_count": 21,
   "metadata": {},
   "outputs": [
    {
     "name": "stdout",
     "output_type": "stream",
     "text": [
      "Fitting 5 folds for each of 3 candidates, totalling 15 fits\n",
      "[CV] END .................................model__max_depth=5; total time=   6.2s\n",
      "[CV] END .................................model__max_depth=5; total time=   6.2s\n",
      "[CV] END .................................model__max_depth=5; total time=   6.2s\n",
      "[CV] END .................................model__max_depth=5; total time=   6.3s\n",
      "[CV] END .................................model__max_depth=5; total time=   6.6s\n",
      "[CV] END ................................model__max_depth=10; total time=   8.2s\n",
      "[CV] END ................................model__max_depth=10; total time=   8.3s\n",
      "[CV] END ................................model__max_depth=10; total time=   8.2s\n",
      "[CV] END ................................model__max_depth=10; total time=   8.0s\n",
      "[CV] END ................................model__max_depth=10; total time=   8.1s\n",
      "[CV] END ................................model__max_depth=15; total time=  10.1s\n",
      "[CV] END ................................model__max_depth=15; total time=  10.2s\n",
      "[CV] END ................................model__max_depth=15; total time=  10.2s\n",
      "[CV] END ................................model__max_depth=15; total time=  10.2s\n",
      "[CV] END ................................model__max_depth=15; total time=  10.0s\n",
      "CPU times: user 2min 13s, sys: 1.22 s, total: 2min 14s\n",
      "Wall time: 2min 14s\n"
     ]
    },
    {
     "data": {
      "text/plain": [
       "0.6343526101891113"
      ]
     },
     "execution_count": 21,
     "metadata": {},
     "output_type": "execute_result"
    }
   ],
   "source": [
    "%%time\n",
    "params={'model__max_depth':range(5,20,5)}\n",
    "\n",
    "\n",
    "pipeline = Pipeline([\n",
    "\n",
    "    ('tfidf', TfidfVectorizer(stop_words = 'english',analyzer='word')),\n",
    "    ('model',DecisionTreeClassifier(random_state=42))])\n",
    "\n",
    "grid = GridSearchCV(pipeline, cv=5, n_jobs=-1, param_grid=params ,scoring='f1', verbose = 2)\n",
    "best_model = grid.fit(X_train, y_train)\n",
    "f1_score = grid.best_score_\n",
    "models.append([f1_score, best_model])\n",
    "f1_score"
   ]
  },
  {
   "cell_type": "markdown",
   "metadata": {},
   "source": [
    "###  RandomForestClassifier"
   ]
  },
  {
   "cell_type": "code",
   "execution_count": 22,
   "metadata": {},
   "outputs": [
    {
     "name": "stdout",
     "output_type": "stream",
     "text": [
      "Fitting 5 folds for each of 6 candidates, totalling 30 fits\n",
      "[CV] END ........model__max_depth=15, model__n_estimators=20; total time=   6.3s\n",
      "[CV] END ........model__max_depth=15, model__n_estimators=20; total time=   6.3s\n",
      "[CV] END ........model__max_depth=15, model__n_estimators=20; total time=   6.3s\n",
      "[CV] END ........model__max_depth=15, model__n_estimators=20; total time=   6.3s\n",
      "[CV] END ........model__max_depth=15, model__n_estimators=20; total time=   6.2s\n",
      "[CV] END ........model__max_depth=15, model__n_estimators=40; total time=   7.6s\n",
      "[CV] END ........model__max_depth=15, model__n_estimators=40; total time=   7.5s\n",
      "[CV] END ........model__max_depth=15, model__n_estimators=40; total time=   7.4s\n",
      "[CV] END ........model__max_depth=15, model__n_estimators=40; total time=   7.3s\n",
      "[CV] END ........model__max_depth=15, model__n_estimators=40; total time=   7.3s\n",
      "[CV] END ........model__max_depth=15, model__n_estimators=60; total time=   8.8s\n",
      "[CV] END ........model__max_depth=15, model__n_estimators=60; total time=   8.7s\n",
      "[CV] END ........model__max_depth=15, model__n_estimators=60; total time=   8.7s\n",
      "[CV] END ........model__max_depth=15, model__n_estimators=60; total time=   9.0s\n",
      "[CV] END ........model__max_depth=15, model__n_estimators=60; total time=   8.2s\n",
      "[CV] END ........model__max_depth=20, model__n_estimators=20; total time=   6.4s\n",
      "[CV] END ........model__max_depth=20, model__n_estimators=20; total time=   6.5s\n",
      "[CV] END ........model__max_depth=20, model__n_estimators=20; total time=   6.5s\n",
      "[CV] END ........model__max_depth=20, model__n_estimators=20; total time=   6.4s\n",
      "[CV] END ........model__max_depth=20, model__n_estimators=20; total time=   6.5s\n",
      "[CV] END ........model__max_depth=20, model__n_estimators=40; total time=   8.1s\n",
      "[CV] END ........model__max_depth=20, model__n_estimators=40; total time=   8.4s\n",
      "[CV] END ........model__max_depth=20, model__n_estimators=40; total time=   8.2s\n",
      "[CV] END ........model__max_depth=20, model__n_estimators=40; total time=   7.9s\n",
      "[CV] END ........model__max_depth=20, model__n_estimators=40; total time=   8.0s\n",
      "[CV] END ........model__max_depth=20, model__n_estimators=60; total time=   9.9s\n",
      "[CV] END ........model__max_depth=20, model__n_estimators=60; total time=  10.1s\n",
      "[CV] END ........model__max_depth=20, model__n_estimators=60; total time=   9.9s\n",
      "[CV] END ........model__max_depth=20, model__n_estimators=60; total time=   9.8s\n",
      "[CV] END ........model__max_depth=20, model__n_estimators=60; total time=   9.4s\n",
      "CPU times: user 4min 2s, sys: 1.84 s, total: 4min 4s\n",
      "Wall time: 4min 5s\n"
     ]
    },
    {
     "data": {
      "text/plain": [
       "0.40456483115982944"
      ]
     },
     "execution_count": 22,
     "metadata": {},
     "output_type": "execute_result"
    }
   ],
   "source": [
    "%%time\n",
    "params = {'model__max_depth':[15,20], 'model__n_estimators':[20, 40, 60]}\n",
    "\n",
    "\n",
    "pipeline = Pipeline([\n",
    "\n",
    "    ('tfidf', TfidfVectorizer(stop_words = 'english',analyzer='word')),\n",
    "    ('model',RandomForestClassifier(random_state=42,class_weight='balanced_subsample'))])\n",
    "\n",
    "grid = GridSearchCV(pipeline, cv=5, n_jobs=-1, param_grid=params ,scoring='f1', verbose = 2)\n",
    "best_model = grid.fit(X_train, y_train)\n",
    "f1_score = grid.best_score_\n",
    "models.append([f1_score, best_model])\n",
    "f1_score"
   ]
  },
  {
   "cell_type": "markdown",
   "metadata": {},
   "source": [
    "### Выводы по обучению"
   ]
  },
  {
   "cell_type": "markdown",
   "metadata": {},
   "source": [
    "Были обучены три модели - логистическая регрессия, дерево решений и случайный лес. Лучше всего показала себя регрессия. Использованы только три модели, так как датасет довольно \"тяжёлый\"."
   ]
  },
  {
   "cell_type": "markdown",
   "metadata": {},
   "source": [
    "## Выводы"
   ]
  },
  {
   "cell_type": "markdown",
   "metadata": {},
   "source": [
    "### Проверяем на тестовой выборке"
   ]
  },
  {
   "cell_type": "markdown",
   "metadata": {},
   "source": [
    "Смотрим какие модели как показали себя на обучающей выборке."
   ]
  },
  {
   "cell_type": "code",
   "execution_count": 23,
   "metadata": {},
   "outputs": [
    {
     "data": {
      "text/html": [
       "<div>\n",
       "<style scoped>\n",
       "    .dataframe tbody tr th:only-of-type {\n",
       "        vertical-align: middle;\n",
       "    }\n",
       "\n",
       "    .dataframe tbody tr th {\n",
       "        vertical-align: top;\n",
       "    }\n",
       "\n",
       "    .dataframe thead th {\n",
       "        text-align: right;\n",
       "    }\n",
       "</style>\n",
       "<table border=\"1\" class=\"dataframe\">\n",
       "  <thead>\n",
       "    <tr style=\"text-align: right;\">\n",
       "      <th></th>\n",
       "      <th>Лучшие параметры</th>\n",
       "      <th>F1-score</th>\n",
       "    </tr>\n",
       "  </thead>\n",
       "  <tbody>\n",
       "    <tr>\n",
       "      <th>Logistic Regression</th>\n",
       "      <td>0.774654</td>\n",
       "      <td>GridSearchCV(cv=5,\\n             estimator=Pip...</td>\n",
       "    </tr>\n",
       "    <tr>\n",
       "      <th>DecisionTreeRegressor</th>\n",
       "      <td>0.634353</td>\n",
       "      <td>GridSearchCV(cv=5,\\n             estimator=Pip...</td>\n",
       "    </tr>\n",
       "    <tr>\n",
       "      <th>RandomForestRegressor</th>\n",
       "      <td>0.404565</td>\n",
       "      <td>GridSearchCV(cv=5,\\n             estimator=Pip...</td>\n",
       "    </tr>\n",
       "  </tbody>\n",
       "</table>\n",
       "</div>"
      ],
      "text/plain": [
       "                       Лучшие параметры  \\\n",
       "Logistic Regression            0.774654   \n",
       "DecisionTreeRegressor          0.634353   \n",
       "RandomForestRegressor          0.404565   \n",
       "\n",
       "                                                                F1-score  \n",
       "Logistic Regression    GridSearchCV(cv=5,\\n             estimator=Pip...  \n",
       "DecisionTreeRegressor  GridSearchCV(cv=5,\\n             estimator=Pip...  \n",
       "RandomForestRegressor  GridSearchCV(cv=5,\\n             estimator=Pip...  "
      ]
     },
     "execution_count": 23,
     "metadata": {},
     "output_type": "execute_result"
    }
   ],
   "source": [
    "final = pd.DataFrame(data=models, index=['Logistic Regression', 'DecisionTreeRegressor', 'RandomForestRegressor'], \n",
    "                     columns=['Лучшие параметры',  'F1-score'])\n",
    "final"
   ]
  },
  {
   "cell_type": "markdown",
   "metadata": {},
   "source": [
    "Лучшая модель - логистическая регрессия"
   ]
  },
  {
   "cell_type": "code",
   "execution_count": 24,
   "metadata": {},
   "outputs": [
    {
     "data": {
      "text/plain": [
       "0.7654732167638079"
      ]
     },
     "execution_count": 24,
     "metadata": {},
     "output_type": "execute_result"
    }
   ],
   "source": [
    "params = models[0][0]\n",
    "model = models[0][1]\n",
    "\n",
    "#model.fit(X_train, y_train)\n",
    "f1 = model.score(X_test, y_test)\n",
    "#f1 = f1_score(y_test, pred)\n",
    "f1"
   ]
  },
  {
   "cell_type": "markdown",
   "metadata": {},
   "source": [
    "### Общий вывод"
   ]
  },
  {
   "cell_type": "markdown",
   "metadata": {},
   "source": [
    "Мы научились лемматизировать текстовые данные, а также преобразовывать их в вектора. \n",
    "\n",
    "В ходе работы возникли технические проблемы: ядро питона \"умирало\", когда было загружено слишком много данных в оперативную память. Проблему удалось решить используя команду del.\n",
    "\n",
    "Было испробовано три модели - случайный лес, дерево решений и логистическая регрессия. Логистическая регрессия показала себя лучше всего на кросс-валидации. На тестовых данных результат ещё лучше: F1-метрика достигла 76,9%, что соответсвует требованиям.\n",
    "\n",
    "До этого были попытки избавиться от дисбаланса методом downupsampling, но это только ухудшило результаты."
   ]
  }
 ],
 "metadata": {
  "ExecuteTimeLog": [
   {
    "duration": 1914,
    "start_time": "2023-03-21T00:32:58.799Z"
   },
   {
    "duration": 8399,
    "start_time": "2023-03-21T00:35:19.999Z"
   },
   {
    "duration": 2300,
    "start_time": "2023-03-21T00:35:35.398Z"
   },
   {
    "duration": 6807,
    "start_time": "2023-03-21T00:35:37.702Z"
   },
   {
    "duration": 5715,
    "start_time": "2023-03-21T00:36:04.498Z"
   },
   {
    "duration": 114,
    "start_time": "2023-03-21T00:36:14.198Z"
   },
   {
    "duration": 1603,
    "start_time": "2023-03-21T00:36:58.398Z"
   },
   {
    "duration": 2111,
    "start_time": "2023-03-21T00:37:34.802Z"
   },
   {
    "duration": 6203,
    "start_time": "2023-03-21T00:37:37.000Z"
   },
   {
    "duration": 190,
    "start_time": "2023-03-21T00:37:43.211Z"
   },
   {
    "duration": 1991,
    "start_time": "2023-03-21T00:37:43.407Z"
   },
   {
    "duration": 104,
    "start_time": "2023-03-21T00:37:59.398Z"
   },
   {
    "duration": 16,
    "start_time": "2023-03-21T00:38:35.798Z"
   },
   {
    "duration": 11,
    "start_time": "2023-03-21T00:39:29.797Z"
   },
   {
    "duration": 2013,
    "start_time": "2023-03-21T00:41:28.900Z"
   },
   {
    "duration": 6604,
    "start_time": "2023-03-21T00:41:30.997Z"
   },
   {
    "duration": 197,
    "start_time": "2023-03-21T00:41:37.604Z"
   },
   {
    "duration": 1308,
    "start_time": "2023-03-21T00:41:37.804Z"
   },
   {
    "duration": 11,
    "start_time": "2023-03-21T00:41:39.197Z"
   },
   {
    "duration": 89,
    "start_time": "2023-03-21T00:41:39.210Z"
   },
   {
    "duration": 484,
    "start_time": "2023-03-21T01:06:17.609Z"
   },
   {
    "duration": 1414,
    "start_time": "2023-03-21T01:06:18.096Z"
   },
   {
    "duration": 36,
    "start_time": "2023-03-21T01:06:19.513Z"
   },
   {
    "duration": 302,
    "start_time": "2023-03-21T01:06:19.551Z"
   },
   {
    "duration": 9,
    "start_time": "2023-03-21T01:06:19.855Z"
   },
   {
    "duration": 11,
    "start_time": "2023-03-21T01:06:19.866Z"
   },
   {
    "duration": 399,
    "start_time": "2023-03-21T01:07:51.522Z"
   },
   {
    "duration": 3,
    "start_time": "2023-03-21T01:07:51.923Z"
   },
   {
    "duration": 1022,
    "start_time": "2023-03-21T01:07:51.928Z"
   },
   {
    "duration": 32,
    "start_time": "2023-03-21T01:07:52.952Z"
   },
   {
    "duration": 348,
    "start_time": "2023-03-21T01:07:52.986Z"
   },
   {
    "duration": 11,
    "start_time": "2023-03-21T01:07:53.336Z"
   },
   {
    "duration": 10,
    "start_time": "2023-03-21T01:07:53.349Z"
   },
   {
    "duration": 477,
    "start_time": "2023-03-21T01:10:17.058Z"
   },
   {
    "duration": 59,
    "start_time": "2023-03-21T01:10:17.538Z"
   },
   {
    "duration": 1080,
    "start_time": "2023-03-21T01:10:17.600Z"
   },
   {
    "duration": 1099,
    "start_time": "2023-03-21T01:10:18.682Z"
   },
   {
    "duration": 35,
    "start_time": "2023-03-21T01:10:19.783Z"
   },
   {
    "duration": 301,
    "start_time": "2023-03-21T01:10:19.820Z"
   },
   {
    "duration": 11,
    "start_time": "2023-03-21T01:10:20.124Z"
   },
   {
    "duration": 23,
    "start_time": "2023-03-21T01:10:20.136Z"
   },
   {
    "duration": 4,
    "start_time": "2023-03-21T02:10:39.301Z"
   },
   {
    "duration": 4,
    "start_time": "2023-03-21T02:10:59.450Z"
   },
   {
    "duration": 412,
    "start_time": "2023-03-21T02:12:36.042Z"
   },
   {
    "duration": 69,
    "start_time": "2023-03-21T02:12:36.457Z"
   },
   {
    "duration": 1035,
    "start_time": "2023-03-21T02:12:36.528Z"
   },
   {
    "duration": 1151,
    "start_time": "2023-03-21T02:12:37.565Z"
   },
   {
    "duration": 38,
    "start_time": "2023-03-21T02:12:38.720Z"
   },
   {
    "duration": 319,
    "start_time": "2023-03-21T02:12:38.761Z"
   },
   {
    "duration": 21,
    "start_time": "2023-03-21T02:12:39.082Z"
   },
   {
    "duration": 24,
    "start_time": "2023-03-21T02:12:39.105Z"
   },
   {
    "duration": 4,
    "start_time": "2023-03-21T02:12:39.132Z"
   },
   {
    "duration": 39,
    "start_time": "2023-03-21T02:12:39.138Z"
   },
   {
    "duration": 191,
    "start_time": "2023-03-21T02:36:55.033Z"
   },
   {
    "duration": 430,
    "start_time": "2023-03-21T02:37:10.879Z"
   },
   {
    "duration": 47,
    "start_time": "2023-03-21T02:37:11.316Z"
   },
   {
    "duration": 1116,
    "start_time": "2023-03-21T02:37:11.365Z"
   },
   {
    "duration": 1147,
    "start_time": "2023-03-21T02:37:12.484Z"
   },
   {
    "duration": 45,
    "start_time": "2023-03-21T02:37:13.639Z"
   },
   {
    "duration": 340,
    "start_time": "2023-03-21T02:37:13.686Z"
   },
   {
    "duration": 12,
    "start_time": "2023-03-21T02:37:14.029Z"
   },
   {
    "duration": 6,
    "start_time": "2023-03-21T02:37:14.042Z"
   },
   {
    "duration": 6,
    "start_time": "2023-03-21T02:37:14.050Z"
   },
   {
    "duration": 6,
    "start_time": "2023-03-21T02:37:14.057Z"
   },
   {
    "duration": 600277,
    "start_time": "2023-03-21T02:37:14.065Z"
   },
   {
    "duration": 19,
    "start_time": "2023-03-21T02:49:19.432Z"
   },
   {
    "duration": 80609,
    "start_time": "2023-03-21T02:49:23.935Z"
   },
   {
    "duration": 6,
    "start_time": "2023-03-21T02:50:53.185Z"
   },
   {
    "duration": 9,
    "start_time": "2023-03-21T02:51:02.848Z"
   },
   {
    "duration": 10,
    "start_time": "2023-03-21T02:52:02.168Z"
   },
   {
    "duration": 1143,
    "start_time": "2023-03-21T02:52:11.089Z"
   },
   {
    "duration": 1064,
    "start_time": "2023-03-21T02:52:33.874Z"
   },
   {
    "duration": 1091,
    "start_time": "2023-03-21T02:52:52.058Z"
   },
   {
    "duration": 502,
    "start_time": "2023-03-21T02:53:11.081Z"
   },
   {
    "duration": 64,
    "start_time": "2023-03-21T02:53:11.585Z"
   },
   {
    "duration": 1212,
    "start_time": "2023-03-21T02:53:11.651Z"
   },
   {
    "duration": 1242,
    "start_time": "2023-03-21T02:53:12.868Z"
   },
   {
    "duration": 58,
    "start_time": "2023-03-21T02:53:14.113Z"
   },
   {
    "duration": 350,
    "start_time": "2023-03-21T02:53:14.173Z"
   },
   {
    "duration": 14,
    "start_time": "2023-03-21T02:53:14.525Z"
   },
   {
    "duration": 24,
    "start_time": "2023-03-21T02:53:14.541Z"
   },
   {
    "duration": 7,
    "start_time": "2023-03-21T02:53:14.567Z"
   },
   {
    "duration": 9,
    "start_time": "2023-03-21T02:53:14.577Z"
   },
   {
    "duration": 980,
    "start_time": "2023-03-21T02:53:14.588Z"
   },
   {
    "duration": 10911,
    "start_time": "2023-03-21T02:53:15.570Z"
   },
   {
    "duration": 3,
    "start_time": "2023-03-21T03:04:34.879Z"
   },
   {
    "duration": 19,
    "start_time": "2023-03-21T03:08:04.420Z"
   },
   {
    "duration": 22,
    "start_time": "2023-03-21T03:09:00.337Z"
   },
   {
    "duration": 482,
    "start_time": "2023-03-21T03:09:11.094Z"
   },
   {
    "duration": 89,
    "start_time": "2023-03-21T03:09:11.578Z"
   },
   {
    "duration": 1161,
    "start_time": "2023-03-21T03:09:11.669Z"
   },
   {
    "duration": 1273,
    "start_time": "2023-03-21T03:09:12.833Z"
   },
   {
    "duration": 43,
    "start_time": "2023-03-21T03:09:14.119Z"
   },
   {
    "duration": 379,
    "start_time": "2023-03-21T03:09:14.164Z"
   },
   {
    "duration": 18,
    "start_time": "2023-03-21T03:09:14.546Z"
   },
   {
    "duration": 4,
    "start_time": "2023-03-21T03:09:14.567Z"
   },
   {
    "duration": 10,
    "start_time": "2023-03-21T03:09:14.573Z"
   },
   {
    "duration": 5,
    "start_time": "2023-03-21T03:09:14.585Z"
   },
   {
    "duration": 196,
    "start_time": "2023-03-21T03:09:14.610Z"
   },
   {
    "duration": 463,
    "start_time": "2023-03-21T03:09:39.881Z"
   },
   {
    "duration": 63,
    "start_time": "2023-03-21T03:09:40.347Z"
   },
   {
    "duration": 1290,
    "start_time": "2023-03-21T03:09:40.424Z"
   },
   {
    "duration": 1242,
    "start_time": "2023-03-21T03:09:41.729Z"
   },
   {
    "duration": 76,
    "start_time": "2023-03-21T03:09:42.973Z"
   },
   {
    "duration": 370,
    "start_time": "2023-03-21T03:09:43.051Z"
   },
   {
    "duration": 12,
    "start_time": "2023-03-21T03:09:43.425Z"
   },
   {
    "duration": 49,
    "start_time": "2023-03-21T03:09:43.442Z"
   },
   {
    "duration": 53,
    "start_time": "2023-03-21T03:09:43.494Z"
   },
   {
    "duration": 9,
    "start_time": "2023-03-21T03:09:43.551Z"
   },
   {
    "duration": 22,
    "start_time": "2023-03-21T03:09:43.563Z"
   },
   {
    "duration": 523,
    "start_time": "2023-03-21T03:10:13.888Z"
   },
   {
    "duration": 51,
    "start_time": "2023-03-21T03:10:14.414Z"
   },
   {
    "duration": 1219,
    "start_time": "2023-03-21T03:10:14.467Z"
   },
   {
    "duration": 1300,
    "start_time": "2023-03-21T03:10:15.687Z"
   },
   {
    "duration": 47,
    "start_time": "2023-03-21T03:10:16.990Z"
   },
   {
    "duration": 390,
    "start_time": "2023-03-21T03:10:17.040Z"
   },
   {
    "duration": 17,
    "start_time": "2023-03-21T03:10:17.438Z"
   },
   {
    "duration": 5,
    "start_time": "2023-03-21T03:10:17.457Z"
   },
   {
    "duration": 6,
    "start_time": "2023-03-21T03:10:17.464Z"
   },
   {
    "duration": 9,
    "start_time": "2023-03-21T03:10:17.472Z"
   },
   {
    "duration": 19,
    "start_time": "2023-03-21T03:10:17.483Z"
   },
   {
    "duration": 510,
    "start_time": "2023-03-21T03:10:26.479Z"
   },
   {
    "duration": 69,
    "start_time": "2023-03-21T03:10:26.991Z"
   },
   {
    "duration": 1195,
    "start_time": "2023-03-21T03:10:27.062Z"
   },
   {
    "duration": 1231,
    "start_time": "2023-03-21T03:10:28.260Z"
   },
   {
    "duration": 48,
    "start_time": "2023-03-21T03:10:29.493Z"
   },
   {
    "duration": 344,
    "start_time": "2023-03-21T03:10:29.552Z"
   },
   {
    "duration": 15,
    "start_time": "2023-03-21T03:10:29.916Z"
   },
   {
    "duration": 47,
    "start_time": "2023-03-21T03:10:29.933Z"
   },
   {
    "duration": 5,
    "start_time": "2023-03-21T03:10:29.982Z"
   },
   {
    "duration": 6,
    "start_time": "2023-03-21T03:10:29.990Z"
   },
   {
    "duration": 85,
    "start_time": "2023-03-21T03:10:29.998Z"
   },
   {
    "duration": 6,
    "start_time": "2023-03-21T03:11:23.937Z"
   },
   {
    "duration": 4,
    "start_time": "2023-03-21T03:12:05.390Z"
   },
   {
    "duration": 1712,
    "start_time": "2023-03-21T03:12:07.711Z"
   },
   {
    "duration": 470,
    "start_time": "2023-03-21T03:13:01.269Z"
   },
   {
    "duration": 45,
    "start_time": "2023-03-21T03:13:01.742Z"
   },
   {
    "duration": 1070,
    "start_time": "2023-03-21T03:13:01.789Z"
   },
   {
    "duration": 1174,
    "start_time": "2023-03-21T03:13:02.862Z"
   },
   {
    "duration": 36,
    "start_time": "2023-03-21T03:13:04.039Z"
   },
   {
    "duration": 343,
    "start_time": "2023-03-21T03:13:04.077Z"
   },
   {
    "duration": 16,
    "start_time": "2023-03-21T03:13:04.421Z"
   },
   {
    "duration": 7,
    "start_time": "2023-03-21T03:13:04.439Z"
   },
   {
    "duration": 9,
    "start_time": "2023-03-21T03:13:04.448Z"
   },
   {
    "duration": 7,
    "start_time": "2023-03-21T03:13:04.459Z"
   },
   {
    "duration": 1545,
    "start_time": "2023-03-21T03:13:04.468Z"
   },
   {
    "duration": 215,
    "start_time": "2023-03-21T03:13:48.053Z"
   },
   {
    "duration": 486,
    "start_time": "2023-03-21T03:13:52.741Z"
   },
   {
    "duration": 68,
    "start_time": "2023-03-21T03:13:53.230Z"
   },
   {
    "duration": 1521,
    "start_time": "2023-03-21T03:13:53.304Z"
   },
   {
    "duration": 1248,
    "start_time": "2023-03-21T03:13:54.827Z"
   },
   {
    "duration": 50,
    "start_time": "2023-03-21T03:13:56.077Z"
   },
   {
    "duration": 320,
    "start_time": "2023-03-21T03:13:56.135Z"
   },
   {
    "duration": 9,
    "start_time": "2023-03-21T03:13:56.456Z"
   },
   {
    "duration": 7,
    "start_time": "2023-03-21T03:13:56.467Z"
   },
   {
    "duration": 28,
    "start_time": "2023-03-21T03:13:56.476Z"
   },
   {
    "duration": 27,
    "start_time": "2023-03-21T03:13:56.516Z"
   },
   {
    "duration": 1507,
    "start_time": "2023-03-21T03:13:56.545Z"
   },
   {
    "duration": 7,
    "start_time": "2023-03-21T03:14:20.445Z"
   },
   {
    "duration": 6,
    "start_time": "2023-03-21T03:14:37.159Z"
   },
   {
    "duration": 5,
    "start_time": "2023-03-21T03:15:24.031Z"
   },
   {
    "duration": 7,
    "start_time": "2023-03-21T03:19:12.220Z"
   },
   {
    "duration": 438,
    "start_time": "2023-03-21T03:19:44.652Z"
   },
   {
    "duration": 71,
    "start_time": "2023-03-21T03:19:45.093Z"
   },
   {
    "duration": 1352,
    "start_time": "2023-03-21T03:19:45.166Z"
   },
   {
    "duration": 1229,
    "start_time": "2023-03-21T03:19:46.520Z"
   },
   {
    "duration": 40,
    "start_time": "2023-03-21T03:19:47.751Z"
   },
   {
    "duration": 343,
    "start_time": "2023-03-21T03:19:47.793Z"
   },
   {
    "duration": 13,
    "start_time": "2023-03-21T03:19:48.138Z"
   },
   {
    "duration": 7,
    "start_time": "2023-03-21T03:19:48.153Z"
   },
   {
    "duration": 6,
    "start_time": "2023-03-21T03:19:48.163Z"
   },
   {
    "duration": 8,
    "start_time": "2023-03-21T03:19:48.171Z"
   },
   {
    "duration": 49,
    "start_time": "2023-03-21T03:19:48.181Z"
   },
   {
    "duration": 1507,
    "start_time": "2023-03-21T03:19:48.232Z"
   },
   {
    "duration": 491,
    "start_time": "2023-03-21T03:19:55.480Z"
   },
   {
    "duration": 59,
    "start_time": "2023-03-21T03:19:55.973Z"
   },
   {
    "duration": 1293,
    "start_time": "2023-03-21T03:19:56.035Z"
   },
   {
    "duration": 1146,
    "start_time": "2023-03-21T03:19:57.330Z"
   },
   {
    "duration": 47,
    "start_time": "2023-03-21T03:19:58.479Z"
   },
   {
    "duration": 326,
    "start_time": "2023-03-21T03:19:58.528Z"
   },
   {
    "duration": 10,
    "start_time": "2023-03-21T03:19:58.856Z"
   },
   {
    "duration": 5,
    "start_time": "2023-03-21T03:19:58.867Z"
   },
   {
    "duration": 27,
    "start_time": "2023-03-21T03:19:58.874Z"
   },
   {
    "duration": 31,
    "start_time": "2023-03-21T03:19:58.910Z"
   },
   {
    "duration": 5,
    "start_time": "2023-03-21T03:19:58.943Z"
   },
   {
    "duration": 1508,
    "start_time": "2023-03-21T03:19:58.950Z"
   },
   {
    "duration": 4,
    "start_time": "2023-03-21T03:20:28.950Z"
   },
   {
    "duration": 173,
    "start_time": "2023-03-21T03:20:31.933Z"
   },
   {
    "duration": 430,
    "start_time": "2023-03-21T03:21:02.135Z"
   },
   {
    "duration": 64,
    "start_time": "2023-03-21T03:21:02.568Z"
   },
   {
    "duration": 1962,
    "start_time": "2023-03-21T03:21:02.634Z"
   },
   {
    "duration": 1246,
    "start_time": "2023-03-21T03:21:04.599Z"
   },
   {
    "duration": 55,
    "start_time": "2023-03-21T03:21:05.848Z"
   },
   {
    "duration": 386,
    "start_time": "2023-03-21T03:21:05.906Z"
   },
   {
    "duration": 26,
    "start_time": "2023-03-21T03:21:06.295Z"
   },
   {
    "duration": 40,
    "start_time": "2023-03-21T03:21:06.325Z"
   },
   {
    "duration": 24,
    "start_time": "2023-03-21T03:21:06.368Z"
   },
   {
    "duration": 58,
    "start_time": "2023-03-21T03:21:06.394Z"
   },
   {
    "duration": 11,
    "start_time": "2023-03-21T03:21:06.459Z"
   },
   {
    "duration": 2067,
    "start_time": "2023-03-21T03:21:06.472Z"
   },
   {
    "duration": 157,
    "start_time": "2023-03-21T03:24:39.133Z"
   },
   {
    "duration": 33,
    "start_time": "2023-03-21T03:24:44.324Z"
   },
   {
    "duration": 420,
    "start_time": "2023-03-21T03:24:51.848Z"
   },
   {
    "duration": 71,
    "start_time": "2023-03-21T03:24:52.270Z"
   },
   {
    "duration": 1269,
    "start_time": "2023-03-21T03:24:52.344Z"
   },
   {
    "duration": 1135,
    "start_time": "2023-03-21T03:24:53.616Z"
   },
   {
    "duration": 46,
    "start_time": "2023-03-21T03:24:54.753Z"
   },
   {
    "duration": 330,
    "start_time": "2023-03-21T03:24:54.807Z"
   },
   {
    "duration": 12,
    "start_time": "2023-03-21T03:24:55.139Z"
   },
   {
    "duration": 5,
    "start_time": "2023-03-21T03:24:55.153Z"
   },
   {
    "duration": 7,
    "start_time": "2023-03-21T03:24:55.161Z"
   },
   {
    "duration": 10,
    "start_time": "2023-03-21T03:24:55.171Z"
   },
   {
    "duration": 49,
    "start_time": "2023-03-21T03:24:55.183Z"
   },
   {
    "duration": 1803,
    "start_time": "2023-03-21T03:24:55.234Z"
   },
   {
    "duration": 34,
    "start_time": "2023-03-21T03:24:57.038Z"
   },
   {
    "duration": 474,
    "start_time": "2023-03-21T03:27:41.357Z"
   },
   {
    "duration": 51,
    "start_time": "2023-03-21T03:27:41.833Z"
   },
   {
    "duration": 1300,
    "start_time": "2023-03-21T03:27:41.886Z"
   },
   {
    "duration": 1134,
    "start_time": "2023-03-21T03:27:43.187Z"
   },
   {
    "duration": 38,
    "start_time": "2023-03-21T03:27:44.324Z"
   },
   {
    "duration": 317,
    "start_time": "2023-03-21T03:27:44.364Z"
   },
   {
    "duration": 27,
    "start_time": "2023-03-21T03:27:44.683Z"
   },
   {
    "duration": 16,
    "start_time": "2023-03-21T03:27:44.712Z"
   },
   {
    "duration": 24,
    "start_time": "2023-03-21T03:27:44.730Z"
   },
   {
    "duration": 8,
    "start_time": "2023-03-21T03:27:44.756Z"
   },
   {
    "duration": 12,
    "start_time": "2023-03-21T03:27:44.766Z"
   },
   {
    "duration": 1833,
    "start_time": "2023-03-21T03:27:44.780Z"
   },
   {
    "duration": 38,
    "start_time": "2023-03-21T03:27:46.619Z"
   },
   {
    "duration": 8,
    "start_time": "2023-03-21T03:28:52.549Z"
   },
   {
    "duration": 422,
    "start_time": "2023-03-21T03:29:08.773Z"
   },
   {
    "duration": 65,
    "start_time": "2023-03-21T03:29:09.198Z"
   },
   {
    "duration": 1381,
    "start_time": "2023-03-21T03:29:09.265Z"
   },
   {
    "duration": 1206,
    "start_time": "2023-03-21T03:29:10.648Z"
   },
   {
    "duration": 50,
    "start_time": "2023-03-21T03:29:11.856Z"
   },
   {
    "duration": 360,
    "start_time": "2023-03-21T03:29:11.912Z"
   },
   {
    "duration": 11,
    "start_time": "2023-03-21T03:29:12.274Z"
   },
   {
    "duration": 16,
    "start_time": "2023-03-21T03:29:12.286Z"
   },
   {
    "duration": 36,
    "start_time": "2023-03-21T03:29:12.305Z"
   },
   {
    "duration": 7,
    "start_time": "2023-03-21T03:29:12.343Z"
   },
   {
    "duration": 8,
    "start_time": "2023-03-21T03:29:12.352Z"
   },
   {
    "duration": 1812,
    "start_time": "2023-03-21T03:29:12.362Z"
   },
   {
    "duration": 39,
    "start_time": "2023-03-21T03:29:14.176Z"
   },
   {
    "duration": 1837960,
    "start_time": "2023-03-21T03:29:14.217Z"
   },
   {
    "duration": 78,
    "start_time": "2023-03-21T04:00:26.591Z"
   },
   {
    "duration": 15,
    "start_time": "2023-03-21T04:00:47.960Z"
   },
   {
    "duration": 79,
    "start_time": "2023-03-21T04:00:58.351Z"
   },
   {
    "duration": 81,
    "start_time": "2023-03-21T04:01:15.560Z"
   },
   {
    "duration": 3,
    "start_time": "2023-03-21T04:11:13.638Z"
   },
   {
    "duration": 42,
    "start_time": "2023-03-21T04:14:43.808Z"
   },
   {
    "duration": 17,
    "start_time": "2023-03-21T04:15:00.769Z"
   },
   {
    "duration": 3,
    "start_time": "2023-03-21T04:15:32.680Z"
   },
   {
    "duration": 111,
    "start_time": "2023-03-21T04:15:36.577Z"
   },
   {
    "duration": 17,
    "start_time": "2023-03-21T04:20:24.129Z"
   },
   {
    "duration": 94,
    "start_time": "2023-03-21T04:22:08.238Z"
   },
   {
    "duration": 4,
    "start_time": "2023-03-21T04:22:55.871Z"
   },
   {
    "duration": 113,
    "start_time": "2023-03-21T04:23:00.892Z"
   },
   {
    "duration": 1314,
    "start_time": "2023-03-21T04:23:34.559Z"
   },
   {
    "duration": 1406,
    "start_time": "2023-03-21T04:23:45.635Z"
   },
   {
    "duration": 6,
    "start_time": "2023-03-21T04:24:17.880Z"
   },
   {
    "duration": 9,
    "start_time": "2023-03-21T04:24:27.304Z"
   },
   {
    "duration": 239,
    "start_time": "2023-03-21T04:30:41.826Z"
   },
   {
    "duration": 4,
    "start_time": "2023-03-21T04:30:49.054Z"
   },
   {
    "duration": 1733,
    "start_time": "2023-03-21T04:32:16.929Z"
   },
   {
    "duration": 60,
    "start_time": "2023-03-21T04:34:37.903Z"
   },
   {
    "duration": 7,
    "start_time": "2023-03-21T04:34:47.087Z"
   },
   {
    "duration": 1290,
    "start_time": "2023-03-21T04:35:20.882Z"
   },
   {
    "duration": 66,
    "start_time": "2023-03-21T04:35:22.174Z"
   },
   {
    "duration": 564,
    "start_time": "2023-03-21T04:35:22.242Z"
   },
   {
    "duration": 5,
    "start_time": "2023-03-21T04:35:22.809Z"
   },
   {
    "duration": 1479,
    "start_time": "2023-03-21T04:35:22.821Z"
   },
   {
    "duration": 40,
    "start_time": "2023-03-21T04:35:24.302Z"
   },
   {
    "duration": 303,
    "start_time": "2023-03-21T04:35:24.344Z"
   },
   {
    "duration": 11,
    "start_time": "2023-03-21T04:35:24.650Z"
   },
   {
    "duration": 5,
    "start_time": "2023-03-21T04:35:24.663Z"
   },
   {
    "duration": 26,
    "start_time": "2023-03-21T04:35:24.671Z"
   },
   {
    "duration": 10,
    "start_time": "2023-03-21T04:35:24.699Z"
   },
   {
    "duration": 10,
    "start_time": "2023-03-21T04:35:24.713Z"
   },
   {
    "duration": 1667,
    "start_time": "2023-03-21T04:35:24.725Z"
   },
   {
    "duration": 43,
    "start_time": "2023-03-21T04:35:26.394Z"
   },
   {
    "duration": 1735631,
    "start_time": "2023-03-21T04:35:26.439Z"
   },
   {
    "duration": 89,
    "start_time": "2023-03-21T05:04:22.072Z"
   },
   {
    "duration": 51,
    "start_time": "2023-03-21T05:04:22.163Z"
   },
   {
    "duration": 107,
    "start_time": "2023-03-21T05:04:22.219Z"
   },
   {
    "duration": 141,
    "start_time": "2023-03-21T05:04:22.329Z"
   },
   {
    "duration": 6,
    "start_time": "2023-03-21T05:04:22.472Z"
   },
   {
    "duration": 1905,
    "start_time": "2023-03-21T05:04:22.481Z"
   },
   {
    "duration": 585,
    "start_time": "2023-03-21T05:04:24.388Z"
   },
   {
    "duration": 1287,
    "start_time": "2023-03-21T05:08:06.052Z"
   },
   {
    "duration": 46,
    "start_time": "2023-03-21T05:08:07.341Z"
   },
   {
    "duration": 601,
    "start_time": "2023-03-21T05:08:07.389Z"
   },
   {
    "duration": 3,
    "start_time": "2023-03-21T05:08:07.992Z"
   },
   {
    "duration": 1691,
    "start_time": "2023-03-21T05:08:08.001Z"
   },
   {
    "duration": 49,
    "start_time": "2023-03-21T05:08:09.693Z"
   },
   {
    "duration": 317,
    "start_time": "2023-03-21T05:08:09.744Z"
   },
   {
    "duration": 9,
    "start_time": "2023-03-21T05:08:10.063Z"
   },
   {
    "duration": 7,
    "start_time": "2023-03-21T05:08:10.074Z"
   },
   {
    "duration": 41,
    "start_time": "2023-03-21T05:08:10.083Z"
   },
   {
    "duration": 11,
    "start_time": "2023-03-21T05:08:10.126Z"
   },
   {
    "duration": 6,
    "start_time": "2023-03-21T05:08:10.138Z"
   },
   {
    "duration": 1726,
    "start_time": "2023-03-21T05:08:10.146Z"
   },
   {
    "duration": 3,
    "start_time": "2023-03-21T05:08:11.874Z"
   },
   {
    "duration": 242,
    "start_time": "2023-03-21T05:08:11.879Z"
   },
   {
    "duration": 0,
    "start_time": "2023-03-21T05:08:12.124Z"
   },
   {
    "duration": 0,
    "start_time": "2023-03-21T05:08:12.131Z"
   },
   {
    "duration": 0,
    "start_time": "2023-03-21T05:08:12.133Z"
   },
   {
    "duration": 0,
    "start_time": "2023-03-21T05:08:12.134Z"
   },
   {
    "duration": 0,
    "start_time": "2023-03-21T05:08:12.136Z"
   },
   {
    "duration": 0,
    "start_time": "2023-03-21T05:08:12.137Z"
   },
   {
    "duration": 1197,
    "start_time": "2023-03-21T05:08:30.982Z"
   },
   {
    "duration": 50,
    "start_time": "2023-03-21T05:08:32.182Z"
   },
   {
    "duration": 445,
    "start_time": "2023-03-21T05:08:32.234Z"
   },
   {
    "duration": 2,
    "start_time": "2023-03-21T05:08:32.681Z"
   },
   {
    "duration": 1073,
    "start_time": "2023-03-21T05:08:32.685Z"
   },
   {
    "duration": 46,
    "start_time": "2023-03-21T05:08:33.760Z"
   },
   {
    "duration": 293,
    "start_time": "2023-03-21T05:08:33.809Z"
   },
   {
    "duration": 18,
    "start_time": "2023-03-21T05:08:34.104Z"
   },
   {
    "duration": 24,
    "start_time": "2023-03-21T05:08:34.123Z"
   },
   {
    "duration": 6,
    "start_time": "2023-03-21T05:08:34.149Z"
   },
   {
    "duration": 11,
    "start_time": "2023-03-21T05:08:34.156Z"
   },
   {
    "duration": 5,
    "start_time": "2023-03-21T05:08:34.169Z"
   },
   {
    "duration": 1713,
    "start_time": "2023-03-21T05:08:34.176Z"
   },
   {
    "duration": 11,
    "start_time": "2023-03-21T05:08:35.892Z"
   },
   {
    "duration": 37,
    "start_time": "2023-03-21T05:08:35.908Z"
   },
   {
    "duration": 114,
    "start_time": "2023-03-21T05:08:35.946Z"
   },
   {
    "duration": 100,
    "start_time": "2023-03-21T05:08:36.064Z"
   },
   {
    "duration": 4,
    "start_time": "2023-03-21T05:08:36.167Z"
   },
   {
    "duration": 1727,
    "start_time": "2023-03-21T05:08:36.173Z"
   },
   {
    "duration": 0,
    "start_time": "2023-03-21T05:08:37.902Z"
   },
   {
    "duration": 19,
    "start_time": "2023-03-21T05:10:40.192Z"
   },
   {
    "duration": 5,
    "start_time": "2023-03-21T05:10:53.814Z"
   },
   {
    "duration": 43,
    "start_time": "2023-03-21T05:10:57.194Z"
   },
   {
    "duration": 1227,
    "start_time": "2023-03-21T05:11:04.631Z"
   },
   {
    "duration": 42,
    "start_time": "2023-03-21T05:11:05.860Z"
   },
   {
    "duration": 509,
    "start_time": "2023-03-21T05:11:05.905Z"
   },
   {
    "duration": 5,
    "start_time": "2023-03-21T05:11:06.417Z"
   },
   {
    "duration": 1049,
    "start_time": "2023-03-21T05:11:06.425Z"
   },
   {
    "duration": 39,
    "start_time": "2023-03-21T05:11:07.476Z"
   },
   {
    "duration": 312,
    "start_time": "2023-03-21T05:11:07.520Z"
   },
   {
    "duration": 9,
    "start_time": "2023-03-21T05:11:07.834Z"
   },
   {
    "duration": 6,
    "start_time": "2023-03-21T05:11:07.845Z"
   },
   {
    "duration": 6,
    "start_time": "2023-03-21T05:11:07.853Z"
   },
   {
    "duration": 11,
    "start_time": "2023-03-21T05:11:07.861Z"
   },
   {
    "duration": 27,
    "start_time": "2023-03-21T05:11:07.874Z"
   },
   {
    "duration": 1586,
    "start_time": "2023-03-21T05:11:07.903Z"
   },
   {
    "duration": 6,
    "start_time": "2023-03-21T05:11:09.498Z"
   },
   {
    "duration": 28,
    "start_time": "2023-03-21T05:11:09.507Z"
   },
   {
    "duration": 100,
    "start_time": "2023-03-21T05:11:09.537Z"
   },
   {
    "duration": 85,
    "start_time": "2023-03-21T05:11:09.639Z"
   },
   {
    "duration": 5,
    "start_time": "2023-03-21T05:11:09.726Z"
   },
   {
    "duration": 195,
    "start_time": "2023-03-21T05:11:09.732Z"
   },
   {
    "duration": 0,
    "start_time": "2023-03-21T05:11:09.929Z"
   },
   {
    "duration": 0,
    "start_time": "2023-03-21T05:11:09.930Z"
   },
   {
    "duration": 0,
    "start_time": "2023-03-21T05:11:09.932Z"
   },
   {
    "duration": 1152,
    "start_time": "2023-03-21T05:11:22.104Z"
   },
   {
    "duration": 42,
    "start_time": "2023-03-21T05:11:23.258Z"
   },
   {
    "duration": 511,
    "start_time": "2023-03-21T05:11:23.303Z"
   },
   {
    "duration": 4,
    "start_time": "2023-03-21T05:11:23.816Z"
   },
   {
    "duration": 960,
    "start_time": "2023-03-21T05:11:23.823Z"
   },
   {
    "duration": 36,
    "start_time": "2023-03-21T05:11:24.784Z"
   },
   {
    "duration": 312,
    "start_time": "2023-03-21T05:11:24.822Z"
   },
   {
    "duration": 10,
    "start_time": "2023-03-21T05:11:25.136Z"
   },
   {
    "duration": 5,
    "start_time": "2023-03-21T05:11:25.147Z"
   },
   {
    "duration": 6,
    "start_time": "2023-03-21T05:11:25.154Z"
   },
   {
    "duration": 7,
    "start_time": "2023-03-21T05:11:25.161Z"
   },
   {
    "duration": 28,
    "start_time": "2023-03-21T05:11:25.170Z"
   },
   {
    "duration": 1564,
    "start_time": "2023-03-21T05:11:25.200Z"
   },
   {
    "duration": 3,
    "start_time": "2023-03-21T05:11:26.768Z"
   },
   {
    "duration": 14,
    "start_time": "2023-03-21T05:11:26.773Z"
   },
   {
    "duration": 69,
    "start_time": "2023-03-21T05:11:26.798Z"
   },
   {
    "duration": 89,
    "start_time": "2023-03-21T05:11:26.870Z"
   },
   {
    "duration": 4,
    "start_time": "2023-03-21T05:11:26.961Z"
   },
   {
    "duration": 211,
    "start_time": "2023-03-21T05:11:26.967Z"
   },
   {
    "duration": 0,
    "start_time": "2023-03-21T05:11:27.180Z"
   },
   {
    "duration": 0,
    "start_time": "2023-03-21T05:11:27.181Z"
   },
   {
    "duration": 0,
    "start_time": "2023-03-21T05:11:27.182Z"
   },
   {
    "duration": 10,
    "start_time": "2023-03-21T05:11:51.562Z"
   },
   {
    "duration": 5,
    "start_time": "2023-03-21T05:12:09.253Z"
   },
   {
    "duration": 53,
    "start_time": "2023-03-21T05:12:33.493Z"
   },
   {
    "duration": 11,
    "start_time": "2023-03-21T05:13:25.230Z"
   },
   {
    "duration": 15,
    "start_time": "2023-03-21T05:13:36.037Z"
   },
   {
    "duration": 148,
    "start_time": "2023-03-21T05:14:26.197Z"
   },
   {
    "duration": 1196,
    "start_time": "2023-03-21T05:14:32.675Z"
   },
   {
    "duration": 51,
    "start_time": "2023-03-21T05:14:33.873Z"
   },
   {
    "duration": 449,
    "start_time": "2023-03-21T05:14:33.926Z"
   },
   {
    "duration": 3,
    "start_time": "2023-03-21T05:14:34.376Z"
   },
   {
    "duration": 1053,
    "start_time": "2023-03-21T05:14:34.381Z"
   },
   {
    "duration": 35,
    "start_time": "2023-03-21T05:14:35.436Z"
   },
   {
    "duration": 316,
    "start_time": "2023-03-21T05:14:35.473Z"
   },
   {
    "duration": 15,
    "start_time": "2023-03-21T05:14:35.791Z"
   },
   {
    "duration": 16,
    "start_time": "2023-03-21T05:14:35.808Z"
   },
   {
    "duration": 6,
    "start_time": "2023-03-21T05:14:35.827Z"
   },
   {
    "duration": 13,
    "start_time": "2023-03-21T05:14:35.835Z"
   },
   {
    "duration": 14,
    "start_time": "2023-03-21T05:14:35.850Z"
   },
   {
    "duration": 1550,
    "start_time": "2023-03-21T05:14:35.866Z"
   },
   {
    "duration": 4,
    "start_time": "2023-03-21T05:14:37.420Z"
   },
   {
    "duration": 15,
    "start_time": "2023-03-21T05:14:37.426Z"
   },
   {
    "duration": 89,
    "start_time": "2023-03-21T05:14:37.443Z"
   },
   {
    "duration": 105,
    "start_time": "2023-03-21T05:14:37.534Z"
   },
   {
    "duration": 7,
    "start_time": "2023-03-21T05:14:37.641Z"
   },
   {
    "duration": 194,
    "start_time": "2023-03-21T05:14:37.649Z"
   },
   {
    "duration": 0,
    "start_time": "2023-03-21T05:14:37.845Z"
   },
   {
    "duration": 0,
    "start_time": "2023-03-21T05:14:37.846Z"
   },
   {
    "duration": 0,
    "start_time": "2023-03-21T05:14:37.847Z"
   },
   {
    "duration": 8,
    "start_time": "2023-03-21T05:15:27.710Z"
   },
   {
    "duration": 33,
    "start_time": "2023-03-21T05:17:10.162Z"
   },
   {
    "duration": 28,
    "start_time": "2023-03-21T05:18:01.644Z"
   },
   {
    "duration": 12,
    "start_time": "2023-03-21T05:19:39.316Z"
   },
   {
    "duration": 9497,
    "start_time": "2023-03-21T05:19:52.964Z"
   },
   {
    "duration": 1243,
    "start_time": "2023-03-21T05:20:34.881Z"
   },
   {
    "duration": 45,
    "start_time": "2023-03-21T05:20:36.126Z"
   },
   {
    "duration": 502,
    "start_time": "2023-03-21T05:20:36.173Z"
   },
   {
    "duration": 3,
    "start_time": "2023-03-21T05:20:36.677Z"
   },
   {
    "duration": 1084,
    "start_time": "2023-03-21T05:20:36.682Z"
   },
   {
    "duration": 40,
    "start_time": "2023-03-21T05:20:37.768Z"
   },
   {
    "duration": 307,
    "start_time": "2023-03-21T05:20:37.810Z"
   },
   {
    "duration": 9,
    "start_time": "2023-03-21T05:20:38.120Z"
   },
   {
    "duration": 15,
    "start_time": "2023-03-21T05:20:38.131Z"
   },
   {
    "duration": 13,
    "start_time": "2023-03-21T05:20:38.148Z"
   },
   {
    "duration": 15,
    "start_time": "2023-03-21T05:20:38.163Z"
   },
   {
    "duration": 15,
    "start_time": "2023-03-21T05:20:38.180Z"
   },
   {
    "duration": 1536,
    "start_time": "2023-03-21T05:20:38.198Z"
   },
   {
    "duration": 12,
    "start_time": "2023-03-21T05:20:39.737Z"
   },
   {
    "duration": 85,
    "start_time": "2023-03-21T05:20:39.751Z"
   },
   {
    "duration": 87,
    "start_time": "2023-03-21T05:20:39.838Z"
   },
   {
    "duration": 8,
    "start_time": "2023-03-21T05:20:39.926Z"
   },
   {
    "duration": 1129,
    "start_time": "2023-03-21T05:21:10.999Z"
   },
   {
    "duration": 41,
    "start_time": "2023-03-21T05:21:12.130Z"
   },
   {
    "duration": 488,
    "start_time": "2023-03-21T05:21:12.173Z"
   },
   {
    "duration": 3,
    "start_time": "2023-03-21T05:21:12.663Z"
   },
   {
    "duration": 1079,
    "start_time": "2023-03-21T05:21:12.667Z"
   },
   {
    "duration": 34,
    "start_time": "2023-03-21T05:21:13.748Z"
   },
   {
    "duration": 306,
    "start_time": "2023-03-21T05:21:13.784Z"
   },
   {
    "duration": 14,
    "start_time": "2023-03-21T05:21:14.092Z"
   },
   {
    "duration": 17,
    "start_time": "2023-03-21T05:21:14.108Z"
   },
   {
    "duration": 4,
    "start_time": "2023-03-21T05:21:14.128Z"
   },
   {
    "duration": 7,
    "start_time": "2023-03-21T05:21:14.134Z"
   },
   {
    "duration": 5,
    "start_time": "2023-03-21T05:21:14.143Z"
   },
   {
    "duration": 1623,
    "start_time": "2023-03-21T05:21:14.150Z"
   },
   {
    "duration": 12,
    "start_time": "2023-03-21T05:21:15.775Z"
   },
   {
    "duration": 83,
    "start_time": "2023-03-21T05:21:15.788Z"
   },
   {
    "duration": 85,
    "start_time": "2023-03-21T05:21:15.873Z"
   },
   {
    "duration": 5,
    "start_time": "2023-03-21T05:21:15.960Z"
   },
   {
    "duration": 1801,
    "start_time": "2023-03-21T05:21:15.966Z"
   },
   {
    "duration": 0,
    "start_time": "2023-03-21T05:21:17.769Z"
   },
   {
    "duration": 0,
    "start_time": "2023-03-21T05:21:17.770Z"
   },
   {
    "duration": 0,
    "start_time": "2023-03-21T05:21:17.772Z"
   },
   {
    "duration": 0,
    "start_time": "2023-03-21T05:21:17.773Z"
   },
   {
    "duration": 51860,
    "start_time": "2023-03-21T05:22:58.621Z"
   },
   {
    "duration": 1179,
    "start_time": "2023-03-21T05:26:57.899Z"
   },
   {
    "duration": 56,
    "start_time": "2023-03-21T05:26:59.080Z"
   },
   {
    "duration": 533,
    "start_time": "2023-03-21T05:26:59.140Z"
   },
   {
    "duration": 3,
    "start_time": "2023-03-21T05:26:59.675Z"
   },
   {
    "duration": 1085,
    "start_time": "2023-03-21T05:26:59.680Z"
   },
   {
    "duration": 39,
    "start_time": "2023-03-21T05:27:00.767Z"
   },
   {
    "duration": 304,
    "start_time": "2023-03-21T05:27:00.808Z"
   },
   {
    "duration": 10,
    "start_time": "2023-03-21T05:27:01.114Z"
   },
   {
    "duration": 32,
    "start_time": "2023-03-21T05:27:01.127Z"
   },
   {
    "duration": 41,
    "start_time": "2023-03-21T05:27:01.161Z"
   },
   {
    "duration": 29,
    "start_time": "2023-03-21T05:27:01.204Z"
   },
   {
    "duration": 51,
    "start_time": "2023-03-21T05:27:01.235Z"
   },
   {
    "duration": 1687,
    "start_time": "2023-03-21T05:27:01.288Z"
   },
   {
    "duration": 1510235,
    "start_time": "2023-03-21T05:27:02.976Z"
   },
   {
    "duration": 36,
    "start_time": "2023-03-21T05:52:13.212Z"
   },
   {
    "duration": 57,
    "start_time": "2023-03-21T05:52:13.250Z"
   },
   {
    "duration": 99,
    "start_time": "2023-03-21T05:52:13.308Z"
   },
   {
    "duration": 137,
    "start_time": "2023-03-21T05:52:13.409Z"
   },
   {
    "duration": 0,
    "start_time": "2023-03-21T05:52:13.548Z"
   },
   {
    "duration": 0,
    "start_time": "2023-03-21T05:52:13.549Z"
   },
   {
    "duration": 0,
    "start_time": "2023-03-21T05:52:13.551Z"
   },
   {
    "duration": 0,
    "start_time": "2023-03-21T05:52:13.552Z"
   },
   {
    "duration": 0,
    "start_time": "2023-03-21T05:52:13.553Z"
   },
   {
    "duration": 133,
    "start_time": "2023-03-21T05:53:03.579Z"
   },
   {
    "duration": 5,
    "start_time": "2023-03-21T05:53:06.550Z"
   },
   {
    "duration": 1203,
    "start_time": "2023-03-21T05:53:26.618Z"
   },
   {
    "duration": 1678,
    "start_time": "2023-03-21T05:53:56.781Z"
   },
   {
    "duration": 1375,
    "start_time": "2023-03-21T05:54:44.348Z"
   },
   {
    "duration": 572,
    "start_time": "2023-03-21T05:54:49.972Z"
   },
   {
    "duration": 10,
    "start_time": "2023-03-21T05:55:29.438Z"
   },
   {
    "duration": 5,
    "start_time": "2023-03-21T05:55:37.522Z"
   },
   {
    "duration": 5,
    "start_time": "2023-03-21T05:55:44.634Z"
   },
   {
    "duration": 12,
    "start_time": "2023-03-21T05:57:34.485Z"
   },
   {
    "duration": 7,
    "start_time": "2023-03-21T05:58:37.170Z"
   },
   {
    "duration": 51,
    "start_time": "2023-03-21T05:59:20.706Z"
   },
   {
    "duration": 7,
    "start_time": "2023-03-21T06:00:35.907Z"
   },
   {
    "duration": 1181,
    "start_time": "2023-03-21T06:03:56.777Z"
   },
   {
    "duration": 43,
    "start_time": "2023-03-21T06:03:57.960Z"
   },
   {
    "duration": 456,
    "start_time": "2023-03-21T06:03:58.005Z"
   },
   {
    "duration": 3,
    "start_time": "2023-03-21T06:03:58.463Z"
   },
   {
    "duration": 1369,
    "start_time": "2023-03-21T06:03:58.467Z"
   },
   {
    "duration": 38,
    "start_time": "2023-03-21T06:03:59.838Z"
   },
   {
    "duration": 289,
    "start_time": "2023-03-21T06:03:59.878Z"
   },
   {
    "duration": 10,
    "start_time": "2023-03-21T06:04:00.169Z"
   },
   {
    "duration": 18,
    "start_time": "2023-03-21T06:04:00.181Z"
   },
   {
    "duration": 38,
    "start_time": "2023-03-21T06:04:00.202Z"
   },
   {
    "duration": 20,
    "start_time": "2023-03-21T06:04:00.242Z"
   },
   {
    "duration": 53,
    "start_time": "2023-03-21T06:04:00.264Z"
   },
   {
    "duration": 1623,
    "start_time": "2023-03-21T06:04:00.319Z"
   },
   {
    "duration": 1494293,
    "start_time": "2023-03-21T06:04:01.944Z"
   },
   {
    "duration": 34,
    "start_time": "2023-03-21T06:28:56.239Z"
   },
   {
    "duration": 53,
    "start_time": "2023-03-21T06:28:56.276Z"
   },
   {
    "duration": 104,
    "start_time": "2023-03-21T06:28:56.332Z"
   },
   {
    "duration": 165,
    "start_time": "2023-03-21T06:28:56.438Z"
   },
   {
    "duration": 12,
    "start_time": "2023-03-21T06:28:56.605Z"
   },
   {
    "duration": 1822,
    "start_time": "2023-03-21T06:28:56.618Z"
   },
   {
    "duration": 7595,
    "start_time": "2023-03-21T06:28:58.443Z"
   },
   {
    "duration": 594,
    "start_time": "2023-03-21T06:29:06.040Z"
   },
   {
    "duration": 2800,
    "start_time": "2023-03-21T06:29:06.636Z"
   },
   {
    "duration": 2,
    "start_time": "2023-03-21T06:34:04.725Z"
   },
   {
    "duration": 3,
    "start_time": "2023-03-21T06:35:51.094Z"
   },
   {
    "duration": 4,
    "start_time": "2023-03-21T06:38:16.237Z"
   },
   {
    "duration": 43,
    "start_time": "2023-03-21T06:42:46.988Z"
   },
   {
    "duration": 43,
    "start_time": "2023-03-21T06:44:08.620Z"
   },
   {
    "duration": 4,
    "start_time": "2023-03-21T06:44:29.796Z"
   },
   {
    "duration": 3,
    "start_time": "2023-03-21T06:44:33.245Z"
   },
   {
    "duration": 52,
    "start_time": "2023-03-21T06:44:57.437Z"
   },
   {
    "duration": 189,
    "start_time": "2023-03-21T06:45:02.191Z"
   },
   {
    "duration": 39,
    "start_time": "2023-03-21T06:45:36.732Z"
   },
   {
    "duration": 39,
    "start_time": "2023-03-21T06:45:41.330Z"
   },
   {
    "duration": 276,
    "start_time": "2023-03-21T06:45:52.961Z"
   },
   {
    "duration": 92,
    "start_time": "2023-03-21T06:46:02.653Z"
   },
   {
    "duration": 19,
    "start_time": "2023-03-21T06:46:46.324Z"
   },
   {
    "duration": 10,
    "start_time": "2023-03-21T06:47:03.385Z"
   },
   {
    "duration": 10,
    "start_time": "2023-03-21T06:47:52.720Z"
   },
   {
    "duration": 3,
    "start_time": "2023-03-21T06:47:58.710Z"
   },
   {
    "duration": 5,
    "start_time": "2023-03-21T06:48:09.588Z"
   },
   {
    "duration": 1231,
    "start_time": "2023-03-21T06:50:49.989Z"
   },
   {
    "duration": 46,
    "start_time": "2023-03-21T06:50:51.222Z"
   },
   {
    "duration": 512,
    "start_time": "2023-03-21T06:50:51.270Z"
   },
   {
    "duration": 3,
    "start_time": "2023-03-21T06:50:51.784Z"
   },
   {
    "duration": 1037,
    "start_time": "2023-03-21T06:50:51.789Z"
   },
   {
    "duration": 37,
    "start_time": "2023-03-21T06:50:52.828Z"
   },
   {
    "duration": 305,
    "start_time": "2023-03-21T06:50:52.866Z"
   },
   {
    "duration": 10,
    "start_time": "2023-03-21T06:50:53.173Z"
   },
   {
    "duration": 16,
    "start_time": "2023-03-21T06:50:53.185Z"
   },
   {
    "duration": 6,
    "start_time": "2023-03-21T06:50:53.203Z"
   },
   {
    "duration": 5,
    "start_time": "2023-03-21T06:50:53.211Z"
   },
   {
    "duration": 7,
    "start_time": "2023-03-21T06:50:53.217Z"
   },
   {
    "duration": 1531,
    "start_time": "2023-03-21T06:50:53.226Z"
   },
   {
    "duration": 1501298,
    "start_time": "2023-03-21T06:50:54.760Z"
   },
   {
    "duration": 67,
    "start_time": "2023-03-21T07:15:56.059Z"
   },
   {
    "duration": 45,
    "start_time": "2023-03-21T07:15:56.128Z"
   },
   {
    "duration": 97,
    "start_time": "2023-03-21T07:15:56.175Z"
   },
   {
    "duration": 227,
    "start_time": "2023-03-21T07:15:56.274Z"
   },
   {
    "duration": 12,
    "start_time": "2023-03-21T07:15:56.503Z"
   },
   {
    "duration": 1803,
    "start_time": "2023-03-21T07:15:56.517Z"
   },
   {
    "duration": 8247,
    "start_time": "2023-03-21T07:15:58.322Z"
   },
   {
    "duration": 602,
    "start_time": "2023-03-21T07:16:06.570Z"
   },
   {
    "duration": 2744,
    "start_time": "2023-03-21T07:16:07.174Z"
   },
   {
    "duration": 4,
    "start_time": "2023-03-21T07:16:09.920Z"
   },
   {
    "duration": 166973,
    "start_time": "2023-03-21T07:16:09.926Z"
   },
   {
    "duration": 563,
    "start_time": "2023-03-21T07:19:17.890Z"
   },
   {
    "duration": 58602,
    "start_time": "2023-03-21T07:19:35.708Z"
   },
   {
    "duration": 12557,
    "start_time": "2023-03-21T07:21:01.077Z"
   },
   {
    "duration": 30,
    "start_time": "2023-03-21T07:22:26.095Z"
   },
   {
    "duration": 291,
    "start_time": "2023-03-21T07:24:16.460Z"
   },
   {
    "duration": 79044,
    "start_time": "2023-03-21T07:25:12.056Z"
   },
   {
    "duration": 24,
    "start_time": "2023-03-21T07:28:40.686Z"
   },
   {
    "duration": 4,
    "start_time": "2023-03-21T07:29:05.318Z"
   },
   {
    "duration": 136,
    "start_time": "2023-03-21T07:30:57.053Z"
   },
   {
    "duration": 88,
    "start_time": "2023-03-21T07:32:43.610Z"
   },
   {
    "duration": 164,
    "start_time": "2023-03-21T07:32:59.201Z"
   },
   {
    "duration": 135,
    "start_time": "2023-03-21T07:33:57.418Z"
   },
   {
    "duration": 117,
    "start_time": "2023-03-21T07:34:13.108Z"
   },
   {
    "duration": 486033,
    "start_time": "2023-03-21T07:34:40.554Z"
   },
   {
    "duration": 3,
    "start_time": "2023-03-21T07:43:13.681Z"
   },
   {
    "duration": 44,
    "start_time": "2023-03-21T07:44:58.281Z"
   },
   {
    "duration": 137546,
    "start_time": "2023-03-21T07:45:10.511Z"
   },
   {
    "duration": 54840,
    "start_time": "2023-03-21T07:47:33.137Z"
   },
   {
    "duration": 3,
    "start_time": "2023-03-21T07:49:12.816Z"
   },
   {
    "duration": 33,
    "start_time": "2023-03-21T07:50:17.577Z"
   },
   {
    "duration": 4,
    "start_time": "2023-03-21T07:50:38.022Z"
   },
   {
    "duration": 3,
    "start_time": "2023-03-21T07:51:16.944Z"
   },
   {
    "duration": 6,
    "start_time": "2023-03-21T07:51:23.816Z"
   },
   {
    "duration": 16,
    "start_time": "2023-03-21T07:51:27.106Z"
   },
   {
    "duration": 3,
    "start_time": "2023-03-21T07:52:05.046Z"
   },
   {
    "duration": 10,
    "start_time": "2023-03-21T07:52:47.538Z"
   },
   {
    "duration": 10,
    "start_time": "2023-03-21T07:53:14.020Z"
   },
   {
    "duration": 2617,
    "start_time": "2023-03-21T07:53:14.892Z"
   },
   {
    "duration": 2508,
    "start_time": "2023-03-21T07:53:34.614Z"
   },
   {
    "duration": 6,
    "start_time": "2023-03-21T07:53:50.456Z"
   },
   {
    "duration": 3,
    "start_time": "2023-03-21T07:54:01.787Z"
   },
   {
    "duration": 15,
    "start_time": "2023-03-21T07:55:34.482Z"
   },
   {
    "duration": 5666,
    "start_time": "2023-03-21T07:59:26.133Z"
   },
   {
    "duration": 5137,
    "start_time": "2023-03-21T07:59:39.263Z"
   },
   {
    "duration": 1196,
    "start_time": "2023-03-21T08:01:28.525Z"
   },
   {
    "duration": 42,
    "start_time": "2023-03-21T08:01:29.723Z"
   },
   {
    "duration": 535,
    "start_time": "2023-03-21T08:01:29.766Z"
   },
   {
    "duration": 38,
    "start_time": "2023-03-21T08:01:30.304Z"
   },
   {
    "duration": 1128,
    "start_time": "2023-03-21T08:01:30.344Z"
   },
   {
    "duration": 40,
    "start_time": "2023-03-21T08:01:31.474Z"
   },
   {
    "duration": 364,
    "start_time": "2023-03-21T08:01:31.517Z"
   },
   {
    "duration": 17,
    "start_time": "2023-03-21T08:01:31.882Z"
   },
   {
    "duration": 48,
    "start_time": "2023-03-21T08:01:31.903Z"
   },
   {
    "duration": 30,
    "start_time": "2023-03-21T08:01:31.954Z"
   },
   {
    "duration": 39,
    "start_time": "2023-03-21T08:01:31.986Z"
   },
   {
    "duration": 11,
    "start_time": "2023-03-21T08:01:32.027Z"
   },
   {
    "duration": 1596,
    "start_time": "2023-03-21T08:01:32.040Z"
   },
   {
    "duration": 1648725,
    "start_time": "2023-03-21T08:01:33.638Z"
   },
   {
    "duration": 44,
    "start_time": "2023-03-21T08:29:02.364Z"
   },
   {
    "duration": 49,
    "start_time": "2023-03-21T08:29:02.410Z"
   },
   {
    "duration": 108,
    "start_time": "2023-03-21T08:29:02.461Z"
   },
   {
    "duration": 139,
    "start_time": "2023-03-21T08:29:02.571Z"
   },
   {
    "duration": 14,
    "start_time": "2023-03-21T08:29:02.713Z"
   },
   {
    "duration": 1801,
    "start_time": "2023-03-21T08:29:02.729Z"
   },
   {
    "duration": 8106,
    "start_time": "2023-03-21T08:29:04.532Z"
   },
   {
    "duration": 613,
    "start_time": "2023-03-21T08:29:12.640Z"
   },
   {
    "duration": 2870,
    "start_time": "2023-03-21T08:29:13.255Z"
   },
   {
    "duration": 4,
    "start_time": "2023-03-21T08:29:16.128Z"
   },
   {
    "duration": 13600,
    "start_time": "2023-03-21T08:29:16.133Z"
   },
   {
    "duration": 83716,
    "start_time": "2023-03-21T08:29:29.735Z"
   },
   {
    "duration": 496167,
    "start_time": "2023-03-21T08:30:53.453Z"
   },
   {
    "duration": 10,
    "start_time": "2023-03-21T08:39:09.624Z"
   },
   {
    "duration": 5574,
    "start_time": "2023-03-21T08:39:09.636Z"
   },
   {
    "duration": 8,
    "start_time": "2023-03-21T08:41:35.782Z"
   },
   {
    "duration": 489680,
    "start_time": "2023-03-21T08:41:45.951Z"
   },
   {
    "duration": 6684,
    "start_time": "2023-03-21T08:49:55.633Z"
   },
   {
    "duration": 668074,
    "start_time": "2023-03-21T08:50:57.754Z"
   },
   {
    "duration": 4832,
    "start_time": "2023-03-21T09:02:18.984Z"
   },
   {
    "duration": 5,
    "start_time": "2023-03-21T09:02:40.128Z"
   },
   {
    "duration": 5,
    "start_time": "2023-03-21T09:03:11.513Z"
   },
   {
    "duration": 4,
    "start_time": "2023-03-21T09:03:13.639Z"
   },
   {
    "duration": 5,
    "start_time": "2023-03-21T09:03:15.230Z"
   },
   {
    "duration": 7,
    "start_time": "2023-03-21T09:03:16.822Z"
   },
   {
    "duration": 22829,
    "start_time": "2023-03-21T09:03:22.716Z"
   },
   {
    "duration": 627909,
    "start_time": "2023-03-21T09:06:13.319Z"
   },
   {
    "duration": 5,
    "start_time": "2023-03-21T09:18:13.803Z"
   },
   {
    "duration": 3,
    "start_time": "2023-03-21T09:18:22.426Z"
   },
   {
    "duration": 4,
    "start_time": "2023-03-21T09:18:28.069Z"
   },
   {
    "duration": 17476,
    "start_time": "2023-03-21T09:18:32.473Z"
   },
   {
    "duration": 1156,
    "start_time": "2023-03-21T09:21:22.591Z"
   },
   {
    "duration": 40,
    "start_time": "2023-03-21T09:21:23.749Z"
   },
   {
    "duration": 492,
    "start_time": "2023-03-21T09:21:23.790Z"
   },
   {
    "duration": 31,
    "start_time": "2023-03-21T09:21:24.283Z"
   },
   {
    "duration": 998,
    "start_time": "2023-03-21T09:21:24.319Z"
   },
   {
    "duration": 39,
    "start_time": "2023-03-21T09:21:25.319Z"
   },
   {
    "duration": 306,
    "start_time": "2023-03-21T09:21:25.360Z"
   },
   {
    "duration": 9,
    "start_time": "2023-03-21T09:21:25.668Z"
   },
   {
    "duration": 5,
    "start_time": "2023-03-21T09:21:25.678Z"
   },
   {
    "duration": 5,
    "start_time": "2023-03-21T09:21:25.705Z"
   },
   {
    "duration": 17,
    "start_time": "2023-03-21T09:21:25.713Z"
   },
   {
    "duration": 11,
    "start_time": "2023-03-21T09:21:25.732Z"
   },
   {
    "duration": 1658,
    "start_time": "2023-03-21T09:21:25.745Z"
   },
   {
    "duration": 1528257,
    "start_time": "2023-03-21T09:21:27.407Z"
   },
   {
    "duration": 44,
    "start_time": "2023-03-21T09:46:55.666Z"
   },
   {
    "duration": 92,
    "start_time": "2023-03-21T09:46:55.712Z"
   },
   {
    "duration": 143,
    "start_time": "2023-03-21T09:46:55.806Z"
   },
   {
    "duration": 5,
    "start_time": "2023-03-21T09:46:55.952Z"
   },
   {
    "duration": 1640,
    "start_time": "2023-03-21T09:46:55.959Z"
   },
   {
    "duration": 7931,
    "start_time": "2023-03-21T09:46:57.601Z"
   },
   {
    "duration": 559,
    "start_time": "2023-03-21T09:47:05.534Z"
   },
   {
    "duration": 2473,
    "start_time": "2023-03-21T09:47:06.097Z"
   },
   {
    "duration": 4,
    "start_time": "2023-03-21T09:47:08.572Z"
   },
   {
    "duration": 426852,
    "start_time": "2023-03-21T09:47:08.577Z"
   },
   {
    "duration": 91579,
    "start_time": "2023-03-21T09:54:15.431Z"
   },
   {
    "duration": 225632,
    "start_time": "2023-03-21T09:55:47.012Z"
   },
   {
    "duration": 10,
    "start_time": "2023-03-21T09:59:32.646Z"
   },
   {
    "duration": 5379,
    "start_time": "2023-03-21T09:59:32.657Z"
   },
   {
    "duration": 46,
    "start_time": "2023-03-22T14:15:08.426Z"
   },
   {
    "duration": 1110,
    "start_time": "2023-03-22T14:15:14.247Z"
   },
   {
    "duration": 47,
    "start_time": "2023-03-22T14:15:15.359Z"
   },
   {
    "duration": 730,
    "start_time": "2023-03-22T14:15:15.408Z"
   },
   {
    "duration": 35,
    "start_time": "2023-03-22T14:15:16.140Z"
   },
   {
    "duration": 3900,
    "start_time": "2023-03-22T14:15:16.177Z"
   },
   {
    "duration": 33,
    "start_time": "2023-03-22T14:15:20.078Z"
   },
   {
    "duration": 274,
    "start_time": "2023-03-22T14:15:20.113Z"
   },
   {
    "duration": 17,
    "start_time": "2023-03-22T14:15:20.389Z"
   },
   {
    "duration": 5,
    "start_time": "2023-03-22T14:15:20.408Z"
   },
   {
    "duration": 8,
    "start_time": "2023-03-22T14:15:20.414Z"
   },
   {
    "duration": 8,
    "start_time": "2023-03-22T14:15:20.424Z"
   },
   {
    "duration": 5,
    "start_time": "2023-03-22T14:15:20.433Z"
   },
   {
    "duration": 1434,
    "start_time": "2023-03-22T14:15:20.441Z"
   },
   {
    "duration": 6288,
    "start_time": "2023-03-22T14:15:21.878Z"
   },
   {
    "duration": 14,
    "start_time": "2023-03-22T14:15:28.167Z"
   },
   {
    "duration": 0,
    "start_time": "2023-03-22T14:15:28.182Z"
   },
   {
    "duration": 0,
    "start_time": "2023-03-22T14:15:28.184Z"
   },
   {
    "duration": 0,
    "start_time": "2023-03-22T14:15:28.185Z"
   },
   {
    "duration": 0,
    "start_time": "2023-03-22T14:15:28.186Z"
   },
   {
    "duration": 0,
    "start_time": "2023-03-22T14:15:28.186Z"
   },
   {
    "duration": 0,
    "start_time": "2023-03-22T14:15:28.188Z"
   },
   {
    "duration": 0,
    "start_time": "2023-03-22T14:15:28.188Z"
   },
   {
    "duration": 0,
    "start_time": "2023-03-22T14:15:28.189Z"
   },
   {
    "duration": 1,
    "start_time": "2023-03-22T14:15:28.190Z"
   },
   {
    "duration": 0,
    "start_time": "2023-03-22T14:15:28.192Z"
   },
   {
    "duration": 0,
    "start_time": "2023-03-22T14:15:28.193Z"
   },
   {
    "duration": 0,
    "start_time": "2023-03-22T14:15:28.194Z"
   },
   {
    "duration": 49,
    "start_time": "2023-03-22T14:16:55.066Z"
   },
   {
    "duration": 1013,
    "start_time": "2023-03-22T14:18:22.627Z"
   },
   {
    "duration": 40,
    "start_time": "2023-03-22T14:18:23.642Z"
   },
   {
    "duration": 413,
    "start_time": "2023-03-22T14:18:23.683Z"
   },
   {
    "duration": 37,
    "start_time": "2023-03-22T14:18:24.098Z"
   },
   {
    "duration": 890,
    "start_time": "2023-03-22T14:18:24.138Z"
   },
   {
    "duration": 32,
    "start_time": "2023-03-22T14:18:25.029Z"
   },
   {
    "duration": 272,
    "start_time": "2023-03-22T14:18:25.063Z"
   },
   {
    "duration": 13,
    "start_time": "2023-03-22T14:18:25.337Z"
   },
   {
    "duration": 5,
    "start_time": "2023-03-22T14:18:25.352Z"
   },
   {
    "duration": 4,
    "start_time": "2023-03-22T14:18:25.358Z"
   },
   {
    "duration": 3,
    "start_time": "2023-03-22T14:18:25.376Z"
   },
   {
    "duration": 3,
    "start_time": "2023-03-22T14:18:25.381Z"
   },
   {
    "duration": 1520,
    "start_time": "2023-03-22T14:18:25.386Z"
   },
   {
    "duration": 1326468,
    "start_time": "2023-03-22T14:18:26.909Z"
   },
   {
    "duration": 39,
    "start_time": "2023-03-22T14:40:33.379Z"
   },
   {
    "duration": 55,
    "start_time": "2023-03-22T14:40:33.420Z"
   },
   {
    "duration": 76,
    "start_time": "2023-03-22T14:40:33.477Z"
   },
   {
    "duration": 1559,
    "start_time": "2023-03-22T14:40:33.555Z"
   },
   {
    "duration": 7213,
    "start_time": "2023-03-22T14:40:35.115Z"
   },
   {
    "duration": 538,
    "start_time": "2023-03-22T14:40:42.330Z"
   },
   {
    "duration": 2268,
    "start_time": "2023-03-22T14:40:42.870Z"
   },
   {
    "duration": 5,
    "start_time": "2023-03-22T14:40:45.140Z"
   },
   {
    "duration": 78629,
    "start_time": "2023-03-22T14:40:45.147Z"
   },
   {
    "duration": 1059,
    "start_time": "2023-03-22T14:42:33.121Z"
   },
   {
    "duration": 71,
    "start_time": "2023-03-22T14:42:34.184Z"
   },
   {
    "duration": 519,
    "start_time": "2023-03-22T14:42:34.257Z"
   },
   {
    "duration": 29,
    "start_time": "2023-03-22T14:42:34.778Z"
   },
   {
    "duration": 908,
    "start_time": "2023-03-22T14:42:34.810Z"
   },
   {
    "duration": 41,
    "start_time": "2023-03-22T14:42:35.720Z"
   },
   {
    "duration": 274,
    "start_time": "2023-03-22T14:42:35.774Z"
   },
   {
    "duration": 29,
    "start_time": "2023-03-22T14:42:36.050Z"
   },
   {
    "duration": 4,
    "start_time": "2023-03-22T14:42:36.081Z"
   },
   {
    "duration": 8,
    "start_time": "2023-03-22T14:42:36.087Z"
   },
   {
    "duration": 12,
    "start_time": "2023-03-22T14:42:36.096Z"
   },
   {
    "duration": 10,
    "start_time": "2023-03-22T14:42:36.110Z"
   },
   {
    "duration": 1468,
    "start_time": "2023-03-22T14:42:36.122Z"
   },
   {
    "duration": 17674,
    "start_time": "2023-03-22T14:42:37.593Z"
   },
   {
    "duration": 16,
    "start_time": "2023-03-22T14:42:55.268Z"
   },
   {
    "duration": 0,
    "start_time": "2023-03-22T14:42:55.285Z"
   },
   {
    "duration": 0,
    "start_time": "2023-03-22T14:42:55.287Z"
   },
   {
    "duration": 0,
    "start_time": "2023-03-22T14:42:55.288Z"
   },
   {
    "duration": 0,
    "start_time": "2023-03-22T14:42:55.290Z"
   },
   {
    "duration": 0,
    "start_time": "2023-03-22T14:42:55.291Z"
   },
   {
    "duration": 0,
    "start_time": "2023-03-22T14:42:55.292Z"
   },
   {
    "duration": 0,
    "start_time": "2023-03-22T14:42:55.293Z"
   },
   {
    "duration": 0,
    "start_time": "2023-03-22T14:42:55.294Z"
   },
   {
    "duration": 0,
    "start_time": "2023-03-22T14:42:55.295Z"
   },
   {
    "duration": 0,
    "start_time": "2023-03-22T14:42:55.297Z"
   },
   {
    "duration": 0,
    "start_time": "2023-03-22T14:42:55.298Z"
   },
   {
    "duration": 0,
    "start_time": "2023-03-22T14:42:55.299Z"
   },
   {
    "duration": 270,
    "start_time": "2023-03-22T14:52:03.645Z"
   },
   {
    "duration": 920,
    "start_time": "2023-03-22T14:53:42.867Z"
   },
   {
    "duration": 19209,
    "start_time": "2023-03-22T14:53:54.617Z"
   },
   {
    "duration": 1009,
    "start_time": "2023-03-22T14:56:08.227Z"
   },
   {
    "duration": 38,
    "start_time": "2023-03-22T14:56:09.238Z"
   },
   {
    "duration": 440,
    "start_time": "2023-03-22T14:56:09.277Z"
   },
   {
    "duration": 29,
    "start_time": "2023-03-22T14:56:09.718Z"
   },
   {
    "duration": 891,
    "start_time": "2023-03-22T14:56:09.749Z"
   },
   {
    "duration": 38,
    "start_time": "2023-03-22T14:56:10.642Z"
   },
   {
    "duration": 263,
    "start_time": "2023-03-22T14:56:10.681Z"
   },
   {
    "duration": 12,
    "start_time": "2023-03-22T14:56:10.946Z"
   },
   {
    "duration": 15,
    "start_time": "2023-03-22T14:56:10.960Z"
   },
   {
    "duration": 3,
    "start_time": "2023-03-22T14:56:10.977Z"
   },
   {
    "duration": 7,
    "start_time": "2023-03-22T14:56:10.982Z"
   },
   {
    "duration": 12,
    "start_time": "2023-03-22T14:56:10.991Z"
   },
   {
    "duration": 1391,
    "start_time": "2023-03-22T14:56:11.005Z"
   },
   {
    "duration": 1355448,
    "start_time": "2023-03-22T14:56:12.399Z"
   },
   {
    "duration": 8,
    "start_time": "2023-03-22T15:18:47.849Z"
   },
   {
    "duration": 31,
    "start_time": "2023-03-22T15:18:47.875Z"
   },
   {
    "duration": 84,
    "start_time": "2023-03-22T15:18:47.908Z"
   },
   {
    "duration": 1411,
    "start_time": "2023-03-22T15:18:47.994Z"
   },
   {
    "duration": 7036,
    "start_time": "2023-03-22T15:18:49.407Z"
   },
   {
    "duration": 523,
    "start_time": "2023-03-22T15:18:56.445Z"
   },
   {
    "duration": 2320,
    "start_time": "2023-03-22T15:18:56.976Z"
   },
   {
    "duration": 4,
    "start_time": "2023-03-22T15:18:59.298Z"
   },
   {
    "duration": 269745,
    "start_time": "2023-03-22T15:18:59.304Z"
   },
   {
    "duration": 527,
    "start_time": "2023-03-22T15:23:35.056Z"
   },
   {
    "duration": 0,
    "start_time": "2023-03-22T15:23:35.586Z"
   },
   {
    "duration": 0,
    "start_time": "2023-03-22T15:23:35.587Z"
   },
   {
    "duration": 0,
    "start_time": "2023-03-22T15:23:35.588Z"
   },
   {
    "duration": 0,
    "start_time": "2023-03-22T15:23:35.589Z"
   },
   {
    "duration": 0,
    "start_time": "2023-03-22T15:23:35.591Z"
   },
   {
    "duration": 0,
    "start_time": "2023-03-22T15:23:35.592Z"
   },
   {
    "duration": 0,
    "start_time": "2023-03-22T15:23:35.593Z"
   },
   {
    "duration": 0,
    "start_time": "2023-03-22T15:23:35.594Z"
   },
   {
    "duration": 0,
    "start_time": "2023-03-22T15:23:35.595Z"
   },
   {
    "duration": 0,
    "start_time": "2023-03-22T15:23:35.596Z"
   },
   {
    "duration": 1,
    "start_time": "2023-03-22T15:23:35.597Z"
   },
   {
    "duration": 0,
    "start_time": "2023-03-22T15:23:35.599Z"
   },
   {
    "duration": 0,
    "start_time": "2023-03-22T15:23:35.601Z"
   },
   {
    "duration": 0,
    "start_time": "2023-03-22T15:23:35.602Z"
   },
   {
    "duration": 0,
    "start_time": "2023-03-22T15:23:35.603Z"
   },
   {
    "duration": 0,
    "start_time": "2023-03-22T15:23:35.605Z"
   },
   {
    "duration": 0,
    "start_time": "2023-03-22T15:23:35.607Z"
   },
   {
    "duration": 0,
    "start_time": "2023-03-22T15:23:35.608Z"
   },
   {
    "duration": 0,
    "start_time": "2023-03-22T15:23:35.609Z"
   },
   {
    "duration": 0,
    "start_time": "2023-03-22T15:23:35.611Z"
   },
   {
    "duration": 0,
    "start_time": "2023-03-22T15:23:35.612Z"
   },
   {
    "duration": 0,
    "start_time": "2023-03-22T15:23:35.614Z"
   },
   {
    "duration": 0,
    "start_time": "2023-03-22T15:23:35.615Z"
   },
   {
    "duration": 0,
    "start_time": "2023-03-22T15:23:35.616Z"
   },
   {
    "duration": 0,
    "start_time": "2023-03-22T15:23:35.618Z"
   },
   {
    "duration": 0,
    "start_time": "2023-03-22T15:23:35.619Z"
   },
   {
    "duration": 54,
    "start_time": "2023-03-22T15:24:06.061Z"
   },
   {
    "duration": 5141,
    "start_time": "2023-03-22T15:24:09.633Z"
   },
   {
    "duration": 3459,
    "start_time": "2023-03-22T15:24:53.082Z"
   },
   {
    "duration": 43,
    "start_time": "2023-03-22T15:24:56.544Z"
   },
   {
    "duration": 514,
    "start_time": "2023-03-22T15:24:56.592Z"
   },
   {
    "duration": 47,
    "start_time": "2023-03-22T15:24:57.107Z"
   },
   {
    "duration": 947,
    "start_time": "2023-03-22T15:24:57.156Z"
   },
   {
    "duration": 37,
    "start_time": "2023-03-22T15:24:58.105Z"
   },
   {
    "duration": 308,
    "start_time": "2023-03-22T15:24:58.143Z"
   },
   {
    "duration": 24,
    "start_time": "2023-03-22T15:24:58.452Z"
   },
   {
    "duration": 5,
    "start_time": "2023-03-22T15:24:58.479Z"
   },
   {
    "duration": 4,
    "start_time": "2023-03-22T15:24:58.486Z"
   },
   {
    "duration": 8,
    "start_time": "2023-03-22T15:24:58.492Z"
   },
   {
    "duration": 11,
    "start_time": "2023-03-22T15:24:58.501Z"
   },
   {
    "duration": 1575,
    "start_time": "2023-03-22T15:24:58.514Z"
   },
   {
    "duration": 1851777,
    "start_time": "2023-03-22T15:25:00.092Z"
   },
   {
    "duration": 16,
    "start_time": "2023-03-22T15:55:51.872Z"
   },
   {
    "duration": 123,
    "start_time": "2023-03-22T15:55:51.890Z"
   },
   {
    "duration": 88,
    "start_time": "2023-03-22T15:55:52.014Z"
   },
   {
    "duration": 689,
    "start_time": "2023-03-22T15:55:52.104Z"
   },
   {
    "duration": 0,
    "start_time": "2023-03-22T15:55:52.795Z"
   },
   {
    "duration": 0,
    "start_time": "2023-03-22T15:55:52.796Z"
   },
   {
    "duration": 0,
    "start_time": "2023-03-22T15:55:52.797Z"
   },
   {
    "duration": 0,
    "start_time": "2023-03-22T15:55:52.798Z"
   },
   {
    "duration": 0,
    "start_time": "2023-03-22T15:55:52.801Z"
   },
   {
    "duration": 0,
    "start_time": "2023-03-22T15:55:52.802Z"
   },
   {
    "duration": 0,
    "start_time": "2023-03-22T15:55:52.803Z"
   },
   {
    "duration": 0,
    "start_time": "2023-03-22T15:55:52.805Z"
   },
   {
    "duration": 0,
    "start_time": "2023-03-22T15:55:52.806Z"
   },
   {
    "duration": 14,
    "start_time": "2023-03-22T16:10:12.972Z"
   },
   {
    "duration": 2207,
    "start_time": "2023-03-22T16:10:44.089Z"
   },
   {
    "duration": 3968,
    "start_time": "2023-03-22T16:24:10.059Z"
   },
   {
    "duration": 64,
    "start_time": "2023-03-22T16:24:14.030Z"
   },
   {
    "duration": 551,
    "start_time": "2023-03-22T16:24:14.097Z"
   },
   {
    "duration": 29,
    "start_time": "2023-03-22T16:24:14.649Z"
   },
   {
    "duration": 856,
    "start_time": "2023-03-22T16:24:14.680Z"
   },
   {
    "duration": 13,
    "start_time": "2023-03-22T16:24:15.538Z"
   },
   {
    "duration": 32,
    "start_time": "2023-03-22T16:24:15.553Z"
   },
   {
    "duration": 12,
    "start_time": "2023-03-22T16:24:15.587Z"
   },
   {
    "duration": 5,
    "start_time": "2023-03-22T16:24:15.601Z"
   },
   {
    "duration": 4,
    "start_time": "2023-03-22T16:24:15.608Z"
   },
   {
    "duration": 4,
    "start_time": "2023-03-22T16:24:15.614Z"
   },
   {
    "duration": 4,
    "start_time": "2023-03-22T16:24:15.620Z"
   },
   {
    "duration": 1479,
    "start_time": "2023-03-22T16:24:15.625Z"
   },
   {
    "duration": 89108,
    "start_time": "2023-03-22T16:24:17.107Z"
   },
   {
    "duration": 11,
    "start_time": "2023-03-22T16:25:46.217Z"
   },
   {
    "duration": 11,
    "start_time": "2023-03-22T16:25:46.229Z"
   },
   {
    "duration": 10,
    "start_time": "2023-03-22T16:25:46.242Z"
   },
   {
    "duration": 24,
    "start_time": "2023-03-22T16:25:46.254Z"
   },
   {
    "duration": 344,
    "start_time": "2023-03-22T16:25:46.280Z"
   },
   {
    "duration": 4,
    "start_time": "2023-03-22T16:25:46.626Z"
   },
   {
    "duration": 113,
    "start_time": "2023-03-22T16:25:46.632Z"
   },
   {
    "duration": 4,
    "start_time": "2023-03-22T16:25:46.747Z"
   },
   {
    "duration": 5,
    "start_time": "2023-03-22T16:25:46.752Z"
   },
   {
    "duration": 138,
    "start_time": "2023-03-22T16:25:46.759Z"
   },
   {
    "duration": 0,
    "start_time": "2023-03-22T16:25:46.899Z"
   },
   {
    "duration": 0,
    "start_time": "2023-03-22T16:25:46.900Z"
   },
   {
    "duration": 0,
    "start_time": "2023-03-22T16:25:46.901Z"
   },
   {
    "duration": 0,
    "start_time": "2023-03-22T16:25:46.902Z"
   },
   {
    "duration": 14,
    "start_time": "2023-03-22T16:31:25.290Z"
   },
   {
    "duration": 46,
    "start_time": "2023-03-22T16:33:21.297Z"
   },
   {
    "duration": 8,
    "start_time": "2023-03-22T16:33:27.450Z"
   },
   {
    "duration": 35,
    "start_time": "2023-03-22T16:33:33.134Z"
   },
   {
    "duration": 3253,
    "start_time": "2023-03-22T16:36:39.592Z"
   },
   {
    "duration": 44,
    "start_time": "2023-03-22T16:36:42.847Z"
   },
   {
    "duration": 499,
    "start_time": "2023-03-22T16:36:42.893Z"
   },
   {
    "duration": 29,
    "start_time": "2023-03-22T16:36:43.394Z"
   },
   {
    "duration": 918,
    "start_time": "2023-03-22T16:36:43.425Z"
   },
   {
    "duration": 14,
    "start_time": "2023-03-22T16:36:44.346Z"
   },
   {
    "duration": 33,
    "start_time": "2023-03-22T16:36:44.362Z"
   },
   {
    "duration": 12,
    "start_time": "2023-03-22T16:36:44.397Z"
   },
   {
    "duration": 5,
    "start_time": "2023-03-22T16:36:44.411Z"
   },
   {
    "duration": 4,
    "start_time": "2023-03-22T16:36:44.419Z"
   },
   {
    "duration": 6,
    "start_time": "2023-03-22T16:36:44.424Z"
   },
   {
    "duration": 10,
    "start_time": "2023-03-22T16:36:44.431Z"
   },
   {
    "duration": 1547,
    "start_time": "2023-03-22T16:36:44.442Z"
   },
   {
    "duration": 92344,
    "start_time": "2023-03-22T16:36:45.991Z"
   },
   {
    "duration": 7,
    "start_time": "2023-03-22T16:38:18.337Z"
   },
   {
    "duration": 6,
    "start_time": "2023-03-22T16:38:18.346Z"
   },
   {
    "duration": 36,
    "start_time": "2023-03-22T16:38:18.353Z"
   },
   {
    "duration": 4,
    "start_time": "2023-03-22T16:38:18.391Z"
   },
   {
    "duration": 6,
    "start_time": "2023-03-22T16:38:18.397Z"
   },
   {
    "duration": 6,
    "start_time": "2023-03-22T16:38:18.404Z"
   },
   {
    "duration": 9,
    "start_time": "2023-03-22T16:38:18.412Z"
   },
   {
    "duration": 5,
    "start_time": "2023-03-22T16:38:18.423Z"
   },
   {
    "duration": 7,
    "start_time": "2023-03-22T16:38:18.430Z"
   },
   {
    "duration": 163,
    "start_time": "2023-03-22T16:38:18.439Z"
   },
   {
    "duration": 0,
    "start_time": "2023-03-22T16:38:18.604Z"
   },
   {
    "duration": 1,
    "start_time": "2023-03-22T16:38:18.605Z"
   },
   {
    "duration": 0,
    "start_time": "2023-03-22T16:38:18.607Z"
   },
   {
    "duration": 0,
    "start_time": "2023-03-22T16:38:18.609Z"
   },
   {
    "duration": 29,
    "start_time": "2023-03-22T16:43:36.592Z"
   },
   {
    "duration": 27,
    "start_time": "2023-03-22T16:44:22.237Z"
   },
   {
    "duration": 217,
    "start_time": "2023-03-22T16:44:32.678Z"
   },
   {
    "duration": 12,
    "start_time": "2023-03-22T16:47:05.342Z"
   },
   {
    "duration": 212,
    "start_time": "2023-03-22T16:47:21.229Z"
   },
   {
    "duration": 4,
    "start_time": "2023-03-22T16:48:41.552Z"
   },
   {
    "duration": 11,
    "start_time": "2023-03-22T16:49:01.005Z"
   },
   {
    "duration": 221,
    "start_time": "2023-03-22T16:49:14.901Z"
   },
   {
    "duration": 757,
    "start_time": "2023-03-22T16:52:31.901Z"
   },
   {
    "duration": 6939,
    "start_time": "2023-03-22T20:03:51.212Z"
   },
   {
    "duration": 49,
    "start_time": "2023-03-22T20:03:58.153Z"
   },
   {
    "duration": 949,
    "start_time": "2023-03-22T20:03:58.205Z"
   },
   {
    "duration": 30,
    "start_time": "2023-03-22T20:03:59.156Z"
   },
   {
    "duration": 1854,
    "start_time": "2023-03-22T20:03:59.188Z"
   },
   {
    "duration": 64,
    "start_time": "2023-03-22T20:04:01.045Z"
   },
   {
    "duration": 139,
    "start_time": "2023-03-22T20:04:01.111Z"
   },
   {
    "duration": 57,
    "start_time": "2023-03-22T20:04:01.251Z"
   },
   {
    "duration": 52,
    "start_time": "2023-03-22T20:04:01.310Z"
   },
   {
    "duration": 75,
    "start_time": "2023-03-22T20:04:01.365Z"
   },
   {
    "duration": 20,
    "start_time": "2023-03-22T20:04:01.443Z"
   },
   {
    "duration": 56,
    "start_time": "2023-03-22T20:04:01.466Z"
   },
   {
    "duration": 2462,
    "start_time": "2023-03-22T20:04:01.525Z"
   },
   {
    "duration": 106027,
    "start_time": "2023-03-22T20:04:03.991Z"
   },
   {
    "duration": 12,
    "start_time": "2023-03-22T20:05:50.021Z"
   },
   {
    "duration": 25,
    "start_time": "2023-03-22T20:05:50.035Z"
   },
   {
    "duration": 19,
    "start_time": "2023-03-22T20:05:50.062Z"
   },
   {
    "duration": 4,
    "start_time": "2023-03-22T20:05:50.084Z"
   },
   {
    "duration": 21,
    "start_time": "2023-03-22T20:05:50.098Z"
   },
   {
    "duration": 8,
    "start_time": "2023-03-22T20:05:50.121Z"
   },
   {
    "duration": 6,
    "start_time": "2023-03-22T20:05:50.131Z"
   },
   {
    "duration": 8,
    "start_time": "2023-03-22T20:05:50.139Z"
   },
   {
    "duration": 16,
    "start_time": "2023-03-22T20:05:50.149Z"
   },
   {
    "duration": 1842,
    "start_time": "2023-03-22T20:05:50.166Z"
   },
   {
    "duration": 139,
    "start_time": "2023-03-22T20:05:52.011Z"
   },
   {
    "duration": 180,
    "start_time": "2023-03-22T20:05:52.152Z"
   },
   {
    "duration": 11,
    "start_time": "2023-03-22T20:05:52.334Z"
   },
   {
    "duration": 40,
    "start_time": "2023-03-22T20:05:52.347Z"
   },
   {
    "duration": 2110,
    "start_time": "2023-03-22T20:16:53.863Z"
   },
   {
    "duration": 432,
    "start_time": "2023-03-22T20:17:09.122Z"
   },
   {
    "duration": 496,
    "start_time": "2023-03-22T20:17:31.294Z"
   },
   {
    "duration": 4221,
    "start_time": "2023-03-22T20:18:33.373Z"
   },
   {
    "duration": 56,
    "start_time": "2023-03-22T20:18:37.602Z"
   },
   {
    "duration": 606,
    "start_time": "2023-03-22T20:18:37.660Z"
   },
   {
    "duration": 31,
    "start_time": "2023-03-22T20:18:38.269Z"
   },
   {
    "duration": 1192,
    "start_time": "2023-03-22T20:18:38.302Z"
   },
   {
    "duration": 23,
    "start_time": "2023-03-22T20:18:39.496Z"
   },
   {
    "duration": 36,
    "start_time": "2023-03-22T20:18:39.526Z"
   },
   {
    "duration": 10,
    "start_time": "2023-03-22T20:18:39.564Z"
   },
   {
    "duration": 4,
    "start_time": "2023-03-22T20:18:39.576Z"
   },
   {
    "duration": 43,
    "start_time": "2023-03-22T20:18:39.604Z"
   },
   {
    "duration": 15,
    "start_time": "2023-03-22T20:18:39.649Z"
   },
   {
    "duration": 7,
    "start_time": "2023-03-22T20:18:39.666Z"
   },
   {
    "duration": 1887,
    "start_time": "2023-03-22T20:18:39.674Z"
   },
   {
    "duration": 114203,
    "start_time": "2023-03-22T20:18:41.563Z"
   },
   {
    "duration": 8,
    "start_time": "2023-03-22T20:20:35.768Z"
   },
   {
    "duration": 23,
    "start_time": "2023-03-22T20:20:35.777Z"
   },
   {
    "duration": 32,
    "start_time": "2023-03-22T20:20:35.802Z"
   },
   {
    "duration": 6,
    "start_time": "2023-03-22T20:20:35.836Z"
   },
   {
    "duration": 14,
    "start_time": "2023-03-22T20:20:35.844Z"
   },
   {
    "duration": 11,
    "start_time": "2023-03-22T20:20:35.860Z"
   },
   {
    "duration": 7,
    "start_time": "2023-03-22T20:20:35.873Z"
   },
   {
    "duration": 9,
    "start_time": "2023-03-22T20:20:35.882Z"
   },
   {
    "duration": 38,
    "start_time": "2023-03-22T20:20:35.893Z"
   },
   {
    "duration": 584,
    "start_time": "2023-03-22T20:20:35.933Z"
   },
   {
    "duration": 162,
    "start_time": "2023-03-22T20:20:36.519Z"
   },
   {
    "duration": 217,
    "start_time": "2023-03-22T20:20:36.683Z"
   },
   {
    "duration": 23,
    "start_time": "2023-03-22T20:20:36.911Z"
   },
   {
    "duration": 17,
    "start_time": "2023-03-22T20:20:36.940Z"
   },
   {
    "duration": 429,
    "start_time": "2023-03-22T20:30:43.731Z"
   },
   {
    "duration": 442,
    "start_time": "2023-03-22T20:31:36.683Z"
   },
   {
    "duration": 3761,
    "start_time": "2023-03-22T20:32:13.462Z"
   },
   {
    "duration": 52,
    "start_time": "2023-03-22T20:32:17.226Z"
   },
   {
    "duration": 573,
    "start_time": "2023-03-22T20:32:17.280Z"
   },
   {
    "duration": 40,
    "start_time": "2023-03-22T20:32:17.855Z"
   },
   {
    "duration": 1127,
    "start_time": "2023-03-22T20:32:17.898Z"
   },
   {
    "duration": 14,
    "start_time": "2023-03-22T20:32:19.027Z"
   },
   {
    "duration": 28,
    "start_time": "2023-03-22T20:32:19.042Z"
   },
   {
    "duration": 26,
    "start_time": "2023-03-22T20:32:19.072Z"
   },
   {
    "duration": 9,
    "start_time": "2023-03-22T20:32:19.101Z"
   },
   {
    "duration": 10,
    "start_time": "2023-03-22T20:32:19.112Z"
   },
   {
    "duration": 6,
    "start_time": "2023-03-22T20:32:19.123Z"
   },
   {
    "duration": 5,
    "start_time": "2023-03-22T20:32:19.130Z"
   },
   {
    "duration": 1730,
    "start_time": "2023-03-22T20:32:19.136Z"
   },
   {
    "duration": 17798,
    "start_time": "2023-03-22T20:32:20.869Z"
   },
   {
    "duration": 7,
    "start_time": "2023-03-22T20:32:38.669Z"
   },
   {
    "duration": 13,
    "start_time": "2023-03-22T20:32:38.678Z"
   },
   {
    "duration": 10,
    "start_time": "2023-03-22T20:32:38.693Z"
   },
   {
    "duration": 23,
    "start_time": "2023-03-22T20:32:38.705Z"
   },
   {
    "duration": 8,
    "start_time": "2023-03-22T20:32:38.731Z"
   },
   {
    "duration": 16,
    "start_time": "2023-03-22T20:32:38.741Z"
   },
   {
    "duration": 7,
    "start_time": "2023-03-22T20:32:38.759Z"
   },
   {
    "duration": 11,
    "start_time": "2023-03-22T20:32:38.768Z"
   },
   {
    "duration": 11,
    "start_time": "2023-03-22T20:32:38.782Z"
   },
   {
    "duration": 496,
    "start_time": "2023-03-22T20:32:38.796Z"
   },
   {
    "duration": 185,
    "start_time": "2023-03-22T20:32:39.294Z"
   },
   {
    "duration": 189,
    "start_time": "2023-03-22T20:32:39.482Z"
   },
   {
    "duration": 11,
    "start_time": "2023-03-22T20:32:39.673Z"
   },
   {
    "duration": 21,
    "start_time": "2023-03-22T20:32:39.686Z"
   },
   {
    "duration": 3810,
    "start_time": "2023-03-22T20:33:16.118Z"
   },
   {
    "duration": 50,
    "start_time": "2023-03-22T20:33:19.931Z"
   },
   {
    "duration": 479,
    "start_time": "2023-03-22T20:33:19.983Z"
   },
   {
    "duration": 39,
    "start_time": "2023-03-22T20:33:20.465Z"
   },
   {
    "duration": 1122,
    "start_time": "2023-03-22T20:33:20.509Z"
   },
   {
    "duration": 16,
    "start_time": "2023-03-22T20:33:21.633Z"
   },
   {
    "duration": 27,
    "start_time": "2023-03-22T20:33:21.651Z"
   },
   {
    "duration": 29,
    "start_time": "2023-03-22T20:33:21.680Z"
   },
   {
    "duration": 11,
    "start_time": "2023-03-22T20:33:21.711Z"
   },
   {
    "duration": 5,
    "start_time": "2023-03-22T20:33:21.724Z"
   },
   {
    "duration": 5,
    "start_time": "2023-03-22T20:33:21.731Z"
   },
   {
    "duration": 8,
    "start_time": "2023-03-22T20:33:21.738Z"
   },
   {
    "duration": 1693,
    "start_time": "2023-03-22T20:33:21.748Z"
   },
   {
    "duration": 107613,
    "start_time": "2023-03-22T20:33:23.444Z"
   },
   {
    "duration": 8,
    "start_time": "2023-03-22T20:35:11.058Z"
   },
   {
    "duration": 5,
    "start_time": "2023-03-22T20:35:11.068Z"
   },
   {
    "duration": 15,
    "start_time": "2023-03-22T20:35:11.097Z"
   },
   {
    "duration": 12,
    "start_time": "2023-03-22T20:35:11.114Z"
   },
   {
    "duration": 5,
    "start_time": "2023-03-22T20:35:11.128Z"
   },
   {
    "duration": 5,
    "start_time": "2023-03-22T20:35:11.135Z"
   },
   {
    "duration": 6,
    "start_time": "2023-03-22T20:35:11.141Z"
   },
   {
    "duration": 10,
    "start_time": "2023-03-22T20:35:11.148Z"
   },
   {
    "duration": 5,
    "start_time": "2023-03-22T20:35:11.159Z"
   },
   {
    "duration": 77078,
    "start_time": "2023-03-22T20:35:11.166Z"
   },
   {
    "duration": 248,
    "start_time": "2023-03-22T20:36:28.246Z"
   },
   {
    "duration": 135,
    "start_time": "2023-03-22T20:36:28.496Z"
   },
   {
    "duration": 9,
    "start_time": "2023-03-22T20:36:28.633Z"
   },
   {
    "duration": 16,
    "start_time": "2023-03-22T20:36:28.644Z"
   },
   {
    "duration": 76501,
    "start_time": "2023-03-22T20:37:47.626Z"
   },
   {
    "duration": 5,
    "start_time": "2023-03-22T20:39:58.717Z"
   },
   {
    "duration": 93120,
    "start_time": "2023-03-22T20:40:07.688Z"
   },
   {
    "duration": 20783,
    "start_time": "2023-03-22T20:42:16.322Z"
   },
   {
    "duration": 181,
    "start_time": "2023-03-22T20:42:39.954Z"
   },
   {
    "duration": 184,
    "start_time": "2023-03-22T20:43:30.724Z"
   },
   {
    "duration": 2,
    "start_time": "2023-03-22T20:44:12.685Z"
   },
   {
    "duration": 3,
    "start_time": "2023-03-22T20:45:27.331Z"
   },
   {
    "duration": 4290,
    "start_time": "2023-03-22T20:46:29.128Z"
   },
   {
    "duration": 115,
    "start_time": "2023-03-22T20:46:33.421Z"
   },
   {
    "duration": 967,
    "start_time": "2023-03-22T20:46:33.538Z"
   },
   {
    "duration": 90,
    "start_time": "2023-03-22T20:46:34.508Z"
   },
   {
    "duration": 1581,
    "start_time": "2023-03-22T20:46:34.601Z"
   },
   {
    "duration": 13,
    "start_time": "2023-03-22T20:46:36.183Z"
   },
   {
    "duration": 37,
    "start_time": "2023-03-22T20:46:36.198Z"
   },
   {
    "duration": 14,
    "start_time": "2023-03-22T20:46:36.236Z"
   },
   {
    "duration": 4,
    "start_time": "2023-03-22T20:46:36.251Z"
   },
   {
    "duration": 7,
    "start_time": "2023-03-22T20:46:36.257Z"
   },
   {
    "duration": 5,
    "start_time": "2023-03-22T20:46:36.266Z"
   },
   {
    "duration": 9,
    "start_time": "2023-03-22T20:46:36.273Z"
   },
   {
    "duration": 1697,
    "start_time": "2023-03-22T20:46:36.284Z"
   },
   {
    "duration": 115624,
    "start_time": "2023-03-22T20:46:37.985Z"
   },
   {
    "duration": 12,
    "start_time": "2023-03-22T20:48:33.611Z"
   },
   {
    "duration": 16,
    "start_time": "2023-03-22T20:48:33.625Z"
   },
   {
    "duration": 12,
    "start_time": "2023-03-22T20:48:33.643Z"
   },
   {
    "duration": 4,
    "start_time": "2023-03-22T20:48:33.657Z"
   },
   {
    "duration": 6,
    "start_time": "2023-03-22T20:48:33.663Z"
   },
   {
    "duration": 11,
    "start_time": "2023-03-22T20:48:33.671Z"
   },
   {
    "duration": 25,
    "start_time": "2023-03-22T20:48:33.699Z"
   },
   {
    "duration": 7,
    "start_time": "2023-03-22T20:48:33.726Z"
   },
   {
    "duration": 10,
    "start_time": "2023-03-22T20:48:33.735Z"
   },
   {
    "duration": 81920,
    "start_time": "2023-03-22T20:48:33.747Z"
   },
   {
    "duration": 2,
    "start_time": "2023-03-22T20:49:55.669Z"
   },
   {
    "duration": 9947,
    "start_time": "2023-03-22T20:49:55.672Z"
   },
   {
    "duration": 9,
    "start_time": "2023-03-22T20:50:05.621Z"
   },
   {
    "duration": 25264,
    "start_time": "2023-03-22T20:50:05.633Z"
   },
   {
    "duration": 76,
    "start_time": "2023-03-22T20:50:30.900Z"
   },
   {
    "duration": 324,
    "start_time": "2023-03-22T20:50:30.979Z"
   },
   {
    "duration": 3934,
    "start_time": "2023-03-22T20:51:26.121Z"
   },
   {
    "duration": 62,
    "start_time": "2023-03-22T20:51:30.057Z"
   },
   {
    "duration": 539,
    "start_time": "2023-03-22T20:51:30.121Z"
   },
   {
    "duration": 31,
    "start_time": "2023-03-22T20:51:30.663Z"
   },
   {
    "duration": 1069,
    "start_time": "2023-03-22T20:51:30.697Z"
   },
   {
    "duration": 41,
    "start_time": "2023-03-22T20:51:31.768Z"
   },
   {
    "duration": 304,
    "start_time": "2023-03-22T20:51:31.812Z"
   },
   {
    "duration": 13,
    "start_time": "2023-03-22T20:51:32.118Z"
   },
   {
    "duration": 5,
    "start_time": "2023-03-22T20:51:32.133Z"
   },
   {
    "duration": 5,
    "start_time": "2023-03-22T20:51:32.140Z"
   },
   {
    "duration": 6,
    "start_time": "2023-03-22T20:51:32.146Z"
   },
   {
    "duration": 6,
    "start_time": "2023-03-22T20:51:32.154Z"
   },
   {
    "duration": 1690,
    "start_time": "2023-03-22T20:51:32.162Z"
   },
   {
    "duration": 1572603,
    "start_time": "2023-03-22T20:51:33.857Z"
   },
   {
    "duration": 8,
    "start_time": "2023-03-22T21:17:46.462Z"
   },
   {
    "duration": 7,
    "start_time": "2023-03-22T21:17:46.472Z"
   },
   {
    "duration": 84,
    "start_time": "2023-03-22T21:17:46.481Z"
   },
   {
    "duration": 4,
    "start_time": "2023-03-22T21:17:46.567Z"
   },
   {
    "duration": 5,
    "start_time": "2023-03-22T21:17:46.572Z"
   },
   {
    "duration": 19,
    "start_time": "2023-03-22T21:17:46.579Z"
   },
   {
    "duration": 5,
    "start_time": "2023-03-22T21:17:46.600Z"
   },
   {
    "duration": 7,
    "start_time": "2023-03-22T21:17:46.606Z"
   },
   {
    "duration": 7,
    "start_time": "2023-03-22T21:17:46.614Z"
   },
   {
    "duration": 670551,
    "start_time": "2023-03-22T21:17:46.623Z"
   },
   {
    "duration": 2,
    "start_time": "2023-03-22T21:28:57.176Z"
   },
   {
    "duration": 162635,
    "start_time": "2023-03-22T21:28:57.181Z"
   },
   {
    "duration": 3,
    "start_time": "2023-03-22T21:31:39.818Z"
   },
   {
    "duration": 284087,
    "start_time": "2023-03-22T21:31:39.822Z"
   },
   {
    "duration": 44,
    "start_time": "2023-03-22T21:36:23.911Z"
   },
   {
    "duration": 2407,
    "start_time": "2023-03-22T21:36:23.957Z"
   },
   {
    "duration": 137,
    "start_time": "2023-03-22T23:04:08.709Z"
   },
   {
    "duration": 1938,
    "start_time": "2023-03-22T23:04:18.632Z"
   },
   {
    "duration": 1752,
    "start_time": "2023-03-22T23:04:31.476Z"
   },
   {
    "duration": 413,
    "start_time": "2023-03-22T23:28:35.695Z"
   },
   {
    "duration": 298,
    "start_time": "2023-03-22T23:28:45.119Z"
   },
   {
    "duration": 276,
    "start_time": "2023-03-22T23:30:57.159Z"
   },
   {
    "duration": 2364,
    "start_time": "2023-03-22T23:35:07.451Z"
   },
   {
    "duration": 4,
    "start_time": "2023-03-22T23:37:12.677Z"
   },
   {
    "duration": 867,
    "start_time": "2023-03-22T23:37:16.813Z"
   },
   {
    "duration": 33,
    "start_time": "2023-03-22T23:38:22.891Z"
   },
   {
    "duration": 897,
    "start_time": "2023-03-22T23:38:33.691Z"
   },
   {
    "duration": 36,
    "start_time": "2023-03-22T23:38:35.188Z"
   },
   {
    "duration": 924,
    "start_time": "2023-03-22T23:38:58.538Z"
   },
   {
    "duration": 54,
    "start_time": "2023-03-22T23:39:00.117Z"
   },
   {
    "duration": 83,
    "start_time": "2023-03-22T23:39:07.668Z"
   },
   {
    "duration": 34,
    "start_time": "2023-03-22T23:39:14.547Z"
   },
   {
    "duration": 5,
    "start_time": "2023-03-22T23:39:37.812Z"
   },
   {
    "duration": 16258,
    "start_time": "2023-03-22T23:45:18.738Z"
   },
   {
    "duration": 1674,
    "start_time": "2023-03-22T23:48:05.421Z"
   },
   {
    "duration": 6,
    "start_time": "2023-03-22T23:49:12.417Z"
   },
   {
    "duration": 3,
    "start_time": "2023-03-22T23:49:13.775Z"
   },
   {
    "duration": 974,
    "start_time": "2023-03-22T23:49:14.237Z"
   },
   {
    "duration": 42,
    "start_time": "2023-03-22T23:49:15.213Z"
   },
   {
    "duration": 5,
    "start_time": "2023-03-22T23:49:19.362Z"
   },
   {
    "duration": 7460,
    "start_time": "2023-03-22T23:49:20.617Z"
   },
   {
    "duration": 1374,
    "start_time": "2023-03-22T23:49:32.954Z"
   },
   {
    "duration": 1644,
    "start_time": "2023-03-22T23:50:24.337Z"
   },
   {
    "duration": 45208,
    "start_time": "2023-03-22T23:50:43.285Z"
   },
   {
    "duration": 6,
    "start_time": "2023-03-22T23:52:40.943Z"
   },
   {
    "duration": 9,
    "start_time": "2023-03-22T23:52:45.645Z"
   },
   {
    "duration": 148142,
    "start_time": "2023-03-22T23:52:50.351Z"
   },
   {
    "duration": 12894,
    "start_time": "2023-03-22T23:58:56.583Z"
   },
   {
    "duration": 51,
    "start_time": "2023-03-23T00:00:46.364Z"
   },
   {
    "duration": 38,
    "start_time": "2023-03-23T00:01:05.933Z"
   },
   {
    "duration": 53,
    "start_time": "2023-03-23T00:01:10.596Z"
   },
   {
    "duration": 3,
    "start_time": "2023-03-23T00:01:46.355Z"
   },
   {
    "duration": 2819,
    "start_time": "2023-03-23T00:01:49.245Z"
   },
   {
    "duration": 1680,
    "start_time": "2023-03-23T00:01:55.630Z"
   },
   {
    "duration": 34,
    "start_time": "2023-03-23T00:01:58.955Z"
   },
   {
    "duration": 5,
    "start_time": "2023-03-23T00:02:04.567Z"
   },
   {
    "duration": 16713,
    "start_time": "2023-03-23T00:02:08.077Z"
   },
   {
    "duration": 114994,
    "start_time": "2023-03-23T00:02:26.949Z"
   },
   {
    "duration": 8,
    "start_time": "2023-03-23T00:05:24.414Z"
   },
   {
    "duration": 38,
    "start_time": "2023-03-23T00:05:27.756Z"
   },
   {
    "duration": 3045,
    "start_time": "2023-03-23T00:05:28.943Z"
   },
   {
    "duration": 4,
    "start_time": "2023-03-23T00:05:33.926Z"
   },
   {
    "duration": 1721,
    "start_time": "2023-03-23T00:05:35.242Z"
   },
   {
    "duration": 47,
    "start_time": "2023-03-23T00:05:38.092Z"
   },
   {
    "duration": 6,
    "start_time": "2023-03-23T00:05:41.161Z"
   },
   {
    "duration": 16489,
    "start_time": "2023-03-23T00:05:43.827Z"
   },
   {
    "duration": 86306,
    "start_time": "2023-03-23T00:06:03.044Z"
   },
   {
    "duration": 11810,
    "start_time": "2023-03-23T00:07:32.717Z"
   },
   {
    "duration": 20348,
    "start_time": "2023-03-23T00:07:51.261Z"
   },
   {
    "duration": 68,
    "start_time": "2023-03-23T00:09:02.903Z"
   },
   {
    "duration": 2951,
    "start_time": "2023-03-23T00:09:06.668Z"
   },
   {
    "duration": 3,
    "start_time": "2023-03-23T00:09:11.026Z"
   },
   {
    "duration": 1699,
    "start_time": "2023-03-23T00:09:13.076Z"
   },
   {
    "duration": 41,
    "start_time": "2023-03-23T00:09:14.777Z"
   },
   {
    "duration": 5,
    "start_time": "2023-03-23T00:09:16.328Z"
   },
   {
    "duration": 16559,
    "start_time": "2023-03-23T00:09:17.973Z"
   },
   {
    "duration": 59755,
    "start_time": "2023-03-23T00:09:37.826Z"
   },
   {
    "duration": 12711,
    "start_time": "2023-03-23T00:10:41.353Z"
   },
   {
    "duration": 466,
    "start_time": "2023-03-23T00:12:50.689Z"
   },
   {
    "duration": 4,
    "start_time": "2023-03-23T00:12:55.277Z"
   },
   {
    "duration": 2,
    "start_time": "2023-03-23T00:12:56.333Z"
   },
   {
    "duration": 926,
    "start_time": "2023-03-23T00:12:56.461Z"
   },
   {
    "duration": 54,
    "start_time": "2023-03-23T00:12:57.390Z"
   },
   {
    "duration": 5,
    "start_time": "2023-03-23T00:12:57.446Z"
   },
   {
    "duration": 7911,
    "start_time": "2023-03-23T00:12:58.027Z"
   },
   {
    "duration": 45426,
    "start_time": "2023-03-23T00:13:05.940Z"
   },
   {
    "duration": 7957,
    "start_time": "2023-03-23T00:13:51.368Z"
   },
   {
    "duration": 289,
    "start_time": "2023-03-23T00:14:04.332Z"
   },
   {
    "duration": 561,
    "start_time": "2023-03-23T00:15:22.635Z"
   },
   {
    "duration": 4,
    "start_time": "2023-03-23T00:15:23.871Z"
   },
   {
    "duration": 3,
    "start_time": "2023-03-23T00:15:24.134Z"
   },
   {
    "duration": 941,
    "start_time": "2023-03-23T00:15:24.269Z"
   },
   {
    "duration": 34,
    "start_time": "2023-03-23T00:15:25.212Z"
   },
   {
    "duration": 5,
    "start_time": "2023-03-23T00:15:25.249Z"
   },
   {
    "duration": 14759,
    "start_time": "2023-03-23T00:15:25.256Z"
   },
   {
    "duration": 45152,
    "start_time": "2023-03-23T00:15:40.017Z"
   },
   {
    "duration": 8342,
    "start_time": "2023-03-23T00:16:25.171Z"
   },
   {
    "duration": 292,
    "start_time": "2023-03-23T00:16:33.515Z"
   },
   {
    "duration": 64,
    "start_time": "2023-03-23T00:18:43.088Z"
   },
   {
    "duration": 2748,
    "start_time": "2023-03-23T00:18:44.734Z"
   },
   {
    "duration": 3,
    "start_time": "2023-03-23T00:18:48.842Z"
   },
   {
    "duration": 1849,
    "start_time": "2023-03-23T00:18:48.977Z"
   },
   {
    "duration": 31,
    "start_time": "2023-03-23T00:18:50.831Z"
   },
   {
    "duration": 5,
    "start_time": "2023-03-23T00:18:50.864Z"
   },
   {
    "duration": 14070,
    "start_time": "2023-03-23T00:18:50.872Z"
   },
   {
    "duration": 14220,
    "start_time": "2023-03-23T00:19:04.944Z"
   },
   {
    "duration": 1646,
    "start_time": "2023-03-23T00:19:19.167Z"
   },
   {
    "duration": 59,
    "start_time": "2023-03-23T00:19:20.814Z"
   },
   {
    "duration": 45,
    "start_time": "2023-03-23T00:19:58.127Z"
   },
   {
    "duration": 2796,
    "start_time": "2023-03-23T00:19:58.382Z"
   },
   {
    "duration": 2,
    "start_time": "2023-03-23T00:20:01.181Z"
   },
   {
    "duration": 1841,
    "start_time": "2023-03-23T00:20:01.186Z"
   },
   {
    "duration": 27,
    "start_time": "2023-03-23T00:20:03.030Z"
   },
   {
    "duration": 5,
    "start_time": "2023-03-23T00:20:03.058Z"
   },
   {
    "duration": 13050,
    "start_time": "2023-03-23T00:20:03.065Z"
   },
   {
    "duration": 2853,
    "start_time": "2023-03-23T00:20:16.120Z"
   },
   {
    "duration": 284,
    "start_time": "2023-03-23T00:20:18.975Z"
   },
   {
    "duration": 16,
    "start_time": "2023-03-23T00:20:19.262Z"
   },
   {
    "duration": 56,
    "start_time": "2023-03-23T00:21:53.319Z"
   },
   {
    "duration": 2695,
    "start_time": "2023-03-23T00:21:53.569Z"
   },
   {
    "duration": 3,
    "start_time": "2023-03-23T00:21:56.266Z"
   },
   {
    "duration": 1789,
    "start_time": "2023-03-23T00:21:56.270Z"
   },
   {
    "duration": 27,
    "start_time": "2023-03-23T00:21:58.061Z"
   },
   {
    "duration": 22,
    "start_time": "2023-03-23T00:21:58.090Z"
   },
   {
    "duration": 13121,
    "start_time": "2023-03-23T00:21:58.114Z"
   },
   {
    "duration": 2852,
    "start_time": "2023-03-23T00:22:11.237Z"
   },
   {
    "duration": 313,
    "start_time": "2023-03-23T00:22:14.090Z"
   },
   {
    "duration": 20,
    "start_time": "2023-03-23T00:22:14.410Z"
   },
   {
    "duration": 52,
    "start_time": "2023-03-23T00:23:09.733Z"
   },
   {
    "duration": 63,
    "start_time": "2023-03-23T00:23:15.112Z"
   },
   {
    "duration": 3085,
    "start_time": "2023-03-23T00:23:15.864Z"
   },
   {
    "duration": 3,
    "start_time": "2023-03-23T00:23:18.951Z"
   },
   {
    "duration": 1840,
    "start_time": "2023-03-23T00:23:18.955Z"
   },
   {
    "duration": 38,
    "start_time": "2023-03-23T00:23:20.797Z"
   },
   {
    "duration": 9,
    "start_time": "2023-03-23T00:23:20.837Z"
   },
   {
    "duration": 13060,
    "start_time": "2023-03-23T00:23:20.848Z"
   },
   {
    "duration": 2851,
    "start_time": "2023-03-23T00:23:33.914Z"
   },
   {
    "duration": 319,
    "start_time": "2023-03-23T00:23:36.767Z"
   },
   {
    "duration": 25,
    "start_time": "2023-03-23T00:23:37.101Z"
   },
   {
    "duration": 44,
    "start_time": "2023-03-23T00:26:43.929Z"
   },
   {
    "duration": 2723,
    "start_time": "2023-03-23T00:26:44.688Z"
   },
   {
    "duration": 10,
    "start_time": "2023-03-23T00:26:47.417Z"
   },
   {
    "duration": 1820,
    "start_time": "2023-03-23T00:26:47.429Z"
   },
   {
    "duration": 28,
    "start_time": "2023-03-23T00:26:49.251Z"
   },
   {
    "duration": 5,
    "start_time": "2023-03-23T00:26:49.281Z"
   },
   {
    "duration": 12851,
    "start_time": "2023-03-23T00:26:49.288Z"
   },
   {
    "duration": 2941,
    "start_time": "2023-03-23T00:27:02.141Z"
   },
   {
    "duration": 320,
    "start_time": "2023-03-23T00:27:05.084Z"
   },
   {
    "duration": 22,
    "start_time": "2023-03-23T00:27:05.406Z"
   },
   {
    "duration": 57,
    "start_time": "2023-03-23T00:27:21.752Z"
   },
   {
    "duration": 2715,
    "start_time": "2023-03-23T00:27:22.732Z"
   },
   {
    "duration": 3,
    "start_time": "2023-03-23T00:27:25.450Z"
   },
   {
    "duration": 1813,
    "start_time": "2023-03-23T00:27:25.454Z"
   },
   {
    "duration": 27,
    "start_time": "2023-03-23T00:27:27.269Z"
   },
   {
    "duration": 54,
    "start_time": "2023-03-23T00:27:27.298Z"
   },
   {
    "duration": 16661,
    "start_time": "2023-03-23T00:27:27.353Z"
   },
   {
    "duration": 2829,
    "start_time": "2023-03-23T00:27:44.020Z"
   },
   {
    "duration": 355,
    "start_time": "2023-03-23T00:27:46.850Z"
   },
   {
    "duration": 18,
    "start_time": "2023-03-23T00:27:47.209Z"
   },
   {
    "duration": 475,
    "start_time": "2023-03-23T00:27:47.231Z"
   },
   {
    "duration": 325,
    "start_time": "2023-03-23T00:30:43.188Z"
   },
   {
    "duration": 319,
    "start_time": "2023-03-23T00:30:48.207Z"
   },
   {
    "duration": 4,
    "start_time": "2023-03-23T00:30:49.240Z"
   },
   {
    "duration": 3,
    "start_time": "2023-03-23T00:30:49.522Z"
   },
   {
    "duration": 1017,
    "start_time": "2023-03-23T00:30:49.659Z"
   },
   {
    "duration": 40,
    "start_time": "2023-03-23T00:30:50.679Z"
   },
   {
    "duration": 23,
    "start_time": "2023-03-23T00:30:50.721Z"
   },
   {
    "duration": 0,
    "start_time": "2023-03-23T00:30:50.746Z"
   },
   {
    "duration": 0,
    "start_time": "2023-03-23T00:30:50.747Z"
   },
   {
    "duration": 416,
    "start_time": "2023-03-23T00:30:50.924Z"
   },
   {
    "duration": 0,
    "start_time": "2023-03-23T00:30:51.342Z"
   },
   {
    "duration": 18,
    "start_time": "2023-03-23T00:30:51.475Z"
   },
   {
    "duration": 19,
    "start_time": "2023-03-23T00:30:51.843Z"
   },
   {
    "duration": 364,
    "start_time": "2023-03-23T00:31:39.137Z"
   },
   {
    "duration": 6,
    "start_time": "2023-03-23T00:31:40.697Z"
   },
   {
    "duration": 473,
    "start_time": "2023-03-23T00:31:40.840Z"
   },
   {
    "duration": 2,
    "start_time": "2023-03-23T00:31:41.316Z"
   },
   {
    "duration": 925,
    "start_time": "2023-03-23T00:31:41.320Z"
   },
   {
    "duration": 23,
    "start_time": "2023-03-23T00:31:42.247Z"
   },
   {
    "duration": 8,
    "start_time": "2023-03-23T00:31:42.272Z"
   },
   {
    "duration": 0,
    "start_time": "2023-03-23T00:31:42.300Z"
   },
   {
    "duration": 0,
    "start_time": "2023-03-23T00:31:42.302Z"
   },
   {
    "duration": 532,
    "start_time": "2023-03-23T00:31:42.522Z"
   },
   {
    "duration": 0,
    "start_time": "2023-03-23T00:31:43.056Z"
   },
   {
    "duration": 21,
    "start_time": "2023-03-23T00:31:43.112Z"
   },
   {
    "duration": 33,
    "start_time": "2023-03-23T00:31:43.383Z"
   },
   {
    "duration": 16683,
    "start_time": "2023-03-23T00:32:00.642Z"
   },
   {
    "duration": 5,
    "start_time": "2023-03-23T00:32:17.327Z"
   },
   {
    "duration": 4490,
    "start_time": "2023-03-23T00:32:17.334Z"
   },
   {
    "duration": 0,
    "start_time": "2023-03-23T00:32:21.826Z"
   },
   {
    "duration": 0,
    "start_time": "2023-03-23T00:32:21.828Z"
   },
   {
    "duration": 0,
    "start_time": "2023-03-23T00:32:21.829Z"
   },
   {
    "duration": 0,
    "start_time": "2023-03-23T00:32:21.830Z"
   },
   {
    "duration": 480,
    "start_time": "2023-03-23T00:32:36.433Z"
   },
   {
    "duration": 10,
    "start_time": "2023-03-23T00:32:36.915Z"
   },
   {
    "duration": 14,
    "start_time": "2023-03-23T00:32:36.926Z"
   },
   {
    "duration": 3,
    "start_time": "2023-03-23T00:32:37.130Z"
   },
   {
    "duration": 962,
    "start_time": "2023-03-23T00:32:37.250Z"
   },
   {
    "duration": 24,
    "start_time": "2023-03-23T00:32:38.215Z"
   },
   {
    "duration": 15323,
    "start_time": "2023-03-23T00:32:38.241Z"
   },
   {
    "duration": 6,
    "start_time": "2023-03-23T00:32:53.567Z"
   },
   {
    "duration": 7463,
    "start_time": "2023-03-23T00:32:53.575Z"
   },
   {
    "duration": 2361,
    "start_time": "2023-03-23T00:33:01.040Z"
   },
   {
    "duration": 209,
    "start_time": "2023-03-23T00:33:03.406Z"
   },
   {
    "duration": 12,
    "start_time": "2023-03-23T00:33:03.617Z"
   },
   {
    "duration": 88,
    "start_time": "2023-03-23T00:33:03.630Z"
   },
   {
    "duration": 497,
    "start_time": "2023-03-23T00:34:39.225Z"
   },
   {
    "duration": 5,
    "start_time": "2023-03-23T00:34:40.716Z"
   },
   {
    "duration": 8,
    "start_time": "2023-03-23T00:34:40.860Z"
   },
   {
    "duration": 3,
    "start_time": "2023-03-23T00:34:41.121Z"
   },
   {
    "duration": 900,
    "start_time": "2023-03-23T00:34:41.249Z"
   },
   {
    "duration": 24,
    "start_time": "2023-03-23T00:34:42.151Z"
   },
   {
    "duration": 14988,
    "start_time": "2023-03-23T00:34:42.177Z"
   },
   {
    "duration": 5,
    "start_time": "2023-03-23T00:34:57.167Z"
   },
   {
    "duration": 7865,
    "start_time": "2023-03-23T00:34:57.173Z"
   },
   {
    "duration": 1769,
    "start_time": "2023-03-23T00:35:05.040Z"
   },
   {
    "duration": 55,
    "start_time": "2023-03-23T00:35:06.810Z"
   },
   {
    "duration": 43,
    "start_time": "2023-03-23T00:35:06.867Z"
   },
   {
    "duration": 46,
    "start_time": "2023-03-23T00:38:16.913Z"
   },
   {
    "duration": 2436,
    "start_time": "2023-03-23T00:38:17.714Z"
   },
   {
    "duration": 465,
    "start_time": "2023-03-23T00:38:20.152Z"
   },
   {
    "duration": 3,
    "start_time": "2023-03-23T00:38:20.619Z"
   },
   {
    "duration": 1343,
    "start_time": "2023-03-23T00:38:20.624Z"
   },
   {
    "duration": 23,
    "start_time": "2023-03-23T00:38:21.968Z"
   },
   {
    "duration": 15751,
    "start_time": "2023-03-23T00:38:21.997Z"
   },
   {
    "duration": 4,
    "start_time": "2023-03-23T00:38:37.750Z"
   },
   {
    "duration": 15454,
    "start_time": "2023-03-23T00:38:37.756Z"
   },
   {
    "duration": 1640,
    "start_time": "2023-03-23T00:38:53.212Z"
   },
   {
    "duration": 71,
    "start_time": "2023-03-23T00:38:54.854Z"
   },
   {
    "duration": 5,
    "start_time": "2023-03-23T00:38:54.927Z"
   },
   {
    "duration": 525,
    "start_time": "2023-03-23T00:40:58.145Z"
   },
   {
    "duration": 458,
    "start_time": "2023-03-23T00:41:01.924Z"
   },
   {
    "duration": 4,
    "start_time": "2023-03-23T00:41:03.717Z"
   },
   {
    "duration": 9,
    "start_time": "2023-03-23T00:41:03.870Z"
   },
   {
    "duration": 4,
    "start_time": "2023-03-23T00:41:04.143Z"
   },
   {
    "duration": 902,
    "start_time": "2023-03-23T00:41:04.272Z"
   },
   {
    "duration": 38,
    "start_time": "2023-03-23T00:41:05.177Z"
   },
   {
    "duration": 14972,
    "start_time": "2023-03-23T00:41:05.217Z"
   },
   {
    "duration": 5,
    "start_time": "2023-03-23T00:41:20.197Z"
   },
   {
    "duration": 7374,
    "start_time": "2023-03-23T00:41:20.205Z"
   },
   {
    "duration": 2288,
    "start_time": "2023-03-23T00:41:27.581Z"
   },
   {
    "duration": 166,
    "start_time": "2023-03-23T00:41:29.871Z"
   },
   {
    "duration": 6,
    "start_time": "2023-03-23T00:41:30.039Z"
   },
   {
    "duration": 435,
    "start_time": "2023-03-23T00:41:30.046Z"
   },
   {
    "duration": 540,
    "start_time": "2023-03-23T00:42:19.754Z"
   },
   {
    "duration": 4,
    "start_time": "2023-03-23T00:42:21.199Z"
   },
   {
    "duration": 8,
    "start_time": "2023-03-23T00:42:21.361Z"
   },
   {
    "duration": 3,
    "start_time": "2023-03-23T00:42:21.608Z"
   },
   {
    "duration": 853,
    "start_time": "2023-03-23T00:42:21.745Z"
   },
   {
    "duration": 23,
    "start_time": "2023-03-23T00:42:22.600Z"
   },
   {
    "duration": 15019,
    "start_time": "2023-03-23T00:42:22.625Z"
   },
   {
    "duration": 6,
    "start_time": "2023-03-23T00:42:37.647Z"
   },
   {
    "duration": 7513,
    "start_time": "2023-03-23T00:42:37.655Z"
   },
   {
    "duration": 2491,
    "start_time": "2023-03-23T00:42:45.170Z"
   },
   {
    "duration": 153,
    "start_time": "2023-03-23T00:42:47.663Z"
   },
   {
    "duration": 6,
    "start_time": "2023-03-23T00:42:47.818Z"
   },
   {
    "duration": 47,
    "start_time": "2023-03-23T00:47:08.692Z"
   },
   {
    "duration": 2592,
    "start_time": "2023-03-23T00:47:10.233Z"
   },
   {
    "duration": 416,
    "start_time": "2023-03-23T00:47:12.828Z"
   },
   {
    "duration": 2,
    "start_time": "2023-03-23T00:47:13.247Z"
   },
   {
    "duration": 1311,
    "start_time": "2023-03-23T00:47:13.491Z"
   },
   {
    "duration": 22,
    "start_time": "2023-03-23T00:47:14.807Z"
   },
   {
    "duration": 15765,
    "start_time": "2023-03-23T00:47:19.923Z"
   },
   {
    "duration": 7,
    "start_time": "2023-03-23T00:47:37.578Z"
   },
   {
    "duration": 8,
    "start_time": "2023-03-23T00:47:42.729Z"
   },
   {
    "duration": 170,
    "start_time": "2023-03-23T00:47:44.907Z"
   },
   {
    "duration": 9998,
    "start_time": "2023-03-23T00:47:50.754Z"
   },
   {
    "duration": 6,
    "start_time": "2023-03-23T00:48:09.252Z"
   },
   {
    "duration": 3641,
    "start_time": "2023-03-23T00:52:21.741Z"
   },
   {
    "duration": 40,
    "start_time": "2023-03-23T00:52:25.384Z"
   },
   {
    "duration": 529,
    "start_time": "2023-03-23T00:52:25.426Z"
   },
   {
    "duration": 33,
    "start_time": "2023-03-23T00:52:25.957Z"
   },
   {
    "duration": 1471,
    "start_time": "2023-03-23T00:52:25.992Z"
   },
   {
    "duration": 35,
    "start_time": "2023-03-23T00:52:27.465Z"
   },
   {
    "duration": 301,
    "start_time": "2023-03-23T00:52:27.502Z"
   },
   {
    "duration": 15,
    "start_time": "2023-03-23T00:52:27.806Z"
   },
   {
    "duration": 7,
    "start_time": "2023-03-23T00:52:27.823Z"
   },
   {
    "duration": 5,
    "start_time": "2023-03-23T00:52:27.833Z"
   },
   {
    "duration": 12,
    "start_time": "2023-03-23T00:52:27.840Z"
   },
   {
    "duration": 9,
    "start_time": "2023-03-23T00:52:27.854Z"
   },
   {
    "duration": 1613,
    "start_time": "2023-03-23T00:52:27.866Z"
   },
   {
    "duration": 1504727,
    "start_time": "2023-03-23T00:52:29.483Z"
   },
   {
    "duration": 7,
    "start_time": "2023-03-23T01:17:34.212Z"
   },
   {
    "duration": 15,
    "start_time": "2023-03-23T01:17:34.221Z"
   },
   {
    "duration": 95,
    "start_time": "2023-03-23T01:17:34.238Z"
   },
   {
    "duration": 3,
    "start_time": "2023-03-23T01:17:34.335Z"
   },
   {
    "duration": 8,
    "start_time": "2023-03-23T01:17:34.340Z"
   },
   {
    "duration": 7,
    "start_time": "2023-03-23T01:17:34.349Z"
   },
   {
    "duration": 6,
    "start_time": "2023-03-23T01:17:34.358Z"
   },
   {
    "duration": 8,
    "start_time": "2023-03-23T01:17:34.366Z"
   },
   {
    "duration": 5,
    "start_time": "2023-03-23T01:17:34.375Z"
   },
   {
    "duration": 669052,
    "start_time": "2023-03-23T01:17:34.397Z"
   },
   {
    "duration": 3,
    "start_time": "2023-03-23T01:28:43.450Z"
   },
   {
    "duration": 155442,
    "start_time": "2023-03-23T01:28:43.455Z"
   },
   {
    "duration": 3,
    "start_time": "2023-03-23T01:31:18.899Z"
   },
   {
    "duration": 295326,
    "start_time": "2023-03-23T01:31:18.904Z"
   },
   {
    "duration": 46,
    "start_time": "2023-03-23T01:36:14.232Z"
   },
   {
    "duration": 2039,
    "start_time": "2023-03-23T01:36:14.280Z"
   },
   {
    "duration": 365,
    "start_time": "2023-03-23T01:36:16.321Z"
   },
   {
    "duration": 1208,
    "start_time": "2023-03-23T01:36:16.689Z"
   },
   {
    "duration": 8,
    "start_time": "2023-03-23T01:36:17.899Z"
   },
   {
    "duration": 7,
    "start_time": "2023-03-23T01:36:17.909Z"
   },
   {
    "duration": 894,
    "start_time": "2023-03-23T01:36:17.918Z"
   },
   {
    "duration": 28,
    "start_time": "2023-03-23T01:36:18.814Z"
   },
   {
    "duration": 16738,
    "start_time": "2023-03-23T01:36:18.845Z"
   },
   {
    "duration": 14,
    "start_time": "2023-03-23T01:36:35.585Z"
   },
   {
    "duration": 16040,
    "start_time": "2023-03-23T01:36:35.602Z"
   },
   {
    "duration": 2517,
    "start_time": "2023-03-23T01:36:51.645Z"
   },
   {
    "duration": 209,
    "start_time": "2023-03-23T01:36:54.166Z"
   },
   {
    "duration": 22,
    "start_time": "2023-03-23T01:36:54.377Z"
   },
   {
    "duration": 3,
    "start_time": "2023-03-23T01:36:54.401Z"
   },
   {
    "duration": 52,
    "start_time": "2023-03-23T05:22:51.847Z"
   },
   {
    "duration": 5714,
    "start_time": "2023-03-23T05:27:01.136Z"
   },
   {
    "duration": 36,
    "start_time": "2023-03-23T05:27:06.852Z"
   },
   {
    "duration": 1059,
    "start_time": "2023-03-23T05:27:06.889Z"
   },
   {
    "duration": 32,
    "start_time": "2023-03-23T05:27:07.951Z"
   },
   {
    "duration": 3806,
    "start_time": "2023-03-23T05:27:07.985Z"
   },
   {
    "duration": 40,
    "start_time": "2023-03-23T05:27:11.793Z"
   },
   {
    "duration": 288,
    "start_time": "2023-03-23T05:27:11.835Z"
   },
   {
    "duration": 13,
    "start_time": "2023-03-23T05:27:12.125Z"
   },
   {
    "duration": 129,
    "start_time": "2023-03-23T05:27:12.140Z"
   },
   {
    "duration": 12,
    "start_time": "2023-03-23T05:27:12.272Z"
   },
   {
    "duration": 8,
    "start_time": "2023-03-23T05:27:12.286Z"
   },
   {
    "duration": 6,
    "start_time": "2023-03-23T05:27:12.296Z"
   },
   {
    "duration": 1524,
    "start_time": "2023-03-23T05:27:12.303Z"
   },
   {
    "duration": 1331524,
    "start_time": "2023-03-23T05:27:13.829Z"
   },
   {
    "duration": 8,
    "start_time": "2023-03-23T05:49:25.362Z"
   },
   {
    "duration": 7,
    "start_time": "2023-03-23T05:49:25.371Z"
   },
   {
    "duration": 62,
    "start_time": "2023-03-23T05:49:25.380Z"
   },
   {
    "duration": 20,
    "start_time": "2023-03-23T05:49:25.444Z"
   },
   {
    "duration": 3,
    "start_time": "2023-03-23T05:49:25.466Z"
   },
   {
    "duration": 6,
    "start_time": "2023-03-23T05:49:25.471Z"
   },
   {
    "duration": 12,
    "start_time": "2023-03-23T05:49:25.479Z"
   },
   {
    "duration": 7,
    "start_time": "2023-03-23T05:49:25.492Z"
   },
   {
    "duration": 8,
    "start_time": "2023-03-23T05:49:25.501Z"
   },
   {
    "duration": 607054,
    "start_time": "2023-03-23T05:49:25.511Z"
   },
   {
    "duration": 132,
    "start_time": "2023-03-23T05:59:32.567Z"
   },
   {
    "duration": 0,
    "start_time": "2023-03-23T05:59:32.701Z"
   },
   {
    "duration": 0,
    "start_time": "2023-03-23T05:59:32.702Z"
   },
   {
    "duration": 0,
    "start_time": "2023-03-23T05:59:32.703Z"
   },
   {
    "duration": 0,
    "start_time": "2023-03-23T05:59:32.704Z"
   },
   {
    "duration": 0,
    "start_time": "2023-03-23T05:59:32.705Z"
   },
   {
    "duration": 0,
    "start_time": "2023-03-23T05:59:32.705Z"
   },
   {
    "duration": 0,
    "start_time": "2023-03-23T05:59:32.707Z"
   },
   {
    "duration": 0,
    "start_time": "2023-03-23T05:59:32.708Z"
   },
   {
    "duration": 0,
    "start_time": "2023-03-23T05:59:32.709Z"
   },
   {
    "duration": 0,
    "start_time": "2023-03-23T05:59:32.710Z"
   },
   {
    "duration": 0,
    "start_time": "2023-03-23T05:59:32.711Z"
   },
   {
    "duration": 0,
    "start_time": "2023-03-23T05:59:32.712Z"
   },
   {
    "duration": 0,
    "start_time": "2023-03-23T05:59:32.713Z"
   },
   {
    "duration": 0,
    "start_time": "2023-03-23T05:59:32.714Z"
   },
   {
    "duration": 0,
    "start_time": "2023-03-23T05:59:32.715Z"
   },
   {
    "duration": 0,
    "start_time": "2023-03-23T05:59:32.716Z"
   },
   {
    "duration": 0,
    "start_time": "2023-03-23T05:59:32.717Z"
   },
   {
    "duration": 0,
    "start_time": "2023-03-23T05:59:32.719Z"
   },
   {
    "duration": 0,
    "start_time": "2023-03-23T05:59:32.720Z"
   },
   {
    "duration": 3,
    "start_time": "2023-03-23T06:00:16.662Z"
   },
   {
    "duration": 143094,
    "start_time": "2023-03-23T06:00:40.055Z"
   },
   {
    "duration": 2,
    "start_time": "2023-03-23T06:03:03.151Z"
   },
   {
    "duration": 258718,
    "start_time": "2023-03-23T06:03:03.155Z"
   },
   {
    "duration": 41,
    "start_time": "2023-03-23T06:07:21.876Z"
   },
   {
    "duration": 1645,
    "start_time": "2023-03-23T06:07:21.919Z"
   },
   {
    "duration": 312,
    "start_time": "2023-03-23T06:07:23.566Z"
   },
   {
    "duration": 3667,
    "start_time": "2023-03-23T06:07:23.880Z"
   },
   {
    "duration": 11,
    "start_time": "2023-03-23T06:07:27.549Z"
   },
   {
    "duration": 3,
    "start_time": "2023-03-23T06:07:27.562Z"
   },
   {
    "duration": 676,
    "start_time": "2023-03-23T06:07:27.567Z"
   },
   {
    "duration": 24,
    "start_time": "2023-03-23T06:07:28.244Z"
   },
   {
    "duration": 12539,
    "start_time": "2023-03-23T06:07:28.270Z"
   },
   {
    "duration": 4,
    "start_time": "2023-03-23T06:07:40.812Z"
   },
   {
    "duration": 22683,
    "start_time": "2023-03-23T06:07:40.818Z"
   },
   {
    "duration": 2018,
    "start_time": "2023-03-23T06:08:03.503Z"
   },
   {
    "duration": 105,
    "start_time": "2023-03-23T06:08:05.523Z"
   },
   {
    "duration": 5,
    "start_time": "2023-03-23T06:08:05.630Z"
   },
   {
    "duration": 32,
    "start_time": "2023-03-23T06:08:05.636Z"
   },
   {
    "duration": 5565,
    "start_time": "2023-08-29T00:52:35.404Z"
   },
   {
    "duration": 36,
    "start_time": "2023-08-29T00:52:40.971Z"
   },
   {
    "duration": 945,
    "start_time": "2023-08-29T00:52:41.011Z"
   },
   {
    "duration": 28,
    "start_time": "2023-08-29T00:52:41.957Z"
   },
   {
    "duration": 3398,
    "start_time": "2023-08-29T00:52:41.987Z"
   },
   {
    "duration": 34,
    "start_time": "2023-08-29T00:52:45.386Z"
   },
   {
    "duration": 261,
    "start_time": "2023-08-29T00:52:45.422Z"
   },
   {
    "duration": 12,
    "start_time": "2023-08-29T00:52:45.685Z"
   },
   {
    "duration": 4,
    "start_time": "2023-08-29T00:52:45.699Z"
   },
   {
    "duration": 8,
    "start_time": "2023-08-29T00:52:45.705Z"
   },
   {
    "duration": 12,
    "start_time": "2023-08-29T00:52:45.714Z"
   },
   {
    "duration": 8,
    "start_time": "2023-08-29T00:52:45.727Z"
   },
   {
    "duration": 1390,
    "start_time": "2023-08-29T00:52:45.736Z"
   },
   {
    "duration": 1237339,
    "start_time": "2023-08-29T00:52:47.128Z"
   },
   {
    "duration": 7,
    "start_time": "2023-08-29T01:13:24.469Z"
   },
   {
    "duration": 5,
    "start_time": "2023-08-29T01:13:24.478Z"
   },
   {
    "duration": 74,
    "start_time": "2023-08-29T01:13:24.484Z"
   },
   {
    "duration": 9,
    "start_time": "2023-08-29T01:13:24.560Z"
   },
   {
    "duration": 6,
    "start_time": "2023-08-29T01:13:24.570Z"
   },
   {
    "duration": 611904,
    "start_time": "2023-08-29T01:13:24.578Z"
   },
   {
    "duration": 134907,
    "start_time": "2023-08-29T01:23:36.484Z"
   },
   {
    "duration": 245267,
    "start_time": "2023-08-29T01:25:51.393Z"
   },
   {
    "duration": 48,
    "start_time": "2023-08-29T01:29:56.667Z"
   },
   {
    "duration": 1605,
    "start_time": "2023-08-29T01:29:56.717Z"
   }
  ],
  "kernelspec": {
   "display_name": "Python 3 (ipykernel)",
   "language": "python",
   "name": "python3"
  },
  "language_info": {
   "codemirror_mode": {
    "name": "ipython",
    "version": 3
   },
   "file_extension": ".py",
   "mimetype": "text/x-python",
   "name": "python",
   "nbconvert_exporter": "python",
   "pygments_lexer": "ipython3",
   "version": "3.9.5"
  },
  "toc": {
   "base_numbering": 1,
   "nav_menu": {},
   "number_sections": true,
   "sideBar": true,
   "skip_h1_title": true,
   "title_cell": "Содержание",
   "title_sidebar": "Contents",
   "toc_cell": true,
   "toc_position": {
    "height": "calc(100% - 180px)",
    "left": "10px",
    "top": "150px",
    "width": "302.388px"
   },
   "toc_section_display": true,
   "toc_window_display": true
  }
 },
 "nbformat": 4,
 "nbformat_minor": 2
}
