{
 "cells": [
  {
   "cell_type": "markdown",
   "metadata": {},
   "source": [
    "# Рекомендация тарифов"
   ]
  },
  {
   "cell_type": "markdown",
   "metadata": {},
   "source": [
    "В вашем распоряжении данные о поведении клиентов, которые уже перешли на эти тарифы (из проекта курса «Статистический анализ данных»). Нужно построить модель для задачи классификации, которая выберет подходящий тариф. Предобработка данных не понадобится — вы её уже сделали.\n",
    "\n",
    "Постройте модель с максимально большим значением *accuracy*. Чтобы сдать проект успешно, нужно довести долю правильных ответов по крайней мере до 0.75. Проверьте *accuracy* на тестовой выборке самостоятельно."
   ]
  },
  {
   "cell_type": "markdown",
   "metadata": {},
   "source": [
    "## Откройте и изучите файл"
   ]
  },
  {
   "cell_type": "markdown",
   "metadata": {},
   "source": [
    "Импортируем модули"
   ]
  },
  {
   "cell_type": "code",
   "execution_count": 1,
   "metadata": {},
   "outputs": [],
   "source": [
    "import pandas as pd\n",
    "import numpy as np\n",
    "\n",
    "#Убираем лишние предупреждения\n",
    "import warnings\n",
    "warnings.filterwarnings('ignore')\n",
    "\n",
    "import seaborn as sns #Графики\n",
    "from matplotlib import pyplot as plt\n",
    "from sklearn.tree import plot_tree\n",
    "\n",
    "from tqdm.notebook import tqdm #Некоторые ячейки выполняются довольно долго, так что добавим полосу прогресса\n",
    "from sklearn.tree import DecisionTreeClassifier \n",
    "from sklearn.ensemble import RandomForestClassifier\n",
    "from sklearn.linear_model import LogisticRegression\n",
    "from sklearn.neighbors import KNeighborsClassifier\n",
    "\n",
    "#Для проверки sanity\n",
    "from sklearn.dummy import DummyClassifier\n",
    "\n",
    "#Метрики для оценки моделей \n",
    "from sklearn.metrics import accuracy_score\n",
    "from sklearn.metrics import f1_score\n",
    "\n",
    "\n",
    "\n",
    "from sklearn.model_selection import GridSearchCV"
   ]
  },
  {
   "cell_type": "markdown",
   "metadata": {},
   "source": [
    "Загружаем датасет"
   ]
  },
  {
   "cell_type": "code",
   "execution_count": 2,
   "metadata": {},
   "outputs": [
    {
     "name": "stdout",
     "output_type": "stream",
     "text": [
      "<class 'pandas.core.frame.DataFrame'>\n",
      "RangeIndex: 3214 entries, 0 to 3213\n",
      "Data columns (total 5 columns):\n",
      " #   Column    Non-Null Count  Dtype  \n",
      "---  ------    --------------  -----  \n",
      " 0   calls     3214 non-null   float64\n",
      " 1   minutes   3214 non-null   float64\n",
      " 2   messages  3214 non-null   float64\n",
      " 3   mb_used   3214 non-null   float64\n",
      " 4   is_ultra  3214 non-null   int64  \n",
      "dtypes: float64(4), int64(1)\n",
      "memory usage: 125.7 KB\n"
     ]
    }
   ],
   "source": [
    "#Считываем данные. Если нет локального доступа - то из облачного хранилища\n",
    "try:\n",
    "    data = pd.read_csv('/datasets/users_behavior.csv')\n",
    "except:\n",
    "    data = pd.read_csv('https://code.s3.yandex.net/datasets/users_behavior.csv')\n",
    "\n",
    "data.info()"
   ]
  },
  {
   "cell_type": "markdown",
   "metadata": {},
   "source": [
    "Поскольку мы уже делали предобработку данных, повторно делать этого не требуется"
   ]
  },
  {
   "cell_type": "code",
   "execution_count": 3,
   "metadata": {},
   "outputs": [
    {
     "data": {
      "image/png": "[encoded data removed]",
      "text/plain": [
       "<Figure size 1080x144 with 2 Axes>"
      ]
     },
     "metadata": {
      "needs_background": "light"
     },
     "output_type": "display_data"
    }
   ],
   "source": [
    "plt.figure(figsize=(15, 2))\n",
    "sns.heatmap(data.corr(method = 'spearman')['is_ultra'].to_frame().transpose(), annot = True)\n",
    "plt.show()\n"
   ]
  },
  {
   "cell_type": "markdown",
   "metadata": {},
   "source": [
    "Мы видим низкие значения корреляции с данными, потому взаимосвязь между фичами и целевым значением скорее всего нелинейная."
   ]
  },
  {
   "cell_type": "markdown",
   "metadata": {},
   "source": [
    "## Разбейте данные на выборки"
   ]
  },
  {
   "cell_type": "markdown",
   "metadata": {},
   "source": [
    "Смотрим на то, насколько выборка сбалансированна"
   ]
  },
  {
   "cell_type": "code",
   "execution_count": 4,
   "metadata": {},
   "outputs": [
    {
     "data": {
      "text/plain": [
       "0.30647168637212197"
      ]
     },
     "execution_count": 4,
     "metadata": {},
     "output_type": "execute_result"
    }
   ],
   "source": [
    "data['is_ultra'].mean()"
   ]
  },
  {
   "cell_type": "markdown",
   "metadata": {},
   "source": [
    "Мы видим, что целевой параметр не сбалансирован, то есть, нужно следить за тем, чтобы он сожержался в обучающей, валидационной и тестовой выборках равномерно.Разбиваем на три части таким образом, чтобы относительное распределение целевого параметра было одинаково. "
   ]
  },
  {
   "cell_type": "code",
   "execution_count": 5,
   "metadata": {},
   "outputs": [
    {
     "name": "stdout",
     "output_type": "stream",
     "text": [
      "0.30549792531120334 0.30637636080870917 0.3094867807153966\n",
      "1928 643 643\n"
     ]
    }
   ],
   "source": [
    "train, validate, test = \\\n",
    "              np.split(data.sample(frac=1, random_state=42),\n",
    "                       [int(.6*len(data)), int(.8*len(data))])\n",
    "\n",
    "\n",
    "#Проверяем, правильно ли мы разбили выборку\n",
    "print(train['is_ultra'].mean(), validate['is_ultra'].mean(), test['is_ultra'].mean())\n",
    "print(len(train), len(validate), len(test))"
   ]
  },
  {
   "cell_type": "markdown",
   "metadata": {},
   "source": [
    "Выборка разделена в соотношении 60%/20%/20%. Теперь надо разделить наши выборки на фичи и целевые значения"
   ]
  },
  {
   "cell_type": "code",
   "execution_count": 6,
   "metadata": {},
   "outputs": [],
   "source": [
    "target_train = train['is_ultra']\n",
    "features_train = train.drop(columns = 'is_ultra')\n",
    "target_validate = validate['is_ultra']\n",
    "features_validate = validate.drop(columns = 'is_ultra')\n",
    "target_test = test['is_ultra']\n",
    "features_test = test.drop(columns = 'is_ultra')"
   ]
  },
  {
   "cell_type": "markdown",
   "metadata": {},
   "source": [
    "## Исследуйте модели"
   ]
  },
  {
   "cell_type": "markdown",
   "metadata": {},
   "source": [
    "### DecisionTreeClassifier\n",
    "Для выбора лучших параметров пройдёмся в цикле по параметру случайной глубины и минимального количества данных в одном листе для каждой глубины."
   ]
  },
  {
   "cell_type": "code",
   "execution_count": 7,
   "metadata": {},
   "outputs": [
    {
     "data": {
      "application/vnd.jupyter.widget-view+json": {
       "model_id": "59a3d7ea316b418d9b977fccf630377f",
       "version_major": 2,
       "version_minor": 0
      },
      "text/plain": [
       "  0%|          | 0/11 [00:00<?, ?it/s]"
      ]
     },
     "metadata": {},
     "output_type": "display_data"
    },
    {
     "name": "stdout",
     "output_type": "stream",
     "text": [
      "Лучшее дерево: максимальная глубина -  11 min samples leaf -  10 accuracy_score -  0.8009331259720062 f1 score - 0.6502732240437159\n"
     ]
    }
   ],
   "source": [
    "ml = []\n",
    "best_tree = None\n",
    "best_score = 0\n",
    "best_f1_score = 0\n",
    "best_leaf, best_depth = 0, 0\n",
    "\n",
    "for depth in tqdm(range(1,12)):\n",
    "    for leaf in 1, 10, 20, 30:\n",
    "        model = DecisionTreeClassifier(max_depth = depth, min_samples_leaf = leaf, random_state=42)\n",
    "        model.fit(features_train, target_train)\n",
    "        pred = model.predict(features_validate)\n",
    "\n",
    "        if accuracy_score(pred, target_validate) > best_score:\n",
    "            best_score = accuracy_score(pred, target_validate)\n",
    "            best_tree = model\n",
    "            best_leaf, best_depth = leaf, depth\n",
    "            best_f1_score = f1_score(pred, target_validate)\n",
    "\n",
    "tree_result = ('Лучшее дерево: максимальная глубина - ', best_depth, \n",
    "      'min samples leaf - ', best_leaf, 'accuracy_score - ', best_score, 'f1 score -', best_f1_score)\n",
    "\n",
    "print(*tree_result)\n",
    "\n",
    "#Записываем название модели и метрики\n",
    "ml.append(('DecisionTreeClassifier', best_score, best_f1_score))"
   ]
  },
  {
   "cell_type": "markdown",
   "metadata": {},
   "source": [
    "Как видим, лучшая глубина - 11 при  минимальном количестве данных в листе - 10. "
   ]
  },
  {
   "cell_type": "code",
   "execution_count": 8,
   "metadata": {},
   "outputs": [
    {
     "data": {
      "image/png": "[encoded data removed]",
      "text/plain": [
       "<Figure size 1080x864 with 1 Axes>"
      ]
     },
     "metadata": {
      "needs_background": "light"
     },
     "output_type": "display_data"
    }
   ],
   "source": [
    "pt = DecisionTreeClassifier(max_depth = 3,  random_state=42)\n",
    "pt.fit(features_train, target_train)\n",
    "plt.figure(figsize=(15, 12))\n",
    "plot_tree(pt)\n",
    "plt.show()"
   ]
  },
  {
   "cell_type": "markdown",
   "metadata": {},
   "source": [
    "### Случайный лес классификации\n",
    "Для подбора лучшего варианта мы пройдёмся по глубине, количеству деревьев и количеству данных в листе в тройном вложенном цикле."
   ]
  },
  {
   "cell_type": "code",
   "execution_count": 9,
   "metadata": {},
   "outputs": [
    {
     "data": {
      "application/vnd.jupyter.widget-view+json": {
       "model_id": "c275f5bba26f4649b2b5d23d2ceda2c0",
       "version_major": 2,
       "version_minor": 0
      },
      "text/plain": [
       "  0%|          | 0/11 [00:00<?, ?it/s]"
      ]
     },
     "metadata": {},
     "output_type": "display_data"
    },
    {
     "name": "stdout",
     "output_type": "stream",
     "text": [
      "Лучший лес: максимальная глубина -  10 n_estimators -  10 accueacy_score -  0.8180404354587869 min_samples_leaf 1 f1 score - 0.6588921282798834\n"
     ]
    }
   ],
   "source": [
    "best_forest = None\n",
    "best_trees, best_depth, best_leaf = 0, 0, 0\n",
    "best_score, best_f1_score = 0,0\n",
    "for depth in tqdm(range(1,12)):\n",
    "    for trees in 1, 10, 20, 30, 50, 80, 100:\n",
    "        for leaf in 1, 5, 10, 20, 50:\n",
    "            model = RandomForestClassifier(max_depth = depth, n_estimators = trees,\n",
    "                                           min_samples_leaf = leaf, random_state=42)\n",
    "            \n",
    "            model.fit(features_train, target_train)\n",
    "            pred = model.predict(features_validate)\n",
    "            if accuracy_score(pred, target_validate) > best_score:\n",
    "                best_leaf = leaf\n",
    "                best_score = accuracy_score(pred, target_validate)\n",
    "                best_forest = model\n",
    "                best_trees, best_depth = trees, depth\n",
    "                best_f1_score = f1_score(pred, target_validate)\n",
    "\n",
    "forest_result = ('Лучший лес: максимальная глубина - ', best_depth, \n",
    "      'n_estimators - ', best_trees, 'accueacy_score - ', best_score, \n",
    "                 'min_samples_leaf',best_leaf,'f1 score -', best_f1_score)\n",
    "\n",
    "print(*forest_result)\n",
    "ml.append(('RandomForestClassifier', best_score, best_f1_score))"
   ]
  },
  {
   "cell_type": "markdown",
   "metadata": {},
   "source": [
    "### Логистическая регрессия\n",
    "Для подборки лучшего варианта будем изменять параметр обратной силы регуляризации. Чтобы не делать слишком длинный цикл, будем начиная со значения 10 на каждом шаге уменьшать значение в 2 раза, пока оно не будет меньше 0,0001"
   ]
  },
  {
   "cell_type": "code",
   "execution_count": 10,
   "metadata": {},
   "outputs": [
    {
     "data": {
      "application/vnd.jupyter.widget-view+json": {
       "model_id": "e0c921c59a994922b5bb7aa6cb8e0cf1",
       "version_major": 2,
       "version_minor": 0
      },
      "text/plain": [
       "  0%|          | 0/6 [00:00<?, ?it/s]"
      ]
     },
     "metadata": {},
     "output_type": "display_data"
    },
    {
     "name": "stdout",
     "output_type": "stream",
     "text": [
      "Лучшее С: 0.009765625 accuracy:  0.7325038880248833 f1_score:  0.3064516129032258 solver: lbfgs\n"
     ]
    }
   ],
   "source": [
    "best_score, best_f1_score = 0, 0\n",
    "best_linear = None\n",
    "best_C = 10\n",
    "current_C = 10\n",
    "best_solver  = ''\n",
    "solver = ['lbfgs', 'liblinear', 'newton-cg', 'newton-cholesky', 'sag', 'saga']\n",
    "for i in tqdm(range(len(solver))):\n",
    "    while current_C > 0.0001:\n",
    "        model = LogisticRegression(C = current_C, random_state = 42, solver = solver[i])\n",
    "        model.fit(features_train, target_train)\n",
    "        pred = model.predict(features_validate)\n",
    "        current_C = current_C / 2\n",
    "        if accuracy_score(pred, target_validate) > best_score:\n",
    "            best_score = accuracy_score(pred, target_validate)\n",
    "            best_f1_score = f1_score(pred, target_validate)\n",
    "            best_C = current_C\n",
    "            best_linear = model\n",
    "            best_solver = solver[i]\n",
    "\n",
    "print('Лучшее С:', best_C, 'accuracy: ',best_score, 'f1_score: ',best_f1_score, 'solver:', best_solver)\n",
    "ml.append(('LogisticRegression', best_score, best_f1_score))"
   ]
  },
  {
   "cell_type": "markdown",
   "metadata": {},
   "source": [
    "Смотря на параметры точности и f1_score можно сделать вывод, что эта модель плохо подходит для задачи."
   ]
  },
  {
   "cell_type": "markdown",
   "metadata": {},
   "source": [
    "### KNeighborsClassifier\n",
    "Для проверки модели будем перебирать параметр количества ближайших соседей, а также рассмотрим два варианта \"голосования\":\n",
    "1. Не взвешенный (важно лишь количество соседий того или иного класса)\n",
    "2. Взвешенный (важно также расстояние)"
   ]
  },
  {
   "cell_type": "code",
   "execution_count": 11,
   "metadata": {},
   "outputs": [
    {
     "data": {
      "application/vnd.jupyter.widget-view+json": {
       "model_id": "21958632c7744c61aff8a3c254879e09",
       "version_major": 2,
       "version_minor": 0
      },
      "text/plain": [
       "  0%|          | 0/100 [00:00<?, ?it/s]"
      ]
     },
     "metadata": {},
     "output_type": "display_data"
    },
    {
     "name": "stdout",
     "output_type": "stream",
     "text": [
      "KNeighborsClassifier, лучший способ взвешивания: distance Лучшее количество соседий: 9 Accuracy:  0.7744945567651633 f1_score: 0.5307443365695793\n"
     ]
    }
   ],
   "source": [
    "best_score = 0\n",
    "best_neighbors = 0\n",
    "best_weight = ''\n",
    "best_KNeighborsClassifier = None\n",
    "for neighbors in  tqdm(range(1, 101)):\n",
    "    for weight in 'uniform', 'distance':\n",
    "        model = KNeighborsClassifier(n_neighbors = neighbors, weights = weight)\n",
    "        model.fit(features_train, target_train)\n",
    "        pred = model.predict(features_validate)\n",
    "        if accuracy_score(pred, target_validate) > best_score:\n",
    "            best_score = accuracy_score(pred, target_validate)\n",
    "            best_f1_score = f1_score(pred, target_validate)\n",
    "            best_neighbors = neighbors\n",
    "            best_weight = weight\n",
    "            best_KNeighborsClassifier = model\n",
    "            \n",
    "neighbors_result = ('KNeighborsClassifier, лучший способ взвешивания:', \n",
    "                    best_weight, 'Лучшее количество соседий:',  best_neighbors, 'Accuracy: ', \n",
    "                    best_score, 'f1_score:', best_f1_score )\n",
    "print(*neighbors_result)\n",
    "\n",
    "ml.append(('KNeighborsClassifier', best_score, best_f1_score))"
   ]
  },
  {
   "cell_type": "markdown",
   "metadata": {},
   "source": [
    "### Выбор лучшей модели\n",
    "Выведим список всех наших моделей и их оценок. Первая оценка - точность, вторая - f1_score"
   ]
  },
  {
   "cell_type": "code",
   "execution_count": 12,
   "metadata": {},
   "outputs": [
    {
     "data": {
      "text/plain": [
       "[('DecisionTreeClassifier', 0.8009331259720062, 0.6502732240437159),\n",
       " ('RandomForestClassifier', 0.8180404354587869, 0.6588921282798834),\n",
       " ('LogisticRegression', 0.7325038880248833, 0.3064516129032258),\n",
       " ('KNeighborsClassifier', 0.7744945567651633, 0.5307443365695793)]"
      ]
     },
     "execution_count": 12,
     "metadata": {},
     "output_type": "execute_result"
    }
   ],
   "source": [
    "ml"
   ]
  },
  {
   "cell_type": "markdown",
   "metadata": {},
   "source": [
    "Мы видим, что лучшие показатели у модели RandomForestClassifier"
   ]
  },
  {
   "cell_type": "markdown",
   "metadata": {},
   "source": [
    "## Проверьте модель на тестовой выборке"
   ]
  },
  {
   "cell_type": "markdown",
   "metadata": {},
   "source": [
    "Так как лучшая модель RandomForestClassifier - её и будем использовать."
   ]
  },
  {
   "cell_type": "code",
   "execution_count": 13,
   "metadata": {},
   "outputs": [
    {
     "name": "stdout",
     "output_type": "stream",
     "text": [
      "Accuracy: 0.7900466562986003\n",
      "F1Score: 0.5970149253731343\n"
     ]
    }
   ],
   "source": [
    "pred = best_forest.predict(features_test)\n",
    "print('Accuracy:', accuracy_score(pred, target_test))\n",
    "print('F1Score:', f1_score(pred, target_test))"
   ]
  },
  {
   "cell_type": "markdown",
   "metadata": {},
   "source": [
    "Необходимое значение accuracy - 0.75, наша модель даёт показатель 0.79, что немного лучше необходимого значения. "
   ]
  },
  {
   "cell_type": "code",
   "execution_count": 14,
   "metadata": {},
   "outputs": [
    {
     "name": "stdout",
     "output_type": "stream",
     "text": [
      "Accuracy: 0.7962674961119751\n",
      "F1Score: 0.6042296072507553\n"
     ]
    }
   ],
   "source": [
    "new_f = pd.concat([features_train, features_validate], ignore_index=True)\n",
    "new_t = pd.concat([target_train, target_validate], ignore_index=True)\n",
    "best_forest.fit(new_f,new_t)\n",
    "pred = best_forest.predict(features_test)\n",
    "print('Accuracy:', accuracy_score(pred, target_test))\n",
    "print('F1Score:', f1_score(pred, target_test))"
   ]
  },
  {
   "cell_type": "markdown",
   "metadata": {},
   "source": [
    "## Проверка модели на адекватность"
   ]
  },
  {
   "cell_type": "markdown",
   "metadata": {},
   "source": [
    "Для проверки модели на адекватность будем использовать DummyClassifier из модуля sklearn.dummy. Эта модель вместо предсказания, подставляет значения используя разные стратегии - случайные значения, констнатная (для неё будем использовать наиболее часто встречающееся значение False) и т.п. \n",
    "\n",
    "Используем все возможные стратегии для данной модели и выберим лучший результат, и сравним его с нашим. Если результаты близки, значит наша модель неадекватна, т.е. по сути возвращает случайные значения или наиболее часто встречающиеся вместо предсказания, иначе наша модель имеет смысл."
   ]
  },
  {
   "cell_type": "code",
   "execution_count": 15,
   "metadata": {},
   "outputs": [
    {
     "name": "stdout",
     "output_type": "stream",
     "text": [
      "Лучшая стратегия:  most_frequent accuracy =  0.6905132192846034 f1_score =  0.0\n",
      "Наши значения: accuracy =  0.7962674961119751 f1Score =  0.6042296072507553\n"
     ]
    }
   ],
   "source": [
    "best_score, best_f1_score = 0, 0\n",
    "stra = ''\n",
    "for i in 'most_frequent','prior', 'stratified','uniform', 'constant':\n",
    "    dummy = DummyClassifier(constant = False,strategy= i)\n",
    "    dummy.fit(features_train, target_train)\n",
    "    dpred = dummy.predict(features_test)\n",
    "    if accuracy_score(dpred, target_test) > best_score:\n",
    "        stra = i\n",
    "        best_score = accuracy_score(dpred, target_test)\n",
    "        best_f1_score = f1_score(dpred, target_test)\n",
    "print('Лучшая стратегия: ', stra, 'accuracy = ', best_score,\n",
    "          'f1_score = ', best_f1_score )\n",
    "print('Наши значения: accuracy = ', accuracy_score(pred, target_test), 'f1Score = ', f1_score(pred, target_test))"
   ]
  },
  {
   "cell_type": "markdown",
   "metadata": {},
   "source": [
    "Значение accuracy для  DummyClassifier = 0.69, что значительно ниже нашего значения, следовательно наша модель адекватна."
   ]
  },
  {
   "cell_type": "markdown",
   "metadata": {},
   "source": [
    "### Вывод\n",
    "Лучшая модель для данной выборки - RandomForestClassifier со гиперпараметрами  максимальная глубина -  10, количество деревьев -  10 и минимальное количество данных в листе 1. Также хорошая модель для нашей задачи - DecisionTreeClassifier, но её показатели хуже. Логистическая регрессия и метод К-соседей показали худшие результаты. \n",
    "\n",
    "При проверке на адекватность, наша модель показала положительные результаты. "
   ]
  },
  {
   "cell_type": "code",
   "execution_count": null,
   "metadata": {},
   "outputs": [],
   "source": []
  }
 ],
 "metadata": {
  "ExecuteTimeLog": [
   {
    "duration": 390,
    "start_time": "2022-12-09T00:18:58.295Z"
   },
   {
    "duration": 75,
    "start_time": "2022-12-09T00:18:58.687Z"
   },
   {
    "duration": 8,
    "start_time": "2022-12-09T00:19:59.135Z"
   },
   {
    "duration": 3,
    "start_time": "2022-12-09T00:23:40.278Z"
   },
   {
    "duration": 62,
    "start_time": "2022-12-09T00:24:09.846Z"
   },
   {
    "duration": 2,
    "start_time": "2022-12-09T00:24:21.270Z"
   },
   {
    "duration": 9,
    "start_time": "2022-12-09T00:24:23.726Z"
   },
   {
    "duration": 5,
    "start_time": "2022-12-09T00:24:36.638Z"
   },
   {
    "duration": 8,
    "start_time": "2022-12-09T00:25:39.909Z"
   },
   {
    "duration": 7,
    "start_time": "2022-12-09T00:25:47.500Z"
   },
   {
    "duration": 385,
    "start_time": "2022-12-09T00:26:16.721Z"
   },
   {
    "duration": 29,
    "start_time": "2022-12-09T00:26:17.108Z"
   },
   {
    "duration": 9,
    "start_time": "2022-12-09T00:26:17.138Z"
   },
   {
    "duration": 22,
    "start_time": "2022-12-09T00:26:17.149Z"
   },
   {
    "duration": 11,
    "start_time": "2022-12-09T00:26:17.173Z"
   },
   {
    "duration": 10,
    "start_time": "2022-12-09T00:47:46.673Z"
   },
   {
    "duration": 7,
    "start_time": "2022-12-09T00:47:55.930Z"
   },
   {
    "duration": 7,
    "start_time": "2022-12-09T00:48:39.218Z"
   },
   {
    "duration": 7,
    "start_time": "2022-12-09T00:48:50.946Z"
   },
   {
    "duration": 6,
    "start_time": "2022-12-09T00:49:00.675Z"
   },
   {
    "duration": 1098,
    "start_time": "2022-12-09T00:53:56.890Z"
   },
   {
    "duration": 30,
    "start_time": "2022-12-09T00:53:57.991Z"
   },
   {
    "duration": 10,
    "start_time": "2022-12-09T00:53:58.022Z"
   },
   {
    "duration": 23,
    "start_time": "2022-12-09T00:53:58.034Z"
   },
   {
    "duration": 15,
    "start_time": "2022-12-09T00:53:58.059Z"
   },
   {
    "duration": 1058,
    "start_time": "2022-12-09T20:11:35.489Z"
   },
   {
    "duration": 172,
    "start_time": "2022-12-09T20:11:36.549Z"
   },
   {
    "duration": 9,
    "start_time": "2022-12-09T20:11:36.722Z"
   },
   {
    "duration": 8,
    "start_time": "2022-12-09T20:11:36.733Z"
   },
   {
    "duration": 4,
    "start_time": "2022-12-09T20:11:36.742Z"
   },
   {
    "duration": 3,
    "start_time": "2022-12-09T20:30:16.383Z"
   },
   {
    "duration": 1114,
    "start_time": "2022-12-09T20:31:07.232Z"
   },
   {
    "duration": 29,
    "start_time": "2022-12-09T20:31:08.348Z"
   },
   {
    "duration": 9,
    "start_time": "2022-12-09T20:31:08.379Z"
   },
   {
    "duration": 10,
    "start_time": "2022-12-09T20:31:08.390Z"
   },
   {
    "duration": 5,
    "start_time": "2022-12-09T20:31:08.401Z"
   },
   {
    "duration": 1103,
    "start_time": "2022-12-09T22:46:35.854Z"
   },
   {
    "duration": 29,
    "start_time": "2022-12-09T22:46:36.959Z"
   },
   {
    "duration": 11,
    "start_time": "2022-12-09T22:46:36.989Z"
   },
   {
    "duration": 9,
    "start_time": "2022-12-09T22:46:37.001Z"
   },
   {
    "duration": 5,
    "start_time": "2022-12-09T22:46:37.012Z"
   },
   {
    "duration": 3,
    "start_time": "2022-12-09T22:49:49.378Z"
   },
   {
    "duration": 258,
    "start_time": "2022-12-09T22:53:16.527Z"
   },
   {
    "duration": 280,
    "start_time": "2022-12-09T22:53:45.280Z"
   },
   {
    "duration": 199,
    "start_time": "2022-12-09T22:55:30.263Z"
   },
   {
    "duration": 201,
    "start_time": "2022-12-09T22:59:41.283Z"
   },
   {
    "duration": 290,
    "start_time": "2022-12-09T23:00:00.784Z"
   },
   {
    "duration": 350,
    "start_time": "2022-12-09T23:00:37.257Z"
   },
   {
    "duration": 266,
    "start_time": "2022-12-09T23:00:42.512Z"
   },
   {
    "duration": 265,
    "start_time": "2022-12-09T23:00:58.311Z"
   },
   {
    "duration": 275,
    "start_time": "2022-12-09T23:01:04.927Z"
   },
   {
    "duration": 281,
    "start_time": "2022-12-09T23:01:13.032Z"
   },
   {
    "duration": 259,
    "start_time": "2022-12-09T23:01:48.401Z"
   },
   {
    "duration": 271,
    "start_time": "2022-12-09T23:02:00.519Z"
   },
   {
    "duration": 11,
    "start_time": "2022-12-09T23:11:39.005Z"
   },
   {
    "duration": 1162,
    "start_time": "2022-12-09T23:11:45.851Z"
   },
   {
    "duration": 28,
    "start_time": "2022-12-09T23:11:47.015Z"
   },
   {
    "duration": 8,
    "start_time": "2022-12-09T23:11:47.045Z"
   },
   {
    "duration": 11,
    "start_time": "2022-12-09T23:11:47.054Z"
   },
   {
    "duration": 5,
    "start_time": "2022-12-09T23:11:47.067Z"
   },
   {
    "duration": 262,
    "start_time": "2022-12-09T23:11:47.073Z"
   },
   {
    "duration": 112,
    "start_time": "2022-12-09T23:11:47.337Z"
   },
   {
    "duration": 19,
    "start_time": "2022-12-09T23:13:17.830Z"
   },
   {
    "duration": 275,
    "start_time": "2022-12-09T23:13:35.701Z"
   },
   {
    "duration": 5,
    "start_time": "2022-12-09T23:14:11.615Z"
   },
   {
    "duration": 6,
    "start_time": "2022-12-09T23:14:52.749Z"
   },
   {
    "duration": 24,
    "start_time": "2022-12-09T23:15:27.982Z"
   },
   {
    "duration": 17,
    "start_time": "2022-12-09T23:15:41.349Z"
   },
   {
    "duration": 321,
    "start_time": "2022-12-09T23:15:49.318Z"
   },
   {
    "duration": 285,
    "start_time": "2022-12-09T23:15:58.445Z"
   },
   {
    "duration": 23,
    "start_time": "2022-12-09T23:19:01.581Z"
   },
   {
    "duration": 11,
    "start_time": "2022-12-09T23:19:45.189Z"
   },
   {
    "duration": 1022,
    "start_time": "2022-12-09T23:19:54.203Z"
   },
   {
    "duration": 28,
    "start_time": "2022-12-09T23:19:55.227Z"
   },
   {
    "duration": 9,
    "start_time": "2022-12-09T23:19:55.257Z"
   },
   {
    "duration": 15,
    "start_time": "2022-12-09T23:19:55.267Z"
   },
   {
    "duration": 7,
    "start_time": "2022-12-09T23:19:55.283Z"
   },
   {
    "duration": 277,
    "start_time": "2022-12-09T23:19:55.291Z"
   },
   {
    "duration": 7927,
    "start_time": "2022-12-09T23:19:55.569Z"
   },
   {
    "duration": 8079,
    "start_time": "2022-12-09T23:20:16.891Z"
   },
   {
    "duration": 3127,
    "start_time": "2022-12-09T23:21:36.044Z"
   },
   {
    "duration": 1023,
    "start_time": "2022-12-09T23:22:16.819Z"
   },
   {
    "duration": 29,
    "start_time": "2022-12-09T23:22:17.844Z"
   },
   {
    "duration": 8,
    "start_time": "2022-12-09T23:22:17.874Z"
   },
   {
    "duration": 7,
    "start_time": "2022-12-09T23:22:17.884Z"
   },
   {
    "duration": 5,
    "start_time": "2022-12-09T23:22:17.892Z"
   },
   {
    "duration": 275,
    "start_time": "2022-12-09T23:22:17.898Z"
   },
   {
    "duration": 7855,
    "start_time": "2022-12-09T23:22:18.175Z"
   },
   {
    "duration": 29950,
    "start_time": "2022-12-09T23:25:21.283Z"
   },
   {
    "duration": 8,
    "start_time": "2022-12-09T23:30:29.905Z"
   },
   {
    "duration": 111,
    "start_time": "2022-12-09T23:31:08.361Z"
   },
   {
    "duration": 1072,
    "start_time": "2022-12-09T23:31:22.303Z"
   },
   {
    "duration": 30,
    "start_time": "2022-12-09T23:31:23.377Z"
   },
   {
    "duration": 10,
    "start_time": "2022-12-09T23:31:23.409Z"
   },
   {
    "duration": 12,
    "start_time": "2022-12-09T23:31:23.421Z"
   },
   {
    "duration": 9,
    "start_time": "2022-12-09T23:31:23.435Z"
   },
   {
    "duration": 300,
    "start_time": "2022-12-09T23:31:23.445Z"
   },
   {
    "duration": 109,
    "start_time": "2022-12-09T23:31:23.747Z"
   },
   {
    "duration": 30543,
    "start_time": "2022-12-09T23:31:47.545Z"
   },
   {
    "duration": 35,
    "start_time": "2022-12-09T23:34:08.865Z"
   },
   {
    "duration": 30409,
    "start_time": "2022-12-09T23:34:11.898Z"
   },
   {
    "duration": 309,
    "start_time": "2022-12-09T23:34:56.809Z"
   },
   {
    "duration": 10,
    "start_time": "2022-12-09T23:40:21.552Z"
   },
   {
    "duration": 9,
    "start_time": "2022-12-09T23:40:27.464Z"
   },
   {
    "duration": 9,
    "start_time": "2022-12-09T23:44:21.375Z"
   },
   {
    "duration": 1018,
    "start_time": "2022-12-09T23:44:28.310Z"
   },
   {
    "duration": 29,
    "start_time": "2022-12-09T23:44:29.330Z"
   },
   {
    "duration": 8,
    "start_time": "2022-12-09T23:44:29.360Z"
   },
   {
    "duration": 17,
    "start_time": "2022-12-09T23:44:29.369Z"
   },
   {
    "duration": 8,
    "start_time": "2022-12-09T23:44:29.388Z"
   },
   {
    "duration": 317,
    "start_time": "2022-12-09T23:44:29.397Z"
   },
   {
    "duration": 30372,
    "start_time": "2022-12-09T23:44:29.716Z"
   },
   {
    "duration": 217,
    "start_time": "2022-12-09T23:45:00.090Z"
   },
   {
    "duration": 63,
    "start_time": "2022-12-10T00:00:53.508Z"
   },
   {
    "duration": 3,
    "start_time": "2022-12-10T00:00:59.908Z"
   },
   {
    "duration": 196,
    "start_time": "2022-12-10T00:05:02.779Z"
   },
   {
    "duration": 3198,
    "start_time": "2022-12-10T00:08:20.186Z"
   },
   {
    "duration": 114,
    "start_time": "2022-12-10T00:09:01.795Z"
   },
   {
    "duration": 3274,
    "start_time": "2022-12-10T00:09:14.246Z"
   },
   {
    "duration": 1113,
    "start_time": "2022-12-10T00:22:00.823Z"
   },
   {
    "duration": 30,
    "start_time": "2022-12-10T00:22:01.937Z"
   },
   {
    "duration": 9,
    "start_time": "2022-12-10T00:22:01.968Z"
   },
   {
    "duration": 22,
    "start_time": "2022-12-10T00:22:01.978Z"
   },
   {
    "duration": 45,
    "start_time": "2022-12-10T00:22:02.002Z"
   },
   {
    "duration": 342,
    "start_time": "2022-12-10T00:22:02.049Z"
   },
   {
    "duration": 31033,
    "start_time": "2022-12-10T00:22:02.393Z"
   },
   {
    "duration": 220,
    "start_time": "2022-12-10T00:22:33.428Z"
   },
   {
    "duration": 3158,
    "start_time": "2022-12-10T00:22:33.655Z"
   },
   {
    "duration": 3092,
    "start_time": "2022-12-10T00:23:39.121Z"
   },
   {
    "duration": 3542,
    "start_time": "2022-12-10T00:24:01.331Z"
   },
   {
    "duration": 3,
    "start_time": "2022-12-10T00:24:55.127Z"
   },
   {
    "duration": 7,
    "start_time": "2022-12-10T00:25:00.088Z"
   },
   {
    "duration": 3,
    "start_time": "2022-12-10T00:25:07.653Z"
   },
   {
    "duration": 6,
    "start_time": "2022-12-10T00:27:15.998Z"
   },
   {
    "duration": 6,
    "start_time": "2022-12-10T00:27:22.784Z"
   },
   {
    "duration": 3,
    "start_time": "2022-12-10T00:27:49.639Z"
   },
   {
    "duration": 315,
    "start_time": "2022-12-10T00:28:50.970Z"
   },
   {
    "duration": 1217,
    "start_time": "2022-12-10T00:29:27.034Z"
   },
   {
    "duration": 30,
    "start_time": "2022-12-10T00:29:28.253Z"
   },
   {
    "duration": 9,
    "start_time": "2022-12-10T00:29:28.285Z"
   },
   {
    "duration": 15,
    "start_time": "2022-12-10T00:29:28.296Z"
   },
   {
    "duration": 6,
    "start_time": "2022-12-10T00:29:28.313Z"
   },
   {
    "duration": 7,
    "start_time": "2022-12-10T00:29:28.321Z"
   },
   {
    "duration": 360,
    "start_time": "2022-12-10T00:29:28.330Z"
   },
   {
    "duration": 30314,
    "start_time": "2022-12-10T00:29:28.692Z"
   },
   {
    "duration": 199,
    "start_time": "2022-12-10T00:29:59.008Z"
   },
   {
    "duration": 3375,
    "start_time": "2022-12-10T00:29:59.208Z"
   },
   {
    "duration": 198,
    "start_time": "2022-12-10T00:30:16.263Z"
   },
   {
    "duration": 3373,
    "start_time": "2022-12-10T00:30:54.282Z"
   },
   {
    "duration": 4,
    "start_time": "2022-12-10T00:31:03.758Z"
   },
   {
    "duration": 111,
    "start_time": "2022-12-10T00:32:51.471Z"
   },
   {
    "duration": 10,
    "start_time": "2022-12-10T00:34:34.245Z"
   },
   {
    "duration": 35,
    "start_time": "2022-12-10T00:35:07.950Z"
   },
   {
    "duration": 3297,
    "start_time": "2022-12-10T00:35:16.014Z"
   },
   {
    "duration": 863,
    "start_time": "2022-12-10T00:39:39.380Z"
   },
   {
    "duration": 30,
    "start_time": "2022-12-10T00:39:59.388Z"
   },
   {
    "duration": 3,
    "start_time": "2022-12-10T00:40:52.091Z"
   },
   {
    "duration": 21,
    "start_time": "2022-12-10T00:43:46.945Z"
   },
   {
    "duration": 1082,
    "start_time": "2022-12-10T00:43:53.082Z"
   },
   {
    "duration": 30,
    "start_time": "2022-12-10T00:43:54.166Z"
   },
   {
    "duration": 9,
    "start_time": "2022-12-10T00:43:54.197Z"
   },
   {
    "duration": 12,
    "start_time": "2022-12-10T00:43:54.207Z"
   },
   {
    "duration": 5,
    "start_time": "2022-12-10T00:43:54.221Z"
   },
   {
    "duration": 6,
    "start_time": "2022-12-10T00:43:54.227Z"
   },
   {
    "duration": 350,
    "start_time": "2022-12-10T00:43:54.234Z"
   },
   {
    "duration": 30316,
    "start_time": "2022-12-10T00:43:54.585Z"
   },
   {
    "duration": 214,
    "start_time": "2022-12-10T00:44:24.903Z"
   },
   {
    "duration": 3298,
    "start_time": "2022-12-10T00:44:25.118Z"
   },
   {
    "duration": 4,
    "start_time": "2022-12-10T00:44:28.418Z"
   },
   {
    "duration": 11,
    "start_time": "2022-12-10T00:44:28.424Z"
   },
   {
    "duration": 120,
    "start_time": "2022-12-10T00:44:28.437Z"
   },
   {
    "duration": 28,
    "start_time": "2022-12-10T00:46:32.882Z"
   },
   {
    "duration": 22,
    "start_time": "2022-12-10T00:46:42.884Z"
   },
   {
    "duration": 22,
    "start_time": "2022-12-10T00:47:36.410Z"
   },
   {
    "duration": 20,
    "start_time": "2022-12-10T00:47:50.260Z"
   },
   {
    "duration": 15,
    "start_time": "2022-12-10T00:50:22.361Z"
   },
   {
    "duration": 11,
    "start_time": "2022-12-10T00:52:42.129Z"
   },
   {
    "duration": 10,
    "start_time": "2022-12-10T00:52:46.937Z"
   },
   {
    "duration": 10,
    "start_time": "2022-12-10T00:53:08.763Z"
   },
   {
    "duration": 11,
    "start_time": "2022-12-10T00:54:13.974Z"
   },
   {
    "duration": 37,
    "start_time": "2022-12-10T00:58:59.348Z"
   },
   {
    "duration": 331,
    "start_time": "2022-12-10T01:03:33.657Z"
   },
   {
    "duration": 30394,
    "start_time": "2022-12-10T01:06:42.918Z"
   },
   {
    "duration": 10,
    "start_time": "2022-12-10T01:09:37.959Z"
   },
   {
    "duration": 1044,
    "start_time": "2022-12-10T01:09:50.995Z"
   },
   {
    "duration": 37,
    "start_time": "2022-12-10T01:09:52.041Z"
   },
   {
    "duration": 8,
    "start_time": "2022-12-10T01:09:52.079Z"
   },
   {
    "duration": 9,
    "start_time": "2022-12-10T01:09:52.088Z"
   },
   {
    "duration": 4,
    "start_time": "2022-12-10T01:09:52.099Z"
   },
   {
    "duration": 327,
    "start_time": "2022-12-10T01:09:52.105Z"
   },
   {
    "duration": 30337,
    "start_time": "2022-12-10T01:09:52.434Z"
   },
   {
    "duration": 126,
    "start_time": "2022-12-10T01:10:22.772Z"
   },
   {
    "duration": 0,
    "start_time": "2022-12-10T01:10:22.899Z"
   },
   {
    "duration": 0,
    "start_time": "2022-12-10T01:10:22.901Z"
   },
   {
    "duration": 0,
    "start_time": "2022-12-10T01:10:22.902Z"
   },
   {
    "duration": 0,
    "start_time": "2022-12-10T01:10:22.903Z"
   },
   {
    "duration": 382,
    "start_time": "2022-12-10T01:10:37.152Z"
   },
   {
    "duration": 334,
    "start_time": "2022-12-10T01:12:29.567Z"
   },
   {
    "duration": 1170,
    "start_time": "2022-12-10T01:15:45.062Z"
   },
   {
    "duration": 35,
    "start_time": "2022-12-10T01:15:46.234Z"
   },
   {
    "duration": 8,
    "start_time": "2022-12-10T01:15:46.271Z"
   },
   {
    "duration": 8,
    "start_time": "2022-12-10T01:15:46.280Z"
   },
   {
    "duration": 4,
    "start_time": "2022-12-10T01:15:46.290Z"
   },
   {
    "duration": 361,
    "start_time": "2022-12-10T01:15:46.296Z"
   },
   {
    "duration": 30550,
    "start_time": "2022-12-10T01:15:46.659Z"
   },
   {
    "duration": 363,
    "start_time": "2022-12-10T01:16:17.211Z"
   },
   {
    "duration": 3355,
    "start_time": "2022-12-10T01:16:17.576Z"
   },
   {
    "duration": 4,
    "start_time": "2022-12-10T01:16:20.932Z"
   },
   {
    "duration": 22,
    "start_time": "2022-12-10T01:16:20.938Z"
   },
   {
    "duration": 18,
    "start_time": "2022-12-10T01:16:20.961Z"
   },
   {
    "duration": 11,
    "start_time": "2022-12-10T01:21:38.589Z"
   },
   {
    "duration": 11,
    "start_time": "2022-12-10T01:21:40.550Z"
   },
   {
    "duration": 11,
    "start_time": "2022-12-10T01:25:07.214Z"
   },
   {
    "duration": 1177,
    "start_time": "2022-12-10T01:27:59.975Z"
   },
   {
    "duration": 37,
    "start_time": "2022-12-10T01:28:01.154Z"
   },
   {
    "duration": 9,
    "start_time": "2022-12-10T01:28:01.194Z"
   },
   {
    "duration": 29,
    "start_time": "2022-12-10T01:28:01.205Z"
   },
   {
    "duration": 20,
    "start_time": "2022-12-10T01:28:01.236Z"
   },
   {
    "duration": 330,
    "start_time": "2022-12-10T01:28:01.258Z"
   },
   {
    "duration": 30644,
    "start_time": "2022-12-10T01:28:01.590Z"
   },
   {
    "duration": 354,
    "start_time": "2022-12-10T01:28:32.236Z"
   },
   {
    "duration": 3265,
    "start_time": "2022-12-10T01:28:32.592Z"
   },
   {
    "duration": 5,
    "start_time": "2022-12-10T01:28:35.859Z"
   },
   {
    "duration": 13,
    "start_time": "2022-12-10T01:28:35.865Z"
   },
   {
    "duration": 15,
    "start_time": "2022-12-10T01:28:35.879Z"
   },
   {
    "duration": 124,
    "start_time": "2022-12-10T01:34:27.714Z"
   },
   {
    "duration": 409,
    "start_time": "2022-12-10T01:34:53.358Z"
   },
   {
    "duration": 1135,
    "start_time": "2022-12-10T01:35:55.415Z"
   },
   {
    "duration": 37,
    "start_time": "2022-12-10T01:35:56.552Z"
   },
   {
    "duration": 10,
    "start_time": "2022-12-10T01:35:56.591Z"
   },
   {
    "duration": 8,
    "start_time": "2022-12-10T01:35:56.603Z"
   },
   {
    "duration": 5,
    "start_time": "2022-12-10T01:35:56.613Z"
   },
   {
    "duration": 362,
    "start_time": "2022-12-10T01:35:56.620Z"
   },
   {
    "duration": 30215,
    "start_time": "2022-12-10T01:35:56.984Z"
   },
   {
    "duration": 413,
    "start_time": "2022-12-10T01:36:27.201Z"
   },
   {
    "duration": 3316,
    "start_time": "2022-12-10T01:36:27.616Z"
   },
   {
    "duration": 4,
    "start_time": "2022-12-10T01:36:30.933Z"
   },
   {
    "duration": 27,
    "start_time": "2022-12-10T01:36:30.939Z"
   },
   {
    "duration": 39,
    "start_time": "2022-12-10T01:36:30.967Z"
   },
   {
    "duration": 12,
    "start_time": "2022-12-10T01:42:14.753Z"
   },
   {
    "duration": 233,
    "start_time": "2022-12-10T01:42:50.689Z"
   },
   {
    "duration": 12,
    "start_time": "2022-12-10T01:43:50.857Z"
   },
   {
    "duration": 6,
    "start_time": "2022-12-10T01:44:08.268Z"
   },
   {
    "duration": 43,
    "start_time": "2022-12-10T01:44:18.183Z"
   },
   {
    "duration": 48,
    "start_time": "2022-12-10T01:44:30.488Z"
   },
   {
    "duration": 43,
    "start_time": "2022-12-10T01:44:38.719Z"
   },
   {
    "duration": 5,
    "start_time": "2022-12-10T01:44:44.545Z"
   },
   {
    "duration": 16,
    "start_time": "2022-12-10T01:45:30.206Z"
   },
   {
    "duration": 11,
    "start_time": "2022-12-10T01:45:35.624Z"
   },
   {
    "duration": 11,
    "start_time": "2022-12-10T01:45:53.279Z"
   },
   {
    "duration": 14,
    "start_time": "2022-12-10T01:46:04.441Z"
   },
   {
    "duration": 11,
    "start_time": "2022-12-10T01:46:07.951Z"
   },
   {
    "duration": 6,
    "start_time": "2022-12-10T01:46:22.887Z"
   },
   {
    "duration": 7,
    "start_time": "2022-12-10T01:46:29.504Z"
   },
   {
    "duration": 6,
    "start_time": "2022-12-10T01:46:40.591Z"
   },
   {
    "duration": 9,
    "start_time": "2022-12-10T01:47:01.025Z"
   },
   {
    "duration": 11,
    "start_time": "2022-12-10T01:47:55.078Z"
   },
   {
    "duration": 12,
    "start_time": "2022-12-10T01:48:04.440Z"
   },
   {
    "duration": 10,
    "start_time": "2022-12-10T01:48:17.688Z"
   },
   {
    "duration": 9,
    "start_time": "2022-12-10T01:48:46.679Z"
   },
   {
    "duration": 101,
    "start_time": "2022-12-10T01:48:51.202Z"
   },
   {
    "duration": 282,
    "start_time": "2022-12-10T01:48:53.663Z"
   },
   {
    "duration": 4,
    "start_time": "2022-12-10T01:49:48.439Z"
   },
   {
    "duration": 366,
    "start_time": "2022-12-10T01:50:51.470Z"
   },
   {
    "duration": 280,
    "start_time": "2022-12-10T01:51:03.837Z"
   },
   {
    "duration": 280,
    "start_time": "2022-12-10T01:51:10.607Z"
   },
   {
    "duration": 267,
    "start_time": "2022-12-10T01:51:44.359Z"
   },
   {
    "duration": 255,
    "start_time": "2022-12-10T01:51:51.535Z"
   },
   {
    "duration": 224,
    "start_time": "2022-12-10T01:51:57.886Z"
   },
   {
    "duration": 258,
    "start_time": "2022-12-10T01:52:05.510Z"
   },
   {
    "duration": 230,
    "start_time": "2022-12-10T01:52:44.869Z"
   },
   {
    "duration": 239,
    "start_time": "2022-12-10T01:53:43.766Z"
   },
   {
    "duration": 268,
    "start_time": "2022-12-10T01:53:53.605Z"
   },
   {
    "duration": 220,
    "start_time": "2022-12-10T01:54:09.275Z"
   },
   {
    "duration": 329,
    "start_time": "2022-12-10T01:54:17.094Z"
   },
   {
    "duration": 265,
    "start_time": "2022-12-10T01:54:35.077Z"
   },
   {
    "duration": 255,
    "start_time": "2022-12-10T01:54:58.068Z"
   },
   {
    "duration": 279,
    "start_time": "2022-12-10T01:55:21.927Z"
   },
   {
    "duration": 1434,
    "start_time": "2022-12-10T01:55:48.738Z"
   },
   {
    "duration": 38,
    "start_time": "2022-12-10T01:55:50.174Z"
   },
   {
    "duration": 286,
    "start_time": "2022-12-10T01:55:50.213Z"
   },
   {
    "duration": 4,
    "start_time": "2022-12-10T01:55:50.501Z"
   },
   {
    "duration": 11,
    "start_time": "2022-12-10T01:55:50.507Z"
   },
   {
    "duration": 5,
    "start_time": "2022-12-10T01:55:50.520Z"
   },
   {
    "duration": 359,
    "start_time": "2022-12-10T01:55:50.527Z"
   },
   {
    "duration": 30133,
    "start_time": "2022-12-10T01:55:50.888Z"
   },
   {
    "duration": 391,
    "start_time": "2022-12-10T01:56:21.023Z"
   },
   {
    "duration": 3279,
    "start_time": "2022-12-10T01:56:21.415Z"
   },
   {
    "duration": 4,
    "start_time": "2022-12-10T01:56:24.696Z"
   },
   {
    "duration": 15,
    "start_time": "2022-12-10T01:56:24.701Z"
   },
   {
    "duration": 12,
    "start_time": "2022-12-10T01:56:24.718Z"
   },
   {
    "duration": 226,
    "start_time": "2022-12-10T01:58:25.284Z"
   },
   {
    "duration": 29995,
    "start_time": "2022-12-10T02:07:11.006Z"
   },
   {
    "duration": 37975,
    "start_time": "2022-12-10T02:09:41.524Z"
   },
   {
    "duration": 1419,
    "start_time": "2022-12-10T02:11:03.928Z"
   },
   {
    "duration": 37,
    "start_time": "2022-12-10T02:11:05.349Z"
   },
   {
    "duration": 237,
    "start_time": "2022-12-10T02:11:05.387Z"
   },
   {
    "duration": 4,
    "start_time": "2022-12-10T02:11:05.626Z"
   },
   {
    "duration": 24,
    "start_time": "2022-12-10T02:11:05.632Z"
   },
   {
    "duration": 8,
    "start_time": "2022-12-10T02:11:05.657Z"
   },
   {
    "duration": 355,
    "start_time": "2022-12-10T02:11:05.667Z"
   },
   {
    "duration": 38329,
    "start_time": "2022-12-10T02:11:06.024Z"
   },
   {
    "duration": 411,
    "start_time": "2022-12-10T02:11:44.355Z"
   },
   {
    "duration": 3456,
    "start_time": "2022-12-10T02:11:44.768Z"
   },
   {
    "duration": 3,
    "start_time": "2022-12-10T02:11:48.226Z"
   },
   {
    "duration": 29,
    "start_time": "2022-12-10T02:11:48.231Z"
   },
   {
    "duration": 11,
    "start_time": "2022-12-10T02:11:48.261Z"
   },
   {
    "duration": 1916,
    "start_time": "2022-12-10T06:23:56.521Z"
   },
   {
    "duration": 83,
    "start_time": "2022-12-10T06:23:58.440Z"
   },
   {
    "duration": 271,
    "start_time": "2022-12-10T06:23:58.524Z"
   },
   {
    "duration": 4,
    "start_time": "2022-12-10T06:23:58.797Z"
   },
   {
    "duration": 8,
    "start_time": "2022-12-10T06:23:58.803Z"
   },
   {
    "duration": 6,
    "start_time": "2022-12-10T06:23:58.813Z"
   },
   {
    "duration": 364,
    "start_time": "2022-12-10T06:23:58.821Z"
   },
   {
    "duration": 37299,
    "start_time": "2022-12-10T06:23:59.187Z"
   },
   {
    "duration": 394,
    "start_time": "2022-12-10T06:24:36.487Z"
   },
   {
    "duration": 3272,
    "start_time": "2022-12-10T06:24:36.883Z"
   },
   {
    "duration": 4,
    "start_time": "2022-12-10T06:24:40.157Z"
   },
   {
    "duration": 29,
    "start_time": "2022-12-10T06:24:40.162Z"
   },
   {
    "duration": 13,
    "start_time": "2022-12-10T06:24:40.193Z"
   },
   {
    "duration": 1824,
    "start_time": "2022-12-11T01:15:13.708Z"
   },
   {
    "duration": 128,
    "start_time": "2022-12-11T01:16:57.482Z"
   },
   {
    "duration": 1591,
    "start_time": "2022-12-11T01:17:04.832Z"
   },
   {
    "duration": 87,
    "start_time": "2022-12-11T01:17:06.426Z"
   },
   {
    "duration": 341,
    "start_time": "2022-12-11T01:17:06.516Z"
   },
   {
    "duration": 5,
    "start_time": "2022-12-11T01:17:06.860Z"
   },
   {
    "duration": 11,
    "start_time": "2022-12-11T01:17:06.867Z"
   },
   {
    "duration": 8,
    "start_time": "2022-12-11T01:17:06.880Z"
   },
   {
    "duration": 432,
    "start_time": "2022-12-11T01:17:06.890Z"
   },
   {
    "duration": 512,
    "start_time": "2022-12-11T01:17:07.324Z"
   },
   {
    "duration": 1561,
    "start_time": "2022-12-11T01:17:31.892Z"
   },
   {
    "duration": 39,
    "start_time": "2022-12-11T01:17:33.455Z"
   },
   {
    "duration": 297,
    "start_time": "2022-12-11T01:17:33.496Z"
   },
   {
    "duration": 5,
    "start_time": "2022-12-11T01:17:33.796Z"
   },
   {
    "duration": 9,
    "start_time": "2022-12-11T01:17:33.804Z"
   },
   {
    "duration": 7,
    "start_time": "2022-12-11T01:17:33.816Z"
   },
   {
    "duration": 451,
    "start_time": "2022-12-11T01:17:33.825Z"
   },
   {
    "duration": 529,
    "start_time": "2022-12-11T01:17:34.278Z"
   },
   {
    "duration": 44061,
    "start_time": "2022-12-11T01:17:34.808Z"
   },
   {
    "duration": 565,
    "start_time": "2022-12-11T01:18:18.872Z"
   },
   {
    "duration": 4025,
    "start_time": "2022-12-11T01:18:19.438Z"
   },
   {
    "duration": 4,
    "start_time": "2022-12-11T01:18:23.465Z"
   },
   {
    "duration": 12,
    "start_time": "2022-12-11T01:18:23.471Z"
   },
   {
    "duration": 16,
    "start_time": "2022-12-11T01:18:23.486Z"
   },
   {
    "duration": 644,
    "start_time": "2022-12-11T01:18:43.920Z"
   },
   {
    "duration": 6,
    "start_time": "2022-12-11T01:27:51.670Z"
   },
   {
    "duration": 41882,
    "start_time": "2022-12-11T01:28:09.591Z"
   },
   {
    "duration": 11381,
    "start_time": "2022-12-11T01:29:13.639Z"
   },
   {
    "duration": 11479,
    "start_time": "2022-12-11T01:29:36.503Z"
   },
   {
    "duration": 6,
    "start_time": "2022-12-11T01:30:11.759Z"
   },
   {
    "duration": 4,
    "start_time": "2022-12-11T02:03:40.481Z"
   },
   {
    "duration": 55,
    "start_time": "2022-12-11T02:04:35.955Z"
   },
   {
    "duration": 49,
    "start_time": "2023-03-24T21:43:53.686Z"
   },
   {
    "duration": 1652,
    "start_time": "2023-08-28T13:09:06.304Z"
   },
   {
    "duration": 76,
    "start_time": "2023-08-28T13:09:07.958Z"
   },
   {
    "duration": 332,
    "start_time": "2023-08-28T13:09:08.036Z"
   },
   {
    "duration": 4,
    "start_time": "2023-08-28T13:09:08.370Z"
   },
   {
    "duration": 11,
    "start_time": "2023-08-28T13:09:08.376Z"
   },
   {
    "duration": 9,
    "start_time": "2023-08-28T13:09:08.388Z"
   },
   {
    "duration": 331,
    "start_time": "2023-08-28T13:09:08.399Z"
   },
   {
    "duration": 561,
    "start_time": "2023-08-28T13:09:08.732Z"
   },
   {
    "duration": 38896,
    "start_time": "2023-08-28T13:09:09.295Z"
   },
   {
    "duration": 444,
    "start_time": "2023-08-28T13:09:48.194Z"
   },
   {
    "duration": 3337,
    "start_time": "2023-08-28T13:09:48.639Z"
   },
   {
    "duration": 4,
    "start_time": "2023-08-28T13:09:51.978Z"
   },
   {
    "duration": 24,
    "start_time": "2023-08-28T13:09:51.983Z"
   },
   {
    "duration": 78,
    "start_time": "2023-08-28T13:09:52.009Z"
   },
   {
    "duration": 12,
    "start_time": "2023-08-28T13:09:52.089Z"
   }
  ],
  "kernelspec": {
   "display_name": "Python 3 (ipykernel)",
   "language": "python",
   "name": "python3"
  },
  "language_info": {
   "codemirror_mode": {
    "name": "ipython",
    "version": 3
   },
   "file_extension": ".py",
   "mimetype": "text/x-python",
   "name": "python",
   "nbconvert_exporter": "python",
   "pygments_lexer": "ipython3",
   "version": "3.9.5"
  },
  "toc": {
   "base_numbering": 1,
   "nav_menu": {},
   "number_sections": true,
   "sideBar": true,
   "skip_h1_title": true,
   "title_cell": "Table of Contents",
   "title_sidebar": "Contents",
   "toc_cell": false,
   "toc_position": {},
   "toc_section_display": true,
   "toc_window_display": false
  }
 },
 "nbformat": 4,
 "nbformat_minor": 2
}
