{
 "cells": [
  {
   "cell_type": "markdown",
   "metadata": {},
   "source": [
    "# Выбор локации для скважины"
   ]
  },
  {
   "cell_type": "markdown",
   "metadata": {},
   "source": [
    "Допустим, вы работаете в добывающей компании «ГлавРосГосНефть». Нужно решить, где бурить новую скважину.\n",
    "\n",
    "Вам предоставлены пробы нефти в трёх регионах: в каждом 10 000 месторождений, где измерили качество нефти и объём её запасов. Постройте модель машинного обучения, которая поможет определить регион, где добыча принесёт наибольшую прибыль. Проанализируйте возможную прибыль и риски техникой *Bootstrap.*\n",
    "\n",
    "Шаги для выбора локации:\n",
    "\n",
    "- В избранном регионе ищут месторождения, для каждого определяют значения признаков;\n",
    "- Строят модель и оценивают объём запасов;\n",
    "- Выбирают месторождения с самым высокими оценками значений. Количество месторождений зависит от бюджета компании и стоимости разработки одной скважины;\n",
    "- Прибыль равна суммарной прибыли отобранных месторождений."
   ]
  },
  {
   "cell_type": "markdown",
   "metadata": {},
   "source": [
    "## Загрузка и подготовка данных"
   ]
  },
  {
   "cell_type": "markdown",
   "metadata": {},
   "source": [
    "Загружаем основные модули"
   ]
  },
  {
   "cell_type": "code",
   "execution_count": 1,
   "metadata": {},
   "outputs": [],
   "source": [
    "import pandas as pd\n",
    "from sklearn.preprocessing import StandardScaler \n",
    "from sklearn.model_selection import train_test_split\n",
    "import numpy as np\n",
    "\n",
    "from sklearn.metrics import mean_squared_error # для расчета MSE и RMSE\n",
    "from sklearn.linear_model import LinearRegression # линейная регрессия\n",
    "from scipy import stats as st # для доверительного интервала"
   ]
  },
  {
   "cell_type": "markdown",
   "metadata": {},
   "source": [
    "Загружаем дополнительные модули"
   ]
  },
  {
   "cell_type": "code",
   "execution_count": 2,
   "metadata": {},
   "outputs": [],
   "source": [
    "import seaborn as sns \n",
    "from matplotlib import pyplot as plt\n",
    "import warnings\n",
    "warnings.filterwarnings('ignore')"
   ]
  },
  {
   "cell_type": "markdown",
   "metadata": {},
   "source": [
    "Загружаем данные"
   ]
  },
  {
   "cell_type": "code",
   "execution_count": 3,
   "metadata": {},
   "outputs": [],
   "source": [
    "geo = []\n",
    "for i in range(3):\n",
    "    try:\n",
    "        geo.append(pd.read_csv('geo_data_'+ str(i) +'.csv', sep=','))\n",
    "    except:\n",
    "        geo.append(pd.read_csv('https://code.s3.yandex.net/datasets/geo_data_'+ str(i) + '.csv', sep=','))"
   ]
  },
  {
   "cell_type": "markdown",
   "metadata": {},
   "source": [
    "Смотрим инфо данных"
   ]
  },
  {
   "cell_type": "code",
   "execution_count": 4,
   "metadata": {},
   "outputs": [
    {
     "name": "stdout",
     "output_type": "stream",
     "text": [
      "<class 'pandas.core.frame.DataFrame'>\n",
      "RangeIndex: 100000 entries, 0 to 99999\n",
      "Data columns (total 5 columns):\n",
      " #   Column   Non-Null Count   Dtype  \n",
      "---  ------   --------------   -----  \n",
      " 0   id       100000 non-null  object \n",
      " 1   f0       100000 non-null  float64\n",
      " 2   f1       100000 non-null  float64\n",
      " 3   f2       100000 non-null  float64\n",
      " 4   product  100000 non-null  float64\n",
      "dtypes: float64(4), object(1)\n",
      "memory usage: 3.8+ MB\n"
     ]
    },
    {
     "data": {
      "text/plain": [
       "None"
      ]
     },
     "metadata": {},
     "output_type": "display_data"
    },
    {
     "data": {
      "text/html": [
       "<div>\n",
       "<style scoped>\n",
       "    .dataframe tbody tr th:only-of-type {\n",
       "        vertical-align: middle;\n",
       "    }\n",
       "\n",
       "    .dataframe tbody tr th {\n",
       "        vertical-align: top;\n",
       "    }\n",
       "\n",
       "    .dataframe thead th {\n",
       "        text-align: right;\n",
       "    }\n",
       "</style>\n",
       "<table border=\"1\" class=\"dataframe\">\n",
       "  <thead>\n",
       "    <tr style=\"text-align: right;\">\n",
       "      <th></th>\n",
       "      <th>id</th>\n",
       "      <th>f0</th>\n",
       "      <th>f1</th>\n",
       "      <th>f2</th>\n",
       "      <th>product</th>\n",
       "    </tr>\n",
       "  </thead>\n",
       "  <tbody>\n",
       "    <tr>\n",
       "      <th>0</th>\n",
       "      <td>txEyH</td>\n",
       "      <td>0.705745</td>\n",
       "      <td>-0.497823</td>\n",
       "      <td>1.221170</td>\n",
       "      <td>105.280062</td>\n",
       "    </tr>\n",
       "    <tr>\n",
       "      <th>1</th>\n",
       "      <td>2acmU</td>\n",
       "      <td>1.334711</td>\n",
       "      <td>-0.340164</td>\n",
       "      <td>4.365080</td>\n",
       "      <td>73.037750</td>\n",
       "    </tr>\n",
       "    <tr>\n",
       "      <th>2</th>\n",
       "      <td>409Wp</td>\n",
       "      <td>1.022732</td>\n",
       "      <td>0.151990</td>\n",
       "      <td>1.419926</td>\n",
       "      <td>85.265647</td>\n",
       "    </tr>\n",
       "    <tr>\n",
       "      <th>3</th>\n",
       "      <td>iJLyR</td>\n",
       "      <td>-0.032172</td>\n",
       "      <td>0.139033</td>\n",
       "      <td>2.978566</td>\n",
       "      <td>168.620776</td>\n",
       "    </tr>\n",
       "    <tr>\n",
       "      <th>4</th>\n",
       "      <td>Xdl7t</td>\n",
       "      <td>1.988431</td>\n",
       "      <td>0.155413</td>\n",
       "      <td>4.751769</td>\n",
       "      <td>154.036647</td>\n",
       "    </tr>\n",
       "  </tbody>\n",
       "</table>\n",
       "</div>"
      ],
      "text/plain": [
       "      id        f0        f1        f2     product\n",
       "0  txEyH  0.705745 -0.497823  1.221170  105.280062\n",
       "1  2acmU  1.334711 -0.340164  4.365080   73.037750\n",
       "2  409Wp  1.022732  0.151990  1.419926   85.265647\n",
       "3  iJLyR -0.032172  0.139033  2.978566  168.620776\n",
       "4  Xdl7t  1.988431  0.155413  4.751769  154.036647"
      ]
     },
     "metadata": {},
     "output_type": "display_data"
    },
    {
     "name": "stdout",
     "output_type": "stream",
     "text": [
      "<class 'pandas.core.frame.DataFrame'>\n",
      "RangeIndex: 100000 entries, 0 to 99999\n",
      "Data columns (total 5 columns):\n",
      " #   Column   Non-Null Count   Dtype  \n",
      "---  ------   --------------   -----  \n",
      " 0   id       100000 non-null  object \n",
      " 1   f0       100000 non-null  float64\n",
      " 2   f1       100000 non-null  float64\n",
      " 3   f2       100000 non-null  float64\n",
      " 4   product  100000 non-null  float64\n",
      "dtypes: float64(4), object(1)\n",
      "memory usage: 3.8+ MB\n"
     ]
    },
    {
     "data": {
      "text/plain": [
       "None"
      ]
     },
     "metadata": {},
     "output_type": "display_data"
    },
    {
     "data": {
      "text/html": [
       "<div>\n",
       "<style scoped>\n",
       "    .dataframe tbody tr th:only-of-type {\n",
       "        vertical-align: middle;\n",
       "    }\n",
       "\n",
       "    .dataframe tbody tr th {\n",
       "        vertical-align: top;\n",
       "    }\n",
       "\n",
       "    .dataframe thead th {\n",
       "        text-align: right;\n",
       "    }\n",
       "</style>\n",
       "<table border=\"1\" class=\"dataframe\">\n",
       "  <thead>\n",
       "    <tr style=\"text-align: right;\">\n",
       "      <th></th>\n",
       "      <th>id</th>\n",
       "      <th>f0</th>\n",
       "      <th>f1</th>\n",
       "      <th>f2</th>\n",
       "      <th>product</th>\n",
       "    </tr>\n",
       "  </thead>\n",
       "  <tbody>\n",
       "    <tr>\n",
       "      <th>0</th>\n",
       "      <td>kBEdx</td>\n",
       "      <td>-15.001348</td>\n",
       "      <td>-8.276000</td>\n",
       "      <td>-0.005876</td>\n",
       "      <td>3.179103</td>\n",
       "    </tr>\n",
       "    <tr>\n",
       "      <th>1</th>\n",
       "      <td>62mP7</td>\n",
       "      <td>14.272088</td>\n",
       "      <td>-3.475083</td>\n",
       "      <td>0.999183</td>\n",
       "      <td>26.953261</td>\n",
       "    </tr>\n",
       "    <tr>\n",
       "      <th>2</th>\n",
       "      <td>vyE1P</td>\n",
       "      <td>6.263187</td>\n",
       "      <td>-5.948386</td>\n",
       "      <td>5.001160</td>\n",
       "      <td>134.766305</td>\n",
       "    </tr>\n",
       "    <tr>\n",
       "      <th>3</th>\n",
       "      <td>KcrkZ</td>\n",
       "      <td>-13.081196</td>\n",
       "      <td>-11.506057</td>\n",
       "      <td>4.999415</td>\n",
       "      <td>137.945408</td>\n",
       "    </tr>\n",
       "    <tr>\n",
       "      <th>4</th>\n",
       "      <td>AHL4O</td>\n",
       "      <td>12.702195</td>\n",
       "      <td>-8.147433</td>\n",
       "      <td>5.004363</td>\n",
       "      <td>134.766305</td>\n",
       "    </tr>\n",
       "  </tbody>\n",
       "</table>\n",
       "</div>"
      ],
      "text/plain": [
       "      id         f0         f1        f2     product\n",
       "0  kBEdx -15.001348  -8.276000 -0.005876    3.179103\n",
       "1  62mP7  14.272088  -3.475083  0.999183   26.953261\n",
       "2  vyE1P   6.263187  -5.948386  5.001160  134.766305\n",
       "3  KcrkZ -13.081196 -11.506057  4.999415  137.945408\n",
       "4  AHL4O  12.702195  -8.147433  5.004363  134.766305"
      ]
     },
     "metadata": {},
     "output_type": "display_data"
    },
    {
     "name": "stdout",
     "output_type": "stream",
     "text": [
      "<class 'pandas.core.frame.DataFrame'>\n",
      "RangeIndex: 100000 entries, 0 to 99999\n",
      "Data columns (total 5 columns):\n",
      " #   Column   Non-Null Count   Dtype  \n",
      "---  ------   --------------   -----  \n",
      " 0   id       100000 non-null  object \n",
      " 1   f0       100000 non-null  float64\n",
      " 2   f1       100000 non-null  float64\n",
      " 3   f2       100000 non-null  float64\n",
      " 4   product  100000 non-null  float64\n",
      "dtypes: float64(4), object(1)\n",
      "memory usage: 3.8+ MB\n"
     ]
    },
    {
     "data": {
      "text/plain": [
       "None"
      ]
     },
     "metadata": {},
     "output_type": "display_data"
    },
    {
     "data": {
      "text/html": [
       "<div>\n",
       "<style scoped>\n",
       "    .dataframe tbody tr th:only-of-type {\n",
       "        vertical-align: middle;\n",
       "    }\n",
       "\n",
       "    .dataframe tbody tr th {\n",
       "        vertical-align: top;\n",
       "    }\n",
       "\n",
       "    .dataframe thead th {\n",
       "        text-align: right;\n",
       "    }\n",
       "</style>\n",
       "<table border=\"1\" class=\"dataframe\">\n",
       "  <thead>\n",
       "    <tr style=\"text-align: right;\">\n",
       "      <th></th>\n",
       "      <th>id</th>\n",
       "      <th>f0</th>\n",
       "      <th>f1</th>\n",
       "      <th>f2</th>\n",
       "      <th>product</th>\n",
       "    </tr>\n",
       "  </thead>\n",
       "  <tbody>\n",
       "    <tr>\n",
       "      <th>0</th>\n",
       "      <td>fwXo0</td>\n",
       "      <td>-1.146987</td>\n",
       "      <td>0.963328</td>\n",
       "      <td>-0.828965</td>\n",
       "      <td>27.758673</td>\n",
       "    </tr>\n",
       "    <tr>\n",
       "      <th>1</th>\n",
       "      <td>WJtFt</td>\n",
       "      <td>0.262778</td>\n",
       "      <td>0.269839</td>\n",
       "      <td>-2.530187</td>\n",
       "      <td>56.069697</td>\n",
       "    </tr>\n",
       "    <tr>\n",
       "      <th>2</th>\n",
       "      <td>ovLUW</td>\n",
       "      <td>0.194587</td>\n",
       "      <td>0.289035</td>\n",
       "      <td>-5.586433</td>\n",
       "      <td>62.871910</td>\n",
       "    </tr>\n",
       "    <tr>\n",
       "      <th>3</th>\n",
       "      <td>q6cA6</td>\n",
       "      <td>2.236060</td>\n",
       "      <td>-0.553760</td>\n",
       "      <td>0.930038</td>\n",
       "      <td>114.572842</td>\n",
       "    </tr>\n",
       "    <tr>\n",
       "      <th>4</th>\n",
       "      <td>WPMUX</td>\n",
       "      <td>-0.515993</td>\n",
       "      <td>1.716266</td>\n",
       "      <td>5.899011</td>\n",
       "      <td>149.600746</td>\n",
       "    </tr>\n",
       "  </tbody>\n",
       "</table>\n",
       "</div>"
      ],
      "text/plain": [
       "      id        f0        f1        f2     product\n",
       "0  fwXo0 -1.146987  0.963328 -0.828965   27.758673\n",
       "1  WJtFt  0.262778  0.269839 -2.530187   56.069697\n",
       "2  ovLUW  0.194587  0.289035 -5.586433   62.871910\n",
       "3  q6cA6  2.236060 -0.553760  0.930038  114.572842\n",
       "4  WPMUX -0.515993  1.716266  5.899011  149.600746"
      ]
     },
     "metadata": {},
     "output_type": "display_data"
    }
   ],
   "source": [
    "for i in range(3):\n",
    "    display(geo[i].info(), geo[i].head())"
   ]
  },
  {
   "cell_type": "markdown",
   "metadata": {},
   "source": [
    "Типы данных менять не нужно.\n",
    "Мы видим столбец id, который не несёт полезных для машинного обучения данных, удаляем."
   ]
  },
  {
   "cell_type": "code",
   "execution_count": 5,
   "metadata": {},
   "outputs": [],
   "source": [
    "for df in range(len(geo)):\n",
    "    geo[df] = geo[df].drop('id', axis = 1)"
   ]
  },
  {
   "cell_type": "markdown",
   "metadata": {},
   "source": [
    "Проверяем на одном из датасетов (т.к. со всеми провели аналогичную операцию)"
   ]
  },
  {
   "cell_type": "code",
   "execution_count": 6,
   "metadata": {},
   "outputs": [
    {
     "name": "stdout",
     "output_type": "stream",
     "text": [
      "<class 'pandas.core.frame.DataFrame'>\n",
      "RangeIndex: 100000 entries, 0 to 99999\n",
      "Data columns (total 4 columns):\n",
      " #   Column   Non-Null Count   Dtype  \n",
      "---  ------   --------------   -----  \n",
      " 0   f0       100000 non-null  float64\n",
      " 1   f1       100000 non-null  float64\n",
      " 2   f2       100000 non-null  float64\n",
      " 3   product  100000 non-null  float64\n",
      "dtypes: float64(4)\n",
      "memory usage: 3.1 MB\n"
     ]
    }
   ],
   "source": [
    "geo[0].info()"
   ]
  },
  {
   "cell_type": "markdown",
   "metadata": {},
   "source": [
    "Проверяем данные на пропуски"
   ]
  },
  {
   "cell_type": "code",
   "execution_count": 7,
   "metadata": {},
   "outputs": [
    {
     "name": "stdout",
     "output_type": "stream",
     "text": [
      "Количество пропусков в датасете geo 0 :\n",
      " f0         0\n",
      "f1         0\n",
      "f2         0\n",
      "product    0\n",
      "dtype: int64\n",
      "Количество пропусков в датасете geo 1 :\n",
      " f0         0\n",
      "f1         0\n",
      "f2         0\n",
      "product    0\n",
      "dtype: int64\n",
      "Количество пропусков в датасете geo 2 :\n",
      " f0         0\n",
      "f1         0\n",
      "f2         0\n",
      "product    0\n",
      "dtype: int64\n"
     ]
    }
   ],
   "source": [
    "for i in range(3):\n",
    "    print('Количество пропусков в датасете geo', i, ':\\n', geo[i].isna().sum() )"
   ]
  },
  {
   "cell_type": "markdown",
   "metadata": {},
   "source": [
    "### Исследование данных\n",
    "Смотрим на корелляцию данных"
   ]
  },
  {
   "cell_type": "code",
   "execution_count": 8,
   "metadata": {},
   "outputs": [
    {
     "data": {
      "image/png": "[encoded data removed]",
      "text/plain": [
       "<Figure size 540x540 with 2 Axes>"
      ]
     },
     "metadata": {
      "needs_background": "light"
     },
     "output_type": "display_data"
    },
    {
     "data": {
      "image/png": "[encoded data removed]",
      "text/plain": [
       "<Figure size 540x540 with 2 Axes>"
      ]
     },
     "metadata": {
      "needs_background": "light"
     },
     "output_type": "display_data"
    },
    {
     "data": {
      "image/png": "[encoded data removed]",
      "text/plain": [
       "<Figure size 540x540 with 2 Axes>"
      ]
     },
     "metadata": {
      "needs_background": "light"
     },
     "output_type": "display_data"
    }
   ],
   "source": [
    "for i in range(3):\n",
    "    plt.rcParams['figure.figsize'] = (7.5, 7.5)\n",
    "    sns.heatmap(geo[i].corr(), annot=True, linewidths=3, linecolor='white').set_title('Geo' + str(i))\n",
    "    plt.show()"
   ]
  },
  {
   "cell_type": "markdown",
   "metadata": {},
   "source": [
    "Корелляция между признаками низкая. Однако, признак f2 имеет наибольшую корелляцию с product, из чего можно сделать вывод, что это самый значимый признак. Более того, во geo1 корелляция между f2 и product единица. Тем не менее, учитывая, что корелляции между признаками нет, убирать какие-либо данные не нужно."
   ]
  },
  {
   "cell_type": "markdown",
   "metadata": {},
   "source": [
    "### Разбиение данных на обучающую и валидационную выборки"
   ]
  },
  {
   "cell_type": "markdown",
   "metadata": {},
   "source": [
    "Для начала разобьём данные на признаки и целевой признак"
   ]
  },
  {
   "cell_type": "code",
   "execution_count": 9,
   "metadata": {},
   "outputs": [],
   "source": [
    "target = []\n",
    "features = []\n",
    "for i in range(3):\n",
    "    target.append(geo[i]['product'])\n",
    "    features.append(geo[i].drop('product', axis = 1))"
   ]
  },
  {
   "cell_type": "markdown",
   "metadata": {},
   "source": [
    "Теперь разобьём выборки на обучающие и валидационные"
   ]
  },
  {
   "cell_type": "code",
   "execution_count": 10,
   "metadata": {},
   "outputs": [],
   "source": [
    "    features_train = []\n",
    "    features_valid = []\n",
    "    target_train = []\n",
    "    target_valid = []\n",
    "    \n",
    "    for i in range(3):\n",
    "        f_train, f_valid, t_train, t_valid = train_test_split(features[i], target[i], \n",
    "                                                                                  test_size=0.25, random_state=42)\n",
    "        features_train.append(f_train)\n",
    "        features_valid.append(f_valid)\n",
    "        target_train.append(t_train)\n",
    "        target_valid.append(t_valid)"
   ]
  },
  {
   "cell_type": "code",
   "execution_count": 11,
   "metadata": {},
   "outputs": [
    {
     "name": "stdout",
     "output_type": "stream",
     "text": [
      "<class 'pandas.core.frame.DataFrame'>\n",
      "Int64Index: 75000 entries, 98980 to 15795\n",
      "Data columns (total 3 columns):\n",
      " #   Column  Non-Null Count  Dtype  \n",
      "---  ------  --------------  -----  \n",
      " 0   f0      75000 non-null  float64\n",
      " 1   f1      75000 non-null  float64\n",
      " 2   f2      75000 non-null  float64\n",
      "dtypes: float64(3)\n",
      "memory usage: 2.3 MB\n",
      "<class 'pandas.core.frame.DataFrame'>\n",
      "Int64Index: 75000 entries, 98980 to 15795\n",
      "Data columns (total 1 columns):\n",
      " #   Column   Non-Null Count  Dtype  \n",
      "---  ------   --------------  -----  \n",
      " 0   product  75000 non-null  float64\n",
      "dtypes: float64(1)\n",
      "memory usage: 1.1 MB\n",
      "<class 'pandas.core.frame.DataFrame'>\n",
      "Int64Index: 25000 entries, 75721 to 11627\n",
      "Data columns (total 3 columns):\n",
      " #   Column  Non-Null Count  Dtype  \n",
      "---  ------  --------------  -----  \n",
      " 0   f0      25000 non-null  float64\n",
      " 1   f1      25000 non-null  float64\n",
      " 2   f2      25000 non-null  float64\n",
      "dtypes: float64(3)\n",
      "memory usage: 781.2 KB\n",
      "<class 'pandas.core.frame.DataFrame'>\n",
      "Int64Index: 25000 entries, 75721 to 11627\n",
      "Data columns (total 1 columns):\n",
      " #   Column   Non-Null Count  Dtype  \n",
      "---  ------   --------------  -----  \n",
      " 0   product  25000 non-null  float64\n",
      "dtypes: float64(1)\n",
      "memory usage: 390.6 KB\n"
     ]
    },
    {
     "data": {
      "text/plain": [
       "(None, None, None, None)"
      ]
     },
     "execution_count": 11,
     "metadata": {},
     "output_type": "execute_result"
    }
   ],
   "source": [
    "features_train[0].info(), target_train[0].to_frame().info(), features_valid[0].info(), target_valid[0].to_frame().info()"
   ]
  },
  {
   "cell_type": "markdown",
   "metadata": {},
   "source": [
    "Проверили разбиение на первом датасете, всё прошло успешно. Остальные разбивались по аналогичному принципу."
   ]
  },
  {
   "cell_type": "markdown",
   "metadata": {},
   "source": [
    "## Обучение и проверка модели"
   ]
  },
  {
   "cell_type": "markdown",
   "metadata": {},
   "source": [
    "### Обучение модели"
   ]
  },
  {
   "cell_type": "markdown",
   "metadata": {},
   "source": [
    "Нормализуем данные"
   ]
  },
  {
   "cell_type": "code",
   "execution_count": 12,
   "metadata": {},
   "outputs": [
    {
     "data": {
      "text/plain": [
       "array([[ 1.27478613, -0.79973892, -0.39667731],\n",
       "       [-1.60068908,  0.23467771, -2.16928343],\n",
       "       [-0.32379132,  1.43629697,  1.49542545],\n",
       "       ...,\n",
       "       [ 0.54922933, -1.59163214,  0.11909049],\n",
       "       [ 0.17517618, -1.45934448,  1.42952353],\n",
       "       [ 1.02980347, -1.42062472, -0.1494586 ]])"
      ]
     },
     "execution_count": 12,
     "metadata": {},
     "output_type": "execute_result"
    }
   ],
   "source": [
    "for i in range(3):\n",
    "    scaler = StandardScaler()\n",
    "    scaler.fit(features_train[i])\n",
    "    features_train[i] = scaler.transform(features_train[i])\n",
    "    features_valid[i] = scaler.transform(features_valid[i])\n",
    "\n",
    "features_train[0]"
   ]
  },
  {
   "cell_type": "markdown",
   "metadata": {},
   "source": [
    "Пишем функцию для рассчёта RMSE"
   ]
  },
  {
   "cell_type": "code",
   "execution_count": 13,
   "metadata": {},
   "outputs": [],
   "source": [
    "def RMSE(y,x):\n",
    "    return mean_squared_error(y, x)**0.5"
   ]
  },
  {
   "cell_type": "markdown",
   "metadata": {},
   "source": [
    "Обучаем модели, сохраняя предсказанные данные в отдельную переменную"
   ]
  },
  {
   "cell_type": "code",
   "execution_count": 14,
   "metadata": {},
   "outputs": [
    {
     "name": "stdout",
     "output_type": "stream",
     "text": [
      "0 37.75660035026169\n",
      "1 0.8902801001028846\n",
      "2 40.145872311342174\n",
      "-----------------------------------------------------------\n",
      "Датасет: 0  Из него убираем: 0 RMSE 37.861273208916586\n",
      "Датасет: 0  Из него убираем: 1 RMSE 38.254383933851834\n",
      "Датасет: 0  Из него убираем: 2 RMSE 43.450295287774786\n",
      "Датасет: 1  Из него убираем: 0 RMSE 1.557959948925455\n",
      "Датасет: 1  Из него убираем: 1 RMSE 0.8967835153571673\n",
      "Датасет: 1  Из него убираем: 2 RMSE 45.92399973816207\n",
      "Датасет: 2  Из него убираем: 0 RMSE 40.14518184292225\n",
      "Датасет: 2  Из него убираем: 1 RMSE 40.14597151400041\n",
      "Датасет: 2  Из него убираем: 2 RMSE 44.783190417248896\n"
     ]
    }
   ],
   "source": [
    "predictions = []\n",
    "rmse = []\n",
    "predictions_mean = []\n",
    "\n",
    "for i in range(3):\n",
    "    model = LinearRegression()\n",
    "    model.fit(features_train[i], target_train[i])\n",
    "    \n",
    "    pred = model.predict(features_valid[i])\n",
    "    predictions.append(pred)\n",
    "    rmse.append(RMSE(target_valid[i], pred))\n",
    "    predictions_mean.append(pred.mean() )\n",
    "    print(i, RMSE(target_valid[i], pred))\n",
    "    \n",
    "print('-----------------------------------------------------------')\n",
    "\n",
    "for i in range(3):\n",
    "    for i2 in [0, 1, 2]:\n",
    "        f_t = np.delete(features_train[i],  i2, axis = 1)\n",
    "        f_v = np.delete(features_valid[i],  i2, axis = 1)\n",
    "        model = LinearRegression()\n",
    "        model.fit(f_t, target_train[i])\n",
    "        pred = model.predict(f_v)\n",
    "        print('Датасет:', i, ' Из него убираем:', i2, 'RMSE',  RMSE(target_valid[i], pred))\n",
    "        "
   ]
  },
  {
   "cell_type": "markdown",
   "metadata": {},
   "source": [
    "### Анализ результатов работы моделей"
   ]
  },
  {
   "cell_type": "code",
   "execution_count": 15,
   "metadata": {},
   "outputs": [
    {
     "name": "stdout",
     "output_type": "stream",
     "text": [
      "Для региона 0 средний запас предсказанного сырья составил 92.40, а RMSE модели 37.76\n",
      "Для региона 1 средний запас предсказанного сырья составил 68.71, а RMSE модели 0.89\n",
      "Для региона 2 средний запас предсказанного сырья составил 94.77, а RMSE модели 40.15\n"
     ]
    }
   ],
   "source": [
    "for i in range(3):\n",
    "    print('Для региона '+str(i)+' средний запас предсказанного сырья составил {:.2f}, а RMSE модели {:.2f}'.\n",
    "          format(predictions_mean[i], rmse[i]))\n"
   ]
  },
  {
   "cell_type": "markdown",
   "metadata": {},
   "source": [
    "Сравниваем с истинными значениями"
   ]
  },
  {
   "cell_type": "code",
   "execution_count": 16,
   "metadata": {},
   "outputs": [
    {
     "name": "stdout",
     "output_type": "stream",
     "text": [
      "Для региона 0 истинный средний запас сырья равен 92.33. Отклонение предсказаний, сделанных моделями: 0.073\n",
      "Для региона 1 истинный средний запас сырья равен 68.73. Отклонение предсказаний, сделанных моделями: 0.013\n",
      "Для региона 2 истинный средний запас сырья равен 95.15. Отклонение предсказаний, сделанных моделями: 0.38\n"
     ]
    }
   ],
   "source": [
    "for i in range(3):\n",
    "    print('Для региона '+str(i)+' истинный средний запас сырья равен {:.2f}. Отклонение предсказаний, сделанных моделями: {:.2g}'\n",
    "          .format(target_valid[i].mean(),abs(predictions_mean[i] - target_valid[i].mean()) ))"
   ]
  },
  {
   "cell_type": "markdown",
   "metadata": {},
   "source": [
    "### Вывод"
   ]
  },
  {
   "cell_type": "markdown",
   "metadata": {},
   "source": [
    "Модели очень точно предсказывают средний запас сырья, отклонения всего на несколько сотых. Лучше всего справляется модель для региона 1, т.к. там сильная корелляция между параметром и целевым признаком. При том, истинное и предсказанное количество сырья в регионе 1 меньше чем в остальных двух. Можно заметить взаимосвязь - чем больше сырья в регионе, тем хуже справляется модель (наибольшее RMSE в регионе 2, где макимальный запас сырья, в регионе 0 чуть меньше отклонение и чуть меньше запас)"
   ]
  },
  {
   "cell_type": "markdown",
   "metadata": {},
   "source": [
    "## Подготовка к расчёту прибыли"
   ]
  },
  {
   "cell_type": "markdown",
   "metadata": {},
   "source": [
    "### Ввводим необходимые переменные"
   ]
  },
  {
   "cell_type": "code",
   "execution_count": 17,
   "metadata": {},
   "outputs": [],
   "source": [
    "explore_count = 500 # количество точек для исследования\n",
    "mining_count = 200 # количество точек для разработки\n",
    "mining_budget = 10000 # бюджет на разработку скважин в регионе в миллионах рублей\n",
    "revenue_per_barrel = 0.45 # доход с 1000 баррель в миллионах рублей рублей\n",
    "loss_probability = 0.025 # максимальная допустмая вероятность убытков\n",
    "bootstrap_samples = 1000"
   ]
  },
  {
   "cell_type": "markdown",
   "metadata": {},
   "source": [
    "### Рассчёт необходимого количества сырья для безубыточной разработки скважины"
   ]
  },
  {
   "cell_type": "markdown",
   "metadata": {},
   "source": [
    "Считаем затраты на одну скважину"
   ]
  },
  {
   "cell_type": "code",
   "execution_count": 18,
   "metadata": {},
   "outputs": [
    {
     "data": {
      "text/plain": [
       "50.0"
      ]
     },
     "execution_count": 18,
     "metadata": {},
     "output_type": "execute_result"
    }
   ],
   "source": [
    "budget_per_borehole = mining_budget / mining_count\n",
    "budget_per_borehole"
   ]
  },
  {
   "cell_type": "markdown",
   "metadata": {},
   "source": [
    "Необходимое количество сырья для безубыточной добычи сырья"
   ]
  },
  {
   "cell_type": "code",
   "execution_count": 19,
   "metadata": {},
   "outputs": [
    {
     "data": {
      "text/plain": [
       "111.11111111111111"
      ]
     },
     "execution_count": 19,
     "metadata": {},
     "output_type": "execute_result"
    }
   ],
   "source": [
    "sufficient_product_volume = budget_per_borehole / revenue_per_barrel\n",
    "sufficient_product_volume"
   ]
  },
  {
   "cell_type": "markdown",
   "metadata": {},
   "source": [
    "Сравниваем необходимое количество сырья со среднем в каждом регионе"
   ]
  },
  {
   "cell_type": "code",
   "execution_count": 20,
   "metadata": {},
   "outputs": [
    {
     "name": "stdout",
     "output_type": "stream",
     "text": [
      "Запас сырья в регионе 0 отличается на -18.785154740267245\n",
      "Запас сырья в регионе 1 отличается на -42.38573036388367\n",
      "Запас сырья в регионе 2 отличается на -15.960112039391504\n"
     ]
    }
   ],
   "source": [
    "for i in range(3):\n",
    "    print('Запас сырья в регионе ' + str(i) + ' отличается на ' \n",
    "          + str(target_valid[i].mean() - sufficient_product_volume ) ) "
   ]
  },
  {
   "cell_type": "markdown",
   "metadata": {},
   "source": [
    "### Вывод\n",
    "Средний запас сырья в каждом регионе меньше необходимого. Таким образом, при выборе случайных скважин велик риск получить убытки. Чтобы избежать этого - нужно пользуясь моделью выбрать наиболее перспективные скважины. Ниже проверим работоспособность моделей."
   ]
  },
  {
   "cell_type": "markdown",
   "metadata": {},
   "source": [
    "## Расчёт прибыли и рисков "
   ]
  },
  {
   "cell_type": "markdown",
   "metadata": {},
   "source": [
    "Напишите функцию для расчёта прибыли по выбранным скважинам и предсказаниям модели:\n",
    " 4.1. Выберите скважины с максимальными значениями предсказаний. \n",
    " 4.2. Просуммируйте целевое значение объёма сырья, соответствующее этим предсказаниям.\n",
    " 4.3. Рассчитайте прибыль для полученного объёма сырья."
   ]
  },
  {
   "cell_type": "markdown",
   "metadata": {},
   "source": [
    "### Рассчёт прибыли для 200 лучших скважин в кадом регионе"
   ]
  },
  {
   "cell_type": "code",
   "execution_count": 21,
   "metadata": {},
   "outputs": [],
   "source": [
    "def profit(true_valid, pred_valid, count):\n",
    "    top = pd.Series(pred_valid).sort_values(ascending=False).head(count)\n",
    "    target_ = true_valid.reset_index(drop=True)[top.index]\n",
    "    return target_.sum() * revenue_per_barrel"
   ]
  },
  {
   "cell_type": "markdown",
   "metadata": {},
   "source": [
    "Считаем прибыль для каждого региона"
   ]
  },
  {
   "cell_type": "code",
   "execution_count": 22,
   "metadata": {},
   "outputs": [
    {
     "name": "stdout",
     "output_type": "stream",
     "text": [
      "Прибыль в с 200 выбранных по предсказаниям модели скважин составит:\n",
      "для региона0 - 3359.141 млн. руб.\n",
      "для региона1 - 2415.087 млн. руб.\n",
      "для региона2 - 2598.572 млн. руб.\n"
     ]
    }
   ],
   "source": [
    "print('Прибыль в с 200 выбранных по предсказаниям модели скважин составит:')\n",
    "for i in range(3):\n",
    "    regprofit = profit(target_valid[i], predictions[i], 200)\n",
    "\n",
    "    print('для региона'+str(i)+' - {:.3f} млн. руб.'.\n",
    "          format(regprofit - mining_budget))"
   ]
  },
  {
   "cell_type": "markdown",
   "metadata": {},
   "source": [
    "#### Промежуточный вывод\n",
    "Мы получили очень хорошие показатели прибыли, однако такое возможно только в случае, если мы проведём разведку всех скважен в каждом регионе, а по условиям заказчика мы можем разведать только 500 скважин. Рассчитаем прибыль и риски в заданных условиях."
   ]
  },
  {
   "cell_type": "markdown",
   "metadata": {},
   "source": [
    "### Расчет рисков и прибыли для каждого региона (для 500 случайных скважин)"
   ]
  },
  {
   "cell_type": "markdown",
   "metadata": {},
   "source": [
    "Используем технику Bootstrap для 1000 выборок. Будем считать выручку внутри каждой выборки, оценивая не убыточна ли она. В итоге определим среднюю вырочку для региона, доверительный интервал и вероятность убочтосности."
   ]
  },
  {
   "cell_type": "code",
   "execution_count": 23,
   "metadata": {},
   "outputs": [],
   "source": [
    "def income_region(p_val, t_val, boots, counts):\n",
    "    state = np.random.RandomState(42)\n",
    "    counter = 0 #Для рассчёта вероятности убытка\n",
    "    profits = [] #Значения выручек\n",
    "    for i in range(boots):\n",
    "        # Случайно выбираем скважины в валидационной выборке\n",
    "        target_subsample = t_val.reset_index(drop=True).sample(counts, replace=True, random_state=state)\n",
    "        # из предсказаний выбираем строки соответствующие нашей подвыборке\n",
    "        probs_subsample = p_val[target_subsample.index]\n",
    "        # считаем выручку для отобранных строк\n",
    "        p = profit(target_subsample, probs_subsample, mining_count) - mining_budget\n",
    "        profits.append(p)\n",
    "        \n",
    "        if p < 0:\n",
    "            counter += 1\n",
    "        \n",
    "    #Средняя выручка\n",
    "    profits = pd.Series(profits)\n",
    "    mean_profit = profits.mean()\n",
    "    print('Средняя выручка для региона равна {:.5} миллионов рублей'.format(mean_profit))\n",
    "    #Доверительный интервал\n",
    "    confidence_interval = st.t.interval(0.95, len(profits)-1, profits.mean(), np.std(profits, ddof=1))\n",
    "    print(\"95%-ый доверительный интервал:\", confidence_interval)\n",
    "    \n",
    "    loss = 1 * counter / bootstrap_samples\n",
    "    if loss <loss_probability:\n",
    "        print('Вероятность убытков равна {:.2%} и является меньше допустимой. Данный регион соответствует критериям'.\n",
    "              format(loss))\n",
    "    else:\n",
    "        print('Вероятность убытков равна {:.2%} и является больше допустимой. Данный регион не соответствует критериям'.\n",
    "              format(loss))  "
   ]
  },
  {
   "cell_type": "markdown",
   "metadata": {},
   "source": [
    "Применем функцию к нашим регионам"
   ]
  },
  {
   "cell_type": "code",
   "execution_count": 24,
   "metadata": {},
   "outputs": [
    {
     "name": "stdout",
     "output_type": "stream",
     "text": [
      "Регион 0\n",
      "Средняя выручка для региона равна 399.58 миллионов рублей\n",
      "95%-ый доверительный интервал: (-109.85269895835654, 909.0036550668165)\n",
      "Вероятность убытков равна 6.00% и является больше допустимой. Данный регион не соответствует критериям\n",
      "\n",
      "Регион 1\n",
      "Средняя выручка для региона равна 452.05 миллионов рублей\n",
      "95%-ый доверительный интервал: (50.06111244366468, 854.0366693692526)\n",
      "Вероятность убытков равна 1.50% и является меньше допустимой. Данный регион соответствует критериям\n",
      "\n",
      "Регион 2\n",
      "Средняя выручка для региона равна 375.01 миллионов рублей\n",
      "95%-ый доверительный интервал: (-139.6578408911314, 889.6776467217901)\n",
      "Вероятность убытков равна 8.00% и является больше допустимой. Данный регион не соответствует критериям\n",
      "\n"
     ]
    }
   ],
   "source": [
    "for i in range(3):\n",
    "    print('Регион '+ str(i))\n",
    "    income_region(predictions[i], target_valid[i], 1000, 500)\n",
    "    print()"
   ]
  },
  {
   "cell_type": "code",
   "execution_count": 25,
   "metadata": {},
   "outputs": [
    {
     "data": {
      "text/plain": [
       "94.9496669760935"
      ]
     },
     "execution_count": 25,
     "metadata": {},
     "output_type": "execute_result"
    }
   ],
   "source": [
    "model.intercept_"
   ]
  },
  {
   "cell_type": "markdown",
   "metadata": {},
   "source": [
    "## Вывод\n",
    "На первый взгляд лучше всего подходит первый регион - регион 0. Выручка по 200 лучшим точкам составляет для него 3359.141 млн. руб., а для региона 1 -2415.087 млн. руб. Тем не менее, проверка методом Bootstrap показала, что при разведке 500 случайных скважин средняя выручка выше у региона 1, кроме того, вероятность убытков для него составляет всего 1.5%.\n",
    "\n",
    "<b>Лучший регион - второй регион (регион1)</b>"
   ]
  },
  {
   "cell_type": "code",
   "execution_count": null,
   "metadata": {},
   "outputs": [],
   "source": []
  }
 ],
 "metadata": {
  "ExecuteTimeLog": [
   {
    "duration": 361,
    "start_time": "2023-01-17T07:01:34.772Z"
   },
   {
    "duration": 79,
    "start_time": "2023-01-17T07:02:00.356Z"
   },
   {
    "duration": 358,
    "start_time": "2023-01-17T07:03:45.189Z"
   },
   {
    "duration": 326,
    "start_time": "2023-01-17T07:03:56.364Z"
   },
   {
    "duration": 419,
    "start_time": "2023-01-17T07:04:42.503Z"
   },
   {
    "duration": 1066,
    "start_time": "2023-01-17T07:04:42.925Z"
   },
   {
    "duration": 65,
    "start_time": "2023-01-17T07:07:02.948Z"
   },
   {
    "duration": 268,
    "start_time": "2023-01-17T07:07:19.366Z"
   },
   {
    "duration": 969,
    "start_time": "2023-01-17T07:08:14.445Z"
   },
   {
    "duration": 42,
    "start_time": "2023-01-17T07:09:04.211Z"
   },
   {
    "duration": 57,
    "start_time": "2023-01-17T07:10:16.674Z"
   },
   {
    "duration": 76,
    "start_time": "2023-01-17T07:12:55.891Z"
   },
   {
    "duration": 416,
    "start_time": "2023-01-17T07:13:02.288Z"
   },
   {
    "duration": 931,
    "start_time": "2023-01-17T07:13:02.706Z"
   },
   {
    "duration": 78,
    "start_time": "2023-01-17T07:13:03.639Z"
   },
   {
    "duration": 68,
    "start_time": "2023-01-17T07:13:03.719Z"
   },
   {
    "duration": 71,
    "start_time": "2023-01-17T07:13:25.139Z"
   },
   {
    "duration": 14,
    "start_time": "2023-01-17T07:13:40.276Z"
   },
   {
    "duration": 10,
    "start_time": "2023-01-17T07:14:30.675Z"
   },
   {
    "duration": 70,
    "start_time": "2023-01-17T07:16:05.714Z"
   },
   {
    "duration": 11,
    "start_time": "2023-01-17T07:16:18.731Z"
   },
   {
    "duration": 11,
    "start_time": "2023-01-17T07:16:43.466Z"
   },
   {
    "duration": 380,
    "start_time": "2023-01-17T07:17:37.050Z"
   },
   {
    "duration": 1349,
    "start_time": "2023-01-17T07:17:37.432Z"
   },
   {
    "duration": 75,
    "start_time": "2023-01-17T07:17:38.783Z"
   },
   {
    "duration": 16,
    "start_time": "2023-01-17T07:17:38.862Z"
   },
   {
    "duration": 37,
    "start_time": "2023-01-17T07:17:38.881Z"
   },
   {
    "duration": 11,
    "start_time": "2023-01-17T07:17:38.920Z"
   },
   {
    "duration": 949,
    "start_time": "2023-01-17T07:25:36.992Z"
   },
   {
    "duration": 428,
    "start_time": "2023-01-17T07:25:42.509Z"
   },
   {
    "duration": 756,
    "start_time": "2023-01-17T07:25:42.939Z"
   },
   {
    "duration": 997,
    "start_time": "2023-01-17T07:25:43.697Z"
   },
   {
    "duration": 71,
    "start_time": "2023-01-17T07:25:44.697Z"
   },
   {
    "duration": 13,
    "start_time": "2023-01-17T07:25:44.770Z"
   },
   {
    "duration": 16,
    "start_time": "2023-01-17T07:25:44.814Z"
   },
   {
    "duration": 12,
    "start_time": "2023-01-17T07:25:44.832Z"
   },
   {
    "duration": 757,
    "start_time": "2023-01-17T07:44:56.106Z"
   },
   {
    "duration": 968,
    "start_time": "2023-01-17T07:45:11.170Z"
   },
   {
    "duration": 952,
    "start_time": "2023-01-17T07:46:05.275Z"
   },
   {
    "duration": 1102,
    "start_time": "2023-01-17T07:46:29.280Z"
   },
   {
    "duration": 904,
    "start_time": "2023-01-17T07:47:01.434Z"
   },
   {
    "duration": 11,
    "start_time": "2023-01-17T07:50:40.170Z"
   },
   {
    "duration": 132,
    "start_time": "2023-01-17T07:51:30.972Z"
   },
   {
    "duration": 27,
    "start_time": "2023-01-17T07:51:49.779Z"
   },
   {
    "duration": 13,
    "start_time": "2023-01-17T07:52:10.681Z"
   },
   {
    "duration": 11,
    "start_time": "2023-01-17T07:52:29.855Z"
   },
   {
    "duration": 906,
    "start_time": "2023-01-17T07:53:22.073Z"
   },
   {
    "duration": 853,
    "start_time": "2023-01-17T07:53:36.920Z"
   },
   {
    "duration": 863,
    "start_time": "2023-01-17T07:53:55.089Z"
   },
   {
    "duration": 946,
    "start_time": "2023-01-17T07:54:32.680Z"
   },
   {
    "duration": 8,
    "start_time": "2023-01-17T08:19:56.307Z"
   },
   {
    "duration": 244,
    "start_time": "2023-01-17T08:21:35.046Z"
   },
   {
    "duration": 392,
    "start_time": "2023-01-17T08:21:39.578Z"
   },
   {
    "duration": 1046,
    "start_time": "2023-01-17T08:21:39.972Z"
   },
   {
    "duration": 1247,
    "start_time": "2023-01-17T08:21:41.020Z"
   },
   {
    "duration": 77,
    "start_time": "2023-01-17T08:21:42.269Z"
   },
   {
    "duration": 12,
    "start_time": "2023-01-17T08:21:42.348Z"
   },
   {
    "duration": 26,
    "start_time": "2023-01-17T08:21:42.361Z"
   },
   {
    "duration": 14,
    "start_time": "2023-01-17T08:21:42.388Z"
   },
   {
    "duration": 1034,
    "start_time": "2023-01-17T08:21:42.403Z"
   },
   {
    "duration": 8,
    "start_time": "2023-01-17T08:21:43.439Z"
   },
   {
    "duration": 112,
    "start_time": "2023-01-17T08:22:53.899Z"
   },
   {
    "duration": 3,
    "start_time": "2023-01-17T08:23:12.774Z"
   },
   {
    "duration": 395,
    "start_time": "2023-01-17T08:24:01.676Z"
   },
   {
    "duration": 1032,
    "start_time": "2023-01-17T08:24:02.073Z"
   },
   {
    "duration": 1011,
    "start_time": "2023-01-17T08:24:03.108Z"
   },
   {
    "duration": 65,
    "start_time": "2023-01-17T08:24:04.122Z"
   },
   {
    "duration": 25,
    "start_time": "2023-01-17T08:24:04.189Z"
   },
   {
    "duration": 34,
    "start_time": "2023-01-17T08:24:04.216Z"
   },
   {
    "duration": 11,
    "start_time": "2023-01-17T08:24:04.252Z"
   },
   {
    "duration": 989,
    "start_time": "2023-01-17T08:24:04.264Z"
   },
   {
    "duration": 7,
    "start_time": "2023-01-17T08:24:05.255Z"
   },
   {
    "duration": 39,
    "start_time": "2023-01-17T08:24:05.264Z"
   },
   {
    "duration": 420,
    "start_time": "2023-01-17T08:25:34.233Z"
   },
   {
    "duration": 1072,
    "start_time": "2023-01-17T08:25:34.656Z"
   },
   {
    "duration": 1413,
    "start_time": "2023-01-17T08:25:35.733Z"
   },
   {
    "duration": 79,
    "start_time": "2023-01-17T08:25:37.149Z"
   },
   {
    "duration": 13,
    "start_time": "2023-01-17T08:25:37.229Z"
   },
   {
    "duration": 23,
    "start_time": "2023-01-17T08:25:37.244Z"
   },
   {
    "duration": 66,
    "start_time": "2023-01-17T08:25:37.269Z"
   },
   {
    "duration": 1023,
    "start_time": "2023-01-17T08:25:37.337Z"
   },
   {
    "duration": 17,
    "start_time": "2023-01-17T08:25:38.363Z"
   },
   {
    "duration": 57,
    "start_time": "2023-01-17T08:25:38.384Z"
   },
   {
    "duration": 132,
    "start_time": "2023-01-17T08:26:51.701Z"
   },
   {
    "duration": 29,
    "start_time": "2023-01-17T08:27:32.133Z"
   },
   {
    "duration": 29,
    "start_time": "2023-01-17T08:27:42.774Z"
   },
   {
    "duration": 391,
    "start_time": "2023-01-17T08:28:43.147Z"
   },
   {
    "duration": 977,
    "start_time": "2023-01-17T08:28:43.542Z"
   },
   {
    "duration": 908,
    "start_time": "2023-01-17T08:28:44.521Z"
   },
   {
    "duration": 81,
    "start_time": "2023-01-17T08:28:45.432Z"
   },
   {
    "duration": 14,
    "start_time": "2023-01-17T08:28:45.514Z"
   },
   {
    "duration": 35,
    "start_time": "2023-01-17T08:28:45.529Z"
   },
   {
    "duration": 22,
    "start_time": "2023-01-17T08:28:45.567Z"
   },
   {
    "duration": 998,
    "start_time": "2023-01-17T08:28:45.591Z"
   },
   {
    "duration": 7,
    "start_time": "2023-01-17T08:28:46.591Z"
   },
   {
    "duration": 39,
    "start_time": "2023-01-17T08:28:46.600Z"
   },
   {
    "duration": 28,
    "start_time": "2023-01-17T08:28:46.641Z"
   },
   {
    "duration": 1137,
    "start_time": "2023-01-17T10:20:01.290Z"
   },
   {
    "duration": 314,
    "start_time": "2023-01-17T10:20:02.430Z"
   },
   {
    "duration": 1120,
    "start_time": "2023-01-17T10:20:02.745Z"
   },
   {
    "duration": 72,
    "start_time": "2023-01-17T10:20:03.866Z"
   },
   {
    "duration": 11,
    "start_time": "2023-01-17T10:20:03.941Z"
   },
   {
    "duration": 55,
    "start_time": "2023-01-17T10:20:03.954Z"
   },
   {
    "duration": 25,
    "start_time": "2023-01-17T10:20:04.011Z"
   },
   {
    "duration": 1019,
    "start_time": "2023-01-17T10:20:04.038Z"
   },
   {
    "duration": 9,
    "start_time": "2023-01-17T10:20:05.058Z"
   },
   {
    "duration": 84,
    "start_time": "2023-01-17T10:20:05.069Z"
   },
   {
    "duration": 30,
    "start_time": "2023-01-17T10:20:05.155Z"
   },
   {
    "duration": 1095,
    "start_time": "2023-01-17T10:23:00.524Z"
   },
   {
    "duration": 322,
    "start_time": "2023-01-17T10:23:01.621Z"
   },
   {
    "duration": 951,
    "start_time": "2023-01-17T10:23:01.944Z"
   },
   {
    "duration": 64,
    "start_time": "2023-01-17T10:23:02.897Z"
   },
   {
    "duration": 12,
    "start_time": "2023-01-17T10:23:02.964Z"
   },
   {
    "duration": 36,
    "start_time": "2023-01-17T10:23:02.977Z"
   },
   {
    "duration": 9,
    "start_time": "2023-01-17T10:23:03.015Z"
   },
   {
    "duration": 919,
    "start_time": "2023-01-17T10:23:03.025Z"
   },
   {
    "duration": 8,
    "start_time": "2023-01-17T10:23:03.946Z"
   },
   {
    "duration": 33,
    "start_time": "2023-01-17T10:23:03.956Z"
   },
   {
    "duration": 43,
    "start_time": "2023-01-17T10:23:03.991Z"
   },
   {
    "duration": 25,
    "start_time": "2023-01-17T10:23:04.036Z"
   },
   {
    "duration": 2,
    "start_time": "2023-01-17T10:25:29.923Z"
   },
   {
    "duration": 288,
    "start_time": "2023-01-17T10:31:12.741Z"
   },
   {
    "duration": 1124,
    "start_time": "2023-01-17T10:31:18.990Z"
   },
   {
    "duration": 361,
    "start_time": "2023-01-17T10:31:20.116Z"
   },
   {
    "duration": 1159,
    "start_time": "2023-01-17T10:31:20.479Z"
   },
   {
    "duration": 84,
    "start_time": "2023-01-17T10:31:21.641Z"
   },
   {
    "duration": 13,
    "start_time": "2023-01-17T10:31:21.727Z"
   },
   {
    "duration": 24,
    "start_time": "2023-01-17T10:31:21.742Z"
   },
   {
    "duration": 9,
    "start_time": "2023-01-17T10:31:21.768Z"
   },
   {
    "duration": 1015,
    "start_time": "2023-01-17T10:31:21.779Z"
   },
   {
    "duration": 18,
    "start_time": "2023-01-17T10:31:22.796Z"
   },
   {
    "duration": 30,
    "start_time": "2023-01-17T10:31:22.817Z"
   },
   {
    "duration": 26,
    "start_time": "2023-01-17T10:31:22.849Z"
   },
   {
    "duration": 48,
    "start_time": "2023-01-17T10:31:22.877Z"
   },
   {
    "duration": 2,
    "start_time": "2023-01-17T10:31:22.927Z"
   },
   {
    "duration": 270,
    "start_time": "2023-01-17T10:31:22.931Z"
   },
   {
    "duration": 1108,
    "start_time": "2023-01-17T10:31:40.981Z"
   },
   {
    "duration": 310,
    "start_time": "2023-01-17T10:31:42.091Z"
   },
   {
    "duration": 1091,
    "start_time": "2023-01-17T10:31:42.402Z"
   },
   {
    "duration": 67,
    "start_time": "2023-01-17T10:31:43.496Z"
   },
   {
    "duration": 13,
    "start_time": "2023-01-17T10:31:43.565Z"
   },
   {
    "duration": 34,
    "start_time": "2023-01-17T10:31:43.580Z"
   },
   {
    "duration": 11,
    "start_time": "2023-01-17T10:31:43.615Z"
   },
   {
    "duration": 1006,
    "start_time": "2023-01-17T10:31:43.628Z"
   },
   {
    "duration": 12,
    "start_time": "2023-01-17T10:31:44.636Z"
   },
   {
    "duration": 58,
    "start_time": "2023-01-17T10:31:44.651Z"
   },
   {
    "duration": 31,
    "start_time": "2023-01-17T10:31:44.710Z"
   },
   {
    "duration": 27,
    "start_time": "2023-01-17T10:31:44.743Z"
   },
   {
    "duration": 3,
    "start_time": "2023-01-17T10:31:44.771Z"
   },
   {
    "duration": 242,
    "start_time": "2023-01-17T10:31:44.776Z"
   },
   {
    "duration": 105,
    "start_time": "2023-01-17T10:34:13.477Z"
   },
   {
    "duration": 11,
    "start_time": "2023-01-17T10:34:31.104Z"
   },
   {
    "duration": 10,
    "start_time": "2023-01-17T10:34:42.904Z"
   },
   {
    "duration": 1096,
    "start_time": "2023-01-17T10:35:56.478Z"
   },
   {
    "duration": 307,
    "start_time": "2023-01-17T10:35:57.576Z"
   },
   {
    "duration": 937,
    "start_time": "2023-01-17T10:35:57.884Z"
   },
   {
    "duration": 89,
    "start_time": "2023-01-17T10:35:58.824Z"
   },
   {
    "duration": 15,
    "start_time": "2023-01-17T10:35:58.915Z"
   },
   {
    "duration": 68,
    "start_time": "2023-01-17T10:35:58.931Z"
   },
   {
    "duration": 62,
    "start_time": "2023-01-17T10:35:59.001Z"
   },
   {
    "duration": 1067,
    "start_time": "2023-01-17T10:35:59.065Z"
   },
   {
    "duration": 8,
    "start_time": "2023-01-17T10:36:00.134Z"
   },
   {
    "duration": 43,
    "start_time": "2023-01-17T10:36:00.145Z"
   },
   {
    "duration": 37,
    "start_time": "2023-01-17T10:36:00.190Z"
   },
   {
    "duration": 36,
    "start_time": "2023-01-17T10:36:00.229Z"
   },
   {
    "duration": 135,
    "start_time": "2023-01-17T10:36:00.268Z"
   },
   {
    "duration": 110,
    "start_time": "2023-01-17T10:36:00.406Z"
   },
   {
    "duration": 202,
    "start_time": "2023-01-17T10:36:00.518Z"
   },
   {
    "duration": 3,
    "start_time": "2023-01-17T10:36:08.348Z"
   },
   {
    "duration": 1053,
    "start_time": "2023-01-17T10:36:22.647Z"
   },
   {
    "duration": 331,
    "start_time": "2023-01-17T10:36:23.702Z"
   },
   {
    "duration": 1026,
    "start_time": "2023-01-17T10:36:24.035Z"
   },
   {
    "duration": 74,
    "start_time": "2023-01-17T10:36:25.064Z"
   },
   {
    "duration": 17,
    "start_time": "2023-01-17T10:36:25.140Z"
   },
   {
    "duration": 42,
    "start_time": "2023-01-17T10:36:25.159Z"
   },
   {
    "duration": 17,
    "start_time": "2023-01-17T10:36:25.202Z"
   },
   {
    "duration": 1008,
    "start_time": "2023-01-17T10:36:25.221Z"
   },
   {
    "duration": 9,
    "start_time": "2023-01-17T10:36:26.230Z"
   },
   {
    "duration": 37,
    "start_time": "2023-01-17T10:36:26.242Z"
   },
   {
    "duration": 46,
    "start_time": "2023-01-17T10:36:26.280Z"
   },
   {
    "duration": 25,
    "start_time": "2023-01-17T10:36:26.329Z"
   },
   {
    "duration": 3,
    "start_time": "2023-01-17T10:36:26.356Z"
   },
   {
    "duration": 128,
    "start_time": "2023-01-17T10:36:26.361Z"
   },
   {
    "duration": 0,
    "start_time": "2023-01-17T10:36:26.491Z"
   },
   {
    "duration": 1097,
    "start_time": "2023-01-17T10:36:41.899Z"
   },
   {
    "duration": 308,
    "start_time": "2023-01-17T10:36:42.997Z"
   },
   {
    "duration": 952,
    "start_time": "2023-01-17T10:36:43.306Z"
   },
   {
    "duration": 72,
    "start_time": "2023-01-17T10:36:44.260Z"
   },
   {
    "duration": 14,
    "start_time": "2023-01-17T10:36:44.333Z"
   },
   {
    "duration": 21,
    "start_time": "2023-01-17T10:36:44.349Z"
   },
   {
    "duration": 15,
    "start_time": "2023-01-17T10:36:44.372Z"
   },
   {
    "duration": 1030,
    "start_time": "2023-01-17T10:36:44.413Z"
   },
   {
    "duration": 7,
    "start_time": "2023-01-17T10:36:45.445Z"
   },
   {
    "duration": 30,
    "start_time": "2023-01-17T10:36:45.454Z"
   },
   {
    "duration": 50,
    "start_time": "2023-01-17T10:36:45.486Z"
   },
   {
    "duration": 26,
    "start_time": "2023-01-17T10:36:45.538Z"
   },
   {
    "duration": 4,
    "start_time": "2023-01-17T10:36:45.566Z"
   },
   {
    "duration": 53,
    "start_time": "2023-01-17T10:36:45.572Z"
   },
   {
    "duration": 92,
    "start_time": "2023-01-17T10:36:45.627Z"
   },
   {
    "duration": 1037,
    "start_time": "2023-01-17T10:37:11.750Z"
   },
   {
    "duration": 312,
    "start_time": "2023-01-17T10:37:12.789Z"
   },
   {
    "duration": 939,
    "start_time": "2023-01-17T10:37:13.103Z"
   },
   {
    "duration": 108,
    "start_time": "2023-01-17T10:37:14.044Z"
   },
   {
    "duration": 16,
    "start_time": "2023-01-17T10:37:14.155Z"
   },
   {
    "duration": 14,
    "start_time": "2023-01-17T10:37:14.173Z"
   },
   {
    "duration": 31,
    "start_time": "2023-01-17T10:37:14.189Z"
   },
   {
    "duration": 1018,
    "start_time": "2023-01-17T10:37:14.222Z"
   },
   {
    "duration": 8,
    "start_time": "2023-01-17T10:37:15.243Z"
   },
   {
    "duration": 31,
    "start_time": "2023-01-17T10:37:15.253Z"
   },
   {
    "duration": 46,
    "start_time": "2023-01-17T10:37:15.286Z"
   },
   {
    "duration": 25,
    "start_time": "2023-01-17T10:37:15.334Z"
   },
   {
    "duration": 3,
    "start_time": "2023-01-17T10:37:15.361Z"
   },
   {
    "duration": 253,
    "start_time": "2023-01-17T10:37:15.367Z"
   },
   {
    "duration": 6,
    "start_time": "2023-01-17T10:37:15.625Z"
   },
   {
    "duration": 1133,
    "start_time": "2023-01-17T10:37:28.017Z"
   },
   {
    "duration": 313,
    "start_time": "2023-01-17T10:37:29.152Z"
   },
   {
    "duration": 804,
    "start_time": "2023-01-17T10:37:29.467Z"
   },
   {
    "duration": 108,
    "start_time": "2023-01-17T10:37:30.273Z"
   },
   {
    "duration": 37,
    "start_time": "2023-01-17T10:37:30.385Z"
   },
   {
    "duration": 77,
    "start_time": "2023-01-17T10:37:30.424Z"
   },
   {
    "duration": 34,
    "start_time": "2023-01-17T10:37:30.504Z"
   },
   {
    "duration": 1093,
    "start_time": "2023-01-17T10:37:30.540Z"
   },
   {
    "duration": 8,
    "start_time": "2023-01-17T10:37:31.635Z"
   },
   {
    "duration": 58,
    "start_time": "2023-01-17T10:37:31.645Z"
   },
   {
    "duration": 34,
    "start_time": "2023-01-17T10:37:31.704Z"
   },
   {
    "duration": 30,
    "start_time": "2023-01-17T10:37:31.741Z"
   },
   {
    "duration": 3,
    "start_time": "2023-01-17T10:37:31.774Z"
   },
   {
    "duration": 46,
    "start_time": "2023-01-17T10:37:31.781Z"
   },
   {
    "duration": 103,
    "start_time": "2023-01-17T10:37:31.914Z"
   },
   {
    "duration": 6,
    "start_time": "2023-01-17T10:40:57.019Z"
   },
   {
    "duration": 1090,
    "start_time": "2023-01-17T10:41:36.926Z"
   },
   {
    "duration": 301,
    "start_time": "2023-01-17T10:41:38.018Z"
   },
   {
    "duration": 919,
    "start_time": "2023-01-17T10:41:38.321Z"
   },
   {
    "duration": 81,
    "start_time": "2023-01-17T10:41:39.242Z"
   },
   {
    "duration": 14,
    "start_time": "2023-01-17T10:41:39.324Z"
   },
   {
    "duration": 11,
    "start_time": "2023-01-17T10:41:39.340Z"
   },
   {
    "duration": 9,
    "start_time": "2023-01-17T10:41:39.352Z"
   },
   {
    "duration": 1056,
    "start_time": "2023-01-17T10:41:39.363Z"
   },
   {
    "duration": 9,
    "start_time": "2023-01-17T10:41:40.422Z"
   },
   {
    "duration": 41,
    "start_time": "2023-01-17T10:41:40.434Z"
   },
   {
    "duration": 49,
    "start_time": "2023-01-17T10:41:40.477Z"
   },
   {
    "duration": 26,
    "start_time": "2023-01-17T10:41:40.528Z"
   },
   {
    "duration": 3,
    "start_time": "2023-01-17T10:41:40.556Z"
   },
   {
    "duration": 62,
    "start_time": "2023-01-17T10:41:40.561Z"
   },
   {
    "duration": 5,
    "start_time": "2023-01-17T10:41:40.714Z"
   },
   {
    "duration": 95,
    "start_time": "2023-01-17T10:41:40.721Z"
   },
   {
    "duration": 1129,
    "start_time": "2023-01-17T10:47:19.720Z"
   },
   {
    "duration": 312,
    "start_time": "2023-01-17T10:47:20.851Z"
   },
   {
    "duration": 1087,
    "start_time": "2023-01-17T10:47:21.165Z"
   },
   {
    "duration": 83,
    "start_time": "2023-01-17T10:47:22.255Z"
   },
   {
    "duration": 13,
    "start_time": "2023-01-17T10:47:22.340Z"
   },
   {
    "duration": 17,
    "start_time": "2023-01-17T10:47:22.355Z"
   },
   {
    "duration": 14,
    "start_time": "2023-01-17T10:47:22.373Z"
   },
   {
    "duration": 1050,
    "start_time": "2023-01-17T10:47:22.389Z"
   },
   {
    "duration": 7,
    "start_time": "2023-01-17T10:47:23.441Z"
   },
   {
    "duration": 49,
    "start_time": "2023-01-17T10:47:23.450Z"
   },
   {
    "duration": 29,
    "start_time": "2023-01-17T10:47:23.501Z"
   },
   {
    "duration": 26,
    "start_time": "2023-01-17T10:47:23.532Z"
   },
   {
    "duration": 3,
    "start_time": "2023-01-17T10:47:23.560Z"
   },
   {
    "duration": 58,
    "start_time": "2023-01-17T10:47:23.565Z"
   },
   {
    "duration": 5,
    "start_time": "2023-01-17T10:47:23.713Z"
   },
   {
    "duration": 96,
    "start_time": "2023-01-17T10:47:23.720Z"
   },
   {
    "duration": 1094,
    "start_time": "2023-01-17T10:52:33.033Z"
   },
   {
    "duration": 324,
    "start_time": "2023-01-17T10:52:34.129Z"
   },
   {
    "duration": 1002,
    "start_time": "2023-01-17T10:52:34.455Z"
   },
   {
    "duration": 77,
    "start_time": "2023-01-17T10:52:35.458Z"
   },
   {
    "duration": 13,
    "start_time": "2023-01-17T10:52:35.537Z"
   },
   {
    "duration": 34,
    "start_time": "2023-01-17T10:52:35.551Z"
   },
   {
    "duration": 24,
    "start_time": "2023-01-17T10:52:35.587Z"
   },
   {
    "duration": 1032,
    "start_time": "2023-01-17T10:52:35.614Z"
   },
   {
    "duration": 7,
    "start_time": "2023-01-17T10:52:36.648Z"
   },
   {
    "duration": 31,
    "start_time": "2023-01-17T10:52:36.657Z"
   },
   {
    "duration": 42,
    "start_time": "2023-01-17T10:52:36.690Z"
   },
   {
    "duration": 27,
    "start_time": "2023-01-17T10:52:36.734Z"
   },
   {
    "duration": 3,
    "start_time": "2023-01-17T10:52:36.762Z"
   },
   {
    "duration": 150,
    "start_time": "2023-01-17T10:52:36.767Z"
   },
   {
    "duration": 97,
    "start_time": "2023-01-17T10:52:36.919Z"
   },
   {
    "duration": 137,
    "start_time": "2023-01-17T10:52:37.018Z"
   },
   {
    "duration": 1125,
    "start_time": "2023-01-17T10:53:38.894Z"
   },
   {
    "duration": 342,
    "start_time": "2023-01-17T10:53:40.021Z"
   },
   {
    "duration": 863,
    "start_time": "2023-01-17T10:53:40.365Z"
   },
   {
    "duration": 86,
    "start_time": "2023-01-17T10:53:41.230Z"
   },
   {
    "duration": 15,
    "start_time": "2023-01-17T10:53:41.319Z"
   },
   {
    "duration": 16,
    "start_time": "2023-01-17T10:53:41.337Z"
   },
   {
    "duration": 12,
    "start_time": "2023-01-17T10:53:41.355Z"
   },
   {
    "duration": 970,
    "start_time": "2023-01-17T10:53:41.369Z"
   },
   {
    "duration": 8,
    "start_time": "2023-01-17T10:53:42.340Z"
   },
   {
    "duration": 54,
    "start_time": "2023-01-17T10:53:42.349Z"
   },
   {
    "duration": 28,
    "start_time": "2023-01-17T10:53:42.405Z"
   },
   {
    "duration": 3,
    "start_time": "2023-01-17T10:53:42.435Z"
   },
   {
    "duration": 175,
    "start_time": "2023-01-17T10:53:42.440Z"
   },
   {
    "duration": 4,
    "start_time": "2023-01-17T10:53:42.618Z"
   },
   {
    "duration": 191,
    "start_time": "2023-01-17T10:53:42.624Z"
   },
   {
    "duration": 1040,
    "start_time": "2023-01-17T10:55:12.769Z"
   },
   {
    "duration": 319,
    "start_time": "2023-01-17T10:55:13.811Z"
   },
   {
    "duration": 848,
    "start_time": "2023-01-17T10:55:14.132Z"
   },
   {
    "duration": 67,
    "start_time": "2023-01-17T10:55:14.983Z"
   },
   {
    "duration": 12,
    "start_time": "2023-01-17T10:55:15.052Z"
   },
   {
    "duration": 14,
    "start_time": "2023-01-17T10:55:15.066Z"
   },
   {
    "duration": 39,
    "start_time": "2023-01-17T10:55:15.082Z"
   },
   {
    "duration": 995,
    "start_time": "2023-01-17T10:55:15.122Z"
   },
   {
    "duration": 8,
    "start_time": "2023-01-17T10:55:16.119Z"
   },
   {
    "duration": 37,
    "start_time": "2023-01-17T10:55:16.129Z"
   },
   {
    "duration": 29,
    "start_time": "2023-01-17T10:55:16.167Z"
   },
   {
    "duration": 39,
    "start_time": "2023-01-17T10:55:16.198Z"
   },
   {
    "duration": 3,
    "start_time": "2023-01-17T10:55:16.239Z"
   },
   {
    "duration": 78,
    "start_time": "2023-01-17T10:55:16.244Z"
   },
   {
    "duration": 6,
    "start_time": "2023-01-17T10:55:16.413Z"
   },
   {
    "duration": 94,
    "start_time": "2023-01-17T10:55:16.422Z"
   },
   {
    "duration": 1118,
    "start_time": "2023-01-17T10:56:24.155Z"
   },
   {
    "duration": 332,
    "start_time": "2023-01-17T10:56:25.275Z"
   },
   {
    "duration": 1014,
    "start_time": "2023-01-17T10:56:25.609Z"
   },
   {
    "duration": 109,
    "start_time": "2023-01-17T10:56:26.625Z"
   },
   {
    "duration": 17,
    "start_time": "2023-01-17T10:56:26.736Z"
   },
   {
    "duration": 19,
    "start_time": "2023-01-17T10:56:26.756Z"
   },
   {
    "duration": 30,
    "start_time": "2023-01-17T10:56:26.777Z"
   },
   {
    "duration": 1028,
    "start_time": "2023-01-17T10:56:26.813Z"
   },
   {
    "duration": 7,
    "start_time": "2023-01-17T10:56:27.843Z"
   },
   {
    "duration": 37,
    "start_time": "2023-01-17T10:56:27.852Z"
   },
   {
    "duration": 48,
    "start_time": "2023-01-17T10:56:27.890Z"
   },
   {
    "duration": 27,
    "start_time": "2023-01-17T10:56:27.940Z"
   },
   {
    "duration": 3,
    "start_time": "2023-01-17T10:56:27.969Z"
   },
   {
    "duration": 140,
    "start_time": "2023-01-17T10:56:27.974Z"
   },
   {
    "duration": 6,
    "start_time": "2023-01-17T10:56:28.116Z"
   },
   {
    "duration": 19,
    "start_time": "2023-01-17T10:56:28.212Z"
   },
   {
    "duration": 1242,
    "start_time": "2023-01-17T10:57:00.080Z"
   },
   {
    "duration": 320,
    "start_time": "2023-01-17T10:57:01.324Z"
   },
   {
    "duration": 829,
    "start_time": "2023-01-17T10:57:01.646Z"
   },
   {
    "duration": 71,
    "start_time": "2023-01-17T10:57:02.477Z"
   },
   {
    "duration": 11,
    "start_time": "2023-01-17T10:57:02.550Z"
   },
   {
    "duration": 54,
    "start_time": "2023-01-17T10:57:02.563Z"
   },
   {
    "duration": 26,
    "start_time": "2023-01-17T10:57:02.619Z"
   },
   {
    "duration": 1702,
    "start_time": "2023-01-17T10:57:02.648Z"
   },
   {
    "duration": 62,
    "start_time": "2023-01-17T10:57:04.351Z"
   },
   {
    "duration": 37,
    "start_time": "2023-01-17T10:57:04.415Z"
   },
   {
    "duration": 82,
    "start_time": "2023-01-17T10:57:04.454Z"
   },
   {
    "duration": 84,
    "start_time": "2023-01-17T10:57:04.537Z"
   },
   {
    "duration": 3,
    "start_time": "2023-01-17T10:57:04.623Z"
   },
   {
    "duration": 94,
    "start_time": "2023-01-17T10:57:04.630Z"
   },
   {
    "duration": 90,
    "start_time": "2023-01-17T10:57:04.727Z"
   },
   {
    "duration": 122,
    "start_time": "2023-01-17T10:57:04.822Z"
   },
   {
    "duration": 103,
    "start_time": "2023-01-17T11:06:03.678Z"
   },
   {
    "duration": 1086,
    "start_time": "2023-01-17T11:06:10.632Z"
   },
   {
    "duration": 305,
    "start_time": "2023-01-17T11:06:11.721Z"
   },
   {
    "duration": 1026,
    "start_time": "2023-01-17T11:06:12.028Z"
   },
   {
    "duration": 73,
    "start_time": "2023-01-17T11:06:13.056Z"
   },
   {
    "duration": 14,
    "start_time": "2023-01-17T11:06:13.131Z"
   },
   {
    "duration": 18,
    "start_time": "2023-01-17T11:06:13.147Z"
   },
   {
    "duration": 10,
    "start_time": "2023-01-17T11:06:13.166Z"
   },
   {
    "duration": 967,
    "start_time": "2023-01-17T11:06:13.177Z"
   },
   {
    "duration": 8,
    "start_time": "2023-01-17T11:06:14.145Z"
   },
   {
    "duration": 51,
    "start_time": "2023-01-17T11:06:14.156Z"
   },
   {
    "duration": 31,
    "start_time": "2023-01-17T11:06:14.209Z"
   },
   {
    "duration": 29,
    "start_time": "2023-01-17T11:06:14.241Z"
   },
   {
    "duration": 3,
    "start_time": "2023-01-17T11:06:14.272Z"
   },
   {
    "duration": 43,
    "start_time": "2023-01-17T11:06:14.277Z"
   },
   {
    "duration": 6,
    "start_time": "2023-01-17T11:06:14.322Z"
   },
   {
    "duration": 103,
    "start_time": "2023-01-17T11:06:14.414Z"
   },
   {
    "duration": 15,
    "start_time": "2023-01-17T11:06:14.518Z"
   },
   {
    "duration": 8,
    "start_time": "2023-01-17T11:06:14.534Z"
   },
   {
    "duration": 3,
    "start_time": "2023-01-17T11:06:57.199Z"
   },
   {
    "duration": 7,
    "start_time": "2023-01-17T11:10:42.613Z"
   },
   {
    "duration": 5,
    "start_time": "2023-01-17T11:10:47.525Z"
   },
   {
    "duration": 1069,
    "start_time": "2023-01-17T11:31:16.754Z"
   },
   {
    "duration": 308,
    "start_time": "2023-01-17T11:31:17.825Z"
   },
   {
    "duration": 1137,
    "start_time": "2023-01-17T11:31:18.135Z"
   },
   {
    "duration": 68,
    "start_time": "2023-01-17T11:31:19.275Z"
   },
   {
    "duration": 13,
    "start_time": "2023-01-17T11:31:19.344Z"
   },
   {
    "duration": 15,
    "start_time": "2023-01-17T11:31:19.358Z"
   },
   {
    "duration": 14,
    "start_time": "2023-01-17T11:31:19.375Z"
   },
   {
    "duration": 964,
    "start_time": "2023-01-17T11:31:19.412Z"
   },
   {
    "duration": 10,
    "start_time": "2023-01-17T11:31:20.378Z"
   },
   {
    "duration": 53,
    "start_time": "2023-01-17T11:31:20.391Z"
   },
   {
    "duration": 36,
    "start_time": "2023-01-17T11:31:20.446Z"
   },
   {
    "duration": 55,
    "start_time": "2023-01-17T11:31:20.485Z"
   },
   {
    "duration": 3,
    "start_time": "2023-01-17T11:31:20.541Z"
   },
   {
    "duration": 169,
    "start_time": "2023-01-17T11:31:20.546Z"
   },
   {
    "duration": 4,
    "start_time": "2023-01-17T11:31:20.717Z"
   },
   {
    "duration": 208,
    "start_time": "2023-01-17T11:31:20.723Z"
   },
   {
    "duration": 19,
    "start_time": "2023-01-17T11:31:20.932Z"
   },
   {
    "duration": 32,
    "start_time": "2023-01-17T11:31:20.953Z"
   },
   {
    "duration": 13,
    "start_time": "2023-01-17T11:31:20.986Z"
   },
   {
    "duration": 15,
    "start_time": "2023-01-17T11:31:21.000Z"
   },
   {
    "duration": 12,
    "start_time": "2023-01-17T11:31:21.017Z"
   },
   {
    "duration": 116,
    "start_time": "2023-01-17T11:34:38.167Z"
   },
   {
    "duration": 1035,
    "start_time": "2023-01-17T11:34:53.655Z"
   },
   {
    "duration": 301,
    "start_time": "2023-01-17T11:34:54.692Z"
   },
   {
    "duration": 945,
    "start_time": "2023-01-17T11:34:54.994Z"
   },
   {
    "duration": 72,
    "start_time": "2023-01-17T11:34:55.942Z"
   },
   {
    "duration": 13,
    "start_time": "2023-01-17T11:34:56.015Z"
   },
   {
    "duration": 70,
    "start_time": "2023-01-17T11:34:56.030Z"
   },
   {
    "duration": 10,
    "start_time": "2023-01-17T11:34:56.102Z"
   },
   {
    "duration": 989,
    "start_time": "2023-01-17T11:34:56.114Z"
   },
   {
    "duration": 12,
    "start_time": "2023-01-17T11:34:57.105Z"
   },
   {
    "duration": 37,
    "start_time": "2023-01-17T11:34:57.120Z"
   },
   {
    "duration": 33,
    "start_time": "2023-01-17T11:34:57.159Z"
   },
   {
    "duration": 42,
    "start_time": "2023-01-17T11:34:57.194Z"
   },
   {
    "duration": 3,
    "start_time": "2023-01-17T11:34:57.238Z"
   },
   {
    "duration": 78,
    "start_time": "2023-01-17T11:34:57.243Z"
   },
   {
    "duration": 190,
    "start_time": "2023-01-17T11:34:57.323Z"
   },
   {
    "duration": 24,
    "start_time": "2023-01-17T11:34:57.515Z"
   },
   {
    "duration": 10,
    "start_time": "2023-01-17T11:34:57.541Z"
   },
   {
    "duration": 24,
    "start_time": "2023-01-17T11:34:57.552Z"
   },
   {
    "duration": 21,
    "start_time": "2023-01-17T11:34:57.577Z"
   },
   {
    "duration": 21,
    "start_time": "2023-01-17T11:34:57.600Z"
   },
   {
    "duration": 17,
    "start_time": "2023-01-17T11:34:57.623Z"
   },
   {
    "duration": 134,
    "start_time": "2023-01-17T11:34:57.642Z"
   },
   {
    "duration": 4,
    "start_time": "2023-01-17T11:36:03.559Z"
   },
   {
    "duration": 17,
    "start_time": "2023-01-17T11:36:05.887Z"
   },
   {
    "duration": 4,
    "start_time": "2023-01-17T11:36:38.897Z"
   },
   {
    "duration": 9,
    "start_time": "2023-01-17T11:36:53.872Z"
   },
   {
    "duration": 4,
    "start_time": "2023-01-17T11:37:24.982Z"
   },
   {
    "duration": 15,
    "start_time": "2023-01-17T11:37:26.735Z"
   },
   {
    "duration": 3,
    "start_time": "2023-01-17T11:37:40.182Z"
   },
   {
    "duration": 14,
    "start_time": "2023-01-17T11:37:41.679Z"
   },
   {
    "duration": 3,
    "start_time": "2023-01-17T11:37:59.955Z"
   },
   {
    "duration": 16,
    "start_time": "2023-01-17T11:38:01.342Z"
   },
   {
    "duration": 1088,
    "start_time": "2023-01-17T11:38:22.030Z"
   },
   {
    "duration": 308,
    "start_time": "2023-01-17T11:38:23.120Z"
   },
   {
    "duration": 1373,
    "start_time": "2023-01-17T11:38:23.430Z"
   },
   {
    "duration": 66,
    "start_time": "2023-01-17T11:38:24.806Z"
   },
   {
    "duration": 13,
    "start_time": "2023-01-17T11:38:24.874Z"
   },
   {
    "duration": 14,
    "start_time": "2023-01-17T11:38:24.913Z"
   },
   {
    "duration": 24,
    "start_time": "2023-01-17T11:38:24.929Z"
   },
   {
    "duration": 996,
    "start_time": "2023-01-17T11:38:24.955Z"
   },
   {
    "duration": 7,
    "start_time": "2023-01-17T11:38:25.953Z"
   },
   {
    "duration": 40,
    "start_time": "2023-01-17T11:38:25.963Z"
   },
   {
    "duration": 32,
    "start_time": "2023-01-17T11:38:26.005Z"
   },
   {
    "duration": 34,
    "start_time": "2023-01-17T11:38:26.040Z"
   },
   {
    "duration": 3,
    "start_time": "2023-01-17T11:38:26.076Z"
   },
   {
    "duration": 134,
    "start_time": "2023-01-17T11:38:26.081Z"
   },
   {
    "duration": 9,
    "start_time": "2023-01-17T11:38:26.217Z"
   },
   {
    "duration": 127,
    "start_time": "2023-01-17T11:38:26.317Z"
   },
   {
    "duration": 29,
    "start_time": "2023-01-17T11:38:26.445Z"
   },
   {
    "duration": 20,
    "start_time": "2023-01-17T11:38:26.475Z"
   },
   {
    "duration": 28,
    "start_time": "2023-01-17T11:38:26.497Z"
   },
   {
    "duration": 17,
    "start_time": "2023-01-17T11:38:26.527Z"
   },
   {
    "duration": 30,
    "start_time": "2023-01-17T11:38:26.545Z"
   },
   {
    "duration": 29,
    "start_time": "2023-01-17T11:38:26.577Z"
   },
   {
    "duration": 14,
    "start_time": "2023-01-17T11:39:37.576Z"
   },
   {
    "duration": 14,
    "start_time": "2023-01-17T11:39:48.976Z"
   },
   {
    "duration": 9,
    "start_time": "2023-01-17T11:40:46.711Z"
   },
   {
    "duration": 110,
    "start_time": "2023-01-17T11:42:43.865Z"
   },
   {
    "duration": 74,
    "start_time": "2023-01-17T11:42:53.167Z"
   },
   {
    "duration": 13,
    "start_time": "2023-01-17T11:42:59.542Z"
   },
   {
    "duration": 517,
    "start_time": "2023-01-17T11:43:42.169Z"
   },
   {
    "duration": 18,
    "start_time": "2023-01-17T11:44:14.642Z"
   },
   {
    "duration": 10,
    "start_time": "2023-01-17T11:44:33.734Z"
   },
   {
    "duration": 10,
    "start_time": "2023-01-17T11:44:51.558Z"
   },
   {
    "duration": 9,
    "start_time": "2023-01-17T11:44:59.863Z"
   },
   {
    "duration": 10,
    "start_time": "2023-01-17T11:45:09.958Z"
   },
   {
    "duration": 10,
    "start_time": "2023-01-17T11:45:37.471Z"
   },
   {
    "duration": 11,
    "start_time": "2023-01-17T11:45:47.432Z"
   },
   {
    "duration": 11,
    "start_time": "2023-01-17T11:45:57.630Z"
   },
   {
    "duration": 11,
    "start_time": "2023-01-17T11:47:57.678Z"
   },
   {
    "duration": 14,
    "start_time": "2023-01-17T11:48:28.982Z"
   },
   {
    "duration": 1050,
    "start_time": "2023-01-17T11:49:12.025Z"
   },
   {
    "duration": 302,
    "start_time": "2023-01-17T11:49:13.078Z"
   },
   {
    "duration": 1074,
    "start_time": "2023-01-17T11:49:13.382Z"
   },
   {
    "duration": 71,
    "start_time": "2023-01-17T11:49:14.458Z"
   },
   {
    "duration": 13,
    "start_time": "2023-01-17T11:49:14.531Z"
   },
   {
    "duration": 14,
    "start_time": "2023-01-17T11:49:14.545Z"
   },
   {
    "duration": 10,
    "start_time": "2023-01-17T11:49:14.560Z"
   },
   {
    "duration": 1008,
    "start_time": "2023-01-17T11:49:14.571Z"
   },
   {
    "duration": 8,
    "start_time": "2023-01-17T11:49:15.580Z"
   },
   {
    "duration": 68,
    "start_time": "2023-01-17T11:49:15.590Z"
   },
   {
    "duration": 28,
    "start_time": "2023-01-17T11:49:15.660Z"
   },
   {
    "duration": 26,
    "start_time": "2023-01-17T11:49:15.689Z"
   },
   {
    "duration": 3,
    "start_time": "2023-01-17T11:49:15.717Z"
   },
   {
    "duration": 105,
    "start_time": "2023-01-17T11:49:15.722Z"
   },
   {
    "duration": 5,
    "start_time": "2023-01-17T11:49:15.915Z"
   },
   {
    "duration": 13,
    "start_time": "2023-01-17T11:49:16.013Z"
   },
   {
    "duration": 10,
    "start_time": "2023-01-17T11:49:16.028Z"
   },
   {
    "duration": 11,
    "start_time": "2023-01-17T11:49:16.040Z"
   },
   {
    "duration": 27,
    "start_time": "2023-01-17T11:49:16.053Z"
   },
   {
    "duration": 8,
    "start_time": "2023-01-17T11:49:16.082Z"
   },
   {
    "duration": 7,
    "start_time": "2023-01-17T11:49:16.092Z"
   },
   {
    "duration": 17,
    "start_time": "2023-01-17T11:49:16.101Z"
   },
   {
    "duration": 6,
    "start_time": "2023-01-17T13:10:28.636Z"
   },
   {
    "duration": 91,
    "start_time": "2023-01-17T13:17:39.016Z"
   },
   {
    "duration": 115,
    "start_time": "2023-01-17T13:19:03.842Z"
   },
   {
    "duration": 1098,
    "start_time": "2023-01-17T13:19:22.909Z"
   },
   {
    "duration": 309,
    "start_time": "2023-01-17T13:19:24.009Z"
   },
   {
    "duration": 1178,
    "start_time": "2023-01-17T13:19:24.319Z"
   },
   {
    "duration": 73,
    "start_time": "2023-01-17T13:19:25.500Z"
   },
   {
    "duration": 13,
    "start_time": "2023-01-17T13:19:25.574Z"
   },
   {
    "duration": 33,
    "start_time": "2023-01-17T13:19:25.588Z"
   },
   {
    "duration": 10,
    "start_time": "2023-01-17T13:19:25.623Z"
   },
   {
    "duration": 1014,
    "start_time": "2023-01-17T13:19:25.635Z"
   },
   {
    "duration": 8,
    "start_time": "2023-01-17T13:19:26.651Z"
   },
   {
    "duration": 37,
    "start_time": "2023-01-17T13:19:26.662Z"
   },
   {
    "duration": 33,
    "start_time": "2023-01-17T13:19:26.701Z"
   },
   {
    "duration": 27,
    "start_time": "2023-01-17T13:19:26.736Z"
   },
   {
    "duration": 4,
    "start_time": "2023-01-17T13:19:26.765Z"
   },
   {
    "duration": 51,
    "start_time": "2023-01-17T13:19:26.771Z"
   },
   {
    "duration": 94,
    "start_time": "2023-01-17T13:19:26.920Z"
   },
   {
    "duration": 8,
    "start_time": "2023-01-17T13:19:27.015Z"
   },
   {
    "duration": 6,
    "start_time": "2023-01-17T13:19:27.025Z"
   },
   {
    "duration": 14,
    "start_time": "2023-01-17T13:19:27.033Z"
   },
   {
    "duration": 10,
    "start_time": "2023-01-17T13:19:27.049Z"
   },
   {
    "duration": 14,
    "start_time": "2023-01-17T13:19:27.060Z"
   },
   {
    "duration": 24,
    "start_time": "2023-01-17T13:19:27.075Z"
   },
   {
    "duration": 17,
    "start_time": "2023-01-17T13:19:27.101Z"
   },
   {
    "duration": 6,
    "start_time": "2023-01-17T13:19:27.120Z"
   },
   {
    "duration": 1137,
    "start_time": "2023-01-17T13:19:27.128Z"
   },
   {
    "duration": 6,
    "start_time": "2023-01-17T13:20:05.370Z"
   },
   {
    "duration": 1012,
    "start_time": "2023-01-17T13:20:07.899Z"
   },
   {
    "duration": 6,
    "start_time": "2023-01-17T13:20:22.133Z"
   },
   {
    "duration": 1085,
    "start_time": "2023-01-17T13:20:23.714Z"
   },
   {
    "duration": 1111,
    "start_time": "2023-01-17T13:21:00.778Z"
   },
   {
    "duration": 307,
    "start_time": "2023-01-17T13:21:01.891Z"
   },
   {
    "duration": 913,
    "start_time": "2023-01-17T13:21:02.199Z"
   },
   {
    "duration": 67,
    "start_time": "2023-01-17T13:21:03.115Z"
   },
   {
    "duration": 39,
    "start_time": "2023-01-17T13:21:03.184Z"
   },
   {
    "duration": 15,
    "start_time": "2023-01-17T13:21:03.224Z"
   },
   {
    "duration": 10,
    "start_time": "2023-01-17T13:21:03.240Z"
   },
   {
    "duration": 1047,
    "start_time": "2023-01-17T13:21:03.252Z"
   },
   {
    "duration": 8,
    "start_time": "2023-01-17T13:21:04.301Z"
   },
   {
    "duration": 37,
    "start_time": "2023-01-17T13:21:04.314Z"
   },
   {
    "duration": 27,
    "start_time": "2023-01-17T13:21:04.353Z"
   },
   {
    "duration": 42,
    "start_time": "2023-01-17T13:21:04.382Z"
   },
   {
    "duration": 2,
    "start_time": "2023-01-17T13:21:04.426Z"
   },
   {
    "duration": 92,
    "start_time": "2023-01-17T13:21:04.430Z"
   },
   {
    "duration": 96,
    "start_time": "2023-01-17T13:21:04.524Z"
   },
   {
    "duration": 109,
    "start_time": "2023-01-17T13:21:04.621Z"
   },
   {
    "duration": 9,
    "start_time": "2023-01-17T13:21:04.732Z"
   },
   {
    "duration": 13,
    "start_time": "2023-01-17T13:21:04.743Z"
   },
   {
    "duration": 15,
    "start_time": "2023-01-17T13:21:04.758Z"
   },
   {
    "duration": 9,
    "start_time": "2023-01-17T13:21:04.775Z"
   },
   {
    "duration": 23,
    "start_time": "2023-01-17T13:21:04.786Z"
   },
   {
    "duration": 22,
    "start_time": "2023-01-17T13:21:04.811Z"
   },
   {
    "duration": 6,
    "start_time": "2023-01-17T13:21:04.834Z"
   },
   {
    "duration": 3031,
    "start_time": "2023-01-17T13:21:04.842Z"
   },
   {
    "duration": 3007,
    "start_time": "2023-01-17T13:21:27.065Z"
   },
   {
    "duration": 6,
    "start_time": "2023-01-17T13:21:53.878Z"
   },
   {
    "duration": 3034,
    "start_time": "2023-01-17T13:21:55.670Z"
   },
   {
    "duration": 6,
    "start_time": "2023-01-17T13:22:49.417Z"
   },
   {
    "duration": 3058,
    "start_time": "2023-01-17T13:22:51.141Z"
   },
   {
    "duration": 1041,
    "start_time": "2023-01-17T13:25:03.572Z"
   },
   {
    "duration": 317,
    "start_time": "2023-01-17T13:25:04.616Z"
   },
   {
    "duration": 921,
    "start_time": "2023-01-17T13:25:04.935Z"
   },
   {
    "duration": 72,
    "start_time": "2023-01-17T13:25:05.858Z"
   },
   {
    "duration": 14,
    "start_time": "2023-01-17T13:25:05.931Z"
   },
   {
    "duration": 29,
    "start_time": "2023-01-17T13:25:05.947Z"
   },
   {
    "duration": 27,
    "start_time": "2023-01-17T13:25:05.978Z"
   },
   {
    "duration": 935,
    "start_time": "2023-01-17T13:25:06.007Z"
   },
   {
    "duration": 7,
    "start_time": "2023-01-17T13:25:06.944Z"
   },
   {
    "duration": 37,
    "start_time": "2023-01-17T13:25:06.954Z"
   },
   {
    "duration": 36,
    "start_time": "2023-01-17T13:25:06.992Z"
   },
   {
    "duration": 28,
    "start_time": "2023-01-17T13:25:07.029Z"
   },
   {
    "duration": 3,
    "start_time": "2023-01-17T13:25:07.059Z"
   },
   {
    "duration": 150,
    "start_time": "2023-01-17T13:25:07.063Z"
   },
   {
    "duration": 8,
    "start_time": "2023-01-17T13:25:07.216Z"
   },
   {
    "duration": 107,
    "start_time": "2023-01-17T13:25:07.226Z"
   },
   {
    "duration": 6,
    "start_time": "2023-01-17T13:25:07.336Z"
   },
   {
    "duration": 25,
    "start_time": "2023-01-17T13:25:07.343Z"
   },
   {
    "duration": 24,
    "start_time": "2023-01-17T13:25:07.370Z"
   },
   {
    "duration": 15,
    "start_time": "2023-01-17T13:25:07.397Z"
   },
   {
    "duration": 9,
    "start_time": "2023-01-17T13:25:07.414Z"
   },
   {
    "duration": 21,
    "start_time": "2023-01-17T13:25:07.425Z"
   },
   {
    "duration": 8,
    "start_time": "2023-01-17T13:25:07.448Z"
   },
   {
    "duration": 3035,
    "start_time": "2023-01-17T13:25:07.459Z"
   },
   {
    "duration": 1145,
    "start_time": "2023-01-17T13:28:58.030Z"
   },
   {
    "duration": 307,
    "start_time": "2023-01-17T13:28:59.177Z"
   },
   {
    "duration": 933,
    "start_time": "2023-01-17T13:28:59.486Z"
   },
   {
    "duration": 104,
    "start_time": "2023-01-17T13:29:00.422Z"
   },
   {
    "duration": 16,
    "start_time": "2023-01-17T13:29:00.529Z"
   },
   {
    "duration": 31,
    "start_time": "2023-01-17T13:29:00.547Z"
   },
   {
    "duration": 18,
    "start_time": "2023-01-17T13:29:00.581Z"
   },
   {
    "duration": 1034,
    "start_time": "2023-01-17T13:29:00.601Z"
   },
   {
    "duration": 9,
    "start_time": "2023-01-17T13:29:01.637Z"
   },
   {
    "duration": 37,
    "start_time": "2023-01-17T13:29:01.647Z"
   },
   {
    "duration": 44,
    "start_time": "2023-01-17T13:29:01.685Z"
   },
   {
    "duration": 33,
    "start_time": "2023-01-17T13:29:01.731Z"
   },
   {
    "duration": 3,
    "start_time": "2023-01-17T13:29:01.766Z"
   },
   {
    "duration": 241,
    "start_time": "2023-01-17T13:29:01.772Z"
   },
   {
    "duration": 5,
    "start_time": "2023-01-17T13:29:02.015Z"
   },
   {
    "duration": 106,
    "start_time": "2023-01-17T13:29:02.022Z"
   },
   {
    "duration": 21,
    "start_time": "2023-01-17T13:29:02.130Z"
   },
   {
    "duration": 29,
    "start_time": "2023-01-17T13:29:02.153Z"
   },
   {
    "duration": 14,
    "start_time": "2023-01-17T13:29:02.183Z"
   },
   {
    "duration": 22,
    "start_time": "2023-01-17T13:29:02.199Z"
   },
   {
    "duration": 38,
    "start_time": "2023-01-17T13:29:02.222Z"
   },
   {
    "duration": 40,
    "start_time": "2023-01-17T13:29:02.262Z"
   },
   {
    "duration": 26,
    "start_time": "2023-01-17T13:29:02.303Z"
   },
   {
    "duration": 3033,
    "start_time": "2023-01-17T13:29:02.330Z"
   },
   {
    "duration": 1661,
    "start_time": "2023-01-17T15:19:59.204Z"
   },
   {
    "duration": 537,
    "start_time": "2023-01-17T15:20:00.867Z"
   },
   {
    "duration": 1148,
    "start_time": "2023-01-17T15:20:01.406Z"
   },
   {
    "duration": 69,
    "start_time": "2023-01-17T15:20:02.556Z"
   },
   {
    "duration": 12,
    "start_time": "2023-01-17T15:20:02.627Z"
   },
   {
    "duration": 28,
    "start_time": "2023-01-17T15:20:02.640Z"
   },
   {
    "duration": 40,
    "start_time": "2023-01-17T15:20:02.669Z"
   },
   {
    "duration": 1076,
    "start_time": "2023-01-17T15:20:02.711Z"
   },
   {
    "duration": 8,
    "start_time": "2023-01-17T15:20:03.788Z"
   },
   {
    "duration": 28,
    "start_time": "2023-01-17T15:20:03.799Z"
   },
   {
    "duration": 27,
    "start_time": "2023-01-17T15:20:03.828Z"
   },
   {
    "duration": 27,
    "start_time": "2023-01-17T15:20:03.878Z"
   },
   {
    "duration": 2,
    "start_time": "2023-01-17T15:20:03.907Z"
   },
   {
    "duration": 167,
    "start_time": "2023-01-17T15:20:03.911Z"
   },
   {
    "duration": 103,
    "start_time": "2023-01-17T15:20:04.080Z"
   },
   {
    "duration": 23,
    "start_time": "2023-01-17T15:20:04.186Z"
   },
   {
    "duration": 20,
    "start_time": "2023-01-17T15:20:04.211Z"
   },
   {
    "duration": 38,
    "start_time": "2023-01-17T15:20:04.232Z"
   },
   {
    "duration": 15,
    "start_time": "2023-01-17T15:20:04.272Z"
   },
   {
    "duration": 24,
    "start_time": "2023-01-17T15:20:04.289Z"
   },
   {
    "duration": 9,
    "start_time": "2023-01-17T15:20:04.314Z"
   },
   {
    "duration": 20,
    "start_time": "2023-01-17T15:20:04.325Z"
   },
   {
    "duration": 7,
    "start_time": "2023-01-17T15:20:04.347Z"
   },
   {
    "duration": 2889,
    "start_time": "2023-01-17T15:20:04.356Z"
   },
   {
    "duration": 1528,
    "start_time": "2023-01-17T15:20:43.201Z"
   },
   {
    "duration": 313,
    "start_time": "2023-01-17T15:20:44.732Z"
   },
   {
    "duration": 991,
    "start_time": "2023-01-17T15:20:45.047Z"
   },
   {
    "duration": 75,
    "start_time": "2023-01-17T15:20:46.041Z"
   },
   {
    "duration": 13,
    "start_time": "2023-01-17T15:20:46.118Z"
   },
   {
    "duration": 16,
    "start_time": "2023-01-17T15:20:46.133Z"
   },
   {
    "duration": 32,
    "start_time": "2023-01-17T15:20:46.150Z"
   },
   {
    "duration": 895,
    "start_time": "2023-01-17T15:20:46.184Z"
   },
   {
    "duration": 7,
    "start_time": "2023-01-17T15:20:47.081Z"
   },
   {
    "duration": 33,
    "start_time": "2023-01-17T15:20:47.090Z"
   },
   {
    "duration": 28,
    "start_time": "2023-01-17T15:20:47.125Z"
   },
   {
    "duration": 42,
    "start_time": "2023-01-17T15:20:47.154Z"
   },
   {
    "duration": 3,
    "start_time": "2023-01-17T15:20:47.198Z"
   },
   {
    "duration": 77,
    "start_time": "2023-01-17T15:20:47.203Z"
   },
   {
    "duration": 98,
    "start_time": "2023-01-17T15:20:47.282Z"
   },
   {
    "duration": 99,
    "start_time": "2023-01-17T15:20:47.382Z"
   },
   {
    "duration": 8,
    "start_time": "2023-01-17T15:20:47.482Z"
   },
   {
    "duration": 8,
    "start_time": "2023-01-17T15:20:47.491Z"
   },
   {
    "duration": 7,
    "start_time": "2023-01-17T15:20:47.501Z"
   },
   {
    "duration": 16,
    "start_time": "2023-01-17T15:20:47.509Z"
   },
   {
    "duration": 14,
    "start_time": "2023-01-17T15:20:47.526Z"
   },
   {
    "duration": 18,
    "start_time": "2023-01-17T15:20:47.542Z"
   },
   {
    "duration": 10,
    "start_time": "2023-01-17T15:20:47.561Z"
   },
   {
    "duration": 2762,
    "start_time": "2023-01-17T15:20:47.572Z"
   },
   {
    "duration": 53,
    "start_time": "2023-03-23T11:12:51.343Z"
   },
   {
    "duration": 1109,
    "start_time": "2023-03-23T11:12:58.397Z"
   },
   {
    "duration": 507,
    "start_time": "2023-03-23T11:12:59.508Z"
   },
   {
    "duration": 1742,
    "start_time": "2023-03-23T11:13:00.017Z"
   },
   {
    "duration": 126,
    "start_time": "2023-03-23T11:13:01.762Z"
   },
   {
    "duration": 14,
    "start_time": "2023-03-23T11:13:01.890Z"
   },
   {
    "duration": 66,
    "start_time": "2023-03-23T11:13:01.906Z"
   },
   {
    "duration": 41,
    "start_time": "2023-03-23T11:13:01.974Z"
   },
   {
    "duration": 1085,
    "start_time": "2023-03-23T11:13:02.017Z"
   },
   {
    "duration": 8,
    "start_time": "2023-03-23T11:13:03.104Z"
   },
   {
    "duration": 43,
    "start_time": "2023-03-23T11:13:03.114Z"
   },
   {
    "duration": 27,
    "start_time": "2023-03-23T11:13:03.159Z"
   },
   {
    "duration": 28,
    "start_time": "2023-03-23T11:13:03.188Z"
   },
   {
    "duration": 3,
    "start_time": "2023-03-23T11:13:03.217Z"
   },
   {
    "duration": 244,
    "start_time": "2023-03-23T11:13:03.222Z"
   },
   {
    "duration": 95,
    "start_time": "2023-03-23T11:13:03.468Z"
   },
   {
    "duration": 109,
    "start_time": "2023-03-23T11:13:03.565Z"
   },
   {
    "duration": 6,
    "start_time": "2023-03-23T11:13:03.676Z"
   },
   {
    "duration": 26,
    "start_time": "2023-03-23T11:13:03.684Z"
   },
   {
    "duration": 16,
    "start_time": "2023-03-23T11:13:03.711Z"
   },
   {
    "duration": 8,
    "start_time": "2023-03-23T11:13:03.729Z"
   },
   {
    "duration": 8,
    "start_time": "2023-03-23T11:13:03.738Z"
   },
   {
    "duration": 21,
    "start_time": "2023-03-23T11:13:03.748Z"
   },
   {
    "duration": 5,
    "start_time": "2023-03-23T11:13:03.771Z"
   },
   {
    "duration": 2949,
    "start_time": "2023-03-23T11:13:03.778Z"
   },
   {
    "duration": 5,
    "start_time": "2023-03-23T11:13:06.728Z"
   },
   {
    "duration": 93,
    "start_time": "2023-03-23T11:13:21.269Z"
   },
   {
    "duration": 91,
    "start_time": "2023-03-23T11:13:27.277Z"
   },
   {
    "duration": 186,
    "start_time": "2023-03-23T11:14:54.372Z"
   },
   {
    "duration": 86,
    "start_time": "2023-03-23T11:19:27.488Z"
   },
   {
    "duration": 488,
    "start_time": "2023-03-23T11:20:02.080Z"
   },
   {
    "duration": 83,
    "start_time": "2023-03-23T11:20:17.784Z"
   },
   {
    "duration": 118,
    "start_time": "2023-03-23T11:20:29.042Z"
   },
   {
    "duration": 36,
    "start_time": "2023-03-23T11:20:42.128Z"
   },
   {
    "duration": 244,
    "start_time": "2023-03-23T11:23:31.024Z"
   },
   {
    "duration": 263,
    "start_time": "2023-03-23T11:24:22.897Z"
   },
   {
    "duration": 17,
    "start_time": "2023-03-23T11:24:50.792Z"
   },
   {
    "duration": 124,
    "start_time": "2023-03-23T11:27:22.565Z"
   },
   {
    "duration": 266,
    "start_time": "2023-03-23T11:27:36.295Z"
   },
   {
    "duration": 275,
    "start_time": "2023-03-23T11:27:47.287Z"
   },
   {
    "duration": 309,
    "start_time": "2023-03-23T11:28:36.463Z"
   },
   {
    "duration": 607,
    "start_time": "2023-03-23T11:29:43.863Z"
   },
   {
    "duration": 1149,
    "start_time": "2023-08-28T23:31:13.051Z"
   },
   {
    "duration": 342,
    "start_time": "2023-08-28T23:31:14.203Z"
   },
   {
    "duration": 1466,
    "start_time": "2023-08-28T23:31:14.547Z"
   },
   {
    "duration": 79,
    "start_time": "2023-08-28T23:31:16.015Z"
   },
   {
    "duration": 15,
    "start_time": "2023-08-28T23:31:16.096Z"
   },
   {
    "duration": 14,
    "start_time": "2023-08-28T23:31:16.112Z"
   },
   {
    "duration": 11,
    "start_time": "2023-08-28T23:31:16.128Z"
   },
   {
    "duration": 912,
    "start_time": "2023-08-28T23:31:16.167Z"
   },
   {
    "duration": 8,
    "start_time": "2023-08-28T23:31:17.081Z"
   },
   {
    "duration": 32,
    "start_time": "2023-08-28T23:31:17.091Z"
   },
   {
    "duration": 47,
    "start_time": "2023-08-28T23:31:17.125Z"
   },
   {
    "duration": 28,
    "start_time": "2023-08-28T23:31:17.174Z"
   },
   {
    "duration": 3,
    "start_time": "2023-08-28T23:31:17.204Z"
   },
   {
    "duration": 659,
    "start_time": "2023-08-28T23:31:17.210Z"
   },
   {
    "duration": 93,
    "start_time": "2023-08-28T23:31:17.875Z"
   },
   {
    "duration": 13,
    "start_time": "2023-08-28T23:31:17.970Z"
   },
   {
    "duration": 15,
    "start_time": "2023-08-28T23:31:17.984Z"
   },
   {
    "duration": 18,
    "start_time": "2023-08-28T23:31:18.000Z"
   },
   {
    "duration": 8,
    "start_time": "2023-08-28T23:31:18.019Z"
   },
   {
    "duration": 11,
    "start_time": "2023-08-28T23:31:18.029Z"
   },
   {
    "duration": 5,
    "start_time": "2023-08-28T23:31:18.041Z"
   },
   {
    "duration": 28,
    "start_time": "2023-08-28T23:31:18.047Z"
   },
   {
    "duration": 6,
    "start_time": "2023-08-28T23:31:18.077Z"
   },
   {
    "duration": 2847,
    "start_time": "2023-08-28T23:31:18.084Z"
   },
   {
    "duration": 5,
    "start_time": "2023-08-28T23:31:20.933Z"
   }
  ],
  "kernelspec": {
   "display_name": "Python 3 (ipykernel)",
   "language": "python",
   "name": "python3"
  },
  "language_info": {
   "codemirror_mode": {
    "name": "ipython",
    "version": 3
   },
   "file_extension": ".py",
   "mimetype": "text/x-python",
   "name": "python",
   "nbconvert_exporter": "python",
   "pygments_lexer": "ipython3",
   "version": "3.9.5"
  },
  "toc": {
   "base_numbering": 1,
   "nav_menu": {},
   "number_sections": true,
   "sideBar": true,
   "skip_h1_title": true,
   "title_cell": "Table of Contents",
   "title_sidebar": "Contents",
   "toc_cell": false,
   "toc_position": {
    "height": "calc(100% - 180px)",
    "left": "10px",
    "top": "150px",
    "width": "287.038px"
   },
   "toc_section_display": true,
   "toc_window_display": true
  }
 },
 "nbformat": 4,
 "nbformat_minor": 2
}
