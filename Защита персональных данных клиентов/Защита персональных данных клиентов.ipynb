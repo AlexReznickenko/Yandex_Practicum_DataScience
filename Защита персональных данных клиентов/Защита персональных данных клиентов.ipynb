{
 "cells": [
  {
   "cell_type": "markdown",
   "metadata": {
    "toc": true
   },
   "source": [
    "<h1>Содержание<span class=\"tocSkip\"></span></h1>\n",
    "<div class=\"toc\"><ul class=\"toc-item\"><li><span><a href=\"#Загрузка-данных\" data-toc-modified-id=\"Загрузка-данных-1\"><span class=\"toc-item-num\">1&nbsp;&nbsp;</span>Загрузка данных</a></span><ul class=\"toc-item\"><li><span><a href=\"#Загружаем-модули\" data-toc-modified-id=\"Загружаем-модули-1.1\"><span class=\"toc-item-num\">1.1&nbsp;&nbsp;</span>Загружаем модули</a></span></li><li><span><a href=\"#Загружаем-дополнительные-модули\" data-toc-modified-id=\"Загружаем-дополнительные-модули-1.2\"><span class=\"toc-item-num\">1.2&nbsp;&nbsp;</span>Загружаем дополнительные модули</a></span></li><li><span><a href=\"#Загружаем-данные\" data-toc-modified-id=\"Загружаем-данные-1.3\"><span class=\"toc-item-num\">1.3&nbsp;&nbsp;</span>Загружаем данные</a></span></li><li><span><a href=\"#Проверяем-данные\" data-toc-modified-id=\"Проверяем-данные-1.4\"><span class=\"toc-item-num\">1.4&nbsp;&nbsp;</span>Проверяем данные</a></span></li><li><span><a href=\"#Вывод\" data-toc-modified-id=\"Вывод-1.5\"><span class=\"toc-item-num\">1.5&nbsp;&nbsp;</span>Вывод</a></span></li></ul></li><li><span><a href=\"#Умножение-матриц\" data-toc-modified-id=\"Умножение-матриц-2\"><span class=\"toc-item-num\">2&nbsp;&nbsp;</span>Умножение матриц</a></span></li><li><span><a href=\"#Алгоритм-преобразования\" data-toc-modified-id=\"Алгоритм-преобразования-3\"><span class=\"toc-item-num\">3&nbsp;&nbsp;</span>Алгоритм преобразования</a></span></li><li><span><a href=\"#Проверка-алгоритма\" data-toc-modified-id=\"Проверка-алгоритма-4\"><span class=\"toc-item-num\">4&nbsp;&nbsp;</span>Проверка алгоритма</a></span></li><li><span><a href=\"#Вывод\" data-toc-modified-id=\"Вывод-5\"><span class=\"toc-item-num\">5&nbsp;&nbsp;</span>Вывод</a></span></li><li><span><a href=\"#Чек-лист-проверки\" data-toc-modified-id=\"Чек-лист-проверки-6\"><span class=\"toc-item-num\">6&nbsp;&nbsp;</span>Чек-лист проверки</a></span></li></ul></div>"
   ]
  },
  {
   "cell_type": "markdown",
   "metadata": {},
   "source": [
    "# Защита персональных данных клиентов"
   ]
  },
  {
   "cell_type": "markdown",
   "metadata": {},
   "source": [
    "Вам нужно защитить данные клиентов страховой компании «Хоть потоп». Разработайте такой метод преобразования данных, чтобы по ним было сложно восстановить персональную информацию. Обоснуйте корректность его работы.\n",
    "\n",
    "Нужно защитить данные, чтобы при преобразовании качество моделей машинного обучения не ухудшилось. Подбирать наилучшую модель не требуется."
   ]
  },
  {
   "cell_type": "markdown",
   "metadata": {},
   "source": [
    "## Загрузка данных"
   ]
  },
  {
   "cell_type": "markdown",
   "metadata": {},
   "source": [
    "### Загружаем модули"
   ]
  },
  {
   "cell_type": "code",
   "execution_count": 1,
   "metadata": {},
   "outputs": [],
   "source": [
    "import pandas as pd\n",
    "\n",
    "import matplotlib.pyplot as plt\n",
    "import numpy as np\n",
    "\n",
    "from sklearn.linear_model import LinearRegression # линейная регрессия\n",
    "from sklearn.metrics import r2_score"
   ]
  },
  {
   "cell_type": "markdown",
   "metadata": {},
   "source": [
    "### Загружаем дополнительные модули"
   ]
  },
  {
   "cell_type": "code",
   "execution_count": 2,
   "metadata": {},
   "outputs": [],
   "source": [
    "import warnings\n",
    "warnings.filterwarnings('ignore')\n",
    "\n",
    "import seaborn as sns\n"
   ]
  },
  {
   "cell_type": "markdown",
   "metadata": {},
   "source": [
    "### Загружаем данные"
   ]
  },
  {
   "cell_type": "code",
   "execution_count": 3,
   "metadata": {},
   "outputs": [],
   "source": [
    "try:\n",
    "    df = pd.read_csv('/datasets/insurance.csv')\n",
    "except:\n",
    "    df = pd.read_csv('https://code.s3.yandex.net/datasets/insurance.csv')"
   ]
  },
  {
   "cell_type": "markdown",
   "metadata": {},
   "source": [
    "### Проверяем данные\n",
    "Посмотрим info"
   ]
  },
  {
   "cell_type": "code",
   "execution_count": 4,
   "metadata": {},
   "outputs": [
    {
     "name": "stdout",
     "output_type": "stream",
     "text": [
      "<class 'pandas.core.frame.DataFrame'>\n",
      "RangeIndex: 5000 entries, 0 to 4999\n",
      "Data columns (total 5 columns):\n",
      " #   Column             Non-Null Count  Dtype  \n",
      "---  ------             --------------  -----  \n",
      " 0   Пол                5000 non-null   int64  \n",
      " 1   Возраст            5000 non-null   float64\n",
      " 2   Зарплата           5000 non-null   float64\n",
      " 3   Члены семьи        5000 non-null   int64  \n",
      " 4   Страховые выплаты  5000 non-null   int64  \n",
      "dtypes: float64(2), int64(3)\n",
      "memory usage: 195.4 KB\n"
     ]
    }
   ],
   "source": [
    "df.info()"
   ]
  },
  {
   "cell_type": "markdown",
   "metadata": {},
   "source": [
    "В типах данных всё впорядке"
   ]
  },
  {
   "cell_type": "markdown",
   "metadata": {},
   "source": [
    "Проверим на пропуски и дубликаты"
   ]
  },
  {
   "cell_type": "code",
   "execution_count": 5,
   "metadata": {},
   "outputs": [
    {
     "data": {
      "text/plain": [
       "Пол                  0\n",
       "Возраст              0\n",
       "Зарплата             0\n",
       "Члены семьи          0\n",
       "Страховые выплаты    0\n",
       "dtype: int64"
      ]
     },
     "execution_count": 5,
     "metadata": {},
     "output_type": "execute_result"
    }
   ],
   "source": [
    "df.isna().sum()"
   ]
  },
  {
   "cell_type": "code",
   "execution_count": 6,
   "metadata": {},
   "outputs": [
    {
     "data": {
      "text/plain": [
       "153"
      ]
     },
     "execution_count": 6,
     "metadata": {},
     "output_type": "execute_result"
    }
   ],
   "source": [
    "df.duplicated().sum()"
   ]
  },
  {
   "cell_type": "markdown",
   "metadata": {},
   "source": [
    "Дубликаты имеются, удаляем"
   ]
  },
  {
   "cell_type": "code",
   "execution_count": 7,
   "metadata": {},
   "outputs": [
    {
     "data": {
      "text/plain": [
       "0"
      ]
     },
     "execution_count": 7,
     "metadata": {},
     "output_type": "execute_result"
    }
   ],
   "source": [
    "df.drop_duplicates(inplace=True)\n",
    "df.duplicated().sum()"
   ]
  },
  {
   "cell_type": "markdown",
   "metadata": {},
   "source": [
    "Проверка на мультиколениарность"
   ]
  },
  {
   "cell_type": "code",
   "execution_count": 8,
   "metadata": {},
   "outputs": [
    {
     "data": {
      "image/png": "[encoded data removed]",
      "text/plain": [
       "<Figure size 504x504 with 2 Axes>"
      ]
     },
     "metadata": {
      "needs_background": "light"
     },
     "output_type": "display_data"
    }
   ],
   "source": [
    "plt.rcParams['figure.figsize'] = (7.0, 7.0)\n",
    "sns.heatmap(df.corr(), annot=True, linewidths=2, linecolor='yellow');"
   ]
  },
  {
   "cell_type": "markdown",
   "metadata": {},
   "source": [
    "Обнаружена зависимость между возрастом и страховыми выплатами, но она некритичная."
   ]
  },
  {
   "cell_type": "markdown",
   "metadata": {},
   "source": [
    "### Вывод"
   ]
  },
  {
   "cell_type": "markdown",
   "metadata": {},
   "source": [
    "В данных нет проблем, единственная проблемма - дубликаты, решена."
   ]
  },
  {
   "cell_type": "markdown",
   "metadata": {},
   "source": [
    "## Умножение матриц"
   ]
  },
  {
   "cell_type": "markdown",
   "metadata": {},
   "source": [
    "В этом задании вы можете записывать формулы в *Jupyter Notebook.*\n",
    "\n",
    "Чтобы записать формулу внутри текста, окружите её символами доллара \\\\$; если снаружи —  двойными символами \\\\$\\\\$. Эти формулы записываются на языке вёрстки *LaTeX.* \n",
    "\n",
    "Для примера мы записали формулы линейной регрессии. Можете их скопировать и отредактировать, чтобы решить задачу.\n",
    "\n",
    "Работать в *LaTeX* необязательно."
   ]
  },
  {
   "cell_type": "markdown",
   "metadata": {},
   "source": [
    "Обозначения:\n",
    "\n",
    "- $X$ — матрица признаков (нулевой столбец состоит из единиц)\n",
    "\n",
    "- $y$ — вектор целевого признака\n",
    "\n",
    "- $P$ — матрица, на которую умножаются признаки\n",
    "\n",
    "- $w$ — вектор весов линейной регрессии (нулевой элемент равен сдвигу)"
   ]
  },
  {
   "cell_type": "markdown",
   "metadata": {},
   "source": [
    "Предсказания:\n",
    "\n",
    "$$\n",
    "a = Xw\n",
    "$$\n",
    "\n",
    "Задача обучения:\n",
    "\n",
    "$$\n",
    "w = \\arg\\min_w MSE(Xw, y)\n",
    "$$\n",
    "\n",
    "Формула обучения:\n",
    "\n",
    "$$\n",
    "w = (X^T X)^{-1} X^T y\n",
    "$$"
   ]
  },
  {
   "cell_type": "markdown",
   "metadata": {},
   "source": [
    "**Вопрос:** \n",
    "Признаки умножают на обратимую матрицу. Изменится ли качество линейной регрессии? (Её можно обучить заново.)\n",
    "\n",
    " a. Изменится. Приведите примеры матриц.\n",
    " \n",
    " b. Не изменится. Укажите, как связаны параметры линейной регрессии в исходной задаче и в преобразованной."
   ]
  },
  {
   "cell_type": "markdown",
   "metadata": {},
   "source": [
    "**Ответ:** Не изменится"
   ]
  },
  {
   "cell_type": "markdown",
   "metadata": {},
   "source": [
    "**Обоснование:**\n",
    "\n",
    "Для начала нам следует указать некоторые свойства матриц:\n",
    "\n",
    "$$\n",
    "(AB)^{-1} = B^{-1}A^{-1}\n",
    "$$\n",
    "$$\n",
    "(AB)^T = B^T A^T\n",
    "$$\n",
    "$$\n",
    "AA^{-1} = E\n",
    "$$\n",
    "$$\n",
    "AE = EA = A\n",
    "$$\n",
    "$$\n",
    "A(BC) = (AB)C\n",
    "$$"
   ]
  },
  {
   "cell_type": "markdown",
   "metadata": {},
   "source": [
    "\n",
    "пусть матрица Z обратима, и она имеет размерность 4х4, наша добноженная матрица будет иметь вид X * Z\n",
    "Формула предсказания:\n",
    "\n",
    "$$\n",
    "a = Xw, w = (X^T X)^{-1} X^T y\n",
    "$$\n",
    "\n",
    "Формула предсказания с учётом домножения на матрицу Z:\n",
    "\n",
    "$$\n",
    "a = XZw\n",
    "$$\n",
    "\n",
    "Раскроем формулу:\n",
    "\n",
    "$$\n",
    "a = XZ((XZ^T) XZ)^{-1}(XZ)^T y\n",
    "$$\n",
    "\n",
    "Раскроем скобки с транспонированием матриц :\n",
    "\n",
    "$$\n",
    "a = XZ(Z^T X^T XZ)^{-1}Z^T X^T y \n",
    "$$\n",
    "\n",
    "Выделим множетели $Z^T X^T X $ и раскроем скобки:\n",
    "\n",
    "$$\n",
    "a = XZZ^{-1}(Z^T X^T X)^{-1}Z^T X^T y\n",
    "$$\n",
    "\n",
    "Выделим внутри оставшихся скобок множители $Z^T$ и $X^T X$ и раскроем скобки:\n",
    "\n",
    "$$\n",
    "a = XZZ^{-1}(X^T X)^{-1}(Z^T)^{-1}Z^T X^T y\n",
    "$$\n",
    "\n",
    "Произведения $ZZ^{-1}$ и $(Z^T)^{-1}Z^T$ дают единичные матрицы. С учетом этого формула принимает вид:\n",
    "\n",
    "$$\n",
    "a = X(X^T X)^{-1} X^T y\n",
    "$$\n",
    "Так как $w = (X^T X)^{-1} X^T y$, то получаем:\n",
    "$$\n",
    "a = Xw, w = (X^T X)^{-1} X^T y\n",
    "$$\n",
    "\n",
    "Таким образом доказали, что домножение на обратимую матрицу не изменит предсказаний."
   ]
  },
  {
   "cell_type": "markdown",
   "metadata": {},
   "source": [
    "## Алгоритм преобразования"
   ]
  },
  {
   "cell_type": "markdown",
   "metadata": {},
   "source": [
    "**Алгоритм**\n",
    "\n",
    "В качестве алгоритма преобразования будем использовать домножения признаков на случайную обратимую матрицу размером 4х4. Далее\n",
    "создадим модель линейной регрессии. Будем обучать её на изначальных и на преобразованных данных, затем сравним R2. R2 должны быть одинаковы в обоих случаях."
   ]
  },
  {
   "cell_type": "markdown",
   "metadata": {},
   "source": [
    "**Обоснование**\n",
    "\n",
    "Выше было доказано, что при умножении признаков на обратимую матрицу соответствуюшего размера (т.е. в данном случае 4х4) не влияет на предсказания."
   ]
  },
  {
   "cell_type": "markdown",
   "metadata": {},
   "source": [
    "## Проверка алгоритма"
   ]
  },
  {
   "cell_type": "markdown",
   "metadata": {},
   "source": [
    "Сначала обучаем модель на изначальной выборке и смотрим результат."
   ]
  },
  {
   "cell_type": "code",
   "execution_count": 9,
   "metadata": {},
   "outputs": [
    {
     "name": "stdout",
     "output_type": "stream",
     "text": [
      "Метрика R2 для признаков в исходном состоянии равняется 0.4302010044852066\n"
     ]
    }
   ],
   "source": [
    "features = df.drop('Страховые выплаты', axis=1)\n",
    "target = df['Страховые выплаты']\n",
    "\n",
    "model = LinearRegression()\n",
    "model.fit(features, target)\n",
    "predictions = model.predict(features)\n",
    "r2 = r2_score(target, predictions)\n",
    "print(f'Метрика R2 для признаков в исходном состоянии равняется {r2}')"
   ]
  },
  {
   "cell_type": "markdown",
   "metadata": {},
   "source": [
    "Теперь домножаем матрицу признаков на случайную обратимую матрицу 4х4. Сначала создаём матрицу:"
   ]
  },
  {
   "cell_type": "code",
   "execution_count": 10,
   "metadata": {},
   "outputs": [
    {
     "name": "stdout",
     "output_type": "stream",
     "text": [
      "[[ 2.90690987  3.78526395  2.08007347  6.28405328]\n",
      " [10.75447926  6.7557402  10.77980565  5.69773617]\n",
      " [ 8.77625299  3.23569979  4.5572319   2.66557145]\n",
      " [ 9.96141456  9.35604817  8.18031873  8.87737549]]\n"
     ]
    }
   ],
   "source": [
    "a = 4\n",
    "b = 4\n",
    "c = 10\n",
    "\n",
    "while True:\n",
    "    matrix = (np.random.rand(a, b) )*c+ 1\n",
    "    \n",
    "    try:\n",
    "        #Проверяем матрицу на обратимость. Если она обратима - то прерываем цикл\n",
    "        np.linalg.inv(matrix)\n",
    "        break\n",
    "    except:\n",
    "        ...\n",
    "        \n",
    "print(matrix)"
   ]
  },
  {
   "cell_type": "markdown",
   "metadata": {},
   "source": [
    "Теперь домножаем наши признаки:"
   ]
  },
  {
   "cell_type": "code",
   "execution_count": 11,
   "metadata": {},
   "outputs": [
    {
     "data": {
      "text/html": [
       "<div>\n",
       "<style scoped>\n",
       "    .dataframe tbody tr th:only-of-type {\n",
       "        vertical-align: middle;\n",
       "    }\n",
       "\n",
       "    .dataframe tbody tr th {\n",
       "        vertical-align: top;\n",
       "    }\n",
       "\n",
       "    .dataframe thead th {\n",
       "        text-align: right;\n",
       "    }\n",
       "</style>\n",
       "<table border=\"1\" class=\"dataframe\">\n",
       "  <thead>\n",
       "    <tr style=\"text-align: right;\">\n",
       "      <th></th>\n",
       "      <th>0</th>\n",
       "      <th>1</th>\n",
       "      <th>2</th>\n",
       "      <th>3</th>\n",
       "    </tr>\n",
       "  </thead>\n",
       "  <tbody>\n",
       "    <tr>\n",
       "      <th>0</th>\n",
       "      <td>435755.950033</td>\n",
       "      <td>160780.836445</td>\n",
       "      <td>226490.934713</td>\n",
       "      <td>132461.112704</td>\n",
       "    </tr>\n",
       "    <tr>\n",
       "      <th>1</th>\n",
       "      <td>334002.280893</td>\n",
       "      <td>123276.712271</td>\n",
       "      <td>173678.863616</td>\n",
       "      <td>101562.688471</td>\n",
       "    </tr>\n",
       "    <tr>\n",
       "      <th>2</th>\n",
       "      <td>184613.192585</td>\n",
       "      <td>68145.612141</td>\n",
       "      <td>96014.484285</td>\n",
       "      <td>56142.234872</td>\n",
       "    </tr>\n",
       "    <tr>\n",
       "      <th>3</th>\n",
       "      <td>366215.516371</td>\n",
       "      <td>135089.264053</td>\n",
       "      <td>190279.306827</td>\n",
       "      <td>111291.736820</td>\n",
       "    </tr>\n",
       "    <tr>\n",
       "      <th>4</th>\n",
       "      <td>229364.235239</td>\n",
       "      <td>84644.710614</td>\n",
       "      <td>119247.667248</td>\n",
       "      <td>69737.235602</td>\n",
       "    </tr>\n",
       "  </tbody>\n",
       "</table>\n",
       "</div>"
      ],
      "text/plain": [
       "               0              1              2              3\n",
       "0  435755.950033  160780.836445  226490.934713  132461.112704\n",
       "1  334002.280893  123276.712271  173678.863616  101562.688471\n",
       "2  184613.192585   68145.612141   96014.484285   56142.234872\n",
       "3  366215.516371  135089.264053  190279.306827  111291.736820\n",
       "4  229364.235239   84644.710614  119247.667248   69737.235602"
      ]
     },
     "execution_count": 11,
     "metadata": {},
     "output_type": "execute_result"
    }
   ],
   "source": [
    "features_new = features @ matrix\n",
    "features_new.head()"
   ]
  },
  {
   "cell_type": "markdown",
   "metadata": {},
   "source": [
    "Теперь проверяем на новых признаках линейную регрессию:"
   ]
  },
  {
   "cell_type": "code",
   "execution_count": 12,
   "metadata": {},
   "outputs": [
    {
     "name": "stdout",
     "output_type": "stream",
     "text": [
      "Метрика R2 для признаков в исходном состоянии равняется 0.4302010044852066\n",
      "Метрика R2 для признаков в умноженном состоянии равняется 0.43020100448522236\n"
     ]
    }
   ],
   "source": [
    "model2 = LinearRegression()\n",
    "model2.fit(features_new, target)\n",
    "predictions = model2.predict(features_new)\n",
    "r2_new = r2_score(target, predictions)\n",
    "print(f'Метрика R2 для признаков в исходном состоянии равняется {r2}')\n",
    "print(f'Метрика R2 для признаков в умноженном состоянии равняется {r2_new}')"
   ]
  },
  {
   "cell_type": "markdown",
   "metadata": {},
   "source": [
    "## Вывод\n",
    "Как видим, значения метрик R2 в исходном и преобразованном состоянии практически одинаково. Скорее всего разница после 13 знака после запятой вызвана техническими причинами (т.е. Питон, всё же, не хранит реальные вещественные числа и может их немного округлять). \n",
    "\n",
    "И в теории и на практике метод домножения на матрицу работает."
   ]
  },
  {
   "cell_type": "code",
   "execution_count": null,
   "metadata": {},
   "outputs": [],
   "source": []
  }
 ],
 "metadata": {
  "ExecuteTimeLog": [
   {
    "duration": 91,
    "start_time": "2023-03-05T22:09:14.475Z"
   },
   {
    "duration": 0,
    "start_time": "2023-03-05T22:09:14.567Z"
   },
   {
    "duration": 0,
    "start_time": "2023-03-05T22:09:14.568Z"
   },
   {
    "duration": 1384,
    "start_time": "2023-03-05T22:10:16.571Z"
   },
   {
    "duration": 3,
    "start_time": "2023-03-05T22:10:17.957Z"
   },
   {
    "duration": 209,
    "start_time": "2023-03-05T22:10:17.962Z"
   },
   {
    "duration": 1394,
    "start_time": "2023-03-05T22:10:25.716Z"
   },
   {
    "duration": 4,
    "start_time": "2023-03-05T22:10:27.112Z"
   },
   {
    "duration": 35,
    "start_time": "2023-03-05T22:10:27.117Z"
   },
   {
    "duration": 11,
    "start_time": "2023-03-05T22:11:00.838Z"
   },
   {
    "duration": 9,
    "start_time": "2023-03-05T22:11:42.401Z"
   },
   {
    "duration": 13,
    "start_time": "2023-03-05T22:12:32.784Z"
   },
   {
    "duration": 6,
    "start_time": "2023-03-05T22:12:41.445Z"
   },
   {
    "duration": 6,
    "start_time": "2023-03-05T22:12:47.069Z"
   },
   {
    "duration": 1422,
    "start_time": "2023-03-05T22:14:35.365Z"
   },
   {
    "duration": 7,
    "start_time": "2023-03-05T22:14:36.789Z"
   },
   {
    "duration": 63,
    "start_time": "2023-03-05T22:14:36.805Z"
   },
   {
    "duration": 13,
    "start_time": "2023-03-05T22:14:36.871Z"
   },
   {
    "duration": 24,
    "start_time": "2023-03-05T22:14:36.886Z"
   },
   {
    "duration": 26,
    "start_time": "2023-03-05T22:14:36.918Z"
   },
   {
    "duration": 10,
    "start_time": "2023-03-05T22:14:36.946Z"
   },
   {
    "duration": 63,
    "start_time": "2023-03-05T22:16:19.267Z"
   },
   {
    "duration": 404,
    "start_time": "2023-03-05T22:17:06.858Z"
   },
   {
    "duration": 343,
    "start_time": "2023-03-05T22:17:11.635Z"
   },
   {
    "duration": 375,
    "start_time": "2023-03-05T22:17:21.683Z"
   },
   {
    "duration": 1476,
    "start_time": "2023-03-05T22:19:41.476Z"
   },
   {
    "duration": 61,
    "start_time": "2023-03-05T22:19:42.953Z"
   },
   {
    "duration": 41,
    "start_time": "2023-03-05T22:19:43.015Z"
   },
   {
    "duration": 11,
    "start_time": "2023-03-05T22:19:43.058Z"
   },
   {
    "duration": 18,
    "start_time": "2023-03-05T22:19:43.071Z"
   },
   {
    "duration": 18,
    "start_time": "2023-03-05T22:19:43.093Z"
   },
   {
    "duration": 32,
    "start_time": "2023-03-05T22:19:43.115Z"
   },
   {
    "duration": 362,
    "start_time": "2023-03-05T22:19:43.148Z"
   },
   {
    "duration": 1507,
    "start_time": "2023-03-05T22:33:13.116Z"
   },
   {
    "duration": 68,
    "start_time": "2023-03-05T22:33:14.625Z"
   },
   {
    "duration": 56,
    "start_time": "2023-03-05T22:33:14.695Z"
   },
   {
    "duration": 15,
    "start_time": "2023-03-05T22:33:14.752Z"
   },
   {
    "duration": 10,
    "start_time": "2023-03-05T22:33:14.769Z"
   },
   {
    "duration": 18,
    "start_time": "2023-03-05T22:33:14.780Z"
   },
   {
    "duration": 55,
    "start_time": "2023-03-05T22:33:14.802Z"
   },
   {
    "duration": 457,
    "start_time": "2023-03-05T22:33:14.859Z"
   },
   {
    "duration": 1286,
    "start_time": "2023-03-06T00:56:55.762Z"
   },
   {
    "duration": 52,
    "start_time": "2023-03-06T00:56:57.049Z"
   },
   {
    "duration": 30,
    "start_time": "2023-03-06T00:56:57.102Z"
   },
   {
    "duration": 14,
    "start_time": "2023-03-06T00:56:57.134Z"
   },
   {
    "duration": 10,
    "start_time": "2023-03-06T00:56:57.150Z"
   },
   {
    "duration": 13,
    "start_time": "2023-03-06T00:56:57.161Z"
   },
   {
    "duration": 9,
    "start_time": "2023-03-06T00:56:57.176Z"
   },
   {
    "duration": 353,
    "start_time": "2023-03-06T00:56:57.190Z"
   },
   {
    "duration": 12,
    "start_time": "2023-03-06T00:59:23.891Z"
   },
   {
    "duration": 104,
    "start_time": "2023-03-06T01:03:12.243Z"
   },
   {
    "duration": 18,
    "start_time": "2023-03-06T01:03:23.842Z"
   },
   {
    "duration": 3,
    "start_time": "2023-03-06T01:05:00.162Z"
   },
   {
    "duration": 3,
    "start_time": "2023-03-06T01:05:04.298Z"
   },
   {
    "duration": 4,
    "start_time": "2023-03-06T01:05:24.369Z"
   },
   {
    "duration": 4,
    "start_time": "2023-03-06T01:05:31.487Z"
   },
   {
    "duration": 4,
    "start_time": "2023-03-06T01:05:34.939Z"
   },
   {
    "duration": 4,
    "start_time": "2023-03-06T01:05:40.745Z"
   },
   {
    "duration": 9,
    "start_time": "2023-03-06T01:05:51.281Z"
   },
   {
    "duration": 4,
    "start_time": "2023-03-06T01:06:49.049Z"
   },
   {
    "duration": 9,
    "start_time": "2023-03-06T01:08:12.833Z"
   },
   {
    "duration": 110,
    "start_time": "2023-03-06T01:08:20.088Z"
   },
   {
    "duration": 107,
    "start_time": "2023-03-06T01:08:40.280Z"
   },
   {
    "duration": 4,
    "start_time": "2023-03-06T01:08:50.890Z"
   },
   {
    "duration": 81,
    "start_time": "2023-03-06T01:09:14.834Z"
   },
   {
    "duration": 176,
    "start_time": "2023-03-06T01:09:33.330Z"
   },
   {
    "duration": 5,
    "start_time": "2023-03-06T01:10:26.233Z"
   },
   {
    "duration": 4,
    "start_time": "2023-03-06T01:10:29.633Z"
   },
   {
    "duration": 5,
    "start_time": "2023-03-06T01:10:30.894Z"
   },
   {
    "duration": 10,
    "start_time": "2023-03-06T01:12:44.411Z"
   },
   {
    "duration": 1275,
    "start_time": "2023-03-06T01:13:07.458Z"
   },
   {
    "duration": 51,
    "start_time": "2023-03-06T01:13:08.735Z"
   },
   {
    "duration": 32,
    "start_time": "2023-03-06T01:13:08.790Z"
   },
   {
    "duration": 11,
    "start_time": "2023-03-06T01:13:08.823Z"
   },
   {
    "duration": 6,
    "start_time": "2023-03-06T01:13:08.836Z"
   },
   {
    "duration": 9,
    "start_time": "2023-03-06T01:13:08.843Z"
   },
   {
    "duration": 6,
    "start_time": "2023-03-06T01:13:08.853Z"
   },
   {
    "duration": 400,
    "start_time": "2023-03-06T01:13:08.860Z"
   },
   {
    "duration": 35,
    "start_time": "2023-03-06T01:13:09.261Z"
   },
   {
    "duration": 93,
    "start_time": "2023-03-06T01:13:09.298Z"
   },
   {
    "duration": 102,
    "start_time": "2023-03-06T01:13:09.395Z"
   },
   {
    "duration": 16,
    "start_time": "2023-03-06T01:15:03.030Z"
   },
   {
    "duration": 1273,
    "start_time": "2023-03-06T01:15:15.576Z"
   },
   {
    "duration": 57,
    "start_time": "2023-03-06T01:15:16.851Z"
   },
   {
    "duration": 43,
    "start_time": "2023-03-06T01:15:16.910Z"
   },
   {
    "duration": 11,
    "start_time": "2023-03-06T01:15:16.955Z"
   },
   {
    "duration": 12,
    "start_time": "2023-03-06T01:15:16.968Z"
   },
   {
    "duration": 7,
    "start_time": "2023-03-06T01:15:16.981Z"
   },
   {
    "duration": 7,
    "start_time": "2023-03-06T01:15:16.990Z"
   },
   {
    "duration": 354,
    "start_time": "2023-03-06T01:15:16.998Z"
   },
   {
    "duration": 38,
    "start_time": "2023-03-06T01:15:17.354Z"
   },
   {
    "duration": 98,
    "start_time": "2023-03-06T01:15:17.396Z"
   },
   {
    "duration": 96,
    "start_time": "2023-03-06T01:15:17.495Z"
   },
   {
    "duration": 96,
    "start_time": "2023-03-06T01:15:17.594Z"
   },
   {
    "duration": 1247,
    "start_time": "2023-03-06T01:18:29.200Z"
   },
   {
    "duration": 55,
    "start_time": "2023-03-06T01:18:30.449Z"
   },
   {
    "duration": 31,
    "start_time": "2023-03-06T01:18:30.505Z"
   },
   {
    "duration": 11,
    "start_time": "2023-03-06T01:18:30.539Z"
   },
   {
    "duration": 9,
    "start_time": "2023-03-06T01:18:30.552Z"
   },
   {
    "duration": 24,
    "start_time": "2023-03-06T01:18:30.563Z"
   },
   {
    "duration": 25,
    "start_time": "2023-03-06T01:18:30.588Z"
   },
   {
    "duration": 347,
    "start_time": "2023-03-06T01:18:30.614Z"
   },
   {
    "duration": 37,
    "start_time": "2023-03-06T01:18:30.963Z"
   },
   {
    "duration": 14,
    "start_time": "2023-03-06T01:18:31.093Z"
   },
   {
    "duration": 88,
    "start_time": "2023-03-06T01:18:31.110Z"
   },
   {
    "duration": 94,
    "start_time": "2023-03-06T01:18:31.200Z"
   },
   {
    "duration": 1229,
    "start_time": "2023-03-06T01:19:00.336Z"
   },
   {
    "duration": 52,
    "start_time": "2023-03-06T01:19:01.567Z"
   },
   {
    "duration": 30,
    "start_time": "2023-03-06T01:19:01.621Z"
   },
   {
    "duration": 11,
    "start_time": "2023-03-06T01:19:01.652Z"
   },
   {
    "duration": 28,
    "start_time": "2023-03-06T01:19:01.666Z"
   },
   {
    "duration": 19,
    "start_time": "2023-03-06T01:19:01.696Z"
   },
   {
    "duration": 24,
    "start_time": "2023-03-06T01:19:01.717Z"
   },
   {
    "duration": 351,
    "start_time": "2023-03-06T01:19:01.743Z"
   },
   {
    "duration": 11,
    "start_time": "2023-03-06T01:19:02.096Z"
   },
   {
    "duration": 93,
    "start_time": "2023-03-06T01:19:02.108Z"
   },
   {
    "duration": 102,
    "start_time": "2023-03-06T01:19:02.203Z"
   },
   {
    "duration": 91,
    "start_time": "2023-03-06T01:19:02.308Z"
   },
   {
    "duration": 2641,
    "start_time": "2023-03-06T17:25:01.895Z"
   },
   {
    "duration": 56,
    "start_time": "2023-03-06T17:25:04.538Z"
   },
   {
    "duration": 68,
    "start_time": "2023-03-06T17:25:04.596Z"
   },
   {
    "duration": 13,
    "start_time": "2023-03-06T17:25:04.666Z"
   },
   {
    "duration": 17,
    "start_time": "2023-03-06T17:25:04.681Z"
   },
   {
    "duration": 10,
    "start_time": "2023-03-06T17:25:04.699Z"
   },
   {
    "duration": 8,
    "start_time": "2023-03-06T17:25:04.710Z"
   },
   {
    "duration": 417,
    "start_time": "2023-03-06T17:25:04.720Z"
   },
   {
    "duration": 24,
    "start_time": "2023-03-06T17:25:05.138Z"
   },
   {
    "duration": 193,
    "start_time": "2023-03-06T17:25:05.165Z"
   },
   {
    "duration": 91,
    "start_time": "2023-03-06T17:25:05.360Z"
   },
   {
    "duration": 11,
    "start_time": "2023-03-06T17:25:05.453Z"
   },
   {
    "duration": 10,
    "start_time": "2023-03-06T17:25:16.055Z"
   },
   {
    "duration": 6,
    "start_time": "2023-03-06T17:25:18.182Z"
   },
   {
    "duration": 58,
    "start_time": "2023-03-06T19:57:38.211Z"
   },
   {
    "duration": 1716,
    "start_time": "2023-03-06T19:57:43.453Z"
   },
   {
    "duration": 250,
    "start_time": "2023-03-06T19:57:45.171Z"
   },
   {
    "duration": 121,
    "start_time": "2023-03-06T19:57:45.422Z"
   },
   {
    "duration": 14,
    "start_time": "2023-03-06T19:57:45.551Z"
   },
   {
    "duration": 10,
    "start_time": "2023-03-06T19:57:45.568Z"
   },
   {
    "duration": 23,
    "start_time": "2023-03-06T19:57:45.580Z"
   },
   {
    "duration": 11,
    "start_time": "2023-03-06T19:57:45.605Z"
   },
   {
    "duration": 409,
    "start_time": "2023-03-06T19:57:45.618Z"
   },
   {
    "duration": 184,
    "start_time": "2023-03-06T19:57:46.029Z"
   },
   {
    "duration": 7,
    "start_time": "2023-03-06T19:57:46.215Z"
   },
   {
    "duration": 98,
    "start_time": "2023-03-06T19:57:46.224Z"
   },
   {
    "duration": 99,
    "start_time": "2023-03-06T19:57:46.324Z"
   },
   {
    "duration": 1310,
    "start_time": "2023-03-06T20:18:46.738Z"
   },
   {
    "duration": 57,
    "start_time": "2023-03-06T20:18:48.050Z"
   },
   {
    "duration": 29,
    "start_time": "2023-03-06T20:18:48.109Z"
   },
   {
    "duration": 15,
    "start_time": "2023-03-06T20:18:48.140Z"
   },
   {
    "duration": 11,
    "start_time": "2023-03-06T20:18:48.158Z"
   },
   {
    "duration": 7,
    "start_time": "2023-03-06T20:18:48.171Z"
   },
   {
    "duration": 8,
    "start_time": "2023-03-06T20:18:48.180Z"
   },
   {
    "duration": 403,
    "start_time": "2023-03-06T20:18:48.190Z"
   },
   {
    "duration": 119,
    "start_time": "2023-03-06T20:18:48.595Z"
   },
   {
    "duration": 96,
    "start_time": "2023-03-06T20:18:48.719Z"
   },
   {
    "duration": 14,
    "start_time": "2023-03-06T20:18:48.817Z"
   },
   {
    "duration": 180,
    "start_time": "2023-03-06T20:18:48.833Z"
   },
   {
    "duration": 1359,
    "start_time": "2023-03-06T20:20:04.308Z"
   },
   {
    "duration": 55,
    "start_time": "2023-03-06T20:20:05.669Z"
   },
   {
    "duration": 28,
    "start_time": "2023-03-06T20:20:05.726Z"
   },
   {
    "duration": 12,
    "start_time": "2023-03-06T20:20:05.756Z"
   },
   {
    "duration": 6,
    "start_time": "2023-03-06T20:20:05.770Z"
   },
   {
    "duration": 7,
    "start_time": "2023-03-06T20:20:05.778Z"
   },
   {
    "duration": 8,
    "start_time": "2023-03-06T20:20:05.786Z"
   },
   {
    "duration": 394,
    "start_time": "2023-03-06T20:20:05.796Z"
   },
   {
    "duration": 21,
    "start_time": "2023-03-06T20:20:06.192Z"
   },
   {
    "duration": 6,
    "start_time": "2023-03-06T20:20:06.215Z"
   },
   {
    "duration": 101,
    "start_time": "2023-03-06T20:20:06.224Z"
   },
   {
    "duration": 14,
    "start_time": "2023-03-06T20:20:06.412Z"
   },
   {
    "duration": 1283,
    "start_time": "2023-08-29T00:09:38.194Z"
   },
   {
    "duration": 54,
    "start_time": "2023-08-29T00:09:39.480Z"
   },
   {
    "duration": 88,
    "start_time": "2023-08-29T00:09:39.538Z"
   },
   {
    "duration": 10,
    "start_time": "2023-08-29T00:09:39.628Z"
   },
   {
    "duration": 7,
    "start_time": "2023-08-29T00:09:39.640Z"
   },
   {
    "duration": 8,
    "start_time": "2023-08-29T00:09:39.648Z"
   },
   {
    "duration": 9,
    "start_time": "2023-08-29T00:09:39.658Z"
   },
   {
    "duration": 363,
    "start_time": "2023-08-29T00:09:39.669Z"
   },
   {
    "duration": 33,
    "start_time": "2023-08-29T00:09:40.035Z"
   },
   {
    "duration": 100,
    "start_time": "2023-08-29T00:09:40.070Z"
   },
   {
    "duration": 108,
    "start_time": "2023-08-29T00:09:40.171Z"
   },
   {
    "duration": 91,
    "start_time": "2023-08-29T00:09:40.281Z"
   }
  ],
  "kernelspec": {
   "display_name": "Python 3 (ipykernel)",
   "language": "python",
   "name": "python3"
  },
  "language_info": {
   "codemirror_mode": {
    "name": "ipython",
    "version": 3
   },
   "file_extension": ".py",
   "mimetype": "text/x-python",
   "name": "python",
   "nbconvert_exporter": "python",
   "pygments_lexer": "ipython3",
   "version": "3.9.5"
  },
  "toc": {
   "base_numbering": 1,
   "nav_menu": {},
   "number_sections": true,
   "sideBar": true,
   "skip_h1_title": true,
   "title_cell": "Содержание",
   "title_sidebar": "Contents",
   "toc_cell": true,
   "toc_position": {},
   "toc_section_display": true,
   "toc_window_display": true
  }
 },
 "nbformat": 4,
 "nbformat_minor": 2
}
