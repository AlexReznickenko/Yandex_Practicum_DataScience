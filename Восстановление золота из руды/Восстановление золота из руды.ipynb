{
 "cells": [
  {
   "cell_type": "markdown",
   "metadata": {
    "toc": true
   },
   "source": [
    "<h1>Содержание<span class=\"tocSkip\"></span></h1>\n",
    "<div class=\"toc\"><ul class=\"toc-item\"><li><span><a href=\"#Постановка-задачи\" data-toc-modified-id=\"Постановка-задачи-1\"><span class=\"toc-item-num\">1&nbsp;&nbsp;</span>Постановка задачи</a></span><ul class=\"toc-item\"><li><span><a href=\"#Описание-данных\" data-toc-modified-id=\"Описание-данных-1.1\"><span class=\"toc-item-num\">1.1&nbsp;&nbsp;</span>Описание данных</a></span><ul class=\"toc-item\"><li><span><a href=\"#Технологический-процесс\" data-toc-modified-id=\"Технологический-процесс-1.1.1\"><span class=\"toc-item-num\">1.1.1&nbsp;&nbsp;</span>Технологический процесс</a></span></li><li><span><a href=\"#Параметры-этапов\" data-toc-modified-id=\"Параметры-этапов-1.1.2\"><span class=\"toc-item-num\">1.1.2&nbsp;&nbsp;</span>Параметры этапов</a></span></li><li><span><a href=\"#Наименование-признаков\" data-toc-modified-id=\"Наименование-признаков-1.1.3\"><span class=\"toc-item-num\">1.1.3&nbsp;&nbsp;</span>Наименование признаков</a></span></li><li><span><a href=\"#Возможные-значения-для-блока-[этап]:\" data-toc-modified-id=\"Возможные-значения-для-блока-[этап]:-1.1.4\"><span class=\"toc-item-num\">1.1.4&nbsp;&nbsp;</span>Возможные значения для блока [этап]:</a></span></li><li><span><a href=\"#Возможные-значения-для-блока-[тип_параметра]:\" data-toc-modified-id=\"Возможные-значения-для-блока-[тип_параметра]:-1.1.5\"><span class=\"toc-item-num\">1.1.5&nbsp;&nbsp;</span>Возможные значения для блока [тип_параметра]:</a></span></li></ul></li></ul></li><li><span><a href=\"#Подготовка-данных\" data-toc-modified-id=\"Подготовка-данных-2\"><span class=\"toc-item-num\">2&nbsp;&nbsp;</span>Подготовка данных</a></span><ul class=\"toc-item\"><li><span><a href=\"#Загрузка-модулей,-данных-и-первичная-обработка-данных\" data-toc-modified-id=\"Загрузка-модулей,-данных-и-первичная-обработка-данных-2.1\"><span class=\"toc-item-num\">2.1&nbsp;&nbsp;</span>Загрузка модулей, данных и первичная обработка данных</a></span></li><li><span><a href=\"#Проверка-рассчёта-эффективности-обогащения\" data-toc-modified-id=\"Проверка-рассчёта-эффективности-обогащения-2.2\"><span class=\"toc-item-num\">2.2&nbsp;&nbsp;</span>Проверка рассчёта эффективности обогащения</a></span></li><li><span><a href=\"#Анализ-признаков,-недоступных-в-тестовой-выборке\" data-toc-modified-id=\"Анализ-признаков,-недоступных-в-тестовой-выборке-2.3\"><span class=\"toc-item-num\">2.3&nbsp;&nbsp;</span>Анализ признаков, недоступных в тестовой выборке</a></span></li></ul></li><li><span><a href=\"#Анализ-данных\" data-toc-modified-id=\"Анализ-данных-3\"><span class=\"toc-item-num\">3&nbsp;&nbsp;</span>Анализ данных</a></span><ul class=\"toc-item\"><li><span><a href=\"#Анализ-изменения-концентрации-металлов-(Au,-Ag,-Pb)-на-различных-этапах-очистки\" data-toc-modified-id=\"Анализ-изменения-концентрации-металлов-(Au,-Ag,-Pb)-на-различных-этапах-очистки-3.1\"><span class=\"toc-item-num\">3.1&nbsp;&nbsp;</span>Анализ изменения концентрации металлов (Au, Ag, Pb) на различных этапах очистки</a></span><ul class=\"toc-item\"><li><span><a href=\"#Вывод\" data-toc-modified-id=\"Вывод-3.1.1\"><span class=\"toc-item-num\">3.1.1&nbsp;&nbsp;</span>Вывод</a></span></li><li><span><a href=\"#Удаление-выбросов\" data-toc-modified-id=\"Удаление-выбросов-3.1.2\"><span class=\"toc-item-num\">3.1.2&nbsp;&nbsp;</span>Удаление выбросов</a></span></li></ul></li><li><span><a href=\"#Распределения-размеров-гранул-сырья-на-обучающей-и-тестовой-выборках\" data-toc-modified-id=\"Распределения-размеров-гранул-сырья-на-обучающей-и-тестовой-выборках-3.2\"><span class=\"toc-item-num\">3.2&nbsp;&nbsp;</span>Распределения размеров гранул сырья на обучающей и тестовой выборках</a></span><ul class=\"toc-item\"><li><span><a href=\"#Вывод\" data-toc-modified-id=\"Вывод-3.2.1\"><span class=\"toc-item-num\">3.2.1&nbsp;&nbsp;</span>Вывод</a></span></li></ul></li><li><span><a href=\"#Суммарная-концентрация-всех-веществ-на-разных-стадиях:-в-сырье,-в-черновом-и-финальном-концентратах\" data-toc-modified-id=\"Суммарная-концентрация-всех-веществ-на-разных-стадиях:-в-сырье,-в-черновом-и-финальном-концентратах-3.3\"><span class=\"toc-item-num\">3.3&nbsp;&nbsp;</span>Суммарная концентрация всех веществ на разных стадиях: в сырье, в черновом и финальном концентратах</a></span><ul class=\"toc-item\"><li><span><a href=\"#Вывод\" data-toc-modified-id=\"Вывод-3.3.1\"><span class=\"toc-item-num\">3.3.1&nbsp;&nbsp;</span>Вывод</a></span></li></ul></li></ul></li><li><span><a href=\"#Модель\" data-toc-modified-id=\"Модель-4\"><span class=\"toc-item-num\">4&nbsp;&nbsp;</span>Модель</a></span><ul class=\"toc-item\"><li><span><a href=\"#Подготовка-данных-для-модели\" data-toc-modified-id=\"Подготовка-данных-для-модели-4.1\"><span class=\"toc-item-num\">4.1&nbsp;&nbsp;</span>Подготовка данных для модели</a></span></li><li><span><a href=\"#Функция-для-вычисления-итоговой-sMAPE.\" data-toc-modified-id=\"Функция-для-вычисления-итоговой-sMAPE.-4.2\"><span class=\"toc-item-num\">4.2&nbsp;&nbsp;</span>Функция для вычисления итоговой sMAPE.</a></span></li><li><span><a href=\"#Обучаем-модели\" data-toc-modified-id=\"Обучаем-модели-4.3\"><span class=\"toc-item-num\">4.3&nbsp;&nbsp;</span>Обучаем модели</a></span><ul class=\"toc-item\"><li><span><a href=\"#LinearRegression\" data-toc-modified-id=\"LinearRegression-4.3.1\"><span class=\"toc-item-num\">4.3.1&nbsp;&nbsp;</span>LinearRegression</a></span></li><li><span><a href=\"#DecisionTreeRegressor\" data-toc-modified-id=\"DecisionTreeRegressor-4.3.2\"><span class=\"toc-item-num\">4.3.2&nbsp;&nbsp;</span>DecisionTreeRegressor</a></span></li><li><span><a href=\"#RandomForestRegressor\" data-toc-modified-id=\"RandomForestRegressor-4.3.3\"><span class=\"toc-item-num\">4.3.3&nbsp;&nbsp;</span>RandomForestRegressor</a></span></li><li><span><a href=\"#Вывод\" data-toc-modified-id=\"Вывод-4.3.4\"><span class=\"toc-item-num\">4.3.4&nbsp;&nbsp;</span>Вывод</a></span></li></ul></li><li><span><a href=\"#Проверка-на-тестовой-выборке\" data-toc-modified-id=\"Проверка-на-тестовой-выборке-4.4\"><span class=\"toc-item-num\">4.4&nbsp;&nbsp;</span>Проверка на тестовой выборке</a></span><ul class=\"toc-item\"><li><span><a href=\"#Проверка-на-адекватность\" data-toc-modified-id=\"Проверка-на-адекватность-4.4.1\"><span class=\"toc-item-num\">4.4.1&nbsp;&nbsp;</span>Проверка на адекватность</a></span></li></ul></li></ul></li><li><span><a href=\"#Вывод\" data-toc-modified-id=\"Вывод-5\"><span class=\"toc-item-num\">5&nbsp;&nbsp;</span>Вывод</a></span></li><li><span><a href=\"#Чек-лист-готовности-проекта\" data-toc-modified-id=\"Чек-лист-готовности-проекта-6\"><span class=\"toc-item-num\">6&nbsp;&nbsp;</span>Чек-лист готовности проекта</a></span></li></ul></div>"
   ]
  },
  {
   "cell_type": "markdown",
   "metadata": {},
   "source": [
    "# Восстановление золота из руды"
   ]
  },
  {
   "cell_type": "markdown",
   "metadata": {},
   "source": [
    "## Постановка задачи"
   ]
  },
  {
   "cell_type": "markdown",
   "metadata": {},
   "source": [
    "Подготовьте прототип модели машинного обучения для «Цифры». Компания разрабатывает решения для эффективной работы промышленных предприятий.\n",
    "\n",
    "Модель должна предсказать коэффициент восстановления золота из золотосодержащей руды. Используйте данные с параметрами добычи и очистки. \n",
    "\n",
    "Модель поможет оптимизировать производство, чтобы не запускать предприятие с убыточными характеристиками.\n",
    "\n",
    "Вам нужно:\n",
    "\n",
    "1. Подготовить данные;\n",
    "2. Провести исследовательский анализ данных;\n",
    "3. Построить и обучить модель.\n",
    "\n",
    "Чтобы выполнить проект, обращайтесь к библиотекам *pandas*, *matplotlib* и *sklearn.* Вам поможет их документация."
   ]
  },
  {
   "cell_type": "markdown",
   "metadata": {},
   "source": [
    "### Описание данных"
   ]
  },
  {
   "cell_type": "markdown",
   "metadata": {},
   "source": [
    "#### Технологический процесс"
   ]
  },
  {
   "cell_type": "markdown",
   "metadata": {},
   "source": [
    "\n",
    "\n",
    "Rougher feed — исходное сырье\n",
    "Rougher additions (или reagent additions) — флотационные реагенты: Xanthate, Sulphate, Depressant\n",
    "  \n",
    "Xanthate **— ксантогенат (промотер, или активатор флотации)\n",
    "\n",
    "Sulphate — сульфат (на данном производстве сульфид натрия);\n",
    "\n",
    "Depressant — депрессант (силикат натрия).\n",
    "\n",
    "Rougher process (англ. «грубый процесс») — флотация\n",
    "\n",
    "Rougher tails — отвальные хвосты\n",
    "\n",
    "Float banks — флотационная установка\n",
    "\n",
    "Cleaner process — очистка\n",
    "\n",
    "Rougher Au — черновой концентрат золота\n",
    "\n",
    "Final Au — финальный концентрат золота\n"
   ]
  },
  {
   "cell_type": "markdown",
   "metadata": {},
   "source": [
    "#### Параметры этапов\n",
    "air amount — объём воздуха\n",
    "\n",
    "fluid levels — уровень жидкости\n",
    "\n",
    "feed size — размер гранул сырья\n",
    "\n",
    "feed rate — скорость подачи"
   ]
  },
  {
   "cell_type": "markdown",
   "metadata": {},
   "source": [
    "#### Наименование признаков\n",
    "Наименование признаков должно быть такое:\n",
    "\n",
    "[этап].[тип_параметра].[название_параметра]\n",
    "\n",
    "Пример: rougher.input.feed_ag\n"
   ]
  },
  {
   "cell_type": "markdown",
   "metadata": {},
   "source": [
    "#### Возможные значения для блока [этап]:\n",
    "\n",
    "rougher — флотация\n",
    "\n",
    "primary_cleaner — первичная очистка\n",
    "\n",
    "secondary_cleaner — вторичная очистка\n",
    "\n",
    "final — финальные характеристики\n",
    "\n"
   ]
  },
  {
   "cell_type": "markdown",
   "metadata": {},
   "source": [
    "#### Возможные значения для блока [тип_параметра]:\n",
    "\n",
    "input — параметры сырья\n",
    "\n",
    "output — параметры продукта\n",
    "\n",
    "state — параметры, характеризующие текущее состояние этапа\n",
    "\n",
    "calculation — расчётные характеристики"
   ]
  },
  {
   "cell_type": "markdown",
   "metadata": {},
   "source": [
    "## Подготовка данных"
   ]
  },
  {
   "cell_type": "markdown",
   "metadata": {},
   "source": [
    "### Загрузка модулей, данных и первичная обработка данных"
   ]
  },
  {
   "cell_type": "markdown",
   "metadata": {},
   "source": [
    "Загружаем модули"
   ]
  },
  {
   "cell_type": "code",
   "execution_count": 1,
   "metadata": {},
   "outputs": [],
   "source": [
    "import pandas as pd\n",
    "import numpy as np\n",
    "\n",
    "from sklearn.metrics import make_scorer, mean_absolute_error\n",
    "\n",
    "from sklearn.linear_model import LinearRegression\n",
    "from sklearn.tree import DecisionTreeRegressor \n",
    "from sklearn.ensemble import RandomForestRegressor\n",
    "from sklearn.dummy import DummyRegressor\n",
    "\n",
    "\n",
    "from sklearn.model_selection import train_test_split, cross_val_score\n",
    "from sklearn.metrics import make_scorer, mean_absolute_error"
   ]
  },
  {
   "cell_type": "markdown",
   "metadata": {},
   "source": [
    "Загружаем второстепенные модули"
   ]
  },
  {
   "cell_type": "code",
   "execution_count": 2,
   "metadata": {},
   "outputs": [],
   "source": [
    "import seaborn as sns\n",
    "from matplotlib import pyplot as plt\n",
    "from tqdm.notebook import tqdm "
   ]
  },
  {
   "cell_type": "markdown",
   "metadata": {},
   "source": [
    "Загружаем данные "
   ]
  },
  {
   "cell_type": "code",
   "execution_count": 3,
   "metadata": {},
   "outputs": [],
   "source": [
    "try:\n",
    "    df_train = pd.read_csv('/datasets/gold_recovery_train_new.csv')\n",
    "except:\n",
    "    df_train = pd.read_csv('https://code.s3.yandex.net/datasets/gold_recovery_train_new.csv')\n",
    "    \n",
    "try:\n",
    "    df_test = pd.read_csv('/datasets/gold_recovery_test_new.csv')\n",
    "except:\n",
    "    df_test = pd.read_csv('https://code.s3.yandex.net/datasets/gold_recovery_test_new.csv')\n",
    "\n",
    "try:\n",
    "    df_full = pd.read_csv('/datasets/gold_recovery_full_new.csv')\n",
    "except:\n",
    "    df_full = pd.read_csv('https://code.s3.yandex.net/datasets/gold_recovery_full_new.csv')"
   ]
  },
  {
   "cell_type": "markdown",
   "metadata": {},
   "source": [
    "Смотрим инфо данных"
   ]
  },
  {
   "cell_type": "code",
   "execution_count": 4,
   "metadata": {},
   "outputs": [
    {
     "name": "stdout",
     "output_type": "stream",
     "text": [
      "<class 'pandas.core.frame.DataFrame'>\n",
      "RangeIndex: 14149 entries, 0 to 14148\n",
      "Data columns (total 87 columns):\n",
      " #   Column                                              Non-Null Count  Dtype  \n",
      "---  ------                                              --------------  -----  \n",
      " 0   date                                                14149 non-null  object \n",
      " 1   final.output.concentrate_ag                         14148 non-null  float64\n",
      " 2   final.output.concentrate_pb                         14148 non-null  float64\n",
      " 3   final.output.concentrate_sol                        13938 non-null  float64\n",
      " 4   final.output.concentrate_au                         14149 non-null  float64\n",
      " 5   final.output.recovery                               14149 non-null  float64\n",
      " 6   final.output.tail_ag                                14149 non-null  float64\n",
      " 7   final.output.tail_pb                                14049 non-null  float64\n",
      " 8   final.output.tail_sol                               14144 non-null  float64\n",
      " 9   final.output.tail_au                                14149 non-null  float64\n",
      " 10  primary_cleaner.input.sulfate                       14129 non-null  float64\n",
      " 11  primary_cleaner.input.depressant                    14117 non-null  float64\n",
      " 12  primary_cleaner.input.feed_size                     14149 non-null  float64\n",
      " 13  primary_cleaner.input.xanthate                      14049 non-null  float64\n",
      " 14  primary_cleaner.output.concentrate_ag               14149 non-null  float64\n",
      " 15  primary_cleaner.output.concentrate_pb               14063 non-null  float64\n",
      " 16  primary_cleaner.output.concentrate_sol              13863 non-null  float64\n",
      " 17  primary_cleaner.output.concentrate_au               14149 non-null  float64\n",
      " 18  primary_cleaner.output.tail_ag                      14148 non-null  float64\n",
      " 19  primary_cleaner.output.tail_pb                      14134 non-null  float64\n",
      " 20  primary_cleaner.output.tail_sol                     14103 non-null  float64\n",
      " 21  primary_cleaner.output.tail_au                      14149 non-null  float64\n",
      " 22  primary_cleaner.state.floatbank8_a_air              14145 non-null  float64\n",
      " 23  primary_cleaner.state.floatbank8_a_level            14148 non-null  float64\n",
      " 24  primary_cleaner.state.floatbank8_b_air              14145 non-null  float64\n",
      " 25  primary_cleaner.state.floatbank8_b_level            14148 non-null  float64\n",
      " 26  primary_cleaner.state.floatbank8_c_air              14147 non-null  float64\n",
      " 27  primary_cleaner.state.floatbank8_c_level            14148 non-null  float64\n",
      " 28  primary_cleaner.state.floatbank8_d_air              14146 non-null  float64\n",
      " 29  primary_cleaner.state.floatbank8_d_level            14148 non-null  float64\n",
      " 30  rougher.calculation.sulfate_to_au_concentrate       14148 non-null  float64\n",
      " 31  rougher.calculation.floatbank10_sulfate_to_au_feed  14148 non-null  float64\n",
      " 32  rougher.calculation.floatbank11_sulfate_to_au_feed  14148 non-null  float64\n",
      " 33  rougher.calculation.au_pb_ratio                     14149 non-null  float64\n",
      " 34  rougher.input.feed_ag                               14149 non-null  float64\n",
      " 35  rougher.input.feed_pb                               14049 non-null  float64\n",
      " 36  rougher.input.feed_rate                             14141 non-null  float64\n",
      " 37  rougher.input.feed_size                             14005 non-null  float64\n",
      " 38  rougher.input.feed_sol                              14071 non-null  float64\n",
      " 39  rougher.input.feed_au                               14149 non-null  float64\n",
      " 40  rougher.input.floatbank10_sulfate                   14120 non-null  float64\n",
      " 41  rougher.input.floatbank10_xanthate                  14141 non-null  float64\n",
      " 42  rougher.input.floatbank11_sulfate                   14113 non-null  float64\n",
      " 43  rougher.input.floatbank11_xanthate                  13721 non-null  float64\n",
      " 44  rougher.output.concentrate_ag                       14149 non-null  float64\n",
      " 45  rougher.output.concentrate_pb                       14149 non-null  float64\n",
      " 46  rougher.output.concentrate_sol                      14127 non-null  float64\n",
      " 47  rougher.output.concentrate_au                       14149 non-null  float64\n",
      " 48  rougher.output.recovery                             14149 non-null  float64\n",
      " 49  rougher.output.tail_ag                              14148 non-null  float64\n",
      " 50  rougher.output.tail_pb                              14149 non-null  float64\n",
      " 51  rougher.output.tail_sol                             14149 non-null  float64\n",
      " 52  rougher.output.tail_au                              14149 non-null  float64\n",
      " 53  rougher.state.floatbank10_a_air                     14148 non-null  float64\n",
      " 54  rougher.state.floatbank10_a_level                   14148 non-null  float64\n",
      " 55  rougher.state.floatbank10_b_air                     14148 non-null  float64\n",
      " 56  rougher.state.floatbank10_b_level                   14148 non-null  float64\n",
      " 57  rougher.state.floatbank10_c_air                     14148 non-null  float64\n",
      " 58  rougher.state.floatbank10_c_level                   14148 non-null  float64\n",
      " 59  rougher.state.floatbank10_d_air                     14149 non-null  float64\n",
      " 60  rougher.state.floatbank10_d_level                   14149 non-null  float64\n",
      " 61  rougher.state.floatbank10_e_air                     13713 non-null  float64\n",
      " 62  rougher.state.floatbank10_e_level                   14149 non-null  float64\n",
      " 63  rougher.state.floatbank10_f_air                     14149 non-null  float64\n",
      " 64  rougher.state.floatbank10_f_level                   14149 non-null  float64\n",
      " 65  secondary_cleaner.output.tail_ag                    14147 non-null  float64\n",
      " 66  secondary_cleaner.output.tail_pb                    14139 non-null  float64\n",
      " 67  secondary_cleaner.output.tail_sol                   12544 non-null  float64\n",
      " 68  secondary_cleaner.output.tail_au                    14149 non-null  float64\n",
      " 69  secondary_cleaner.state.floatbank2_a_air            13932 non-null  float64\n",
      " 70  secondary_cleaner.state.floatbank2_a_level          14148 non-null  float64\n",
      " 71  secondary_cleaner.state.floatbank2_b_air            14128 non-null  float64\n",
      " 72  secondary_cleaner.state.floatbank2_b_level          14148 non-null  float64\n",
      " 73  secondary_cleaner.state.floatbank3_a_air            14145 non-null  float64\n",
      " 74  secondary_cleaner.state.floatbank3_a_level          14148 non-null  float64\n",
      " 75  secondary_cleaner.state.floatbank3_b_air            14148 non-null  float64\n",
      " 76  secondary_cleaner.state.floatbank3_b_level          14148 non-null  float64\n",
      " 77  secondary_cleaner.state.floatbank4_a_air            14143 non-null  float64\n",
      " 78  secondary_cleaner.state.floatbank4_a_level          14148 non-null  float64\n",
      " 79  secondary_cleaner.state.floatbank4_b_air            14148 non-null  float64\n",
      " 80  secondary_cleaner.state.floatbank4_b_level          14148 non-null  float64\n",
      " 81  secondary_cleaner.state.floatbank5_a_air            14148 non-null  float64\n",
      " 82  secondary_cleaner.state.floatbank5_a_level          14148 non-null  float64\n",
      " 83  secondary_cleaner.state.floatbank5_b_air            14148 non-null  float64\n",
      " 84  secondary_cleaner.state.floatbank5_b_level          14148 non-null  float64\n",
      " 85  secondary_cleaner.state.floatbank6_a_air            14147 non-null  float64\n",
      " 86  secondary_cleaner.state.floatbank6_a_level          14148 non-null  float64\n",
      "dtypes: float64(86), object(1)\n",
      "memory usage: 9.4+ MB\n",
      "<class 'pandas.core.frame.DataFrame'>\n",
      "RangeIndex: 5290 entries, 0 to 5289\n",
      "Data columns (total 53 columns):\n",
      " #   Column                                      Non-Null Count  Dtype  \n",
      "---  ------                                      --------------  -----  \n",
      " 0   date                                        5290 non-null   object \n",
      " 1   primary_cleaner.input.sulfate               5286 non-null   float64\n",
      " 2   primary_cleaner.input.depressant            5285 non-null   float64\n",
      " 3   primary_cleaner.input.feed_size             5290 non-null   float64\n",
      " 4   primary_cleaner.input.xanthate              5286 non-null   float64\n",
      " 5   primary_cleaner.state.floatbank8_a_air      5290 non-null   float64\n",
      " 6   primary_cleaner.state.floatbank8_a_level    5290 non-null   float64\n",
      " 7   primary_cleaner.state.floatbank8_b_air      5290 non-null   float64\n",
      " 8   primary_cleaner.state.floatbank8_b_level    5290 non-null   float64\n",
      " 9   primary_cleaner.state.floatbank8_c_air      5290 non-null   float64\n",
      " 10  primary_cleaner.state.floatbank8_c_level    5290 non-null   float64\n",
      " 11  primary_cleaner.state.floatbank8_d_air      5290 non-null   float64\n",
      " 12  primary_cleaner.state.floatbank8_d_level    5290 non-null   float64\n",
      " 13  rougher.input.feed_ag                       5290 non-null   float64\n",
      " 14  rougher.input.feed_pb                       5290 non-null   float64\n",
      " 15  rougher.input.feed_rate                     5287 non-null   float64\n",
      " 16  rougher.input.feed_size                     5289 non-null   float64\n",
      " 17  rougher.input.feed_sol                      5269 non-null   float64\n",
      " 18  rougher.input.feed_au                       5290 non-null   float64\n",
      " 19  rougher.input.floatbank10_sulfate           5285 non-null   float64\n",
      " 20  rougher.input.floatbank10_xanthate          5290 non-null   float64\n",
      " 21  rougher.input.floatbank11_sulfate           5282 non-null   float64\n",
      " 22  rougher.input.floatbank11_xanthate          5265 non-null   float64\n",
      " 23  rougher.state.floatbank10_a_air             5290 non-null   float64\n",
      " 24  rougher.state.floatbank10_a_level           5290 non-null   float64\n",
      " 25  rougher.state.floatbank10_b_air             5290 non-null   float64\n",
      " 26  rougher.state.floatbank10_b_level           5290 non-null   float64\n",
      " 27  rougher.state.floatbank10_c_air             5290 non-null   float64\n",
      " 28  rougher.state.floatbank10_c_level           5290 non-null   float64\n",
      " 29  rougher.state.floatbank10_d_air             5290 non-null   float64\n",
      " 30  rougher.state.floatbank10_d_level           5290 non-null   float64\n",
      " 31  rougher.state.floatbank10_e_air             5290 non-null   float64\n",
      " 32  rougher.state.floatbank10_e_level           5290 non-null   float64\n",
      " 33  rougher.state.floatbank10_f_air             5290 non-null   float64\n",
      " 34  rougher.state.floatbank10_f_level           5290 non-null   float64\n",
      " 35  secondary_cleaner.state.floatbank2_a_air    5287 non-null   float64\n",
      " 36  secondary_cleaner.state.floatbank2_a_level  5290 non-null   float64\n",
      " 37  secondary_cleaner.state.floatbank2_b_air    5288 non-null   float64\n",
      " 38  secondary_cleaner.state.floatbank2_b_level  5290 non-null   float64\n",
      " 39  secondary_cleaner.state.floatbank3_a_air    5281 non-null   float64\n",
      " 40  secondary_cleaner.state.floatbank3_a_level  5290 non-null   float64\n",
      " 41  secondary_cleaner.state.floatbank3_b_air    5290 non-null   float64\n",
      " 42  secondary_cleaner.state.floatbank3_b_level  5290 non-null   float64\n",
      " 43  secondary_cleaner.state.floatbank4_a_air    5290 non-null   float64\n",
      " 44  secondary_cleaner.state.floatbank4_a_level  5290 non-null   float64\n",
      " 45  secondary_cleaner.state.floatbank4_b_air    5290 non-null   float64\n",
      " 46  secondary_cleaner.state.floatbank4_b_level  5290 non-null   float64\n",
      " 47  secondary_cleaner.state.floatbank5_a_air    5290 non-null   float64\n",
      " 48  secondary_cleaner.state.floatbank5_a_level  5290 non-null   float64\n",
      " 49  secondary_cleaner.state.floatbank5_b_air    5290 non-null   float64\n",
      " 50  secondary_cleaner.state.floatbank5_b_level  5290 non-null   float64\n",
      " 51  secondary_cleaner.state.floatbank6_a_air    5290 non-null   float64\n",
      " 52  secondary_cleaner.state.floatbank6_a_level  5290 non-null   float64\n",
      "dtypes: float64(52), object(1)\n",
      "memory usage: 2.1+ MB\n",
      "<class 'pandas.core.frame.DataFrame'>\n",
      "RangeIndex: 19439 entries, 0 to 19438\n",
      "Data columns (total 87 columns):\n",
      " #   Column                                              Non-Null Count  Dtype  \n",
      "---  ------                                              --------------  -----  \n",
      " 0   date                                                19439 non-null  object \n",
      " 1   final.output.concentrate_ag                         19438 non-null  float64\n",
      " 2   final.output.concentrate_pb                         19438 non-null  float64\n",
      " 3   final.output.concentrate_sol                        19228 non-null  float64\n",
      " 4   final.output.concentrate_au                         19439 non-null  float64\n",
      " 5   final.output.recovery                               19439 non-null  float64\n",
      " 6   final.output.tail_ag                                19438 non-null  float64\n",
      " 7   final.output.tail_pb                                19338 non-null  float64\n",
      " 8   final.output.tail_sol                               19433 non-null  float64\n",
      " 9   final.output.tail_au                                19439 non-null  float64\n",
      " 10  primary_cleaner.input.sulfate                       19415 non-null  float64\n",
      " 11  primary_cleaner.input.depressant                    19402 non-null  float64\n",
      " 12  primary_cleaner.input.feed_size                     19439 non-null  float64\n",
      " 13  primary_cleaner.input.xanthate                      19335 non-null  float64\n",
      " 14  primary_cleaner.output.concentrate_ag               19439 non-null  float64\n",
      " 15  primary_cleaner.output.concentrate_pb               19323 non-null  float64\n",
      " 16  primary_cleaner.output.concentrate_sol              19069 non-null  float64\n",
      " 17  primary_cleaner.output.concentrate_au               19439 non-null  float64\n",
      " 18  primary_cleaner.output.tail_ag                      19435 non-null  float64\n",
      " 19  primary_cleaner.output.tail_pb                      19418 non-null  float64\n",
      " 20  primary_cleaner.output.tail_sol                     19377 non-null  float64\n",
      " 21  primary_cleaner.output.tail_au                      19439 non-null  float64\n",
      " 22  primary_cleaner.state.floatbank8_a_air              19435 non-null  float64\n",
      " 23  primary_cleaner.state.floatbank8_a_level            19438 non-null  float64\n",
      " 24  primary_cleaner.state.floatbank8_b_air              19435 non-null  float64\n",
      " 25  primary_cleaner.state.floatbank8_b_level            19438 non-null  float64\n",
      " 26  primary_cleaner.state.floatbank8_c_air              19437 non-null  float64\n",
      " 27  primary_cleaner.state.floatbank8_c_level            19438 non-null  float64\n",
      " 28  primary_cleaner.state.floatbank8_d_air              19436 non-null  float64\n",
      " 29  primary_cleaner.state.floatbank8_d_level            19438 non-null  float64\n",
      " 30  rougher.calculation.sulfate_to_au_concentrate       19437 non-null  float64\n",
      " 31  rougher.calculation.floatbank10_sulfate_to_au_feed  19437 non-null  float64\n",
      " 32  rougher.calculation.floatbank11_sulfate_to_au_feed  19437 non-null  float64\n",
      " 33  rougher.calculation.au_pb_ratio                     19439 non-null  float64\n",
      " 34  rougher.input.feed_ag                               19439 non-null  float64\n",
      " 35  rougher.input.feed_pb                               19339 non-null  float64\n",
      " 36  rougher.input.feed_rate                             19428 non-null  float64\n",
      " 37  rougher.input.feed_size                             19294 non-null  float64\n",
      " 38  rougher.input.feed_sol                              19340 non-null  float64\n",
      " 39  rougher.input.feed_au                               19439 non-null  float64\n",
      " 40  rougher.input.floatbank10_sulfate                   19405 non-null  float64\n",
      " 41  rougher.input.floatbank10_xanthate                  19431 non-null  float64\n",
      " 42  rougher.input.floatbank11_sulfate                   19395 non-null  float64\n",
      " 43  rougher.input.floatbank11_xanthate                  18986 non-null  float64\n",
      " 44  rougher.output.concentrate_ag                       19439 non-null  float64\n",
      " 45  rougher.output.concentrate_pb                       19439 non-null  float64\n",
      " 46  rougher.output.concentrate_sol                      19416 non-null  float64\n",
      " 47  rougher.output.concentrate_au                       19439 non-null  float64\n",
      " 48  rougher.output.recovery                             19439 non-null  float64\n",
      " 49  rougher.output.tail_ag                              19438 non-null  float64\n",
      " 50  rougher.output.tail_pb                              19439 non-null  float64\n",
      " 51  rougher.output.tail_sol                             19439 non-null  float64\n",
      " 52  rougher.output.tail_au                              19439 non-null  float64\n",
      " 53  rougher.state.floatbank10_a_air                     19438 non-null  float64\n",
      " 54  rougher.state.floatbank10_a_level                   19438 non-null  float64\n",
      " 55  rougher.state.floatbank10_b_air                     19438 non-null  float64\n",
      " 56  rougher.state.floatbank10_b_level                   19438 non-null  float64\n",
      " 57  rougher.state.floatbank10_c_air                     19438 non-null  float64\n",
      " 58  rougher.state.floatbank10_c_level                   19438 non-null  float64\n",
      " 59  rougher.state.floatbank10_d_air                     19439 non-null  float64\n",
      " 60  rougher.state.floatbank10_d_level                   19439 non-null  float64\n",
      " 61  rougher.state.floatbank10_e_air                     19003 non-null  float64\n",
      " 62  rougher.state.floatbank10_e_level                   19439 non-null  float64\n",
      " 63  rougher.state.floatbank10_f_air                     19439 non-null  float64\n",
      " 64  rougher.state.floatbank10_f_level                   19439 non-null  float64\n",
      " 65  secondary_cleaner.output.tail_ag                    19437 non-null  float64\n",
      " 66  secondary_cleaner.output.tail_pb                    19427 non-null  float64\n",
      " 67  secondary_cleaner.output.tail_sol                   17691 non-null  float64\n",
      " 68  secondary_cleaner.output.tail_au                    19439 non-null  float64\n",
      " 69  secondary_cleaner.state.floatbank2_a_air            19219 non-null  float64\n",
      " 70  secondary_cleaner.state.floatbank2_a_level          19438 non-null  float64\n",
      " 71  secondary_cleaner.state.floatbank2_b_air            19416 non-null  float64\n",
      " 72  secondary_cleaner.state.floatbank2_b_level          19438 non-null  float64\n",
      " 73  secondary_cleaner.state.floatbank3_a_air            19426 non-null  float64\n",
      " 74  secondary_cleaner.state.floatbank3_a_level          19438 non-null  float64\n",
      " 75  secondary_cleaner.state.floatbank3_b_air            19438 non-null  float64\n",
      " 76  secondary_cleaner.state.floatbank3_b_level          19438 non-null  float64\n",
      " 77  secondary_cleaner.state.floatbank4_a_air            19433 non-null  float64\n",
      " 78  secondary_cleaner.state.floatbank4_a_level          19438 non-null  float64\n",
      " 79  secondary_cleaner.state.floatbank4_b_air            19438 non-null  float64\n",
      " 80  secondary_cleaner.state.floatbank4_b_level          19438 non-null  float64\n",
      " 81  secondary_cleaner.state.floatbank5_a_air            19438 non-null  float64\n",
      " 82  secondary_cleaner.state.floatbank5_a_level          19438 non-null  float64\n",
      " 83  secondary_cleaner.state.floatbank5_b_air            19438 non-null  float64\n",
      " 84  secondary_cleaner.state.floatbank5_b_level          19438 non-null  float64\n",
      " 85  secondary_cleaner.state.floatbank6_a_air            19437 non-null  float64\n",
      " 86  secondary_cleaner.state.floatbank6_a_level          19438 non-null  float64\n",
      "dtypes: float64(86), object(1)\n",
      "memory usage: 12.9+ MB\n"
     ]
    },
    {
     "data": {
      "text/plain": [
       "(None, None, None)"
      ]
     },
     "execution_count": 4,
     "metadata": {},
     "output_type": "execute_result"
    }
   ],
   "source": [
    "df_train.info(), df_test.info(), df_full.info()"
   ]
  },
  {
   "cell_type": "markdown",
   "metadata": {},
   "source": [
    "Мы видим, что в тестовой выборке меньшее количество признаков. Кроме того, имеются пропуски в данных.\n",
    "\n",
    "Проверим данные также на дубликаты."
   ]
  },
  {
   "cell_type": "code",
   "execution_count": 5,
   "metadata": {},
   "outputs": [
    {
     "data": {
      "text/plain": [
       "(                  date  final.output.concentrate_ag  \\\n",
       " 0  2016-01-15 00:00:00                     6.055403   \n",
       " 1  2016-01-15 01:00:00                     6.029369   \n",
       " 2  2016-01-15 02:00:00                     6.055926   \n",
       " 3  2016-01-15 03:00:00                     6.047977   \n",
       " 4  2016-01-15 04:00:00                     6.148599   \n",
       " \n",
       "    final.output.concentrate_pb  final.output.concentrate_sol  \\\n",
       " 0                     9.889648                      5.507324   \n",
       " 1                     9.968944                      5.257781   \n",
       " 2                    10.213995                      5.383759   \n",
       " 3                     9.977019                      4.858634   \n",
       " 4                    10.142511                      4.939416   \n",
       " \n",
       "    final.output.concentrate_au  final.output.recovery  final.output.tail_ag  \\\n",
       " 0                    42.192020              70.541216             10.411962   \n",
       " 1                    42.701629              69.266198             10.462676   \n",
       " 2                    42.657501              68.116445             10.507046   \n",
       " 3                    42.689819              68.347543             10.422762   \n",
       " 4                    42.774141              66.927016             10.360302   \n",
       " \n",
       "    final.output.tail_pb  final.output.tail_sol  final.output.tail_au  ...  \\\n",
       " 0              0.895447              16.904297              2.143149  ...   \n",
       " 1              0.927452              16.634514              2.224930  ...   \n",
       " 2              0.953716              16.208849              2.257889  ...   \n",
       " 3              0.883763              16.532835              2.146849  ...   \n",
       " 4              0.792826              16.525686              2.055292  ...   \n",
       " \n",
       "    secondary_cleaner.state.floatbank4_a_air  \\\n",
       " 0                                 14.016835   \n",
       " 1                                 13.992281   \n",
       " 2                                 14.015015   \n",
       " 3                                 14.036510   \n",
       " 4                                 14.027298   \n",
       " \n",
       "    secondary_cleaner.state.floatbank4_a_level  \\\n",
       " 0                                 -502.488007   \n",
       " 1                                 -505.503262   \n",
       " 2                                 -502.520901   \n",
       " 3                                 -500.857308   \n",
       " 4                                 -499.838632   \n",
       " \n",
       "    secondary_cleaner.state.floatbank4_b_air  \\\n",
       " 0                                 12.099931   \n",
       " 1                                 11.950531   \n",
       " 2                                 11.912783   \n",
       " 3                                 11.999550   \n",
       " 4                                 11.953070   \n",
       " \n",
       "    secondary_cleaner.state.floatbank4_b_level  \\\n",
       " 0                                 -504.715942   \n",
       " 1                                 -501.331529   \n",
       " 2                                 -501.133383   \n",
       " 3                                 -501.193686   \n",
       " 4                                 -501.053894   \n",
       " \n",
       "    secondary_cleaner.state.floatbank5_a_air  \\\n",
       " 0                                  9.925633   \n",
       " 1                                 10.039245   \n",
       " 2                                 10.070913   \n",
       " 3                                  9.970366   \n",
       " 4                                  9.925709   \n",
       " \n",
       "    secondary_cleaner.state.floatbank5_a_level  \\\n",
       " 0                                 -498.310211   \n",
       " 1                                 -500.169983   \n",
       " 2                                 -500.129135   \n",
       " 3                                 -499.201640   \n",
       " 4                                 -501.686727   \n",
       " \n",
       "    secondary_cleaner.state.floatbank5_b_air  \\\n",
       " 0                                  8.079666   \n",
       " 1                                  7.984757   \n",
       " 2                                  8.013877   \n",
       " 3                                  7.977324   \n",
       " 4                                  7.894242   \n",
       " \n",
       "    secondary_cleaner.state.floatbank5_b_level  \\\n",
       " 0                                 -500.470978   \n",
       " 1                                 -500.582168   \n",
       " 2                                 -500.517572   \n",
       " 3                                 -500.255908   \n",
       " 4                                 -500.356035   \n",
       " \n",
       "    secondary_cleaner.state.floatbank6_a_air  \\\n",
       " 0                                 14.151341   \n",
       " 1                                 13.998353   \n",
       " 2                                 14.028663   \n",
       " 3                                 14.005551   \n",
       " 4                                 13.996647   \n",
       " \n",
       "    secondary_cleaner.state.floatbank6_a_level  \n",
       " 0                                 -605.841980  \n",
       " 1                                 -599.787184  \n",
       " 2                                 -601.427363  \n",
       " 3                                 -599.996129  \n",
       " 4                                 -601.496691  \n",
       " \n",
       " [5 rows x 87 columns],\n",
       "                   date  primary_cleaner.input.sulfate  \\\n",
       " 0  2016-09-01 00:59:59                     210.800909   \n",
       " 1  2016-09-01 01:59:59                     215.392455   \n",
       " 2  2016-09-01 02:59:59                     215.259946   \n",
       " 3  2016-09-01 03:59:59                     215.336236   \n",
       " 4  2016-09-01 04:59:59                     199.099327   \n",
       " \n",
       "    primary_cleaner.input.depressant  primary_cleaner.input.feed_size  \\\n",
       " 0                         14.993118                         8.080000   \n",
       " 1                         14.987471                         8.080000   \n",
       " 2                         12.884934                         7.786667   \n",
       " 3                         12.006805                         7.640000   \n",
       " 4                         10.682530                         7.530000   \n",
       " \n",
       "    primary_cleaner.input.xanthate  primary_cleaner.state.floatbank8_a_air  \\\n",
       " 0                        1.005021                             1398.981301   \n",
       " 1                        0.990469                             1398.777912   \n",
       " 2                        0.996043                             1398.493666   \n",
       " 3                        0.863514                             1399.618111   \n",
       " 4                        0.805575                             1401.268123   \n",
       " \n",
       "    primary_cleaner.state.floatbank8_a_level  \\\n",
       " 0                               -500.225577   \n",
       " 1                               -500.057435   \n",
       " 2                               -500.868360   \n",
       " 3                               -498.863574   \n",
       " 4                               -500.808305   \n",
       " \n",
       "    primary_cleaner.state.floatbank8_b_air  \\\n",
       " 0                             1399.144926   \n",
       " 1                             1398.055362   \n",
       " 2                             1398.860436   \n",
       " 3                             1397.440120   \n",
       " 4                             1398.128818   \n",
       " \n",
       "    primary_cleaner.state.floatbank8_b_level  \\\n",
       " 0                               -499.919735   \n",
       " 1                               -499.778182   \n",
       " 2                               -499.764529   \n",
       " 3                               -499.211024   \n",
       " 4                               -499.504543   \n",
       " \n",
       "    primary_cleaner.state.floatbank8_c_air  ...  \\\n",
       " 0                             1400.102998  ...   \n",
       " 1                             1396.151033  ...   \n",
       " 2                             1398.075709  ...   \n",
       " 3                             1400.129303  ...   \n",
       " 4                             1402.172226  ...   \n",
       " \n",
       "    secondary_cleaner.state.floatbank4_a_air  \\\n",
       " 0                                 12.023554   \n",
       " 1                                 12.058140   \n",
       " 2                                 11.962366   \n",
       " 3                                 12.033091   \n",
       " 4                                 12.025367   \n",
       " \n",
       "    secondary_cleaner.state.floatbank4_a_level  \\\n",
       " 0                                 -497.795834   \n",
       " 1                                 -498.695773   \n",
       " 2                                 -498.767484   \n",
       " 3                                 -498.350935   \n",
       " 4                                 -500.786497   \n",
       " \n",
       "    secondary_cleaner.state.floatbank4_b_air  \\\n",
       " 0                                  8.016656   \n",
       " 1                                  8.130979   \n",
       " 2                                  8.096893   \n",
       " 3                                  8.074946   \n",
       " 4                                  8.054678   \n",
       " \n",
       "    secondary_cleaner.state.floatbank4_b_level  \\\n",
       " 0                                 -501.289139   \n",
       " 1                                 -499.634209   \n",
       " 2                                 -500.827423   \n",
       " 3                                 -499.474407   \n",
       " 4                                 -500.397500   \n",
       " \n",
       "    secondary_cleaner.state.floatbank5_a_air  \\\n",
       " 0                                  7.946562   \n",
       " 1                                  7.958270   \n",
       " 2                                  8.071056   \n",
       " 3                                  7.897085   \n",
       " 4                                  8.107890   \n",
       " \n",
       "    secondary_cleaner.state.floatbank5_a_level  \\\n",
       " 0                                 -432.317850   \n",
       " 1                                 -525.839648   \n",
       " 2                                 -500.801673   \n",
       " 3                                 -500.868509   \n",
       " 4                                 -509.526725   \n",
       " \n",
       "    secondary_cleaner.state.floatbank5_b_air  \\\n",
       " 0                                  4.872511   \n",
       " 1                                  4.878850   \n",
       " 2                                  4.905125   \n",
       " 3                                  4.931400   \n",
       " 4                                  4.957674   \n",
       " \n",
       "    secondary_cleaner.state.floatbank5_b_level  \\\n",
       " 0                                 -500.037437   \n",
       " 1                                 -500.162375   \n",
       " 2                                 -499.828510   \n",
       " 3                                 -499.963623   \n",
       " 4                                 -500.360026   \n",
       " \n",
       "    secondary_cleaner.state.floatbank6_a_air  \\\n",
       " 0                                 26.705889   \n",
       " 1                                 25.019940   \n",
       " 2                                 24.994862   \n",
       " 3                                 24.948919   \n",
       " 4                                 25.003331   \n",
       " \n",
       "    secondary_cleaner.state.floatbank6_a_level  \n",
       " 0                                 -499.709414  \n",
       " 1                                 -499.819438  \n",
       " 2                                 -500.622559  \n",
       " 3                                 -498.709987  \n",
       " 4                                 -500.856333  \n",
       " \n",
       " [5 rows x 53 columns],\n",
       "                   date  final.output.concentrate_ag  \\\n",
       " 0  2016-01-15 00:00:00                     6.055403   \n",
       " 1  2016-01-15 01:00:00                     6.029369   \n",
       " 2  2016-01-15 02:00:00                     6.055926   \n",
       " 3  2016-01-15 03:00:00                     6.047977   \n",
       " 4  2016-01-15 04:00:00                     6.148599   \n",
       " \n",
       "    final.output.concentrate_pb  final.output.concentrate_sol  \\\n",
       " 0                     9.889648                      5.507324   \n",
       " 1                     9.968944                      5.257781   \n",
       " 2                    10.213995                      5.383759   \n",
       " 3                     9.977019                      4.858634   \n",
       " 4                    10.142511                      4.939416   \n",
       " \n",
       "    final.output.concentrate_au  final.output.recovery  final.output.tail_ag  \\\n",
       " 0                    42.192020              70.541216             10.411962   \n",
       " 1                    42.701629              69.266198             10.462676   \n",
       " 2                    42.657501              68.116445             10.507046   \n",
       " 3                    42.689819              68.347543             10.422762   \n",
       " 4                    42.774141              66.927016             10.360302   \n",
       " \n",
       "    final.output.tail_pb  final.output.tail_sol  final.output.tail_au  ...  \\\n",
       " 0              0.895447              16.904297              2.143149  ...   \n",
       " 1              0.927452              16.634514              2.224930  ...   \n",
       " 2              0.953716              16.208849              2.257889  ...   \n",
       " 3              0.883763              16.532835              2.146849  ...   \n",
       " 4              0.792826              16.525686              2.055292  ...   \n",
       " \n",
       "    secondary_cleaner.state.floatbank4_a_air  \\\n",
       " 0                                 14.016835   \n",
       " 1                                 13.992281   \n",
       " 2                                 14.015015   \n",
       " 3                                 14.036510   \n",
       " 4                                 14.027298   \n",
       " \n",
       "    secondary_cleaner.state.floatbank4_a_level  \\\n",
       " 0                                 -502.488007   \n",
       " 1                                 -505.503262   \n",
       " 2                                 -502.520901   \n",
       " 3                                 -500.857308   \n",
       " 4                                 -499.838632   \n",
       " \n",
       "    secondary_cleaner.state.floatbank4_b_air  \\\n",
       " 0                                 12.099931   \n",
       " 1                                 11.950531   \n",
       " 2                                 11.912783   \n",
       " 3                                 11.999550   \n",
       " 4                                 11.953070   \n",
       " \n",
       "    secondary_cleaner.state.floatbank4_b_level  \\\n",
       " 0                                 -504.715942   \n",
       " 1                                 -501.331529   \n",
       " 2                                 -501.133383   \n",
       " 3                                 -501.193686   \n",
       " 4                                 -501.053894   \n",
       " \n",
       "    secondary_cleaner.state.floatbank5_a_air  \\\n",
       " 0                                  9.925633   \n",
       " 1                                 10.039245   \n",
       " 2                                 10.070913   \n",
       " 3                                  9.970366   \n",
       " 4                                  9.925709   \n",
       " \n",
       "    secondary_cleaner.state.floatbank5_a_level  \\\n",
       " 0                                 -498.310211   \n",
       " 1                                 -500.169983   \n",
       " 2                                 -500.129135   \n",
       " 3                                 -499.201640   \n",
       " 4                                 -501.686727   \n",
       " \n",
       "    secondary_cleaner.state.floatbank5_b_air  \\\n",
       " 0                                  8.079666   \n",
       " 1                                  7.984757   \n",
       " 2                                  8.013877   \n",
       " 3                                  7.977324   \n",
       " 4                                  7.894242   \n",
       " \n",
       "    secondary_cleaner.state.floatbank5_b_level  \\\n",
       " 0                                 -500.470978   \n",
       " 1                                 -500.582168   \n",
       " 2                                 -500.517572   \n",
       " 3                                 -500.255908   \n",
       " 4                                 -500.356035   \n",
       " \n",
       "    secondary_cleaner.state.floatbank6_a_air  \\\n",
       " 0                                 14.151341   \n",
       " 1                                 13.998353   \n",
       " 2                                 14.028663   \n",
       " 3                                 14.005551   \n",
       " 4                                 13.996647   \n",
       " \n",
       "    secondary_cleaner.state.floatbank6_a_level  \n",
       " 0                                 -605.841980  \n",
       " 1                                 -599.787184  \n",
       " 2                                 -601.427363  \n",
       " 3                                 -599.996129  \n",
       " 4                                 -601.496691  \n",
       " \n",
       " [5 rows x 87 columns])"
      ]
     },
     "execution_count": 5,
     "metadata": {},
     "output_type": "execute_result"
    }
   ],
   "source": [
    "df_full.head(), df_test.head(), df_train.head()"
   ]
  },
  {
   "cell_type": "code",
   "execution_count": 6,
   "metadata": {},
   "outputs": [
    {
     "data": {
      "text/plain": [
       "(0, 0, 0)"
      ]
     },
     "execution_count": 6,
     "metadata": {},
     "output_type": "execute_result"
    }
   ],
   "source": [
    "df_train.duplicated().sum(), df_test.duplicated().sum(), df_full.duplicated().sum()"
   ]
  },
  {
   "cell_type": "markdown",
   "metadata": {},
   "source": [
    "Дубликатов не обнаружено. Смотрим пропуски на обучающей и тестовой выборках. На полной не имеет смысла, так как там будут и те и те."
   ]
  },
  {
   "cell_type": "code",
   "execution_count": 7,
   "metadata": {},
   "outputs": [],
   "source": [
    "def df_isna(df):\n",
    "    print('Количество пропусков: ')\n",
    "    print()\n",
    "    na_counter = 0\n",
    "    for i in df.columns:\n",
    "        na = df[i].isna().sum()\n",
    "        if na > 0:\n",
    "            print(i,':',na)\n",
    "            na_counter += 1\n",
    "    if na_counter == 0:\n",
    "        print('Пропусков не обнаружено')\n",
    "    print()"
   ]
  },
  {
   "cell_type": "code",
   "execution_count": 8,
   "metadata": {
    "scrolled": true
   },
   "outputs": [
    {
     "name": "stdout",
     "output_type": "stream",
     "text": [
      "Количество пропусков: \n",
      "\n",
      "final.output.concentrate_ag : 1\n",
      "final.output.concentrate_pb : 1\n",
      "final.output.concentrate_sol : 211\n",
      "final.output.tail_pb : 100\n",
      "final.output.tail_sol : 5\n",
      "primary_cleaner.input.sulfate : 20\n",
      "primary_cleaner.input.depressant : 32\n",
      "primary_cleaner.input.xanthate : 100\n",
      "primary_cleaner.output.concentrate_pb : 86\n",
      "primary_cleaner.output.concentrate_sol : 286\n",
      "primary_cleaner.output.tail_ag : 1\n",
      "primary_cleaner.output.tail_pb : 15\n",
      "primary_cleaner.output.tail_sol : 46\n",
      "primary_cleaner.state.floatbank8_a_air : 4\n",
      "primary_cleaner.state.floatbank8_a_level : 1\n",
      "primary_cleaner.state.floatbank8_b_air : 4\n",
      "primary_cleaner.state.floatbank8_b_level : 1\n",
      "primary_cleaner.state.floatbank8_c_air : 2\n",
      "primary_cleaner.state.floatbank8_c_level : 1\n",
      "primary_cleaner.state.floatbank8_d_air : 3\n",
      "primary_cleaner.state.floatbank8_d_level : 1\n",
      "rougher.calculation.sulfate_to_au_concentrate : 1\n",
      "rougher.calculation.floatbank10_sulfate_to_au_feed : 1\n",
      "rougher.calculation.floatbank11_sulfate_to_au_feed : 1\n",
      "rougher.input.feed_pb : 100\n",
      "rougher.input.feed_rate : 8\n",
      "rougher.input.feed_size : 144\n",
      "rougher.input.feed_sol : 78\n",
      "rougher.input.floatbank10_sulfate : 29\n",
      "rougher.input.floatbank10_xanthate : 8\n",
      "rougher.input.floatbank11_sulfate : 36\n",
      "rougher.input.floatbank11_xanthate : 428\n",
      "rougher.output.concentrate_sol : 22\n",
      "rougher.output.tail_ag : 1\n",
      "rougher.state.floatbank10_a_air : 1\n",
      "rougher.state.floatbank10_a_level : 1\n",
      "rougher.state.floatbank10_b_air : 1\n",
      "rougher.state.floatbank10_b_level : 1\n",
      "rougher.state.floatbank10_c_air : 1\n",
      "rougher.state.floatbank10_c_level : 1\n",
      "rougher.state.floatbank10_e_air : 436\n",
      "secondary_cleaner.output.tail_ag : 2\n",
      "secondary_cleaner.output.tail_pb : 10\n",
      "secondary_cleaner.output.tail_sol : 1605\n",
      "secondary_cleaner.state.floatbank2_a_air : 217\n",
      "secondary_cleaner.state.floatbank2_a_level : 1\n",
      "secondary_cleaner.state.floatbank2_b_air : 21\n",
      "secondary_cleaner.state.floatbank2_b_level : 1\n",
      "secondary_cleaner.state.floatbank3_a_air : 4\n",
      "secondary_cleaner.state.floatbank3_a_level : 1\n",
      "secondary_cleaner.state.floatbank3_b_air : 1\n",
      "secondary_cleaner.state.floatbank3_b_level : 1\n",
      "secondary_cleaner.state.floatbank4_a_air : 6\n",
      "secondary_cleaner.state.floatbank4_a_level : 1\n",
      "secondary_cleaner.state.floatbank4_b_air : 1\n",
      "secondary_cleaner.state.floatbank4_b_level : 1\n",
      "secondary_cleaner.state.floatbank5_a_air : 1\n",
      "secondary_cleaner.state.floatbank5_a_level : 1\n",
      "secondary_cleaner.state.floatbank5_b_air : 1\n",
      "secondary_cleaner.state.floatbank5_b_level : 1\n",
      "secondary_cleaner.state.floatbank6_a_air : 2\n",
      "secondary_cleaner.state.floatbank6_a_level : 1\n",
      "\n",
      "Количество пропусков: \n",
      "\n",
      "primary_cleaner.input.sulfate : 4\n",
      "primary_cleaner.input.depressant : 5\n",
      "primary_cleaner.input.xanthate : 4\n",
      "rougher.input.feed_rate : 3\n",
      "rougher.input.feed_size : 1\n",
      "rougher.input.feed_sol : 21\n",
      "rougher.input.floatbank10_sulfate : 5\n",
      "rougher.input.floatbank11_sulfate : 8\n",
      "rougher.input.floatbank11_xanthate : 25\n",
      "secondary_cleaner.state.floatbank2_a_air : 3\n",
      "secondary_cleaner.state.floatbank2_b_air : 2\n",
      "secondary_cleaner.state.floatbank3_a_air : 9\n",
      "\n"
     ]
    },
    {
     "data": {
      "text/plain": [
       "(None, None)"
      ]
     },
     "execution_count": 8,
     "metadata": {},
     "output_type": "execute_result"
    }
   ],
   "source": [
    "df_isna(df_train), df_isna(df_test)"
   ]
  },
  {
   "cell_type": "markdown",
   "metadata": {},
   "source": [
    "По условию задачи, данные индексируются датой и временем получения информации (признак date). Соседние по времени параметры часто похожи. Таким образом, мы можем заполнить пропуски ближайшими значениями."
   ]
  },
  {
   "cell_type": "code",
   "execution_count": 9,
   "metadata": {},
   "outputs": [],
   "source": [
    "df_train = df_train.ffill(axis=0)\n",
    "df_test = df_test.ffill(axis=0)\n",
    "df_full = df_full.ffill(axis=0)"
   ]
  },
  {
   "cell_type": "code",
   "execution_count": 10,
   "metadata": {},
   "outputs": [
    {
     "name": "stdout",
     "output_type": "stream",
     "text": [
      "Количество пропусков: \n",
      "\n",
      "Пропусков не обнаружено\n",
      "\n",
      "Количество пропусков: \n",
      "\n",
      "Пропусков не обнаружено\n",
      "\n",
      "Количество пропусков: \n",
      "\n",
      "Пропусков не обнаружено\n",
      "\n"
     ]
    },
    {
     "data": {
      "text/plain": [
       "(None, None, None)"
      ]
     },
     "execution_count": 10,
     "metadata": {},
     "output_type": "execute_result"
    }
   ],
   "source": [
    "df_isna(df_train), df_isna(df_test), df_isna(df_full)"
   ]
  },
  {
   "cell_type": "markdown",
   "metadata": {},
   "source": [
    "### Проверка рассчёта эффективности обогащения"
   ]
  },
  {
   "cell_type": "markdown",
   "metadata": {},
   "source": [
    "\n",
    "Эффективность обогащения рассчитывается по формуле\n",
    "<b>recovery = ((C(F-T))/(FC-T))*100%</b>\n",
    "где:\n",
    "\n",
    "C — доля золота в концентрате после флотации/очистки;\n",
    "\n",
    "F — доля золота в сырье/концентрате до флотации/очистки;\n",
    "\n",
    "T — доля золота в отвальных хвостах после флотации/очистки.\n",
    "\n",
    "Для прогноза коэффициента нужно найти долю золота в концентратах и хвостах. Причём важен не только финальный продукт, но и черновой концентрат."
   ]
  },
  {
   "cell_type": "markdown",
   "metadata": {},
   "source": [
    "C это rougher.output.concentrate_au\n",
    "\n",
    "F это rougher.input.feed_au\n",
    "\n",
    "T это rougher.output.tail_au"
   ]
  },
  {
   "cell_type": "code",
   "execution_count": 11,
   "metadata": {},
   "outputs": [],
   "source": [
    "c = df_train['rougher.output.concentrate_au']\n",
    "f = df_train['rougher.input.feed_au']\n",
    "t = df_train['rougher.output.tail_au']\n",
    "recovery = ((c*(f-t))/(f*(c-t))) * 100"
   ]
  },
  {
   "cell_type": "code",
   "execution_count": 12,
   "metadata": {},
   "outputs": [
    {
     "name": "stdout",
     "output_type": "stream",
     "text": [
      "MAE - 9.73512347450521e-15\n"
     ]
    }
   ],
   "source": [
    "print('MAE -', mean_absolute_error(df_train['rougher.output.recovery'], recovery))"
   ]
  },
  {
   "cell_type": "markdown",
   "metadata": {},
   "source": [
    "<b>Вывод:</b> среднеквадратичное отклонение между рассчётом эффективности обогащения и соответствующей колонкой в датафрейме незначительно. Всё рассчитано верно."
   ]
  },
  {
   "cell_type": "markdown",
   "metadata": {},
   "source": [
    "### Анализ признаков, недоступных в тестовой выборке"
   ]
  },
  {
   "cell_type": "code",
   "execution_count": 13,
   "metadata": {},
   "outputs": [
    {
     "data": {
      "text/plain": [
       "{'final.output.concentrate_ag',\n",
       " 'final.output.concentrate_au',\n",
       " 'final.output.concentrate_pb',\n",
       " 'final.output.concentrate_sol',\n",
       " 'final.output.recovery',\n",
       " 'final.output.tail_ag',\n",
       " 'final.output.tail_au',\n",
       " 'final.output.tail_pb',\n",
       " 'final.output.tail_sol',\n",
       " 'primary_cleaner.output.concentrate_ag',\n",
       " 'primary_cleaner.output.concentrate_au',\n",
       " 'primary_cleaner.output.concentrate_pb',\n",
       " 'primary_cleaner.output.concentrate_sol',\n",
       " 'primary_cleaner.output.tail_ag',\n",
       " 'primary_cleaner.output.tail_au',\n",
       " 'primary_cleaner.output.tail_pb',\n",
       " 'primary_cleaner.output.tail_sol',\n",
       " 'rougher.calculation.au_pb_ratio',\n",
       " 'rougher.calculation.floatbank10_sulfate_to_au_feed',\n",
       " 'rougher.calculation.floatbank11_sulfate_to_au_feed',\n",
       " 'rougher.calculation.sulfate_to_au_concentrate',\n",
       " 'rougher.output.concentrate_ag',\n",
       " 'rougher.output.concentrate_au',\n",
       " 'rougher.output.concentrate_pb',\n",
       " 'rougher.output.concentrate_sol',\n",
       " 'rougher.output.recovery',\n",
       " 'rougher.output.tail_ag',\n",
       " 'rougher.output.tail_au',\n",
       " 'rougher.output.tail_pb',\n",
       " 'rougher.output.tail_sol',\n",
       " 'secondary_cleaner.output.tail_ag',\n",
       " 'secondary_cleaner.output.tail_au',\n",
       " 'secondary_cleaner.output.tail_pb',\n",
       " 'secondary_cleaner.output.tail_sol'}"
      ]
     },
     "execution_count": 13,
     "metadata": {},
     "output_type": "execute_result"
    }
   ],
   "source": [
    "missing_features = set(df_train.columns) - set(df_test.columns)\n",
    "missing_features"
   ]
  },
  {
   "cell_type": "markdown",
   "metadata": {},
   "source": [
    "Мы видим, что отсутствующие признаки - это выход продуктов на разных этапах обработки руды, а также вычичления, основанные на этих продуктов. Это вполне логично - эти измерения ещё не проводились, они проводятся позже, во время обработки руды. Наша задача как  раз написать модель, которая сможет вычислить итоговый выход сырья."
   ]
  },
  {
   "cell_type": "markdown",
   "metadata": {},
   "source": [
    "## Анализ данных"
   ]
  },
  {
   "cell_type": "markdown",
   "metadata": {},
   "source": [
    "### Анализ изменения концентрации металлов (Au, Ag, Pb) на различных этапах очистки"
   ]
  },
  {
   "cell_type": "markdown",
   "metadata": {},
   "source": [
    "Напишем функцию для построения гистограмм распределения металлов на разных стадиях обработки"
   ]
  },
  {
   "cell_type": "code",
   "execution_count": 14,
   "metadata": {},
   "outputs": [],
   "source": [
    "def hist_concentrate(df,metall,title='Концентрация металла'):\n",
    "    plt.figure(figsize=(15,5))\n",
    "    BINS = 50\n",
    "    \n",
    "    df['rougher.input.feed_'+metall].hist(bins=BINS, label='Сырьё', alpha=0.5)\n",
    "    df['rougher.output.concentrate_'+metall].hist(bins=BINS, label='Концентрация после флотации', alpha=0.5)\n",
    "    df['primary_cleaner.output.concentrate_'+metall].hist(bins=BINS, label='Концентрация после первичной очистки', alpha=0.5)\n",
    "    df['final.output.concentrate_'+metall].hist(bins=BINS, label='Финальная концетрация металла', alpha=0.5)\n",
    "    \n",
    "    plt.title(title)\n",
    "    plt.legend(loc='upper left')\n",
    "    plt.xlabel('Значения')\n",
    "    plt.ylabel('Количество')\n",
    "    plt.show()\n",
    "    \n",
    "    plt.figure(figsize=(15,5))\n",
    "    df['rougher.output.tail_'+metall].hist(bins=BINS, \n",
    "                                           label='Концентрация после флотации (отвальные хвосты)', alpha=0.5)\n",
    "    df['primary_cleaner.output.tail_'+metall].hist(bins=BINS, \n",
    "                                                   label='Концентрация после первичной очистки (отвальные хвосты)', alpha=0.5)\n",
    "    df['final.output.tail_'+metall].hist(bins=BINS, \n",
    "                                         label='Финальная концетрация металла (отвальные хвосты)', alpha=0.5)\n",
    "    \n",
    "    plt.title(title + '(Отвальные хвосты)')\n",
    "\n",
    "    plt.legend(loc='upper left')\n",
    "    plt.xlabel('Значения')\n",
    "    plt.ylabel('Количество')\n",
    "    plt.show()"
   ]
  },
  {
   "cell_type": "code",
   "execution_count": 15,
   "metadata": {},
   "outputs": [
    {
     "data": {
      "image/png": "[encoded data removed]",
      "text/plain": [
       "<Figure size 1080x360 with 1 Axes>"
      ]
     },
     "metadata": {
      "needs_background": "light"
     },
     "output_type": "display_data"
    },
    {
     "data": {
      "image/png": "[encoded data removed]",
      "text/plain": [
       "<Figure size 1080x360 with 1 Axes>"
      ]
     },
     "metadata": {
      "needs_background": "light"
     },
     "output_type": "display_data"
    }
   ],
   "source": [
    "hist_concentrate(df_full,'pb',title='Концентрация свинца (все данные)')"
   ]
  },
  {
   "cell_type": "code",
   "execution_count": 16,
   "metadata": {},
   "outputs": [
    {
     "data": {
      "image/png": "[encoded data removed]",
      "text/plain": [
       "<Figure size 1080x360 with 1 Axes>"
      ]
     },
     "metadata": {
      "needs_background": "light"
     },
     "output_type": "display_data"
    },
    {
     "data": {
      "image/png": "[encoded data removed]",
      "text/plain": [
       "<Figure size 1080x360 with 1 Axes>"
      ]
     },
     "metadata": {
      "needs_background": "light"
     },
     "output_type": "display_data"
    }
   ],
   "source": [
    "hist_concentrate(df_train,'pb',title='Концентрация свинца (учебные данные)')"
   ]
  },
  {
   "cell_type": "code",
   "execution_count": 17,
   "metadata": {},
   "outputs": [
    {
     "data": {
      "image/png": "[encoded data removed]",
      "text/plain": [
       "<Figure size 1080x360 with 1 Axes>"
      ]
     },
     "metadata": {
      "needs_background": "light"
     },
     "output_type": "display_data"
    },
    {
     "data": {
      "image/png": "[encoded data removed]",
      "text/plain": [
       "<Figure size 1080x360 with 1 Axes>"
      ]
     },
     "metadata": {
      "needs_background": "light"
     },
     "output_type": "display_data"
    }
   ],
   "source": [
    "hist_concentrate(df_full,'ag',title='Концентрация серебра (все данные)')"
   ]
  },
  {
   "cell_type": "code",
   "execution_count": 18,
   "metadata": {},
   "outputs": [
    {
     "data": {
      "image/png": "[encoded data removed]",
      "text/plain": [
       "<Figure size 1080x360 with 1 Axes>"
      ]
     },
     "metadata": {
      "needs_background": "light"
     },
     "output_type": "display_data"
    },
    {
     "data": {
      "image/png": "[encoded data removed]",
      "text/plain": [
       "<Figure size 1080x360 with 1 Axes>"
      ]
     },
     "metadata": {
      "needs_background": "light"
     },
     "output_type": "display_data"
    }
   ],
   "source": [
    "hist_concentrate(df_train,'ag',title='Концентрация серебра (учебные данные)')"
   ]
  },
  {
   "cell_type": "code",
   "execution_count": 19,
   "metadata": {},
   "outputs": [
    {
     "data": {
      "image/png": "[encoded data removed]",
      "text/plain": [
       "<Figure size 1080x360 with 1 Axes>"
      ]
     },
     "metadata": {
      "needs_background": "light"
     },
     "output_type": "display_data"
    },
    {
     "data": {
      "image/png": "[encoded data removed]",
      "text/plain": [
       "<Figure size 1080x360 with 1 Axes>"
      ]
     },
     "metadata": {
      "needs_background": "light"
     },
     "output_type": "display_data"
    }
   ],
   "source": [
    "hist_concentrate(df_full,'au',title='Концентрация золота (все данные)')"
   ]
  },
  {
   "cell_type": "code",
   "execution_count": 20,
   "metadata": {},
   "outputs": [
    {
     "data": {
      "image/png": "[encoded data removed]",
      "text/plain": [
       "<Figure size 1080x360 with 1 Axes>"
      ]
     },
     "metadata": {
      "needs_background": "light"
     },
     "output_type": "display_data"
    },
    {
     "data": {
      "image/png": "[encoded data removed]",
      "text/plain": [
       "<Figure size 1080x360 with 1 Axes>"
      ]
     },
     "metadata": {
      "needs_background": "light"
     },
     "output_type": "display_data"
    }
   ],
   "source": [
    "hist_concentrate(df_train,'au',title='Концентрация золота (учебные данные)')"
   ]
  },
  {
   "cell_type": "markdown",
   "metadata": {},
   "source": [
    "#### Вывод "
   ]
  },
  {
   "cell_type": "markdown",
   "metadata": {},
   "source": [
    "<b>СВИНЕЦ</b> концентрация увеличивается. После первой очистки остаётся примерно на одном уровне. Концентрация в отвальных хвостах больше после первой очистки, дальше примерно такая же.\n",
    "\n",
    "<b>СЕРЕБРО</b> увеличивается на этапе флотации, затем уменьшается. В отвальных хвостах концентрация после первой очистки больше чем во флотации, но финальная - меньше.\n",
    "\n",
    "<b>ЗОЛОТО</b> строго увеличивается на каждом этапе. В отвальных хвостах немного уменьшается в финальной стадии, до этого увеличивается."
   ]
  },
  {
   "cell_type": "markdown",
   "metadata": {},
   "source": [
    "Гистограммы распределений металлов для полных и учебных данных похожи, из чего можно сделать вывод, что распределение подчиняется общему закону.\n",
    "\n",
    "Присутствуют аномалии. Эти аномалии представляют собой выбросы."
   ]
  },
  {
   "cell_type": "markdown",
   "metadata": {},
   "source": [
    "#### Удаление выбросов"
   ]
  },
  {
   "cell_type": "markdown",
   "metadata": {},
   "source": [
    "Удалим выбросы из обучающей выборки"
   ]
  },
  {
   "cell_type": "code",
   "execution_count": 21,
   "metadata": {},
   "outputs": [
    {
     "data": {
      "text/plain": [
       "(14149, 87)"
      ]
     },
     "execution_count": 21,
     "metadata": {},
     "output_type": "execute_result"
    }
   ],
   "source": [
    "df_train.shape"
   ]
  },
  {
   "cell_type": "code",
   "execution_count": 22,
   "metadata": {},
   "outputs": [],
   "source": [
    "my_columns = []\n",
    "#Создаём список из всех нужных столбцов, где есть аномалии\n",
    "for i in ['au', 'pb', 'ag']:\n",
    "    my_columns.append('rougher.input.feed_'+i)\n",
    "    my_columns.append('rougher.output.concentrate_'+i)\n",
    "    my_columns.append('primary_cleaner.output.concentrate_'+i)\n",
    "    my_columns.append('final.output.concentrate_'+i)\n",
    "    \n",
    "    my_columns.append('rougher.output.tail_'+i)\n",
    "    my_columns.append('primary_cleaner.output.tail_'+i)\n",
    "    my_columns.append('final.output.tail_'+i)\n",
    "    \n",
    "#Удаляем нулевые значения    \n",
    "for i in my_columns:\n",
    "    df_train = df_train[df_train[i] > 0.1]\n",
    "    \n",
    "for i in my_columns:\n",
    "    try:\n",
    "        df_test = df_test[df_test[i] > 0.1]\n",
    "    except:\n",
    "        ...\n"
   ]
  },
  {
   "cell_type": "code",
   "execution_count": 23,
   "metadata": {},
   "outputs": [
    {
     "data": {
      "text/plain": [
       "(13422, 87)"
      ]
     },
     "execution_count": 23,
     "metadata": {},
     "output_type": "execute_result"
    }
   ],
   "source": [
    "df_train.shape"
   ]
  },
  {
   "cell_type": "markdown",
   "metadata": {},
   "source": [
    "Выбросы удалены"
   ]
  },
  {
   "cell_type": "markdown",
   "metadata": {},
   "source": [
    "### Распределения размеров гранул сырья на обучающей и тестовой выборках"
   ]
  },
  {
   "cell_type": "code",
   "execution_count": 24,
   "metadata": {},
   "outputs": [
    {
     "data": {
      "text/plain": [
       "2.537240075614367"
      ]
     },
     "execution_count": 24,
     "metadata": {},
     "output_type": "execute_result"
    }
   ],
   "source": [
    "df_train.shape[0] / df_test.shape[0]"
   ]
  },
  {
   "cell_type": "markdown",
   "metadata": {},
   "source": [
    "Так как размеры тестовой выборки в 2,5 раз меньше размера тренировочной, будем использовать график распределения плотнсти значений (т.е. гистограмма покажет отличающиеся значения из-за того, что размеры выборок разные)."
   ]
  },
  {
   "cell_type": "code",
   "execution_count": 25,
   "metadata": {},
   "outputs": [],
   "source": [
    "def feed_hist(stage):\n",
    "    BINS = 50\n",
    "    plt.figure(figsize=[15, 5])\n",
    "    sns.kdeplot(df_train[f'{stage}.input.feed_size'], label='Тренировочные данные', alpha=0.5, shade=True)\n",
    "    sns.kdeplot(df_test[f'{stage}.input.feed_size'], label='Тестовые данные', alpha=0.5, shade=True)\n",
    "    if stage == 'rougher':\n",
    "        plt.xlim([0, 200])\n",
    "    else:\n",
    "        plt.xlim([5, 10])\n",
    "    plt.legend(loc='upper right')\n",
    "    plt.show()"
   ]
  },
  {
   "cell_type": "markdown",
   "metadata": {},
   "source": [
    "График распределения размеров гранул сырья для раздела флотации"
   ]
  },
  {
   "cell_type": "code",
   "execution_count": 26,
   "metadata": {},
   "outputs": [
    {
     "data": {
      "image/png": "[encoded data removed]",
      "text/plain": [
       "<Figure size 1080x360 with 1 Axes>"
      ]
     },
     "metadata": {
      "needs_background": "light"
     },
     "output_type": "display_data"
    }
   ],
   "source": [
    "feed_hist('rougher')"
   ]
  },
  {
   "cell_type": "markdown",
   "metadata": {},
   "source": [
    "График распределения размеров гранул сырья для первичной очистки"
   ]
  },
  {
   "cell_type": "code",
   "execution_count": 27,
   "metadata": {},
   "outputs": [
    {
     "data": {
      "image/png": "[encoded data removed]",
      "text/plain": [
       "<Figure size 1080x360 with 1 Axes>"
      ]
     },
     "metadata": {
      "needs_background": "light"
     },
     "output_type": "display_data"
    }
   ],
   "source": [
    "feed_hist('primary_cleaner')"
   ]
  },
  {
   "cell_type": "markdown",
   "metadata": {},
   "source": [
    "#### Вывод"
   ]
  },
  {
   "cell_type": "markdown",
   "metadata": {},
   "source": [
    "Графики распределения гранул сырья на тестовой и обучающей выборке различаются не сильно, следовательно, оценка модели будет верной."
   ]
  },
  {
   "cell_type": "markdown",
   "metadata": {},
   "source": [
    "### Суммарная концентрация всех веществ на разных стадиях: в сырье, в черновом и финальном концентратах"
   ]
  },
  {
   "cell_type": "code",
   "execution_count": null,
   "metadata": {},
   "outputs": [],
   "source": []
  },
  {
   "cell_type": "code",
   "execution_count": 28,
   "metadata": {},
   "outputs": [],
   "source": [
    "sum_concentrate_of_rougher_input = 0\n",
    "sum_concentrate_of_rougher_output = 0\n",
    "sum_concentrate_of_final_output = 0\n",
    "\n",
    "for metal in ['au', 'ag', 'pb', 'sol']:\n",
    "    sum_concentrate_of_rougher_input += df_train[f'rougher.input.feed_{metal}']\n",
    "    sum_concentrate_of_rougher_output += df_train[f'rougher.output.concentrate_{metal}']\n",
    "    sum_concentrate_of_final_output += df_train[f'final.output.concentrate_{metal}']"
   ]
  },
  {
   "cell_type": "code",
   "execution_count": 29,
   "metadata": {},
   "outputs": [
    {
     "data": {
      "image/png": "[encoded data removed]",
      "text/plain": [
       "<Figure size 1080x648 with 1 Axes>"
      ]
     },
     "metadata": {
      "needs_background": "light"
     },
     "output_type": "display_data"
    }
   ],
   "source": [
    "plt.figure(figsize=[15, 9])\n",
    "plt.suptitle('ГРАФИК СУММАРНОЙ КОНЦЕНТРАЦИИ ВЕЩЕСТВ НА РАЗНЫХ СТАДИЯХ.', fontsize=15)\n",
    "sns.set_style('darkgrid')\n",
    "sns.histplot(sum_concentrate_of_rougher_input, color='y', label='Сырье', kde=False, bins = 200)\n",
    "sns.histplot(sum_concentrate_of_rougher_output, color='b', label='После флотации', kde=False, bins = 200)\n",
    "sns.histplot(sum_concentrate_of_final_output, color='r', label='Финальная',kde=False, bins = 200)\n",
    "plt.xlim([30, 90])\n",
    "plt.legend()\n",
    "plt.show();"
   ]
  },
  {
   "cell_type": "markdown",
   "metadata": {},
   "source": [
    "#### Вывод"
   ]
  },
  {
   "cell_type": "markdown",
   "metadata": {},
   "source": [
    "После флотация концентрация веществ повышается. В финальной стадии меньше максимальное значение концентрации, но и меньше расброс."
   ]
  },
  {
   "cell_type": "markdown",
   "metadata": {},
   "source": [
    "## Модель"
   ]
  },
  {
   "cell_type": "markdown",
   "metadata": {},
   "source": [
    "### Подготовка данных для модели"
   ]
  },
  {
   "cell_type": "markdown",
   "metadata": {},
   "source": [
    "Добавляем в тестовую модель целевые признаки для финальной проверки модели"
   ]
  },
  {
   "cell_type": "code",
   "execution_count": 30,
   "metadata": {},
   "outputs": [],
   "source": [
    "df_test = df_test.merge(df_full.loc[:, ['date','rougher.output.recovery','final.output.recovery']], on='date')"
   ]
  },
  {
   "cell_type": "markdown",
   "metadata": {},
   "source": [
    "Убираем столбец дат, т.к. он бесполезен для модели."
   ]
  },
  {
   "cell_type": "code",
   "execution_count": 31,
   "metadata": {},
   "outputs": [],
   "source": [
    "df_train = df_train.drop(columns = 'date')\n",
    "df_test = df_test.drop(columns = 'date')\n",
    "df_full = df_full.drop(columns = 'date')"
   ]
  },
  {
   "cell_type": "markdown",
   "metadata": {},
   "source": [
    "Поскольку в df_test отсутствуют некоторые признаки, нужно удалить их из df_train, иначе возможна утечка данных.  "
   ]
  },
  {
   "cell_type": "code",
   "execution_count": 32,
   "metadata": {},
   "outputs": [
    {
     "data": {
      "text/plain": [
       "((13422, 54), (5290, 54))"
      ]
     },
     "execution_count": 32,
     "metadata": {},
     "output_type": "execute_result"
    }
   ],
   "source": [
    "missing_features = missing_features - set(['rougher.output.recovery','final.output.recovery'])\n",
    "missing_features = list(missing_features)\n",
    "df_train = df_train.drop(columns = missing_features)\n",
    "df_train.shape, df_test.shape"
   ]
  },
  {
   "cell_type": "markdown",
   "metadata": {},
   "source": [
    "Колонки успешно удалены. \n",
    "\n",
    "Делим обучающую выборку на фичи и таргет"
   ]
  },
  {
   "cell_type": "code",
   "execution_count": 33,
   "metadata": {},
   "outputs": [],
   "source": [
    "df_train_X = df_train.drop(['rougher.output.recovery','final.output.recovery'], axis=1)\n",
    "df_train_yr = df_train['rougher.output.recovery']\n",
    "df_train_yf = df_train['final.output.recovery']"
   ]
  },
  {
   "cell_type": "markdown",
   "metadata": {},
   "source": [
    "### Функция для вычисления итоговой sMAPE."
   ]
  },
  {
   "cell_type": "markdown",
   "metadata": {},
   "source": [
    "Функция для вычисления sMAPE"
   ]
  },
  {
   "cell_type": "code",
   "execution_count": 34,
   "metadata": {},
   "outputs": [],
   "source": [
    "def get_smape(target, predict):\n",
    "    smape = (1/len(target))*np.sum((np.abs(target - predict))/( (np.abs(target)+np.abs(predict))/2))*100\n",
    "    return smape"
   ]
  },
  {
   "cell_type": "code",
   "execution_count": 35,
   "metadata": {},
   "outputs": [],
   "source": [
    "smape = make_scorer(get_smape, greater_is_better = False)"
   ]
  },
  {
   "cell_type": "markdown",
   "metadata": {},
   "source": [
    "Функция для вычисления итоговой sMAPE"
   ]
  },
  {
   "cell_type": "code",
   "execution_count": 36,
   "metadata": {},
   "outputs": [],
   "source": [
    "def SMAPE(rougher, final):\n",
    "    final = 0.25*rougher+0.75*final\n",
    "    return abs(final)"
   ]
  },
  {
   "cell_type": "markdown",
   "metadata": {},
   "source": [
    "### Обучаем модели"
   ]
  },
  {
   "cell_type": "markdown",
   "metadata": {},
   "source": [
    "#### LinearRegression"
   ]
  },
  {
   "cell_type": "code",
   "execution_count": 37,
   "metadata": {},
   "outputs": [
    {
     "data": {
      "text/plain": [
       "(10.004559658594463, 'R:', -7.273704883655879, 'F', -10.91484458357399)"
      ]
     },
     "execution_count": 37,
     "metadata": {},
     "output_type": "execute_result"
    }
   ],
   "source": [
    "model = LinearRegression()\n",
    "\n",
    "smape_rougher = cross_val_score(model,\n",
    "                            df_train_X,\n",
    "                            df_train_yr,\n",
    "                            scoring=smape,\n",
    "                            cv=5)\n",
    "\n",
    "\n",
    "smape_final = cross_val_score(model,\n",
    "                            df_train_X,\n",
    "                            df_train_yf,\n",
    "                            scoring=smape,\n",
    "                            cv=5)\n",
    "\n",
    "SMAPE(smape_rougher.mean(), smape_final.mean()), 'R:', smape_rougher.mean(), 'F', smape_final.mean()"
   ]
  },
  {
   "cell_type": "markdown",
   "metadata": {},
   "source": [
    "#### DecisionTreeRegressor"
   ]
  },
  {
   "cell_type": "code",
   "execution_count": 38,
   "metadata": {},
   "outputs": [
    {
     "data": {
      "application/vnd.jupyter.widget-view+json": {
       "model_id": "75769a6def144659aa433996c9d4759a",
       "version_major": 2,
       "version_minor": 0
      },
      "text/plain": [
       "  0%|          | 0/9 [00:00<?, ?it/s]"
      ]
     },
     "metadata": {},
     "output_type": "display_data"
    },
    {
     "data": {
      "text/plain": [
       "(8.420791141574743, 'R', -6.683174724010219, 'F', -8.999996614096249)"
      ]
     },
     "execution_count": 38,
     "metadata": {},
     "output_type": "execute_result"
    }
   ],
   "source": [
    "best_r = -100\n",
    "best_f = -100\n",
    "\n",
    "for i in tqdm(range(1, 10, 1)):\n",
    "    for leaf in range(1, 20, 5):\n",
    "        tree_rougher = DecisionTreeRegressor(max_depth=i,min_samples_leaf = leaf, random_state=42)\n",
    "        smape_rougher = cross_val_score(tree_rougher,\n",
    "                              df_train_X,\n",
    "                              df_train_yr,\n",
    "                              scoring=smape,\n",
    "                              cv=5)\n",
    "\n",
    "        if smape_rougher.mean() > best_r:\n",
    "            best_r = smape_rougher.mean()\n",
    "            best_tree_r = tree_rougher\n",
    "        \n",
    "        tree_final = DecisionTreeRegressor(max_depth=i,min_samples_leaf = leaf, random_state=42)\n",
    "        smape_final = cross_val_score(tree_final, \n",
    "                                  df_train_X,\n",
    "                                  df_train_yf,\n",
    "                                  scoring=smape,\n",
    "                                  cv=5)\n",
    "\n",
    "        if smape_final.mean() > best_f:\n",
    "            best_f = smape_final.mean()\n",
    "            best_tree_f = tree_final\n",
    "\n",
    "SMAPE(best_r, best_f), 'R', best_r, 'F', best_f"
   ]
  },
  {
   "cell_type": "markdown",
   "metadata": {},
   "source": [
    "#### RandomForestRegressor"
   ]
  },
  {
   "cell_type": "code",
   "execution_count": 39,
   "metadata": {},
   "outputs": [
    {
     "data": {
      "application/vnd.jupyter.widget-view+json": {
       "model_id": "020025e78d8a4506b1b0c9eca93243ff",
       "version_major": 2,
       "version_minor": 0
      },
      "text/plain": [
       "  0%|          | 0/2 [00:00<?, ?it/s]"
      ]
     },
     "metadata": {},
     "output_type": "display_data"
    },
    {
     "data": {
      "application/vnd.jupyter.widget-view+json": {
       "model_id": "395d8eebd41e4c27b413d5a0d68a7daa",
       "version_major": 2,
       "version_minor": 0
      },
      "text/plain": [
       "  0%|          | 0/2 [00:00<?, ?it/s]"
      ]
     },
     "metadata": {},
     "output_type": "display_data"
    },
    {
     "data": {
      "application/vnd.jupyter.widget-view+json": {
       "model_id": "49a9d300e55446b788f56c1d4b522111",
       "version_major": 2,
       "version_minor": 0
      },
      "text/plain": [
       "  0%|          | 0/2 [00:00<?, ?it/s]"
      ]
     },
     "metadata": {},
     "output_type": "display_data"
    },
    {
     "name": "stdout",
     "output_type": "stream",
     "text": [
      "Лучший показатель для router: RandomForestRegressor(max_depth=6, min_samples_leaf=50, n_estimators=40,\n",
      "                      random_state=42)\n",
      "Для router: -6.055584095194454\n",
      "Лучший показатель для router: RandomForestRegressor(max_depth=6, min_samples_leaf=20, n_estimators=40,\n",
      "                      random_state=42)\n",
      "Для router: -8.649203875794697\n",
      "SMAPE 8.000798930644637\n"
     ]
    }
   ],
   "source": [
    "best_r = -100\n",
    "best_f = -100\n",
    "\n",
    "for depth in tqdm(range(4,8,2)):\n",
    "    for trees in tqdm(range(40, 80, 20)):\n",
    "        for leaf in 20, 50:\n",
    "            forest_r = RandomForestRegressor(max_depth = depth, n_estimators = trees,\n",
    "                                           min_samples_leaf = leaf, random_state=42)\n",
    "            smape_rougher = cross_val_score(forest_r,\n",
    "                              df_train_X,\n",
    "                              df_train_yr,\n",
    "                              scoring=smape,\n",
    "                              cv=5)\n",
    "            if smape_rougher.mean() > best_r:\n",
    "                best_r = smape_rougher.mean()\n",
    "                best_forest_r = forest_r\n",
    "                \n",
    "            forest_f = RandomForestRegressor(max_depth = depth, n_estimators = trees,\n",
    "                                           min_samples_leaf = leaf, random_state=42)\n",
    "            smape_final = cross_val_score(forest_f,\n",
    "                              df_train_X,\n",
    "                              df_train_yf,\n",
    "                              scoring=smape,\n",
    "                              cv=5)\n",
    "            if smape_final.mean() > best_f:\n",
    "                best_f = smape_final.mean()\n",
    "                best_forest_f = forest_f\n",
    "                \n",
    "print('Лучший показатель для router:', best_forest_r)\n",
    "print('Для router:', best_r)\n",
    "\n",
    "print('Лучший показатель для router:', best_forest_f)\n",
    "print('Для router:', best_f)\n",
    "\n",
    "print('SMAPE', SMAPE(best_r, best_f))"
   ]
  },
  {
   "cell_type": "markdown",
   "metadata": {},
   "source": [
    "#### Вывод"
   ]
  },
  {
   "cell_type": "markdown",
   "metadata": {},
   "source": [
    "Лучшие результаты показала модель RandomForestRegressor. sMAPE: 8"
   ]
  },
  {
   "cell_type": "markdown",
   "metadata": {},
   "source": [
    "### Проверка на тестовой выборке"
   ]
  },
  {
   "cell_type": "code",
   "execution_count": 40,
   "metadata": {},
   "outputs": [],
   "source": [
    "df_test_X = df_test.drop(['rougher.output.recovery','final.output.recovery'], axis=1)\n",
    "df_test_yr = df_test['rougher.output.recovery']\n",
    "df_test_yf = df_test['final.output.recovery']"
   ]
  },
  {
   "cell_type": "markdown",
   "metadata": {},
   "source": [
    "Проверяем лучшую модель на тестовой выборке."
   ]
  },
  {
   "cell_type": "code",
   "execution_count": 41,
   "metadata": {},
   "outputs": [],
   "source": [
    "testR = best_forest_r\n",
    "testR.fit(df_train_X, df_train_yr)\n",
    "testR = best_forest_r.predict(df_test_X)\n",
    "\n",
    "testF = best_forest_f\n",
    "testF.fit(df_train_X, df_train_yf)\n",
    "testF = best_forest_f.predict(df_test_X)\n"
   ]
  },
  {
   "cell_type": "markdown",
   "metadata": {},
   "source": [
    "Считаем sMAPE"
   ]
  },
  {
   "cell_type": "code",
   "execution_count": 42,
   "metadata": {},
   "outputs": [
    {
     "data": {
      "text/plain": [
       "9.33797107629943"
      ]
     },
     "execution_count": 42,
     "metadata": {},
     "output_type": "execute_result"
    }
   ],
   "source": [
    "a = get_smape(df_test_yr, testR)\n",
    "b = get_smape(df_test_yf, testF)\n",
    "SMAPE(a,b)"
   ]
  },
  {
   "cell_type": "markdown",
   "metadata": {},
   "source": [
    "sMAPE на тестовой выборке - 9.34"
   ]
  },
  {
   "cell_type": "markdown",
   "metadata": {},
   "source": [
    "#### Проверка на адекватность"
   ]
  },
  {
   "cell_type": "code",
   "execution_count": 43,
   "metadata": {},
   "outputs": [],
   "source": [
    "def const_model(features_train, target_train, features_test):\n",
    "    # метод прогнозирования целевого признаки на константной модели \n",
    "    dummy_regr = DummyRegressor(strategy=\"mean\")\n",
    "    # обучим модель\n",
    "    dummy_regr.fit(features_train, target_train)\n",
    "    # подготовим прогноз целевого признака\n",
    "    pred_test = dummy_regr.predict(features_test)\n",
    "    return pred_test\n"
   ]
  },
  {
   "cell_type": "code",
   "execution_count": 44,
   "metadata": {},
   "outputs": [],
   "source": [
    "# rougher\n",
    "const_r = const_model(df_train_X, df_train['rougher.output.recovery'], df_test_X)"
   ]
  },
  {
   "cell_type": "code",
   "execution_count": 45,
   "metadata": {},
   "outputs": [],
   "source": [
    "# final\n",
    "const_f = const_model(df_train_X, df_train['final.output.recovery'], df_test_X)"
   ]
  },
  {
   "cell_type": "code",
   "execution_count": 46,
   "metadata": {},
   "outputs": [
    {
     "data": {
      "text/plain": [
       "9.909881955507391"
      ]
     },
     "execution_count": 46,
     "metadata": {},
     "output_type": "execute_result"
    }
   ],
   "source": [
    "SMAPE(get_smape(df_test['rougher.output.recovery'], const_r),\n",
    "      get_smape(df_test['final.output.recovery'], const_f))"
   ]
  },
  {
   "cell_type": "markdown",
   "metadata": {},
   "source": [
    "## Вывод"
   ]
  },
  {
   "cell_type": "markdown",
   "metadata": {},
   "source": [
    "Проведена предобработка данных.  Вычислено значение MAE между данными и расчётными значениями эффективности. Полученные значения МАЕ близки к 0. Это означаем, что эффективность обогащения рассчитана правильно. Незначительные отклонения могут быть вызваны округлением чисел.\n",
    "\n",
    "Данные предобработаны, проведён анализ изменения концентрации на разных этапах, размера гранул и суммарной концентрации всех веществ. Убраны аномалии.\n",
    "\n",
    "Создана функция для вычисления SMAPE.\n",
    "\n",
    "Построены модели - Линейная регрессия, Дерево решений и Случайный лес. Случайный лес показал лучший результат на обучающей выборке. Модель проверена на тестовой выборке и проверена на адекватность.\n",
    "\n",
    "SMAPE модели - 9.3, SMAPE константной модели - 9.9. Вывод, наша модель лучше константной - следовательно она адекватна."
   ]
  },
  {
   "cell_type": "markdown",
   "metadata": {
    "toc": true
   },
   "source": []
  },
  {
   "cell_type": "code",
   "execution_count": null,
   "metadata": {},
   "outputs": [],
   "source": []
  }
 ],
 "metadata": {
  "ExecuteTimeLog": [
   {
    "duration": 420,
    "start_time": "2023-01-19T11:50:11.973Z"
   },
   {
    "duration": 2054,
    "start_time": "2023-01-19T12:06:06.594Z"
   },
   {
    "duration": 1088,
    "start_time": "2023-01-19T12:06:32.301Z"
   },
   {
    "duration": 1074,
    "start_time": "2023-01-19T12:07:48.220Z"
   },
   {
    "duration": 23,
    "start_time": "2023-01-19T12:08:50.898Z"
   },
   {
    "duration": 37,
    "start_time": "2023-01-19T12:09:18.798Z"
   },
   {
    "duration": 50,
    "start_time": "2023-01-19T12:09:35.727Z"
   },
   {
    "duration": 123,
    "start_time": "2023-01-19T12:12:19.274Z"
   },
   {
    "duration": 271,
    "start_time": "2023-01-19T12:12:39.086Z"
   },
   {
    "duration": 4,
    "start_time": "2023-01-19T12:13:14.732Z"
   },
   {
    "duration": 1747,
    "start_time": "2023-01-19T12:14:43.528Z"
   },
   {
    "duration": 3,
    "start_time": "2023-01-19T12:15:22.247Z"
   },
   {
    "duration": 5,
    "start_time": "2023-01-19T12:15:31.032Z"
   },
   {
    "duration": 8,
    "start_time": "2023-01-19T12:15:48.037Z"
   },
   {
    "duration": 5,
    "start_time": "2023-01-19T12:16:41.273Z"
   },
   {
    "duration": 1849,
    "start_time": "2023-01-19T12:16:57.943Z"
   },
   {
    "duration": 4,
    "start_time": "2023-01-19T12:17:06.278Z"
   },
   {
    "duration": 23,
    "start_time": "2023-01-19T12:17:08.448Z"
   },
   {
    "duration": 3,
    "start_time": "2023-01-19T12:17:16.733Z"
   },
   {
    "duration": 51,
    "start_time": "2023-01-19T12:17:17.131Z"
   },
   {
    "duration": 66,
    "start_time": "2023-01-19T12:18:05.673Z"
   },
   {
    "duration": 9,
    "start_time": "2023-01-19T12:18:24.799Z"
   },
   {
    "duration": 62,
    "start_time": "2023-01-19T12:18:27.531Z"
   },
   {
    "duration": 484,
    "start_time": "2023-01-19T12:18:51.278Z"
   },
   {
    "duration": 759,
    "start_time": "2023-01-19T12:18:51.764Z"
   },
   {
    "duration": 57,
    "start_time": "2023-01-19T12:18:52.525Z"
   },
   {
    "duration": 249,
    "start_time": "2023-01-19T12:18:52.584Z"
   },
   {
    "duration": 4,
    "start_time": "2023-01-19T12:18:52.835Z"
   },
   {
    "duration": 81,
    "start_time": "2023-01-19T12:18:52.841Z"
   },
   {
    "duration": 394,
    "start_time": "2023-01-19T12:37:21.530Z"
   },
   {
    "duration": 748,
    "start_time": "2023-01-19T12:37:21.927Z"
   },
   {
    "duration": 62,
    "start_time": "2023-01-19T12:37:22.676Z"
   },
   {
    "duration": 267,
    "start_time": "2023-01-19T12:37:22.739Z"
   },
   {
    "duration": 4,
    "start_time": "2023-01-19T12:37:23.009Z"
   },
   {
    "duration": 117,
    "start_time": "2023-01-19T12:37:23.014Z"
   },
   {
    "duration": 422,
    "start_time": "2023-01-19T12:37:48.884Z"
   },
   {
    "duration": 779,
    "start_time": "2023-01-19T12:37:49.317Z"
   },
   {
    "duration": 60,
    "start_time": "2023-01-19T12:37:50.098Z"
   },
   {
    "duration": 265,
    "start_time": "2023-01-19T12:37:50.160Z"
   },
   {
    "duration": 18,
    "start_time": "2023-01-19T12:37:50.427Z"
   },
   {
    "duration": 102,
    "start_time": "2023-01-19T12:37:50.448Z"
   },
   {
    "duration": 33,
    "start_time": "2023-01-19T12:39:09.651Z"
   },
   {
    "duration": 509,
    "start_time": "2023-01-19T12:59:01.787Z"
   },
   {
    "duration": 825,
    "start_time": "2023-01-19T12:59:02.302Z"
   },
   {
    "duration": 50,
    "start_time": "2023-01-19T12:59:03.135Z"
   },
   {
    "duration": 119,
    "start_time": "2023-01-19T12:59:03.187Z"
   },
   {
    "duration": 251,
    "start_time": "2023-01-19T12:59:03.314Z"
   },
   {
    "duration": 4,
    "start_time": "2023-01-19T12:59:03.566Z"
   },
   {
    "duration": 158,
    "start_time": "2023-01-19T12:59:03.572Z"
   },
   {
    "duration": 29,
    "start_time": "2023-01-19T12:59:03.733Z"
   },
   {
    "duration": 95,
    "start_time": "2023-01-19T12:59:03.764Z"
   },
   {
    "duration": 352,
    "start_time": "2023-01-21T10:08:36.009Z"
   },
   {
    "duration": 3117,
    "start_time": "2023-01-21T10:08:36.362Z"
   },
   {
    "duration": 43,
    "start_time": "2023-01-21T10:08:39.480Z"
   },
   {
    "duration": 27,
    "start_time": "2023-01-21T10:08:39.525Z"
   },
   {
    "duration": 225,
    "start_time": "2023-01-21T10:08:39.553Z"
   },
   {
    "duration": 3,
    "start_time": "2023-01-21T10:08:39.780Z"
   },
   {
    "duration": 60,
    "start_time": "2023-01-21T10:08:39.785Z"
   },
   {
    "duration": 41,
    "start_time": "2023-01-21T10:08:39.847Z"
   },
   {
    "duration": 55,
    "start_time": "2023-01-21T10:08:39.890Z"
   },
   {
    "duration": 86,
    "start_time": "2023-01-21T10:26:57.070Z"
   },
   {
    "duration": 67,
    "start_time": "2023-01-21T10:28:07.793Z"
   },
   {
    "duration": 6,
    "start_time": "2023-01-21T10:28:35.425Z"
   },
   {
    "duration": 984,
    "start_time": "2023-01-21T10:29:18.819Z"
   },
   {
    "duration": 663,
    "start_time": "2023-01-21T10:29:19.805Z"
   },
   {
    "duration": 50,
    "start_time": "2023-01-21T10:29:20.470Z"
   },
   {
    "duration": 47,
    "start_time": "2023-01-21T10:29:20.523Z"
   },
   {
    "duration": 216,
    "start_time": "2023-01-21T10:29:20.571Z"
   },
   {
    "duration": 3,
    "start_time": "2023-01-21T10:29:20.789Z"
   },
   {
    "duration": 75,
    "start_time": "2023-01-21T10:29:20.793Z"
   },
   {
    "duration": 26,
    "start_time": "2023-01-21T10:29:20.869Z"
   },
   {
    "duration": 53,
    "start_time": "2023-01-21T10:29:20.897Z"
   },
   {
    "duration": 5,
    "start_time": "2023-01-21T10:29:20.968Z"
   },
   {
    "duration": 92,
    "start_time": "2023-01-21T10:30:48.416Z"
   },
   {
    "duration": 5,
    "start_time": "2023-01-21T10:30:56.963Z"
   },
   {
    "duration": 5,
    "start_time": "2023-01-21T10:36:23.453Z"
   },
   {
    "duration": 19,
    "start_time": "2023-01-21T10:36:43.328Z"
   },
   {
    "duration": 4,
    "start_time": "2023-01-21T10:36:52.038Z"
   },
   {
    "duration": 1088,
    "start_time": "2023-01-21T10:37:23.954Z"
   },
   {
    "duration": 682,
    "start_time": "2023-01-21T10:37:25.044Z"
   },
   {
    "duration": 46,
    "start_time": "2023-01-21T10:37:25.727Z"
   },
   {
    "duration": 28,
    "start_time": "2023-01-21T10:37:25.775Z"
   },
   {
    "duration": 237,
    "start_time": "2023-01-21T10:37:25.805Z"
   },
   {
    "duration": 4,
    "start_time": "2023-01-21T10:37:26.043Z"
   },
   {
    "duration": 63,
    "start_time": "2023-01-21T10:37:26.048Z"
   },
   {
    "duration": 27,
    "start_time": "2023-01-21T10:37:26.113Z"
   },
   {
    "duration": 82,
    "start_time": "2023-01-21T10:37:26.141Z"
   },
   {
    "duration": 6,
    "start_time": "2023-01-21T10:37:26.225Z"
   },
   {
    "duration": 4,
    "start_time": "2023-01-21T10:37:26.233Z"
   },
   {
    "duration": 30,
    "start_time": "2023-01-21T10:37:26.239Z"
   },
   {
    "duration": 13,
    "start_time": "2023-01-21T10:38:45.719Z"
   },
   {
    "duration": 1082,
    "start_time": "2023-01-21T10:39:13.951Z"
   },
   {
    "duration": 666,
    "start_time": "2023-01-21T10:39:15.035Z"
   },
   {
    "duration": 44,
    "start_time": "2023-01-21T10:39:15.702Z"
   },
   {
    "duration": 28,
    "start_time": "2023-01-21T10:39:15.766Z"
   },
   {
    "duration": 224,
    "start_time": "2023-01-21T10:39:15.796Z"
   },
   {
    "duration": 3,
    "start_time": "2023-01-21T10:39:16.022Z"
   },
   {
    "duration": 69,
    "start_time": "2023-01-21T10:39:16.027Z"
   },
   {
    "duration": 22,
    "start_time": "2023-01-21T10:39:16.097Z"
   },
   {
    "duration": 65,
    "start_time": "2023-01-21T10:39:16.120Z"
   },
   {
    "duration": 5,
    "start_time": "2023-01-21T10:39:16.187Z"
   },
   {
    "duration": 5,
    "start_time": "2023-01-21T10:39:16.193Z"
   },
   {
    "duration": 5,
    "start_time": "2023-01-21T10:39:16.199Z"
   },
   {
    "duration": 11,
    "start_time": "2023-01-21T10:39:16.206Z"
   },
   {
    "duration": 57,
    "start_time": "2023-01-22T12:38:12.774Z"
   },
   {
    "duration": 1362,
    "start_time": "2023-01-22T12:39:03.196Z"
   },
   {
    "duration": 75,
    "start_time": "2023-01-22T12:39:08.421Z"
   },
   {
    "duration": 1233,
    "start_time": "2023-01-22T12:39:19.201Z"
   },
   {
    "duration": 362,
    "start_time": "2023-01-22T12:39:20.437Z"
   },
   {
    "duration": 2165,
    "start_time": "2023-01-22T12:39:20.801Z"
   },
   {
    "duration": 45,
    "start_time": "2023-01-22T12:39:22.969Z"
   },
   {
    "duration": 32,
    "start_time": "2023-01-22T12:39:23.016Z"
   },
   {
    "duration": 253,
    "start_time": "2023-01-22T12:39:23.050Z"
   },
   {
    "duration": 4,
    "start_time": "2023-01-22T12:39:23.305Z"
   },
   {
    "duration": 85,
    "start_time": "2023-01-22T12:39:23.311Z"
   },
   {
    "duration": 25,
    "start_time": "2023-01-22T12:39:23.398Z"
   },
   {
    "duration": 84,
    "start_time": "2023-01-22T12:39:23.426Z"
   },
   {
    "duration": 6,
    "start_time": "2023-01-22T12:39:23.512Z"
   },
   {
    "duration": 7,
    "start_time": "2023-01-22T12:39:23.520Z"
   },
   {
    "duration": 10,
    "start_time": "2023-01-22T12:39:23.529Z"
   },
   {
    "duration": 566,
    "start_time": "2023-01-22T12:39:23.541Z"
   },
   {
    "duration": 390,
    "start_time": "2023-01-22T12:42:11.908Z"
   },
   {
    "duration": 1036,
    "start_time": "2023-01-22T12:42:24.748Z"
   },
   {
    "duration": 345,
    "start_time": "2023-01-22T12:42:38.918Z"
   },
   {
    "duration": 1162,
    "start_time": "2023-01-22T12:47:44.029Z"
   },
   {
    "duration": 331,
    "start_time": "2023-01-22T12:47:45.194Z"
   },
   {
    "duration": 765,
    "start_time": "2023-01-22T12:47:45.527Z"
   },
   {
    "duration": 48,
    "start_time": "2023-01-22T12:47:46.295Z"
   },
   {
    "duration": 54,
    "start_time": "2023-01-22T12:47:46.345Z"
   },
   {
    "duration": 284,
    "start_time": "2023-01-22T12:47:46.401Z"
   },
   {
    "duration": 5,
    "start_time": "2023-01-22T12:47:46.688Z"
   },
   {
    "duration": 115,
    "start_time": "2023-01-22T12:47:46.695Z"
   },
   {
    "duration": 34,
    "start_time": "2023-01-22T12:47:46.813Z"
   },
   {
    "duration": 102,
    "start_time": "2023-01-22T12:47:46.850Z"
   },
   {
    "duration": 8,
    "start_time": "2023-01-22T12:47:46.954Z"
   },
   {
    "duration": 29,
    "start_time": "2023-01-22T12:47:46.964Z"
   },
   {
    "duration": 28,
    "start_time": "2023-01-22T12:47:46.995Z"
   },
   {
    "duration": 28,
    "start_time": "2023-01-22T12:47:47.025Z"
   },
   {
    "duration": 429,
    "start_time": "2023-01-22T12:47:47.055Z"
   },
   {
    "duration": 393,
    "start_time": "2023-01-22T12:47:47.486Z"
   },
   {
    "duration": 1144,
    "start_time": "2023-01-22T12:48:23.326Z"
   },
   {
    "duration": 340,
    "start_time": "2023-01-22T12:48:24.473Z"
   },
   {
    "duration": 716,
    "start_time": "2023-01-22T12:48:24.815Z"
   },
   {
    "duration": 65,
    "start_time": "2023-01-22T12:48:25.533Z"
   },
   {
    "duration": 47,
    "start_time": "2023-01-22T12:48:25.602Z"
   },
   {
    "duration": 278,
    "start_time": "2023-01-22T12:48:25.651Z"
   },
   {
    "duration": 4,
    "start_time": "2023-01-22T12:48:25.931Z"
   },
   {
    "duration": 94,
    "start_time": "2023-01-22T12:48:25.937Z"
   },
   {
    "duration": 29,
    "start_time": "2023-01-22T12:48:26.034Z"
   },
   {
    "duration": 70,
    "start_time": "2023-01-22T12:48:26.065Z"
   },
   {
    "duration": 9,
    "start_time": "2023-01-22T12:48:26.137Z"
   },
   {
    "duration": 8,
    "start_time": "2023-01-22T12:48:26.148Z"
   },
   {
    "duration": 27,
    "start_time": "2023-01-22T12:48:26.159Z"
   },
   {
    "duration": 7,
    "start_time": "2023-01-22T12:48:26.189Z"
   },
   {
    "duration": 547,
    "start_time": "2023-01-22T12:48:26.198Z"
   },
   {
    "duration": 387,
    "start_time": "2023-01-22T12:48:26.747Z"
   },
   {
    "duration": 1318,
    "start_time": "2023-01-22T12:50:00.082Z"
   },
   {
    "duration": 342,
    "start_time": "2023-01-22T12:50:01.403Z"
   },
   {
    "duration": 738,
    "start_time": "2023-01-22T12:50:01.747Z"
   },
   {
    "duration": 52,
    "start_time": "2023-01-22T12:50:02.487Z"
   },
   {
    "duration": 75,
    "start_time": "2023-01-22T12:50:02.542Z"
   },
   {
    "duration": 369,
    "start_time": "2023-01-22T12:50:02.620Z"
   },
   {
    "duration": 5,
    "start_time": "2023-01-22T12:50:02.991Z"
   },
   {
    "duration": 106,
    "start_time": "2023-01-22T12:50:02.998Z"
   },
   {
    "duration": 26,
    "start_time": "2023-01-22T12:50:03.106Z"
   },
   {
    "duration": 85,
    "start_time": "2023-01-22T12:50:03.135Z"
   },
   {
    "duration": 8,
    "start_time": "2023-01-22T12:50:03.222Z"
   },
   {
    "duration": 24,
    "start_time": "2023-01-22T12:50:03.231Z"
   },
   {
    "duration": 15,
    "start_time": "2023-01-22T12:50:03.257Z"
   },
   {
    "duration": 19,
    "start_time": "2023-01-22T12:50:03.276Z"
   },
   {
    "duration": 399,
    "start_time": "2023-01-22T12:50:03.298Z"
   },
   {
    "duration": 1069,
    "start_time": "2023-01-22T12:50:03.699Z"
   },
   {
    "duration": 437,
    "start_time": "2023-01-22T12:50:12.120Z"
   },
   {
    "duration": 1192,
    "start_time": "2023-01-22T12:51:33.996Z"
   },
   {
    "duration": 328,
    "start_time": "2023-01-22T12:51:35.191Z"
   },
   {
    "duration": 752,
    "start_time": "2023-01-22T12:51:35.521Z"
   },
   {
    "duration": 50,
    "start_time": "2023-01-22T12:51:36.276Z"
   },
   {
    "duration": 33,
    "start_time": "2023-01-22T12:51:36.327Z"
   },
   {
    "duration": 281,
    "start_time": "2023-01-22T12:51:36.362Z"
   },
   {
    "duration": 5,
    "start_time": "2023-01-22T12:51:36.645Z"
   },
   {
    "duration": 95,
    "start_time": "2023-01-22T12:51:36.652Z"
   },
   {
    "duration": 47,
    "start_time": "2023-01-22T12:51:36.749Z"
   },
   {
    "duration": 69,
    "start_time": "2023-01-22T12:51:36.799Z"
   },
   {
    "duration": 8,
    "start_time": "2023-01-22T12:51:36.885Z"
   },
   {
    "duration": 8,
    "start_time": "2023-01-22T12:51:36.894Z"
   },
   {
    "duration": 9,
    "start_time": "2023-01-22T12:51:36.904Z"
   },
   {
    "duration": 6,
    "start_time": "2023-01-22T12:51:36.916Z"
   },
   {
    "duration": 436,
    "start_time": "2023-01-22T12:51:36.924Z"
   },
   {
    "duration": 380,
    "start_time": "2023-01-22T12:51:37.363Z"
   },
   {
    "duration": 482,
    "start_time": "2023-01-22T12:51:37.745Z"
   },
   {
    "duration": 339,
    "start_time": "2023-01-22T12:52:54.693Z"
   },
   {
    "duration": 1225,
    "start_time": "2023-01-22T12:53:55.661Z"
   },
   {
    "duration": 346,
    "start_time": "2023-01-22T12:53:56.888Z"
   },
   {
    "duration": 763,
    "start_time": "2023-01-22T12:53:57.236Z"
   },
   {
    "duration": 58,
    "start_time": "2023-01-22T12:53:58.001Z"
   },
   {
    "duration": 52,
    "start_time": "2023-01-22T12:53:58.063Z"
   },
   {
    "duration": 269,
    "start_time": "2023-01-22T12:53:58.117Z"
   },
   {
    "duration": 4,
    "start_time": "2023-01-22T12:53:58.389Z"
   },
   {
    "duration": 98,
    "start_time": "2023-01-22T12:53:58.396Z"
   },
   {
    "duration": 28,
    "start_time": "2023-01-22T12:53:58.496Z"
   },
   {
    "duration": 88,
    "start_time": "2023-01-22T12:53:58.526Z"
   },
   {
    "duration": 7,
    "start_time": "2023-01-22T12:53:58.617Z"
   },
   {
    "duration": 6,
    "start_time": "2023-01-22T12:53:58.626Z"
   },
   {
    "duration": 6,
    "start_time": "2023-01-22T12:53:58.634Z"
   },
   {
    "duration": 40,
    "start_time": "2023-01-22T12:53:58.644Z"
   },
   {
    "duration": 397,
    "start_time": "2023-01-22T12:53:58.687Z"
   },
   {
    "duration": 362,
    "start_time": "2023-01-22T12:53:59.086Z"
   },
   {
    "duration": 534,
    "start_time": "2023-01-22T12:53:59.450Z"
   },
   {
    "duration": 353,
    "start_time": "2023-01-22T12:53:59.985Z"
   },
   {
    "duration": 382,
    "start_time": "2023-01-22T12:54:00.340Z"
   },
   {
    "duration": 357,
    "start_time": "2023-01-22T12:54:00.724Z"
   },
   {
    "duration": 1156,
    "start_time": "2023-01-22T13:01:56.691Z"
   },
   {
    "duration": 332,
    "start_time": "2023-01-22T13:01:57.849Z"
   },
   {
    "duration": 750,
    "start_time": "2023-01-22T13:01:58.184Z"
   },
   {
    "duration": 58,
    "start_time": "2023-01-22T13:01:58.937Z"
   },
   {
    "duration": 37,
    "start_time": "2023-01-22T13:01:58.997Z"
   },
   {
    "duration": 291,
    "start_time": "2023-01-22T13:01:59.037Z"
   },
   {
    "duration": 5,
    "start_time": "2023-01-22T13:01:59.330Z"
   },
   {
    "duration": 88,
    "start_time": "2023-01-22T13:01:59.336Z"
   },
   {
    "duration": 27,
    "start_time": "2023-01-22T13:01:59.426Z"
   },
   {
    "duration": 84,
    "start_time": "2023-01-22T13:01:59.455Z"
   },
   {
    "duration": 8,
    "start_time": "2023-01-22T13:01:59.542Z"
   },
   {
    "duration": 11,
    "start_time": "2023-01-22T13:01:59.553Z"
   },
   {
    "duration": 6,
    "start_time": "2023-01-22T13:01:59.585Z"
   },
   {
    "duration": 23,
    "start_time": "2023-01-22T13:01:59.598Z"
   },
   {
    "duration": 508,
    "start_time": "2023-01-22T13:01:59.623Z"
   },
   {
    "duration": 365,
    "start_time": "2023-01-22T13:02:00.133Z"
   },
   {
    "duration": 496,
    "start_time": "2023-01-22T13:02:00.500Z"
   },
   {
    "duration": 366,
    "start_time": "2023-01-22T13:02:00.997Z"
   },
   {
    "duration": 393,
    "start_time": "2023-01-22T13:02:01.365Z"
   },
   {
    "duration": 410,
    "start_time": "2023-01-22T13:02:01.760Z"
   },
   {
    "duration": 43,
    "start_time": "2023-01-22T13:02:02.172Z"
   },
   {
    "duration": 1130,
    "start_time": "2023-01-22T13:04:54.316Z"
   },
   {
    "duration": 338,
    "start_time": "2023-01-22T13:04:55.448Z"
   },
   {
    "duration": 766,
    "start_time": "2023-01-22T13:04:55.788Z"
   },
   {
    "duration": 59,
    "start_time": "2023-01-22T13:04:56.556Z"
   },
   {
    "duration": 41,
    "start_time": "2023-01-22T13:04:56.617Z"
   },
   {
    "duration": 268,
    "start_time": "2023-01-22T13:04:56.660Z"
   },
   {
    "duration": 4,
    "start_time": "2023-01-22T13:04:56.931Z"
   },
   {
    "duration": 85,
    "start_time": "2023-01-22T13:04:56.936Z"
   },
   {
    "duration": 27,
    "start_time": "2023-01-22T13:04:57.023Z"
   },
   {
    "duration": 97,
    "start_time": "2023-01-22T13:04:57.053Z"
   },
   {
    "duration": 8,
    "start_time": "2023-01-22T13:04:57.153Z"
   },
   {
    "duration": 29,
    "start_time": "2023-01-22T13:04:57.164Z"
   },
   {
    "duration": 20,
    "start_time": "2023-01-22T13:04:57.194Z"
   },
   {
    "duration": 16,
    "start_time": "2023-01-22T13:04:57.217Z"
   },
   {
    "duration": 640,
    "start_time": "2023-01-22T13:04:57.235Z"
   },
   {
    "duration": 581,
    "start_time": "2023-01-22T13:04:57.884Z"
   },
   {
    "duration": 519,
    "start_time": "2023-01-22T13:04:58.468Z"
   },
   {
    "duration": 496,
    "start_time": "2023-01-22T13:04:58.989Z"
   },
   {
    "duration": 633,
    "start_time": "2023-01-22T13:04:59.487Z"
   },
   {
    "duration": 641,
    "start_time": "2023-01-22T13:05:00.122Z"
   },
   {
    "duration": 50,
    "start_time": "2023-01-22T13:05:00.765Z"
   },
   {
    "duration": 828,
    "start_time": "2023-01-22T13:11:29.056Z"
   },
   {
    "duration": 46,
    "start_time": "2023-01-22T13:11:51.511Z"
   },
   {
    "duration": 735,
    "start_time": "2023-01-22T13:12:00.566Z"
   },
   {
    "duration": 13,
    "start_time": "2023-01-22T13:13:27.894Z"
   },
   {
    "duration": 23,
    "start_time": "2023-01-22T13:13:47.056Z"
   },
   {
    "duration": 760,
    "start_time": "2023-01-22T13:14:25.422Z"
   },
   {
    "duration": 1204,
    "start_time": "2023-01-22T13:15:01.246Z"
   },
   {
    "duration": 382,
    "start_time": "2023-01-22T13:15:02.452Z"
   },
   {
    "duration": 762,
    "start_time": "2023-01-22T13:15:02.836Z"
   },
   {
    "duration": 53,
    "start_time": "2023-01-22T13:15:03.599Z"
   },
   {
    "duration": 55,
    "start_time": "2023-01-22T13:15:03.655Z"
   },
   {
    "duration": 258,
    "start_time": "2023-01-22T13:15:03.712Z"
   },
   {
    "duration": 12,
    "start_time": "2023-01-22T13:15:03.972Z"
   },
   {
    "duration": 67,
    "start_time": "2023-01-22T13:15:03.986Z"
   },
   {
    "duration": 52,
    "start_time": "2023-01-22T13:15:04.055Z"
   },
   {
    "duration": 78,
    "start_time": "2023-01-22T13:15:04.109Z"
   },
   {
    "duration": 10,
    "start_time": "2023-01-22T13:15:04.190Z"
   },
   {
    "duration": 7,
    "start_time": "2023-01-22T13:15:04.202Z"
   },
   {
    "duration": 7,
    "start_time": "2023-01-22T13:15:04.211Z"
   },
   {
    "duration": 7,
    "start_time": "2023-01-22T13:15:04.223Z"
   },
   {
    "duration": 554,
    "start_time": "2023-01-22T13:15:04.232Z"
   },
   {
    "duration": 608,
    "start_time": "2023-01-22T13:15:04.788Z"
   },
   {
    "duration": 545,
    "start_time": "2023-01-22T13:15:05.398Z"
   },
   {
    "duration": 505,
    "start_time": "2023-01-22T13:15:05.945Z"
   },
   {
    "duration": 528,
    "start_time": "2023-01-22T13:15:06.452Z"
   },
   {
    "duration": 643,
    "start_time": "2023-01-22T13:15:06.984Z"
   },
   {
    "duration": 896,
    "start_time": "2023-01-22T13:15:07.629Z"
   },
   {
    "duration": 16,
    "start_time": "2023-01-22T13:16:40.317Z"
   },
   {
    "duration": 28,
    "start_time": "2023-01-22T13:16:49.075Z"
   },
   {
    "duration": 50,
    "start_time": "2023-01-22T13:22:04.716Z"
   },
   {
    "duration": 4,
    "start_time": "2023-01-22T13:22:30.500Z"
   },
   {
    "duration": 58,
    "start_time": "2023-01-22T13:22:44.877Z"
   },
   {
    "duration": 10,
    "start_time": "2023-01-22T13:22:58.339Z"
   },
   {
    "duration": 16,
    "start_time": "2023-01-22T13:29:17.631Z"
   },
   {
    "duration": 14,
    "start_time": "2023-01-22T13:29:28.316Z"
   },
   {
    "duration": 5,
    "start_time": "2023-01-22T13:29:32.802Z"
   },
   {
    "duration": 1202,
    "start_time": "2023-01-22T13:32:37.754Z"
   },
   {
    "duration": 348,
    "start_time": "2023-01-22T13:32:38.958Z"
   },
   {
    "duration": 909,
    "start_time": "2023-01-22T13:32:39.308Z"
   },
   {
    "duration": 53,
    "start_time": "2023-01-22T13:32:40.220Z"
   },
   {
    "duration": 35,
    "start_time": "2023-01-22T13:32:40.285Z"
   },
   {
    "duration": 302,
    "start_time": "2023-01-22T13:32:40.322Z"
   },
   {
    "duration": 5,
    "start_time": "2023-01-22T13:32:40.626Z"
   },
   {
    "duration": 98,
    "start_time": "2023-01-22T13:32:40.633Z"
   },
   {
    "duration": 28,
    "start_time": "2023-01-22T13:32:40.733Z"
   },
   {
    "duration": 64,
    "start_time": "2023-01-22T13:32:40.783Z"
   },
   {
    "duration": 9,
    "start_time": "2023-01-22T13:32:40.848Z"
   },
   {
    "duration": 29,
    "start_time": "2023-01-22T13:32:40.859Z"
   },
   {
    "duration": 19,
    "start_time": "2023-01-22T13:32:40.890Z"
   },
   {
    "duration": 20,
    "start_time": "2023-01-22T13:32:40.911Z"
   },
   {
    "duration": 900,
    "start_time": "2023-01-22T13:32:40.933Z"
   },
   {
    "duration": 828,
    "start_time": "2023-01-22T13:32:41.836Z"
   },
   {
    "duration": 868,
    "start_time": "2023-01-22T13:32:42.667Z"
   },
   {
    "duration": 1012,
    "start_time": "2023-01-22T13:32:43.537Z"
   },
   {
    "duration": 803,
    "start_time": "2023-01-22T13:32:44.551Z"
   },
   {
    "duration": 958,
    "start_time": "2023-01-22T13:32:45.356Z"
   },
   {
    "duration": 6,
    "start_time": "2023-01-22T13:32:46.317Z"
   },
   {
    "duration": 8,
    "start_time": "2023-01-22T13:33:08.313Z"
   },
   {
    "duration": 962,
    "start_time": "2023-01-22T13:33:09.614Z"
   },
   {
    "duration": 1192,
    "start_time": "2023-01-22T13:34:17.882Z"
   },
   {
    "duration": 382,
    "start_time": "2023-01-22T13:34:19.076Z"
   },
   {
    "duration": 905,
    "start_time": "2023-01-22T13:34:19.460Z"
   },
   {
    "duration": 58,
    "start_time": "2023-01-22T13:34:20.367Z"
   },
   {
    "duration": 34,
    "start_time": "2023-01-22T13:34:20.427Z"
   },
   {
    "duration": 321,
    "start_time": "2023-01-22T13:34:20.462Z"
   },
   {
    "duration": 10,
    "start_time": "2023-01-22T13:34:20.802Z"
   },
   {
    "duration": 111,
    "start_time": "2023-01-22T13:34:20.815Z"
   },
   {
    "duration": 26,
    "start_time": "2023-01-22T13:34:20.928Z"
   },
   {
    "duration": 79,
    "start_time": "2023-01-22T13:34:20.957Z"
   },
   {
    "duration": 6,
    "start_time": "2023-01-22T13:34:21.037Z"
   },
   {
    "duration": 23,
    "start_time": "2023-01-22T13:34:21.044Z"
   },
   {
    "duration": 34,
    "start_time": "2023-01-22T13:34:21.069Z"
   },
   {
    "duration": 11,
    "start_time": "2023-01-22T13:34:21.105Z"
   },
   {
    "duration": 1201,
    "start_time": "2023-01-22T13:34:21.119Z"
   },
   {
    "duration": 1103,
    "start_time": "2023-01-22T13:34:22.323Z"
   },
   {
    "duration": 1247,
    "start_time": "2023-01-22T13:34:23.428Z"
   },
   {
    "duration": 1099,
    "start_time": "2023-01-22T13:34:24.677Z"
   },
   {
    "duration": 1289,
    "start_time": "2023-01-22T13:34:25.788Z"
   },
   {
    "duration": 1093,
    "start_time": "2023-01-22T13:34:27.083Z"
   },
   {
    "duration": 10,
    "start_time": "2023-01-22T13:34:28.179Z"
   },
   {
    "duration": 1364,
    "start_time": "2023-01-22T13:35:18.747Z"
   },
   {
    "duration": 444,
    "start_time": "2023-01-22T13:35:20.115Z"
   },
   {
    "duration": 1037,
    "start_time": "2023-01-22T13:35:20.562Z"
   },
   {
    "duration": 121,
    "start_time": "2023-01-22T13:35:21.601Z"
   },
   {
    "duration": 98,
    "start_time": "2023-01-22T13:35:21.726Z"
   },
   {
    "duration": 697,
    "start_time": "2023-01-22T13:35:21.827Z"
   },
   {
    "duration": 58,
    "start_time": "2023-01-22T13:35:22.527Z"
   },
   {
    "duration": 214,
    "start_time": "2023-01-22T13:35:22.588Z"
   },
   {
    "duration": 95,
    "start_time": "2023-01-22T13:35:22.805Z"
   },
   {
    "duration": 192,
    "start_time": "2023-01-22T13:35:22.904Z"
   },
   {
    "duration": 8,
    "start_time": "2023-01-22T13:35:23.098Z"
   },
   {
    "duration": 7,
    "start_time": "2023-01-22T13:35:23.108Z"
   },
   {
    "duration": 10,
    "start_time": "2023-01-22T13:35:23.118Z"
   },
   {
    "duration": 8,
    "start_time": "2023-01-22T13:35:23.185Z"
   },
   {
    "duration": 1532,
    "start_time": "2023-01-22T13:35:23.196Z"
   },
   {
    "duration": 1073,
    "start_time": "2023-01-22T13:35:24.731Z"
   },
   {
    "duration": 1220,
    "start_time": "2023-01-22T13:35:25.806Z"
   },
   {
    "duration": 1013,
    "start_time": "2023-01-22T13:35:27.028Z"
   },
   {
    "duration": 1177,
    "start_time": "2023-01-22T13:35:28.044Z"
   },
   {
    "duration": 1197,
    "start_time": "2023-01-22T13:35:29.224Z"
   },
   {
    "duration": 7,
    "start_time": "2023-01-22T13:35:30.424Z"
   },
   {
    "duration": 10,
    "start_time": "2023-01-22T13:42:52.681Z"
   },
   {
    "duration": 207,
    "start_time": "2023-01-22T13:43:52.763Z"
   },
   {
    "duration": 82,
    "start_time": "2023-01-22T13:43:58.994Z"
   },
   {
    "duration": 7,
    "start_time": "2023-01-22T13:44:08.561Z"
   },
   {
    "duration": 1282,
    "start_time": "2023-01-22T13:44:44.921Z"
   },
   {
    "duration": 116,
    "start_time": "2023-01-22T13:45:06.729Z"
   },
   {
    "duration": 1167,
    "start_time": "2023-01-22T13:45:13.392Z"
   },
   {
    "duration": 1459,
    "start_time": "2023-01-22T13:45:29.707Z"
   },
   {
    "duration": 531,
    "start_time": "2023-01-22T13:45:31.170Z"
   },
   {
    "duration": 852,
    "start_time": "2023-01-22T13:45:31.704Z"
   },
   {
    "duration": 63,
    "start_time": "2023-01-22T13:45:32.559Z"
   },
   {
    "duration": 42,
    "start_time": "2023-01-22T13:45:32.626Z"
   },
   {
    "duration": 368,
    "start_time": "2023-01-22T13:45:32.670Z"
   },
   {
    "duration": 5,
    "start_time": "2023-01-22T13:45:33.040Z"
   },
   {
    "duration": 110,
    "start_time": "2023-01-22T13:45:33.048Z"
   },
   {
    "duration": 46,
    "start_time": "2023-01-22T13:45:33.160Z"
   },
   {
    "duration": 80,
    "start_time": "2023-01-22T13:45:33.209Z"
   },
   {
    "duration": 13,
    "start_time": "2023-01-22T13:45:33.291Z"
   },
   {
    "duration": 11,
    "start_time": "2023-01-22T13:45:33.309Z"
   },
   {
    "duration": 12,
    "start_time": "2023-01-22T13:45:33.323Z"
   },
   {
    "duration": 28,
    "start_time": "2023-01-22T13:45:33.340Z"
   },
   {
    "duration": 1280,
    "start_time": "2023-01-22T13:45:33.371Z"
   },
   {
    "duration": 1379,
    "start_time": "2023-01-22T13:45:34.653Z"
   },
   {
    "duration": 2951,
    "start_time": "2023-01-22T13:45:36.085Z"
   },
   {
    "duration": 1542,
    "start_time": "2023-01-22T13:45:39.039Z"
   },
   {
    "duration": 1671,
    "start_time": "2023-01-22T13:45:40.588Z"
   },
   {
    "duration": 991,
    "start_time": "2023-01-22T13:45:42.262Z"
   },
   {
    "duration": 8,
    "start_time": "2023-01-22T13:45:43.255Z"
   },
   {
    "duration": 99,
    "start_time": "2023-01-22T13:45:43.265Z"
   },
   {
    "duration": 5,
    "start_time": "2023-01-22T13:45:43.366Z"
   },
   {
    "duration": 49,
    "start_time": "2023-01-22T13:45:43.387Z"
   },
   {
    "duration": 1359,
    "start_time": "2023-01-22T13:46:35.256Z"
   },
   {
    "duration": 493,
    "start_time": "2023-01-22T13:46:36.618Z"
   },
   {
    "duration": 844,
    "start_time": "2023-01-22T13:46:37.114Z"
   },
   {
    "duration": 60,
    "start_time": "2023-01-22T13:46:37.960Z"
   },
   {
    "duration": 43,
    "start_time": "2023-01-22T13:46:38.024Z"
   },
   {
    "duration": 279,
    "start_time": "2023-01-22T13:46:38.085Z"
   },
   {
    "duration": 4,
    "start_time": "2023-01-22T13:46:38.366Z"
   },
   {
    "duration": 115,
    "start_time": "2023-01-22T13:46:38.374Z"
   },
   {
    "duration": 36,
    "start_time": "2023-01-22T13:46:38.492Z"
   },
   {
    "duration": 115,
    "start_time": "2023-01-22T13:46:38.531Z"
   },
   {
    "duration": 10,
    "start_time": "2023-01-22T13:46:38.649Z"
   },
   {
    "duration": 25,
    "start_time": "2023-01-22T13:46:38.662Z"
   },
   {
    "duration": 7,
    "start_time": "2023-01-22T13:46:38.690Z"
   },
   {
    "duration": 9,
    "start_time": "2023-01-22T13:46:38.700Z"
   },
   {
    "duration": 1333,
    "start_time": "2023-01-22T13:46:38.712Z"
   },
   {
    "duration": 1155,
    "start_time": "2023-01-22T13:46:40.048Z"
   },
   {
    "duration": 1203,
    "start_time": "2023-01-22T13:46:41.206Z"
   },
   {
    "duration": 969,
    "start_time": "2023-01-22T13:46:42.411Z"
   },
   {
    "duration": 1718,
    "start_time": "2023-01-22T13:46:43.385Z"
   },
   {
    "duration": 1434,
    "start_time": "2023-01-22T13:46:45.105Z"
   },
   {
    "duration": 6,
    "start_time": "2023-01-22T13:46:46.543Z"
   },
   {
    "duration": 162,
    "start_time": "2023-01-22T13:46:46.552Z"
   },
   {
    "duration": 7,
    "start_time": "2023-01-22T13:46:46.716Z"
   },
   {
    "duration": 62,
    "start_time": "2023-01-22T13:46:46.725Z"
   },
   {
    "duration": 1423,
    "start_time": "2023-01-22T13:48:55.139Z"
   },
   {
    "duration": 726,
    "start_time": "2023-01-22T13:48:56.565Z"
   },
   {
    "duration": 2554,
    "start_time": "2023-01-22T13:48:57.294Z"
   },
   {
    "duration": 80,
    "start_time": "2023-01-22T13:48:59.852Z"
   },
   {
    "duration": 66,
    "start_time": "2023-01-22T13:48:59.936Z"
   },
   {
    "duration": 399,
    "start_time": "2023-01-22T13:49:00.006Z"
   },
   {
    "duration": 5,
    "start_time": "2023-01-22T13:49:00.410Z"
   },
   {
    "duration": 116,
    "start_time": "2023-01-22T13:49:00.417Z"
   },
   {
    "duration": 49,
    "start_time": "2023-01-22T13:49:00.537Z"
   },
   {
    "duration": 108,
    "start_time": "2023-01-22T13:49:00.590Z"
   },
   {
    "duration": 11,
    "start_time": "2023-01-22T13:49:00.700Z"
   },
   {
    "duration": 9,
    "start_time": "2023-01-22T13:49:00.718Z"
   },
   {
    "duration": 21,
    "start_time": "2023-01-22T13:49:00.729Z"
   },
   {
    "duration": 11,
    "start_time": "2023-01-22T13:49:00.753Z"
   },
   {
    "duration": 1282,
    "start_time": "2023-01-22T13:49:00.784Z"
   },
   {
    "duration": 1408,
    "start_time": "2023-01-22T13:49:02.069Z"
   },
   {
    "duration": 1309,
    "start_time": "2023-01-22T13:49:03.483Z"
   },
   {
    "duration": 1074,
    "start_time": "2023-01-22T13:49:04.794Z"
   },
   {
    "duration": 1290,
    "start_time": "2023-01-22T13:49:05.871Z"
   },
   {
    "duration": 1310,
    "start_time": "2023-01-22T13:49:07.164Z"
   },
   {
    "duration": 6,
    "start_time": "2023-01-22T13:49:08.484Z"
   },
   {
    "duration": 116,
    "start_time": "2023-01-22T13:49:08.492Z"
   },
   {
    "duration": 6,
    "start_time": "2023-01-22T13:49:08.611Z"
   },
   {
    "duration": 48,
    "start_time": "2023-01-22T13:49:08.619Z"
   },
   {
    "duration": 48,
    "start_time": "2023-01-22T17:20:42.580Z"
   },
   {
    "duration": 1042,
    "start_time": "2023-01-22T17:20:47.747Z"
   },
   {
    "duration": 443,
    "start_time": "2023-01-22T17:20:48.791Z"
   },
   {
    "duration": 3051,
    "start_time": "2023-01-22T17:20:49.235Z"
   },
   {
    "duration": 40,
    "start_time": "2023-01-22T17:20:52.288Z"
   },
   {
    "duration": 36,
    "start_time": "2023-01-22T17:20:52.329Z"
   },
   {
    "duration": 214,
    "start_time": "2023-01-22T17:20:52.367Z"
   },
   {
    "duration": 3,
    "start_time": "2023-01-22T17:20:52.583Z"
   },
   {
    "duration": 85,
    "start_time": "2023-01-22T17:20:52.588Z"
   },
   {
    "duration": 24,
    "start_time": "2023-01-22T17:20:52.674Z"
   },
   {
    "duration": 70,
    "start_time": "2023-01-22T17:20:52.700Z"
   },
   {
    "duration": 5,
    "start_time": "2023-01-22T17:20:52.772Z"
   },
   {
    "duration": 4,
    "start_time": "2023-01-22T17:20:52.779Z"
   },
   {
    "duration": 8,
    "start_time": "2023-01-22T17:20:52.784Z"
   },
   {
    "duration": 9,
    "start_time": "2023-01-22T17:20:52.793Z"
   },
   {
    "duration": 868,
    "start_time": "2023-01-22T17:20:52.803Z"
   },
   {
    "duration": 793,
    "start_time": "2023-01-22T17:20:53.672Z"
   },
   {
    "duration": 859,
    "start_time": "2023-01-22T17:20:54.467Z"
   },
   {
    "duration": 852,
    "start_time": "2023-01-22T17:20:55.328Z"
   },
   {
    "duration": 824,
    "start_time": "2023-01-22T17:20:56.182Z"
   },
   {
    "duration": 746,
    "start_time": "2023-01-22T17:20:57.007Z"
   },
   {
    "duration": 3,
    "start_time": "2023-01-22T17:20:57.755Z"
   },
   {
    "duration": 64,
    "start_time": "2023-01-22T17:20:57.760Z"
   },
   {
    "duration": 4,
    "start_time": "2023-01-22T17:20:57.826Z"
   },
   {
    "duration": 289,
    "start_time": "2023-01-22T17:20:57.832Z"
   },
   {
    "duration": 0,
    "start_time": "2023-01-22T17:20:58.123Z"
   },
   {
    "duration": 3,
    "start_time": "2023-01-22T17:25:02.498Z"
   },
   {
    "duration": 3,
    "start_time": "2023-01-22T17:25:50.011Z"
   },
   {
    "duration": 362,
    "start_time": "2023-01-22T17:25:50.433Z"
   },
   {
    "duration": 3,
    "start_time": "2023-01-22T17:26:03.714Z"
   },
   {
    "duration": 358,
    "start_time": "2023-01-22T17:26:05.346Z"
   },
   {
    "duration": 3,
    "start_time": "2023-01-22T17:26:14.371Z"
   },
   {
    "duration": 268,
    "start_time": "2023-01-22T17:26:14.587Z"
   },
   {
    "duration": 3,
    "start_time": "2023-01-22T17:26:26.186Z"
   },
   {
    "duration": 249,
    "start_time": "2023-01-22T17:26:28.117Z"
   },
   {
    "duration": 478,
    "start_time": "2023-01-22T17:27:06.272Z"
   },
   {
    "duration": 15,
    "start_time": "2023-01-22T17:27:56.339Z"
   },
   {
    "duration": 541,
    "start_time": "2023-01-22T17:28:07.882Z"
   },
   {
    "duration": 411,
    "start_time": "2023-01-22T17:28:16.072Z"
   },
   {
    "duration": 1081,
    "start_time": "2023-01-22T17:29:01.054Z"
   },
   {
    "duration": 296,
    "start_time": "2023-01-22T17:29:02.137Z"
   },
   {
    "duration": 683,
    "start_time": "2023-01-22T17:29:02.434Z"
   },
   {
    "duration": 45,
    "start_time": "2023-01-22T17:29:03.119Z"
   },
   {
    "duration": 28,
    "start_time": "2023-01-22T17:29:03.166Z"
   },
   {
    "duration": 252,
    "start_time": "2023-01-22T17:29:03.196Z"
   },
   {
    "duration": 4,
    "start_time": "2023-01-22T17:29:03.450Z"
   },
   {
    "duration": 95,
    "start_time": "2023-01-22T17:29:03.456Z"
   },
   {
    "duration": 23,
    "start_time": "2023-01-22T17:29:03.552Z"
   },
   {
    "duration": 50,
    "start_time": "2023-01-22T17:29:03.577Z"
   },
   {
    "duration": 23,
    "start_time": "2023-01-22T17:29:03.629Z"
   },
   {
    "duration": 9,
    "start_time": "2023-01-22T17:29:03.653Z"
   },
   {
    "duration": 6,
    "start_time": "2023-01-22T17:29:03.664Z"
   },
   {
    "duration": 7,
    "start_time": "2023-01-22T17:29:03.672Z"
   },
   {
    "duration": 910,
    "start_time": "2023-01-22T17:29:03.681Z"
   },
   {
    "duration": 802,
    "start_time": "2023-01-22T17:29:04.593Z"
   },
   {
    "duration": 916,
    "start_time": "2023-01-22T17:29:05.399Z"
   },
   {
    "duration": 729,
    "start_time": "2023-01-22T17:29:06.317Z"
   },
   {
    "duration": 822,
    "start_time": "2023-01-22T17:29:07.047Z"
   },
   {
    "duration": 739,
    "start_time": "2023-01-22T17:29:07.870Z"
   },
   {
    "duration": 4,
    "start_time": "2023-01-22T17:29:08.611Z"
   },
   {
    "duration": 73,
    "start_time": "2023-01-22T17:29:08.617Z"
   },
   {
    "duration": 3,
    "start_time": "2023-01-22T17:29:08.692Z"
   },
   {
    "duration": 5,
    "start_time": "2023-01-22T17:29:08.696Z"
   },
   {
    "duration": 343,
    "start_time": "2023-01-22T17:29:08.702Z"
   },
   {
    "duration": 496,
    "start_time": "2023-01-22T17:29:09.047Z"
   },
   {
    "duration": 0,
    "start_time": "2023-01-22T17:29:09.544Z"
   },
   {
    "duration": 5,
    "start_time": "2023-01-22T17:31:02.267Z"
   },
   {
    "duration": 5,
    "start_time": "2023-01-22T17:31:34.987Z"
   },
   {
    "duration": 11,
    "start_time": "2023-01-22T17:31:38.370Z"
   },
   {
    "duration": 4,
    "start_time": "2023-01-22T17:31:47.657Z"
   },
   {
    "duration": 249,
    "start_time": "2023-01-22T17:31:48.100Z"
   },
   {
    "duration": 11,
    "start_time": "2023-01-22T17:35:14.882Z"
   },
   {
    "duration": 9,
    "start_time": "2023-01-22T17:35:22.209Z"
   },
   {
    "duration": 6,
    "start_time": "2023-01-22T17:35:33.577Z"
   },
   {
    "duration": 5,
    "start_time": "2023-01-22T17:35:47.700Z"
   },
   {
    "duration": 3,
    "start_time": "2023-01-22T17:37:54.523Z"
   },
   {
    "duration": 371,
    "start_time": "2023-01-22T17:37:55.073Z"
   },
   {
    "duration": 3,
    "start_time": "2023-01-22T17:39:00.081Z"
   },
   {
    "duration": 369,
    "start_time": "2023-01-22T17:39:00.348Z"
   },
   {
    "duration": 4,
    "start_time": "2023-01-22T17:39:24.464Z"
   },
   {
    "duration": 362,
    "start_time": "2023-01-22T17:39:24.682Z"
   },
   {
    "duration": 401,
    "start_time": "2023-01-22T17:46:40.937Z"
   },
   {
    "duration": 1118,
    "start_time": "2023-01-22T17:47:42.914Z"
   },
   {
    "duration": 335,
    "start_time": "2023-01-22T17:47:44.034Z"
   },
   {
    "duration": 745,
    "start_time": "2023-01-22T17:47:44.371Z"
   },
   {
    "duration": 52,
    "start_time": "2023-01-22T17:47:45.118Z"
   },
   {
    "duration": 28,
    "start_time": "2023-01-22T17:47:45.172Z"
   },
   {
    "duration": 282,
    "start_time": "2023-01-22T17:47:45.202Z"
   },
   {
    "duration": 5,
    "start_time": "2023-01-22T17:47:45.486Z"
   },
   {
    "duration": 82,
    "start_time": "2023-01-22T17:47:45.492Z"
   },
   {
    "duration": 24,
    "start_time": "2023-01-22T17:47:45.575Z"
   },
   {
    "duration": 74,
    "start_time": "2023-01-22T17:47:45.602Z"
   },
   {
    "duration": 6,
    "start_time": "2023-01-22T17:47:45.677Z"
   },
   {
    "duration": 5,
    "start_time": "2023-01-22T17:47:45.685Z"
   },
   {
    "duration": 11,
    "start_time": "2023-01-22T17:47:45.691Z"
   },
   {
    "duration": 8,
    "start_time": "2023-01-22T17:47:45.703Z"
   },
   {
    "duration": 989,
    "start_time": "2023-01-22T17:47:45.712Z"
   },
   {
    "duration": 824,
    "start_time": "2023-01-22T17:47:46.704Z"
   },
   {
    "duration": 932,
    "start_time": "2023-01-22T17:47:47.529Z"
   },
   {
    "duration": 781,
    "start_time": "2023-01-22T17:47:48.462Z"
   },
   {
    "duration": 879,
    "start_time": "2023-01-22T17:47:49.245Z"
   },
   {
    "duration": 854,
    "start_time": "2023-01-22T17:47:50.126Z"
   },
   {
    "duration": 4,
    "start_time": "2023-01-22T17:47:50.981Z"
   },
   {
    "duration": 72,
    "start_time": "2023-01-22T17:47:50.986Z"
   },
   {
    "duration": 3,
    "start_time": "2023-01-22T17:47:51.060Z"
   },
   {
    "duration": 7,
    "start_time": "2023-01-22T17:47:51.066Z"
   },
   {
    "duration": 8,
    "start_time": "2023-01-22T17:47:51.075Z"
   },
   {
    "duration": 376,
    "start_time": "2023-01-22T17:47:51.084Z"
   },
   {
    "duration": 499,
    "start_time": "2023-01-22T17:47:51.462Z"
   },
   {
    "duration": 64,
    "start_time": "2023-01-22T17:47:51.964Z"
   },
   {
    "duration": 1029,
    "start_time": "2023-01-22T17:49:14.468Z"
   },
   {
    "duration": 342,
    "start_time": "2023-01-22T17:49:15.500Z"
   },
   {
    "duration": 622,
    "start_time": "2023-01-22T17:49:15.844Z"
   },
   {
    "duration": 39,
    "start_time": "2023-01-22T17:49:16.468Z"
   },
   {
    "duration": 41,
    "start_time": "2023-01-22T17:49:16.509Z"
   },
   {
    "duration": 211,
    "start_time": "2023-01-22T17:49:16.551Z"
   },
   {
    "duration": 4,
    "start_time": "2023-01-22T17:49:16.763Z"
   },
   {
    "duration": 56,
    "start_time": "2023-01-22T17:49:16.768Z"
   },
   {
    "duration": 40,
    "start_time": "2023-01-22T17:49:16.826Z"
   },
   {
    "duration": 51,
    "start_time": "2023-01-22T17:49:16.868Z"
   },
   {
    "duration": 5,
    "start_time": "2023-01-22T17:49:16.920Z"
   },
   {
    "duration": 4,
    "start_time": "2023-01-22T17:49:16.947Z"
   },
   {
    "duration": 8,
    "start_time": "2023-01-22T17:49:16.953Z"
   },
   {
    "duration": 6,
    "start_time": "2023-01-22T17:49:16.963Z"
   },
   {
    "duration": 889,
    "start_time": "2023-01-22T17:49:16.970Z"
   },
   {
    "duration": 766,
    "start_time": "2023-01-22T17:49:17.861Z"
   },
   {
    "duration": 849,
    "start_time": "2023-01-22T17:49:18.629Z"
   },
   {
    "duration": 754,
    "start_time": "2023-01-22T17:49:19.479Z"
   },
   {
    "duration": 873,
    "start_time": "2023-01-22T17:49:20.235Z"
   },
   {
    "duration": 741,
    "start_time": "2023-01-22T17:49:21.110Z"
   },
   {
    "duration": 4,
    "start_time": "2023-01-22T17:49:21.852Z"
   },
   {
    "duration": 65,
    "start_time": "2023-01-22T17:49:21.857Z"
   },
   {
    "duration": 3,
    "start_time": "2023-01-22T17:49:21.924Z"
   },
   {
    "duration": 21,
    "start_time": "2023-01-22T17:49:21.929Z"
   },
   {
    "duration": 8,
    "start_time": "2023-01-22T17:49:21.951Z"
   },
   {
    "duration": 373,
    "start_time": "2023-01-22T17:49:21.960Z"
   },
   {
    "duration": 511,
    "start_time": "2023-01-22T17:49:22.335Z"
   },
   {
    "duration": 84,
    "start_time": "2023-01-22T17:49:22.849Z"
   },
   {
    "duration": 114,
    "start_time": "2023-01-22T18:06:32.315Z"
   },
   {
    "duration": 9,
    "start_time": "2023-01-22T18:08:06.574Z"
   },
   {
    "duration": 10,
    "start_time": "2023-01-22T18:08:35.475Z"
   },
   {
    "duration": 7,
    "start_time": "2023-01-22T18:09:21.803Z"
   },
   {
    "duration": 1174,
    "start_time": "2023-01-22T18:09:22.491Z"
   },
   {
    "duration": 1066,
    "start_time": "2023-01-22T18:09:53.075Z"
   },
   {
    "duration": 309,
    "start_time": "2023-01-22T18:09:54.143Z"
   },
   {
    "duration": 737,
    "start_time": "2023-01-22T18:09:54.454Z"
   },
   {
    "duration": 71,
    "start_time": "2023-01-22T18:09:55.194Z"
   },
   {
    "duration": 56,
    "start_time": "2023-01-22T18:09:55.267Z"
   },
   {
    "duration": 289,
    "start_time": "2023-01-22T18:09:55.325Z"
   },
   {
    "duration": 6,
    "start_time": "2023-01-22T18:09:55.616Z"
   },
   {
    "duration": 93,
    "start_time": "2023-01-22T18:09:55.624Z"
   },
   {
    "duration": 49,
    "start_time": "2023-01-22T18:09:55.719Z"
   },
   {
    "duration": 69,
    "start_time": "2023-01-22T18:09:55.769Z"
   },
   {
    "duration": 20,
    "start_time": "2023-01-22T18:09:55.840Z"
   },
   {
    "duration": 14,
    "start_time": "2023-01-22T18:09:55.869Z"
   },
   {
    "duration": 9,
    "start_time": "2023-01-22T18:09:55.885Z"
   },
   {
    "duration": 13,
    "start_time": "2023-01-22T18:09:55.898Z"
   },
   {
    "duration": 1030,
    "start_time": "2023-01-22T18:09:55.914Z"
   },
   {
    "duration": 830,
    "start_time": "2023-01-22T18:09:56.946Z"
   },
   {
    "duration": 911,
    "start_time": "2023-01-22T18:09:57.777Z"
   },
   {
    "duration": 792,
    "start_time": "2023-01-22T18:09:58.689Z"
   },
   {
    "duration": 912,
    "start_time": "2023-01-22T18:09:59.483Z"
   },
   {
    "duration": 790,
    "start_time": "2023-01-22T18:10:00.396Z"
   },
   {
    "duration": 4,
    "start_time": "2023-01-22T18:10:01.188Z"
   },
   {
    "duration": 76,
    "start_time": "2023-01-22T18:10:01.193Z"
   },
   {
    "duration": 4,
    "start_time": "2023-01-22T18:10:01.270Z"
   },
   {
    "duration": 16,
    "start_time": "2023-01-22T18:10:01.275Z"
   },
   {
    "duration": 7,
    "start_time": "2023-01-22T18:10:01.292Z"
   },
   {
    "duration": 471,
    "start_time": "2023-01-22T18:10:01.300Z"
   },
   {
    "duration": 592,
    "start_time": "2023-01-22T18:10:01.773Z"
   },
   {
    "duration": 8,
    "start_time": "2023-01-22T18:10:02.367Z"
   },
   {
    "duration": 1209,
    "start_time": "2023-01-22T18:10:02.377Z"
   },
   {
    "duration": 80,
    "start_time": "2023-01-22T18:10:03.588Z"
   },
   {
    "duration": 1099,
    "start_time": "2023-01-22T18:10:55.038Z"
   },
   {
    "duration": 342,
    "start_time": "2023-01-22T18:10:56.141Z"
   },
   {
    "duration": 704,
    "start_time": "2023-01-22T18:10:56.485Z"
   },
   {
    "duration": 38,
    "start_time": "2023-01-22T18:10:57.192Z"
   },
   {
    "duration": 49,
    "start_time": "2023-01-22T18:10:57.231Z"
   },
   {
    "duration": 233,
    "start_time": "2023-01-22T18:10:57.282Z"
   },
   {
    "duration": 4,
    "start_time": "2023-01-22T18:10:57.516Z"
   },
   {
    "duration": 67,
    "start_time": "2023-01-22T18:10:57.521Z"
   },
   {
    "duration": 24,
    "start_time": "2023-01-22T18:10:57.589Z"
   },
   {
    "duration": 73,
    "start_time": "2023-01-22T18:10:57.616Z"
   },
   {
    "duration": 6,
    "start_time": "2023-01-22T18:10:57.690Z"
   },
   {
    "duration": 5,
    "start_time": "2023-01-22T18:10:57.698Z"
   },
   {
    "duration": 9,
    "start_time": "2023-01-22T18:10:57.704Z"
   },
   {
    "duration": 11,
    "start_time": "2023-01-22T18:10:57.714Z"
   },
   {
    "duration": 967,
    "start_time": "2023-01-22T18:10:57.726Z"
   },
   {
    "duration": 820,
    "start_time": "2023-01-22T18:10:58.695Z"
   },
   {
    "duration": 922,
    "start_time": "2023-01-22T18:10:59.517Z"
   },
   {
    "duration": 822,
    "start_time": "2023-01-22T18:11:00.440Z"
   },
   {
    "duration": 948,
    "start_time": "2023-01-22T18:11:01.264Z"
   },
   {
    "duration": 871,
    "start_time": "2023-01-22T18:11:02.214Z"
   },
   {
    "duration": 4,
    "start_time": "2023-01-22T18:11:03.087Z"
   },
   {
    "duration": 82,
    "start_time": "2023-01-22T18:11:03.092Z"
   },
   {
    "duration": 5,
    "start_time": "2023-01-22T18:11:03.176Z"
   },
   {
    "duration": 7,
    "start_time": "2023-01-22T18:11:03.182Z"
   },
   {
    "duration": 11,
    "start_time": "2023-01-22T18:11:03.190Z"
   },
   {
    "duration": 462,
    "start_time": "2023-01-22T18:11:03.203Z"
   },
   {
    "duration": 612,
    "start_time": "2023-01-22T18:11:03.669Z"
   },
   {
    "duration": 9,
    "start_time": "2023-01-22T18:11:04.285Z"
   },
   {
    "duration": 1377,
    "start_time": "2023-01-22T18:11:04.296Z"
   },
   {
    "duration": 69,
    "start_time": "2023-01-22T18:11:05.675Z"
   },
   {
    "duration": 1081,
    "start_time": "2023-01-22T18:11:19.117Z"
   },
   {
    "duration": 325,
    "start_time": "2023-01-22T18:11:20.200Z"
   },
   {
    "duration": 734,
    "start_time": "2023-01-22T18:11:20.527Z"
   },
   {
    "duration": 40,
    "start_time": "2023-01-22T18:11:21.269Z"
   },
   {
    "duration": 40,
    "start_time": "2023-01-22T18:11:21.311Z"
   },
   {
    "duration": 225,
    "start_time": "2023-01-22T18:11:21.353Z"
   },
   {
    "duration": 3,
    "start_time": "2023-01-22T18:11:21.580Z"
   },
   {
    "duration": 82,
    "start_time": "2023-01-22T18:11:21.585Z"
   },
   {
    "duration": 23,
    "start_time": "2023-01-22T18:11:21.669Z"
   },
   {
    "duration": 69,
    "start_time": "2023-01-22T18:11:21.694Z"
   },
   {
    "duration": 5,
    "start_time": "2023-01-22T18:11:21.765Z"
   },
   {
    "duration": 13,
    "start_time": "2023-01-22T18:11:21.771Z"
   },
   {
    "duration": 18,
    "start_time": "2023-01-22T18:11:21.786Z"
   },
   {
    "duration": 18,
    "start_time": "2023-01-22T18:11:21.805Z"
   },
   {
    "duration": 913,
    "start_time": "2023-01-22T18:11:21.824Z"
   },
   {
    "duration": 899,
    "start_time": "2023-01-22T18:11:22.739Z"
   },
   {
    "duration": 1082,
    "start_time": "2023-01-22T18:11:23.640Z"
   },
   {
    "duration": 901,
    "start_time": "2023-01-22T18:11:24.724Z"
   },
   {
    "duration": 1012,
    "start_time": "2023-01-22T18:11:25.628Z"
   },
   {
    "duration": 778,
    "start_time": "2023-01-22T18:11:26.642Z"
   },
   {
    "duration": 4,
    "start_time": "2023-01-22T18:11:27.421Z"
   },
   {
    "duration": 77,
    "start_time": "2023-01-22T18:11:27.427Z"
   },
   {
    "duration": 4,
    "start_time": "2023-01-22T18:11:27.505Z"
   },
   {
    "duration": 7,
    "start_time": "2023-01-22T18:11:27.510Z"
   },
   {
    "duration": 6,
    "start_time": "2023-01-22T18:11:27.518Z"
   },
   {
    "duration": 437,
    "start_time": "2023-01-22T18:11:27.526Z"
   },
   {
    "duration": 642,
    "start_time": "2023-01-22T18:11:27.968Z"
   },
   {
    "duration": 7,
    "start_time": "2023-01-22T18:11:28.614Z"
   },
   {
    "duration": 1334,
    "start_time": "2023-01-22T18:11:28.623Z"
   },
   {
    "duration": 77,
    "start_time": "2023-01-22T18:11:29.960Z"
   },
   {
    "duration": 7,
    "start_time": "2023-01-22T18:11:58.028Z"
   },
   {
    "duration": 1100,
    "start_time": "2023-01-22T18:11:58.532Z"
   },
   {
    "duration": 1067,
    "start_time": "2023-01-22T18:12:17.094Z"
   },
   {
    "duration": 981,
    "start_time": "2023-01-22T18:12:49.331Z"
   },
   {
    "duration": 1119,
    "start_time": "2023-01-22T18:12:58.884Z"
   },
   {
    "duration": 1141,
    "start_time": "2023-01-22T18:13:14.843Z"
   },
   {
    "duration": 558,
    "start_time": "2023-01-22T18:13:44.035Z"
   },
   {
    "duration": 1314,
    "start_time": "2023-01-22T18:13:59.404Z"
   },
   {
    "duration": 108,
    "start_time": "2023-01-22T18:19:32.011Z"
   },
   {
    "duration": 21,
    "start_time": "2023-01-22T18:19:35.997Z"
   },
   {
    "duration": 17,
    "start_time": "2023-01-22T18:20:22.101Z"
   },
   {
    "duration": 1084,
    "start_time": "2023-01-22T18:20:34.239Z"
   },
   {
    "duration": 382,
    "start_time": "2023-01-22T18:20:35.325Z"
   },
   {
    "duration": 761,
    "start_time": "2023-01-22T18:20:35.709Z"
   },
   {
    "duration": 43,
    "start_time": "2023-01-22T18:20:36.471Z"
   },
   {
    "duration": 53,
    "start_time": "2023-01-22T18:20:36.516Z"
   },
   {
    "duration": 274,
    "start_time": "2023-01-22T18:20:36.571Z"
   },
   {
    "duration": 6,
    "start_time": "2023-01-22T18:20:36.849Z"
   },
   {
    "duration": 108,
    "start_time": "2023-01-22T18:20:36.860Z"
   },
   {
    "duration": 23,
    "start_time": "2023-01-22T18:20:36.970Z"
   },
   {
    "duration": 81,
    "start_time": "2023-01-22T18:20:36.995Z"
   },
   {
    "duration": 8,
    "start_time": "2023-01-22T18:20:37.078Z"
   },
   {
    "duration": 8,
    "start_time": "2023-01-22T18:20:37.088Z"
   },
   {
    "duration": 20,
    "start_time": "2023-01-22T18:20:37.098Z"
   },
   {
    "duration": 10,
    "start_time": "2023-01-22T18:20:37.122Z"
   },
   {
    "duration": 1099,
    "start_time": "2023-01-22T18:20:37.135Z"
   },
   {
    "duration": 949,
    "start_time": "2023-01-22T18:20:38.235Z"
   },
   {
    "duration": 1027,
    "start_time": "2023-01-22T18:20:39.186Z"
   },
   {
    "duration": 910,
    "start_time": "2023-01-22T18:20:40.215Z"
   },
   {
    "duration": 1061,
    "start_time": "2023-01-22T18:20:41.127Z"
   },
   {
    "duration": 898,
    "start_time": "2023-01-22T18:20:42.190Z"
   },
   {
    "duration": 4,
    "start_time": "2023-01-22T18:20:43.089Z"
   },
   {
    "duration": 83,
    "start_time": "2023-01-22T18:20:43.094Z"
   },
   {
    "duration": 4,
    "start_time": "2023-01-22T18:20:43.179Z"
   },
   {
    "duration": 6,
    "start_time": "2023-01-22T18:20:43.185Z"
   },
   {
    "duration": 11,
    "start_time": "2023-01-22T18:20:43.192Z"
   },
   {
    "duration": 436,
    "start_time": "2023-01-22T18:20:43.204Z"
   },
   {
    "duration": 642,
    "start_time": "2023-01-22T18:20:43.642Z"
   },
   {
    "duration": 6,
    "start_time": "2023-01-22T18:20:44.286Z"
   },
   {
    "duration": 1351,
    "start_time": "2023-01-22T18:20:44.294Z"
   },
   {
    "duration": 141,
    "start_time": "2023-01-22T18:20:45.647Z"
   },
   {
    "duration": 44,
    "start_time": "2023-01-22T18:20:49.435Z"
   },
   {
    "duration": 17,
    "start_time": "2023-01-22T18:21:33.149Z"
   },
   {
    "duration": 1079,
    "start_time": "2023-01-22T18:21:43.578Z"
   },
   {
    "duration": 325,
    "start_time": "2023-01-22T18:21:44.661Z"
   },
   {
    "duration": 846,
    "start_time": "2023-01-22T18:21:44.988Z"
   },
   {
    "duration": 62,
    "start_time": "2023-01-22T18:21:45.835Z"
   },
   {
    "duration": 48,
    "start_time": "2023-01-22T18:21:45.900Z"
   },
   {
    "duration": 251,
    "start_time": "2023-01-22T18:21:45.952Z"
   },
   {
    "duration": 4,
    "start_time": "2023-01-22T18:21:46.205Z"
   },
   {
    "duration": 80,
    "start_time": "2023-01-22T18:21:46.212Z"
   },
   {
    "duration": 25,
    "start_time": "2023-01-22T18:21:46.294Z"
   },
   {
    "duration": 74,
    "start_time": "2023-01-22T18:21:46.321Z"
   },
   {
    "duration": 7,
    "start_time": "2023-01-22T18:21:46.397Z"
   },
   {
    "duration": 9,
    "start_time": "2023-01-22T18:21:46.406Z"
   },
   {
    "duration": 5,
    "start_time": "2023-01-22T18:21:46.417Z"
   },
   {
    "duration": 18,
    "start_time": "2023-01-22T18:21:46.448Z"
   },
   {
    "duration": 1028,
    "start_time": "2023-01-22T18:21:46.470Z"
   },
   {
    "duration": 911,
    "start_time": "2023-01-22T18:21:47.501Z"
   },
   {
    "duration": 956,
    "start_time": "2023-01-22T18:21:48.413Z"
   },
   {
    "duration": 930,
    "start_time": "2023-01-22T18:21:49.371Z"
   },
   {
    "duration": 973,
    "start_time": "2023-01-22T18:21:50.303Z"
   },
   {
    "duration": 852,
    "start_time": "2023-01-22T18:21:51.278Z"
   },
   {
    "duration": 4,
    "start_time": "2023-01-22T18:21:52.132Z"
   },
   {
    "duration": 86,
    "start_time": "2023-01-22T18:21:52.137Z"
   },
   {
    "duration": 5,
    "start_time": "2023-01-22T18:21:52.225Z"
   },
   {
    "duration": 10,
    "start_time": "2023-01-22T18:21:52.232Z"
   },
   {
    "duration": 9,
    "start_time": "2023-01-22T18:21:52.244Z"
   },
   {
    "duration": 509,
    "start_time": "2023-01-22T18:21:52.254Z"
   },
   {
    "duration": 488,
    "start_time": "2023-01-22T18:21:52.765Z"
   },
   {
    "duration": 10,
    "start_time": "2023-01-22T18:21:53.255Z"
   },
   {
    "duration": 1233,
    "start_time": "2023-01-22T18:21:53.270Z"
   },
   {
    "duration": 19,
    "start_time": "2023-01-22T18:21:54.505Z"
   },
   {
    "duration": 1255,
    "start_time": "2023-01-22T18:23:03.633Z"
   },
   {
    "duration": 409,
    "start_time": "2023-01-22T18:23:04.892Z"
   },
   {
    "duration": 1003,
    "start_time": "2023-01-22T18:23:05.303Z"
   },
   {
    "duration": 57,
    "start_time": "2023-01-22T18:23:06.309Z"
   },
   {
    "duration": 40,
    "start_time": "2023-01-22T18:23:06.376Z"
   },
   {
    "duration": 277,
    "start_time": "2023-01-22T18:23:06.418Z"
   },
   {
    "duration": 4,
    "start_time": "2023-01-22T18:23:06.696Z"
   },
   {
    "duration": 89,
    "start_time": "2023-01-22T18:23:06.702Z"
   },
   {
    "duration": 29,
    "start_time": "2023-01-22T18:23:06.796Z"
   },
   {
    "duration": 87,
    "start_time": "2023-01-22T18:23:06.828Z"
   },
   {
    "duration": 5,
    "start_time": "2023-01-22T18:23:06.917Z"
   },
   {
    "duration": 11,
    "start_time": "2023-01-22T18:23:06.923Z"
   },
   {
    "duration": 16,
    "start_time": "2023-01-22T18:23:06.936Z"
   },
   {
    "duration": 47,
    "start_time": "2023-01-22T18:23:06.954Z"
   },
   {
    "duration": 1131,
    "start_time": "2023-01-22T18:23:07.003Z"
   },
   {
    "duration": 983,
    "start_time": "2023-01-22T18:23:08.136Z"
   },
   {
    "duration": 1065,
    "start_time": "2023-01-22T18:23:09.121Z"
   },
   {
    "duration": 1027,
    "start_time": "2023-01-22T18:23:10.188Z"
   },
   {
    "duration": 1117,
    "start_time": "2023-01-22T18:23:11.217Z"
   },
   {
    "duration": 1084,
    "start_time": "2023-01-22T18:23:12.336Z"
   },
   {
    "duration": 5,
    "start_time": "2023-01-22T18:23:13.421Z"
   },
   {
    "duration": 97,
    "start_time": "2023-01-22T18:23:13.427Z"
   },
   {
    "duration": 5,
    "start_time": "2023-01-22T18:23:13.528Z"
   },
   {
    "duration": 23,
    "start_time": "2023-01-22T18:23:13.534Z"
   },
   {
    "duration": 51,
    "start_time": "2023-01-22T18:23:13.558Z"
   },
   {
    "duration": 605,
    "start_time": "2023-01-22T18:23:13.611Z"
   },
   {
    "duration": 747,
    "start_time": "2023-01-22T18:23:14.219Z"
   },
   {
    "duration": 13,
    "start_time": "2023-01-22T18:23:14.971Z"
   },
   {
    "duration": 1733,
    "start_time": "2023-01-22T18:23:14.986Z"
   },
   {
    "duration": 22,
    "start_time": "2023-01-22T18:23:16.722Z"
   },
   {
    "duration": 10,
    "start_time": "2023-01-22T18:24:28.377Z"
   },
   {
    "duration": 126,
    "start_time": "2023-01-22T18:24:40.073Z"
   },
   {
    "duration": 1261,
    "start_time": "2023-01-22T18:24:43.708Z"
   },
   {
    "duration": 404,
    "start_time": "2023-01-22T18:24:44.972Z"
   },
   {
    "duration": 975,
    "start_time": "2023-01-22T18:24:45.379Z"
   },
   {
    "duration": 54,
    "start_time": "2023-01-22T18:24:46.356Z"
   },
   {
    "duration": 47,
    "start_time": "2023-01-22T18:24:46.412Z"
   },
   {
    "duration": 263,
    "start_time": "2023-01-22T18:24:46.461Z"
   },
   {
    "duration": 4,
    "start_time": "2023-01-22T18:24:46.726Z"
   },
   {
    "duration": 128,
    "start_time": "2023-01-22T18:24:46.732Z"
   },
   {
    "duration": 32,
    "start_time": "2023-01-22T18:24:46.862Z"
   },
   {
    "duration": 61,
    "start_time": "2023-01-22T18:24:46.897Z"
   },
   {
    "duration": 8,
    "start_time": "2023-01-22T18:24:46.959Z"
   },
   {
    "duration": 45,
    "start_time": "2023-01-22T18:24:46.969Z"
   },
   {
    "duration": 25,
    "start_time": "2023-01-22T18:24:47.016Z"
   },
   {
    "duration": 47,
    "start_time": "2023-01-22T18:24:47.043Z"
   },
   {
    "duration": 1144,
    "start_time": "2023-01-22T18:24:47.092Z"
   },
   {
    "duration": 1068,
    "start_time": "2023-01-22T18:24:48.237Z"
   },
   {
    "duration": 1082,
    "start_time": "2023-01-22T18:24:49.307Z"
   },
   {
    "duration": 959,
    "start_time": "2023-01-22T18:24:50.391Z"
   },
   {
    "duration": 1015,
    "start_time": "2023-01-22T18:24:51.351Z"
   },
   {
    "duration": 931,
    "start_time": "2023-01-22T18:24:52.369Z"
   },
   {
    "duration": 4,
    "start_time": "2023-01-22T18:24:53.301Z"
   },
   {
    "duration": 92,
    "start_time": "2023-01-22T18:24:53.307Z"
   },
   {
    "duration": 4,
    "start_time": "2023-01-22T18:24:53.401Z"
   },
   {
    "duration": 8,
    "start_time": "2023-01-22T18:24:53.407Z"
   },
   {
    "duration": 7,
    "start_time": "2023-01-22T18:24:53.416Z"
   },
   {
    "duration": 507,
    "start_time": "2023-01-22T18:24:53.424Z"
   },
   {
    "duration": 568,
    "start_time": "2023-01-22T18:24:53.933Z"
   },
   {
    "duration": 9,
    "start_time": "2023-01-22T18:24:54.504Z"
   },
   {
    "duration": 1515,
    "start_time": "2023-01-22T18:24:54.515Z"
   },
   {
    "duration": 22,
    "start_time": "2023-01-22T18:24:56.032Z"
   },
   {
    "duration": 37,
    "start_time": "2023-01-22T18:24:56.056Z"
   },
   {
    "duration": 13470,
    "start_time": "2023-01-22T18:28:59.884Z"
   },
   {
    "duration": 128,
    "start_time": "2023-01-22T18:29:36.675Z"
   },
   {
    "duration": 25,
    "start_time": "2023-01-22T18:53:44.842Z"
   },
   {
    "duration": 1254,
    "start_time": "2023-01-22T18:54:50.945Z"
   },
   {
    "duration": 15,
    "start_time": "2023-01-22T18:56:56.873Z"
   },
   {
    "duration": 1009,
    "start_time": "2023-01-22T18:57:25.996Z"
   },
   {
    "duration": 297,
    "start_time": "2023-01-22T18:57:27.007Z"
   },
   {
    "duration": 706,
    "start_time": "2023-01-22T18:57:27.305Z"
   },
   {
    "duration": 46,
    "start_time": "2023-01-22T18:57:28.013Z"
   },
   {
    "duration": 27,
    "start_time": "2023-01-22T18:57:28.061Z"
   },
   {
    "duration": 231,
    "start_time": "2023-01-22T18:57:28.090Z"
   },
   {
    "duration": 3,
    "start_time": "2023-01-22T18:57:28.323Z"
   },
   {
    "duration": 141,
    "start_time": "2023-01-22T18:57:28.328Z"
   },
   {
    "duration": 28,
    "start_time": "2023-01-22T18:57:28.470Z"
   },
   {
    "duration": 63,
    "start_time": "2023-01-22T18:57:28.501Z"
   },
   {
    "duration": 5,
    "start_time": "2023-01-22T18:57:28.565Z"
   },
   {
    "duration": 20,
    "start_time": "2023-01-22T18:57:28.571Z"
   },
   {
    "duration": 14,
    "start_time": "2023-01-22T18:57:28.592Z"
   },
   {
    "duration": 14,
    "start_time": "2023-01-22T18:57:28.607Z"
   },
   {
    "duration": 885,
    "start_time": "2023-01-22T18:57:28.623Z"
   },
   {
    "duration": 799,
    "start_time": "2023-01-22T18:57:29.510Z"
   },
   {
    "duration": 916,
    "start_time": "2023-01-22T18:57:30.310Z"
   },
   {
    "duration": 799,
    "start_time": "2023-01-22T18:57:31.228Z"
   },
   {
    "duration": 896,
    "start_time": "2023-01-22T18:57:32.029Z"
   },
   {
    "duration": 775,
    "start_time": "2023-01-22T18:57:32.926Z"
   },
   {
    "duration": 4,
    "start_time": "2023-01-22T18:57:33.703Z"
   },
   {
    "duration": 76,
    "start_time": "2023-01-22T18:57:33.708Z"
   },
   {
    "duration": 3,
    "start_time": "2023-01-22T18:57:33.786Z"
   },
   {
    "duration": 14,
    "start_time": "2023-01-22T18:57:33.790Z"
   },
   {
    "duration": 16,
    "start_time": "2023-01-22T18:57:33.805Z"
   },
   {
    "duration": 437,
    "start_time": "2023-01-22T18:57:33.823Z"
   },
   {
    "duration": 483,
    "start_time": "2023-01-22T18:57:34.262Z"
   },
   {
    "duration": 12,
    "start_time": "2023-01-22T18:57:34.749Z"
   },
   {
    "duration": 1250,
    "start_time": "2023-01-22T18:57:34.763Z"
   },
   {
    "duration": 16,
    "start_time": "2023-01-22T18:57:36.014Z"
   },
   {
    "duration": 21,
    "start_time": "2023-01-22T18:57:36.032Z"
   },
   {
    "duration": 117,
    "start_time": "2023-01-22T18:57:36.055Z"
   },
   {
    "duration": 1131,
    "start_time": "2023-01-22T18:58:58.000Z"
   },
   {
    "duration": 381,
    "start_time": "2023-01-22T18:58:59.133Z"
   },
   {
    "duration": 857,
    "start_time": "2023-01-22T18:58:59.516Z"
   },
   {
    "duration": 44,
    "start_time": "2023-01-22T18:59:00.376Z"
   },
   {
    "duration": 52,
    "start_time": "2023-01-22T18:59:00.422Z"
   },
   {
    "duration": 270,
    "start_time": "2023-01-22T18:59:00.475Z"
   },
   {
    "duration": 4,
    "start_time": "2023-01-22T18:59:00.749Z"
   },
   {
    "duration": 117,
    "start_time": "2023-01-22T18:59:00.755Z"
   },
   {
    "duration": 28,
    "start_time": "2023-01-22T18:59:00.873Z"
   },
   {
    "duration": 79,
    "start_time": "2023-01-22T18:59:00.903Z"
   },
   {
    "duration": 9,
    "start_time": "2023-01-22T18:59:00.985Z"
   },
   {
    "duration": 17,
    "start_time": "2023-01-22T18:59:00.996Z"
   },
   {
    "duration": 30,
    "start_time": "2023-01-22T18:59:01.015Z"
   },
   {
    "duration": 55,
    "start_time": "2023-01-22T18:59:01.047Z"
   },
   {
    "duration": 1049,
    "start_time": "2023-01-22T18:59:01.104Z"
   },
   {
    "duration": 1045,
    "start_time": "2023-01-22T18:59:02.155Z"
   },
   {
    "duration": 1031,
    "start_time": "2023-01-22T18:59:03.201Z"
   },
   {
    "duration": 885,
    "start_time": "2023-01-22T18:59:04.233Z"
   },
   {
    "duration": 1159,
    "start_time": "2023-01-22T18:59:05.120Z"
   },
   {
    "duration": 865,
    "start_time": "2023-01-22T18:59:06.283Z"
   },
   {
    "duration": 5,
    "start_time": "2023-01-22T18:59:07.152Z"
   },
   {
    "duration": 112,
    "start_time": "2023-01-22T18:59:07.159Z"
   },
   {
    "duration": 5,
    "start_time": "2023-01-22T18:59:07.274Z"
   },
   {
    "duration": 26,
    "start_time": "2023-01-22T18:59:07.281Z"
   },
   {
    "duration": 4,
    "start_time": "2023-01-22T18:59:07.309Z"
   },
   {
    "duration": 415,
    "start_time": "2023-01-22T18:59:07.315Z"
   },
   {
    "duration": 659,
    "start_time": "2023-01-22T18:59:07.732Z"
   },
   {
    "duration": 7,
    "start_time": "2023-01-22T18:59:08.396Z"
   },
   {
    "duration": 1350,
    "start_time": "2023-01-22T18:59:08.404Z"
   },
   {
    "duration": 17,
    "start_time": "2023-01-22T18:59:09.755Z"
   },
   {
    "duration": 33,
    "start_time": "2023-01-22T18:59:09.774Z"
   },
   {
    "duration": 11,
    "start_time": "2023-01-22T18:59:09.808Z"
   },
   {
    "duration": 4,
    "start_time": "2023-01-22T19:00:55.005Z"
   },
   {
    "duration": 4,
    "start_time": "2023-01-22T19:00:55.419Z"
   },
   {
    "duration": 5,
    "start_time": "2023-01-22T19:01:32.857Z"
   },
   {
    "duration": 1052,
    "start_time": "2023-01-22T19:02:18.710Z"
   },
   {
    "duration": 298,
    "start_time": "2023-01-22T19:02:19.768Z"
   },
   {
    "duration": 850,
    "start_time": "2023-01-22T19:02:20.070Z"
   },
   {
    "duration": 64,
    "start_time": "2023-01-22T19:02:20.922Z"
   },
   {
    "duration": 28,
    "start_time": "2023-01-22T19:02:20.988Z"
   },
   {
    "duration": 239,
    "start_time": "2023-01-22T19:02:21.018Z"
   },
   {
    "duration": 8,
    "start_time": "2023-01-22T19:02:21.259Z"
   },
   {
    "duration": 100,
    "start_time": "2023-01-22T19:02:21.269Z"
   },
   {
    "duration": 30,
    "start_time": "2023-01-22T19:02:21.370Z"
   },
   {
    "duration": 70,
    "start_time": "2023-01-22T19:02:21.403Z"
   },
   {
    "duration": 7,
    "start_time": "2023-01-22T19:02:21.475Z"
   },
   {
    "duration": 10,
    "start_time": "2023-01-22T19:02:21.484Z"
   },
   {
    "duration": 13,
    "start_time": "2023-01-22T19:02:21.496Z"
   },
   {
    "duration": 17,
    "start_time": "2023-01-22T19:02:21.511Z"
   },
   {
    "duration": 963,
    "start_time": "2023-01-22T19:02:21.529Z"
   },
   {
    "duration": 892,
    "start_time": "2023-01-22T19:02:22.494Z"
   },
   {
    "duration": 1028,
    "start_time": "2023-01-22T19:02:23.388Z"
   },
   {
    "duration": 808,
    "start_time": "2023-01-22T19:02:24.418Z"
   },
   {
    "duration": 1066,
    "start_time": "2023-01-22T19:02:25.228Z"
   },
   {
    "duration": 816,
    "start_time": "2023-01-22T19:02:26.296Z"
   },
   {
    "duration": 3,
    "start_time": "2023-01-22T19:02:27.113Z"
   },
   {
    "duration": 74,
    "start_time": "2023-01-22T19:02:27.118Z"
   },
   {
    "duration": 4,
    "start_time": "2023-01-22T19:02:27.193Z"
   },
   {
    "duration": 12,
    "start_time": "2023-01-22T19:02:27.199Z"
   },
   {
    "duration": 10,
    "start_time": "2023-01-22T19:02:27.213Z"
   },
   {
    "duration": 442,
    "start_time": "2023-01-22T19:02:27.224Z"
   },
   {
    "duration": 498,
    "start_time": "2023-01-22T19:02:27.667Z"
   },
   {
    "duration": 9,
    "start_time": "2023-01-22T19:02:28.168Z"
   },
   {
    "duration": 1203,
    "start_time": "2023-01-22T19:02:28.179Z"
   },
   {
    "duration": 14,
    "start_time": "2023-01-22T19:02:29.384Z"
   },
   {
    "duration": 9,
    "start_time": "2023-01-22T19:02:29.400Z"
   },
   {
    "duration": 7,
    "start_time": "2023-01-22T19:02:29.411Z"
   },
   {
    "duration": 5,
    "start_time": "2023-01-22T19:02:29.419Z"
   },
   {
    "duration": 40,
    "start_time": "2023-01-22T19:02:29.426Z"
   },
   {
    "duration": 5,
    "start_time": "2023-01-22T19:02:29.468Z"
   },
   {
    "duration": 6,
    "start_time": "2023-01-22T19:02:29.475Z"
   },
   {
    "duration": 29,
    "start_time": "2023-01-22T19:04:36.312Z"
   },
   {
    "duration": 126,
    "start_time": "2023-01-22T19:10:03.534Z"
   },
   {
    "duration": 7,
    "start_time": "2023-01-22T19:10:05.377Z"
   },
   {
    "duration": 13,
    "start_time": "2023-01-22T19:10:07.231Z"
   },
   {
    "duration": 1204,
    "start_time": "2023-01-22T19:10:59.525Z"
   },
   {
    "duration": 355,
    "start_time": "2023-01-22T19:11:00.731Z"
   },
   {
    "duration": 816,
    "start_time": "2023-01-22T19:11:01.087Z"
   },
   {
    "duration": 66,
    "start_time": "2023-01-22T19:11:01.906Z"
   },
   {
    "duration": 45,
    "start_time": "2023-01-22T19:11:01.974Z"
   },
   {
    "duration": 315,
    "start_time": "2023-01-22T19:11:02.021Z"
   },
   {
    "duration": 12,
    "start_time": "2023-01-22T19:11:02.339Z"
   },
   {
    "duration": 115,
    "start_time": "2023-01-22T19:11:02.352Z"
   },
   {
    "duration": 31,
    "start_time": "2023-01-22T19:11:02.468Z"
   },
   {
    "duration": 66,
    "start_time": "2023-01-22T19:11:02.504Z"
   },
   {
    "duration": 6,
    "start_time": "2023-01-22T19:11:02.572Z"
   },
   {
    "duration": 43,
    "start_time": "2023-01-22T19:11:02.579Z"
   },
   {
    "duration": 14,
    "start_time": "2023-01-22T19:11:02.624Z"
   },
   {
    "duration": 9,
    "start_time": "2023-01-22T19:11:02.640Z"
   },
   {
    "duration": 1082,
    "start_time": "2023-01-22T19:11:02.650Z"
   },
   {
    "duration": 990,
    "start_time": "2023-01-22T19:11:03.734Z"
   },
   {
    "duration": 1079,
    "start_time": "2023-01-22T19:11:04.726Z"
   },
   {
    "duration": 887,
    "start_time": "2023-01-22T19:11:05.806Z"
   },
   {
    "duration": 987,
    "start_time": "2023-01-22T19:11:06.698Z"
   },
   {
    "duration": 875,
    "start_time": "2023-01-22T19:11:07.688Z"
   },
   {
    "duration": 5,
    "start_time": "2023-01-22T19:11:08.565Z"
   },
   {
    "duration": 87,
    "start_time": "2023-01-22T19:11:08.571Z"
   },
   {
    "duration": 8,
    "start_time": "2023-01-22T19:11:08.663Z"
   },
   {
    "duration": 23,
    "start_time": "2023-01-22T19:11:08.672Z"
   },
   {
    "duration": 7,
    "start_time": "2023-01-22T19:11:08.697Z"
   },
   {
    "duration": 574,
    "start_time": "2023-01-22T19:11:08.706Z"
   },
   {
    "duration": 502,
    "start_time": "2023-01-22T19:11:09.281Z"
   },
   {
    "duration": 8,
    "start_time": "2023-01-22T19:11:09.788Z"
   },
   {
    "duration": 1315,
    "start_time": "2023-01-22T19:11:09.797Z"
   },
   {
    "duration": 15,
    "start_time": "2023-01-22T19:11:11.113Z"
   },
   {
    "duration": 31,
    "start_time": "2023-01-22T19:11:11.130Z"
   },
   {
    "duration": 30,
    "start_time": "2023-01-22T19:11:11.163Z"
   },
   {
    "duration": 5,
    "start_time": "2023-01-22T19:11:11.195Z"
   },
   {
    "duration": 16,
    "start_time": "2023-01-22T19:11:11.202Z"
   },
   {
    "duration": 11,
    "start_time": "2023-01-22T19:11:11.220Z"
   },
   {
    "duration": 7,
    "start_time": "2023-01-22T19:11:11.233Z"
   },
   {
    "duration": 40,
    "start_time": "2023-01-22T19:11:11.242Z"
   },
   {
    "duration": 3824,
    "start_time": "2023-01-22T19:11:11.284Z"
   },
   {
    "duration": 4472,
    "start_time": "2023-01-22T19:11:56.777Z"
   },
   {
    "duration": 3,
    "start_time": "2023-01-22T19:13:15.507Z"
   },
   {
    "duration": 3789,
    "start_time": "2023-01-22T19:13:17.176Z"
   },
   {
    "duration": 1236,
    "start_time": "2023-01-22T19:13:54.858Z"
   },
   {
    "duration": 340,
    "start_time": "2023-01-22T19:13:56.096Z"
   },
   {
    "duration": 857,
    "start_time": "2023-01-22T19:13:56.438Z"
   },
   {
    "duration": 40,
    "start_time": "2023-01-22T19:13:57.296Z"
   },
   {
    "duration": 42,
    "start_time": "2023-01-22T19:13:57.347Z"
   },
   {
    "duration": 242,
    "start_time": "2023-01-22T19:13:57.391Z"
   },
   {
    "duration": 4,
    "start_time": "2023-01-22T19:13:57.634Z"
   },
   {
    "duration": 66,
    "start_time": "2023-01-22T19:13:57.640Z"
   },
   {
    "duration": 24,
    "start_time": "2023-01-22T19:13:57.707Z"
   },
   {
    "duration": 100,
    "start_time": "2023-01-22T19:13:57.732Z"
   },
   {
    "duration": 6,
    "start_time": "2023-01-22T19:13:57.834Z"
   },
   {
    "duration": 52,
    "start_time": "2023-01-22T19:13:57.842Z"
   },
   {
    "duration": 7,
    "start_time": "2023-01-22T19:13:57.896Z"
   },
   {
    "duration": 7,
    "start_time": "2023-01-22T19:13:57.907Z"
   },
   {
    "duration": 991,
    "start_time": "2023-01-22T19:13:57.916Z"
   },
   {
    "duration": 907,
    "start_time": "2023-01-22T19:13:58.909Z"
   },
   {
    "duration": 999,
    "start_time": "2023-01-22T19:13:59.818Z"
   },
   {
    "duration": 984,
    "start_time": "2023-01-22T19:14:00.819Z"
   },
   {
    "duration": 1043,
    "start_time": "2023-01-22T19:14:01.805Z"
   },
   {
    "duration": 947,
    "start_time": "2023-01-22T19:14:02.851Z"
   },
   {
    "duration": 4,
    "start_time": "2023-01-22T19:14:03.800Z"
   },
   {
    "duration": 90,
    "start_time": "2023-01-22T19:14:03.806Z"
   },
   {
    "duration": 11,
    "start_time": "2023-01-22T19:14:03.898Z"
   },
   {
    "duration": 14,
    "start_time": "2023-01-22T19:14:03.910Z"
   },
   {
    "duration": 5,
    "start_time": "2023-01-22T19:14:03.926Z"
   },
   {
    "duration": 664,
    "start_time": "2023-01-22T19:14:03.933Z"
   },
   {
    "duration": 423,
    "start_time": "2023-01-22T19:14:04.599Z"
   },
   {
    "duration": 9,
    "start_time": "2023-01-22T19:14:05.024Z"
   },
   {
    "duration": 1375,
    "start_time": "2023-01-22T19:14:05.035Z"
   },
   {
    "duration": 14,
    "start_time": "2023-01-22T19:14:06.412Z"
   },
   {
    "duration": 24,
    "start_time": "2023-01-22T19:14:06.428Z"
   },
   {
    "duration": 18,
    "start_time": "2023-01-22T19:14:06.458Z"
   },
   {
    "duration": 16,
    "start_time": "2023-01-22T19:14:06.478Z"
   },
   {
    "duration": 12,
    "start_time": "2023-01-22T19:14:06.496Z"
   },
   {
    "duration": 7,
    "start_time": "2023-01-22T19:14:06.509Z"
   },
   {
    "duration": 6,
    "start_time": "2023-01-22T19:14:06.519Z"
   },
   {
    "duration": 5,
    "start_time": "2023-01-22T19:14:06.526Z"
   },
   {
    "duration": 1964,
    "start_time": "2023-01-22T19:14:06.533Z"
   },
   {
    "duration": 1174,
    "start_time": "2023-01-22T19:16:59.219Z"
   },
   {
    "duration": 331,
    "start_time": "2023-01-22T19:17:00.395Z"
   },
   {
    "duration": 951,
    "start_time": "2023-01-22T19:17:00.727Z"
   },
   {
    "duration": 45,
    "start_time": "2023-01-22T19:17:01.683Z"
   },
   {
    "duration": 59,
    "start_time": "2023-01-22T19:17:01.729Z"
   },
   {
    "duration": 291,
    "start_time": "2023-01-22T19:17:01.790Z"
   },
   {
    "duration": 5,
    "start_time": "2023-01-22T19:17:02.089Z"
   },
   {
    "duration": 75,
    "start_time": "2023-01-22T19:17:02.096Z"
   },
   {
    "duration": 30,
    "start_time": "2023-01-22T19:17:02.173Z"
   },
   {
    "duration": 67,
    "start_time": "2023-01-22T19:17:02.206Z"
   },
   {
    "duration": 11,
    "start_time": "2023-01-22T19:17:02.278Z"
   },
   {
    "duration": 15,
    "start_time": "2023-01-22T19:17:02.291Z"
   },
   {
    "duration": 17,
    "start_time": "2023-01-22T19:17:02.308Z"
   },
   {
    "duration": 67,
    "start_time": "2023-01-22T19:17:02.327Z"
   },
   {
    "duration": 1022,
    "start_time": "2023-01-22T19:17:02.396Z"
   },
   {
    "duration": 916,
    "start_time": "2023-01-22T19:17:03.421Z"
   },
   {
    "duration": 1017,
    "start_time": "2023-01-22T19:17:04.339Z"
   },
   {
    "duration": 943,
    "start_time": "2023-01-22T19:17:05.358Z"
   },
   {
    "duration": 960,
    "start_time": "2023-01-22T19:17:06.303Z"
   },
   {
    "duration": 871,
    "start_time": "2023-01-22T19:17:07.265Z"
   },
   {
    "duration": 13,
    "start_time": "2023-01-22T19:17:08.138Z"
   },
   {
    "duration": 94,
    "start_time": "2023-01-22T19:17:08.152Z"
   },
   {
    "duration": 15,
    "start_time": "2023-01-22T19:17:08.247Z"
   },
   {
    "duration": 34,
    "start_time": "2023-01-22T19:17:08.264Z"
   },
   {
    "duration": 5,
    "start_time": "2023-01-22T19:17:08.300Z"
   },
   {
    "duration": 554,
    "start_time": "2023-01-22T19:17:08.306Z"
   },
   {
    "duration": 411,
    "start_time": "2023-01-22T19:17:08.863Z"
   },
   {
    "duration": 10,
    "start_time": "2023-01-22T19:17:09.277Z"
   },
   {
    "duration": 1410,
    "start_time": "2023-01-22T19:17:09.288Z"
   },
   {
    "duration": 15,
    "start_time": "2023-01-22T19:17:10.700Z"
   },
   {
    "duration": 12,
    "start_time": "2023-01-22T19:17:10.717Z"
   },
   {
    "duration": 27,
    "start_time": "2023-01-22T19:17:10.731Z"
   },
   {
    "duration": 41,
    "start_time": "2023-01-22T19:17:10.762Z"
   },
   {
    "duration": 8,
    "start_time": "2023-01-22T19:17:10.805Z"
   },
   {
    "duration": 8,
    "start_time": "2023-01-22T19:17:10.815Z"
   },
   {
    "duration": 10,
    "start_time": "2023-01-22T19:17:10.825Z"
   },
   {
    "duration": 10,
    "start_time": "2023-01-22T19:17:10.837Z"
   },
   {
    "duration": 7460,
    "start_time": "2023-01-22T19:17:10.850Z"
   },
   {
    "duration": 1184,
    "start_time": "2023-01-22T19:17:35.058Z"
   },
   {
    "duration": 320,
    "start_time": "2023-01-22T19:17:36.245Z"
   },
   {
    "duration": 772,
    "start_time": "2023-01-22T19:17:36.570Z"
   },
   {
    "duration": 59,
    "start_time": "2023-01-22T19:17:37.344Z"
   },
   {
    "duration": 36,
    "start_time": "2023-01-22T19:17:37.404Z"
   },
   {
    "duration": 282,
    "start_time": "2023-01-22T19:17:37.441Z"
   },
   {
    "duration": 4,
    "start_time": "2023-01-22T19:17:37.725Z"
   },
   {
    "duration": 87,
    "start_time": "2023-01-22T19:17:37.730Z"
   },
   {
    "duration": 24,
    "start_time": "2023-01-22T19:17:37.818Z"
   },
   {
    "duration": 65,
    "start_time": "2023-01-22T19:17:37.845Z"
   },
   {
    "duration": 6,
    "start_time": "2023-01-22T19:17:37.912Z"
   },
   {
    "duration": 15,
    "start_time": "2023-01-22T19:17:37.920Z"
   },
   {
    "duration": 17,
    "start_time": "2023-01-22T19:17:37.936Z"
   },
   {
    "duration": 147,
    "start_time": "2023-01-22T19:17:37.959Z"
   },
   {
    "duration": 996,
    "start_time": "2023-01-22T19:17:38.109Z"
   },
   {
    "duration": 913,
    "start_time": "2023-01-22T19:17:39.107Z"
   },
   {
    "duration": 1002,
    "start_time": "2023-01-22T19:17:40.022Z"
   },
   {
    "duration": 899,
    "start_time": "2023-01-22T19:17:41.026Z"
   },
   {
    "duration": 1016,
    "start_time": "2023-01-22T19:17:41.927Z"
   },
   {
    "duration": 945,
    "start_time": "2023-01-22T19:17:42.945Z"
   },
   {
    "duration": 5,
    "start_time": "2023-01-22T19:17:43.892Z"
   },
   {
    "duration": 97,
    "start_time": "2023-01-22T19:17:43.899Z"
   },
   {
    "duration": 7,
    "start_time": "2023-01-22T19:17:44.000Z"
   },
   {
    "duration": 10,
    "start_time": "2023-01-22T19:17:44.008Z"
   },
   {
    "duration": 15,
    "start_time": "2023-01-22T19:17:44.019Z"
   },
   {
    "duration": 563,
    "start_time": "2023-01-22T19:17:44.036Z"
   },
   {
    "duration": 512,
    "start_time": "2023-01-22T19:17:44.601Z"
   },
   {
    "duration": 7,
    "start_time": "2023-01-22T19:17:45.116Z"
   },
   {
    "duration": 1412,
    "start_time": "2023-01-22T19:17:45.124Z"
   },
   {
    "duration": 27,
    "start_time": "2023-01-22T19:17:46.538Z"
   },
   {
    "duration": 26,
    "start_time": "2023-01-22T19:17:46.569Z"
   },
   {
    "duration": 10,
    "start_time": "2023-01-22T19:17:46.597Z"
   },
   {
    "duration": 13,
    "start_time": "2023-01-22T19:17:46.608Z"
   },
   {
    "duration": 7,
    "start_time": "2023-01-22T19:17:46.623Z"
   },
   {
    "duration": 25,
    "start_time": "2023-01-22T19:17:46.632Z"
   },
   {
    "duration": 37,
    "start_time": "2023-01-22T19:17:46.659Z"
   },
   {
    "duration": 17,
    "start_time": "2023-01-22T19:17:46.698Z"
   },
   {
    "duration": 7475,
    "start_time": "2023-01-22T19:17:46.717Z"
   },
   {
    "duration": 1080,
    "start_time": "2023-01-22T19:20:42.707Z"
   },
   {
    "duration": 347,
    "start_time": "2023-01-22T19:20:43.793Z"
   },
   {
    "duration": 761,
    "start_time": "2023-01-22T19:20:44.142Z"
   },
   {
    "duration": 48,
    "start_time": "2023-01-22T19:20:44.905Z"
   },
   {
    "duration": 38,
    "start_time": "2023-01-22T19:20:44.961Z"
   },
   {
    "duration": 233,
    "start_time": "2023-01-22T19:20:45.001Z"
   },
   {
    "duration": 4,
    "start_time": "2023-01-22T19:20:45.236Z"
   },
   {
    "duration": 77,
    "start_time": "2023-01-22T19:20:45.247Z"
   },
   {
    "duration": 47,
    "start_time": "2023-01-22T19:20:45.326Z"
   },
   {
    "duration": 60,
    "start_time": "2023-01-22T19:20:45.376Z"
   },
   {
    "duration": 20,
    "start_time": "2023-01-22T19:20:45.438Z"
   },
   {
    "duration": 20,
    "start_time": "2023-01-22T19:20:45.462Z"
   },
   {
    "duration": 17,
    "start_time": "2023-01-22T19:20:45.484Z"
   },
   {
    "duration": 7,
    "start_time": "2023-01-22T19:20:45.503Z"
   },
   {
    "duration": 1027,
    "start_time": "2023-01-22T19:20:45.512Z"
   },
   {
    "duration": 863,
    "start_time": "2023-01-22T19:20:46.541Z"
   },
   {
    "duration": 980,
    "start_time": "2023-01-22T19:20:47.406Z"
   },
   {
    "duration": 851,
    "start_time": "2023-01-22T19:20:48.388Z"
   },
   {
    "duration": 980,
    "start_time": "2023-01-22T19:20:49.241Z"
   },
   {
    "duration": 892,
    "start_time": "2023-01-22T19:20:50.222Z"
   },
   {
    "duration": 4,
    "start_time": "2023-01-22T19:20:51.116Z"
   },
   {
    "duration": 73,
    "start_time": "2023-01-22T19:20:51.122Z"
   },
   {
    "duration": 4,
    "start_time": "2023-01-22T19:20:51.197Z"
   },
   {
    "duration": 7,
    "start_time": "2023-01-22T19:20:51.202Z"
   },
   {
    "duration": 5,
    "start_time": "2023-01-22T19:20:51.210Z"
   },
   {
    "duration": 561,
    "start_time": "2023-01-22T19:20:51.216Z"
   },
   {
    "duration": 387,
    "start_time": "2023-01-22T19:20:51.778Z"
   },
   {
    "duration": 9,
    "start_time": "2023-01-22T19:20:52.170Z"
   },
   {
    "duration": 1225,
    "start_time": "2023-01-22T19:20:52.183Z"
   },
   {
    "duration": 14,
    "start_time": "2023-01-22T19:20:53.410Z"
   },
   {
    "duration": 14,
    "start_time": "2023-01-22T19:20:53.426Z"
   },
   {
    "duration": 18,
    "start_time": "2023-01-22T19:20:53.441Z"
   },
   {
    "duration": 30,
    "start_time": "2023-01-22T19:20:53.461Z"
   },
   {
    "duration": 6,
    "start_time": "2023-01-22T19:20:53.494Z"
   },
   {
    "duration": 9,
    "start_time": "2023-01-22T19:20:53.502Z"
   },
   {
    "duration": 13,
    "start_time": "2023-01-22T19:20:53.512Z"
   },
   {
    "duration": 7934,
    "start_time": "2023-01-22T19:20:53.526Z"
   },
   {
    "duration": 1070,
    "start_time": "2023-01-22T19:22:49.713Z"
   },
   {
    "duration": 308,
    "start_time": "2023-01-22T19:22:50.785Z"
   },
   {
    "duration": 740,
    "start_time": "2023-01-22T19:22:51.095Z"
   },
   {
    "duration": 49,
    "start_time": "2023-01-22T19:22:51.836Z"
   },
   {
    "duration": 29,
    "start_time": "2023-01-22T19:22:51.887Z"
   },
   {
    "duration": 258,
    "start_time": "2023-01-22T19:22:51.918Z"
   },
   {
    "duration": 4,
    "start_time": "2023-01-22T19:22:52.178Z"
   },
   {
    "duration": 89,
    "start_time": "2023-01-22T19:22:52.184Z"
   },
   {
    "duration": 23,
    "start_time": "2023-01-22T19:22:52.275Z"
   },
   {
    "duration": 70,
    "start_time": "2023-01-22T19:22:52.301Z"
   },
   {
    "duration": 6,
    "start_time": "2023-01-22T19:22:52.372Z"
   },
   {
    "duration": 5,
    "start_time": "2023-01-22T19:22:52.380Z"
   },
   {
    "duration": 5,
    "start_time": "2023-01-22T19:22:52.386Z"
   },
   {
    "duration": 7,
    "start_time": "2023-01-22T19:22:52.392Z"
   },
   {
    "duration": 932,
    "start_time": "2023-01-22T19:22:52.400Z"
   },
   {
    "duration": 893,
    "start_time": "2023-01-22T19:22:53.334Z"
   },
   {
    "duration": 963,
    "start_time": "2023-01-22T19:22:54.228Z"
   },
   {
    "duration": 948,
    "start_time": "2023-01-22T19:22:55.193Z"
   },
   {
    "duration": 942,
    "start_time": "2023-01-22T19:22:56.147Z"
   },
   {
    "duration": 804,
    "start_time": "2023-01-22T19:22:57.092Z"
   },
   {
    "duration": 4,
    "start_time": "2023-01-22T19:22:57.897Z"
   },
   {
    "duration": 78,
    "start_time": "2023-01-22T19:22:57.902Z"
   },
   {
    "duration": 5,
    "start_time": "2023-01-22T19:22:57.981Z"
   },
   {
    "duration": 6,
    "start_time": "2023-01-22T19:22:57.988Z"
   },
   {
    "duration": 9,
    "start_time": "2023-01-22T19:22:57.996Z"
   },
   {
    "duration": 528,
    "start_time": "2023-01-22T19:22:58.007Z"
   },
   {
    "duration": 426,
    "start_time": "2023-01-22T19:22:58.537Z"
   },
   {
    "duration": 8,
    "start_time": "2023-01-22T19:22:58.975Z"
   },
   {
    "duration": 1223,
    "start_time": "2023-01-22T19:22:58.984Z"
   },
   {
    "duration": 15,
    "start_time": "2023-01-22T19:23:00.209Z"
   },
   {
    "duration": 50,
    "start_time": "2023-01-22T19:23:00.226Z"
   },
   {
    "duration": 18,
    "start_time": "2023-01-22T19:23:00.278Z"
   },
   {
    "duration": 14,
    "start_time": "2023-01-22T19:23:00.298Z"
   },
   {
    "duration": 24,
    "start_time": "2023-01-22T19:23:00.313Z"
   },
   {
    "duration": 24,
    "start_time": "2023-01-22T19:23:00.338Z"
   },
   {
    "duration": 30,
    "start_time": "2023-01-22T19:23:00.364Z"
   },
   {
    "duration": 5555,
    "start_time": "2023-01-22T19:23:00.395Z"
   },
   {
    "duration": 142,
    "start_time": "2023-01-22T19:28:01.467Z"
   },
   {
    "duration": 479354,
    "start_time": "2023-01-22T19:28:27.225Z"
   },
   {
    "duration": 93728,
    "start_time": "2023-01-22T19:36:48.435Z"
   },
   {
    "duration": 23,
    "start_time": "2023-01-22T19:42:45.244Z"
   },
   {
    "duration": 42,
    "start_time": "2023-01-22T19:44:37.915Z"
   },
   {
    "duration": 24225,
    "start_time": "2023-01-22T19:44:52.476Z"
   },
   {
    "duration": 1028,
    "start_time": "2023-01-22T19:46:00.109Z"
   },
   {
    "duration": 314,
    "start_time": "2023-01-22T19:46:01.139Z"
   },
   {
    "duration": 735,
    "start_time": "2023-01-22T19:46:01.459Z"
   },
   {
    "duration": 41,
    "start_time": "2023-01-22T19:46:02.196Z"
   },
   {
    "duration": 33,
    "start_time": "2023-01-22T19:46:02.248Z"
   },
   {
    "duration": 257,
    "start_time": "2023-01-22T19:46:02.283Z"
   },
   {
    "duration": 12,
    "start_time": "2023-01-22T19:46:02.542Z"
   },
   {
    "duration": 60,
    "start_time": "2023-01-22T19:46:02.559Z"
   },
   {
    "duration": 41,
    "start_time": "2023-01-22T19:46:02.621Z"
   },
   {
    "duration": 53,
    "start_time": "2023-01-22T19:46:02.665Z"
   },
   {
    "duration": 5,
    "start_time": "2023-01-22T19:46:02.720Z"
   },
   {
    "duration": 5,
    "start_time": "2023-01-22T19:46:02.726Z"
   },
   {
    "duration": 5,
    "start_time": "2023-01-22T19:46:02.759Z"
   },
   {
    "duration": 13,
    "start_time": "2023-01-22T19:46:02.765Z"
   },
   {
    "duration": 913,
    "start_time": "2023-01-22T19:46:02.780Z"
   },
   {
    "duration": 805,
    "start_time": "2023-01-22T19:46:03.695Z"
   },
   {
    "duration": 1062,
    "start_time": "2023-01-22T19:46:04.502Z"
   },
   {
    "duration": 821,
    "start_time": "2023-01-22T19:46:05.569Z"
   },
   {
    "duration": 872,
    "start_time": "2023-01-22T19:46:06.391Z"
   },
   {
    "duration": 753,
    "start_time": "2023-01-22T19:46:07.264Z"
   },
   {
    "duration": 3,
    "start_time": "2023-01-22T19:46:08.019Z"
   },
   {
    "duration": 76,
    "start_time": "2023-01-22T19:46:08.023Z"
   },
   {
    "duration": 3,
    "start_time": "2023-01-22T19:46:08.101Z"
   },
   {
    "duration": 7,
    "start_time": "2023-01-22T19:46:08.106Z"
   },
   {
    "duration": 8,
    "start_time": "2023-01-22T19:46:08.114Z"
   },
   {
    "duration": 415,
    "start_time": "2023-01-22T19:46:08.123Z"
   },
   {
    "duration": 501,
    "start_time": "2023-01-22T19:46:08.540Z"
   },
   {
    "duration": 15,
    "start_time": "2023-01-22T19:46:09.049Z"
   },
   {
    "duration": 1104,
    "start_time": "2023-01-22T19:46:09.065Z"
   },
   {
    "duration": 15,
    "start_time": "2023-01-22T19:46:10.170Z"
   },
   {
    "duration": 8,
    "start_time": "2023-01-22T19:46:10.187Z"
   },
   {
    "duration": 12,
    "start_time": "2023-01-22T19:46:10.197Z"
   },
   {
    "duration": 5,
    "start_time": "2023-01-22T19:46:10.210Z"
   },
   {
    "duration": 5,
    "start_time": "2023-01-22T19:46:10.216Z"
   },
   {
    "duration": 8,
    "start_time": "2023-01-22T19:46:10.222Z"
   },
   {
    "duration": 5,
    "start_time": "2023-01-22T19:46:10.231Z"
   },
   {
    "duration": 3413,
    "start_time": "2023-01-22T19:46:10.248Z"
   },
   {
    "duration": 90837,
    "start_time": "2023-01-22T19:46:13.663Z"
   },
   {
    "duration": 191734,
    "start_time": "2023-01-22T19:47:44.502Z"
   },
   {
    "duration": 183612,
    "start_time": "2023-01-22T19:51:42.536Z"
   },
   {
    "duration": 1073,
    "start_time": "2023-01-22T19:55:08.094Z"
   },
   {
    "duration": 298,
    "start_time": "2023-01-22T19:55:09.169Z"
   },
   {
    "duration": 696,
    "start_time": "2023-01-22T19:55:09.468Z"
   },
   {
    "duration": 40,
    "start_time": "2023-01-22T19:55:10.166Z"
   },
   {
    "duration": 42,
    "start_time": "2023-01-22T19:55:10.208Z"
   },
   {
    "duration": 233,
    "start_time": "2023-01-22T19:55:10.252Z"
   },
   {
    "duration": 3,
    "start_time": "2023-01-22T19:55:10.487Z"
   },
   {
    "duration": 80,
    "start_time": "2023-01-22T19:55:10.491Z"
   },
   {
    "duration": 25,
    "start_time": "2023-01-22T19:55:10.572Z"
   },
   {
    "duration": 69,
    "start_time": "2023-01-22T19:55:10.599Z"
   },
   {
    "duration": 5,
    "start_time": "2023-01-22T19:55:10.670Z"
   },
   {
    "duration": 6,
    "start_time": "2023-01-22T19:55:10.676Z"
   },
   {
    "duration": 7,
    "start_time": "2023-01-22T19:55:10.683Z"
   },
   {
    "duration": 7,
    "start_time": "2023-01-22T19:55:10.692Z"
   },
   {
    "duration": 892,
    "start_time": "2023-01-22T19:55:10.700Z"
   },
   {
    "duration": 817,
    "start_time": "2023-01-22T19:55:11.593Z"
   },
   {
    "duration": 943,
    "start_time": "2023-01-22T19:55:12.412Z"
   },
   {
    "duration": 771,
    "start_time": "2023-01-22T19:55:13.357Z"
   },
   {
    "duration": 897,
    "start_time": "2023-01-22T19:55:14.130Z"
   },
   {
    "duration": 782,
    "start_time": "2023-01-22T19:55:15.029Z"
   },
   {
    "duration": 4,
    "start_time": "2023-01-22T19:55:15.813Z"
   },
   {
    "duration": 82,
    "start_time": "2023-01-22T19:55:15.819Z"
   },
   {
    "duration": 4,
    "start_time": "2023-01-22T19:55:15.903Z"
   },
   {
    "duration": 17,
    "start_time": "2023-01-22T19:55:15.909Z"
   },
   {
    "duration": 21,
    "start_time": "2023-01-22T19:55:15.928Z"
   },
   {
    "duration": 600,
    "start_time": "2023-01-22T19:55:15.951Z"
   },
   {
    "duration": 391,
    "start_time": "2023-01-22T19:55:16.552Z"
   },
   {
    "duration": 7,
    "start_time": "2023-01-22T19:55:16.949Z"
   },
   {
    "duration": 1132,
    "start_time": "2023-01-22T19:55:16.958Z"
   },
   {
    "duration": 16,
    "start_time": "2023-01-22T19:55:18.092Z"
   },
   {
    "duration": 9,
    "start_time": "2023-01-22T19:55:18.109Z"
   },
   {
    "duration": 15,
    "start_time": "2023-01-22T19:55:18.120Z"
   },
   {
    "duration": 5,
    "start_time": "2023-01-22T19:55:18.148Z"
   },
   {
    "duration": 7,
    "start_time": "2023-01-22T19:55:18.155Z"
   },
   {
    "duration": 12,
    "start_time": "2023-01-22T19:55:18.164Z"
   },
   {
    "duration": 6,
    "start_time": "2023-01-22T19:55:18.178Z"
   },
   {
    "duration": 2764,
    "start_time": "2023-01-22T19:55:18.185Z"
   },
   {
    "duration": 88620,
    "start_time": "2023-01-22T19:55:20.951Z"
   },
   {
    "duration": 150228,
    "start_time": "2023-01-22T19:56:49.572Z"
   },
   {
    "duration": 71432,
    "start_time": "2023-01-22T19:59:24.684Z"
   },
   {
    "duration": 19344,
    "start_time": "2023-01-22T20:00:42.813Z"
   },
   {
    "duration": 74192,
    "start_time": "2023-01-22T20:01:12.070Z"
   },
   {
    "duration": 1870319,
    "start_time": "2023-01-22T20:02:34.932Z"
   },
   {
    "duration": 45873,
    "start_time": "2023-01-22T20:35:34.314Z"
   },
   {
    "duration": 43210,
    "start_time": "2023-01-22T20:36:24.426Z"
   },
   {
    "duration": 517084,
    "start_time": "2023-01-22T20:37:19.591Z"
   },
   {
    "duration": 9,
    "start_time": "2023-01-22T20:51:38.716Z"
   },
   {
    "duration": 16,
    "start_time": "2023-01-22T20:52:01.323Z"
   },
   {
    "duration": 1136,
    "start_time": "2023-01-22T20:55:11.926Z"
   },
   {
    "duration": 324,
    "start_time": "2023-01-22T20:55:13.064Z"
   },
   {
    "duration": 742,
    "start_time": "2023-01-22T20:55:13.389Z"
   },
   {
    "duration": 54,
    "start_time": "2023-01-22T20:55:14.134Z"
   },
   {
    "duration": 33,
    "start_time": "2023-01-22T20:55:14.190Z"
   },
   {
    "duration": 257,
    "start_time": "2023-01-22T20:55:14.224Z"
   },
   {
    "duration": 4,
    "start_time": "2023-01-22T20:55:14.483Z"
   },
   {
    "duration": 81,
    "start_time": "2023-01-22T20:55:14.488Z"
   },
   {
    "duration": 24,
    "start_time": "2023-01-22T20:55:14.571Z"
   },
   {
    "duration": 67,
    "start_time": "2023-01-22T20:55:14.598Z"
   },
   {
    "duration": 6,
    "start_time": "2023-01-22T20:55:14.666Z"
   },
   {
    "duration": 6,
    "start_time": "2023-01-22T20:55:14.674Z"
   },
   {
    "duration": 9,
    "start_time": "2023-01-22T20:55:14.682Z"
   },
   {
    "duration": 7,
    "start_time": "2023-01-22T20:55:14.692Z"
   },
   {
    "duration": 973,
    "start_time": "2023-01-22T20:55:14.700Z"
   },
   {
    "duration": 848,
    "start_time": "2023-01-22T20:55:15.675Z"
   },
   {
    "duration": 1001,
    "start_time": "2023-01-22T20:55:16.525Z"
   },
   {
    "duration": 789,
    "start_time": "2023-01-22T20:55:17.528Z"
   },
   {
    "duration": 884,
    "start_time": "2023-01-22T20:55:18.319Z"
   },
   {
    "duration": 769,
    "start_time": "2023-01-22T20:55:19.205Z"
   },
   {
    "duration": 4,
    "start_time": "2023-01-22T20:55:19.976Z"
   },
   {
    "duration": 81,
    "start_time": "2023-01-22T20:55:19.981Z"
   },
   {
    "duration": 4,
    "start_time": "2023-01-22T20:55:20.064Z"
   },
   {
    "duration": 11,
    "start_time": "2023-01-22T20:55:20.071Z"
   },
   {
    "duration": 6,
    "start_time": "2023-01-22T20:55:20.083Z"
   },
   {
    "duration": 581,
    "start_time": "2023-01-22T20:55:20.090Z"
   },
   {
    "duration": 392,
    "start_time": "2023-01-22T20:55:20.672Z"
   },
   {
    "duration": 7,
    "start_time": "2023-01-22T20:55:21.068Z"
   },
   {
    "duration": 1153,
    "start_time": "2023-01-22T20:55:21.077Z"
   },
   {
    "duration": 28,
    "start_time": "2023-01-22T20:55:22.231Z"
   },
   {
    "duration": 16,
    "start_time": "2023-01-22T20:55:22.260Z"
   },
   {
    "duration": 8,
    "start_time": "2023-01-22T20:55:22.277Z"
   },
   {
    "duration": 22,
    "start_time": "2023-01-22T20:55:22.287Z"
   },
   {
    "duration": 16,
    "start_time": "2023-01-22T20:55:22.310Z"
   },
   {
    "duration": 35,
    "start_time": "2023-01-22T20:55:22.327Z"
   },
   {
    "duration": 27,
    "start_time": "2023-01-22T20:55:22.364Z"
   },
   {
    "duration": 29,
    "start_time": "2023-01-22T20:55:22.393Z"
   },
   {
    "duration": 3931,
    "start_time": "2023-01-22T20:55:22.424Z"
   },
   {
    "duration": 91890,
    "start_time": "2023-01-22T20:55:26.363Z"
   },
   {
    "duration": 239014,
    "start_time": "2023-01-22T20:56:58.254Z"
   },
   {
    "duration": 5,
    "start_time": "2023-01-22T21:00:57.269Z"
   },
   {
    "duration": 4,
    "start_time": "2023-01-22T21:02:17.466Z"
   },
   {
    "duration": 27392,
    "start_time": "2023-01-22T21:03:02.928Z"
   },
   {
    "duration": 1190,
    "start_time": "2023-01-22T22:11:02.513Z"
   },
   {
    "duration": 390,
    "start_time": "2023-01-22T22:11:03.706Z"
   },
   {
    "duration": 840,
    "start_time": "2023-01-22T22:11:04.102Z"
   },
   {
    "duration": 44,
    "start_time": "2023-01-22T22:11:04.944Z"
   },
   {
    "duration": 28,
    "start_time": "2023-01-22T22:11:04.990Z"
   },
   {
    "duration": 293,
    "start_time": "2023-01-22T22:11:05.020Z"
   },
   {
    "duration": 4,
    "start_time": "2023-01-22T22:11:05.315Z"
   },
   {
    "duration": 87,
    "start_time": "2023-01-22T22:11:05.321Z"
   },
   {
    "duration": 43,
    "start_time": "2023-01-22T22:11:05.409Z"
   },
   {
    "duration": 90,
    "start_time": "2023-01-22T22:11:05.454Z"
   },
   {
    "duration": 8,
    "start_time": "2023-01-22T22:11:05.546Z"
   },
   {
    "duration": 22,
    "start_time": "2023-01-22T22:11:05.555Z"
   },
   {
    "duration": 5,
    "start_time": "2023-01-22T22:11:05.581Z"
   },
   {
    "duration": 10,
    "start_time": "2023-01-22T22:11:05.588Z"
   },
   {
    "duration": 896,
    "start_time": "2023-01-22T22:11:05.600Z"
   },
   {
    "duration": 820,
    "start_time": "2023-01-22T22:11:06.497Z"
   },
   {
    "duration": 946,
    "start_time": "2023-01-22T22:11:07.319Z"
   },
   {
    "duration": 840,
    "start_time": "2023-01-22T22:11:08.274Z"
   },
   {
    "duration": 947,
    "start_time": "2023-01-22T22:11:09.116Z"
   },
   {
    "duration": 842,
    "start_time": "2023-01-22T22:11:10.064Z"
   },
   {
    "duration": 4,
    "start_time": "2023-01-22T22:11:10.907Z"
   },
   {
    "duration": 76,
    "start_time": "2023-01-22T22:11:10.912Z"
   },
   {
    "duration": 4,
    "start_time": "2023-01-22T22:11:10.990Z"
   },
   {
    "duration": 7,
    "start_time": "2023-01-22T22:11:10.995Z"
   },
   {
    "duration": 5,
    "start_time": "2023-01-22T22:11:11.003Z"
   },
   {
    "duration": 540,
    "start_time": "2023-01-22T22:11:11.010Z"
   },
   {
    "duration": 407,
    "start_time": "2023-01-22T22:11:11.554Z"
   },
   {
    "duration": 8,
    "start_time": "2023-01-22T22:11:11.962Z"
   },
   {
    "duration": 1253,
    "start_time": "2023-01-22T22:11:11.971Z"
   },
   {
    "duration": 25,
    "start_time": "2023-01-22T22:11:13.226Z"
   },
   {
    "duration": 17,
    "start_time": "2023-01-22T22:11:13.252Z"
   },
   {
    "duration": 11,
    "start_time": "2023-01-22T22:11:13.271Z"
   },
   {
    "duration": 8,
    "start_time": "2023-01-22T22:11:13.284Z"
   },
   {
    "duration": 7,
    "start_time": "2023-01-22T22:11:13.294Z"
   },
   {
    "duration": 7,
    "start_time": "2023-01-22T22:11:13.302Z"
   },
   {
    "duration": 6,
    "start_time": "2023-01-22T22:11:13.310Z"
   },
   {
    "duration": 7,
    "start_time": "2023-01-22T22:11:13.317Z"
   },
   {
    "duration": 5431,
    "start_time": "2023-01-22T22:11:13.326Z"
   },
   {
    "duration": 1062,
    "start_time": "2023-01-22T22:11:46.375Z"
   },
   {
    "duration": 336,
    "start_time": "2023-01-22T22:11:47.438Z"
   },
   {
    "duration": 724,
    "start_time": "2023-01-22T22:11:47.776Z"
   },
   {
    "duration": 56,
    "start_time": "2023-01-22T22:11:48.502Z"
   },
   {
    "duration": 30,
    "start_time": "2023-01-22T22:11:48.564Z"
   },
   {
    "duration": 242,
    "start_time": "2023-01-22T22:11:48.596Z"
   },
   {
    "duration": 9,
    "start_time": "2023-01-22T22:11:48.840Z"
   },
   {
    "duration": 83,
    "start_time": "2023-01-22T22:11:48.852Z"
   },
   {
    "duration": 31,
    "start_time": "2023-01-22T22:11:48.937Z"
   },
   {
    "duration": 51,
    "start_time": "2023-01-22T22:11:48.970Z"
   },
   {
    "duration": 5,
    "start_time": "2023-01-22T22:11:49.023Z"
   },
   {
    "duration": 22,
    "start_time": "2023-01-22T22:11:49.029Z"
   },
   {
    "duration": 8,
    "start_time": "2023-01-22T22:11:49.052Z"
   },
   {
    "duration": 7,
    "start_time": "2023-01-22T22:11:49.065Z"
   },
   {
    "duration": 895,
    "start_time": "2023-01-22T22:11:49.073Z"
   },
   {
    "duration": 830,
    "start_time": "2023-01-22T22:11:49.970Z"
   },
   {
    "duration": 896,
    "start_time": "2023-01-22T22:11:50.802Z"
   },
   {
    "duration": 793,
    "start_time": "2023-01-22T22:11:51.700Z"
   },
   {
    "duration": 925,
    "start_time": "2023-01-22T22:11:52.495Z"
   },
   {
    "duration": 859,
    "start_time": "2023-01-22T22:11:53.422Z"
   },
   {
    "duration": 4,
    "start_time": "2023-01-22T22:11:54.283Z"
   },
   {
    "duration": 77,
    "start_time": "2023-01-22T22:11:54.288Z"
   },
   {
    "duration": 4,
    "start_time": "2023-01-22T22:11:54.368Z"
   },
   {
    "duration": 7,
    "start_time": "2023-01-22T22:11:54.373Z"
   },
   {
    "duration": 4,
    "start_time": "2023-01-22T22:11:54.382Z"
   },
   {
    "duration": 617,
    "start_time": "2023-01-22T22:11:54.388Z"
   },
   {
    "duration": 483,
    "start_time": "2023-01-22T22:11:55.007Z"
   },
   {
    "duration": 7,
    "start_time": "2023-01-22T22:11:55.493Z"
   },
   {
    "duration": 1211,
    "start_time": "2023-01-22T22:11:55.502Z"
   },
   {
    "duration": 12,
    "start_time": "2023-01-22T22:11:56.715Z"
   },
   {
    "duration": 33,
    "start_time": "2023-01-22T22:11:56.729Z"
   },
   {
    "duration": 7,
    "start_time": "2023-01-22T22:11:56.765Z"
   },
   {
    "duration": 8,
    "start_time": "2023-01-22T22:11:56.774Z"
   },
   {
    "duration": 5,
    "start_time": "2023-01-22T22:11:56.784Z"
   },
   {
    "duration": 5,
    "start_time": "2023-01-22T22:11:56.790Z"
   },
   {
    "duration": 5,
    "start_time": "2023-01-22T22:11:56.797Z"
   },
   {
    "duration": 5,
    "start_time": "2023-01-22T22:11:56.804Z"
   },
   {
    "duration": 4571,
    "start_time": "2023-01-22T22:11:56.811Z"
   },
   {
    "duration": 47319,
    "start_time": "2023-01-22T22:12:01.384Z"
   },
   {
    "duration": 0,
    "start_time": "2023-01-22T22:12:48.705Z"
   },
   {
    "duration": 0,
    "start_time": "2023-01-22T22:12:48.706Z"
   },
   {
    "duration": 0,
    "start_time": "2023-01-22T22:12:48.707Z"
   },
   {
    "duration": 0,
    "start_time": "2023-01-22T22:12:48.707Z"
   },
   {
    "duration": 1100,
    "start_time": "2023-01-22T22:13:06.203Z"
   },
   {
    "duration": 314,
    "start_time": "2023-01-22T22:13:07.304Z"
   },
   {
    "duration": 722,
    "start_time": "2023-01-22T22:13:07.620Z"
   },
   {
    "duration": 55,
    "start_time": "2023-01-22T22:13:08.343Z"
   },
   {
    "duration": 55,
    "start_time": "2023-01-22T22:13:08.400Z"
   },
   {
    "duration": 243,
    "start_time": "2023-01-22T22:13:08.458Z"
   },
   {
    "duration": 4,
    "start_time": "2023-01-22T22:13:08.703Z"
   },
   {
    "duration": 77,
    "start_time": "2023-01-22T22:13:08.708Z"
   },
   {
    "duration": 30,
    "start_time": "2023-01-22T22:13:08.787Z"
   },
   {
    "duration": 68,
    "start_time": "2023-01-22T22:13:08.820Z"
   },
   {
    "duration": 6,
    "start_time": "2023-01-22T22:13:08.889Z"
   },
   {
    "duration": 6,
    "start_time": "2023-01-22T22:13:08.896Z"
   },
   {
    "duration": 9,
    "start_time": "2023-01-22T22:13:08.904Z"
   },
   {
    "duration": 7,
    "start_time": "2023-01-22T22:13:08.915Z"
   },
   {
    "duration": 963,
    "start_time": "2023-01-22T22:13:08.924Z"
   },
   {
    "duration": 852,
    "start_time": "2023-01-22T22:13:09.889Z"
   },
   {
    "duration": 924,
    "start_time": "2023-01-22T22:13:10.743Z"
   },
   {
    "duration": 823,
    "start_time": "2023-01-22T22:13:11.669Z"
   },
   {
    "duration": 940,
    "start_time": "2023-01-22T22:13:12.493Z"
   },
   {
    "duration": 803,
    "start_time": "2023-01-22T22:13:13.435Z"
   },
   {
    "duration": 3,
    "start_time": "2023-01-22T22:13:14.240Z"
   },
   {
    "duration": 17,
    "start_time": "2023-01-22T22:13:14.251Z"
   },
   {
    "duration": 9,
    "start_time": "2023-01-22T22:13:14.269Z"
   },
   {
    "duration": 464,
    "start_time": "2023-01-22T22:13:14.279Z"
   },
   {
    "duration": 415,
    "start_time": "2023-01-22T22:13:14.749Z"
   },
   {
    "duration": 9,
    "start_time": "2023-01-22T22:13:15.166Z"
   },
   {
    "duration": 1243,
    "start_time": "2023-01-22T22:13:15.176Z"
   },
   {
    "duration": 15,
    "start_time": "2023-01-22T22:13:16.422Z"
   },
   {
    "duration": 24,
    "start_time": "2023-01-22T22:13:16.450Z"
   },
   {
    "duration": 8,
    "start_time": "2023-01-22T22:13:16.476Z"
   },
   {
    "duration": 8,
    "start_time": "2023-01-22T22:13:16.486Z"
   },
   {
    "duration": 7,
    "start_time": "2023-01-22T22:13:16.496Z"
   },
   {
    "duration": 7,
    "start_time": "2023-01-22T22:13:16.504Z"
   },
   {
    "duration": 17,
    "start_time": "2023-01-22T22:13:16.512Z"
   },
   {
    "duration": 5,
    "start_time": "2023-01-22T22:13:16.531Z"
   },
   {
    "duration": 4128,
    "start_time": "2023-01-22T22:13:16.537Z"
   },
   {
    "duration": 99550,
    "start_time": "2023-01-22T22:13:20.668Z"
   },
   {
    "duration": 3065,
    "start_time": "2023-01-22T22:15:00.219Z"
   },
   {
    "duration": 0,
    "start_time": "2023-01-22T22:15:03.286Z"
   },
   {
    "duration": 0,
    "start_time": "2023-01-22T22:15:03.287Z"
   },
   {
    "duration": 1,
    "start_time": "2023-01-22T22:15:03.288Z"
   },
   {
    "duration": 1098,
    "start_time": "2023-01-22T22:16:30.620Z"
   },
   {
    "duration": 364,
    "start_time": "2023-01-22T22:16:31.720Z"
   },
   {
    "duration": 1561,
    "start_time": "2023-01-22T22:16:32.086Z"
   },
   {
    "duration": 46,
    "start_time": "2023-01-22T22:16:33.649Z"
   },
   {
    "duration": 36,
    "start_time": "2023-01-22T22:16:33.749Z"
   },
   {
    "duration": 268,
    "start_time": "2023-01-22T22:16:33.787Z"
   },
   {
    "duration": 4,
    "start_time": "2023-01-22T22:16:34.060Z"
   },
   {
    "duration": 96,
    "start_time": "2023-01-22T22:16:34.066Z"
   },
   {
    "duration": 30,
    "start_time": "2023-01-22T22:16:34.168Z"
   },
   {
    "duration": 76,
    "start_time": "2023-01-22T22:16:34.201Z"
   },
   {
    "duration": 7,
    "start_time": "2023-01-22T22:16:34.279Z"
   },
   {
    "duration": 5,
    "start_time": "2023-01-22T22:16:34.287Z"
   },
   {
    "duration": 6,
    "start_time": "2023-01-22T22:16:34.294Z"
   },
   {
    "duration": 6,
    "start_time": "2023-01-22T22:16:34.302Z"
   },
   {
    "duration": 960,
    "start_time": "2023-01-22T22:16:34.310Z"
   },
   {
    "duration": 888,
    "start_time": "2023-01-22T22:16:35.272Z"
   },
   {
    "duration": 904,
    "start_time": "2023-01-22T22:16:36.162Z"
   },
   {
    "duration": 799,
    "start_time": "2023-01-22T22:16:37.068Z"
   },
   {
    "duration": 934,
    "start_time": "2023-01-22T22:16:37.869Z"
   },
   {
    "duration": 805,
    "start_time": "2023-01-22T22:16:38.805Z"
   },
   {
    "duration": 4,
    "start_time": "2023-01-22T22:16:39.612Z"
   },
   {
    "duration": 1455,
    "start_time": "2023-01-22T22:16:39.618Z"
   },
   {
    "duration": 0,
    "start_time": "2023-01-22T22:16:41.075Z"
   },
   {
    "duration": 0,
    "start_time": "2023-01-22T22:16:41.077Z"
   },
   {
    "duration": 0,
    "start_time": "2023-01-22T22:16:41.078Z"
   },
   {
    "duration": 0,
    "start_time": "2023-01-22T22:16:41.080Z"
   },
   {
    "duration": 0,
    "start_time": "2023-01-22T22:16:41.081Z"
   },
   {
    "duration": 0,
    "start_time": "2023-01-22T22:16:41.082Z"
   },
   {
    "duration": 0,
    "start_time": "2023-01-22T22:16:41.084Z"
   },
   {
    "duration": 0,
    "start_time": "2023-01-22T22:16:41.085Z"
   },
   {
    "duration": 0,
    "start_time": "2023-01-22T22:16:41.086Z"
   },
   {
    "duration": 0,
    "start_time": "2023-01-22T22:16:41.089Z"
   },
   {
    "duration": 0,
    "start_time": "2023-01-22T22:16:41.090Z"
   },
   {
    "duration": 0,
    "start_time": "2023-01-22T22:16:41.092Z"
   },
   {
    "duration": 0,
    "start_time": "2023-01-22T22:16:41.092Z"
   },
   {
    "duration": 0,
    "start_time": "2023-01-22T22:16:41.094Z"
   },
   {
    "duration": 0,
    "start_time": "2023-01-22T22:16:41.094Z"
   },
   {
    "duration": 0,
    "start_time": "2023-01-22T22:16:41.096Z"
   },
   {
    "duration": 0,
    "start_time": "2023-01-22T22:16:41.097Z"
   },
   {
    "duration": 0,
    "start_time": "2023-01-22T22:16:41.098Z"
   },
   {
    "duration": 0,
    "start_time": "2023-01-22T22:16:41.226Z"
   },
   {
    "duration": 0,
    "start_time": "2023-01-22T22:16:41.227Z"
   },
   {
    "duration": 0,
    "start_time": "2023-01-22T22:16:41.228Z"
   },
   {
    "duration": 1114,
    "start_time": "2023-01-22T22:17:14.149Z"
   },
   {
    "duration": 335,
    "start_time": "2023-01-22T22:17:15.267Z"
   },
   {
    "duration": 712,
    "start_time": "2023-01-22T22:17:15.603Z"
   },
   {
    "duration": 54,
    "start_time": "2023-01-22T22:17:16.318Z"
   },
   {
    "duration": 28,
    "start_time": "2023-01-22T22:17:16.374Z"
   },
   {
    "duration": 238,
    "start_time": "2023-01-22T22:17:16.403Z"
   },
   {
    "duration": 19,
    "start_time": "2023-01-22T22:17:16.643Z"
   },
   {
    "duration": 102,
    "start_time": "2023-01-22T22:17:16.663Z"
   },
   {
    "duration": 23,
    "start_time": "2023-01-22T22:17:16.766Z"
   },
   {
    "duration": 139,
    "start_time": "2023-01-22T22:17:16.848Z"
   },
   {
    "duration": 63,
    "start_time": "2023-01-22T22:17:16.989Z"
   },
   {
    "duration": 24,
    "start_time": "2023-01-22T22:17:17.053Z"
   },
   {
    "duration": 6,
    "start_time": "2023-01-22T22:17:17.078Z"
   },
   {
    "duration": 8,
    "start_time": "2023-01-22T22:17:17.085Z"
   },
   {
    "duration": 1631,
    "start_time": "2023-01-22T22:17:17.094Z"
   },
   {
    "duration": 784,
    "start_time": "2023-01-22T22:17:18.727Z"
   },
   {
    "duration": 885,
    "start_time": "2023-01-22T22:17:19.513Z"
   },
   {
    "duration": 807,
    "start_time": "2023-01-22T22:17:20.400Z"
   },
   {
    "duration": 915,
    "start_time": "2023-01-22T22:17:21.209Z"
   },
   {
    "duration": 795,
    "start_time": "2023-01-22T22:17:22.126Z"
   },
   {
    "duration": 4,
    "start_time": "2023-01-22T22:17:22.923Z"
   },
   {
    "duration": 79,
    "start_time": "2023-01-22T22:17:22.928Z"
   },
   {
    "duration": 4,
    "start_time": "2023-01-22T22:17:23.008Z"
   },
   {
    "duration": 10,
    "start_time": "2023-01-22T22:17:23.013Z"
   },
   {
    "duration": 6,
    "start_time": "2023-01-22T22:17:23.024Z"
   },
   {
    "duration": 515,
    "start_time": "2023-01-22T22:17:23.031Z"
   },
   {
    "duration": 414,
    "start_time": "2023-01-22T22:17:23.548Z"
   },
   {
    "duration": 7,
    "start_time": "2023-01-22T22:17:23.965Z"
   },
   {
    "duration": 1131,
    "start_time": "2023-01-22T22:17:23.973Z"
   },
   {
    "duration": 12,
    "start_time": "2023-01-22T22:17:25.105Z"
   },
   {
    "duration": 31,
    "start_time": "2023-01-22T22:17:25.118Z"
   },
   {
    "duration": 8,
    "start_time": "2023-01-22T22:17:25.159Z"
   },
   {
    "duration": 7,
    "start_time": "2023-01-22T22:17:25.168Z"
   },
   {
    "duration": 6,
    "start_time": "2023-01-22T22:17:25.177Z"
   },
   {
    "duration": 10,
    "start_time": "2023-01-22T22:17:25.186Z"
   },
   {
    "duration": 8,
    "start_time": "2023-01-22T22:17:25.197Z"
   },
   {
    "duration": 12,
    "start_time": "2023-01-22T22:17:25.207Z"
   },
   {
    "duration": 3338,
    "start_time": "2023-01-22T22:17:25.221Z"
   },
   {
    "duration": 92042,
    "start_time": "2023-01-22T22:17:28.560Z"
   },
   {
    "duration": 239707,
    "start_time": "2023-01-22T22:19:00.604Z"
   },
   {
    "duration": 5,
    "start_time": "2023-01-22T22:23:00.312Z"
   },
   {
    "duration": 18,
    "start_time": "2023-01-22T22:23:00.319Z"
   },
   {
    "duration": 27498,
    "start_time": "2023-01-22T22:23:00.338Z"
   },
   {
    "duration": 75393,
    "start_time": "2023-01-22T22:26:31.805Z"
   },
   {
    "duration": 32,
    "start_time": "2023-01-22T22:29:10.401Z"
   },
   {
    "duration": 4,
    "start_time": "2023-01-22T22:33:37.392Z"
   },
   {
    "duration": 5,
    "start_time": "2023-01-22T22:34:31.927Z"
   },
   {
    "duration": 3371,
    "start_time": "2023-01-22T22:34:33.191Z"
   },
   {
    "duration": 44754,
    "start_time": "2023-01-22T22:36:26.915Z"
   },
   {
    "duration": 89370,
    "start_time": "2023-01-22T22:38:07.544Z"
   },
   {
    "duration": 89050,
    "start_time": "2023-01-22T22:44:09.701Z"
   },
   {
    "duration": 89419,
    "start_time": "2023-01-22T22:46:29.423Z"
   },
   {
    "duration": 119360,
    "start_time": "2023-01-22T22:49:08.312Z"
   },
   {
    "duration": 4,
    "start_time": "2023-01-22T22:52:34.204Z"
   },
   {
    "duration": 3327,
    "start_time": "2023-01-22T22:52:35.333Z"
   },
   {
    "duration": 119694,
    "start_time": "2023-01-22T22:52:40.280Z"
   },
   {
    "duration": 10,
    "start_time": "2023-01-23T03:25:27.244Z"
   },
   {
    "duration": 27,
    "start_time": "2023-01-23T03:25:40.277Z"
   },
   {
    "duration": 28,
    "start_time": "2023-01-23T03:26:06.949Z"
   },
   {
    "duration": 627,
    "start_time": "2023-01-23T03:26:55.806Z"
   },
   {
    "duration": 21304,
    "start_time": "2023-01-23T03:27:36.118Z"
   },
   {
    "duration": 3,
    "start_time": "2023-01-23T03:29:00.713Z"
   },
   {
    "duration": 70,
    "start_time": "2023-01-23T03:29:05.956Z"
   },
   {
    "duration": 3,
    "start_time": "2023-01-23T03:29:11.948Z"
   },
   {
    "duration": 8,
    "start_time": "2023-01-23T03:29:28.700Z"
   },
   {
    "duration": 3,
    "start_time": "2023-01-23T03:29:37.980Z"
   },
   {
    "duration": 2668,
    "start_time": "2023-01-23T03:29:40.180Z"
   },
   {
    "duration": 84336,
    "start_time": "2023-01-23T03:32:05.845Z"
   },
   {
    "duration": 21377,
    "start_time": "2023-01-23T03:37:45.924Z"
   },
   {
    "duration": 4,
    "start_time": "2023-01-23T03:38:57.345Z"
   },
   {
    "duration": 2717,
    "start_time": "2023-01-23T03:38:59.836Z"
   },
   {
    "duration": 4,
    "start_time": "2023-01-23T03:39:26.610Z"
   },
   {
    "duration": 2213,
    "start_time": "2023-01-23T03:39:27.738Z"
   },
   {
    "duration": 3,
    "start_time": "2023-01-23T03:40:36.426Z"
   },
   {
    "duration": 3,
    "start_time": "2023-01-23T03:40:37.570Z"
   },
   {
    "duration": 3,
    "start_time": "2023-01-23T03:40:38.441Z"
   },
   {
    "duration": 3,
    "start_time": "2023-01-23T03:40:41.506Z"
   },
   {
    "duration": 2620,
    "start_time": "2023-01-23T03:40:42.529Z"
   },
   {
    "duration": 21383,
    "start_time": "2023-01-23T03:41:28.906Z"
   },
   {
    "duration": 634,
    "start_time": "2023-01-23T03:41:56.531Z"
   },
   {
    "duration": 1236,
    "start_time": "2023-01-23T03:42:22.722Z"
   },
   {
    "duration": 85956,
    "start_time": "2023-01-23T03:43:08.635Z"
   },
   {
    "duration": 68014,
    "start_time": "2023-01-23T03:45:34.313Z"
   },
   {
    "duration": 84598,
    "start_time": "2023-01-23T03:47:21.840Z"
   },
   {
    "duration": 3,
    "start_time": "2023-01-23T03:50:27.167Z"
   },
   {
    "duration": 3,
    "start_time": "2023-01-23T03:50:27.688Z"
   },
   {
    "duration": 2772,
    "start_time": "2023-01-23T03:50:32.479Z"
   },
   {
    "duration": 4,
    "start_time": "2023-01-23T03:51:44.503Z"
   },
   {
    "duration": 2,
    "start_time": "2023-01-23T03:51:46.209Z"
   },
   {
    "duration": 3,
    "start_time": "2023-01-23T03:51:47.150Z"
   },
   {
    "duration": 3,
    "start_time": "2023-01-23T03:52:03.225Z"
   },
   {
    "duration": 2484,
    "start_time": "2023-01-23T03:52:14.367Z"
   },
   {
    "duration": 84665,
    "start_time": "2023-01-23T03:52:30.560Z"
   },
   {
    "duration": 84284,
    "start_time": "2023-01-23T03:54:07.095Z"
   },
   {
    "duration": 11,
    "start_time": "2023-01-23T04:00:41.695Z"
   },
   {
    "duration": 13,
    "start_time": "2023-01-23T04:01:27.568Z"
   },
   {
    "duration": 12,
    "start_time": "2023-01-23T04:01:35.183Z"
   },
   {
    "duration": 22,
    "start_time": "2023-01-23T04:07:08.596Z"
   },
   {
    "duration": 3,
    "start_time": "2023-01-23T04:07:43.765Z"
   },
   {
    "duration": 9,
    "start_time": "2023-01-23T04:09:23.002Z"
   },
   {
    "duration": 4,
    "start_time": "2023-01-23T04:09:27.827Z"
   },
   {
    "duration": 3,
    "start_time": "2023-01-23T04:09:56.324Z"
   },
   {
    "duration": 6,
    "start_time": "2023-01-23T04:15:06.298Z"
   },
   {
    "duration": 2602,
    "start_time": "2023-01-23T04:16:12.847Z"
   },
   {
    "duration": 40835,
    "start_time": "2023-01-23T04:25:09.936Z"
   },
   {
    "duration": 15908,
    "start_time": "2023-01-23T04:26:01.664Z"
   },
   {
    "duration": 88,
    "start_time": "2023-01-23T04:26:53.094Z"
   },
   {
    "duration": 35743,
    "start_time": "2023-01-23T04:26:59.597Z"
   },
   {
    "duration": 226635,
    "start_time": "2023-01-23T04:27:44.942Z"
   },
   {
    "duration": 7082,
    "start_time": "2023-01-23T04:31:41.086Z"
   },
   {
    "duration": 2287083,
    "start_time": "2023-01-23T04:31:52.032Z"
   },
   {
    "duration": 65550,
    "start_time": "2023-01-23T05:16:40.009Z"
   },
   {
    "duration": 2297624,
    "start_time": "2023-01-23T05:17:48.898Z"
   },
   {
    "duration": 12,
    "start_time": "2023-01-23T05:59:18.620Z"
   },
   {
    "duration": 12,
    "start_time": "2023-01-23T06:00:22.802Z"
   },
   {
    "duration": 10,
    "start_time": "2023-01-23T06:01:02.497Z"
   },
   {
    "duration": 26107,
    "start_time": "2023-01-23T06:01:26.065Z"
   },
   {
    "duration": 9,
    "start_time": "2023-01-23T06:04:38.025Z"
   },
   {
    "duration": 1169,
    "start_time": "2023-01-23T06:12:37.738Z"
   },
   {
    "duration": 313,
    "start_time": "2023-01-23T06:12:38.910Z"
   },
   {
    "duration": 723,
    "start_time": "2023-01-23T06:12:39.225Z"
   },
   {
    "duration": 44,
    "start_time": "2023-01-23T06:12:39.950Z"
   },
   {
    "duration": 32,
    "start_time": "2023-01-23T06:12:39.996Z"
   },
   {
    "duration": 228,
    "start_time": "2023-01-23T06:12:40.049Z"
   },
   {
    "duration": 4,
    "start_time": "2023-01-23T06:12:40.279Z"
   },
   {
    "duration": 84,
    "start_time": "2023-01-23T06:12:40.284Z"
   },
   {
    "duration": 27,
    "start_time": "2023-01-23T06:12:40.371Z"
   },
   {
    "duration": 73,
    "start_time": "2023-01-23T06:12:40.400Z"
   },
   {
    "duration": 7,
    "start_time": "2023-01-23T06:12:40.474Z"
   },
   {
    "duration": 8,
    "start_time": "2023-01-23T06:12:40.482Z"
   },
   {
    "duration": 10,
    "start_time": "2023-01-23T06:12:40.491Z"
   },
   {
    "duration": 9,
    "start_time": "2023-01-23T06:12:40.502Z"
   },
   {
    "duration": 942,
    "start_time": "2023-01-23T06:12:40.512Z"
   },
   {
    "duration": 828,
    "start_time": "2023-01-23T06:12:41.456Z"
   },
   {
    "duration": 941,
    "start_time": "2023-01-23T06:12:42.286Z"
   },
   {
    "duration": 818,
    "start_time": "2023-01-23T06:12:43.228Z"
   },
   {
    "duration": 948,
    "start_time": "2023-01-23T06:12:44.048Z"
   },
   {
    "duration": 863,
    "start_time": "2023-01-23T06:12:44.998Z"
   },
   {
    "duration": 5,
    "start_time": "2023-01-23T06:12:45.863Z"
   },
   {
    "duration": 90,
    "start_time": "2023-01-23T06:12:45.869Z"
   },
   {
    "duration": 5,
    "start_time": "2023-01-23T06:12:45.961Z"
   },
   {
    "duration": 7,
    "start_time": "2023-01-23T06:12:45.967Z"
   },
   {
    "duration": 9,
    "start_time": "2023-01-23T06:12:45.975Z"
   },
   {
    "duration": 577,
    "start_time": "2023-01-23T06:12:45.985Z"
   },
   {
    "duration": 386,
    "start_time": "2023-01-23T06:12:46.564Z"
   },
   {
    "duration": 10,
    "start_time": "2023-01-23T06:12:46.954Z"
   },
   {
    "duration": 1188,
    "start_time": "2023-01-23T06:12:46.965Z"
   },
   {
    "duration": 15,
    "start_time": "2023-01-23T06:12:48.155Z"
   },
   {
    "duration": 15,
    "start_time": "2023-01-23T06:12:48.172Z"
   },
   {
    "duration": 5,
    "start_time": "2023-01-23T06:12:48.189Z"
   },
   {
    "duration": 8,
    "start_time": "2023-01-23T06:12:48.196Z"
   },
   {
    "duration": 5,
    "start_time": "2023-01-23T06:12:48.205Z"
   },
   {
    "duration": 6,
    "start_time": "2023-01-23T06:12:48.211Z"
   },
   {
    "duration": 6,
    "start_time": "2023-01-23T06:12:48.218Z"
   },
   {
    "duration": 5523,
    "start_time": "2023-01-23T06:12:48.225Z"
   },
   {
    "duration": 92437,
    "start_time": "2023-01-23T06:12:53.750Z"
   },
   {
    "duration": 611076,
    "start_time": "2023-01-23T06:14:26.189Z"
   },
   {
    "duration": 5,
    "start_time": "2023-01-23T06:24:37.267Z"
   },
   {
    "duration": 18373,
    "start_time": "2023-01-23T06:24:37.274Z"
   },
   {
    "duration": 7,
    "start_time": "2023-01-23T06:24:55.649Z"
   },
   {
    "duration": 51,
    "start_time": "2023-01-23T06:24:55.658Z"
   },
   {
    "duration": 26,
    "start_time": "2023-01-23T06:24:55.711Z"
   },
   {
    "duration": 8,
    "start_time": "2023-01-23T06:24:55.739Z"
   },
   {
    "duration": 29,
    "start_time": "2023-01-23T06:24:55.749Z"
   },
   {
    "duration": 35,
    "start_time": "2023-01-23T10:03:11.274Z"
   },
   {
    "duration": 1090,
    "start_time": "2023-08-28T23:43:27.230Z"
   },
   {
    "duration": 331,
    "start_time": "2023-08-28T23:43:28.322Z"
   },
   {
    "duration": 1905,
    "start_time": "2023-08-28T23:43:28.655Z"
   },
   {
    "duration": 47,
    "start_time": "2023-08-28T23:43:30.563Z"
   },
   {
    "duration": 33,
    "start_time": "2023-08-28T23:43:30.612Z"
   },
   {
    "duration": 292,
    "start_time": "2023-08-28T23:43:30.647Z"
   },
   {
    "duration": 5,
    "start_time": "2023-08-28T23:43:30.941Z"
   },
   {
    "duration": 142,
    "start_time": "2023-08-28T23:43:30.948Z"
   },
   {
    "duration": 33,
    "start_time": "2023-08-28T23:43:31.092Z"
   },
   {
    "duration": 110,
    "start_time": "2023-08-28T23:43:31.127Z"
   },
   {
    "duration": 8,
    "start_time": "2023-08-28T23:43:31.239Z"
   },
   {
    "duration": 46,
    "start_time": "2023-08-28T23:43:31.248Z"
   },
   {
    "duration": 39,
    "start_time": "2023-08-28T23:43:31.296Z"
   },
   {
    "duration": 39,
    "start_time": "2023-08-28T23:43:31.340Z"
   },
   {
    "duration": 953,
    "start_time": "2023-08-28T23:43:31.381Z"
   },
   {
    "duration": 795,
    "start_time": "2023-08-28T23:43:32.336Z"
   },
   {
    "duration": 914,
    "start_time": "2023-08-28T23:43:33.133Z"
   },
   {
    "duration": 770,
    "start_time": "2023-08-28T23:43:34.049Z"
   },
   {
    "duration": 907,
    "start_time": "2023-08-28T23:43:34.821Z"
   },
   {
    "duration": 790,
    "start_time": "2023-08-28T23:43:35.729Z"
   },
   {
    "duration": 3,
    "start_time": "2023-08-28T23:43:36.521Z"
   },
   {
    "duration": 80,
    "start_time": "2023-08-28T23:43:36.526Z"
   },
   {
    "duration": 3,
    "start_time": "2023-08-28T23:43:36.608Z"
   },
   {
    "duration": 13,
    "start_time": "2023-08-28T23:43:36.613Z"
   },
   {
    "duration": 6,
    "start_time": "2023-08-28T23:43:36.627Z"
   },
   {
    "duration": 519,
    "start_time": "2023-08-28T23:43:36.635Z"
   },
   {
    "duration": 412,
    "start_time": "2023-08-28T23:43:37.155Z"
   },
   {
    "duration": 8,
    "start_time": "2023-08-28T23:43:37.569Z"
   },
   {
    "duration": 1105,
    "start_time": "2023-08-28T23:43:37.578Z"
   },
   {
    "duration": 14,
    "start_time": "2023-08-28T23:43:38.684Z"
   },
   {
    "duration": 20,
    "start_time": "2023-08-28T23:43:38.699Z"
   },
   {
    "duration": 14,
    "start_time": "2023-08-28T23:43:38.721Z"
   },
   {
    "duration": 12,
    "start_time": "2023-08-28T23:43:38.736Z"
   },
   {
    "duration": 23,
    "start_time": "2023-08-28T23:43:38.749Z"
   },
   {
    "duration": 13,
    "start_time": "2023-08-28T23:43:38.774Z"
   },
   {
    "duration": 7,
    "start_time": "2023-08-28T23:43:38.788Z"
   },
   {
    "duration": 2877,
    "start_time": "2023-08-28T23:43:38.796Z"
   },
   {
    "duration": 84904,
    "start_time": "2023-08-28T23:43:41.676Z"
   },
   {
    "duration": 558587,
    "start_time": "2023-08-28T23:45:06.582Z"
   },
   {
    "duration": 6,
    "start_time": "2023-08-28T23:54:25.172Z"
   },
   {
    "duration": 16651,
    "start_time": "2023-08-28T23:54:25.183Z"
   },
   {
    "duration": 7,
    "start_time": "2023-08-28T23:54:41.836Z"
   },
   {
    "duration": 8,
    "start_time": "2023-08-28T23:54:41.844Z"
   },
   {
    "duration": 14,
    "start_time": "2023-08-28T23:54:41.853Z"
   },
   {
    "duration": 3,
    "start_time": "2023-08-28T23:54:41.869Z"
   },
   {
    "duration": 11,
    "start_time": "2023-08-28T23:54:41.873Z"
   }
  ],
  "kernelspec": {
   "display_name": "Python 3 (ipykernel)",
   "language": "python",
   "name": "python3"
  },
  "language_info": {
   "codemirror_mode": {
    "name": "ipython",
    "version": 3
   },
   "file_extension": ".py",
   "mimetype": "text/x-python",
   "name": "python",
   "nbconvert_exporter": "python",
   "pygments_lexer": "ipython3",
   "version": "3.9.5"
  },
  "toc": {
   "base_numbering": 1,
   "nav_menu": {},
   "number_sections": true,
   "sideBar": true,
   "skip_h1_title": true,
   "title_cell": "Содержание",
   "title_sidebar": "Contents",
   "toc_cell": true,
   "toc_position": {
    "height": "calc(100% - 180px)",
    "left": "10px",
    "top": "150px",
    "width": "241.4px"
   },
   "toc_section_display": true,
   "toc_window_display": true
  }
 },
 "nbformat": 4,
 "nbformat_minor": 2
}
